{
 "cells": [
  {
   "cell_type": "markdown",
   "id": "92a1ae61",
   "metadata": {},
   "source": [
    "# Summary\n",
    "\n",
    "Training the iris data:\n",
    "- Split the dataset into train set and test set: 80% train, 20% test\n",
    "- Training without regularization\n",
    "- Using regularization in training function\n",
    "- Compare and give the conclusion\n"
   ]
  },
  {
   "cell_type": "markdown",
   "id": "920e5a51",
   "metadata": {},
   "source": [
    "[L2 regularization](https://developers.google.com/machine-learning/glossary#l2-regularization)\n",
    "\n",
    "A type of regularization that **penalizes** weights in proportion to the sum of the squares of the weights. L2 regularization helps drive outlier weights (those with high positive or low negative values) closer to 0 but _not quite_ to 0. Features with values very close to 0 remain in the model but don't influence the model's prediction very much.\n",
    "\n",
    "L2 regularization always improves **generalization** in **linear models**.\n",
    "\n",
    "Contrast with L1 regularization."
   ]
  },
  {
   "cell_type": "markdown",
   "id": "6d094cbc",
   "metadata": {},
   "source": [
    "### Import libraries and load data"
   ]
  },
  {
   "cell_type": "code",
   "execution_count": 65,
   "id": "5cb974a1",
   "metadata": {},
   "outputs": [
    {
     "name": "stdout",
     "output_type": "stream",
     "text": [
      "[5.1 4.9 4.7 4.6 5. ]\n",
      "[[1.4 0.2]\n",
      " [1.4 0.2]\n",
      " [1.3 0.2]\n",
      " [1.5 0.2]\n",
      " [1.4 0.2]]\n",
      "N_train = 40\n",
      "X_train shape = (40, 2)\n",
      "X_test shape = (10, 2)\n",
      "y_train shape = (40,)\n",
      "y_test shape = (10,)\n"
     ]
    }
   ],
   "source": [
    "import numpy as np\n",
    "import matplotlib.pyplot as plt\n",
    "import random\n",
    "\n",
    "from sklearn.model_selection import train_test_split\n",
    "\n",
    "data = np.genfromtxt('../data/iris_regression.csv', delimiter=',', skip_header=1)\n",
    "\n",
    "# get sepal (target - label)\n",
    "sepal = data[:, 2]\n",
    "print(sepal[:5])\n",
    "\n",
    "# get all features\n",
    "features = data [:, :2]\n",
    "print(features[:5])\n",
    "\n",
    "\n",
    "X_train, X_test, y_train, y_test = train_test_split(features, sepal, test_size=0.2, random_state=42)\n",
    "N_train = len(y_train)\n",
    "\n",
    "print(f\"N_train = {N_train}\")\n",
    "print(f\"X_train shape = {X_train.shape}\")\n",
    "print(f\"X_test shape = {X_test.shape}\")\n",
    "print(f\"y_train shape = {y_train.shape}\")\n",
    "print(f\"y_test shape = {y_test.shape}\")"
   ]
  },
  {
   "cell_type": "markdown",
   "id": "081f00fa",
   "metadata": {},
   "source": [
    "## Without Regularization "
   ]
  },
  {
   "cell_type": "markdown",
   "id": "ec17deb4",
   "metadata": {},
   "source": [
    "### Training process"
   ]
  },
  {
   "cell_type": "code",
   "execution_count": 42,
   "id": "f75771a2",
   "metadata": {},
   "outputs": [],
   "source": [
    "# compute output and loss\n",
    "def predict(x1, x2, w1, w2, b):\n",
    "    return w1*x1 + w2*x2 + b\n",
    "\n",
    "def compute_loss(y_hat, y):\n",
    "    return (y_hat - y)**2\n",
    "\n",
    "# compute gradient\n",
    "def compute_gradient_wi(xi, y, y_hat):\n",
    "    dl_dwi = 2*xi*(y_hat-y)\n",
    "    return dl_dwi\n",
    "\n",
    "def compute_gradient_b(y, y_hat):\n",
    "    dl_db = 2*(y_hat-y)\n",
    "    return dl_db\n",
    "\n",
    "# update weights\n",
    "def update_weight_wi(wi, dl_dwi, lr):\n",
    "    wi = wi - lr*dl_dwi\n",
    "    return wi\n",
    "\n",
    "def update_weight_b(b, dl_db, lr):\n",
    "    b  = b - lr*dl_db\n",
    "    return b"
   ]
  },
  {
   "cell_type": "code",
   "execution_count": 43,
   "id": "4438c723",
   "metadata": {},
   "outputs": [
    {
     "name": "stdout",
     "output_type": "stream",
     "text": [
      "5.0 -3.0 0.0\n"
     ]
    }
   ],
   "source": [
    "# initialize model's parameters\n",
    "w1, w2, b = 5.0, -3.0, 0.0\n",
    "print(w1, w2, b)"
   ]
  },
  {
   "cell_type": "code",
   "execution_count": 49,
   "id": "9c33744c",
   "metadata": {},
   "outputs": [
    {
     "name": "stdout",
     "output_type": "stream",
     "text": [
      "4.2857151207453805 -3.109889981423779 -0.5494499071189023\n"
     ]
    }
   ],
   "source": [
    "epoch_max = 5000\n",
    "lr = 0.01\n",
    "losses = []\n",
    "\n",
    "for epoch in range(epoch_max):\n",
    "    # some variables\n",
    "    loss_total = 0.0\n",
    "\n",
    "    dw1_total = 0.0\n",
    "    dw2_total = 0.0\n",
    "    db_total  = 0.0\n",
    "\n",
    "    for i in range(N_train):\n",
    "        # get a sample\n",
    "        x1 = X_train[i, 0] # column 1\n",
    "        x2 = X_train[i, 1] # column 2\n",
    "        y  = y_train[i] # label\n",
    "\n",
    "        # compute output\n",
    "        y_hat = predict(x1, x2, w1, w2, b)\n",
    "\n",
    "        # compute loss\n",
    "        loss = compute_loss(y, y_hat)\n",
    "        loss_total = loss_total + loss\n",
    "\n",
    "        # compute gradient w1, w2, w3, b\n",
    "        dl_dw1 = compute_gradient_wi(x1, y, y_hat)\n",
    "        dl_dw2 = compute_gradient_wi(x2, y, y_hat)\n",
    "        dl_db  = compute_gradient_b(y, y_hat)\n",
    "\n",
    "        # accumulate\n",
    "        dw1_total = dw1_total + dl_dw1\n",
    "        dw2_total = dw2_total + dl_dw2\n",
    "        db_total = db_total + dl_db\n",
    "\n",
    "\n",
    "    # (after processing N samples) - update parameters\n",
    "    w1 = update_weight_wi(w1, dl_dw1 / N_train, lr)\n",
    "    w2 = update_weight_wi(w2, dl_dw2 / N_train, lr)\n",
    "    b  = update_weight_b(b, dl_db / N_train, lr)\n",
    "\n",
    "    # logging\n",
    "    losses.append(loss_total / N_train)\n",
    "\n",
    "# after training\n",
    "print(w1, w2, b)"
   ]
  },
  {
   "cell_type": "code",
   "execution_count": 45,
   "id": "9ba71477",
   "metadata": {},
   "outputs": [
    {
     "data": {
      "image/png": "[encoded data removed]",
      "text/plain": [
       "<Figure size 640x480 with 1 Axes>"
      ]
     },
     "metadata": {},
     "output_type": "display_data"
    }
   ],
   "source": [
    "plt.plot(losses)\n",
    "plt.show()"
   ]
  },
  {
   "cell_type": "markdown",
   "id": "d858a02c",
   "metadata": {},
   "source": [
    "### Evaluation\n",
    "Compute prediction and MSE for train and test model"
   ]
  },
  {
   "cell_type": "code",
   "execution_count": 54,
   "id": "b9403b33",
   "metadata": {},
   "outputs": [
    {
     "name": "stdout",
     "output_type": "stream",
     "text": [
      "mse_train_loss = 0.6410436629713822\n",
      "mse_test_loss = 0.2062502900099929\n"
     ]
    }
   ],
   "source": [
    "y_train_predict = []\n",
    "for i in range(len(X_train)):\n",
    "    x1 = X_train[i, 0] # column 1\n",
    "    x2 = X_train[i, 1] # column 2\n",
    "    y_hat = predict(x1, x2, w1, w2, b)\n",
    "    y_train_predict.append(y_hat)\n",
    "    # y_train: label\n",
    "\n",
    "mse_train_loss = np.mean(compute_loss(y_hat=np.array(y_train_predict), y=y_train))\n",
    "print(f\"mse_train_loss = {mse_train_loss}\")\n",
    "\n",
    "y_test_predict = []\n",
    "for i in range(len(X_test)):\n",
    "    x1_test = X_test[i, 0] # column 1\n",
    "    x2_test = X_test[i, 1] # column 2\n",
    "    y_hat = predict(x1_test, x2_test, w1, w2, b)\n",
    "    y_test_predict.append(y_hat)\n",
    "    # y_test: label\n",
    "mse_test_loss = np.mean(compute_loss(y_hat=np.array(y_test_predict), y=y_test))\n",
    "print(f\"mse_test_loss = {mse_test_loss}\")"
   ]
  },
  {
   "cell_type": "markdown",
   "id": "996dacce",
   "metadata": {},
   "source": [
    "## Regularization"
   ]
  },
  {
   "cell_type": "markdown",
   "id": "2a11947f",
   "metadata": {},
   "source": [
    "### Training process"
   ]
  },
  {
   "cell_type": "code",
   "execution_count": 66,
   "id": "2f371492",
   "metadata": {},
   "outputs": [],
   "source": [
    "#lambda regularization l2\n",
    "lambda_l2 = 0.03\n",
    "\n",
    "# compute output and loss\n",
    "def predict(x1, x2, w1, w2, b):\n",
    "    return w1*x1 + w2*x2 + b\n",
    "\n",
    "def compute_loss(y_hat, y, w1, w2, lambda_l2 = 0.03):\n",
    "    return (y_hat - y)**2 + lambda_l2 * (w1**2 + w2**2)\n",
    "\n",
    "# compute gradient\n",
    "def compute_gradient_wi(xi, y, y_hat, wi, lambda_l2 = 0.03):\n",
    "    dl_dwi = 2*xi*(y_hat-y) + 2 * lambda_l2 * wi\n",
    "    return dl_dwi\n",
    "\n",
    "def compute_gradient_b(y, y_hat):\n",
    "    dl_db = 2*(y_hat-y)\n",
    "    return dl_db\n",
    "\n",
    "# update weights\n",
    "def update_weight_wi(wi, dl_dwi, lr):\n",
    "    wi = wi - lr*dl_dwi\n",
    "    return wi\n",
    "\n",
    "def update_weight_b(b, dl_db, lr):\n",
    "    b  = b - lr*dl_db\n",
    "    return b"
   ]
  },
  {
   "cell_type": "code",
   "execution_count": 67,
   "id": "dde77155",
   "metadata": {},
   "outputs": [
    {
     "name": "stdout",
     "output_type": "stream",
     "text": [
      "5.0 -3.0 0.0\n"
     ]
    }
   ],
   "source": [
    "# initialize model's parameters\n",
    "w1, w2, b = 5.0, -3.0, 0.0\n",
    "print(w1, w2, b)"
   ]
  },
  {
   "cell_type": "code",
   "execution_count": 68,
   "id": "edd34bd3",
   "metadata": {},
   "outputs": [
    {
     "name": "stdout",
     "output_type": "stream",
     "text": [
      "2.264920305436631 -0.4925703257969943 1.5227187239097226\n"
     ]
    }
   ],
   "source": [
    "epoch_max = 100000\n",
    "lr = 0.01\n",
    "losses = []\n",
    "\n",
    "for epoch in range(epoch_max):\n",
    "    # some variables\n",
    "    loss_total = 0.0\n",
    "\n",
    "    dw1_total = 0.0\n",
    "    dw2_total = 0.0\n",
    "    db_total  = 0.0\n",
    "\n",
    "    for i in range(N_train):\n",
    "        # get a sample\n",
    "        x1 = X_train[i, 0]\n",
    "        x2 = X_train[i, 1]\n",
    "        y  = y_train[i]\n",
    "\n",
    "        # compute output\n",
    "        y_hat = predict(x1, x2, w1, w2, b)\n",
    "\n",
    "        # compute loss\n",
    "        loss = compute_loss(y, y_hat, w1, w2, lambda_l2)\n",
    "        loss_total = loss_total + loss\n",
    "\n",
    "        # compute gradient w1, w2, w3, b\n",
    "        dl_dw1 = compute_gradient_wi(x1, y, y_hat, w1, lambda_l2)\n",
    "        dl_dw2 = compute_gradient_wi(x2, y, y_hat, w2, lambda_l2)\n",
    "        dl_db  = compute_gradient_b(y, y_hat)\n",
    "\n",
    "        # accumulate\n",
    "        dw1_total = dw1_total + dl_dw1\n",
    "        dw2_total = dw2_total + dl_dw2\n",
    "        db_total = db_total + dl_db\n",
    "\n",
    "\n",
    "    # (after processing N samples) - update parameters\n",
    "    w1 = update_weight_wi(w1, dl_dw1/N_train, lr)\n",
    "    w2 = update_weight_wi(w2, dl_dw2/N_train, lr)\n",
    "    b  = update_weight_b(b, dl_db/N_train, lr)\n",
    "\n",
    "    # logging\n",
    "    losses.append(loss_total/N_train)\n",
    "\n",
    "# after training\n",
    "print(w1, w2, b)"
   ]
  },
  {
   "cell_type": "code",
   "execution_count": 70,
   "id": "e5a085b9",
   "metadata": {},
   "outputs": [
    {
     "data": {
      "image/png": "[encoded data removed]",
      "text/plain": [
       "<Figure size 640x480 with 1 Axes>"
      ]
     },
     "metadata": {},
     "output_type": "display_data"
    }
   ],
   "source": [
    "plt.plot(losses)\n",
    "plt.show()"
   ]
  },
  {
   "cell_type": "markdown",
   "id": "18e9e30b",
   "metadata": {},
   "source": [
    "### Evaluation\n",
    "Compute prediction and MSE for train and test model"
   ]
  },
  {
   "cell_type": "code",
   "execution_count": 74,
   "id": "deb770ac",
   "metadata": {},
   "outputs": [
    {
     "name": "stdout",
     "output_type": "stream",
     "text": [
      "mse_train_loss = 0.32900680836860535\n",
      "mse_test_loss = 0.10725133966503453\n"
     ]
    }
   ],
   "source": [
    "y_train_predict = []\n",
    "for i in range(len(y_train)):\n",
    "    x1 = X_train[i, 0] # column 1\n",
    "    x2 = X_train[i, 1] # column 2\n",
    "    y_hat = predict(x1, x2, w1, w2, b)\n",
    "    y_train_predict.append(y_hat)\n",
    "    # y_train: label\n",
    "mse_train_loss = np.mean((np.array(y_train_predict) - y_train) ** 2)\n",
    "print(f\"mse_train_loss = {mse_train_loss}\")\n",
    "\n",
    "y_test_predict = []\n",
    "for i in range(len(X_test)):\n",
    "    x1_test = X_test[:, 0] # column 1\n",
    "    x2_test = X_test[:, 1] # column 2\n",
    "    y_hat = predict(x1_test, x2_test, w1, w2, b)\n",
    "    y_test_predict.append(y_hat)\n",
    "    # y_test: label\n",
    "mse_test_loss = np.mean((np.array(y_test_predict) - y_test) ** 2)\n",
    "print(f\"mse_test_loss = {mse_test_loss}\")"
   ]
  },
  {
   "cell_type": "markdown",
   "id": "a62ff4e7",
   "metadata": {},
   "source": [
    "## Conclusion"
   ]
  },
  {
   "cell_type": "markdown",
   "id": "f148ac1f",
   "metadata": {},
   "source": [
    "Loss reduce more when using regularization"
   ]
  }
 ],
 "metadata": {
  "kernelspec": {
   "display_name": "ds_env",
   "language": "python",
   "name": "python3"
  },
  "language_info": {
   "codemirror_mode": {
    "name": "ipython",
    "version": 3
   },
   "file_extension": ".py",
   "mimetype": "text/x-python",
   "name": "python",
   "nbconvert_exporter": "python",
   "pygments_lexer": "ipython3",
   "version": "3.11.13"
  }
 },
 "nbformat": 4,
 "nbformat_minor": 5
}
