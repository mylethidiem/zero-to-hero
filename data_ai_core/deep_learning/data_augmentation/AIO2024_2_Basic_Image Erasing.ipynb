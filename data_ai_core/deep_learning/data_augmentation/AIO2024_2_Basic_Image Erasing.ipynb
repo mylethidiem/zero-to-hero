{
 "cells": [
  {
   "cell_type": "markdown",
   "metadata": {
    "id": "t4JiV3MQzObr"
   },
   "source": [
    "## Cutout and Random Erasing"
   ]
  },
  {
   "cell_type": "markdown",
   "metadata": {
    "id": "mHriKEly4jPN"
   },
   "source": [
    "## Hide-and-Seek"
   ]
  }
 ],
 "metadata": {
  "colab": {
   "authorship_tag": "ABX9TyOVyFT1qisqfjHtzUzuWVoo",
   "provenance": []
  },
  "kernelspec": {
   "display_name": "Python 3",
   "name": "python3"
  },
  "language_info": {
   "name": "python"
  }
 },
 "nbformat": 4,
 "nbformat_minor": 0
}
