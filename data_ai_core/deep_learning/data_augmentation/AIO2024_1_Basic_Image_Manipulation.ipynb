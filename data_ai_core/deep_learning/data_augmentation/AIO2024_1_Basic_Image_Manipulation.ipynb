{
 "cells": [
  {
   "cell_type": "markdown",
   "metadata": {
    "id": "t4JiV3MQzObr"
   },
   "source": [
    "## Rotation"
   ]
  },
  {
   "cell_type": "markdown",
   "metadata": {
    "id": "mHriKEly4jPN"
   },
   "source": [
    "## Translation"
   ]
  },
  {
   "cell_type": "markdown",
   "metadata": {
    "id": "waATH4U28gUs"
   },
   "source": [
    "## Shearing"
   ]
  },
  {
   "cell_type": "markdown",
   "metadata": {
    "id": "wsDyJnMH_MBK"
   },
   "source": [
    "## Flip"
   ]
  },
  {
   "cell_type": "markdown",
   "metadata": {
    "id": "j-vX0dss46O8"
   },
   "source": [
    "## Cropping and resizing"
   ]
  },
  {
   "cell_type": "markdown",
   "metadata": {
    "id": "M8Kk64Qu-N92"
   },
   "source": [
    "## Noise Injection"
   ]
  },
  {
   "cell_type": "markdown",
   "metadata": {
    "id": "d_EB0qZVBGlL"
   },
   "source": [
    "## Color Space"
   ]
  },
  {
   "cell_type": "markdown",
   "metadata": {
    "id": "P6YZYCeUCOsp"
   },
   "source": [
    "## Color Jitter"
   ]
  }
 ],
 "metadata": {
  "colab": {
   "authorship_tag": "ABX9TyMr6S78S9nzjrIKCrm+262y",
   "provenance": []
  },
  "kernelspec": {
   "display_name": "Python 3",
   "name": "python3"
  },
  "language_info": {
   "name": "python"
  }
 },
 "nbformat": 4,
 "nbformat_minor": 0
}
