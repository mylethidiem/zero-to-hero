{
  "cells": [
    {
      "cell_type": "markdown",
      "metadata": {
        "id": "view-in-github",
        "colab_type": "text"
      },
      "source": [
        "<a href=\"https://colab.research.google.com/github/mylethidiem/ProgramingTech/blob/main/preAIO25/warmup/lesson_w4_streamlit.ipynb\" target=\"_parent\"><img src=\"https://colab.research.google.com/assets/colab-badge.svg\" alt=\"Open In Colab\"/></a>"
      ]
    },
    {
      "cell_type": "markdown",
      "source": [
        "#**Count**"
      ],
      "metadata": {
        "id": "obS4dXinp7UN"
      }
    },
    {
      "cell_type": "code",
      "execution_count": null,
      "metadata": {
        "id": "XqnpspqpbcIV",
        "colab": {
          "base_uri": "https://localhost:8080/"
        },
        "outputId": "b8916a6b-1ce2-42cd-9726-c0d82aebd0bb"
      },
      "outputs": [
        {
          "output_type": "stream",
          "name": "stdout",
          "text": [
            "The number 5 appears 4 times in the list.\n"
          ]
        }
      ],
      "source": [
        "# prompt: create a list data and count number 5 in this list\n",
        "\n",
        "data = [1, 2, 3, 4, 5, 5, 6, 7, 5, 8, 9, 10, 5]\n",
        "count_of_5 = data.count(5)\n",
        "print(f\"The number 5 appears {count_of_5} times in the list.\")"
      ]
    },
    {
      "cell_type": "markdown",
      "source": [
        "#**Basic streamlit**"
      ],
      "metadata": {
        "id": "luhHxDNYqZQx"
      }
    },
    {
      "cell_type": "code",
      "execution_count": 5,
      "metadata": {
        "id": "LsBub0EfvtTy",
        "colab": {
          "base_uri": "https://localhost:8080/"
        },
        "outputId": "e199d098-8982-46f9-cb5b-8cdc47e466ea"
      },
      "outputs": [
        {
          "output_type": "stream",
          "name": "stdout",
          "text": [
            "\u001b[2K     \u001b[90m━━━━━━━━━━━━━━━━━━━━━━━━━━━━━━━━━━━━━━━━\u001b[0m \u001b[32m44.3/44.3 kB\u001b[0m \u001b[31m1.5 MB/s\u001b[0m eta \u001b[36m0:00:00\u001b[0m\n",
            "\u001b[2K   \u001b[90m━━━━━━━━━━━━━━━━━━━━━━━━━━━━━━━━━━━━━━━━\u001b[0m \u001b[32m9.1/9.1 MB\u001b[0m \u001b[31m43.4 MB/s\u001b[0m eta \u001b[36m0:00:00\u001b[0m\n",
            "\u001b[2K   \u001b[90m━━━━━━━━━━━━━━━━━━━━━━━━━━━━━━━━━━━━━━━━\u001b[0m \u001b[32m6.9/6.9 MB\u001b[0m \u001b[31m56.9 MB/s\u001b[0m eta \u001b[36m0:00:00\u001b[0m\n",
            "\u001b[2K   \u001b[90m━━━━━━━━━━━━━━━━━━━━━━━━━━━━━━━━━━━━━━━━\u001b[0m \u001b[32m79.1/79.1 kB\u001b[0m \u001b[31m5.2 MB/s\u001b[0m eta \u001b[36m0:00:00\u001b[0m\n",
            "\u001b[?25h"
          ]
        }
      ],
      "source": [
        "# q: quiet\n",
        "!pip install -q streamlit==1.41.1"
      ]
    },
    {
      "cell_type": "code",
      "execution_count": 6,
      "metadata": {
        "colab": {
          "base_uri": "https://localhost:8080/"
        },
        "id": "JG3k13yo2S4K",
        "outputId": "bdb19481-7844-438e-f0f0-9ec5c4a1231f"
      },
      "outputs": [
        {
          "output_type": "stream",
          "name": "stdout",
          "text": [
            "{\"id\":\"banhmuytunnelpassword\",\"port\":14015,\"max_conn_count\":10,\"url\":\"https://banhmuytunnelpassword.loca.lt\"}"
          ]
        }
      ],
      "source": [
        "# get your password\n",
        "!wget -q -O - https://loca.lt/banhmuytunnelpassword\n",
        "\n",
        "#!curl  https://loca.lt/banhmuytunnelpassword"
      ]
    },
    {
      "cell_type": "code",
      "execution_count": null,
      "metadata": {
        "id": "kxeNVvel2QHC",
        "colab": {
          "base_uri": "https://localhost:8080/"
        },
        "outputId": "4101286e-ca79-4198-f55e-f8f474f56e31"
      },
      "outputs": [
        {
          "output_type": "stream",
          "name": "stdout",
          "text": [
            "Writing demo.py\n"
          ]
        }
      ],
      "source": [
        "# prepare file demo.py 34.48.95.149:8501\n",
        "%%writefile demo.py\n",
        "import streamlit as st\n",
        "st.write(\"Hello World\")"
      ]
    },
    {
      "cell_type": "code",
      "source": [
        "# overwriting demo.py\n",
        "# run streamlit through port:8501\n",
        "!streamlit run demo.py & npx localtunnel --port 8501"
      ],
      "metadata": {
        "colab": {
          "base_uri": "https://localhost:8080/"
        },
        "id": "Xc4hn_FprZ8s",
        "outputId": "89583fd4-68b5-4a0e-dbd0-75748ebf57d5"
      },
      "execution_count": null,
      "outputs": [
        {
          "output_type": "stream",
          "name": "stdout",
          "text": [
            "\u001b[1G\u001b[0K⠙\n",
            "Collecting usage statistics. To deactivate, set browser.gatherUsageStats to false.\n",
            "\u001b[0m\n",
            "\u001b[1G\u001b[0K⠹\u001b[1G\u001b[0K⠸\u001b[1G\u001b[0K⠼\u001b[1G\u001b[0K⠴\u001b[1G\u001b[0K⠦\u001b[1G\u001b[0K⠧\u001b[1G\u001b[0K⠇\u001b[1G\u001b[0K\u001b[1G\u001b[0JNeed to install the following packages:\n",
            "localtunnel@2.0.2\n",
            "Ok to proceed? (y) \u001b[20G\u001b[0m\n",
            "\u001b[34m\u001b[1m  You can now view your Streamlit app in your browser.\u001b[0m\n",
            "\u001b[0m\n",
            "\u001b[34m  Local URL: \u001b[0m\u001b[1mhttp://localhost:8501\u001b[0m\n",
            "\u001b[34m  Network URL: \u001b[0m\u001b[1mhttp://172.28.0.12:8501\u001b[0m\n",
            "\u001b[34m  External URL: \u001b[0m\u001b[1mhttp://35.197.9.24:8501\u001b[0m\n",
            "\u001b[0m\n",
            "\u001b[34m  Stopping...\u001b[0m\n",
            "^C\n"
          ]
        }
      ]
    },
    {
      "cell_type": "markdown",
      "source": [
        "# Creating base on streamlit0"
      ],
      "metadata": {
        "id": "zPS5tFvfzZAY"
      }
    },
    {
      "cell_type": "code",
      "source": [
        "#download image\n",
        "!gdown 1Wusjqpr7xmSl5muHPkyBTpOCVtJI-avQ"
      ],
      "metadata": {
        "colab": {
          "base_uri": "https://localhost:8080/"
        },
        "id": "lOi9XY8brupu",
        "outputId": "9092ddfe-33ca-451c-a98e-9905fffc2ce1"
      },
      "execution_count": null,
      "outputs": [
        {
          "output_type": "stream",
          "name": "stdout",
          "text": [
            "Downloading...\n",
            "From: https://drive.google.com/uc?id=1Wusjqpr7xmSl5muHPkyBTpOCVtJI-avQ\n",
            "To: /content/Theme.jpeg\n",
            "\r  0% 0.00/161k [00:00<?, ?B/s]\r100% 161k/161k [00:00<00:00, 66.7MB/s]\n"
          ]
        }
      ]
    },
    {
      "cell_type": "code",
      "source": [
        "#create basic app.py\n",
        "%%writefile app.py\n",
        "import streamlit as st\n",
        "\n",
        "# Text elements\n",
        "st.title(\"1) Basic text elements\")\n",
        "st.header(\"Comfortable and fun\")\n",
        "st.subheader(\"Keep moving forward\")\n",
        "st.text(\"patience, perseverance\")\n",
        "\n",
        "# Display string formatted as Markdown\n",
        "st.markdown(\"2) Display string formatted as markdown\")\n",
        "st.markdown(\"Streamlit is **_really_ cool** :+1:\")\n",
        "st.markdown(\"I'm study AI :red[colored red], and this is **:blue[colored]** and bold!\")\n",
        "st.markdown(\"\"\"\n",
        "Important: remember learning english!\n",
        " 1. Machine Learning\n",
        " 2. Deep Learning\n",
        "\"\"\")\n",
        "st.markdown(r\"$\\sqrt{x^2+y^2}=1$\")\n",
        "\n",
        "#display mathematical expressions formatted as LaTeX\n",
        "st.divider() #?\n",
        "st.latex(r'''3) Display mathematical expressions formatted as LaTeX \\\\\n",
        "Simoid: \\\\\n",
        "y = \\frac{1}{1+e^{-x}}''')\n",
        "\n",
        "# Display a code block with optional syntax highlighting\n",
        "st.divider()\n",
        "st.write(\"4) Display a code block with optional syntax highlighting\")\n",
        "\n",
        "st.code(\"\"\"\n",
        "    import streamlit as st\n",
        "    st.title(\"Banh muy\")\n",
        "    st.header(\"Comfortable and fun\")\n",
        "    st.subheader(\"Keep moving forward\")\n",
        "    st.text(\"patience, perseverance\")\n",
        "\"\"\",language=\"python\")\n",
        "\n",
        "# Write arguments to the app\n",
        "st.divider()\n",
        "st.write(\"5) Write arguments to the app\")\n",
        "\n",
        "st.write(\"Hello, *World!* :sunglasses:\")\n",
        "st.write(1234)\n",
        "st.write('## Heading 2')\n",
        "st.write(r'$ \\sqrt(2x+2)$')\n",
        "st.write('1+1=',2)\n",
        "\n",
        "# Echo: use in a with block to draw some code on the app, then execute it\n",
        "st.divider()\n",
        "st.write(\"6) Echo: use in a with block to draw some code on the app, then execute it\")\n",
        "\n",
        "def get_user_name():\n",
        "    return \"Banh muy\"\n",
        "with st.echo():\n",
        "    st.write('This code will be printed')\n",
        "    def get_email():\n",
        "      return \"banhmuy@gmail.com\"\n",
        "    name = get_user_name()\n",
        "    email = get_email()\n",
        "    st.write(name,email)\n",
        "\n",
        "# Media elements\n",
        "# display an image/audio/video/logo\n",
        "st.divider()\n",
        "st.write(\"7) Media elements: display an image/audio/video/logo\")\n",
        "\n",
        "st.image(\n",
        "    './Theme.jpeg',\n",
        "    caption='Theme',\n",
        "    width=300\n",
        ")\n",
        "# st.audio('./audio.mp4')\n",
        "# st.video('./video.mp4')\n",
        "\n",
        "# Input widget\n",
        "st.divider()\n",
        "st.write(\"8) Input widget\")\n",
        "\n",
        "title = st.text_input('Movie title', 'Life of Brian')\n",
        "st.write('The current movie title is', title)\n",
        "\n",
        "\n",
        "#Selection button\n",
        "st.write(\"9) Selection button\")\n",
        "st.divider()\n",
        "##checkbox\n",
        "def get_name():\n",
        "  st.write(\"Bánh mùy\")\n",
        "agree = st.checkbox('Click here to show my nickname:', on_change=get_name)\n",
        "\n",
        "if agree:\n",
        "  st.write('Great!')\n",
        "  get_name()\n",
        "\n",
        "## Radio buttion\n",
        "genre = st.radio(\n",
        "    \"What's your favorite movie genre\",\n",
        "    ['Comedy', 'Drama', 'Documentary'],\n",
        "    captions = ['Hài kịch', 'Kịch tính', 'Tài liệu'])\n",
        "\n",
        "if genre == 'Comedy':\n",
        "  st.write('You selected comedy.')\n",
        "else:\n",
        "  st.write(\"You didn't select comedy.\")\n",
        "\n",
        "##selectbox\n",
        "option = st.selectbox(\n",
        "    'How would you like to be contacted?',\n",
        "    ('Email', 'Home phone', 'Mobile phone'))\n",
        "\n",
        "st.write('You selected:', option)\n",
        "\n",
        "##multiselect\n",
        "st.divider()\n",
        "options = st.multiselect(\n",
        "    \"Your favorite colors:\",\n",
        "    [\"Green\", \"Yellow\", \"Red\", \"Blue\"],\n",
        "    [\"Yellow\", \"Red\"])\n",
        "st.write('You selected:', options)\n",
        "\n",
        "# Slider\n",
        "st.divider()\n",
        "st.write(\"10) Slider\")\n",
        "##\n",
        "age = st.slider('How old are you?', 0, 130, 25)\n",
        "st.write(\"I'm \", age, 'years old')\n",
        "\n",
        "##select_slider\n",
        "color = st.select_slider(\n",
        "    'Select a color of the rainbow',\n",
        "    options=['red', 'orange', 'yellow', 'green', 'blue', 'indigo', 'violet'])\n",
        "st.write('My favorite color is', color)\n",
        "\n",
        "# Button\n",
        "st.divider()\n",
        "st.write(\"11) Button\")\n",
        "\n",
        "if st.button('Say hello'):\n",
        "  st.write(':yellow[Hi! How is it going!]')\n",
        "else:\n",
        "  st.write('Goodbye')\n",
        "\n",
        "st.link_button(\n",
        "    \"Go to Google\",\n",
        "    \"https://www.google.com.vn/\"\n",
        ")\n",
        "\n",
        "#Input number\n",
        "st.divider()\n",
        "st.write(\"12) Input number\")\n",
        "\n",
        "number = st.number_input('Insert a number')\n",
        "st.write('The current number is ', number)\n",
        "\n",
        "# Slider range\n",
        "st.divider()\n",
        "st.write(\"13) Slider\")\n",
        "\n",
        "values = st.slider(\n",
        "    \"Select the range value: \",\n",
        "    0.0, 100.0, (25.0, 75.0)\n",
        ")\n",
        "st.write(\"Values: \", values)\n",
        "\n",
        "# File uploader\n",
        "st.divider()\n",
        "st.write(\"14) File uploader\")\n",
        "\n",
        "uploaded_files = st.file_uploader(\"Choose a file\", accept_multiple_files=True)\n",
        "for uploaded_file in uploaded_files:\n",
        "  bytes_data = uploaded_file.read()\n",
        "  st.write(\"filename:\", uploaded_file.name)\n",
        "  st.write(bytes_data)\n",
        "\n",
        "# Create a form that batches elements together with a \"Submit\" button\n",
        "st.divider()\n",
        "st.write(\"15) Create a form that batches elements together with a \\\"Submit\\\" button\")\n",
        "\n",
        "with st.form(\"my_form\"):\n",
        "  col1, col2 = st.columns(2)\n",
        "  f_name = st.text_input(\"First name\")\n",
        "  l_name = st.number_input(\"Last name\")\n",
        "  submitted = st.form_submit_button(\"Submit\")\n",
        "  if submitted:\n",
        "    st.write(\"First Name: \", f_name, \" - Last Name:\", l_name)\n"
      ],
      "metadata": {
        "colab": {
          "base_uri": "https://localhost:8080/"
        },
        "id": "9LhRON-E1nWz",
        "outputId": "f2baaaba-5486-448b-a022-7b258e82c5ab"
      },
      "execution_count": null,
      "outputs": [
        {
          "output_type": "stream",
          "name": "stdout",
          "text": [
            "Overwriting app.py\n"
          ]
        }
      ]
    },
    {
      "cell_type": "code",
      "source": [
        "!streamlit run app.py & npx localtunnel --port 8501 #35.197.9.24"
      ],
      "metadata": {
        "id": "Amvngc3aJou5",
        "outputId": "d4b9d5c1-10a6-4a1b-b749-fdd19a1025fe",
        "colab": {
          "base_uri": "https://localhost:8080/"
        }
      },
      "execution_count": null,
      "outputs": [
        {
          "output_type": "stream",
          "name": "stdout",
          "text": [
            "\n",
            "Collecting usage statistics. To deactivate, set browser.gatherUsageStats to false.\n",
            "\u001b[0m\n",
            "\u001b[1G\u001b[0K⠙\u001b[1G\u001b[0K⠹\u001b[1G\u001b[0K⠸\u001b[1G\u001b[0K⠼\u001b[0m\n",
            "\u001b[34m\u001b[1m  You can now view your Streamlit app in your browser.\u001b[0m\n",
            "\u001b[0m\n",
            "\u001b[34m  Local URL: \u001b[0m\u001b[1mhttp://localhost:8501\u001b[0m\n",
            "\u001b[34m  Network URL: \u001b[0m\u001b[1mhttp://172.28.0.12:8501\u001b[0m\n",
            "\u001b[34m  External URL: \u001b[0m\u001b[1mhttp://35.197.9.24:8501\u001b[0m\n",
            "\u001b[0m\n",
            "\u001b[1G\u001b[0K⠴\u001b[1G\u001b[0Kyour url is: https://clean-tigers-enjoy.loca.lt\n",
            "\u001b[34m  Stopping...\u001b[0m\n",
            "^C\n"
          ]
        }
      ]
    },
    {
      "cell_type": "markdown",
      "source": [
        "# **Applications**"
      ],
      "metadata": {
        "id": "E31FAAKw-qHG"
      }
    },
    {
      "cell_type": "markdown",
      "source": [
        "### **Sentiment Analysis using NLTK**"
      ],
      "metadata": {
        "id": "Jtwcw6ak-7te"
      }
    },
    {
      "cell_type": "code",
      "source": [
        "%%writefile sentiment_analysis.py\n",
        "import streamlit as st\n",
        "import nltk\n",
        "from nltk.sentiment import SentimentIntensityAnalyzer\n",
        "\n",
        "nltk.download('vader_lexicon')\n",
        "\n",
        "sid = SentimentIntensityAnalyzer()\n",
        "\n",
        "def main():\n",
        "    st.title(\"Sentiment Analysis App\")\n",
        "    st.title('NLTK Library')\n",
        "    sentence = st.text_input(\"Sentence: \",\"This movie is bad.\")\n",
        "\n",
        "    sentiment_scores = sid.polarity_scores(sentence)\n",
        "\n",
        "    st.write(\"Sentiment Scores:\")\n",
        "    st.write(sentiment_scores)\n",
        "    sentiment_scores = sorted(\n",
        "        sentiment_scores.items(),\n",
        "        key=lambda x: x[1],\n",
        "        reverse=True\n",
        "    )\n",
        "\n",
        "    if sentiment_scores[0][0] == 'neg':\n",
        "      st.success(f'{sentence} is negative')\n",
        "    elif sentiment_scores[0][0] == 'pos':\n",
        "      st.success(f'{sentence} is positive')\n",
        "    else:\n",
        "      st.success(f'{sentence} is neutral')\n",
        "\n",
        "if __name__ == \"__main__\":\n",
        "    main()"
      ],
      "metadata": {
        "id": "Lygre5gX_Bo1",
        "outputId": "bf6a0456-6d98-46c6-c64b-690263331634",
        "colab": {
          "base_uri": "https://localhost:8080/"
        }
      },
      "execution_count": 7,
      "outputs": [
        {
          "output_type": "stream",
          "name": "stdout",
          "text": [
            "Overwriting sentiment_analysis.py\n"
          ]
        }
      ]
    },
    {
      "cell_type": "code",
      "source": [
        "!streamlit run sentiment_analysis.py & npx localtunnel --port 8501"
      ],
      "metadata": {
        "id": "-2teZkAQyg1B",
        "outputId": "b7ee6b6f-e038-464b-8cda-068a416bd155",
        "colab": {
          "base_uri": "https://localhost:8080/"
        }
      },
      "execution_count": 8,
      "outputs": [
        {
          "output_type": "stream",
          "name": "stdout",
          "text": [
            "\u001b[1G\u001b[0K⠙\u001b[1G\u001b[0K⠹\u001b[1G\u001b[0K⠸\u001b[1G\u001b[0K⠼\u001b[1G\u001b[0K⠴\u001b[1G\u001b[0K⠦\u001b[1G\u001b[0K⠧\u001b[1G\u001b[0K⠇\u001b[1G\u001b[0K⠏\u001b[1G\u001b[0K\n",
            "Collecting usage statistics. To deactivate, set browser.gatherUsageStats to false.\n",
            "\u001b[0m\n",
            "your url is: https://quick-pigs-tie.loca.lt\n",
            "\u001b[0m\n",
            "\u001b[34m\u001b[1m  You can now view your Streamlit app in your browser.\u001b[0m\n",
            "\u001b[0m\n",
            "\u001b[34m  Local URL: \u001b[0m\u001b[1mhttp://localhost:8501\u001b[0m\n",
            "\u001b[34m  Network URL: \u001b[0m\u001b[1mhttp://172.28.0.12:8501\u001b[0m\n",
            "\u001b[34m  External URL: \u001b[0m\u001b[1mhttp://34.73.103.59:8501\u001b[0m\n",
            "\u001b[0m\n",
            "[nltk_data] Downloading package vader_lexicon to /root/nltk_data...\n",
            "[nltk_data] Downloading package vader_lexicon to /root/nltk_data...\n",
            "[nltk_data]   Package vader_lexicon is already up-to-date!\n",
            "\u001b[34m  Stopping...\u001b[0m\n",
            "^C\n"
          ]
        }
      ]
    },
    {
      "cell_type": "markdown",
      "source": [
        "### **Contextual Spell Correction using Spacy and contextualSpellCheck**"
      ],
      "metadata": {
        "id": "MnqBEvu5_aPy"
      }
    },
    {
      "cell_type": "markdown",
      "source": [
        "> Add blockquote"
      ],
      "metadata": {
        "id": "MzMuWMD5zsSy"
      }
    },
    {
      "cell_type": "code",
      "source": [
        "!pip install -q spacy contextualSpellCheck==0.4.4"
      ],
      "metadata": {
        "id": "kztbDDUUzwG8",
        "outputId": "f8385b97-33e8-473d-d3f8-6375750ca291",
        "colab": {
          "base_uri": "https://localhost:8080/"
        }
      },
      "execution_count": 9,
      "outputs": [
        {
          "output_type": "stream",
          "name": "stdout",
          "text": [
            "\u001b[?25l   \u001b[90m━━━━━━━━━━━━━━━━━━━━━━━━━━━━━━━━━━━━━━━━\u001b[0m \u001b[32m0.0/128.1 kB\u001b[0m \u001b[31m?\u001b[0m eta \u001b[36m-:--:--\u001b[0m\r\u001b[2K   \u001b[91m━━━━━━━━━━━━━━━━━━━━━━━━━━━━━━━━━━━━━━\u001b[0m\u001b[90m╺\u001b[0m\u001b[90m━\u001b[0m \u001b[32m122.9/128.1 kB\u001b[0m \u001b[31m5.1 MB/s\u001b[0m eta \u001b[36m0:00:01\u001b[0m\r\u001b[2K   \u001b[90m━━━━━━━━━━━━━━━━━━━━━━━━━━━━━━━━━━━━━━━━\u001b[0m \u001b[32m128.1/128.1 kB\u001b[0m \u001b[31m3.2 MB/s\u001b[0m eta \u001b[36m0:00:00\u001b[0m\n",
            "\u001b[?25h\u001b[?25l   \u001b[90m━━━━━━━━━━━━━━━━━━━━━━━━━━━━━━━━━━━━━━━━\u001b[0m \u001b[32m0.0/282.6 kB\u001b[0m \u001b[31m?\u001b[0m eta \u001b[36m-:--:--\u001b[0m\r\u001b[2K   \u001b[90m━━━━━━━━━━━━━━━━━━━━━━━━━━━━━━━━━━━━━━━━\u001b[0m \u001b[32m282.6/282.6 kB\u001b[0m \u001b[31m10.8 MB/s\u001b[0m eta \u001b[36m0:00:00\u001b[0m\n",
            "\u001b[?25h"
          ]
        }
      ]
    },
    {
      "cell_type": "code",
      "source": [
        "%%writefile spell_correction.py\n",
        "import streamlit as st\n",
        "import spacy\n",
        "import contextualSpellCheck\n",
        "\n",
        "nlp = spacy.load(\"en_core_web_sm\")\n",
        "contextualSpellCheck.add_to_pipe(nlp)\n",
        "\n",
        "def main():\n",
        "    st.title(\"Contextual Spell Correction App\")\n",
        "    st.title('Spacy Library + contextualSpellCheck')\n",
        "    sentence = st.text_input(\"Sentence: \",\"I go to sleap\")\n",
        "    result = spell_corrector(sentence)\n",
        "    st.write(result)\n",
        "    if result[0]:\n",
        "      st.success(f'Corrected: {result}')\n",
        "    else:\n",
        "      st.error(f'{sentence} is incorrect')\n",
        "\n",
        "def spell_corrector(sentence):\n",
        "    doc = nlp(sentence)\n",
        "    return doc._.performed_spellCheck, doc._.outcome_spellCheck\n",
        "\n",
        "if __name__ == \"__main__\":\n",
        "    main()"
      ],
      "metadata": {
        "id": "gYbGJjPT_b1y",
        "outputId": "75c78df5-234a-4fba-cfb0-ad194a4b6d36",
        "colab": {
          "base_uri": "https://localhost:8080/"
        }
      },
      "execution_count": 17,
      "outputs": [
        {
          "output_type": "stream",
          "name": "stdout",
          "text": [
            "Overwriting spell_correction.py\n"
          ]
        }
      ]
    },
    {
      "cell_type": "code",
      "source": [
        "!streamlit run spell_correction.py & npx localtunnel --port 8501"
      ],
      "metadata": {
        "id": "vlbzvHjy6H0w",
        "outputId": "2280f7a2-d40c-4ea5-ba26-0bf3f3b9e38b",
        "colab": {
          "base_uri": "https://localhost:8080/"
        }
      },
      "execution_count": null,
      "outputs": [
        {
          "output_type": "stream",
          "name": "stdout",
          "text": [
            "\u001b[1G\u001b[0K⠙\n",
            "Collecting usage statistics. To deactivate, set browser.gatherUsageStats to false.\n",
            "\u001b[0m\n",
            "\u001b[1G\u001b[0K⠹\u001b[1G\u001b[0K⠸\u001b[1G\u001b[0K⠼\u001b[1G\u001b[0K⠴\u001b[1G\u001b[0K⠦\u001b[1G\u001b[0K⠧\u001b[1G\u001b[0K⠇\u001b[1G\u001b[0K⠏\u001b[0m\n",
            "\u001b[34m\u001b[1m  You can now view your Streamlit app in your browser.\u001b[0m\n",
            "\u001b[0m\n",
            "\u001b[34m  Local URL: \u001b[0m\u001b[1mhttp://localhost:8501\u001b[0m\n",
            "\u001b[34m  Network URL: \u001b[0m\u001b[1mhttp://172.28.0.12:8501\u001b[0m\n",
            "\u001b[34m  External URL: \u001b[0m\u001b[1mhttp://34.73.103.59:8501\u001b[0m\n",
            "\u001b[0m\n",
            "\u001b[1G\u001b[0K⠋\u001b[1G\u001b[0K⠙\u001b[1G\u001b[0K⠹\u001b[1G\u001b[0Kyour url is: https://angry-sites-teach.loca.lt\n",
            "2025-01-12 10:03:27.600196: E external/local_xla/xla/stream_executor/cuda/cuda_fft.cc:485] Unable to register cuFFT factory: Attempting to register factory for plugin cuFFT when one has already been registered\n",
            "2025-01-12 10:03:27.634065: E external/local_xla/xla/stream_executor/cuda/cuda_dnn.cc:8454] Unable to register cuDNN factory: Attempting to register factory for plugin cuDNN when one has already been registered\n",
            "2025-01-12 10:03:27.643800: E external/local_xla/xla/stream_executor/cuda/cuda_blas.cc:1452] Unable to register cuBLAS factory: Attempting to register factory for plugin cuBLAS when one has already been registered\n",
            "2025-01-12 10:03:27.666236: I tensorflow/core/platform/cpu_feature_guard.cc:210] This TensorFlow binary is optimized to use available CPU instructions in performance-critical operations.\n",
            "To enable the following instructions: AVX2 FMA, in other operations, rebuild TensorFlow with the appropriate compiler flags.\n",
            "2025-01-12 10:03:29.540602: W tensorflow/compiler/tf2tensorrt/utils/py_utils.cc:38] TF-TRT Warning: Could not find TensorRT\n",
            "2025-01-12 10:03:32.453 Examining the path of torch.classes raised: Tried to instantiate class '__path__._path', but it does not exist! Ensure that it is registered via torch::class_\n"
          ]
        }
      ]
    },
    {
      "cell_type": "markdown",
      "source": [
        "### **English-Vietnamese Machine Translation**"
      ],
      "metadata": {
        "id": "yl9TuiBx_gpa"
      }
    },
    {
      "cell_type": "code",
      "source": [
        "!pip install transformers==4.47.1"
      ],
      "metadata": {
        "id": "8cfavr_k_h7U",
        "outputId": "a1b93595-5bca-4a6e-a03b-77ec1feb59af",
        "colab": {
          "base_uri": "https://localhost:8080/"
        }
      },
      "execution_count": 14,
      "outputs": [
        {
          "output_type": "stream",
          "name": "stdout",
          "text": [
            "Requirement already satisfied: transformers==4.47.1 in /usr/local/lib/python3.10/dist-packages (4.47.1)\n",
            "Requirement already satisfied: filelock in /usr/local/lib/python3.10/dist-packages (from transformers==4.47.1) (3.16.1)\n",
            "Requirement already satisfied: huggingface-hub<1.0,>=0.24.0 in /usr/local/lib/python3.10/dist-packages (from transformers==4.47.1) (0.27.1)\n",
            "Requirement already satisfied: numpy>=1.17 in /usr/local/lib/python3.10/dist-packages (from transformers==4.47.1) (1.26.4)\n",
            "Requirement already satisfied: packaging>=20.0 in /usr/local/lib/python3.10/dist-packages (from transformers==4.47.1) (24.2)\n",
            "Requirement already satisfied: pyyaml>=5.1 in /usr/local/lib/python3.10/dist-packages (from transformers==4.47.1) (6.0.2)\n",
            "Requirement already satisfied: regex!=2019.12.17 in /usr/local/lib/python3.10/dist-packages (from transformers==4.47.1) (2024.11.6)\n",
            "Requirement already satisfied: requests in /usr/local/lib/python3.10/dist-packages (from transformers==4.47.1) (2.32.3)\n",
            "Requirement already satisfied: tokenizers<0.22,>=0.21 in /usr/local/lib/python3.10/dist-packages (from transformers==4.47.1) (0.21.0)\n",
            "Requirement already satisfied: safetensors>=0.4.1 in /usr/local/lib/python3.10/dist-packages (from transformers==4.47.1) (0.5.1)\n",
            "Requirement already satisfied: tqdm>=4.27 in /usr/local/lib/python3.10/dist-packages (from transformers==4.47.1) (4.67.1)\n",
            "Requirement already satisfied: fsspec>=2023.5.0 in /usr/local/lib/python3.10/dist-packages (from huggingface-hub<1.0,>=0.24.0->transformers==4.47.1) (2024.10.0)\n",
            "Requirement already satisfied: typing-extensions>=3.7.4.3 in /usr/local/lib/python3.10/dist-packages (from huggingface-hub<1.0,>=0.24.0->transformers==4.47.1) (4.12.2)\n",
            "Requirement already satisfied: charset-normalizer<4,>=2 in /usr/local/lib/python3.10/dist-packages (from requests->transformers==4.47.1) (3.4.1)\n",
            "Requirement already satisfied: idna<4,>=2.5 in /usr/local/lib/python3.10/dist-packages (from requests->transformers==4.47.1) (3.10)\n",
            "Requirement already satisfied: urllib3<3,>=1.21.1 in /usr/local/lib/python3.10/dist-packages (from requests->transformers==4.47.1) (2.3.0)\n",
            "Requirement already satisfied: certifi>=2017.4.17 in /usr/local/lib/python3.10/dist-packages (from requests->transformers==4.47.1) (2024.12.14)\n"
          ]
        }
      ]
    },
    {
      "cell_type": "code",
      "source": [
        "%%writefile translation.py\n",
        "import streamlit as st\n",
        "import torch\n",
        "from transformers import AutoTokenizer, AutoModelForSeq2SeqLM\n",
        "\n",
        "# Check device\n",
        "device = torch.device(\"cuda\" if torch.cuda.is_available() else \"cpu\")\n",
        "\n",
        "# download model\n",
        "st.write(\"Downloading model...\")\n",
        "model_name = \"Helsinki-NLP/opus-mt-en-vi\"\n",
        "tokenizer = AutoTokenizer.from_pretrained(model_name)\n",
        "model = AutoModelForSeq2SeqLM.from_pretrained(model_name).to(device)\n",
        "model.eval()\n",
        "\n",
        "def translate(sentence, tokenizer, model):\n",
        "    # Tokenize\n",
        "    tokenized_sentence = tokenizer.encode(\n",
        "        sentence, return_tensors=\"pt\").to(device)\n",
        "    out_ids = model.generate(tokenized_sentence, max_length=128)\n",
        "\n",
        "    # Decode\n",
        "    translated_sentence = tokenizer.decode(\n",
        "        out_ids[0], skip_special_tokens=True)\n",
        "    return translated_sentence\n",
        "def main():\n",
        "    st.title(\"English-Vietnamese Machine Translation App\")\n",
        "    st.title('Hugging Face Library')\n",
        "    sentence = st.text_input(\"Sentence: \",\"I go to school\")\n",
        "    result = translate(sentence, tokenizer, model)\n",
        "    st.write(result)\n",
        "    st.success(f'Translated: {sentence}')\n",
        "\n",
        "if __name__ == \"__main__\":\n",
        "    main()"
      ],
      "metadata": {
        "id": "mxl0tfjq_kT6",
        "outputId": "e2d73d46-5668-451a-b943-828f3f99323f",
        "colab": {
          "base_uri": "https://localhost:8080/"
        }
      },
      "execution_count": 15,
      "outputs": [
        {
          "output_type": "stream",
          "name": "stdout",
          "text": [
            "Overwriting translation.py\n"
          ]
        }
      ]
    },
    {
      "cell_type": "code",
      "source": [
        "!streamlit run translation.py & npx localtunnel --port 8501"
      ],
      "metadata": {
        "id": "QllnEQkt_k4L",
        "outputId": "c0c4168b-5e8e-4450-af3d-298b39e4736d",
        "colab": {
          "base_uri": "https://localhost:8080/"
        }
      },
      "execution_count": 16,
      "outputs": [
        {
          "output_type": "stream",
          "name": "stdout",
          "text": [
            "\n",
            "Collecting usage statistics. To deactivate, set browser.gatherUsageStats to false.\n",
            "\u001b[0m\n",
            "\u001b[1G\u001b[0K⠙\u001b[1G\u001b[0K⠹\u001b[1G\u001b[0K⠸\u001b[0m\n",
            "\u001b[34m\u001b[1m  You can now view your Streamlit app in your browser.\u001b[0m\n",
            "\u001b[0m\n",
            "\u001b[34m  Local URL: \u001b[0m\u001b[1mhttp://localhost:8501\u001b[0m\n",
            "\u001b[34m  Network URL: \u001b[0m\u001b[1mhttp://172.28.0.12:8501\u001b[0m\n",
            "\u001b[34m  External URL: \u001b[0m\u001b[1mhttp://34.73.103.59:8501\u001b[0m\n",
            "\u001b[0m\n",
            "\u001b[1G\u001b[0K⠼\u001b[1G\u001b[0K⠴\u001b[1G\u001b[0Kyour url is: https://tiny-lights-melt.loca.lt\n",
            "tokenizer_config.json: 100% 44.0/44.0 [00:00<00:00, 160kB/s]\n",
            "config.json: 100% 1.39k/1.39k [00:00<00:00, 5.74MB/s]\n",
            "source.spm: 100% 809k/809k [00:00<00:00, 13.2MB/s]\n",
            "target.spm: 100% 756k/756k [00:00<00:00, 17.8MB/s]\n",
            "vocab.json: 100% 1.19M/1.19M [00:00<00:00, 15.8MB/s]\n",
            "/usr/local/lib/python3.10/dist-packages/transformers/models/marian/tokenization_marian.py:175: UserWarning: Recommended: pip install sacremoses.\n",
            "  warnings.warn(\"Recommended: pip install sacremoses.\")\n",
            "2025-01-12 09:59:56.599575: E external/local_xla/xla/stream_executor/cuda/cuda_fft.cc:485] Unable to register cuFFT factory: Attempting to register factory for plugin cuFFT when one has already been registered\n",
            "2025-01-12 09:59:56.640107: E external/local_xla/xla/stream_executor/cuda/cuda_dnn.cc:8454] Unable to register cuDNN factory: Attempting to register factory for plugin cuDNN when one has already been registered\n",
            "2025-01-12 09:59:56.652786: E external/local_xla/xla/stream_executor/cuda/cuda_blas.cc:1452] Unable to register cuBLAS factory: Attempting to register factory for plugin cuBLAS when one has already been registered\n",
            "2025-01-12 09:59:56.682559: I tensorflow/core/platform/cpu_feature_guard.cc:210] This TensorFlow binary is optimized to use available CPU instructions in performance-critical operations.\n",
            "To enable the following instructions: AVX2 FMA, in other operations, rebuild TensorFlow with the appropriate compiler flags.\n",
            "2025-01-12 09:59:58.577330: W tensorflow/compiler/tf2tensorrt/utils/py_utils.cc:38] TF-TRT Warning: Could not find TensorRT\n",
            "pytorch_model.bin: 100% 289M/289M [00:02<00:00, 118MB/s]\n",
            "generation_config.json: 100% 293/293 [00:00<00:00, 1.06MB/s]\n",
            "model.safetensors: 100% 289M/289M [00:03<00:00, 90.6MB/s]\n",
            "2025-01-12 10:00:08.830 Examining the path of torch.classes raised: Tried to instantiate class '__path__._path', but it does not exist! Ensure that it is registered via torch::class_\n",
            "/usr/local/lib/python3.10/dist-packages/transformers/models/marian/tokenization_marian.py:175: UserWarning: Recommended: pip install sacremoses.\n",
            "  warnings.warn(\"Recommended: pip install sacremoses.\")\n",
            "2025-01-12 10:01:05.084 Examining the path of torch.classes raised: Tried to instantiate class '__path__._path', but it does not exist! Ensure that it is registered via torch::class_\n",
            "\u001b[34m  Stopping...\u001b[0m\n",
            "^C\n"
          ]
        }
      ]
    }
  ],
  "metadata": {
    "colab": {
      "provenance": [],
      "include_colab_link": true
    },
    "kernelspec": {
      "display_name": "Python 3",
      "name": "python3"
    },
    "language_info": {
      "name": "python"
    }
  },
  "nbformat": 4,
  "nbformat_minor": 0
}