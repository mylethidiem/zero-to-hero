{
 "cells": [
  {
   "cell_type": "markdown",
   "metadata": {
    "colab_type": "text",
    "id": "view-in-github"
   },
   "source": [
    "<a href=\"https://colab.research.google.com/github/mylethidiem/ProgramingTech/blob/main/preAIO25/warmup/exercises_w1_to_wx.ipynb\" target=\"_parent\"><img src=\"https://colab.research.google.com/assets/colab-badge.svg\" alt=\"Open In Colab\"/></a>"
   ]
  },
  {
   "cell_type": "markdown",
   "metadata": {
    "id": "k-daPJaBXpuN"
   },
   "source": [
    "# W1"
   ]
  },
  {
   "cell_type": "code",
   "execution_count": null,
   "metadata": {
    "id": "fpO0E7RbpT7j"
   },
   "outputs": [],
   "source": []
  },
  {
   "cell_type": "markdown",
   "metadata": {},
   "source": [
    "# W2"
   ]
  },
  {
   "cell_type": "code",
   "execution_count": 1,
   "metadata": {},
   "outputs": [
    {
     "name": "stdout",
     "output_type": "stream",
     "text": [
      "tp must be int\n"
     ]
    }
   ],
   "source": [
    "# Q5\n",
    "tp = 'true'\n",
    "if type(tp) != int: # isinstance (tp , int)\n",
    "\tprint('tp must be int')"
   ]
  },
  {
   "cell_type": "code",
   "execution_count": 5,
   "metadata": {},
   "outputs": [],
   "source": [
    "# 6\n",
    "fp = 1\n",
    "if type(fp) != int: # isinstance (tp , int)\n",
    "\tprint('tp must be int')"
   ]
  },
  {
   "cell_type": "code",
   "execution_count": 7,
   "metadata": {},
   "outputs": [
    {
     "name": "stdout",
     "output_type": "stream",
     "text": [
      "tp must be int\n"
     ]
    }
   ],
   "source": [
    "# 7\n",
    "fn = 'One'\n",
    "if type(fn) != int: # isinstance (tp , int)\n",
    "\tprint('tp must be int')"
   ]
  },
  {
   "cell_type": "code",
   "execution_count": 8,
   "metadata": {},
   "outputs": [
    {
     "name": "stdout",
     "output_type": "stream",
     "text": [
      "tp and fp and fn must be greater than zero\n"
     ]
    }
   ],
   "source": [
    "#8\n",
    "tp = 10\n",
    "fp = -1\n",
    "fn = 1\n",
    "if not((tp > 0) and (fp > 0) and (fn > 0)):\n",
    "\tprint('tp and fp and fn must be greater than zero')"
   ]
  },
  {
   "cell_type": "code",
   "execution_count": 11,
   "metadata": {},
   "outputs": [],
   "source": [
    "# 9\n",
    "def compute_precision(TP , FP):\n",
    "\treturn TP/(TP + FP)\n",
    "def compute_recall(TP , FN):\n",
    "\treturn TP/(TP + FN)\n",
    "def compute_f1_score(precision , recall):\n",
    "\treturn 2 * (precision * recall)/(precision + recall)"
   ]
  },
  {
   "cell_type": "code",
   "execution_count": 15,
   "metadata": {},
   "outputs": [
    {
     "name": "stdout",
     "output_type": "stream",
     "text": [
      "precision: 0.17\n",
      "recall: 0.09\n",
      "f1_score: 0.12\n"
     ]
    }
   ],
   "source": [
    "TP = 2\n",
    "TN = 3\n",
    "FP = 10\n",
    "FN = 20\n",
    "precision = compute_precision(TP, FP)\n",
    "recall = compute_recall(TP, FN)\n",
    "f1_score = compute_f1_score(precision, recall)\n",
    "print(f'precision: {precision:.2f}')\n",
    "print(f'recall: {recall:.2f}')\n",
    "print(f'f1_score: {f1_score:.2f}')"
   ]
  },
  {
   "cell_type": "markdown",
   "metadata": {},
   "source": [
    "# W3"
   ]
  },
  {
   "cell_type": "code",
   "execution_count": 1,
   "metadata": {},
   "outputs": [
    {
     "ename": "IndexError",
     "evalue": "list index out of range",
     "output_type": "error",
     "traceback": [
      "\u001b[1;31m---------------------------------------------------------------------------\u001b[0m",
      "\u001b[1;31mIndexError\u001b[0m                                Traceback (most recent call last)",
      "Input \u001b[1;32mIn [1]\u001b[0m, in \u001b[0;36m<cell line: 2>\u001b[1;34m()\u001b[0m\n\u001b[0;32m      1\u001b[0m numbers \u001b[38;5;241m=\u001b[39m [\u001b[38;5;241m1\u001b[39m, \u001b[38;5;241m2\u001b[39m, \u001b[38;5;241m3\u001b[39m]\n\u001b[1;32m----> 2\u001b[0m \u001b[38;5;28mprint\u001b[39m(\u001b[43mnumbers\u001b[49m\u001b[43m[\u001b[49m\u001b[38;5;241;43m3\u001b[39;49m\u001b[43m]\u001b[49m)\n",
      "\u001b[1;31mIndexError\u001b[0m: list index out of range"
     ]
    }
   ],
   "source": [
    "# 1)\n",
    "numbers = [1, 2, 3]\n",
    "print(numbers[3])\n",
    "\n"
   ]
  },
  {
   "cell_type": "code",
   "execution_count": 3,
   "metadata": {},
   "outputs": [
    {
     "ename": "TypeError",
     "evalue": "func() takes 0 positional arguments but 1 was given",
     "output_type": "error",
     "traceback": [
      "\u001b[1;31m---------------------------------------------------------------------------\u001b[0m",
      "\u001b[1;31mTypeError\u001b[0m                                 Traceback (most recent call last)",
      "Input \u001b[1;32mIn [3]\u001b[0m, in \u001b[0;36m<cell line: 4>\u001b[1;34m()\u001b[0m\n\u001b[0;32m      2\u001b[0m \u001b[38;5;28;01mdef\u001b[39;00m \u001b[38;5;21mfunc\u001b[39m():\n\u001b[0;32m      3\u001b[0m \t\u001b[38;5;28;01mreturn\u001b[39;00m \u001b[38;5;124m'\u001b[39m\u001b[38;5;124mHello\u001b[39m\u001b[38;5;124m'\u001b[39m\n\u001b[1;32m----> 4\u001b[0m \u001b[38;5;28mprint\u001b[39m(\u001b[43mfunc\u001b[49m\u001b[43m(\u001b[49m\u001b[38;5;241;43m0\u001b[39;49m\u001b[43m)\u001b[49m)\n",
      "\u001b[1;31mTypeError\u001b[0m: func() takes 0 positional arguments but 1 was given"
     ]
    }
   ],
   "source": [
    "# 2)\n",
    "def func():\n",
    "\treturn 'Hello'\n",
    "print(func(0))"
   ]
  },
  {
   "cell_type": "code",
   "execution_count": 4,
   "metadata": {},
   "outputs": [
    {
     "name": "stdout",
     "output_type": "stream",
     "text": [
      "0\n",
      "1\n",
      "2\n",
      "3\n",
      "4\n"
     ]
    }
   ],
   "source": [
    "# 3)\n",
    "for i in range(5):\n",
    "\tprint(i)\n"
   ]
  },
  {
   "cell_type": "code",
   "execution_count": 5,
   "metadata": {},
   "outputs": [
    {
     "ename": "ZeroDivisionError",
     "evalue": "division by zero",
     "output_type": "error",
     "traceback": [
      "\u001b[1;31m---------------------------------------------------------------------------\u001b[0m",
      "\u001b[1;31mZeroDivisionError\u001b[0m                         Traceback (most recent call last)",
      "Input \u001b[1;32mIn [5]\u001b[0m, in \u001b[0;36m<cell line: 4>\u001b[1;34m()\u001b[0m\n\u001b[0;32m      2\u001b[0m x \u001b[38;5;241m=\u001b[39m \u001b[38;5;241m10\u001b[39m\n\u001b[0;32m      3\u001b[0m y \u001b[38;5;241m=\u001b[39m \u001b[38;5;241m0\u001b[39m\n\u001b[1;32m----> 4\u001b[0m \u001b[38;5;28mprint\u001b[39m(\u001b[43mx\u001b[49m\u001b[38;5;241;43m/\u001b[39;49m\u001b[43my\u001b[49m)\n",
      "\u001b[1;31mZeroDivisionError\u001b[0m: division by zero"
     ]
    }
   ],
   "source": [
    "# 4)\n",
    "x = 10\n",
    "y = 0\n",
    "print(x/y)"
   ]
  },
  {
   "cell_type": "code",
   "execution_count": 6,
   "metadata": {},
   "outputs": [
    {
     "ename": "TypeError",
     "evalue": "can only concatenate str (not \"int\") to str",
     "output_type": "error",
     "traceback": [
      "\u001b[1;31m---------------------------------------------------------------------------\u001b[0m",
      "\u001b[1;31mTypeError\u001b[0m                                 Traceback (most recent call last)",
      "Input \u001b[1;32mIn [6]\u001b[0m, in \u001b[0;36m<cell line: 4>\u001b[1;34m()\u001b[0m\n\u001b[0;32m      2\u001b[0m name \u001b[38;5;241m=\u001b[39m \u001b[38;5;124m'\u001b[39m\u001b[38;5;124mAlice\u001b[39m\u001b[38;5;124m'\u001b[39m\n\u001b[0;32m      3\u001b[0m age \u001b[38;5;241m=\u001b[39m \u001b[38;5;241m30\u001b[39m\n\u001b[1;32m----> 4\u001b[0m \u001b[38;5;28mprint\u001b[39m(\u001b[38;5;124;43m\"\u001b[39;49m\u001b[38;5;124;43mName:\u001b[39;49m\u001b[38;5;124;43m\"\u001b[39;49m\u001b[43m \u001b[49m\u001b[38;5;241;43m+\u001b[39;49m\u001b[43m \u001b[49m\u001b[43mname\u001b[49m\u001b[43m \u001b[49m\u001b[38;5;241;43m+\u001b[39;49m\u001b[43m \u001b[49m\u001b[38;5;124;43m\"\u001b[39;49m\u001b[38;5;124;43m, Age: \u001b[39;49m\u001b[38;5;124;43m\"\u001b[39;49m\u001b[43m \u001b[49m\u001b[38;5;241;43m+\u001b[39;49m\u001b[43m \u001b[49m\u001b[43mage\u001b[49m)\n",
      "\u001b[1;31mTypeError\u001b[0m: can only concatenate str (not \"int\") to str"
     ]
    }
   ],
   "source": [
    "# 5)\n",
    "name = 'Alice'\n",
    "age = 30\n",
    "print(\"Name:\" + name + \", Age: \" + age)"
   ]
  },
  {
   "cell_type": "code",
   "execution_count": 7,
   "metadata": {},
   "outputs": [
    {
     "name": "stdout",
     "output_type": "stream",
     "text": [
      "No\n"
     ]
    }
   ],
   "source": [
    "# 6)\n",
    "x = 5\n",
    "if x == \"5\":\n",
    "\tprint (\"Yes \")\n",
    "else :\n",
    "\tprint (\"No\")"
   ]
  },
  {
   "cell_type": "markdown",
   "metadata": {},
   "source": [
    " ### Get min\n",
    "**Đề bài:** Function sau nhận vào 1 list các số và trả về giá trị nhỏ nhất trong các số đó.\n",
    "\n",
    "Bạn hãy hoàn thành function sau và trả lời câu hỏi."
   ]
  },
  {
   "cell_type": "code",
   "execution_count": 8,
   "metadata": {},
   "outputs": [
    {
     "name": "stdout",
     "output_type": "stream",
     "text": [
      "-5\n"
     ]
    }
   ],
   "source": [
    "# 9)\n",
    "def get_min(data):\n",
    "    min_value = data[0]\n",
    "\n",
    "    for i in range(len(data)):\n",
    "        if data[i] < min_value:\n",
    "            min_value = data[i]\n",
    "\n",
    "    return min_value\n",
    "\n",
    "data1 = [1, 5, 2, 91, -10]\n",
    "assert get_min(data1) == -10\n",
    "\n",
    "data2 = [2, 5, -5, 10, 11]\n",
    "print(get_min(data2))\n"
   ]
  },
  {
   "cell_type": "markdown",
   "metadata": {},
   "source": [
    " ### Get max\n",
    " **Đề bài:** Function sau nhận vào 1 list các số và trả về giá trị lớn nhất trong các số đó.\n",
    "\n",
    "Bạn hãy hoàn thành function sau và trả lời câu hỏi."
   ]
  },
  {
   "cell_type": "code",
   "execution_count": 9,
   "metadata": {},
   "outputs": [
    {
     "name": "stdout",
     "output_type": "stream",
     "text": [
      "11\n"
     ]
    }
   ],
   "source": [
    "# 10)\n",
    "def get_max(data):\n",
    "    max_value = data[0]\n",
    "\n",
    "    for i in range(len(data)):\n",
    "        if data[i] > max_value:\n",
    "            max_value = data[i]\n",
    "\n",
    "    return max_value\n",
    "\n",
    "data1 = [1, 5, 2, 91, -10]\n",
    "assert get_max(data1) == 91\n",
    "\n",
    "data2 = [2, 5, -5, 10, 11]\n",
    "print(get_max(data2))"
   ]
  },
  {
   "cell_type": "markdown",
   "metadata": {},
   "source": [
    "### Get count\n",
    "**Đề bài:** Function sau nhận vào 1 list các số và 1 số cho trước, function trả về số lần xuất hiện của số đó trong list.\n",
    "\n",
    "Bạn hãy hoàn thành function sau và trả lời câu hỏi."
   ]
  },
  {
   "cell_type": "code",
   "execution_count": 10,
   "metadata": {},
   "outputs": [
    {
     "name": "stdout",
     "output_type": "stream",
     "text": [
      "2\n"
     ]
    }
   ],
   "source": [
    "# 11)\n",
    "\n",
    "def count(data, value):\n",
    "    count = 0\n",
    "\n",
    "    for i in range(len(data)):\n",
    "        if data[i] == value:\n",
    "            count += 1\n",
    "\n",
    "    return count\n",
    "\n",
    "data1 = [1, 5, 2, -10, 5, 10, 5]\n",
    "assert count(data1, 5) == 3\n",
    "\n",
    "data2 = [5, 4, 2, 10, 4, 8, 1, 3]\n",
    "print(count(data2, 4))"
   ]
  },
  {
   "cell_type": "markdown",
   "metadata": {},
   "source": [
    "### Get sum\n",
    "**Đề bài:** Function sau nhận vào 1 list các số và trả về tổng các số trong list.\n",
    "\n",
    "Bạn hãy hoàn thành function sau và trả lời câu hỏi.\n"
   ]
  },
  {
   "cell_type": "code",
   "execution_count": 11,
   "metadata": {},
   "outputs": [
    {
     "name": "stdout",
     "output_type": "stream",
     "text": [
      "25\n"
     ]
    }
   ],
   "source": [
    "# 12)\n",
    "def get_sum(data):\n",
    "    sum_value = 0\n",
    "\n",
    "    for i in range(len(data)):\n",
    "        sum_value += data[i]\n",
    "    return sum_value\n",
    "\n",
    "data1 = [1, 5, 2, 8, -1]\n",
    "assert get_sum(data1) == 15\n",
    "\n",
    "data2 = [5, 4, 2, 10, 4]\n",
    "print(get_sum(data2))"
   ]
  },
  {
   "cell_type": "markdown",
   "metadata": {},
   "source": [
    "### Get sum of even elements\n",
    "**Đề bài:** Function sau nhận vào 1 list các số và trả về tổng các số chẵn trong list.\n",
    "\n",
    "Bạn hãy hoàn thành function sau và trả lời câu hỏi."
   ]
  },
  {
   "cell_type": "code",
   "execution_count": 12,
   "metadata": {},
   "outputs": [
    {
     "name": "stdout",
     "output_type": "stream",
     "text": [
      "24\n"
     ]
    }
   ],
   "source": [
    "# 13)\n",
    "def get_sum_even(data):\n",
    "    sum_value = 0\n",
    "\n",
    "    for i in range(len(data)):\n",
    "        if data[i] % 2 == 0:\n",
    "            sum_value += data[i]\n",
    "\n",
    "    return sum_value\n",
    "\n",
    "data1 = [1, 5, 2, 4, -10, 5]\n",
    "assert get_sum_even(data1) == -4\n",
    "\n",
    "data2 = [5, 4, 2, 10, 3, 8]\n",
    "print(get_sum_even(data2))\n"
   ]
  },
  {
   "cell_type": "markdown",
   "metadata": {},
   "source": [
    "### Get mean\n",
    "**Đề bài:** Function sau nhận vào 1 list các số và trả về giá trị trung bình của các số trong list.\n",
    "\n",
    "Bạn hãy hoàn thành function sau và trả lời câu hỏi."
   ]
  },
  {
   "cell_type": "code",
   "execution_count": null,
   "metadata": {},
   "outputs": [],
   "source": [
    "# 14)\n",
    "def get_mean(data):\n",
    "    sum = 0\n",
    "\n",
    "    length = len(data)\n",
    "\n",
    "    for i in range(length):\n",
    "        sum = sum + data[i]\n",
    "\n",
    "    mean = sum / length\n",
    "    mean = round(mean, 2) # round(mean, 2) làm tròn mean đến 2 chữ số thập phân\n",
    "\n",
    "    return mean\n",
    "\n",
    "data1 = [1, 5, 2, 7, -3]\n",
    "assert get_mean(data1) == 2.4\n",
    "\n",
    "data2 = [2, 5, -5, 10, 11]\n",
    "print(get_mean(data2))"
   ]
  },
  {
   "cell_type": "markdown",
   "metadata": {},
   "source": [
    "### Check contains\n",
    "**Đề bài:** Function sau nhận vào 1 list các số và 1 số cho trước, function trả về True nếu số đó có trong list, ngược lại trả về False.\n",
    "\n",
    "Bạn hãy hoàn thành function sau và trả lời câu hỏi."
   ]
  },
  {
   "cell_type": "code",
   "execution_count": 2,
   "metadata": {},
   "outputs": [
    {
     "name": "stdout",
     "output_type": "stream",
     "text": [
      "False\n"
     ]
    }
   ],
   "source": [
    "# 15)\n",
    "def contain(data, value):\n",
    "    is_contain = False\n",
    "\n",
    "    length = len(data)\n",
    "\n",
    "    for i in range(0, length):\n",
    "        if data[i] == value:\n",
    "            is_contain = True\n",
    "            break\n",
    "\n",
    "    return is_contain\n",
    "\n",
    "data1 = [1, 5, 2, 91, -10]\n",
    "assert contain(data1, 5) == True \n",
    "\n",
    "data2 = [2, 5, -5, 10, 11]\n",
    "print(contain(data2, 3))"
   ]
  }
 ],
 "metadata": {
  "colab": {
   "include_colab_link": true,
   "provenance": []
  },
  "kernelspec": {
   "display_name": "Python 3 (ipykernel)",
   "language": "python",
   "name": "python3"
  },
  "language_info": {
   "codemirror_mode": {
    "name": "ipython",
    "version": 3
   },
   "file_extension": ".py",
   "mimetype": "text/x-python",
   "name": "python",
   "nbconvert_exporter": "python",
   "pygments_lexer": "ipython3",
   "version": "3.9.12"
  }
 },
 "nbformat": 4,
 "nbformat_minor": 0
}
