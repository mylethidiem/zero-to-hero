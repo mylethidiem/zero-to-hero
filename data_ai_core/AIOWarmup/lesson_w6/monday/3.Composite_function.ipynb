{
 "cells": [
  {
   "cell_type": "markdown",
   "id": "30a65447",
   "metadata": {},
   "source": [
    "### Composite function"
   ]
  },
  {
   "cell_type": "markdown",
   "id": "c4ef4fd2",
   "metadata": {},
   "source": [
    "### Optimization"
   ]
  },
  {
   "cell_type": "code",
   "execution_count": null,
   "id": "3693dcb9",
   "metadata": {},
   "outputs": [],
   "source": []
  }
 ],
 "metadata": {
  "kernelspec": {
   "display_name": "Python 3 (ipykernel)",
   "language": "python",
   "name": "python3"
  },
  "language_info": {
   "codemirror_mode": {
    "name": "ipython",
    "version": 3
   },
   "file_extension": ".py",
   "mimetype": "text/x-python",
   "name": "python",
   "nbconvert_exporter": "python",
   "pygments_lexer": "ipython3",
   "version": "3.11.5"
  }
 },
 "nbformat": 4,
 "nbformat_minor": 5
}
