{
 "cells": [
  {
   "cell_type": "code",
   "execution_count": 2,
   "metadata": {},
   "outputs": [],
   "source": [
    "import numpy as np\n",
    "import cv2"
   ]
  },
  {
   "cell_type": "code",
   "execution_count": 6,
   "metadata": {},
   "outputs": [
    {
     "data": {
      "text/plain": [
       "True"
      ]
     },
     "execution_count": 6,
     "metadata": {},
     "output_type": "execute_result"
    }
   ],
   "source": [
    "bg = cv2.imread('background.png', flags=cv2.IMREAD_COLOR)#1\n",
    "bg = cv2.resize(bg, (640, 480))\n",
    "\n",
    "img = cv2.imread('StillImage.png', flags=cv2.IMREAD_COLOR)\n",
    "img = cv2.resize(img, (640, 480))\n",
    "\n",
    "difference = cv2.absdiff(bg, img)\n",
    "\n",
    "_, difference_binary = cv2.threshold(\n",
    "                                    src=difference,\n",
    "                                    thresh=15,\n",
    "                                    maxval=255,\n",
    "                                    type=cv2.THRESH_BINARY\n",
    "                                    )\n",
    "new_bg = cv2.imread('FakeBackground.png')\n",
    "new_bg = cv2.resize(new_bg, (640, 480))\n",
    "\n",
    "output = np.where(difference_binary==0, new_bg, img)\n",
    "cv2.imwrite('output.png', output)"
   ]
  },
  {
   "cell_type": "code",
   "execution_count": 14,
   "metadata": {},
   "outputs": [
    {
     "name": "stdout",
     "output_type": "stream",
     "text": [
      "difference:  (480, 640, 3)\n",
      "difference_gray:  (480, 640)\n",
      "difference_binary:  (480, 640)\n",
      "difference_binary_3_channel:  (480, 640, 3)\n",
      "output:  (480, 640, 3)\n"
     ]
    },
    {
     "data": {
      "text/plain": [
       "True"
      ]
     },
     "execution_count": 14,
     "metadata": {},
     "output_type": "execute_result"
    }
   ],
   "source": [
    "# improve\n",
    "bg = cv2.imread('background.png', flags=cv2.IMREAD_COLOR)#1\n",
    "bg = cv2.resize(bg, (640, 480))\n",
    "\n",
    "img = cv2.imread('StillImage.png', flags=cv2.IMREAD_COLOR)\n",
    "img = cv2.resize(img, (640, 480))\n",
    "\n",
    "difference = cv2.absdiff(bg, img)\n",
    "print(\"difference: \",difference.shape)\n",
    "difference_gray = cv2.cvtColor(difference, cv2.COLOR_BGR2GRAY)\n",
    "print(\"difference_gray: \",difference_gray.shape)\n",
    "_, difference_binary = cv2.threshold(\n",
    "                                    src=difference_gray,\n",
    "                                    thresh=15,\n",
    "                                    maxval=255,\n",
    "                                    type=cv2.THRESH_BINARY\n",
    "                                    )\n",
    "print(\"difference_binary: \",difference_binary.shape)\n",
    "difference_binary_3_channel = np.stack(\n",
    "    [\n",
    "        difference_binary,\n",
    "        difference_binary,\n",
    "        difference_binary\n",
    "    ],\n",
    "    axis=-1\n",
    ")\n",
    "print(\"difference_binary_3_channel: \",difference_binary_3_channel.shape)\n",
    "new_bg = cv2.imread('FakeBackground.png')\n",
    "new_bg = cv2.resize(new_bg, (640, 480))\n",
    "\n",
    "output = np.where(difference_binary_3_channel==0, new_bg, img)\n",
    "print(\"output: \",output.shape)\n",
    "cv2.imwrite('output.png', output)"
   ]
  },
  {
   "cell_type": "code",
   "execution_count": null,
   "metadata": {},
   "outputs": [],
   "source": []
  }
 ],
 "metadata": {
  "kernelspec": {
   "display_name": "ds_env",
   "language": "python",
   "name": "python3"
  },
  "language_info": {
   "codemirror_mode": {
    "name": "ipython",
    "version": 3
   },
   "file_extension": ".py",
   "mimetype": "text/x-python",
   "name": "python",
   "nbconvert_exporter": "python",
   "pygments_lexer": "ipython3",
   "version": "3.11.13"
  }
 },
 "nbformat": 4,
 "nbformat_minor": 2
}
