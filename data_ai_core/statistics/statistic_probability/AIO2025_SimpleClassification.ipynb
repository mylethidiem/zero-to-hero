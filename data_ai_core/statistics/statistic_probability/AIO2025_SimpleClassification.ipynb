{
 "cells": [
  {
   "cell_type": "markdown",
   "id": "f697aea6",
   "metadata": {},
   "source": [
    "## Simple Classification"
   ]
  },
  {
   "cell_type": "code",
   "execution_count": 7,
   "id": "1e7ced2c",
   "metadata": {},
   "outputs": [],
   "source": [
    "import numpy as np\n",
    "from sklearn.naive_bayes import BernoulliNB\n",
    "\n",
    "# Data: Studied (1 for Yes, 0 for No) and Result (1 for Pass, 0 for Fail)\n",
    "X = np.array([[0], [0], [1], [1], [1], [0]])\n",
    "y = np.array([0, 1, 0, 1, 1, 0])\n",
    "\n",
    "# Create and train the model\n",
    "model = BernoulliNB()\n",
    "model.fit(X, y)\n",
    "\n",
    "# Predict the result for a student who studied\n",
    "new_data = np.array([[1]])\n",
    "prediction = model.predict(new_data)\n",
    "prediction_proba = model.predict_proba(new_data)"
   ]
  },
  {
   "cell_type": "code",
   "execution_count": 2,
   "id": "90b0add4",
   "metadata": {},
   "outputs": [
    {
     "name": "stdout",
     "output_type": "stream",
     "text": [
      "prediction = 1.000000\n",
      "[[0.4 0.6]]\n"
     ]
    },
    {
     "name": "stderr",
     "output_type": "stream",
     "text": [
      "/tmp/ipykernel_86707/3859852243.py:18: DeprecationWarning: Conversion of an array with ndim > 0 to a scalar is deprecated, and will error in future. Ensure you extract a single element from your array before performing this operation. (Deprecated NumPy 1.25.)\n",
      "  print(\"prediction = %f\" % prediction)\n"
     ]
    }
   ],
   "source": [
    "import numpy as np\n",
    "from sklearn.naive_bayes import BernoulliNB\n",
    "\n",
    "# Data: Studied (1 for Yes, 0 for No)\n",
    "# and Result (1 for Pass, 0 for Fail)\n",
    "X = np.array([[0], [0], [1], [1], [1], [0]])\n",
    "y = np.array([0, 1, 0, 1, 1, 0])\n",
    "\n",
    "# Create and train the model\n",
    "model = BernoulliNB()\n",
    "model.fit(X,y)\n",
    "\n",
    "# Predict the result for a student who studied\n",
    "new_data = np.array([[1]])\n",
    "prediction = model.predict(new_data)\n",
    "prediction_probability = model.predict_proba(new_data)\n",
    "\n",
    "print(\"prediction = %f\" % prediction)\n",
    "print(prediction_probability)"
   ]
  },
  {
   "cell_type": "code",
   "execution_count": 3,
   "id": "f131a97a",
   "metadata": {},
   "outputs": [
    {
     "data": {
      "text/plain": [
       "array([0.5, 0.5])"
      ]
     },
     "execution_count": 3,
     "metadata": {},
     "output_type": "execute_result"
    }
   ],
   "source": [
    "np.exp(model.class_log_prior_)"
   ]
  },
  {
   "cell_type": "code",
   "execution_count": 13,
   "id": "1926fe1b",
   "metadata": {},
   "outputs": [
    {
     "data": {
      "text/plain": [
       "array([[0.4],\n",
       "       [0.6]])"
      ]
     },
     "execution_count": 13,
     "metadata": {},
     "output_type": "execute_result"
    }
   ],
   "source": [
    "# Empirical log probability of features given a class, P(x_i|y)\n",
    "np.exp(model.feature_log_prob_)"
   ]
  }
 ],
 "metadata": {
  "kernelspec": {
   "display_name": "ds_env",
   "language": "python",
   "name": "python3"
  },
  "language_info": {
   "codemirror_mode": {
    "name": "ipython",
    "version": 3
   },
   "file_extension": ".py",
   "mimetype": "text/x-python",
   "name": "python",
   "nbconvert_exporter": "python",
   "pygments_lexer": "ipython3",
   "version": "3.11.13"
  }
 },
 "nbformat": 4,
 "nbformat_minor": 5
}
