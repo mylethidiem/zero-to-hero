{
 "cells": [
  {
   "cell_type": "markdown",
   "metadata": {},
   "source": [
    "# Remember add document about this code"
   ]
  },
  {
   "cell_type": "markdown",
   "metadata": {},
   "source": [
    "### OOP+Data Structure (Queue, Stack and Tree)"
   ]
  },
  {
   "cell_type": "markdown",
   "metadata": {},
   "source": [
    "### Stack data structure"
   ]
  },
  {
   "cell_type": "code",
   "execution_count": 2,
   "metadata": {},
   "outputs": [
    {
     "name": "stdout",
     "output_type": "stream",
     "text": [
      "[12, 8, 21]\n"
     ]
    }
   ],
   "source": [
    "class MyStack:\n",
    "    def __init__(self, capacity):\n",
    "        self.__capacity = capacity\n",
    "        self.__stack = []\n",
    "\n",
    "    def push(self, value):\n",
    "        self.__stack.append(value)\n",
    "\n",
    "    def print(self):\n",
    "        print(self.__stack)\n",
    "\n",
    "stack = MyStack(5)\n",
    "stack.push(12)\n",
    "stack.push(8)\n",
    "stack.push(21)\n",
    "\n",
    "stack.print()"
   ]
  },
  {
   "cell_type": "code",
   "execution_count": 10,
   "metadata": {},
   "outputs": [],
   "source": [
    "class MyStack:\n",
    "    def __init__(self, capacity=5):\n",
    "        self.__capacity = capacity\n",
    "        self.__stack = []\n",
    "\n",
    "    def is_full(self):\n",
    "        return len(self.__stack) == self.__capacity\n",
    "\n",
    "    def push(self, value):\n",
    "        if self.is_full():\n",
    "            print(\"Stack is full so nothing happen!\")\n",
    "            return\n",
    "        self.__stack.append(value)\n",
    "\n",
    "    # I also see other call this function is `peek`\n",
    "    def top(self):\n",
    "        if self.is_empty():\n",
    "            print(\"Stack is full so nothing happen!\")\n",
    "            return None\n",
    "        return self.__stack[-1]\n",
    "\n",
    "    def describe(self):\n",
    "        print(self.__stack)\n",
    "\n",
    "    def is_empty(self):\n",
    "        return len(self.__stack) == 0\n",
    "\n",
    "    def pop(self):\n",
    "        if self.is_empty():\n",
    "            print(\"The stack is empty so we cannot pop value!\")\n",
    "            return None\n",
    "        return self.__stack.pop()\n",
    "    def size(self):\n",
    "        return len(self.__stack)\n"
   ]
  },
  {
   "cell_type": "code",
   "execution_count": 13,
   "metadata": {},
   "outputs": [
    {
     "name": "stdout",
     "output_type": "stream",
     "text": [
      "Starting pushing!!!\n",
      "Stack is full so nothing happen!\n",
      "[12, 8, 21, 33, 34]\n",
      "\n",
      "Starting poping!!!\n",
      "After 3 times poping the stack currently is: \n",
      "[12, 8]\n",
      "\n",
      "Continuing poping!!!\n",
      "The stack is empty so we cannot pop value!\n",
      "The stack is empty so we cannot pop value!\n",
      "\n",
      "After 4 times poping the stack currently is: \n",
      "[]\n"
     ]
    }
   ],
   "source": [
    "stack = MyStack(5)\n",
    "print(\"Starting pushing!!!\")\n",
    "stack.push(12)\n",
    "stack.push(8)\n",
    "stack.push(21)\n",
    "stack.push(33)\n",
    "stack.push(34)\n",
    "stack.push(35)\n",
    "stack.describe()\n",
    "\n",
    "# ...\n",
    "print(\"\\nStarting poping!!!\")\n",
    "stack.pop()\n",
    "stack.pop()\n",
    "stack.pop()\n",
    "print(\"After 3 times poping the stack currently is: \")\n",
    "stack.describe()\n",
    "\n",
    "print(\"\\nContinuing poping!!!\")\n",
    "stack.pop()\n",
    "stack.pop()\n",
    "stack.pop()\n",
    "stack.pop()\n",
    "\n",
    "print(\"\\nAfter 4 times poping the stack currently is: \")\n",
    "stack.describe()"
   ]
  },
  {
   "cell_type": "code",
   "execution_count": 21,
   "metadata": {},
   "outputs": [
    {
     "name": "stdout",
     "output_type": "stream",
     "text": [
      "Current size: 1\n",
      "Is empty? True\n"
     ]
    }
   ],
   "source": [
    "# Example usage\n",
    "stack = MyStack()\n",
    "\n",
    "# Push elements\n",
    "stack.push(\"Apple\")\n",
    "stack.push(\"Banana\")\n",
    "stack.push(\"Cherry\")\n",
    "\n",
    "# Peek at the top element\n",
    "stack.top()  # Should be \"Cherry\"\n",
    "\n",
    "# Pop elements\n",
    "stack.pop()   # Removes \"Cherry\"\n",
    "stack.pop()   # Removes \"Banana\"\n",
    "\n",
    "# Peek again\n",
    "stack.top()  # Should now be \"Apple\"\n",
    "\n",
    "#Check size\n",
    "print(\"Current size:\", stack.size())\n",
    "\n",
    "# Final pop\n",
    "stack.pop()   # Removes \"Apple\"\n",
    "\n",
    "#Is the stack empty now?\n",
    "print(\"Is empty?\", stack.is_empty())"
   ]
  },
  {
   "cell_type": "markdown",
   "metadata": {},
   "source": [
    "### Explain for me more dfs_with_stack"
   ]
  },
  {
   "cell_type": "code",
   "execution_count": 22,
   "metadata": {},
   "outputs": [],
   "source": [
    "### Explain for me more\n",
    "def dfs_with_stack(tree, start_node):\n",
    "    visited = set()\n",
    "    stack = MyStack()\n",
    "    stack.push(start_node)\n",
    "\n",
    "    print(\"DFS Traversal: \")#\n",
    "\n",
    "    while not stack.is_empty():\n",
    "        node = stack.pop()\n",
    "        if node not in visited:\n",
    "            print(node)\n",
    "            visited.add(node)\n",
    "            # Add neighbors in reversed order for left to right traversal\n",
    "            for neighbor in reversed(tree[node]):\n",
    "                if neighbor not in visited:\n",
    "                    stack.push(neighbor)"
   ]
  },
  {
   "cell_type": "code",
   "execution_count": 23,
   "metadata": {},
   "outputs": [
    {
     "name": "stdout",
     "output_type": "stream",
     "text": [
      "DFS Traversal: \n",
      "A\n",
      "B\n",
      "D\n",
      "C\n",
      "E\n"
     ]
    }
   ],
   "source": [
    "# Define the tree\n",
    "Tree = {\n",
    "    'A': ['B', 'C'],\n",
    "    'B': ['D'],\n",
    "    'C': ['E'],\n",
    "    'D': [],\n",
    "    'E': []\n",
    "}\n",
    "\n",
    "# Perform DFS\n",
    "dfs_with_stack(Tree, 'A')"
   ]
  },
  {
   "cell_type": "code",
   "execution_count": null,
   "metadata": {},
   "outputs": [],
   "source": [
    "# Tree class\n",
    "class TreeNode:\n",
    "    def __init__(self, data):\n",
    "        self.data = data\n",
    "        self.children = []\n",
    "        self.parent = None\n",
    "\n",
    "    def add_child(self, child):\n",
    "        child.parent = self\n",
    "        self.children.append(child)\n",
    "\n",
    "    def get_level(self):\n",
    "        level = 0\n",
    "        p = self.parent\n",
    "        while p:\n",
    "            level += 1\n",
    "            p = p.parent\n",
    "        return level\n",
    "\n",
    "    def print_tree(self):\n",
    "        space = ' ' * self.get_level() * 3\n",
    "        prefix = space + '|__' if self.parent else ''\n",
    "        print(prefix + self.data) #add prefix\n",
    "        if self.children:\n",
    "            for child in self.children:\n",
    "                child.print_tree()"
   ]
  },
  {
   "cell_type": "code",
   "execution_count": 25,
   "metadata": {},
   "outputs": [
    {
     "name": "stdout",
     "output_type": "stream",
     "text": [
      "A\n",
      "   |__B\n",
      "      |__D\n",
      "      |__E\n",
      "   |__C\n",
      "      |__F\n",
      "      |__G\n"
     ]
    }
   ],
   "source": [
    "def create_example_tree():\n",
    "    a_node = TreeNode(\"A\")\n",
    "    b_node = TreeNode(\"B\")\n",
    "    c_node = TreeNode(\"C\")\n",
    "    d_node = TreeNode(\"D\")\n",
    "    e_node = TreeNode(\"E\")\n",
    "    f_node = TreeNode(\"F\")\n",
    "    g_node = TreeNode(\"G\")\n",
    "\n",
    "    a_node.add_child(b_node)\n",
    "    a_node.add_child(c_node)\n",
    "\n",
    "    b_node.add_child(d_node)\n",
    "    b_node.add_child(e_node)\n",
    "\n",
    "    c_node.add_child(f_node)\n",
    "    c_node.add_child(g_node)\n",
    "    return a_node\n",
    "\n",
    "tree = create_example_tree()\n",
    "tree.print_tree()"
   ]
  },
  {
   "cell_type": "code",
   "execution_count": null,
   "metadata": {},
   "outputs": [
    {
     "name": "stdout",
     "output_type": "stream",
     "text": [
      "Requirement already satisfied: graphviz in /home/banhmuy/miniconda3/envs/ds_env/lib/python3.11/site-packages (0.21)\n",
      "Note: you may need to restart the kernel to use updated packages.\n"
     ]
    }
   ],
   "source": [
    "pip install graphviz\n",
    "# Then run sudo apt-get install graphviz\n",
    "# Fix FileNotFoundError: [Errno 2] No such file or directory: 'xdg-open'\n",
    "# sudo apt-get install --reinstall xdg-utils"
   ]
  },
  {
   "cell_type": "code",
   "execution_count": 4,
   "metadata": {},
   "outputs": [
    {
     "name": "stderr",
     "output_type": "stream",
     "text": [
      "/usr/bin/xdg-open: 882: www-browser: not found\n",
      "/usr/bin/xdg-open: 882: links2: not found\n",
      "/usr/bin/xdg-open: 882: elinks: not found\n",
      "/usr/bin/xdg-open: 882: links: not found\n",
      "/usr/bin/xdg-open: 882: lynx: not found\n",
      "/usr/bin/xdg-open: 882: w3m: not found\n",
      "xdg-open: no method available for opening 'orignial_tree.png'\n"
     ]
    }
   ],
   "source": [
    "from graphviz import Graph\n",
    "\n",
    "class TreeNode:\n",
    "    def __init__(self, key):\n",
    "        self.left = None\n",
    "        self.right = None\n",
    "        self.val = key\n",
    "\n",
    "def add_edges(dot, node):\n",
    "    if node is None:\n",
    "        return\n",
    "    if node.left:\n",
    "        dot.edge(str(node.val), str(node.left.val))\n",
    "        add_edges(dot, node.left)\n",
    "    if node.right:\n",
    "        dot.edge(str(node.val), str(node.right.val))\n",
    "        add_edges(dot, node.right)\n",
    "\n",
    "def draw_tree(root):\n",
    "    dot = Graph()\n",
    "    dot.node(str(root.val))\n",
    "    add_edges(dot, root)\n",
    "    return dot\n",
    "\n",
    "# Driver code\n",
    "if __name__ == '__main__':\n",
    "    # Create the root of the tree\n",
    "    root = TreeNode(1)\n",
    "    root.left = TreeNode(2)\n",
    "    root.right = TreeNode(3)\n",
    "    root.left.left = TreeNode(4)\n",
    "    root.left.right = TreeNode(5)\n",
    "\n",
    "    dot = draw_tree(root)\n",
    "    dot.render('orignial_tree', format='png', view=True)"
   ]
  },
  {
   "cell_type": "code",
   "execution_count": 11,
   "metadata": {},
   "outputs": [
    {
     "name": "stdout",
     "output_type": "stream",
     "text": [
      "Original tree:\n",
      "BFS traversal result: [1]\n"
     ]
    },
    {
     "name": "stderr",
     "output_type": "stream",
     "text": [
      "/usr/bin/xdg-open: 882: www-browser: not found\n",
      "/usr/bin/xdg-open: 882: links2: not found\n",
      "/usr/bin/xdg-open: 882: elinks: not found\n",
      "/usr/bin/xdg-open: 882: links: not found\n",
      "/usr/bin/xdg-open: 882: lynx: not found\n",
      "/usr/bin/xdg-open: 882: w3m: not found\n",
      "xdg-open: no method available for opening 'original_tree_bfs.png'\n"
     ]
    }
   ],
   "source": [
    "from collections import deque\n",
    "\n",
    "def bfs(root):\n",
    "    if root is None:\n",
    "        return []\n",
    "\n",
    "    result = []\n",
    "    queue = deque([root])\n",
    "\n",
    "    while queue:\n",
    "        node = queue.popleft()\n",
    "        result.append(node.val)\n",
    "\n",
    "        if node.left:\n",
    "            queue.append(node.left)\n",
    "        if node.right:\n",
    "            queue.append(node.right)\n",
    "\n",
    "        return result\n",
    "\n",
    "root = TreeNode(1)\n",
    "root.left = TreeNode(2)\n",
    "root.right = TreeNode(3)\n",
    "root.left.left = TreeNode(4)\n",
    "root.left.right = TreeNode(5)\n",
    "root.right.left = TreeNode(6)\n",
    "root.right.right = TreeNode(7)\n",
    "\n",
    "print(\"Original tree:\")\n",
    "dot = draw_tree(root)\n",
    "dot.render('original_tree_bfs', format='png', view=True)\n",
    "\n",
    "# Perform BFS\n",
    "bfs_result = bfs(root)\n",
    "print(\"BFS traversal result:\", bfs_result)"
   ]
  },
  {
   "cell_type": "code",
   "execution_count": 12,
   "metadata": {},
   "outputs": [
    {
     "name": "stdout",
     "output_type": "stream",
     "text": [
      "DFS Traversal (Pre-order):\n",
      "visited 1\n",
      "visited 2\n",
      "visited 4\n",
      "visited 5\n",
      "visited 3\n",
      "visited 6\n",
      "visited 7\n"
     ]
    }
   ],
   "source": [
    "class BinaryTree:\n",
    "    def __init__(self, root=None):\n",
    "        self.root = root\n",
    "\n",
    "    def dfs(self):\n",
    "        if not self.root:\n",
    "            print(\"Tree is empty.\")\n",
    "            return\n",
    "\n",
    "        stack = MyStack()\n",
    "        stack.push(self.root)\n",
    "\n",
    "        print(\"DFS Traversal (Pre-order):\")\n",
    "        while not stack.is_empty():\n",
    "            current = stack.pop()\n",
    "            print(\"visited\", current.val)\n",
    "            # Push right first so left is processed first\n",
    "            if current.right:\n",
    "                stack.push(current.right)\n",
    "            if current.left:\n",
    "                stack.push(current.left)\n",
    "\n",
    "# Create binary tree nodes\n",
    "root = TreeNode(1)\n",
    "root.left = TreeNode(2)\n",
    "root.right = TreeNode(3)\n",
    "root.left.left = TreeNode(4)\n",
    "root.left.right = TreeNode(5)\n",
    "root.right.left = TreeNode(6)\n",
    "root.right.right = TreeNode(7)\n",
    "\n",
    "# Create the tree and perform DFS\n",
    "binary_tree = BinaryTree(root)\n",
    "binary_tree.dfs()"
   ]
  },
  {
   "cell_type": "code",
   "execution_count": null,
   "metadata": {},
   "outputs": [
    {
     "name": "stdout",
     "output_type": "stream",
     "text": [
      "\n",
      "Inserting 6 into the binary tree.\n"
     ]
    },
    {
     "name": "stderr",
     "output_type": "stream",
     "text": [
      "/usr/bin/xdg-open: 882: /usr/bin/xdg-open: 882: www-browser: not found\n",
      "www-browser: not found\n",
      "/usr/bin/xdg-open: 882: links2: not found\n",
      "/usr/bin/xdg-open: 882: links2: not found\n",
      "/usr/bin/xdg-open: 882: elinks: not found\n",
      "/usr/bin/xdg-open: 882: elinks: not found\n",
      "/usr/bin/xdg-open: 882: links: not found\n",
      "/usr/bin/xdg-open: 882: links: not found\n",
      "/usr/bin/xdg-open: 882: lynx: not found\n",
      "/usr/bin/xdg-open: 882: lynx: not found\n",
      "/usr/bin/xdg-open: 882: w3m: not found\n",
      "xdg-open: no method available for opening 'after_tree.png'\n",
      "/usr/bin/xdg-open: 882: w3m: not found\n",
      "xdg-open: no method available for opening 'orignial_tree.png'\n"
     ]
    }
   ],
   "source": [
    "from graphviz import Graph\n",
    "\n",
    "class TreeNode:\n",
    "    def __init__(self, key):\n",
    "        self.left = None\n",
    "        self.right = None\n",
    "        self.val = key\n",
    "\n",
    "def insert_node(root, key):\n",
    "    # Create a new node\n",
    "    new_node = TreeNode(key)\n",
    "    # If the tree is empty, the new node becomes the root\n",
    "    if root is None:\n",
    "        return new_node\n",
    "    # Use a queue to perform level-order traversal\n",
    "    queue = []\n",
    "    queue.append(root)\n",
    "    # Traverse the tree\n",
    "    while queue:\n",
    "        # Dequeue a node\n",
    "        temp = queue.pop(0)\n",
    "        # Check if the left child is empty\n",
    "        if temp.left is None:\n",
    "            temp.left == new_node\n",
    "            return root\n",
    "        else:\n",
    "            queue.append(temp.left)\n",
    "\n",
    "        # Check if the right child is empty\n",
    "        if temp.right is None:\n",
    "            temp.right = new_node\n",
    "            return root\n",
    "        else:\n",
    "            queue.append(temp.right)\n",
    "    return root\n",
    "\n",
    "def add_edges(dot, node):\n",
    "    if node is None:\n",
    "        return\n",
    "\n",
    "    if node.left:\n",
    "        dot.edge(str(node.val), str(node.left.val))\n",
    "        add_edges(dot, node.left)\n",
    "    if node.right:\n",
    "        dot.edge(str(node.val), str(node.right.val))\n",
    "        add_edges(dot, node.right)\n",
    "\n",
    "def draw_tree(root):\n",
    "    dot = Graph()\n",
    "    dot.node(str(root.val))\n",
    "    add_edges(dot, root)\n",
    "    return dot\n",
    "\n",
    "# Driver code\n",
    "if __name__ == '__main__':\n",
    "    # Create the root of the tree\n",
    "    root = TreeNode(1)\n",
    "    root.left = TreeNode(2)\n",
    "    root.right = TreeNode(3)\n",
    "    root.left.left = TreeNode(4)\n",
    "    root.left.right = TreeNode(5)\n",
    "\n",
    "    dot = draw_tree(root)\n",
    "    dot.render('orignial_tree', format='png', view=True)\n",
    "\n",
    "    key = 6\n",
    "    print(f\"\\nInserting {key} into the binary tree.\")\n",
    "    root = insert_node(root, key)\n",
    "\n",
    "    dot = draw_tree(root)\n",
    "    dot.render('after_tree', format='png', view=True)\n"
   ]
  },
  {
   "cell_type": "markdown",
   "metadata": {},
   "source": [
    "### Queue data structure"
   ]
  },
  {
   "cell_type": "code",
   "execution_count": 15,
   "metadata": {},
   "outputs": [
    {
     "name": "stdout",
     "output_type": "stream",
     "text": [
      "[]\n",
      "Starting pushing!!!\n",
      "The queue is full so we cannot enqueue more items!\n",
      "[9, 5, 2, 1, 0]\n",
      "\n",
      "Starting dequeuing!!!\n",
      "[1, 0]\n",
      "The queue is empty so we cannot dequeue anymore!\n",
      "The queue is empty so we cannot dequeue anymore!\n",
      "[]\n"
     ]
    }
   ],
   "source": [
    "class MyQueue:\n",
    "    def __init__(self, capacity):\n",
    "        self.__capacity = capacity\n",
    "        self.__queue = []\n",
    "\n",
    "    def is_full(self):\n",
    "        return len(self.__queue) == self.__capacity\n",
    "\n",
    "    def enqueue(self, value):\n",
    "        if self.is_full():\n",
    "            print('The queue is full so we cannot enqueue more items!')\n",
    "            return None\n",
    "        return self.__queue.append(value)\n",
    "\n",
    "    def describe(self):\n",
    "        print(self.__queue)\n",
    "\n",
    "    def is_empty(self):\n",
    "        return len(self.__queue) == 0\n",
    "\n",
    "    def dequeue(self):\n",
    "        if self.is_empty():\n",
    "            print('The queue is empty so we cannot dequeue anymore!')\n",
    "            return None\n",
    "        return self.__queue.pop(0)\n",
    "\n",
    "\n",
    "queue = MyQueue(5)\n",
    "queue.describe()\n",
    "print(\"Starting pushing!!!\")\n",
    "queue.enqueue(9)\n",
    "queue.enqueue(5)\n",
    "queue.enqueue(2)\n",
    "queue.enqueue(1)\n",
    "queue.enqueue(0)\n",
    "queue.enqueue(6)\n",
    "queue.describe()\n",
    "\n",
    "print(\"\\nStarting dequeuing!!!\")\n",
    "queue.dequeue()\n",
    "queue.dequeue()\n",
    "queue.dequeue()\n",
    "queue.describe()\n",
    "\n",
    "queue.dequeue()\n",
    "queue.dequeue()\n",
    "queue.dequeue()\n",
    "queue.dequeue()\n",
    "queue.describe()"
   ]
  },
  {
   "cell_type": "code",
   "execution_count": null,
   "metadata": {},
   "outputs": [
    {
     "name": "stdout",
     "output_type": "stream",
     "text": [
      "\n",
      "Deleting node with key 2\n"
     ]
    },
    {
     "name": "stderr",
     "output_type": "stream",
     "text": [
      "/usr/bin/xdg-open: 882: www-browser: not found\n",
      "/usr/bin/xdg-open: 882: www-browser: not found\n",
      "/usr/bin/xdg-open: 882: links2: not found\n",
      "/usr/bin/xdg-open: 882: links2: not found\n",
      "/usr/bin/xdg-open: 882: elinks: not found\n",
      "/usr/bin/xdg-open: 882: elinks: not found\n",
      "/usr/bin/xdg-open: 882: links: not found\n",
      "/usr/bin/xdg-open: 882: links: not found\n",
      "/usr/bin/xdg-open: 882: lynx: not found\n",
      "/usr/bin/xdg-open: 882: lynx: not found\n",
      "/usr/bin/xdg-open: 882: w3m: not found\n",
      "xdg-open: no method available for opening 'original_delete_tree.png'\n",
      "/usr/bin/xdg-open: 882: w3m: not found\n",
      "xdg-open: no method available for opening 'after_delete_tree.png'\n"
     ]
    }
   ],
   "source": [
    "#TBU\n",
    "from collections import deque\n",
    "\n",
    "def delete_node(root, key):\n",
    "    if root is None:\n",
    "        return None\n",
    "\n",
    "    if root.left is None and root.right is None:\n",
    "        if root.val == key:\n",
    "            return None\n",
    "        else:\n",
    "            return root\n",
    "\n",
    "    key_node = None\n",
    "    queue = deque([root])\n",
    "\n",
    "    while queue:\n",
    "        node = queue.popleft()\n",
    "\n",
    "        if node.val == key:\n",
    "            key_node = node\n",
    "\n",
    "        if node.left:\n",
    "            queue.append(node.left)\n",
    "\n",
    "        if node.right:\n",
    "            queue.append(node.right)\n",
    "\n",
    "    if key_node:\n",
    "        deepest_node = node\n",
    "        key_node.val = deepest_node.val\n",
    "        delete_deepest(root, deepest_node)\n",
    "\n",
    "    return root\n",
    "\n",
    "def delete_deepest(root, d_node):\n",
    "    queue = deque([root])\n",
    "    while queue:\n",
    "        node = queue.popleft()\n",
    "\n",
    "        if node is d_node:\n",
    "            node = None\n",
    "            return\n",
    "\n",
    "        if node.right:\n",
    "            if node.right is d_node:\n",
    "                node.right = None\n",
    "                return\n",
    "            else:\n",
    "                queue.append(node.right)\n",
    "\n",
    "        if node.left:\n",
    "            if node.left is d_node:\n",
    "                node.left = None\n",
    "                return\n",
    "            else:\n",
    "                queue.append(node.left)\n",
    "\n",
    "if __name__ == '__main__':\n",
    "    # Create the root of the tree\n",
    "    root = TreeNode(1)\n",
    "    root.left = TreeNode(2)\n",
    "    root.right = TreeNode(3)\n",
    "    root.left.left = TreeNode(4)\n",
    "    root.left.right = TreeNode(5)\n",
    "    root.right.left = TreeNode(6)\n",
    "    root.right.right = TreeNode(7)\n",
    "\n",
    "    dot = draw_tree(root)\n",
    "    dot.render('original_delete_tree', format='png', view=True)\n",
    "\n",
    "    key = 2\n",
    "    print(f\"\\nDeleting node with key {key}\")\n",
    "    root = delete_node(root, key)\n",
    "    dot = draw_tree(root)\n",
    "    dot.render('after_delete_tree', format='png', view=True)\n",
    "\n",
    "\n",
    "\n"
   ]
  },
  {
   "cell_type": "markdown",
   "metadata": {},
   "source": [
    "BST"
   ]
  },
  {
   "cell_type": "code",
   "execution_count": 15,
   "metadata": {},
   "outputs": [],
   "source": [
    "#TBD\n",
    "class BST:\n",
    "    def __init__(self):\n",
    "        self.root = None\n",
    "\n",
    "    def insert(self, key):\n",
    "        if self.root is None:\n",
    "            self.root = TreeNode(key)\n",
    "        else:\n",
    "            self._insert(self.root, key)\n",
    "\n",
    "    def _insert(self, node, key):\n",
    "        if key < node.val:\n",
    "            if node.left is None:\n",
    "                node.left = TreeNode(key)\n",
    "            else:\n",
    "                self._insert(node.left, key)\n",
    "        else:\n",
    "            if node.right is None:\n",
    "                node.right = TreeNode(key)\n",
    "            else:\n",
    "                self._insert(node.right, key)\n",
    "\n",
    "    def search(self, key):\n",
    "        return self._search(self.root, key)\n",
    "\n",
    "    def _search(self, node, key):\n",
    "        if node is None or node.val == key:\n",
    "            return node\n",
    "\n",
    "        if key < node.val:\n",
    "            return self._search(node.left, key)\n",
    "\n",
    "        return self._search(node.right, key)\n",
    "\n"
   ]
  },
  {
   "cell_type": "code",
   "execution_count": 16,
   "metadata": {},
   "outputs": [
    {
     "name": "stdout",
     "output_type": "stream",
     "text": [
      "Element 40 found in the BST\n"
     ]
    },
    {
     "name": "stderr",
     "output_type": "stream",
     "text": [
      "/usr/bin/xdg-open: 882: www-browser: not found\n",
      "/usr/bin/xdg-open: 882: links2: not found\n",
      "/usr/bin/xdg-open: 882: elinks: not found\n",
      "/usr/bin/xdg-open: 882: links: not found\n",
      "/usr/bin/xdg-open: 882: lynx: not found\n",
      "/usr/bin/xdg-open: 882: w3m: not found\n",
      "xdg-open: no method available for opening 'bst.png'\n"
     ]
    }
   ],
   "source": [
    "if __name__ == '__main__':\n",
    "    bst = BST()\n",
    "\n",
    "    # Insert elements\n",
    "    elements = [50, 30, 20, 40, 70, 60, 80]\n",
    "    for element in elements:\n",
    "        bst.insert(element)\n",
    "\n",
    "\n",
    "     # Visualize the BST\n",
    "    dot = draw_tree(bst.root)\n",
    "    dot.render('bst', format='png', view=True)\n",
    "\n",
    "    # Search for elements\n",
    "    key = 40\n",
    "    result = bst.search(key)\n",
    "    if result:\n",
    "        print(f\"Element {key} found in the BST\")\n",
    "    else:\n",
    "        print(f\"Element {key} not found in the BST\")\n"
   ]
  },
  {
   "cell_type": "markdown",
   "metadata": {},
   "source": [
    "### Queue Stack Tree"
   ]
  },
  {
   "cell_type": "code",
   "execution_count": null,
   "metadata": {},
   "outputs": [],
   "source": [
    "Tree = {\n",
    "    'A': ['B', 'C'],\n",
    "    'B': ['D'],\n",
    "    'C': ['E'],\n",
    "    'D': [],\n",
    "    'E': []\n",
    "}"
   ]
  },
  {
   "cell_type": "markdown",
   "metadata": {},
   "source": [
    "### Binary Tree"
   ]
  },
  {
   "cell_type": "code",
   "execution_count": 17,
   "metadata": {},
   "outputs": [],
   "source": [
    "class BinaryTreeNode:\n",
    "    def __init__(self, value):\n",
    "        self.value = value\n",
    "        self.left = None\n",
    "        self.right = None"
   ]
  },
  {
   "cell_type": "code",
   "execution_count": 20,
   "metadata": {},
   "outputs": [],
   "source": [
    "class BinaryTree:\n",
    "    def __init__(self, root=None):\n",
    "        self.root = root\n",
    "\n",
    "    def dfs(self):\n",
    "        if not self.root:\n",
    "            print(\"Tree is empty.\")\n",
    "            return\n",
    "\n",
    "        visited = set()\n",
    "        stack = MyStack()\n",
    "        stack.push(self.root)\n",
    "\n",
    "        print(\"DFS Traversal (Pre-order):\")\n",
    "\n",
    "        while not stack.is_empty():\n",
    "            current = stack.pop()\n",
    "            if current.value not in visited:\n",
    "                print(current.value)\n",
    "                visited.add(current.value)\n",
    "\n",
    "                # Push right first so left is processed first\n",
    "                if current.right:\n",
    "                    stack.push(current.right)\n",
    "                if current.left:\n",
    "                    stack.push(current.left)\n"
   ]
  },
  {
   "cell_type": "code",
   "execution_count": 21,
   "metadata": {},
   "outputs": [
    {
     "name": "stdout",
     "output_type": "stream",
     "text": [
      "DFS Traversal (Pre-order):\n",
      "A\n",
      "B\n",
      "D\n",
      "C\n",
      "E\n"
     ]
    }
   ],
   "source": [
    "# Create binary tree nodes\n",
    "A = BinaryTreeNode('A')\n",
    "B = BinaryTreeNode('B')\n",
    "C = BinaryTreeNode('C')\n",
    "D = BinaryTreeNode('D')\n",
    "E = BinaryTreeNode('E')\n",
    "\n",
    "# Link the nodes\n",
    "A.left = B\n",
    "A.right = C\n",
    "B.left = D\n",
    "C.right = E\n",
    "\n",
    "# Create the tree and perform DFS\n",
    "binary_tree = BinaryTree(A)\n",
    "binary_tree.dfs()\n"
   ]
  },
  {
   "cell_type": "code",
   "execution_count": 22,
   "metadata": {},
   "outputs": [
    {
     "name": "stdout",
     "output_type": "stream",
     "text": [
      "Labeled Image:\n",
      " [[1 1 0 0 0]\n",
      " [1 1 0 2 2]\n",
      " [0 0 0 2 2]\n",
      " [0 3 0 0 0]\n",
      " [3 3 3 0 0]]\n"
     ]
    },
    {
     "data": {
      "image/png": "[encoded data removed]",
      "text/plain": [
       "<Figure size 640x480 with 2 Axes>"
      ]
     },
     "metadata": {},
     "output_type": "display_data"
    }
   ],
   "source": [
    "import numpy as np\n",
    "import matplotlib.pyplot as plt\n",
    "\n",
    "# Sample binary image (1 = object pixel, 0 = background)\n",
    "binary_image = np.array([\n",
    "    [1, 1, 0, 0, 0],\n",
    "    [1, 1, 0, 1, 1],\n",
    "    [0, 0, 0, 1, 1],\n",
    "    [0, 1, 0, 0, 0],\n",
    "    [1, 1, 1, 0, 0]\n",
    "])\n",
    "\n",
    "rows, cols = binary_image.shape\n",
    "visited = np.zeros_like(binary_image, dtype=bool)\n",
    "labels = np.zeros_like(binary_image)\n",
    "label = 1\n",
    "\n",
    "def dfs_stack(r, c):\n",
    "    stack = [(r, c)]\n",
    "    while stack:\n",
    "        x, y = stack.pop()\n",
    "        if (0 <= x < rows) and (0 <= y < cols) and not visited[x, y] and binary_image[x, y] == 1:\n",
    "            visited[x, y] = True\n",
    "            labels[x, y] = label\n",
    "            # 4-connectivity (up, down, left, right)\n",
    "            neighbors = [(x-1, y), (x+1, y), (x, y-1), (x, y+1)]\n",
    "            stack.extend(neighbors)\n",
    "\n",
    "# Run DFS on all unvisited 1's\n",
    "for i in range(rows):\n",
    "    for j in range(cols):\n",
    "        if binary_image[i, j] == 1 and not visited[i, j]:\n",
    "            dfs_stack(i, j)\n",
    "            label += 1\n",
    "\n",
    "print(\"Labeled Image:\\n\", labels)\n",
    "\n",
    "# Visualize\n",
    "plt.imshow(labels, cmap='nipy_spectral')\n",
    "plt.title('Connected Components')\n",
    "plt.colorbar()\n",
    "plt.show()\n"
   ]
  },
  {
   "cell_type": "code",
   "execution_count": 23,
   "metadata": {},
   "outputs": [],
   "source": [
    "graph = {\n",
    "    'A': ['B', 'C'],\n",
    "    'B': ['D'],\n",
    "    'C': ['E'],\n",
    "    'D': [],\n",
    "    'E': []\n",
    "}"
   ]
  },
  {
   "cell_type": "code",
   "execution_count": 24,
   "metadata": {},
   "outputs": [
    {
     "name": "stdout",
     "output_type": "stream",
     "text": [
      "<class 'dict'>\n"
     ]
    }
   ],
   "source": [
    "print(type(graph))"
   ]
  }
 ],
 "metadata": {
  "colab": {
   "include_colab_link": true,
   "provenance": []
  },
  "kernelspec": {
   "display_name": "ds_env",
   "language": "python",
   "name": "python3"
  },
  "language_info": {
   "codemirror_mode": {
    "name": "ipython",
    "version": 3
   },
   "file_extension": ".py",
   "mimetype": "text/x-python",
   "name": "python",
   "nbconvert_exporter": "python",
   "pygments_lexer": "ipython3",
   "version": "3.11.13"
  }
 },
 "nbformat": 4,
 "nbformat_minor": 0
}
