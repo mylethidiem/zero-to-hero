{
 "cells": [
  {
   "cell_type": "markdown",
   "metadata": {
    "colab_type": "text",
    "id": "view-in-github"
   },
   "source": [
    "<a href=\"https://colab.research.google.com/github/mylethidiem/zero-to-hero/blob/main/AIO2025/W01/M01_Python_practice.ipynb\" target=\"_parent\"><img src=\"https://colab.research.google.com/assets/colab-badge.svg\" alt=\"Open In Colab\"/></a>"
   ]
  },
  {
   "cell_type": "markdown",
   "metadata": {},
   "source": [
    "## Basic practice"
   ]
  },
  {
   "cell_type": "code",
   "execution_count": 2,
   "metadata": {},
   "outputs": [
    {
     "name": "stdout",
     "output_type": "stream",
     "text": [
      "{'banana': 2, 'apple': 4, 'rice': 3, 'corn': 7}\n"
     ]
    }
   ],
   "source": [
    "#16/07/2025 revise Module 1\n",
    "# Friday w02\n",
    "# Merge two dictionaries\n",
    "fruits = {'banana': 2, 'apple': 4}\n",
    "cereal = {'rice': 3, 'corn': 7}\n",
    "\n",
    "result = {**fruits, **cereal}\n",
    "print(result)"
   ]
  },
  {
   "cell_type": "code",
   "execution_count": 3,
   "metadata": {},
   "outputs": [
    {
     "name": "stdout",
     "output_type": "stream",
     "text": [
      "True\n",
      "False\n"
     ]
    }
   ],
   "source": [
    "# Check if key exist\n",
    "fruits = {'banana': 2, 'apple': 4}\n",
    "print('apple' in fruits)\n",
    "print('corn' in fruits)"
   ]
  },
  {
   "cell_type": "code",
   "execution_count": 4,
   "metadata": {},
   "outputs": [
    {
     "name": "stdout",
     "output_type": "stream",
     "text": [
      "{'banana': 2}\n"
     ]
    }
   ],
   "source": [
    "# Remove empty items\n",
    "fruits = {'banana': 2, 'apple': None}\n",
    "dict1 = {key: value for (key, value)\n",
    "          in fruits.items()\n",
    "            if value is not None}\n",
    "print(dict1)\n",
    "# Dictionary comprehension"
   ]
  },
  {
   "cell_type": "code",
   "execution_count": 5,
   "metadata": {},
   "outputs": [
    {
     "name": "stdout",
     "output_type": "stream",
     "text": [
      "Alice is 29 years old.\n"
     ]
    }
   ],
   "source": [
    "def greet(name, age):\n",
    "    print(f\"{name} is {age} years old.\")\n",
    "\n",
    "info = {\"name\": \"Alice\", \"age\":29}\n",
    "greet(**info)\n"
   ]
  },
  {
   "cell_type": "code",
   "execution_count": null,
   "metadata": {},
   "outputs": [],
   "source": []
  },
  {
   "cell_type": "code",
   "execution_count": 53,
   "metadata": {
    "colab": {
     "base_uri": "https://localhost:8080/"
    },
    "id": "hcFJRCjuIx2g",
    "outputId": "a0f58055-1773-429a-8d6f-388854c92d83"
   },
   "outputs": [
    {
     "name": "stdout",
     "output_type": "stream",
     "text": [
      "1.5\n"
     ]
    }
   ],
   "source": [
    "class Animal4:\n",
    "  def __init__(self):\n",
    "    self._age = 1.5\n",
    "\n",
    "class Cat10(Animal4):\n",
    "  def __init__(self):\n",
    "    super().__init__()\n",
    "\n",
    "  def describe(self):\n",
    "    print(self._age)\n",
    "\n",
    "c10 = Cat10()\n",
    "c10.describe()"
   ]
  },
  {
   "cell_type": "code",
   "execution_count": 51,
   "metadata": {
    "colab": {
     "base_uri": "https://localhost:8080/",
     "height": 332
    },
    "id": "AS_oliyBGtSW",
    "outputId": "c9d137a1-7059-4a3f-bcf2-783756295df6"
   },
   "outputs": [
    {
     "name": "stdout",
     "output_type": "stream",
     "text": [
      "Calico\n",
      "white\n"
     ]
    },
    {
     "ename": "AttributeError",
     "evalue": "'Cat9' object has no attribute '_Cat9__age'",
     "output_type": "error",
     "traceback": [
      "\u001b[0;31m---------------------------------------------------------------------------\u001b[0m",
      "\u001b[0;31mAttributeError\u001b[0m                            Traceback (most recent call last)",
      "\u001b[0;32m/tmp/ipython-input-51-1261748503.py\u001b[0m in \u001b[0;36m<cell line: 0>\u001b[0;34m()\u001b[0m\n\u001b[1;32m     15\u001b[0m \u001b[0;34m\u001b[0m\u001b[0m\n\u001b[1;32m     16\u001b[0m \u001b[0mc9\u001b[0m \u001b[0;34m=\u001b[0m \u001b[0mCat9\u001b[0m\u001b[0;34m(\u001b[0m\u001b[0;34m)\u001b[0m\u001b[0;34m\u001b[0m\u001b[0;34m\u001b[0m\u001b[0m\n\u001b[0;32m---> 17\u001b[0;31m \u001b[0mc9\u001b[0m\u001b[0;34m.\u001b[0m\u001b[0mdescribe\u001b[0m\u001b[0;34m(\u001b[0m\u001b[0;34m)\u001b[0m\u001b[0;34m\u001b[0m\u001b[0;34m\u001b[0m\u001b[0m\n\u001b[0m",
      "\u001b[0;32m/tmp/ipython-input-51-1261748503.py\u001b[0m in \u001b[0;36mdescribe\u001b[0;34m(self)\u001b[0m\n\u001b[1;32m     12\u001b[0m     \u001b[0mprint\u001b[0m\u001b[0;34m(\u001b[0m\u001b[0mself\u001b[0m\u001b[0;34m.\u001b[0m\u001b[0mname\u001b[0m\u001b[0;34m)\u001b[0m\u001b[0;34m\u001b[0m\u001b[0;34m\u001b[0m\u001b[0m\n\u001b[1;32m     13\u001b[0m     \u001b[0mprint\u001b[0m\u001b[0;34m(\u001b[0m\u001b[0mself\u001b[0m\u001b[0;34m.\u001b[0m\u001b[0m_color\u001b[0m\u001b[0;34m)\u001b[0m\u001b[0;34m\u001b[0m\u001b[0;34m\u001b[0m\u001b[0m\n\u001b[0;32m---> 14\u001b[0;31m     \u001b[0mprint\u001b[0m\u001b[0;34m(\u001b[0m\u001b[0mself\u001b[0m\u001b[0;34m.\u001b[0m\u001b[0m__age\u001b[0m\u001b[0;34m)\u001b[0m\u001b[0;34m\u001b[0m\u001b[0;34m\u001b[0m\u001b[0m\n\u001b[0m\u001b[1;32m     15\u001b[0m \u001b[0;34m\u001b[0m\u001b[0m\n\u001b[1;32m     16\u001b[0m \u001b[0mc9\u001b[0m \u001b[0;34m=\u001b[0m \u001b[0mCat9\u001b[0m\u001b[0;34m(\u001b[0m\u001b[0;34m)\u001b[0m\u001b[0;34m\u001b[0m\u001b[0;34m\u001b[0m\u001b[0m\n",
      "\u001b[0;31mAttributeError\u001b[0m: 'Cat9' object has no attribute '_Cat9__age'"
     ]
    }
   ],
   "source": [
    "class Animal3:\n",
    "  def __init__(self):\n",
    "    self.name = 'Calico'\n",
    "    self._color= 'white'\n",
    "    self.__age = 1.5\n",
    "\n",
    "class Cat9(Animal3):\n",
    "  def __init__(self):\n",
    "    super().__init__()\n",
    "\n",
    "  def describe(self):\n",
    "    print(self.name)\n",
    "    print(self._color)\n",
    "    print(self.__age)\n",
    "\n",
    "c9 = Cat9()\n",
    "c9.describe()"
   ]
  },
  {
   "cell_type": "code",
   "execution_count": 50,
   "metadata": {
    "colab": {
     "base_uri": "https://localhost:8080/"
    },
    "id": "KIOaFf-RGs08",
    "outputId": "f7e1f0b5-e5ab-42ce-90eb-3d802622ca6e"
   },
   "outputs": [
    {
     "name": "stdout",
     "output_type": "stream",
     "text": [
      "1\n"
     ]
    }
   ],
   "source": [
    "class Animal2:\n",
    "  def __init__(self):\n",
    "    self.age = 1\n",
    "\n",
    "class Cat8(Animal2):\n",
    "  def __init__(self):\n",
    "    self.age = 2\n",
    "    super().__init__()\n",
    "\n",
    "  def describe(self):\n",
    "    print(self.age)\n",
    "\n",
    "c8 = Cat8()\n",
    "c8.describe()"
   ]
  },
  {
   "cell_type": "code",
   "execution_count": 49,
   "metadata": {
    "colab": {
     "base_uri": "https://localhost:8080/",
     "height": 315
    },
    "id": "hz96k3kHGswv",
    "outputId": "cbd5d7e4-8020-477d-af11-bbeadcdd6242"
   },
   "outputs": [
    {
     "name": "stdout",
     "output_type": "stream",
     "text": [
      "1\n"
     ]
    },
    {
     "ename": "AttributeError",
     "evalue": "'Cat7' object has no attribute 'age'",
     "output_type": "error",
     "traceback": [
      "\u001b[0;31m---------------------------------------------------------------------------\u001b[0m",
      "\u001b[0;31mAttributeError\u001b[0m                            Traceback (most recent call last)",
      "\u001b[0;32m/tmp/ipython-input-49-3846410484.py\u001b[0m in \u001b[0;36m<cell line: 0>\u001b[0;34m()\u001b[0m\n\u001b[1;32m     11\u001b[0m \u001b[0;34m\u001b[0m\u001b[0m\n\u001b[1;32m     12\u001b[0m \u001b[0mc7\u001b[0m \u001b[0;34m=\u001b[0m \u001b[0mCat7\u001b[0m\u001b[0;34m(\u001b[0m\u001b[0;34m)\u001b[0m\u001b[0;34m\u001b[0m\u001b[0;34m\u001b[0m\u001b[0m\n\u001b[0;32m---> 13\u001b[0;31m \u001b[0mc7\u001b[0m\u001b[0;34m.\u001b[0m\u001b[0mdescribe\u001b[0m\u001b[0;34m(\u001b[0m\u001b[0;34m)\u001b[0m\u001b[0;34m\u001b[0m\u001b[0;34m\u001b[0m\u001b[0m\n\u001b[0m",
      "\u001b[0;32m/tmp/ipython-input-49-3846410484.py\u001b[0m in \u001b[0;36mdescribe\u001b[0;34m(self)\u001b[0m\n\u001b[1;32m      8\u001b[0m \u001b[0;34m\u001b[0m\u001b[0m\n\u001b[1;32m      9\u001b[0m   \u001b[0;32mdef\u001b[0m \u001b[0mdescribe\u001b[0m\u001b[0;34m(\u001b[0m\u001b[0mself\u001b[0m\u001b[0;34m)\u001b[0m\u001b[0;34m:\u001b[0m\u001b[0;34m\u001b[0m\u001b[0;34m\u001b[0m\u001b[0m\n\u001b[0;32m---> 10\u001b[0;31m     \u001b[0mprint\u001b[0m\u001b[0;34m(\u001b[0m\u001b[0mself\u001b[0m\u001b[0;34m.\u001b[0m\u001b[0mage\u001b[0m\u001b[0;34m)\u001b[0m\u001b[0;34m\u001b[0m\u001b[0;34m\u001b[0m\u001b[0m\n\u001b[0m\u001b[1;32m     11\u001b[0m \u001b[0;34m\u001b[0m\u001b[0m\n\u001b[1;32m     12\u001b[0m \u001b[0mc7\u001b[0m \u001b[0;34m=\u001b[0m \u001b[0mCat7\u001b[0m\u001b[0;34m(\u001b[0m\u001b[0;34m)\u001b[0m\u001b[0;34m\u001b[0m\u001b[0;34m\u001b[0m\u001b[0m\n",
      "\u001b[0;31mAttributeError\u001b[0m: 'Cat7' object has no attribute 'age'"
     ]
    }
   ],
   "source": [
    "class Animal:\n",
    "  def __init__(self):\n",
    "    self.age = 2\n",
    "\n",
    "class Cat7(Animal):\n",
    "  def __init__(self):\n",
    "    print(1)\n",
    "\n",
    "  def describe(self):\n",
    "    print(self.age)\n",
    "\n",
    "c7 = Cat7()\n",
    "c7.describe()"
   ]
  },
  {
   "cell_type": "code",
   "execution_count": 46,
   "metadata": {
    "colab": {
     "base_uri": "https://localhost:8080/"
    },
    "id": "IZK39byyEWsG",
    "outputId": "7fb6a8da-a640-473a-d9ad-3dfa65b19ae3"
   },
   "outputs": [
    {
     "name": "stdout",
     "output_type": "stream",
     "text": [
      "1\n"
     ]
    }
   ],
   "source": [
    "class Cat6:\n",
    "  __age=0\n",
    "  def __init(self,name):\n",
    "    self.__name = name\n",
    "\n",
    "c6 = Cat6()\n",
    "print(1)"
   ]
  },
  {
   "cell_type": "code",
   "execution_count": 45,
   "metadata": {
    "colab": {
     "base_uri": "https://localhost:8080/"
    },
    "id": "e9K_9417EWjj",
    "outputId": "65bf5029-b2db-49cd-d0a7-933493a6c89d"
   },
   "outputs": [
    {
     "name": "stdout",
     "output_type": "stream",
     "text": [
      "-1\n"
     ]
    }
   ],
   "source": [
    "class Cat5:\n",
    "  age=-1\n",
    "  def init__(self,age):\n",
    "    self.age = age\n",
    "  def describe(self):\n",
    "    print(self.age)\n",
    "\n",
    "c5 = Cat5()\n",
    "c5.describe()"
   ]
  },
  {
   "cell_type": "code",
   "execution_count": 43,
   "metadata": {
    "colab": {
     "base_uri": "https://localhost:8080/",
     "height": 211
    },
    "id": "xIah0eP8EWhe",
    "outputId": "ec1e6055-151c-4d26-b56a-3fd099eaa237"
   },
   "outputs": [
    {
     "name": "stdout",
     "output_type": "stream",
     "text": [
      "2\n"
     ]
    },
    {
     "ename": "TypeError",
     "evalue": "Cat4.__init__() missing 1 required positional argument: 'age'",
     "output_type": "error",
     "traceback": [
      "\u001b[0;31m---------------------------------------------------------------------------\u001b[0m",
      "\u001b[0;31mTypeError\u001b[0m                                 Traceback (most recent call last)",
      "\u001b[0;32m/tmp/ipython-input-43-3065168968.py\u001b[0m in \u001b[0;36m<cell line: 0>\u001b[0;34m()\u001b[0m\n\u001b[1;32m      8\u001b[0m \u001b[0mc4\u001b[0m \u001b[0;34m=\u001b[0m \u001b[0mCat4\u001b[0m\u001b[0;34m(\u001b[0m\u001b[0;36m2\u001b[0m\u001b[0;34m)\u001b[0m\u001b[0;34m\u001b[0m\u001b[0;34m\u001b[0m\u001b[0m\n\u001b[1;32m      9\u001b[0m \u001b[0mc4\u001b[0m\u001b[0;34m.\u001b[0m\u001b[0mdescribe\u001b[0m\u001b[0;34m(\u001b[0m\u001b[0;34m)\u001b[0m\u001b[0;34m\u001b[0m\u001b[0;34m\u001b[0m\u001b[0m\n\u001b[0;32m---> 10\u001b[0;31m \u001b[0mc4\u001b[0m \u001b[0;34m=\u001b[0m \u001b[0mCat4\u001b[0m\u001b[0;34m(\u001b[0m\u001b[0;34m)\u001b[0m\u001b[0;34m\u001b[0m\u001b[0;34m\u001b[0m\u001b[0m\n\u001b[0m\u001b[1;32m     11\u001b[0m \u001b[0mc4\u001b[0m\u001b[0;34m.\u001b[0m\u001b[0mdescribe\u001b[0m\u001b[0;34m(\u001b[0m\u001b[0;34m)\u001b[0m\u001b[0;34m\u001b[0m\u001b[0;34m\u001b[0m\u001b[0m\n",
      "\u001b[0;31mTypeError\u001b[0m: Cat4.__init__() missing 1 required positional argument: 'age'"
     ]
    }
   ],
   "source": [
    "class Cat4:\n",
    "  age=-1\n",
    "  def __init__(self,age):\n",
    "    self.age = age\n",
    "  def describe(self):\n",
    "    print(self.age)\n",
    "\n",
    "c4 = Cat4(2)\n",
    "c4.describe()\n",
    "c4 = Cat4()\n",
    "c4.describe()"
   ]
  },
  {
   "cell_type": "code",
   "execution_count": 42,
   "metadata": {
    "colab": {
     "base_uri": "https://localhost:8080/",
     "height": 176
    },
    "id": "5BzMUhruEWeN",
    "outputId": "bbdbf394-652f-4493-b678-cd66f715ccb6"
   },
   "outputs": [
    {
     "ename": "TypeError",
     "evalue": "Cat3.describe() takes 2 positional arguments but 3 were given",
     "output_type": "error",
     "traceback": [
      "\u001b[0;31m---------------------------------------------------------------------------\u001b[0m",
      "\u001b[0;31mTypeError\u001b[0m                                 Traceback (most recent call last)",
      "\u001b[0;32m/tmp/ipython-input-42-3265033878.py\u001b[0m in \u001b[0;36m<cell line: 0>\u001b[0;34m()\u001b[0m\n\u001b[1;32m      4\u001b[0m \u001b[0;34m\u001b[0m\u001b[0m\n\u001b[1;32m      5\u001b[0m \u001b[0mc3\u001b[0m \u001b[0;34m=\u001b[0m \u001b[0mCat3\u001b[0m\u001b[0;34m(\u001b[0m\u001b[0;34m)\u001b[0m\u001b[0;34m\u001b[0m\u001b[0;34m\u001b[0m\u001b[0m\n\u001b[0;32m----> 6\u001b[0;31m \u001b[0mc3\u001b[0m\u001b[0;34m.\u001b[0m\u001b[0mdescribe\u001b[0m\u001b[0;34m(\u001b[0m\u001b[0;36m2\u001b[0m\u001b[0;34m,\u001b[0m\u001b[0;36m3\u001b[0m\u001b[0;34m)\u001b[0m\u001b[0;34m\u001b[0m\u001b[0;34m\u001b[0m\u001b[0m\n\u001b[0m",
      "\u001b[0;31mTypeError\u001b[0m: Cat3.describe() takes 2 positional arguments but 3 were given"
     ]
    }
   ],
   "source": [
    "class Cat3:\n",
    "  def describe(this,age):\n",
    "    print(age)\n",
    "\n",
    "c3 = Cat3()\n",
    "c3.describe(2,3)"
   ]
  },
  {
   "cell_type": "code",
   "execution_count": 41,
   "metadata": {
    "colab": {
     "base_uri": "https://localhost:8080/"
    },
    "id": "UcG8gHu5EBXH",
    "outputId": "61c1a5ae-da0d-41aa-9b20-2ba6fcd21814"
   },
   "outputs": [
    {
     "name": "stdout",
     "output_type": "stream",
     "text": [
      "9 1\n"
     ]
    }
   ],
   "source": [
    "class Cat2:\n",
    "  def describe(age,self):\n",
    "    age.__age=9\n",
    "    print(age.__age,self)\n",
    "\n",
    "c2 = Cat2()\n",
    "c2.describe(1)"
   ]
  },
  {
   "cell_type": "code",
   "execution_count": 35,
   "metadata": {
    "colab": {
     "base_uri": "https://localhost:8080/"
    },
    "id": "cuyPKxZJ-Zq2",
    "outputId": "e9b4bed2-efcc-41b4-990e-0e42ae24e3a3"
   },
   "outputs": [
    {
     "name": "stdout",
     "output_type": "stream",
     "text": [
      "0 1\n"
     ]
    }
   ],
   "source": [
    "class Cat:\n",
    "  __age=0\n",
    "  def describe(self,age):\n",
    "    print(self.__age,age)\n",
    "\n",
    "c = Cat()\n",
    "c.describe(1)"
   ]
  },
  {
   "cell_type": "code",
   "execution_count": 33,
   "metadata": {
    "colab": {
     "base_uri": "https://localhost:8080/"
    },
    "id": "gzSyZjqx-ZpN",
    "outputId": "dd8e6404-ddf1-481c-aa99-ab2fbdd7ec5a"
   },
   "outputs": [
    {
     "name": "stdout",
     "output_type": "stream",
     "text": [
      "7\n"
     ]
    }
   ],
   "source": [
    "def fy(data):\n",
    "  r=0\n",
    "  l=len(data)\n",
    "  for i in range(l):\n",
    "    if i%2==1:\n",
    "      r=r+data[i]\n",
    "  return r\n",
    "data=[6,5,7,2]\n",
    "print(fy(data))"
   ]
  },
  {
   "cell_type": "code",
   "execution_count": 30,
   "metadata": {
    "colab": {
     "base_uri": "https://localhost:8080/"
    },
    "id": "RlWN9qzq-Znb",
    "outputId": "daedd441-2f5b-4970-ba30-a75249274cb5"
   },
   "outputs": [
    {
     "name": "stdout",
     "output_type": "stream",
     "text": [
      "[3, 5, 4, 2]\n"
     ]
    }
   ],
   "source": [
    "def fy():\n",
    "  data = [1,3]\n",
    "  data.append(5)\n",
    "  data.extend([4,2])\n",
    "  data.remove(1)\n",
    "  print(data)\n",
    "\n",
    "fy()"
   ]
  },
  {
   "cell_type": "code",
   "execution_count": 29,
   "metadata": {
    "colab": {
     "base_uri": "https://localhost:8080/"
    },
    "id": "NEhrkZZv-Zlw",
    "outputId": "127c04cf-b327-47e3-839a-788ab03cbb7a"
   },
   "outputs": [
    {
     "name": "stdout",
     "output_type": "stream",
     "text": [
      "[4, 1, 5]\n"
     ]
    }
   ],
   "source": [
    "def fy():\n",
    "  data = [1,3]\n",
    "  data.append(5)\n",
    "  data.insert(0,4)\n",
    "  data.pop(2)\n",
    "  print(data)\n",
    "\n",
    "fy()"
   ]
  },
  {
   "cell_type": "code",
   "execution_count": 25,
   "metadata": {
    "colab": {
     "base_uri": "https://localhost:8080/"
    },
    "id": "CxBCJv63-Ze8",
    "outputId": "8bfe00d1-daf5-4400-bb3b-7f59595f9dda"
   },
   "outputs": [
    {
     "name": "stdout",
     "output_type": "stream",
     "text": [
      "0 1 \n",
      "2 3 \n",
      "4 5 \n"
     ]
    }
   ],
   "source": [
    "def print_matrix_(m):\n",
    "  for i in range(h):\n",
    "    for j in range(w):\n",
    "      print(m[i][j], end=' ')\n",
    "    print()\n",
    "\n",
    "h=3\n",
    "w=2\n",
    "m = [\n",
    "    [0,0],\n",
    "    [0,0],\n",
    "    [0,0]\n",
    "]\n",
    "\n",
    "for i in range(h):\n",
    "    for j in range(w):\n",
    "      m[i][j] = i*w+j\n",
    "\n",
    "print_matrix_(m)"
   ]
  },
  {
   "cell_type": "code",
   "execution_count": 28,
   "metadata": {
    "colab": {
     "base_uri": "https://localhost:8080/"
    },
    "id": "oBXwEUDSAfJh",
    "outputId": "1ca0d975-9c3f-4f72-9e48-42fc201d5cea"
   },
   "outputs": [
    {
     "name": "stdout",
     "output_type": "stream",
     "text": [
      "1 1 \n",
      "1 3 \n",
      "1 5 \n"
     ]
    }
   ],
   "source": [
    "def fy():\n",
    "  h=3\n",
    "  w=3\n",
    "  m = [[1,1,1],\n",
    "      [1,0,0],\n",
    "      [1,0,0]]\n",
    "  for i in range(1,h):\n",
    "    for j in range(1,w):\n",
    "      m[i][j] = m[i-1][j]+m[i][j-1]+m[i-1][j-1]\n",
    "\n",
    "  print_matrix_(m)\n",
    "\n",
    "fy()"
   ]
  },
  {
   "cell_type": "code",
   "execution_count": 23,
   "metadata": {
    "colab": {
     "base_uri": "https://localhost:8080/"
    },
    "id": "MidnYD1c-ZdP",
    "outputId": "beefeedb-be3a-4a72-a5e7-e882e91d01ff"
   },
   "outputs": [
    {
     "name": "stdout",
     "output_type": "stream",
     "text": [
      "9 9 1\n"
     ]
    }
   ],
   "source": [
    "def fy():\n",
    "  data1 = [1,2,3]\n",
    "  data2 = data1\n",
    "  data3 = data1.copy()\n",
    "  data1[0]=9\n",
    "\n",
    "  print(data1[0], data2[0], data3[0])\n",
    "\n",
    "fy()"
   ]
  },
  {
   "cell_type": "code",
   "execution_count": 22,
   "metadata": {
    "colab": {
     "base_uri": "https://localhost:8080/"
    },
    "id": "HeJxoMqn-Zbl",
    "outputId": "e3113f0a-2a52-4591-8504-e7a0c29a886f"
   },
   "outputs": [
    {
     "data": {
      "text/plain": [
       "3.0"
      ]
     },
     "execution_count": 22,
     "metadata": {},
     "output_type": "execute_result"
    }
   ],
   "source": [
    "def fy(data):\n",
    "  r = 0\n",
    "  l=len(data)\n",
    "  for i in range(l):\n",
    "    if i%2==1:\n",
    "      r = r + data[i]\n",
    "  return r/l\n",
    "\n",
    "data = [2,8,6,4]\n",
    "fy(data)"
   ]
  },
  {
   "cell_type": "code",
   "execution_count": 19,
   "metadata": {
    "colab": {
     "base_uri": "https://localhost:8080/"
    },
    "id": "MnuBbdH2-ZZm",
    "outputId": "f607048b-df79-44c5-b42d-2c44bedebdd5"
   },
   "outputs": [
    {
     "name": "stdout",
     "output_type": "stream",
     "text": [
      "[0, 1, 2, 3, 4, 5]\n"
     ]
    }
   ],
   "source": [
    "def fy():\n",
    "  data = []\n",
    "  for i in range(6):\n",
    "    data.append(i)\n",
    "  print(data)\n",
    "\n",
    "fy()"
   ]
  },
  {
   "cell_type": "code",
   "execution_count": 18,
   "metadata": {
    "colab": {
     "base_uri": "https://localhost:8080/"
    },
    "id": "avrj5nm5-ZR4",
    "outputId": "78ff506b-572e-4a6d-ae97-7c6da7ca07b9"
   },
   "outputs": [
    {
     "name": "stdout",
     "output_type": "stream",
     "text": [
      "[8, 0]\n"
     ]
    }
   ],
   "source": [
    "def fy():\n",
    "  data = [1, 2, 8, 7]\n",
    "  data_a = [x if x%2==0 else 0 for x in data if x > 4]\n",
    "  print(data_a)\n",
    "\n",
    "fy()"
   ]
  },
  {
   "cell_type": "code",
   "execution_count": 17,
   "metadata": {
    "colab": {
     "base_uri": "https://localhost:8080/"
    },
    "id": "QZ_s_Tkp-HLx",
    "outputId": "bdf3123a-a532-412e-dc14-e7bd10b9df51"
   },
   "outputs": [
    {
     "name": "stdout",
     "output_type": "stream",
     "text": [
      "8\n"
     ]
    }
   ],
   "source": [
    "def fy():\n",
    "  data = [1, 2, 6, 7]\n",
    "  data_a = sum([x if x%2==0 else 0 for x in data])\n",
    "  print(data_a)\n",
    "\n",
    "fy()"
   ]
  },
  {
   "cell_type": "code",
   "execution_count": 16,
   "metadata": {
    "colab": {
     "base_uri": "https://localhost:8080/",
     "height": 106
    },
    "id": "3EuqFvtF96fl",
    "outputId": "dc982ecc-7ccd-4e63-9c1f-d00c9c5d50e5"
   },
   "outputs": [
    {
     "ename": "SyntaxError",
     "evalue": "expected 'else' after 'if' expression (ipython-input-16-3342613382.py, line 3)",
     "output_type": "error",
     "traceback": [
      "\u001b[0;36m  File \u001b[0;32m\"/tmp/ipython-input-16-3342613382.py\"\u001b[0;36m, line \u001b[0;32m3\u001b[0m\n\u001b[0;31m    data_a = [x if x>0 for x in data]\u001b[0m\n\u001b[0m              ^\u001b[0m\n\u001b[0;31mSyntaxError\u001b[0m\u001b[0;31m:\u001b[0m expected 'else' after 'if' expression\n"
     ]
    }
   ],
   "source": [
    "def fy():\n",
    "  data = [1, 5, -4, 3, -2]\n",
    "  data_a = [x if x>0 for x in data]\n",
    "  print(data_a)\n",
    "\n",
    "fy()"
   ]
  },
  {
   "cell_type": "code",
   "execution_count": 15,
   "metadata": {
    "colab": {
     "base_uri": "https://localhost:8080/"
    },
    "id": "7kTR9BYi9TfT",
    "outputId": "c24fa26d-78eb-428b-eae8-bbdd6dbb9278"
   },
   "outputs": [
    {
     "name": "stdout",
     "output_type": "stream",
     "text": [
      "[1, 8, 0, 0, 9]\n"
     ]
    }
   ],
   "source": [
    "def fy():\n",
    "  data = [1, 8, -1, -3, 9]\n",
    "  data_a = [x if x>0 else 0 for x in data]\n",
    "  print(data_a)\n",
    "  return\n",
    "\n",
    "fy()"
   ]
  },
  {
   "cell_type": "code",
   "execution_count": 14,
   "metadata": {
    "colab": {
     "base_uri": "https://localhost:8080/"
    },
    "id": "YFKGP-pX9Cr8",
    "outputId": "40ea8eaa-7b75-47b9-d6ad-0636d5325ef4"
   },
   "outputs": [
    {
     "name": "stdout",
     "output_type": "stream",
     "text": [
      "5\n",
      "4\n",
      "3\n"
     ]
    }
   ],
   "source": [
    "def fy():\n",
    "  i = 5\n",
    "  while i>=0:\n",
    "    if i<3:\n",
    "      break\n",
    "    print(i)\n",
    "    i = i-1\n",
    "\n",
    "fy()"
   ]
  },
  {
   "cell_type": "code",
   "execution_count": 12,
   "metadata": {
    "colab": {
     "base_uri": "https://localhost:8080/"
    },
    "id": "AzYwAnIx8vM6",
    "outputId": "f6a86cd5-5d0a-4222-b769-995f04d5bf94"
   },
   "outputs": [
    {
     "data": {
      "text/plain": [
       "4"
      ]
     },
     "execution_count": 12,
     "metadata": {},
     "output_type": "execute_result"
    }
   ],
   "source": [
    "def fy3(n=3):\n",
    "  for i in range(1, n):\n",
    "    r= 0\n",
    "    r = r + i*i\n",
    "  return r\n",
    "\n",
    "fy3()"
   ]
  },
  {
   "cell_type": "code",
   "execution_count": 11,
   "metadata": {
    "colab": {
     "base_uri": "https://localhost:8080/"
    },
    "id": "RTTV1LjI8fbx",
    "outputId": "f7285775-2579-4e82-ef5f-182b2eb6e4a0"
   },
   "outputs": [
    {
     "data": {
      "text/plain": [
       "0"
      ]
     },
     "execution_count": 11,
     "metadata": {},
     "output_type": "execute_result"
    }
   ],
   "source": [
    "def fy2(n=3):\n",
    "  r= 0\n",
    "  for i in range(1, n):\n",
    "    r = r * i*i\n",
    "  return r\n",
    "\n",
    "fy2()"
   ]
  },
  {
   "cell_type": "code",
   "execution_count": 10,
   "metadata": {
    "colab": {
     "base_uri": "https://localhost:8080/"
    },
    "id": "BYYQI51I8QiH",
    "outputId": "0dbb36a3-553b-4ea5-892b-24285023a215"
   },
   "outputs": [
    {
     "data": {
      "text/plain": [
       "6"
      ]
     },
     "execution_count": 10,
     "metadata": {},
     "output_type": "execute_result"
    }
   ],
   "source": [
    "def factorial(n=3):\n",
    "  r= 1\n",
    "  for i in range(2, n+1):\n",
    "    r = r * i\n",
    "  return r\n",
    "\n",
    "factorial()"
   ]
  },
  {
   "cell_type": "code",
   "execution_count": 9,
   "metadata": {
    "colab": {
     "base_uri": "https://localhost:8080/"
    },
    "id": "X96Xv2S257fA",
    "outputId": "36c86129-35dd-45f1-839c-66de1acabc2b"
   },
   "outputs": [
    {
     "name": "stdout",
     "output_type": "stream",
     "text": [
      "2\n",
      "10\n"
     ]
    }
   ],
   "source": [
    "def fy():\n",
    "  for i in range(1, 6, 2):\n",
    "    if (i==3):\n",
    "      continue\n",
    "    print(i*2)\n",
    "\n",
    "fy()"
   ]
  },
  {
   "cell_type": "code",
   "execution_count": 7,
   "metadata": {
    "colab": {
     "base_uri": "https://localhost:8080/"
    },
    "id": "A4B2tRFN5NF5",
    "outputId": "89d60e3e-d180-408c-e4cc-189e1e76d2a3"
   },
   "outputs": [
    {
     "name": "stdout",
     "output_type": "stream",
     "text": [
      "[4, 5, 9, 10]\n"
     ]
    }
   ],
   "source": [
    "def f8(data, v1, v2):\n",
    "  r = []\n",
    "\n",
    "  for it in data:\n",
    "    if it < v1:\n",
    "      r.append(v1)\n",
    "    elif it > v2:\n",
    "      r.append(v2)\n",
    "    else:\n",
    "      r.append(it)\n",
    "\n",
    "  return r\n",
    "\n",
    "data = [2, 5, 9, 12]\n",
    "v1 = 4\n",
    "v2 = 10\n",
    "print(f8(data, v1, v2))"
   ]
  },
  {
   "cell_type": "code",
   "execution_count": 5,
   "metadata": {
    "colab": {
     "base_uri": "https://localhost:8080/"
    },
    "id": "R5mHJ9jB1kst",
    "outputId": "32e8f40a-7bf3-4118-b75e-d41212ba4a7a"
   },
   "outputs": [
    {
     "name": "stdout",
     "output_type": "stream",
     "text": [
      "2\n"
     ]
    }
   ],
   "source": [
    "def f3(data):\n",
    "  if not data:\n",
    "    return None\n",
    "\n",
    "  result = 0\n",
    "  for i in range(1, len(data)):\n",
    "    if data[i] < data[result]:\n",
    "      result = i\n",
    "\n",
    "  return result\n",
    "test = [5, 8, 1, 3, 2]\n",
    "print(f3(test))"
   ]
  },
  {
   "cell_type": "code",
   "execution_count": 4,
   "metadata": {
    "colab": {
     "base_uri": "https://localhost:8080/"
    },
    "id": "HWM4kAFY2UIy",
    "outputId": "c3cf3a7c-f5d9-478d-de55-1e50d2943c6b"
   },
   "outputs": [
    {
     "name": "stdout",
     "output_type": "stream",
     "text": [
      "1\n"
     ]
    }
   ],
   "source": [
    "def f7(data):\n",
    "  if not data:\n",
    "    return None\n",
    "\n",
    "  result = 0\n",
    "  value = data[0]\n",
    "  for i, it in enumerate(data):\n",
    "    if it > value:\n",
    "      result = i\n",
    "      value = it\n",
    "\n",
    "  return result\n",
    "test = [5, 8, 1, 3, 2]\n",
    "print(f7(test))"
   ]
  },
  {
   "cell_type": "markdown",
   "metadata": {
    "id": "WWqibPyC1lnU"
   },
   "source": [
    "---------------------------------------------------------------------------------------------------"
   ]
  },
  {
   "cell_type": "code",
   "execution_count": null,
   "metadata": {
    "id": "c5jpF5qJ1ULL",
    "outputId": "f490a1f6-f5fa-49fe-c64f-8e609412a60e"
   },
   "outputs": [
    {
     "name": "stdout",
     "output_type": "stream",
     "text": [
      "True\n"
     ]
    }
   ],
   "source": [
    "def check_the_number(N):\n",
    "    list_of_numbers = []\n",
    "    result = \"\"\n",
    "    for i in range(1, 5):\n",
    "        list_of_numbers.append(i)\n",
    "    if N in list_of_numbers:\n",
    "        results = \"True\"\n",
    "    if N not in list_of_numbers:\n",
    "        results = \"False\"\n",
    "    return results\n",
    "\n",
    "N = 2\n",
    "results = check_the_number(N)\n",
    "print(results)"
   ]
  },
  {
   "cell_type": "code",
   "execution_count": null,
   "metadata": {
    "id": "VeTVt00z1ULP",
    "outputId": "07c08a1f-6f27-493b-d1f4-952c26e3751a"
   },
   "outputs": [
    {
     "name": "stdout",
     "output_type": "stream",
     "text": [
      "400\n"
     ]
    }
   ],
   "source": [
    "n = 1\n",
    "for i in range(0, 500, 100):\n",
    "      n = i\n",
    "print(i)"
   ]
  },
  {
   "cell_type": "code",
   "execution_count": null,
   "metadata": {
    "colab": {
     "base_uri": "https://localhost:8080/"
    },
    "id": "K2ReRoZ8Rusf",
    "outputId": "423a6acb-d76f-40bd-f0dd-a2bd81010851"
   },
   "outputs": [
    {
     "name": "stdout",
     "output_type": "stream",
     "text": [
      "[1, 7, 4]\n",
      "[1, 9, 7, 4]\n"
     ]
    }
   ],
   "source": [
    "data = [1, 7, 4]\n",
    "print(data)\n",
    "\n",
    "data.insert(1, 9)\n",
    "print(data)"
   ]
  },
  {
   "cell_type": "code",
   "execution_count": null,
   "metadata": {
    "id": "ddUN0iRSS1H9"
   },
   "outputs": [],
   "source": []
  },
  {
   "cell_type": "code",
   "execution_count": null,
   "metadata": {
    "colab": {
     "base_uri": "https://localhost:8080/"
    },
    "id": "Piqb_0xMS0-S",
    "outputId": "aa77390f-f26a-4ef8-b551-44c447bbc95d"
   },
   "outputs": [
    {
     "name": "stdout",
     "output_type": "stream",
     "text": [
      "[1, 7, 4]\n",
      "[1, 9, 7, 4]\n"
     ]
    }
   ],
   "source": [
    "def my_insert(data, index, value):\n",
    "    result = data[:index] + [value] + data[index:]\n",
    "    return result\n",
    "\n",
    "# test\n",
    "data = [1, 7, 4]\n",
    "print(data)\n",
    "\n",
    "result = my_insert(data, 1, 9)\n",
    "print(result)"
   ]
  },
  {
   "cell_type": "code",
   "execution_count": null,
   "metadata": {
    "colab": {
     "base_uri": "https://localhost:8080/"
    },
    "id": "GlmP9mMiS07d",
    "outputId": "c455069e-2eb2-44c6-9648-8881df47975a"
   },
   "outputs": [
    {
     "name": "stdout",
     "output_type": "stream",
     "text": [
      "[1, 7, 4]\n",
      "[1, 9, 7, 4]\n"
     ]
    }
   ],
   "source": [
    "def my_insert2(data, index, value):\n",
    "  result = []\n",
    "  for i in range(len(data)):\n",
    "      if i == index:\n",
    "        result.append(value)\n",
    "      result.append(data[i])\n",
    "  return result\n",
    "\n",
    "# test\n",
    "data = [1, 7, 4]\n",
    "print(data)\n",
    "\n",
    "result = my_insert2(data, 1, 9)\n",
    "print(result)"
   ]
  },
  {
   "cell_type": "code",
   "execution_count": null,
   "metadata": {
    "colab": {
     "base_uri": "https://localhost:8080/"
    },
    "id": "Qjl_L5gMS0rC",
    "outputId": "4fe1a713-fd2b-4348-9af9-3f6d154c4c3c"
   },
   "outputs": [
    {
     "name": "stdout",
     "output_type": "stream",
     "text": [
      "[1, 7, 4]\n",
      "[1, 49, 16]\n"
     ]
    }
   ],
   "source": [
    "def square(data):\n",
    "  result = []\n",
    "  for i in range(len(data)):\n",
    "    result.append(data[i] * data[i])\n",
    "  return result\n",
    "\n",
    "# test\n",
    "data = [1, 7, 4]\n",
    "print(data)\n",
    "\n",
    "result = square(data)\n",
    "print(result)\n",
    "#pop, remove"
   ]
  },
  {
   "cell_type": "code",
   "execution_count": null,
   "metadata": {
    "colab": {
     "base_uri": "https://localhost:8080/"
    },
    "id": "XvjQIw00S0oO",
    "outputId": "861d98a8-5c61-4e44-8f70-66556136aa34"
   },
   "outputs": [
    {
     "name": "stdout",
     "output_type": "stream",
     "text": [
      "[1, 7, 4, 2, 2]\n",
      "2\n"
     ]
    }
   ],
   "source": [
    "def count(data,v):\n",
    "  count = 0\n",
    "  for i in range(len(data)):\n",
    "    if data[i] == v:\n",
    "      count += 1\n",
    "  return count\n",
    "\n",
    "# test\n",
    "data = [1, 7, 4, 2, 2]\n",
    "print(data)\n",
    "\n",
    "result = count(data, 2)\n",
    "print(result)"
   ]
  },
  {
   "cell_type": "code",
   "execution_count": null,
   "metadata": {
    "id": "qxqn_lPUS0ln"
   },
   "outputs": [],
   "source": [
    "data = [1, 7, 4, 7, 2]\n"
   ]
  },
  {
   "cell_type": "code",
   "execution_count": null,
   "metadata": {
    "colab": {
     "base_uri": "https://localhost:8080/"
    },
    "id": "5pYtYcXeRuqK",
    "outputId": "7c473c19-f8de-4578-8673-06244e2ad578"
   },
   "outputs": [
    {
     "name": "stdout",
     "output_type": "stream",
     "text": [
      "[1, 5, 3]\n"
     ]
    }
   ],
   "source": [
    "var = 1\n",
    "l = [1,2,3]\n",
    "l[1] = 5\n",
    "print(l)"
   ]
  },
  {
   "cell_type": "code",
   "execution_count": null,
   "metadata": {
    "colab": {
     "base_uri": "https://localhost:8080/"
    },
    "id": "6JH3K43fa-eU",
    "outputId": "810c9d1c-f380-4089-b70b-369208f81415"
   },
   "outputs": [
    {
     "name": "stdout",
     "output_type": "stream",
     "text": [
      "[2, 3, 4]\n"
     ]
    }
   ],
   "source": [
    "a = [1, 2, 3, 4, 5]\n",
    "print(a[1:4])"
   ]
  },
  {
   "cell_type": "code",
   "execution_count": null,
   "metadata": {
    "colab": {
     "base_uri": "https://localhost:8080/"
    },
    "id": "HP-w7QJKcFAe",
    "outputId": "7a4bc91b-1417-4815-a587-e83108934e83"
   },
   "outputs": [
    {
     "name": "stdout",
     "output_type": "stream",
     "text": [
      "[1, 2, 3, 1, 2, 3]\n"
     ]
    }
   ],
   "source": [
    "a = [1, 2, 3]\n",
    "b = a * 2\n",
    "print(b)"
   ]
  },
  {
   "cell_type": "code",
   "execution_count": null,
   "metadata": {
    "colab": {
     "base_uri": "https://localhost:8080/"
    },
    "id": "HvVfNvFGcE5i",
    "outputId": "fb921c91-e495-451e-d1d3-477ffdb86735"
   },
   "outputs": [
    {
     "name": "stdout",
     "output_type": "stream",
     "text": [
      "[1, 2, 3, 4, 5]\n"
     ]
    }
   ],
   "source": [
    "\n",
    "a = [1, 2, 3]\n",
    "b = [4, 5]\n",
    "c = a + b\n",
    "print(c)"
   ]
  },
  {
   "cell_type": "code",
   "execution_count": null,
   "metadata": {
    "id": "siGJUixncE0J"
   },
   "outputs": [],
   "source": []
  },
  {
   "cell_type": "code",
   "execution_count": null,
   "metadata": {
    "colab": {
     "base_uri": "https://localhost:8080/"
    },
    "id": "m6NImu6RauDr",
    "outputId": "6571114b-26d6-46d7-d77c-362fdd227c59"
   },
   "outputs": [
    {
     "data": {
      "text/plain": [
       "3"
      ]
     },
     "execution_count": 22,
     "metadata": {},
     "output_type": "execute_result"
    }
   ],
   "source": [
    "var = 1\n",
    "l = [1,2,3]\n",
    "l.pop()"
   ]
  },
  {
   "cell_type": "code",
   "execution_count": null,
   "metadata": {
    "colab": {
     "base_uri": "https://localhost:8080/"
    },
    "id": "rThy63a1UYuC",
    "outputId": "3f8b8f49-77c8-46d6-d3fd-def1e7da7027"
   },
   "outputs": [
    {
     "name": "stdout",
     "output_type": "stream",
     "text": [
      "[1, 7, 4]\n",
      "[1, 1, 1]\n"
     ]
    }
   ],
   "source": [
    "data = [1, 7, 4]\n",
    "print(data)\n",
    "\n",
    "data[0] = 1\n",
    "data[1] = 1\n",
    "data[2] = 1\n",
    "print(data)"
   ]
  },
  {
   "cell_type": "code",
   "execution_count": null,
   "metadata": {
    "colab": {
     "base_uri": "https://localhost:8080/"
    },
    "id": "hj6K_FfBCiVN",
    "outputId": "1e97178e-1233-4835-d590-b09dec45d939"
   },
   "outputs": [
    {
     "name": "stdout",
     "output_type": "stream",
     "text": [
      "[1, 2, 3, 4]\n"
     ]
    }
   ],
   "source": [
    "my_list = [1, 2]\n",
    "my_list.extend([3, 4])\n",
    "print(my_list)"
   ]
  },
  {
   "cell_type": "code",
   "execution_count": null,
   "metadata": {
    "colab": {
     "base_uri": "https://localhost:8080/"
    },
    "id": "o2ZJbkUGcjXD",
    "outputId": "4b6205fe-3933-4550-9be0-6cf8eca68138"
   },
   "outputs": [
    {
     "name": "stdout",
     "output_type": "stream",
     "text": [
      "[5, 4, 3, 2, 1]\n"
     ]
    }
   ],
   "source": [
    "a = [1, 2, 3, 4, 5]\n",
    "print(a[::-1]) # reverse a.reverse"
   ]
  },
  {
   "cell_type": "code",
   "execution_count": null,
   "metadata": {
    "colab": {
     "base_uri": "https://localhost:8080/"
    },
    "id": "FH4IKbRxcjUr",
    "outputId": "a5f145ec-de88-4964-d9d4-214f35b3e686"
   },
   "outputs": [
    {
     "name": "stdout",
     "output_type": "stream",
     "text": [
      "[9, 2]\n",
      "[9, 2]\n",
      "[1, 2]\n"
     ]
    }
   ],
   "source": [
    "#count\n",
    "#copy\n",
    "my_list = [1, 2]\n",
    "l2 = my_list\n",
    "l3 = my_list.copy()\n",
    "\n",
    "my_list[0] = 9\n",
    "print(l2)\n",
    "print(my_list)\n",
    "# l2, data cung tro den mot cho\n",
    "#\n",
    "\n",
    "print(l3)\n",
    "# min, max\n",
    "# sorted,"
   ]
  },
  {
   "cell_type": "code",
   "execution_count": null,
   "metadata": {
    "colab": {
     "base_uri": "https://localhost:8080/"
    },
    "id": "7dbm_ysVCiS4",
    "outputId": "97c00f6d-72a9-478f-cf4f-3b5c05dfa2b7"
   },
   "outputs": [
    {
     "name": "stdout",
     "output_type": "stream",
     "text": [
      "[5, 3]\n"
     ]
    }
   ],
   "source": [
    "my_list = [0, 1, 2, 3, 4, 5, 6]\n",
    "print(my_list[-2:1:-2])\n",
    "# start = -2 (5), step = -2, end = 1\n",
    "# jump 2, stop at index 1 => 3"
   ]
  },
  {
   "cell_type": "code",
   "execution_count": null,
   "metadata": {
    "colab": {
     "base_uri": "https://localhost:8080/"
    },
    "id": "guuKJnp0fFXK",
    "outputId": "63f69c36-dd1a-4915-887e-69636194c4dc"
   },
   "outputs": [
    {
     "name": "stdout",
     "output_type": "stream",
     "text": [
      "[1, 3, 4] 2\n"
     ]
    }
   ],
   "source": [
    "my_list = [1, 2, 3, 4]\n",
    "x = my_list.pop(1)\n",
    "print(my_list, x)\n",
    "#"
   ]
  },
  {
   "cell_type": "code",
   "execution_count": null,
   "metadata": {
    "colab": {
     "base_uri": "https://localhost:8080/"
    },
    "id": "N0t848NEfFOF",
    "outputId": "4a6c98bc-db2d-4517-faf5-c47dfa95a531"
   },
   "outputs": [
    {
     "name": "stdout",
     "output_type": "stream",
     "text": [
      "2\n"
     ]
    }
   ],
   "source": [
    "my_list = [1, [2, 3], [2, 3], 4]\n",
    "print(my_list.count([2, 3]))\n",
    "#"
   ]
  },
  {
   "cell_type": "code",
   "execution_count": null,
   "metadata": {
    "colab": {
     "base_uri": "https://localhost:8080/"
    },
    "id": "XczgUZBafFLk",
    "outputId": "b9c4ecd9-b9b6-4df5-bf11-9a00883feb66"
   },
   "outputs": [
    {
     "name": "stdout",
     "output_type": "stream",
     "text": [
      "9\n"
     ]
    }
   ],
   "source": [
    "def sum_odd(data):\n",
    "  sum = 0\n",
    "  for i in range(len(data)):\n",
    "    if data[i] % 2 != 0:\n",
    "      sum += data[i]\n",
    "  return sum\n",
    "\n",
    "my_list = [0, 1, 2, 3, 4, 5, 6]\n",
    "x = sum_odd(my_list)\n",
    "print(x)"
   ]
  },
  {
   "cell_type": "code",
   "execution_count": null,
   "metadata": {
    "id": "gblBa97yidlI"
   },
   "outputs": [],
   "source": [
    "#zip\n"
   ]
  },
  {
   "cell_type": "code",
   "execution_count": null,
   "metadata": {
    "id": "BPvgYdRRidgv"
   },
   "outputs": [],
   "source": []
  },
  {
   "cell_type": "code",
   "execution_count": null,
   "metadata": {
    "colab": {
     "base_uri": "https://localhost:8080/"
    },
    "id": "u0Z7Hp5wCiQh",
    "outputId": "371360bb-d477-468b-bf9f-ecee506f301e"
   },
   "outputs": [
    {
     "name": "stdout",
     "output_type": "stream",
     "text": [
      "[1, 7, 4]\n",
      "[1, 1, 1]\n"
     ]
    }
   ],
   "source": [
    "def set_one_1(data):\n",
    "    length = len(data)\n",
    "    for i in range(length):\n",
    "        data[i] = 1\n",
    "\n",
    "    return data\n",
    "\n",
    "# test the function set_one\n",
    "data = [1, 7, 4]\n",
    "print(data)\n",
    "\n",
    "result = set_one_1(data)\n",
    "print(result)"
   ]
  },
  {
   "cell_type": "code",
   "execution_count": null,
   "metadata": {
    "id": "JzPhT6PLCiOL"
   },
   "outputs": [],
   "source": []
  },
  {
   "cell_type": "code",
   "execution_count": null,
   "metadata": {
    "colab": {
     "base_uri": "https://localhost:8080/"
    },
    "id": "8Lemid-5CiL3",
    "outputId": "ee6b50cd-e88d-497c-bd0a-8bdf222b0ad4"
   },
   "outputs": [
    {
     "name": "stdout",
     "output_type": "stream",
     "text": [
      "[1, 7, 4]\n",
      "[1, 1, 1]\n",
      "None\n"
     ]
    }
   ],
   "source": [
    "def set_one_2(data):\n",
    "    length = len(data)\n",
    "    for i in range(length):\n",
    "        data[i] = 1\n",
    "    return None\n",
    "\n",
    "# test the function set_one\n",
    "data = [1, 7, 4]\n",
    "print(data)\n",
    "\n",
    "result = set_one_2(data)\n",
    "print(data)\n",
    "print(result)"
   ]
  },
  {
   "cell_type": "code",
   "execution_count": null,
   "metadata": {
    "colab": {
     "base_uri": "https://localhost:8080/"
    },
    "id": "GC6hq9I2CiJg",
    "outputId": "87acbce4-0b8d-48e2-c56c-10479f74644e"
   },
   "outputs": [
    {
     "name": "stdout",
     "output_type": "stream",
     "text": [
      "[[0, 0, 0], [0, 0, 0]]\n",
      "[[0, 1, 2], [3, 4, 5]]\n",
      "0 1 2 \n",
      "3 4 5 \n",
      "[[0, 0, 0], [0, 0, 0]]\n"
     ]
    }
   ],
   "source": [
    "def print_matrix(data, num_rows, num_cols):\n",
    "    for i in range(num_rows):  # for each row\n",
    "        # print the row\n",
    "        for j in range(num_cols):\n",
    "            print(data[i][j], end=' ')\n",
    "        print()\n",
    "\n",
    "def square_matrix(data, num_rows, num_cols):\n",
    "  result2 = data.copy()\n",
    "  result = [[0 for i in range(num_cols)] for j in range(num_rows)]\n",
    "  print(result)\n",
    "  print(result2)\n",
    "  # for i in range(num_rows):\n",
    "  #     for j in range(num_cols):\n",
    "  #         # for each element\n",
    "  #         #print(data[i][j], end=' ')\n",
    "  #         result[i][j] = data[i][j] * data[i][j]\n",
    "  #     #print()\n",
    "  return result\n",
    "\n",
    "# test\n",
    "data = [[0, 1, 2], [3, 4, 5]]\n",
    "r = square_matrix(data, 2, 3)\n",
    "print_matrix(data, 2, 3)\n",
    "print(r)"
   ]
  },
  {
   "cell_type": "markdown",
   "metadata": {
    "id": "q0I2_1AkxndR"
   },
   "source": [
    "![image.png](data:image/png;base64,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)"
   ]
  },
  {
   "cell_type": "code",
   "execution_count": null,
   "metadata": {
    "colab": {
     "base_uri": "https://localhost:8080/"
    },
    "id": "duWfaDHyxnKl",
    "outputId": "476f27e0-f82e-40ba-f875-61e82de455ab"
   },
   "outputs": [
    {
     "name": "stdout",
     "output_type": "stream",
     "text": [
      "4\n"
     ]
    }
   ],
   "source": [
    "#linear searching\n",
    "data = [6,5,7,1,9,2]\n",
    "\n",
    "def linear_search(data, x):\n",
    "  index = -1\n",
    "  for i in range(len(data)):\n",
    "    if data[i] == x:\n",
    "      index = i\n",
    "  return index\n",
    "\n",
    "x = 9\n",
    "i = linear_search(data, x)\n",
    "print(i)"
   ]
  },
  {
   "cell_type": "code",
   "execution_count": null,
   "metadata": {
    "colab": {
     "base_uri": "https://localhost:8080/"
    },
    "id": "W4Aj0ODZCiHL",
    "outputId": "75e0986c-4ec1-4026-e5d7-2f75d8fb5dc8"
   },
   "outputs": [
    {
     "name": "stdout",
     "output_type": "stream",
     "text": [
      "{'apple', 'banana'}\n"
     ]
    }
   ],
   "source": [
    "data = [(1, \"apple\"), (2, \"banana\"), (3, \"apple\")]\n",
    "unique_fruits = set([item[1] for item in data])\n",
    "print(unique_fruits)"
   ]
  },
  {
   "cell_type": "code",
   "execution_count": null,
   "metadata": {
    "colab": {
     "base_uri": "https://localhost:8080/"
    },
    "id": "aKVTw11DCiEn",
    "outputId": "5320a8e6-b014-4f7c-b899-028c4e6b5649"
   },
   "outputs": [
    {
     "name": "stdout",
     "output_type": "stream",
     "text": [
      "[1, 2, 3, [4, 5]]\n"
     ]
    }
   ],
   "source": [
    "my_list = [1, 2, 3]\n",
    "my_list.append([4, 5])\n",
    "print(my_list)"
   ]
  },
  {
   "cell_type": "code",
   "execution_count": null,
   "metadata": {
    "colab": {
     "base_uri": "https://localhost:8080/"
    },
    "id": "RmBuMCVQUYrc",
    "outputId": "632fe2e3-8a47-437a-ffb0-5509fc8a0ad0"
   },
   "outputs": [
    {
     "name": "stdout",
     "output_type": "stream",
     "text": [
      "[1, 2, 5]\n"
     ]
    }
   ],
   "source": [
    "my_dict = {('a', 1): [1, 2], ('b', 2): [3, 4]}\n",
    "my_dict[('a', 1)].append(5)\n",
    "print(my_dict[('a', 1)])\n",
    "#Chỉ tuple mới có thể làm key vì nó bất biến"
   ]
  },
  {
   "cell_type": "code",
   "execution_count": null,
   "metadata": {
    "colab": {
     "base_uri": "https://localhost:8080/"
    },
    "id": "6SyrWiNAUYpI",
    "outputId": "2442d95c-20ce-472a-dcdc-5c1c9568c349"
   },
   "outputs": [
    {
     "name": "stdout",
     "output_type": "stream",
     "text": [
      "{'apple': 2, 'banana': 2, 'orange': 1}\n"
     ]
    }
   ],
   "source": [
    "words = ['apple', 'banana', 'apple', 'orange', 'banana']\n",
    "word_count = {}\n",
    "for word in words:\n",
    "    word_count[word] = word_count.get(word, 0) + 1\n",
    "print(word_count)"
   ]
  },
  {
   "cell_type": "code",
   "execution_count": null,
   "metadata": {
    "colab": {
     "base_uri": "https://localhost:8080/"
    },
    "id": "VwVEnE93h0HF",
    "outputId": "a71d4936-158e-4b2f-a62a-7f96339098bd"
   },
   "outputs": [
    {
     "name": "stdout",
     "output_type": "stream",
     "text": [
      "{(1, (3, 4))}\n"
     ]
    }
   ],
   "source": [
    "a = [1, 2, (3, 4)]\n",
    "b = set()\n",
    "b.add((a[0], a[2]))\n",
    "a[2] = [5, 6]\n",
    "print(b)"
   ]
  },
  {
   "cell_type": "markdown",
   "metadata": {
    "id": "zaPp2yc8l12X"
   },
   "source": [
    "\n",
    "Câu 2:Thứ tự đọc bài báo nghiên cứu khoa học theo nội dung bài học? \\\n",
    "A. title, abstract, introduction, experimental result, the proposed method, related work\n",
    "\n",
    "---\n",
    "\n"
   ]
  },
  {
   "cell_type": "code",
   "execution_count": null,
   "metadata": {
    "colab": {
     "base_uri": "https://localhost:8080/"
    },
    "id": "BC-D_2h2hz3O",
    "outputId": "fc49be66-6fcc-4c24-f318-39a83c01805a"
   },
   "outputs": [
    {
     "name": "stdout",
     "output_type": "stream",
     "text": [
      "learning\n"
     ]
    }
   ],
   "source": [
    "data = \"I’m learning Python !\"\n",
    "print ( data . split () [1])"
   ]
  },
  {
   "cell_type": "code",
   "execution_count": null,
   "metadata": {
    "colab": {
     "base_uri": "https://localhost:8080/"
    },
    "id": "mby2PeMBhzpb",
    "outputId": "47207e3d-dc65-4672-90db-1922b89d06cf"
   },
   "outputs": [
    {
     "name": "stdout",
     "output_type": "stream",
     "text": [
      "r = \n",
      "r = a\n",
      "r = pa\n",
      "r = rpa\n",
      "r = irpa\n",
      "r = cirpa\n",
      "r = ocirpa\n",
      "tocirpa\n"
     ]
    }
   ],
   "source": [
    "def f(x):\n",
    "  r = \"\"\n",
    "  for i in x:\n",
    "    # print(f\"i = {i}\")\n",
    "    print(f\"r = {r}\")\n",
    "    r = i + r\n",
    "  return r\n",
    "\n",
    "x = \"apricot\"\n",
    "print(f(x))"
   ]
  },
  {
   "cell_type": "code",
   "execution_count": null,
   "metadata": {
    "colab": {
     "base_uri": "https://localhost:8080/"
    },
    "id": "_2Y3CfQpsE_s",
    "outputId": "973918c2-4f09-4b77-f672-a3d96dacec32"
   },
   "outputs": [
    {
     "name": "stdout",
     "output_type": "stream",
     "text": [
      "[9, 8, 1]\n"
     ]
    }
   ],
   "source": [
    "def f(x, d):\n",
    "  for i in d:\n",
    "    if x == i:\n",
    "      return 0\n",
    "  return 1\n",
    "\n",
    "def f2(d):\n",
    "  r = []\n",
    "  for i in d:\n",
    "    if f(i, r):\n",
    "      r.append(i)\n",
    "  return r\n",
    "lst = [9,9,8,1,1]\n",
    "print(f2(lst))"
   ]
  },
  {
   "cell_type": "markdown",
   "metadata": {},
   "source": [
    "## Revise doc from M02: "
   ]
  },
  {
   "cell_type": "markdown",
   "metadata": {},
   "source": [
    "### Python Dictionary in NLP Applications"
   ]
  },
  {
   "cell_type": "markdown",
   "metadata": {},
   "source": [
    "#### Character Counting"
   ]
  },
  {
   "cell_type": "code",
   "execution_count": null,
   "metadata": {},
   "outputs": [],
   "source": [
    "def count_characterd(word):\n",
    "    # an empty dictionary to contain the occurrence statistics of each character.\n",
    "    character_statistic = {}\n",
    "\n",
    "    for character in word:\n",
    "        # if character has appeared before and is valid, increase the count by 1\n",
    "        if character in character_statistic and character.isalpha():\n",
    "            character_statistic[character] += 1\n",
    "        else:\n",
    "            character_statistic[character] = 1\n",
    "\n",
    "    return character_statistic"
   ]
  },
  {
   "cell_type": "code",
   "execution_count": null,
   "metadata": {},
   "outputs": [],
   "source": [
    "# Improve by defaultdict - a subclas of dict\n",
    "from collections import defaultdict\n",
    "def count_character(word):\n",
    "    # Initialize defaultdict with default value is 0\n",
    "    character_statistic = defaultdict(int)\n",
    "\n",
    "    # for each character in word\n",
    "    for character in word:\n",
    "        if character.isalpha():\n",
    "            character_statistic[character] += 1\n",
    "\n",
    "    return dict(character_statistic)"
   ]
  },
  {
   "cell_type": "markdown",
   "metadata": {},
   "source": [
    "#### Word Counting"
   ]
  },
  {
   "cell_type": "code",
   "execution_count": 2,
   "metadata": {},
   "outputs": [
    {
     "name": "stdout",
     "output_type": "stream",
     "text": [
      "/home/banhmuy/miniconda3/envs/ds_env/lib/python3.11/site-packages/gdown/__main__.py:140: FutureWarning: Option `--id` was deprecated in version 4.3.1 and will be removed in 5.0. You don't need to pass it anymore to use a file ID.\n",
      "  warnings.warn(\n",
      "Downloading...\n",
      "From: https://drive.google.com/uc?id=1fbeTFfWxO29ipsFxBJFI6xHbXd4ii3FP\n",
      "To: /home/banhmuy/zero-to-hero/AIO2025/M01/P1_data.txt\n",
      "100%|██████████████████████████████████████████| 747/747 [00:00<00:00, 3.22MB/s]\n"
     ]
    }
   ],
   "source": [
    "!gdown --id 1fbeTFfWxO29ipsFxBJFI6xHbXd4ii3FP"
   ]
  },
  {
   "cell_type": "code",
   "execution_count": 3,
   "metadata": {},
   "outputs": [
    {
     "data": {
      "text/plain": [
       "list"
      ]
     },
     "execution_count": 3,
     "metadata": {},
     "output_type": "execute_result"
    }
   ],
   "source": [
    "with open('P1_data.txt', 'r') as f:\n",
    "    sentences = f.readlines()\n",
    "\n",
    "type(sentences)"
   ]
  },
  {
   "cell_type": "code",
   "execution_count": null,
   "metadata": {},
   "outputs": [],
   "source": [
    "def preprocess_text(sentence):\n",
    "    sentence = sentence.lower()\n",
    "    sentence = sentence.replace('.', '').replace(',', '')\n",
    "    words = sentence.split()\n",
    "    return words"
   ]
  },
  {
   "cell_type": "code",
   "execution_count": 7,
   "metadata": {},
   "outputs": [],
   "source": [
    "from collections import defaultdict\n",
    "\n",
    "def count_words(sentences):\n",
    "    \"\"\"\n",
    "    Function to count the number of occurrences of each word in a list of sentences.\n",
    "    Input:\n",
    "        - sentences: list of sentences (list of strings)\n",
    "    Output:\n",
    "        - counter: dictionary (defaultdict) with key as word, value as number of occurrences\n",
    "    \"\"\"\n",
    "    counter = defaultdict(int)\n",
    "    for sentence in sentences:\n",
    "        words = preprocess_text(sentence)\n",
    "        for word in words:\n",
    "            counter[word] += 1\n",
    "    return counter"
   ]
  },
  {
   "cell_type": "markdown",
   "metadata": {},
   "source": [
    "#### N-grams"
   ]
  },
  {
   "cell_type": "markdown",
   "metadata": {},
   "source": [
    "#### Stemming và lemmatization"
   ]
  },
  {
   "cell_type": "code",
   "execution_count": 8,
   "metadata": {},
   "outputs": [],
   "source": [
    "import nltk"
   ]
  },
  {
   "cell_type": "code",
   "execution_count": null,
   "metadata": {},
   "outputs": [],
   "source": [
    "def init_nlp_tools():\n",
    "    \"\"\"\n",
    "    Function to initialize and ensure full NLTK resources.\n",
    "\n",
    "    Returns:\n",
    "        tuple: (stemmer, lemmatizer)\n",
    "    \"\"\"\n",
    "    # download necessary resources\n",
    "    nltk.download('punkt')\n",
    "    nltk.download('wordnet')\n",
    "\n",
    "    # initialize tools\n",
    "    stemmer = PorterStemmer()\n",
    "    lemmatizer = WordNetLemmatizer()\n",
    "\n",
    "    return stemmer, lemmatizer\n",
    "\n",
    "def stem_lema(text):\n",
    "    \"\"\"\n",
    "    Text preprocessing:\n",
    "    - Convert to lowercase\n",
    "    - Tokenize\n",
    "    - Remove punctuation\n",
    "    - Lemmatization\n",
    "    - Stemming\n",
    "\n",
    "    Args:\n",
    "    text (str): Input text\n",
    "\n",
    "    Returns:\n",
    "    list: List of processed words\n",
    "    \"\"\"\n",
    "    text = text.lower()\n",
    "    tokens = word_tokenize(text)\n",
    "    processed_tokens = []\n",
    "    stemmer, lemmatizer = init_nlp_tools()\n",
    "\n",
    "    for token in tokens:\n",
    "        # Ignore tokens is punctuation\n",
    "        if token in string.punctuation:\n",
    "            continue\n",
    "\n",
    "        lemma = lemmatizer.lemmatize(token)\n",
    "        stem = stemmer.stem(lemma)\n",
    "        processed_tokens.append(stem)\n",
    "\n",
    "    return processed_tokens"
   ]
  },
  {
   "cell_type": "markdown",
   "metadata": {},
   "source": [
    "#### Compute N-gram"
   ]
  },
  {
   "cell_type": "code",
   "execution_count": 11,
   "metadata": {},
   "outputs": [],
   "source": [
    "def count_word(text, n=2):\n",
    "    \"\"\"\n",
    "    Function to calculate n-gram profile of text after preprocessing.\n",
    "\n",
    "    Args:\n",
    "    text (str): Input text\n",
    "    n (int): N-gram value (default is bigram)\n",
    "\n",
    "    Returns:\n",
    "    Counter: Frequency counter of n-grams\n",
    "    \"\"\"\n",
    "    tokens = stem_lema(text) # Tiền xử lý văn bản\n",
    "    n_gram_list = list(ngrams(tokens, n))\n",
    "    profile = Counter(n_gram_list)\n",
    "    return profile"
   ]
  },
  {
   "cell_type": "markdown",
   "metadata": {},
   "source": [
    "#### Cosine similarity"
   ]
  },
  {
   "cell_type": "code",
   "execution_count": 15,
   "metadata": {},
   "outputs": [],
   "source": [
    "def cosine_similarity_sklearn(profile1, profile2):\n",
    "    \"\"\"\n",
    "    Hàm tính Cosine Similarity giữa hai profile n-gram dùng sklearn.\n",
    "\n",
    "    Args:\n",
    "        profile1 (Counter): Bộ đếm n-gram của văn bản 1\n",
    "        profile2 (Counter): Bộ đếm n-gram của văn bản 2\n",
    "\n",
    "    Returns:\n",
    "        float: Giá trị Cosine Similarity (0 đến 1)\n",
    "    \"\"\"\n",
    "    # Lấy ra các n-gram giống nhau của 2 profile\n",
    "    all_ngrams = set(profile1.keys()).union(set(profile2.keys()))\n",
    "\n",
    "    vec1 = []\n",
    "    vec2 = []\n",
    "\n",
    "    for ngram in all_ngrams:\n",
    "        vec1.append(profile1.get(ngram, 0))\n",
    "        vec2.append(profile2.get(ngram, 0))\n",
    "\n",
    "    # Biến đổi thành mảng 2D theo đúng yêu cầu của sklearn\n",
    "    vec1 = np.array(vec1).reshape(1, -1)\n",
    "    vec2 = np.array(vec2).reshape(1, -1)\n",
    "\n",
    "    # Hàm cosine_similarity trả về 1 ma trận 2 chiều\n",
    "    # Phần tử 0, 0 của ma trận là sim(vec1, vec2) của ta cần.\n",
    "    similarity = cosine_similarity(vec1, vec2)[0][0]\n",
    "\n",
    "    return similarity"
   ]
  },
  {
   "cell_type": "markdown",
   "metadata": {},
   "source": [
    "#### Compare authors"
   ]
  },
  {
   "cell_type": "code",
   "execution_count": 17,
   "metadata": {},
   "outputs": [],
   "source": [
    "def compare_authors(test_text):\n",
    "    \"\"\"\n",
    "    Hàm chính để so sánh tác giả của hai văn bản.\n",
    "    - Đọc file alice.txt\n",
    "    - Nhận văn bản cần kiểm tra từ tham số\n",
    "    - Tiền xử lý và tính n-gram\n",
    "    - Tính Cosine Similarity\n",
    "    - Trả về giá trị similarity\n",
    "    \"\"\"\n",
    "    # Read file alice.txt\n",
    "    with open(\"data/alice.txt\", \"r\", encoding=\"utf-8\") as f:\n",
    "        alice_text = f.read()\n",
    "\n",
    "    # Tiền xử lý và tính n-gram\n",
    "    alice_tokens = stem_lema(alice_text)\n",
    "    test_tokens = stem_lema(test_text)\n",
    "\n",
    "    alice_profile = count_word(alice_tokens, n=2)\n",
    "    test_profile = count_word(test_tokens, n=2)\n",
    "\n",
    "    # Tính Cosine Similarity\n",
    "    similarity = cosine_similarity_sklearn(alice_profile, test_profile)\n",
    "\n",
    "    return similarity"
   ]
  },
  {
   "cell_type": "markdown",
   "metadata": {},
   "source": [
    "#### Streamlit"
   ]
  },
  {
   "cell_type": "code",
   "execution_count": 20,
   "metadata": {},
   "outputs": [
    {
     "name": "stdout",
     "output_type": "stream",
     "text": [
      "Collecting streamlit\n",
      "  Using cached streamlit-1.47.1-py3-none-any.whl.metadata (9.0 kB)\n",
      "Collecting altair<6,>=4.0 (from streamlit)\n",
      "  Using cached altair-5.5.0-py3-none-any.whl.metadata (11 kB)\n",
      "Collecting blinker<2,>=1.5.0 (from streamlit)\n",
      "  Using cached blinker-1.9.0-py3-none-any.whl.metadata (1.6 kB)\n",
      "Collecting cachetools<7,>=4.0 (from streamlit)\n",
      "  Using cached cachetools-6.1.0-py3-none-any.whl.metadata (5.4 kB)\n",
      "Requirement already satisfied: click<9,>=7.0 in /home/banhmuy/miniconda3/envs/ds_env/lib/python3.11/site-packages (from streamlit) (8.1.8)\n",
      "Requirement already satisfied: numpy<3,>=1.23 in /home/banhmuy/miniconda3/envs/ds_env/lib/python3.11/site-packages (from streamlit) (1.26.4)\n",
      "Requirement already satisfied: packaging<26,>=20 in /home/banhmuy/miniconda3/envs/ds_env/lib/python3.11/site-packages (from streamlit) (24.2)\n",
      "Requirement already satisfied: pandas<3,>=1.4.0 in /home/banhmuy/miniconda3/envs/ds_env/lib/python3.11/site-packages (from streamlit) (2.2.3)\n",
      "Requirement already satisfied: pillow<12,>=7.1.0 in /home/banhmuy/miniconda3/envs/ds_env/lib/python3.11/site-packages (from streamlit) (10.2.0)\n",
      "Collecting protobuf<7,>=3.20 (from streamlit)\n",
      "  Using cached protobuf-6.31.1-cp39-abi3-manylinux2014_x86_64.whl.metadata (593 bytes)\n",
      "Collecting pyarrow>=7.0 (from streamlit)\n",
      "  Using cached pyarrow-21.0.0-cp311-cp311-manylinux_2_28_x86_64.whl.metadata (3.3 kB)\n",
      "Requirement already satisfied: requests<3,>=2.27 in /home/banhmuy/miniconda3/envs/ds_env/lib/python3.11/site-packages (from streamlit) (2.32.4)\n",
      "Collecting tenacity<10,>=8.1.0 (from streamlit)\n",
      "  Using cached tenacity-9.1.2-py3-none-any.whl.metadata (1.2 kB)\n",
      "Collecting toml<2,>=0.10.1 (from streamlit)\n",
      "  Using cached toml-0.10.2-py2.py3-none-any.whl.metadata (7.1 kB)\n",
      "Requirement already satisfied: typing-extensions<5,>=4.4.0 in /home/banhmuy/miniconda3/envs/ds_env/lib/python3.11/site-packages (from streamlit) (4.12.2)\n",
      "Collecting watchdog<7,>=2.1.5 (from streamlit)\n",
      "  Using cached watchdog-6.0.0-py3-none-manylinux2014_x86_64.whl.metadata (44 kB)\n",
      "Collecting gitpython!=3.1.19,<4,>=3.0.7 (from streamlit)\n",
      "  Using cached gitpython-3.1.45-py3-none-any.whl.metadata (13 kB)\n",
      "Collecting pydeck<1,>=0.8.0b4 (from streamlit)\n",
      "  Using cached pydeck-0.9.1-py2.py3-none-any.whl.metadata (4.1 kB)\n",
      "Requirement already satisfied: tornado!=6.5.0,<7,>=6.0.3 in /home/banhmuy/miniconda3/envs/ds_env/lib/python3.11/site-packages (from streamlit) (6.5.1)\n",
      "Requirement already satisfied: jinja2 in /home/banhmuy/miniconda3/envs/ds_env/lib/python3.11/site-packages (from altair<6,>=4.0->streamlit) (3.1.6)\n",
      "Requirement already satisfied: jsonschema>=3.0 in /home/banhmuy/miniconda3/envs/ds_env/lib/python3.11/site-packages (from altair<6,>=4.0->streamlit) (4.23.0)\n",
      "Collecting narwhals>=1.14.2 (from altair<6,>=4.0->streamlit)\n",
      "  Using cached narwhals-1.48.1-py3-none-any.whl.metadata (11 kB)\n",
      "Collecting gitdb<5,>=4.0.1 (from gitpython!=3.1.19,<4,>=3.0.7->streamlit)\n",
      "  Using cached gitdb-4.0.12-py3-none-any.whl.metadata (1.2 kB)\n",
      "Collecting smmap<6,>=3.0.1 (from gitdb<5,>=4.0.1->gitpython!=3.1.19,<4,>=3.0.7->streamlit)\n",
      "  Using cached smmap-5.0.2-py3-none-any.whl.metadata (4.3 kB)\n",
      "Requirement already satisfied: python-dateutil>=2.8.2 in /home/banhmuy/miniconda3/envs/ds_env/lib/python3.11/site-packages (from pandas<3,>=1.4.0->streamlit) (2.9.0.post0)\n",
      "Requirement already satisfied: pytz>=2020.1 in /home/banhmuy/miniconda3/envs/ds_env/lib/python3.11/site-packages (from pandas<3,>=1.4.0->streamlit) (2024.1)\n",
      "Requirement already satisfied: tzdata>=2022.7 in /home/banhmuy/miniconda3/envs/ds_env/lib/python3.11/site-packages (from pandas<3,>=1.4.0->streamlit) (2025.2)\n",
      "Requirement already satisfied: charset_normalizer<4,>=2 in /home/banhmuy/miniconda3/envs/ds_env/lib/python3.11/site-packages (from requests<3,>=2.27->streamlit) (3.3.2)\n",
      "Requirement already satisfied: idna<4,>=2.5 in /home/banhmuy/miniconda3/envs/ds_env/lib/python3.11/site-packages (from requests<3,>=2.27->streamlit) (3.7)\n",
      "Requirement already satisfied: urllib3<3,>=1.21.1 in /home/banhmuy/miniconda3/envs/ds_env/lib/python3.11/site-packages (from requests<3,>=2.27->streamlit) (2.5.0)\n",
      "Requirement already satisfied: certifi>=2017.4.17 in /home/banhmuy/miniconda3/envs/ds_env/lib/python3.11/site-packages (from requests<3,>=2.27->streamlit) (2025.7.14)\n",
      "Requirement already satisfied: MarkupSafe>=2.0 in /home/banhmuy/miniconda3/envs/ds_env/lib/python3.11/site-packages (from jinja2->altair<6,>=4.0->streamlit) (3.0.2)\n",
      "Requirement already satisfied: attrs>=22.2.0 in /home/banhmuy/miniconda3/envs/ds_env/lib/python3.11/site-packages (from jsonschema>=3.0->altair<6,>=4.0->streamlit) (24.3.0)\n",
      "Requirement already satisfied: jsonschema-specifications>=2023.03.6 in /home/banhmuy/miniconda3/envs/ds_env/lib/python3.11/site-packages (from jsonschema>=3.0->altair<6,>=4.0->streamlit) (2023.7.1)\n",
      "Requirement already satisfied: referencing>=0.28.4 in /home/banhmuy/miniconda3/envs/ds_env/lib/python3.11/site-packages (from jsonschema>=3.0->altair<6,>=4.0->streamlit) (0.30.2)\n",
      "Requirement already satisfied: rpds-py>=0.7.1 in /home/banhmuy/miniconda3/envs/ds_env/lib/python3.11/site-packages (from jsonschema>=3.0->altair<6,>=4.0->streamlit) (0.22.3)\n",
      "Requirement already satisfied: six>=1.5 in /home/banhmuy/miniconda3/envs/ds_env/lib/python3.11/site-packages (from python-dateutil>=2.8.2->pandas<3,>=1.4.0->streamlit) (1.17.0)\n",
      "Using cached streamlit-1.47.1-py3-none-any.whl (9.9 MB)\n",
      "Using cached altair-5.5.0-py3-none-any.whl (731 kB)\n",
      "Using cached blinker-1.9.0-py3-none-any.whl (8.5 kB)\n",
      "Using cached cachetools-6.1.0-py3-none-any.whl (11 kB)\n",
      "Using cached gitpython-3.1.45-py3-none-any.whl (208 kB)\n",
      "Using cached gitdb-4.0.12-py3-none-any.whl (62 kB)\n",
      "Using cached protobuf-6.31.1-cp39-abi3-manylinux2014_x86_64.whl (321 kB)\n",
      "Using cached pydeck-0.9.1-py2.py3-none-any.whl (6.9 MB)\n",
      "Using cached smmap-5.0.2-py3-none-any.whl (24 kB)\n",
      "Using cached tenacity-9.1.2-py3-none-any.whl (28 kB)\n",
      "Using cached toml-0.10.2-py2.py3-none-any.whl (16 kB)\n",
      "Using cached watchdog-6.0.0-py3-none-manylinux2014_x86_64.whl (79 kB)\n",
      "Using cached narwhals-1.48.1-py3-none-any.whl (377 kB)\n",
      "Downloading pyarrow-21.0.0-cp311-cp311-manylinux_2_28_x86_64.whl (42.8 MB)\n",
      "\u001b[2K   \u001b[90m━━━━━━━━━━━━━━━━━━━━━━━━━━━━━━━━━━━━━━━━\u001b[0m \u001b[32m42.8/42.8 MB\u001b[0m \u001b[31m967.7 kB/s\u001b[0m eta \u001b[36m0:00:00\u001b[0m00:01\u001b[0m00:02\u001b[0m\n",
      "\u001b[?25hInstalling collected packages: watchdog, toml, tenacity, smmap, pyarrow, protobuf, narwhals, cachetools, blinker, pydeck, gitdb, gitpython, altair, streamlit\n",
      "\u001b[2K   \u001b[90m━━━━━━━━━━━━━━━━━━━━━━━━━━━━━━━━━━━━━━━━\u001b[0m \u001b[32m14/14\u001b[0m [streamlit]14\u001b[0m [streamlit]]\n",
      "\u001b[1A\u001b[2KSuccessfully installed altair-5.5.0 blinker-1.9.0 cachetools-6.1.0 gitdb-4.0.12 gitpython-3.1.45 narwhals-1.48.1 protobuf-6.31.1 pyarrow-21.0.0 pydeck-0.9.1 smmap-5.0.2 streamlit-1.47.1 tenacity-9.1.2 toml-0.10.2 watchdog-6.0.0\n",
      "Note: you may need to restart the kernel to use updated packages.\n"
     ]
    }
   ],
   "source": [
    "pip install streamlit"
   ]
  },
  {
   "cell_type": "code",
   "execution_count": 25,
   "metadata": {},
   "outputs": [],
   "source": [
    "import streamlit as st\n",
    "THRESHOLD = 0.8"
   ]
  },
  {
   "cell_type": "code",
   "execution_count": null,
   "metadata": {},
   "outputs": [],
   "source": [
    "def run_streamlit():\n",
    "  st.set_page_config(page_title=\"Author Profiling - Lewis Carroll\", layout=\"centered\")\n",
    "\n",
    "  st.title(\"Author Profiling - Lewis Carroll\")\n",
    "\n",
    "  st.markdown(\n",
    "    \"\"\"\n",
    "    Ứng dụng kiểm tra xem văn bản bạn cung cấp có khả năng cùng tác giả với **Lewis Carroll** hay không,\n",
    "    dựa trên kỹ thuật phân tích văn bản và so sánh đặc trưng n-gram.\n",
    "    \"\"\"\n",
    "  )\n",
    "\n",
    "  st.header(\"Bước 1: Chọn file văn bản cần kiểm tra\")\n",
    "  uploaded_file = st.file_uploader(\"Chọn file (.txt)\", type=\"txt\")\n",
    "\n",
    "  if uploaded_file is not None:\n",
    "   text = uploaded_file.read().decode('utf-8')\n",
    "   st.text_area(\"Nội dung văn bản:\", text, height=200)\n",
    "\n",
    "   st.header(\"Bước 2: Kết quả kiểm tra\")\n",
    "\n",
    "   if st.button(\"Kiểm tra\"):\n",
    "    similarity = compare_authors(text)\n",
    "\n",
    "    st.write(f\"**Cosine Similarity:** {similarity:.4f}\")\n",
    "\n",
    "   if similarity > THRESHOLD:\n",
    "    st.success(\"Kết luận: Có khả năng cùng tác giả Lewis Carroll.\")\n",
    "   else:\n",
    "    st.warning(\"Kết luận: Khác tác giả Lewis Carroll.\")"
   ]
  },
  {
   "cell_type": "code",
   "execution_count": null,
   "metadata": {},
   "outputs": [],
   "source": [
    "# Chua apply gio duoc di hoc bai cai da, mai thi r :))))))"
   ]
  },
  {
   "cell_type": "markdown",
   "metadata": {},
   "source": [
    "- Reference source code: [link](https://github.com/thehaodev/write_article)\n",
    "- Read more:\n",
    "  - [1] G. Hayes, Author attribution report, https://github.com/gkhayes/author_attribution\n",
    "/blob/master/Report.pdf, Accessed on June 27, 2025, 2018.\n",
    "  - [2] G. Hayes, Author attribution dataset - books, https://github.com/gkhayes/author_attr\n",
    "ibution/tree/master/Books, Accessed on June 27, 2025, 2018"
   ]
  }
 ],
 "metadata": {
  "colab": {
   "include_colab_link": true,
   "provenance": []
  },
  "kernelspec": {
   "display_name": "ds_env",
   "language": "python",
   "name": "python3"
  },
  "language_info": {
   "codemirror_mode": {
    "name": "ipython",
    "version": 3
   },
   "file_extension": ".py",
   "mimetype": "text/x-python",
   "name": "python",
   "nbconvert_exporter": "python",
   "pygments_lexer": "ipython3",
   "version": "3.11.13"
  }
 },
 "nbformat": 4,
 "nbformat_minor": 0
}
