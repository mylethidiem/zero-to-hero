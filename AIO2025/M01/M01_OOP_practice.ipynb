{
 "cells": [
  {
   "cell_type": "markdown",
   "metadata": {
    "id": "hUvxX1IJ7rNf"
   },
   "source": [
    "### D04 prepare and test"
   ]
  },
  {
   "cell_type": "code",
   "execution_count": 2,
   "metadata": {},
   "outputs": [],
   "source": [
    "class Dog:\n",
    "    def __init__(self, name, size, age, color):\n",
    "        self.name = name\n",
    "        self.size = size\n",
    "        self.age = age\n",
    "        self.color = color\n",
    "\n",
    "    def eat(self):\n",
    "        if self.age <= 1:\n",
    "            return 'Chicken'\n",
    "        else:\n",
    "            return 'Fish'"
   ]
  },
  {
   "cell_type": "code",
   "execution_count": 3,
   "metadata": {},
   "outputs": [
    {
     "name": "stdout",
     "output_type": "stream",
     "text": [
      "Chow Chow\n",
      "Small\n"
     ]
    },
    {
     "ename": "AttributeError",
     "evalue": "'Dog' object has no attribute '__age'",
     "output_type": "error",
     "traceback": [
      "\u001b[31m---------------------------------------------------------------------------\u001b[39m",
      "\u001b[31mAttributeError\u001b[39m                            Traceback (most recent call last)",
      "\u001b[36mCell\u001b[39m\u001b[36m \u001b[39m\u001b[32mIn[3]\u001b[39m\u001b[32m, line 10\u001b[39m\n\u001b[32m      8\u001b[39m \u001b[38;5;28mprint\u001b[39m(dog_1.name)\n\u001b[32m      9\u001b[39m \u001b[38;5;28mprint\u001b[39m(dog_1._size)\n\u001b[32m---> \u001b[39m\u001b[32m10\u001b[39m \u001b[38;5;28mprint\u001b[39m(dog_1.__age)\n",
      "\u001b[31mAttributeError\u001b[39m: 'Dog' object has no attribute '__age'"
     ]
    }
   ],
   "source": [
    "class Dog:\n",
    "    def __init__(self, name, size, age):\n",
    "        self.name = name\n",
    "        self._size = size # protected\n",
    "        self.__age = age # private\n",
    "\n",
    "dog_1 = Dog('Chow Chow', 'Small', 2)\n",
    "print(dog_1.name)\n",
    "print(dog_1._size)\n",
    "print(dog_1.__age) # so cannot call outside"
   ]
  },
  {
   "cell_type": "code",
   "execution_count": 4,
   "metadata": {},
   "outputs": [
    {
     "name": "stdout",
     "output_type": "stream",
     "text": [
      "Chow Chow\n",
      "Chaw Chaw\n"
     ]
    }
   ],
   "source": [
    "class Dog:\n",
    "    def __init__(self, name):\n",
    "        self.__name = name\n",
    "\n",
    "    def get_name(self):\n",
    "        return self.__name\n",
    "\n",
    "    def set_name(self, name):\n",
    "        self.__name = name\n",
    "\n",
    "dog_1 = Dog('Chow Chow')\n",
    "print(dog_1.get_name())\n",
    "dog_1.set_name('Chaw Chaw')\n",
    "print(dog_1.get_name())"
   ]
  },
  {
   "cell_type": "code",
   "execution_count": 5,
   "metadata": {},
   "outputs": [
    {
     "name": "stdout",
     "output_type": "stream",
     "text": [
      "25\n"
     ]
    }
   ],
   "source": [
    "from abc import ABC, abstractmethod\n",
    "\n",
    "class Shape(ABC):\n",
    "    @abstractmethod\n",
    "    def compute_area(self):\n",
    "        pass\n",
    "\n",
    "class Square(Shape):\n",
    "    def __init__(self, side):\n",
    "        self.__side = side\n",
    "\n",
    "    def compute_area(self):\n",
    "        return self.__side*self.__side\n",
    "\n",
    "square = Square(5)\n",
    "print(square.compute_area())"
   ]
  },
  {
   "cell_type": "code",
   "execution_count": 6,
   "metadata": {},
   "outputs": [],
   "source": [
    "class Employee:\n",
    "    def __init__(self, name, salary):\n",
    "        self._name = name\n",
    "        self._salary = salary\n",
    "\n",
    "    def compute_salary(self):\n",
    "        return self._salary\n",
    "\n",
    "class Manager(Employee):\n",
    "    def __init__(self, name, salary, bonus):\n",
    "        self._name = name\n",
    "        self._salary = salary\n",
    "        self.__bonus = bonus\n",
    "\n",
    "    def compute_salary(self):\n",
    "        return super().compute_salary() + self.__bonus"
   ]
  },
  {
   "cell_type": "code",
   "execution_count": 7,
   "metadata": {},
   "outputs": [
    {
     "name": "stdout",
     "output_type": "stream",
     "text": [
      "150\n"
     ]
    }
   ],
   "source": [
    "mai = Manager('Mai', 100, 50)\n",
    "salary = mai.compute_salary()\n",
    "print(salary)"
   ]
  },
  {
   "cell_type": "code",
   "execution_count": 8,
   "metadata": {},
   "outputs": [
    {
     "name": "stdout",
     "output_type": "stream",
     "text": [
      "9\n"
     ]
    }
   ],
   "source": [
    "class A:\n",
    "    def __init__(self, num):\n",
    "        self.num = num\n",
    "\n",
    "    def show(self):\n",
    "        print(self.num)\n",
    "\n",
    "class B(A):\n",
    "    def show(self):\n",
    "        print(self.num*self.num)\n",
    "\n",
    "ins_B = B(3)\n",
    "ins_B.show()"
   ]
  },
  {
   "cell_type": "markdown",
   "metadata": {},
   "source": [
    "---------------------------------------------------------------"
   ]
  },
  {
   "cell_type": "code",
   "execution_count": null,
   "metadata": {
    "colab": {
     "base_uri": "https://localhost:8080/",
     "height": 106
    },
    "id": "K2ReRoZ8Rusf",
    "outputId": "a45442e9-4121-4017-aba1-84f20e9c78ca"
   },
   "outputs": [
    {
     "ename": "SyntaxError",
     "evalue": "invalid syntax (<ipython-input-1-807690026>, line 2)",
     "output_type": "error",
     "traceback": [
      "\u001b[0;36m  File \u001b[0;32m\"<ipython-input-1-807690026>\"\u001b[0;36m, line \u001b[0;32m2\u001b[0m\n\u001b[0;31m    Class Cat:\u001b[0m\n\u001b[0m          ^\u001b[0m\n\u001b[0;31mSyntaxError\u001b[0m\u001b[0;31m:\u001b[0m invalid syntax\n"
     ]
    }
   ],
   "source": [
    "#Q1\n",
    "Class Cat:\n",
    "    __age = 0\n",
    "    def describe(self):\n",
    "        print(__age, age)\n",
    "\n",
    "# test code\n",
    "c = Cat()\n",
    "c.describe(1)"
   ]
  },
  {
   "cell_type": "code",
   "execution_count": null,
   "metadata": {
    "colab": {
     "base_uri": "https://localhost:8080/"
    },
    "id": "Nn_xUrVS7rNh",
    "outputId": "d8d690f3-50a0-4e60-d6fd-3b938b3ff01a"
   },
   "outputs": [
    {
     "name": "stdout",
     "output_type": "stream",
     "text": [
      "1 1\n"
     ]
    }
   ],
   "source": [
    "# Q2\n",
    "class Cat:\n",
    "    age = 0\n",
    "    def describe(self, age):\n",
    "        print(age, age)\n",
    "\n",
    "# test code\n",
    "c = Cat()\n",
    "c.describe(1)"
   ]
  },
  {
   "cell_type": "code",
   "execution_count": null,
   "metadata": {
    "colab": {
     "base_uri": "https://localhost:8080/",
     "height": 297
    },
    "id": "54A2nWIY7rNh",
    "outputId": "4c48d183-bbe3-4975-f42a-14acfe1da62a"
   },
   "outputs": [
    {
     "ename": "NameError",
     "evalue": "name 'age' is not defined",
     "output_type": "error",
     "traceback": [
      "\u001b[0;31m---------------------------------------------------------------------------\u001b[0m",
      "\u001b[0;31mNameError\u001b[0m                                 Traceback (most recent call last)",
      "\u001b[0;32m<ipython-input-4-2092509400>\u001b[0m in \u001b[0;36m<cell line: 0>\u001b[0;34m()\u001b[0m\n\u001b[1;32m      7\u001b[0m \u001b[0;31m# test code\u001b[0m\u001b[0;34m\u001b[0m\u001b[0;34m\u001b[0m\u001b[0m\n\u001b[1;32m      8\u001b[0m \u001b[0mc\u001b[0m \u001b[0;34m=\u001b[0m \u001b[0mCat\u001b[0m\u001b[0;34m(\u001b[0m\u001b[0;34m)\u001b[0m\u001b[0;34m\u001b[0m\u001b[0;34m\u001b[0m\u001b[0m\n\u001b[0;32m----> 9\u001b[0;31m \u001b[0mc\u001b[0m\u001b[0;34m.\u001b[0m\u001b[0mdescribe\u001b[0m\u001b[0;34m(\u001b[0m\u001b[0;34m'Tom'\u001b[0m\u001b[0;34m)\u001b[0m\u001b[0;34m\u001b[0m\u001b[0;34m\u001b[0m\u001b[0m\n\u001b[0m",
      "\u001b[0;32m<ipython-input-4-2092509400>\u001b[0m in \u001b[0;36mdescribe\u001b[0;34m(self, name)\u001b[0m\n\u001b[1;32m      3\u001b[0m     \u001b[0mage\u001b[0m \u001b[0;34m=\u001b[0m \u001b[0;36m0\u001b[0m\u001b[0;34m\u001b[0m\u001b[0;34m\u001b[0m\u001b[0m\n\u001b[1;32m      4\u001b[0m     \u001b[0;32mdef\u001b[0m \u001b[0mdescribe\u001b[0m\u001b[0;34m(\u001b[0m\u001b[0mself\u001b[0m\u001b[0;34m,\u001b[0m \u001b[0mname\u001b[0m\u001b[0;34m)\u001b[0m\u001b[0;34m:\u001b[0m\u001b[0;34m\u001b[0m\u001b[0;34m\u001b[0m\u001b[0m\n\u001b[0;32m----> 5\u001b[0;31m         \u001b[0mprint\u001b[0m\u001b[0;34m(\u001b[0m\u001b[0mage\u001b[0m\u001b[0;34m,\u001b[0m \u001b[0mname\u001b[0m\u001b[0;34m)\u001b[0m\u001b[0;34m\u001b[0m\u001b[0;34m\u001b[0m\u001b[0m\n\u001b[0m\u001b[1;32m      6\u001b[0m \u001b[0;34m\u001b[0m\u001b[0m\n\u001b[1;32m      7\u001b[0m \u001b[0;31m# test code\u001b[0m\u001b[0;34m\u001b[0m\u001b[0;34m\u001b[0m\u001b[0m\n",
      "\u001b[0;31mNameError\u001b[0m: name 'age' is not defined"
     ]
    }
   ],
   "source": [
    "#Q3\n",
    "class Cat:\n",
    "    age = 0\n",
    "    def describe(self, name):\n",
    "        print(age, name)\n",
    "\n",
    "# test code\n",
    "c = Cat()\n",
    "c.describe('Tom')"
   ]
  },
  {
   "cell_type": "code",
   "execution_count": null,
   "metadata": {
    "colab": {
     "base_uri": "https://localhost:8080/"
    },
    "id": "5fnHKbfR7rNh",
    "outputId": "5bf030a9-5a60-4ef4-9c37-6a7bcbbbb477"
   },
   "outputs": [
    {
     "name": "stdout",
     "output_type": "stream",
     "text": [
      "0 Tom\n"
     ]
    }
   ],
   "source": [
    "#Q4\n",
    "class Cat:\n",
    "    age = 0\n",
    "    def describe(self, name):\n",
    "        print(self.age, name)\n",
    "\n",
    "# test code\n",
    "c = Cat()\n",
    "c.describe('Tom')"
   ]
  },
  {
   "cell_type": "code",
   "execution_count": null,
   "metadata": {
    "colab": {
     "base_uri": "https://localhost:8080/",
     "height": 297
    },
    "id": "L9XkD3Ws7rNh",
    "outputId": "59d8a4af-bdca-42b1-93a7-5a0beb0cb979"
   },
   "outputs": [
    {
     "ename": "AttributeError",
     "evalue": "'Cat' object has no attribute 'age'",
     "output_type": "error",
     "traceback": [
      "\u001b[0;31m---------------------------------------------------------------------------\u001b[0m",
      "\u001b[0;31mAttributeError\u001b[0m                            Traceback (most recent call last)",
      "\u001b[0;32m<ipython-input-6-1615979915>\u001b[0m in \u001b[0;36m<cell line: 0>\u001b[0;34m()\u001b[0m\n\u001b[1;32m      7\u001b[0m \u001b[0;31m# test code\u001b[0m\u001b[0;34m\u001b[0m\u001b[0;34m\u001b[0m\u001b[0m\n\u001b[1;32m      8\u001b[0m \u001b[0mc\u001b[0m \u001b[0;34m=\u001b[0m \u001b[0mCat\u001b[0m\u001b[0;34m(\u001b[0m\u001b[0;34m)\u001b[0m\u001b[0;34m\u001b[0m\u001b[0;34m\u001b[0m\u001b[0m\n\u001b[0;32m----> 9\u001b[0;31m \u001b[0mc\u001b[0m\u001b[0;34m.\u001b[0m\u001b[0mdescribe\u001b[0m\u001b[0;34m(\u001b[0m\u001b[0;34m'Tom'\u001b[0m\u001b[0;34m)\u001b[0m\u001b[0;34m\u001b[0m\u001b[0;34m\u001b[0m\u001b[0m\n\u001b[0m",
      "\u001b[0;32m<ipython-input-6-1615979915>\u001b[0m in \u001b[0;36mdescribe\u001b[0;34m(self, name)\u001b[0m\n\u001b[1;32m      3\u001b[0m     \u001b[0m__age\u001b[0m \u001b[0;34m=\u001b[0m \u001b[0;36m0\u001b[0m\u001b[0;34m\u001b[0m\u001b[0;34m\u001b[0m\u001b[0m\n\u001b[1;32m      4\u001b[0m     \u001b[0;32mdef\u001b[0m \u001b[0mdescribe\u001b[0m\u001b[0;34m(\u001b[0m\u001b[0mself\u001b[0m\u001b[0;34m,\u001b[0m \u001b[0mname\u001b[0m\u001b[0;34m)\u001b[0m\u001b[0;34m:\u001b[0m\u001b[0;34m\u001b[0m\u001b[0;34m\u001b[0m\u001b[0m\n\u001b[0;32m----> 5\u001b[0;31m         \u001b[0mprint\u001b[0m\u001b[0;34m(\u001b[0m\u001b[0mself\u001b[0m\u001b[0;34m.\u001b[0m\u001b[0mage\u001b[0m\u001b[0;34m,\u001b[0m \u001b[0mname\u001b[0m\u001b[0;34m)\u001b[0m\u001b[0;34m\u001b[0m\u001b[0;34m\u001b[0m\u001b[0m\n\u001b[0m\u001b[1;32m      6\u001b[0m \u001b[0;34m\u001b[0m\u001b[0m\n\u001b[1;32m      7\u001b[0m \u001b[0;31m# test code\u001b[0m\u001b[0;34m\u001b[0m\u001b[0;34m\u001b[0m\u001b[0m\n",
      "\u001b[0;31mAttributeError\u001b[0m: 'Cat' object has no attribute 'age'"
     ]
    }
   ],
   "source": [
    "#Q5\n",
    "class Cat:\n",
    "    __age = 0\n",
    "    def describe(self, name):\n",
    "        print(self.age, name)\n",
    "\n",
    "# test code\n",
    "c = Cat()\n",
    "c.describe('Tom')"
   ]
  },
  {
   "cell_type": "code",
   "execution_count": null,
   "metadata": {
    "colab": {
     "base_uri": "https://localhost:8080/"
    },
    "id": "G3WlN0rp7rNi",
    "outputId": "0493f9c9-4a43-4c25-d642-b5e77b41c95a"
   },
   "outputs": [
    {
     "name": "stdout",
     "output_type": "stream",
     "text": [
      "9 1\n"
     ]
    }
   ],
   "source": [
    "#Q6\n",
    "class Cat:\n",
    "    def describe(age, this):\n",
    "        age.__age = 9\n",
    "        print(age.__age, this)\n",
    "\n",
    "# test code\n",
    "c = Cat()\n",
    "c.describe(1)"
   ]
  },
  {
   "cell_type": "code",
   "execution_count": null,
   "metadata": {
    "colab": {
     "base_uri": "https://localhost:8080/",
     "height": 176
    },
    "id": "MpxujEor7rNi",
    "outputId": "bc1b12e2-32a0-420d-edfc-b50b32b14d4f"
   },
   "outputs": [
    {
     "ename": "TypeError",
     "evalue": "Cat.describe() takes 2 positional arguments but 3 were given",
     "output_type": "error",
     "traceback": [
      "\u001b[0;31m---------------------------------------------------------------------------\u001b[0m",
      "\u001b[0;31mTypeError\u001b[0m                                 Traceback (most recent call last)",
      "\u001b[0;32m<ipython-input-8-3767088821>\u001b[0m in \u001b[0;36m<cell line: 0>\u001b[0;34m()\u001b[0m\n\u001b[1;32m      6\u001b[0m \u001b[0;31m# test code\u001b[0m\u001b[0;34m\u001b[0m\u001b[0;34m\u001b[0m\u001b[0m\n\u001b[1;32m      7\u001b[0m \u001b[0mc\u001b[0m \u001b[0;34m=\u001b[0m \u001b[0mCat\u001b[0m\u001b[0;34m(\u001b[0m\u001b[0;34m)\u001b[0m\u001b[0;34m\u001b[0m\u001b[0;34m\u001b[0m\u001b[0m\n\u001b[0;32m----> 8\u001b[0;31m \u001b[0mc\u001b[0m\u001b[0;34m.\u001b[0m\u001b[0mdescribe\u001b[0m\u001b[0;34m(\u001b[0m\u001b[0;36m2\u001b[0m\u001b[0;34m,\u001b[0m \u001b[0;36m3\u001b[0m\u001b[0;34m)\u001b[0m\u001b[0;34m\u001b[0m\u001b[0;34m\u001b[0m\u001b[0m\n\u001b[0m",
      "\u001b[0;31mTypeError\u001b[0m: Cat.describe() takes 2 positional arguments but 3 were given"
     ]
    }
   ],
   "source": [
    "#Q7\n",
    "class Cat:\n",
    "    def describe(this, age):\n",
    "        print(age)\n",
    "\n",
    "# test code\n",
    "c = Cat()\n",
    "c.describe(2, 3)"
   ]
  },
  {
   "cell_type": "code",
   "execution_count": null,
   "metadata": {
    "colab": {
     "base_uri": "https://localhost:8080/",
     "height": 193
    },
    "id": "fPftM5JP7rNi",
    "outputId": "71a4deee-3acf-4d01-cd3d-72504228e467"
   },
   "outputs": [
    {
     "ename": "TypeError",
     "evalue": "Cat.__init__() missing 1 required positional argument: 'age'",
     "output_type": "error",
     "traceback": [
      "\u001b[0;31m---------------------------------------------------------------------------\u001b[0m",
      "\u001b[0;31mTypeError\u001b[0m                                 Traceback (most recent call last)",
      "\u001b[0;32m<ipython-input-9-374744082>\u001b[0m in \u001b[0;36m<cell line: 0>\u001b[0;34m()\u001b[0m\n\u001b[1;32m      8\u001b[0m \u001b[0;34m\u001b[0m\u001b[0m\n\u001b[1;32m      9\u001b[0m \u001b[0;31m# test code\u001b[0m\u001b[0;34m\u001b[0m\u001b[0;34m\u001b[0m\u001b[0m\n\u001b[0;32m---> 10\u001b[0;31m \u001b[0mc\u001b[0m \u001b[0;34m=\u001b[0m \u001b[0mCat\u001b[0m\u001b[0;34m(\u001b[0m\u001b[0;34m)\u001b[0m\u001b[0;34m\u001b[0m\u001b[0;34m\u001b[0m\u001b[0m\n\u001b[0m\u001b[1;32m     11\u001b[0m \u001b[0mc\u001b[0m\u001b[0;34m.\u001b[0m\u001b[0mdescribe\u001b[0m\u001b[0;34m(\u001b[0m\u001b[0;34m)\u001b[0m\u001b[0;34m\u001b[0m\u001b[0;34m\u001b[0m\u001b[0m\n",
      "\u001b[0;31mTypeError\u001b[0m: Cat.__init__() missing 1 required positional argument: 'age'"
     ]
    }
   ],
   "source": [
    "#Q8\n",
    "class Cat:\n",
    "    age = -1\n",
    "    def __init__(self, age):\n",
    "        self.age = age\n",
    "    def describe(self):\n",
    "        print(self.age)\n",
    "\n",
    "# test code\n",
    "c = Cat()\n",
    "c.describe()"
   ]
  },
  {
   "cell_type": "code",
   "execution_count": null,
   "metadata": {
    "colab": {
     "base_uri": "https://localhost:8080/",
     "height": 315
    },
    "id": "y2zSiwjf7rNi",
    "outputId": "3c6e2a7b-892f-4ab8-ef93-bbaf31ce4ec6"
   },
   "outputs": [
    {
     "name": "stdout",
     "output_type": "stream",
     "text": [
      "1\n"
     ]
    },
    {
     "ename": "AttributeError",
     "evalue": "'Cat' object has no attribute 'age'",
     "output_type": "error",
     "traceback": [
      "\u001b[0;31m---------------------------------------------------------------------------\u001b[0m",
      "\u001b[0;31mAttributeError\u001b[0m                            Traceback (most recent call last)",
      "\u001b[0;32m<ipython-input-10-4265703814>\u001b[0m in \u001b[0;36m<cell line: 0>\u001b[0;34m()\u001b[0m\n\u001b[1;32m     11\u001b[0m \u001b[0;31m# test code\u001b[0m\u001b[0;34m\u001b[0m\u001b[0;34m\u001b[0m\u001b[0m\n\u001b[1;32m     12\u001b[0m \u001b[0mc\u001b[0m \u001b[0;34m=\u001b[0m \u001b[0mCat\u001b[0m\u001b[0;34m(\u001b[0m\u001b[0;34m)\u001b[0m\u001b[0;34m\u001b[0m\u001b[0;34m\u001b[0m\u001b[0m\n\u001b[0;32m---> 13\u001b[0;31m \u001b[0mc\u001b[0m\u001b[0;34m.\u001b[0m\u001b[0mdescribe\u001b[0m\u001b[0;34m(\u001b[0m\u001b[0;34m)\u001b[0m\u001b[0;34m\u001b[0m\u001b[0;34m\u001b[0m\u001b[0m\n\u001b[0m",
      "\u001b[0;32m<ipython-input-10-4265703814>\u001b[0m in \u001b[0;36mdescribe\u001b[0;34m(self)\u001b[0m\n\u001b[1;32m      7\u001b[0m         \u001b[0mprint\u001b[0m\u001b[0;34m(\u001b[0m\u001b[0;36m1\u001b[0m\u001b[0;34m)\u001b[0m\u001b[0;34m\u001b[0m\u001b[0;34m\u001b[0m\u001b[0m\n\u001b[1;32m      8\u001b[0m     \u001b[0;32mdef\u001b[0m \u001b[0mdescribe\u001b[0m\u001b[0;34m(\u001b[0m\u001b[0mself\u001b[0m\u001b[0;34m)\u001b[0m\u001b[0;34m:\u001b[0m\u001b[0;34m\u001b[0m\u001b[0;34m\u001b[0m\u001b[0m\n\u001b[0;32m----> 9\u001b[0;31m         \u001b[0mprint\u001b[0m\u001b[0;34m(\u001b[0m\u001b[0mself\u001b[0m\u001b[0;34m.\u001b[0m\u001b[0mage\u001b[0m\u001b[0;34m)\u001b[0m\u001b[0;34m\u001b[0m\u001b[0;34m\u001b[0m\u001b[0m\n\u001b[0m\u001b[1;32m     10\u001b[0m \u001b[0;34m\u001b[0m\u001b[0m\n\u001b[1;32m     11\u001b[0m \u001b[0;31m# test code\u001b[0m\u001b[0;34m\u001b[0m\u001b[0;34m\u001b[0m\u001b[0m\n",
      "\u001b[0;31mAttributeError\u001b[0m: 'Cat' object has no attribute 'age'"
     ]
    }
   ],
   "source": [
    "#Q9\n",
    "class Animal:\n",
    "    def __init__(self):\n",
    "        self.age = 2\n",
    "class Cat:\n",
    "    def __init__(self):\n",
    "        print(1)\n",
    "    def describe(self):\n",
    "        print(self.age)\n",
    "\n",
    "# test code\n",
    "c = Cat()\n",
    "c.describe()"
   ]
  },
  {
   "cell_type": "code",
   "execution_count": null,
   "metadata": {
    "colab": {
     "base_uri": "https://localhost:8080/"
    },
    "id": "wyDatZst7rNj",
    "outputId": "fb49cd7c-540a-4e0c-80e8-2a08f4894d55"
   },
   "outputs": [
    {
     "name": "stdout",
     "output_type": "stream",
     "text": [
      "2\n"
     ]
    }
   ],
   "source": [
    "#Q10\n",
    "class Animal:\n",
    "    def __init__(self):\n",
    "        self.age = 1\n",
    "class Cat:\n",
    "    def __init__(self):\n",
    "        self.age = 2\n",
    "        super().__init__()\n",
    "\n",
    "    def describe(self):\n",
    "        print(self.age)\n",
    "\n",
    "# test code\n",
    "c = Cat()\n",
    "c.describe()"
   ]
  },
  {
   "cell_type": "markdown",
   "metadata": {
    "id": "bDRYSLZt7rNj"
   },
   "source": [
    "## OOP Objects and Classes"
   ]
  },
  {
   "cell_type": "markdown",
   "metadata": {},
   "source": [
    "### Basic"
   ]
  },
  {
   "cell_type": "markdown",
   "metadata": {},
   "source": [
    "On class"
   ]
  },
  {
   "cell_type": "code",
   "execution_count": null,
   "metadata": {
    "id": "N8BcixS57rNj"
   },
   "outputs": [],
   "source": [
    "class Rectangle:\n",
    "    def __init__(self, length, width):\n",
    "        self.length = length\n",
    "        self.width = width\n",
    "\n",
    "    def area(self, a, b):\n",
    "        self.area_c = self.length * self.width\n",
    "        print(a, b)"
   ]
  },
  {
   "cell_type": "code",
   "execution_count": 2,
   "metadata": {},
   "outputs": [
    {
     "name": "stdout",
     "output_type": "stream",
     "text": [
      "{'length': 2, 'width': 3}\n"
     ]
    }
   ],
   "source": [
    "rec1 = Rectangle(2, 3)\n",
    "print(vars(rec1))"
   ]
  },
  {
   "cell_type": "code",
   "execution_count": 3,
   "metadata": {},
   "outputs": [
    {
     "name": "stdout",
     "output_type": "stream",
     "text": [
      "2 3\n"
     ]
    }
   ],
   "source": [
    "rec1.area(2, 3)"
   ]
  },
  {
   "cell_type": "code",
   "execution_count": 4,
   "metadata": {},
   "outputs": [
    {
     "data": {
      "text/plain": [
       "{'length': 2, 'width': 3, 'area_c': 6}"
      ]
     },
     "execution_count": 4,
     "metadata": {},
     "output_type": "execute_result"
    }
   ],
   "source": [
    "vars(rec1)"
   ]
  },
  {
   "cell_type": "code",
   "execution_count": null,
   "metadata": {},
   "outputs": [],
   "source": [
    "class SayHi():\n",
    "    def __init__(self, name):\n",
    "        self.name = name\n",
    "\n",
    "    def hello(self):\n",
    "        print(f'Hello {self.name}')\n",
    "\n",
    "    def __call__(self, prefix):\n",
    "        print(f'{prefix} + {self.name}')"
   ]
  },
  {
   "cell_type": "code",
   "execution_count": 6,
   "metadata": {},
   "outputs": [],
   "source": [
    "obj2 = SayHi('John')"
   ]
  },
  {
   "cell_type": "code",
   "execution_count": 7,
   "metadata": {},
   "outputs": [
    {
     "data": {
      "text/plain": [
       "{'name': 'John'}"
      ]
     },
     "execution_count": 7,
     "metadata": {},
     "output_type": "execute_result"
    }
   ],
   "source": [
    "vars(obj2)"
   ]
  },
  {
   "cell_type": "code",
   "execution_count": 8,
   "metadata": {},
   "outputs": [
    {
     "name": "stdout",
     "output_type": "stream",
     "text": [
      "Hello John\n"
     ]
    }
   ],
   "source": [
    "obj2.hello()"
   ]
  },
  {
   "cell_type": "code",
   "execution_count": 9,
   "metadata": {},
   "outputs": [
    {
     "name": "stdout",
     "output_type": "stream",
     "text": [
      "Hello + John\n"
     ]
    }
   ],
   "source": [
    "obj2(\"Hello\")"
   ]
  },
  {
   "cell_type": "markdown",
   "metadata": {},
   "source": [
    "Inheritance"
   ]
  },
  {
   "cell_type": "code",
   "execution_count": null,
   "metadata": {},
   "outputs": [],
   "source": [
    "class People:\n",
    "    # Constructor\n",
    "    def __init__(self, name, age, gender):\n",
    "        # Attributes\n",
    "        self.name = name\n",
    "        self.age = age\n",
    "        self.gender = gender\n",
    "\n",
    "    # Methods\n",
    "    def show_name(self):\n",
    "        print(self.name)\n",
    "\n",
    "    def show_age(self):\n",
    "        print(self.age)"
   ]
  },
  {
   "cell_type": "code",
   "execution_count": null,
   "metadata": {},
   "outputs": [],
   "source": [
    "class Student(People):\n",
    "    def __init__(self, name, age, gender, gpa, std_id):\n",
    "        super().__init__(name, age, gender) # common attributes\n",
    "        self.gpa = gpa\n",
    "        self.std_id = std_id\n",
    "\n",
    "    def show_gpa(self):\n",
    "        print(self.gpa)\n",
    "\n",
    "    def show_std_id(self):\n",
    "        print(self.std_id)"
   ]
  },
  {
   "cell_type": "code",
   "execution_count": null,
   "metadata": {},
   "outputs": [],
   "source": [
    "class Teacher(People):\n",
    "    def __init__(self, name, age, gender, salary, subject):\n",
    "        super().__init__(name, age, gender)\n",
    "        self.salary = salary\n",
    "        self.subject = subject"
   ]
  },
  {
   "cell_type": "code",
   "execution_count": 12,
   "metadata": {},
   "outputs": [],
   "source": [
    "std1 = Student(\"John\", 32, \"Female\", 3.5, \"std001\")"
   ]
  },
  {
   "cell_type": "code",
   "execution_count": 13,
   "metadata": {},
   "outputs": [
    {
     "data": {
      "text/plain": [
       "{'name': 'John', 'age': 32, 'gender': 'Female', 'gpa': 3.5, 'std_id': 'std001'}"
      ]
     },
     "execution_count": 13,
     "metadata": {},
     "output_type": "execute_result"
    }
   ],
   "source": [
    "vars(std1)"
   ]
  },
  {
   "cell_type": "code",
   "execution_count": 14,
   "metadata": {},
   "outputs": [
    {
     "name": "stdout",
     "output_type": "stream",
     "text": [
      "John\n"
     ]
    }
   ],
   "source": [
    "std1.show_name()"
   ]
  },
  {
   "cell_type": "code",
   "execution_count": 21,
   "metadata": {},
   "outputs": [],
   "source": [
    "class Math1:\n",
    "    def is_even(self, a):\n",
    "        return a % 2 == 0\n",
    "\n",
    "    def factorial(self, a):\n",
    "        # Can use for to calculate the result instead\n",
    "        if a <= 1:\n",
    "            return 1\n",
    "        return a * self.factorial(a-1)"
   ]
  },
  {
   "cell_type": "code",
   "execution_count": 18,
   "metadata": {},
   "outputs": [
    {
     "data": {
      "text/plain": [
       "True"
      ]
     },
     "execution_count": 18,
     "metadata": {},
     "output_type": "execute_result"
    }
   ],
   "source": [
    "math = Math1()\n",
    "\n",
    "math.is_even(4)"
   ]
  },
  {
   "cell_type": "code",
   "execution_count": 19,
   "metadata": {},
   "outputs": [
    {
     "data": {
      "text/plain": [
       "False"
      ]
     },
     "execution_count": 19,
     "metadata": {},
     "output_type": "execute_result"
    }
   ],
   "source": [
    "math.is_even(5)"
   ]
  },
  {
   "cell_type": "code",
   "execution_count": 20,
   "metadata": {},
   "outputs": [
    {
     "data": {
      "text/plain": [
       "24"
      ]
     },
     "execution_count": 20,
     "metadata": {},
     "output_type": "execute_result"
    }
   ],
   "source": [
    "math.factorial(4)"
   ]
  },
  {
   "cell_type": "code",
   "execution_count": null,
   "metadata": {},
   "outputs": [],
   "source": [
    "class Math2:\n",
    "    def is_even(self, a):\n",
    "        return a % 2 == 0\n",
    "\n",
    "    def factorial(self, a):\n",
    "        if a <= 1:\n",
    "            return 1\n",
    "        return a * self.factorial(a - 1)\n",
    "\n",
    "    def estimate_euler(self, a):\n",
    "        result = 1\n",
    "\n",
    "        for i in range(1, a+1):\n",
    "            result = result + 1 / self.factorial(i)\n",
    "\n",
    "        return result"
   ]
  },
  {
   "cell_type": "code",
   "execution_count": 28,
   "metadata": {},
   "outputs": [
    {
     "data": {
      "text/plain": [
       "6"
      ]
     },
     "execution_count": 28,
     "metadata": {},
     "output_type": "execute_result"
    }
   ],
   "source": [
    "math2 = Math2()\n",
    "\n",
    "math2.factorial(3)"
   ]
  },
  {
   "cell_type": "code",
   "execution_count": 40,
   "metadata": {},
   "outputs": [
    {
     "name": "stdout",
     "output_type": "stream",
     "text": [
      "2.7182818284590455\n",
      "2.718281828459045\n"
     ]
    }
   ],
   "source": [
    "print(math2.estimate_euler(17))\n",
    "\n",
    "import math\n",
    "print(math.e)"
   ]
  },
  {
   "cell_type": "markdown",
   "metadata": {},
   "source": [
    "Inheritance Practice"
   ]
  },
  {
   "cell_type": "code",
   "execution_count": 43,
   "metadata": {},
   "outputs": [],
   "source": [
    "class Math3:\n",
    "    def is_even(self, a):\n",
    "        return a % 2 == 0\n",
    "\n",
    "    def factorial(self, a):\n",
    "        if a <= 1:\n",
    "            return 1\n",
    "        return a * self.factorial(a - 1)"
   ]
  },
  {
   "cell_type": "code",
   "execution_count": 46,
   "metadata": {},
   "outputs": [],
   "source": [
    "class MathChild(Math3):\n",
    "    def estimate_euler(self, a):\n",
    "        result = 1\n",
    "\n",
    "        for i in range(1, a + 1):\n",
    "            result = result + 1 / self.factorial(i)\n",
    "        return result"
   ]
  },
  {
   "cell_type": "code",
   "execution_count": 47,
   "metadata": {},
   "outputs": [
    {
     "name": "stdout",
     "output_type": "stream",
     "text": [
      "True\n",
      "2.7182818284590455\n"
     ]
    }
   ],
   "source": [
    "math_child = MathChild()\n",
    "print(math_child.is_even(2))\n",
    "print(math_child.estimate_euler(17))"
   ]
  },
  {
   "cell_type": "markdown",
   "metadata": {},
   "source": [
    "Class Objects"
   ]
  },
  {
   "cell_type": "markdown",
   "metadata": {},
   "source": [
    "Simple example"
   ]
  },
  {
   "cell_type": "code",
   "execution_count": null,
   "metadata": {},
   "outputs": [],
   "source": [
    "class Rectangle:\n",
    "    def __init__(self, width, height):\n",
    "        self.width = width\n",
    "        self.height = height\n",
    "\n",
    "    def calculate_area(self):\n",
    "        self.area = self.width * self.height\n",
    "        return self.area\n",
    "\n",
    "    def calculate_perimeter(self):\n",
    "        return (self.width + self.height) * 2"
   ]
  },
  {
   "cell_type": "code",
   "execution_count": 51,
   "metadata": {},
   "outputs": [
    {
     "name": "stdout",
     "output_type": "stream",
     "text": [
      "{'width': 4, 'height': 7}\n",
      "28\n",
      "22\n",
      "{'width': 4, 'height': 7, 'area': 28}\n"
     ]
    }
   ],
   "source": [
    "my_rec = Rectangle(4, 7)\n",
    "# Check the attributes\n",
    "print(vars(my_rec))\n",
    "print(my_rec.calculate_area())\n",
    "print(my_rec.calculate_perimeter())\n",
    "print(vars(my_rec))"
   ]
  },
  {
   "cell_type": "code",
   "execution_count": 52,
   "metadata": {},
   "outputs": [
    {
     "name": "stdout",
     "output_type": "stream",
     "text": [
      "28\n",
      "22\n"
     ]
    }
   ],
   "source": [
    "class Rectangle:\n",
    "    def __init__(self, my_width, my_height):\n",
    "        self.width = my_width\n",
    "        self.height = my_height\n",
    "\n",
    "    def calculate_area(self):\n",
    "        return self.width * self.height\n",
    "\n",
    "    def calculate_perimeter(self):\n",
    "        return (self.width + self.height) * 2\n",
    "\n",
    "my_rec = Rectangle(4, 7)\n",
    "print(my_rec.calculate_area())\n",
    "print(my_rec.calculate_perimeter())"
   ]
  },
  {
   "cell_type": "markdown",
   "metadata": {},
   "source": [
    "Create a class without the constructor method"
   ]
  },
  {
   "cell_type": "code",
   "execution_count": 54,
   "metadata": {},
   "outputs": [
    {
     "name": "stdout",
     "output_type": "stream",
     "text": [
      "6\n",
      "8\n",
      "\n",
      "16\n",
      "18\n"
     ]
    }
   ],
   "source": [
    "class Rectangle:\n",
    "    width = 6\n",
    "    height = 8\n",
    "\n",
    "my_rec = Rectangle()\n",
    "print(my_rec.width)\n",
    "print(my_rec.height)\n",
    "\n",
    "print()\n",
    "your_rec = Rectangle()\n",
    "your_rec.width = 16\n",
    "your_rec.height = 18\n",
    "print(your_rec.width)\n",
    "print(your_rec.height)"
   ]
  },
  {
   "cell_type": "markdown",
   "metadata": {},
   "source": [
    "Try creating a class without self keyword"
   ]
  },
  {
   "cell_type": "code",
   "execution_count": 55,
   "metadata": {},
   "outputs": [
    {
     "ename": "TypeError",
     "evalue": "Rectangle.__init__() takes 2 positional arguments but 3 were given",
     "output_type": "error",
     "traceback": [
      "\u001b[31m---------------------------------------------------------------------------\u001b[39m",
      "\u001b[31mTypeError\u001b[39m                                 Traceback (most recent call last)",
      "\u001b[36mCell\u001b[39m\u001b[36m \u001b[39m\u001b[32mIn[55]\u001b[39m\u001b[32m, line 12\u001b[39m\n\u001b[32m      9\u001b[39m     \u001b[38;5;28;01mdef\u001b[39;00m\u001b[38;5;250m \u001b[39m\u001b[34mcalculate_perimeter\u001b[39m():\n\u001b[32m     10\u001b[39m         \u001b[38;5;28;01mreturn\u001b[39;00m (width + height) * \u001b[32m2\u001b[39m\n\u001b[32m---> \u001b[39m\u001b[32m12\u001b[39m my_rec = Rectangle(\u001b[32m4\u001b[39m, \u001b[32m7\u001b[39m)\n",
      "\u001b[31mTypeError\u001b[39m: Rectangle.__init__() takes 2 positional arguments but 3 were given"
     ]
    }
   ],
   "source": [
    "class Rectangle:\n",
    "    def __init__(my_width, my_height):\n",
    "        width = my_width\n",
    "        height = my_height\n",
    "\n",
    "    def calculate_area():\n",
    "        return width * height\n",
    "\n",
    "    def calculate_perimeter():\n",
    "        return (width + height) * 2\n",
    "\n",
    "my_rec = Rectangle(4, 7)"
   ]
  },
  {
   "cell_type": "code",
   "execution_count": 56,
   "metadata": {},
   "outputs": [
    {
     "name": "stdout",
     "output_type": "stream",
     "text": [
      "Addition result: 15\n",
      "Subtraction result: 5\n"
     ]
    }
   ],
   "source": [
    "# The self keyword must always be the first parameter in each method.\n",
    "# When invoking a method, it is not necessary to pass the self variable.\n",
    "\n",
    "class Calculator:\n",
    "    def add(self, a, b):\n",
    "        return a + b\n",
    "\n",
    "    def subtract(self, a, b):\n",
    "        return a - b\n",
    "\n",
    "calc = Calculator()\n",
    "result_add = calc.add(10, 5)\n",
    "result_subtract = calc.subtract(10, 5)\n",
    "\n",
    "print(\"Addition result:\", result_add)\n",
    "print(\"Subtraction result:\", result_subtract)"
   ]
  },
  {
   "cell_type": "markdown",
   "metadata": {},
   "source": [
    "Use another word instead of self keyword"
   ]
  },
  {
   "cell_type": "code",
   "execution_count": 58,
   "metadata": {},
   "outputs": [
    {
     "name": "stdout",
     "output_type": "stream",
     "text": [
      "18\n"
     ]
    }
   ],
   "source": [
    "class Point:\n",
    "    def __init__(this, x, y):\n",
    "        this.x = x\n",
    "        this.y = y\n",
    "\n",
    "    def func(this, factor):\n",
    "        return (this.x + this.y) * factor\n",
    "\n",
    "my_point = Point(4, 5)\n",
    "print(my_point.func(2))"
   ]
  },
  {
   "cell_type": "markdown",
   "metadata": {},
   "source": [
    "Use \\__call__( ): a special method"
   ]
  },
  {
   "cell_type": "code",
   "execution_count": 59,
   "metadata": {},
   "outputs": [
    {
     "name": "stdout",
     "output_type": "stream",
     "text": [
      "Hello, Alice!\n",
      "Good morning, Alice!\n"
     ]
    }
   ],
   "source": [
    "class Greeting:\n",
    "    def __init__(self, name):\n",
    "        self.name = name\n",
    "\n",
    "    def __call__(self, greeting):\n",
    "        return f\"{greeting}, {self.name}!\"\n",
    "\n",
    "greet = Greeting(\"Alice\")\n",
    "\n",
    "print(greet(\"Hello\"))\n",
    "print(greet(\"Good morning\"))"
   ]
  },
  {
   "cell_type": "code",
   "execution_count": null,
   "metadata": {},
   "outputs": [],
   "source": [
    "class Greeting:\n",
    "    def __init__(self, name):\n",
    "        self.name = name\n",
    "\n",
    "    def __call__(self):\n",
    "        print(f\"Hello, {self.name}!\")\n",
    "\n",
    "greet = Greeting(\"Alice\")\n",
    "greet()"
   ]
  },
  {
   "cell_type": "markdown",
   "metadata": {},
   "source": [
    "Naming convention"
   ]
  },
  {
   "cell_type": "code",
   "execution_count": 62,
   "metadata": {},
   "outputs": [
    {
     "name": "stdout",
     "output_type": "stream",
     "text": [
      "Joey\n",
      "Rachel\n"
     ]
    }
   ],
   "source": [
    "class SuperCat:\n",
    "    def __init__(self, name, color, age):\n",
    "        self.name = name\n",
    "        self.color = color\n",
    "        self.age = age\n",
    "\n",
    "    def get_name(self):\n",
    "        return self.name\n",
    "\n",
    "    def set_name(self, new_name):\n",
    "        self.name = new_name\n",
    "\n",
    "my_cat = SuperCat(\"Joey\", \"White\", \"2\")\n",
    "print(my_cat.get_name())\n",
    "my_cat.set_name(\"Rachel\")\n",
    "print(my_cat.get_name())\n"
   ]
  },
  {
   "cell_type": "markdown",
   "metadata": {},
   "source": [
    "Everything build on OOP"
   ]
  },
  {
   "cell_type": "code",
   "execution_count": 95,
   "metadata": {},
   "outputs": [],
   "source": [
    "class List2:\n",
    "    def __init__(self, elements):\n",
    "        \"\"\"Initialize an empty list.\"\"\"\n",
    "        self.items = elements\n",
    "\n",
    "    def append(self, item):\n",
    "        \"\"\"Add an item to the end of the list.\"\"\"\n",
    "        self.items.append(item)\n",
    "\n",
    "    def pop(self, index=-1):\n",
    "        \"\"\"Remove and return the item at the given index (default: last item).\"\"\"\n",
    "        if not self.items:\n",
    "            raise IndexError(\"Pop from empty list\")\n",
    "\n",
    "        return self.items.pop(index)\n",
    "\n",
    "    def extend(self, iterable):\n",
    "        \"\"\"Add all items from an iterable to the end of the list.\"\"\"\n",
    "        for item in iterable:\n",
    "            self.items.append(item)\n",
    "\n",
    "    def insert(self, index, item):\n",
    "        \"\"\"Insert an item at the specified index.\"\"\"\n",
    "        self.items.insert(index, item)\n",
    "\n",
    "    def remove(self, item):\n",
    "        \"\"\"Remove the first occurence of an item from the list.\"\"\"\n",
    "        if item not in self.items:\n",
    "            raise ValueError(f\"{item} not in list\")\n",
    "        self.items.remove(item)\n",
    "\n",
    "    def __str__(self):\n",
    "        \"\"\"Return a string representation of the list.\"\"\"\n",
    "        return str(self.items)\n",
    "\n",
    "    def __len__(self):\n",
    "        \"\"\"Return the length of the list.\"\"\"\n",
    "        return len(self.items)\n",
    "\n",
    "    def __getitem__(self, index):\n",
    "        \"\"\"Allow indexing to access items (e.g., my_list[0]).\"\"\"\n",
    "        return self.items[index]"
   ]
  },
  {
   "cell_type": "code",
   "execution_count": 96,
   "metadata": {},
   "outputs": [
    {
     "data": {
      "text/plain": [
       "{'items': [1, 2, 3, 4, 5, 6]}"
      ]
     },
     "execution_count": 96,
     "metadata": {},
     "output_type": "execute_result"
    }
   ],
   "source": [
    "ds = List2([1,2,3,4,5])\n",
    "ds.append(6)\n",
    "vars(ds)"
   ]
  },
  {
   "cell_type": "code",
   "execution_count": 97,
   "metadata": {},
   "outputs": [
    {
     "data": {
      "text/plain": [
       "[1, 2, 3, 4, 5, 6, 7, 8, 9]"
      ]
     },
     "execution_count": 97,
     "metadata": {},
     "output_type": "execute_result"
    }
   ],
   "source": [
    "ds.extend([7,8,9])\n",
    "ds.items"
   ]
  },
  {
   "cell_type": "code",
   "execution_count": 98,
   "metadata": {},
   "outputs": [
    {
     "data": {
      "text/plain": [
       "[2, 3, 4, 5, 6, 7, 8, 9]"
      ]
     },
     "execution_count": 98,
     "metadata": {},
     "output_type": "execute_result"
    }
   ],
   "source": [
    "ds.remove(1)\n",
    "ds.items"
   ]
  },
  {
   "cell_type": "code",
   "execution_count": 99,
   "metadata": {},
   "outputs": [
    {
     "data": {
      "text/plain": [
       "[2, 3, 4, 5, 6, 7, 8]"
      ]
     },
     "execution_count": 99,
     "metadata": {},
     "output_type": "execute_result"
    }
   ],
   "source": [
    "ds.pop()\n",
    "ds.items"
   ]
  },
  {
   "cell_type": "code",
   "execution_count": 100,
   "metadata": {},
   "outputs": [
    {
     "data": {
      "text/plain": [
       "[2, 3, 4, 9, 5, 6, 7, 8]"
      ]
     },
     "execution_count": 100,
     "metadata": {},
     "output_type": "execute_result"
    }
   ],
   "source": [
    "ds.insert(3, 9)\n",
    "ds.items"
   ]
  },
  {
   "cell_type": "code",
   "execution_count": 103,
   "metadata": {},
   "outputs": [
    {
     "name": "stdout",
     "output_type": "stream",
     "text": [
      "8\n",
      "8\n",
      "7\n"
     ]
    }
   ],
   "source": [
    "print(len(ds))\n",
    "print(ds[7])\n",
    "print(str(ds[6]))"
   ]
  },
  {
   "cell_type": "markdown",
   "metadata": {},
   "source": [
    "An object of this class can be an attribute of another class"
   ]
  },
  {
   "cell_type": "code",
   "execution_count": 104,
   "metadata": {},
   "outputs": [],
   "source": [
    "class Date:\n",
    "    def __init__(self, day, month, year):\n",
    "        self.day = day\n",
    "        self.month =month\n",
    "        self.year = year\n",
    "\n",
    "    def __call__(self):\n",
    "        return f\"{self.day:02d}/{self.month:02d}/{self.year}\""
   ]
  },
  {
   "cell_type": "code",
   "execution_count": 105,
   "metadata": {},
   "outputs": [
    {
     "name": "stdout",
     "output_type": "stream",
     "text": [
      "04/01/1643\n"
     ]
    }
   ],
   "source": [
    "day = 4\n",
    "month = 1\n",
    "year = 1643\n",
    "birth = Date(day, month, year)\n",
    "print(birth())"
   ]
  },
  {
   "cell_type": "code",
   "execution_count": 106,
   "metadata": {},
   "outputs": [
    {
     "name": "stdout",
     "output_type": "stream",
     "text": [
      "Name: Isaac Newton - Birth: 04/01/1643\n"
     ]
    }
   ],
   "source": [
    "class Person:\n",
    "    def __init__(self, name, birth):\n",
    "        self.name = name\n",
    "        self.birth = birth\n",
    "\n",
    "    def info(self):\n",
    "        print(f\"Name: {self.name} - Birth: {self.birth()}\")\n",
    "\n",
    "name = \"Isaac Newton\"\n",
    "birth = Date(4, 1, 1643)\n",
    "physicist = Person(name, birth)\n",
    "physicist.info()"
   ]
  },
  {
   "cell_type": "markdown",
   "metadata": {},
   "source": [
    "Lists and Classes"
   ]
  },
  {
   "cell_type": "markdown",
   "metadata": {},
   "source": [
    "Error compare"
   ]
  },
  {
   "cell_type": "code",
   "execution_count": 111,
   "metadata": {},
   "outputs": [
    {
     "name": "stdout",
     "output_type": "stream",
     "text": [
      "Side is 3\n",
      "Side is 8\n",
      "Side is 1\n",
      "Side is 6\n",
      "Side is 5\n",
      "<class '__main__.Square'>\n"
     ]
    }
   ],
   "source": [
    "class Square:\n",
    "    def __init__(self, side):\n",
    "        self.side = side\n",
    "\n",
    "    def compute_area(self):\n",
    "        return self.side * self.side\n",
    "\n",
    "    def describe(self):\n",
    "        print(f\"Side is {self.side}\")\n",
    "\n",
    "s1 = Square(3)\n",
    "s2 = Square(8)\n",
    "s3 = Square(1)\n",
    "s4 = Square(6)\n",
    "s5 = Square(5)\n",
    "\n",
    "list_squares = [s1, s2, s3, s4, s5]\n",
    "for square in list_squares:\n",
    "    square.describe()\n",
    "\n",
    "print(type(list_squares[0]))"
   ]
  },
  {
   "cell_type": "code",
   "execution_count": 112,
   "metadata": {},
   "outputs": [
    {
     "name": "stdout",
     "output_type": "stream",
     "text": [
      "Side is 3\n",
      "Side is 8\n",
      "Side is 1\n",
      "Side is 6\n",
      "Side is 5\n",
      "<class '__main__.Square'>\n"
     ]
    }
   ],
   "source": [
    "# item in list have type is a custom class so we cannot sort it\n",
    "class Square:\n",
    "    def __init__(self, side):\n",
    "        self.side = side\n",
    "\n",
    "    def compute_area(self):\n",
    "        return self.side * self.side\n",
    "\n",
    "    def describe(self):\n",
    "        print(f\"Side is {self.side}\")\n",
    "\n",
    "    # we add It for this class\n",
    "    def __lt__(self, other):\n",
    "        return self.side < other.side\n",
    "\n",
    "s1 = Square(3)\n",
    "s2 = Square(8)\n",
    "s3 = Square(1)\n",
    "s4 = Square(6)\n",
    "s5 = Square(5)\n",
    "\n",
    "list_squares = [s1, s2, s3, s4, s5]\n",
    "for square in list_squares:\n",
    "    square.describe()\n",
    "\n",
    "print(type(list_squares[0]))"
   ]
  },
  {
   "cell_type": "code",
   "execution_count": 115,
   "metadata": {},
   "outputs": [
    {
     "name": "stdout",
     "output_type": "stream",
     "text": [
      "1\n",
      "3\n",
      "5\n",
      "6\n",
      "8\n"
     ]
    }
   ],
   "source": [
    "list_squares.sort()\n",
    "for item in list_squares:\n",
    "    print(item.side)"
   ]
  },
  {
   "cell_type": "code",
   "execution_count": 116,
   "metadata": {},
   "outputs": [
    {
     "name": "stdout",
     "output_type": "stream",
     "text": [
      "Side is 1\n",
      "Side is 3\n",
      "Side is 5\n",
      "Side is 6\n",
      "Side is 8\n"
     ]
    }
   ],
   "source": [
    "list_squares = [s1, s2, s3, s4, s5]\n",
    "list_squares.sort(key=lambda x: x.side)\n",
    "for square in list_squares:\n",
    "    square.describe()"
   ]
  },
  {
   "cell_type": "code",
   "execution_count": 117,
   "metadata": {},
   "outputs": [
    {
     "name": "stdout",
     "output_type": "stream",
     "text": [
      "Side is 1\n",
      "Side is 3\n",
      "Side is 5\n",
      "Side is 6\n",
      "Side is 8\n"
     ]
    }
   ],
   "source": [
    "def criterion(x):\n",
    "    return x.side\n",
    "\n",
    "list_squares = [s1, s2, s3, s4, s5]\n",
    "list_squares.sort(key=criterion)\n",
    "for square in list_squares:\n",
    "    square.describe()"
   ]
  },
  {
   "cell_type": "markdown",
   "metadata": {},
   "source": [
    "Access modifiers"
   ]
  },
  {
   "cell_type": "code",
   "execution_count": 118,
   "metadata": {},
   "outputs": [
    {
     "name": "stdout",
     "output_type": "stream",
     "text": [
      "10\n"
     ]
    }
   ],
   "source": [
    "class MyClass:\n",
    "    def __init__(self):\n",
    "        self._protected_variable = 10\n",
    "\n",
    "    def _protected_method(self):\n",
    "        print(\"This is a protected method\")\n",
    "\n",
    "a = MyClass()\n",
    "print(a._protected_variable)"
   ]
  },
  {
   "cell_type": "code",
   "execution_count": 121,
   "metadata": {},
   "outputs": [
    {
     "name": "stdout",
     "output_type": "stream",
     "text": [
      "Calico\n",
      "Black, white, and brown\n",
      "2\n",
      "4\n"
     ]
    }
   ],
   "source": [
    "class Animal:\n",
    "    def __init__(self, name, color):\n",
    "        self.name = name\n",
    "        self._color = color\n",
    "\n",
    "    def _make_sound(self):\n",
    "        pass\n",
    "\n",
    "class Cat:\n",
    "    def __init__(self, name, color, age):\n",
    "        self.name = name\n",
    "        self.color = color\n",
    "        self.__age = age # private\n",
    "\n",
    "    # getter method\n",
    "    def get_age(self):\n",
    "        return self.__age\n",
    "\n",
    "    # setter method\n",
    "    def set_age(self, age):\n",
    "        self.__age = age\n",
    "\n",
    "# test\n",
    "cat = Cat('Calico', 'Black, white, and brown', 2)\n",
    "print(cat.name)\n",
    "print(cat.color)\n",
    "print(cat.get_age())\n",
    "\n",
    "cat.set_age(4)\n",
    "print(cat.get_age())"
   ]
  },
  {
   "cell_type": "code",
   "execution_count": 128,
   "metadata": {},
   "outputs": [
    {
     "name": "stdout",
     "output_type": "stream",
     "text": [
      "Calico\n",
      "Black, white, and brown\n"
     ]
    },
    {
     "ename": "AttributeError",
     "evalue": "'Cat' object has no attribute '__age'",
     "output_type": "error",
     "traceback": [
      "\u001b[31m---------------------------------------------------------------------------\u001b[39m",
      "\u001b[31mAttributeError\u001b[39m                            Traceback (most recent call last)",
      "\u001b[36mCell\u001b[39m\u001b[36m \u001b[39m\u001b[32mIn[128]\u001b[39m\u001b[32m, line 13\u001b[39m\n\u001b[32m     11\u001b[39m \u001b[38;5;28mprint\u001b[39m(cat.color)\n\u001b[32m     12\u001b[39m \u001b[38;5;66;03m# Cannot access private member\u001b[39;00m\n\u001b[32m---> \u001b[39m\u001b[32m13\u001b[39m \u001b[38;5;28mprint\u001b[39m(cat.__age)\n",
      "\u001b[31mAttributeError\u001b[39m: 'Cat' object has no attribute '__age'"
     ]
    }
   ],
   "source": [
    "class Cat:\n",
    "    def __init__(self, name, color, age):\n",
    "        self.name = name\n",
    "        self.color = color\n",
    "        self.__age = age # private\n",
    "\n",
    "\n",
    "# test\n",
    "cat = Cat('Calico', 'Black, white, and brown', 2)\n",
    "print(cat.name)\n",
    "print(cat.color)\n",
    "# Cannot access private member\n",
    "print(cat.__age)"
   ]
  },
  {
   "cell_type": "markdown",
   "metadata": {},
   "source": [
    "Protected"
   ]
  },
  {
   "cell_type": "code",
   "execution_count": null,
   "metadata": {},
   "outputs": [],
   "source": [
    "class Animal:\n",
    "    def __init__(self, name, color):\n",
    "        self.name = name\n",
    "        self._color = color\n",
    "\n",
    "    def _make_sound(self):\n",
    "        return \"Some generic animal sound\"\n",
    "\n",
    "class Cat(Animal):\n",
    "    def __init__(self, name, color, breed):\n",
    "        super().__init__(name, color)\n",
    "        self.breed = breed\n",
    "\n",
    "    def info(self):\n",
    "        return f\"{self.name} is a {self._color} Cat of breed {self.breed}\"\n",
    "\n",
    "    def sound(self):\n",
    "        return self._make_sound()\n",
    "\n",
    "my_cat = Cat(name=\"Joey\", color=\"white\", breed=\"Siamese\")\n",
    "\n",
    "print(my_cat.info())\n",
    "print(my_cat.sound())"
   ]
  },
  {
   "cell_type": "code",
   "execution_count": 126,
   "metadata": {},
   "outputs": [
    {
     "name": "stdout",
     "output_type": "stream",
     "text": [
      "Joey is a Cat of breed Siamese\n",
      "Some generic animal sound\n"
     ]
    }
   ],
   "source": [
    "class Animal:\n",
    "    def __init__(self, name):\n",
    "        self.name = name\n",
    "\n",
    "    def make_sound(self):\n",
    "        return \"Some generic animal sound\"\n",
    "\n",
    "class Cat(Animal):\n",
    "    def __init__(self, name, breed):\n",
    "        super().__init__(name)\n",
    "        self.breed = breed\n",
    "\n",
    "    def info(self):\n",
    "        return f\"{self.name} is a Cat of breed {self.breed}\"\n",
    "\n",
    "my_cat = Cat(name=\"Joey\", breed=\"Siamese\")\n",
    "print(my_cat.info())\n",
    "print(my_cat.make_sound())"
   ]
  },
  {
   "cell_type": "code",
   "execution_count": 122,
   "metadata": {},
   "outputs": [
    {
     "name": "stdout",
     "output_type": "stream",
     "text": [
      "name\n",
      "age\n",
      "city\n"
     ]
    }
   ],
   "source": [
    "my_dict = {\n",
    "    \"name\": \"Harry Potter\",\n",
    "    \"age\": \"45\",\n",
    "    \"city\": \"London\"\n",
    "}\n",
    "\n",
    "my_dict = iter(my_dict)\n",
    "\n",
    "for key in my_dict:\n",
    "    print(key)"
   ]
  },
  {
   "cell_type": "code",
   "execution_count": 124,
   "metadata": {},
   "outputs": [
    {
     "name": "stdout",
     "output_type": "stream",
     "text": [
      "H\n",
      "e\n",
      "l\n",
      "l\n",
      "o\n",
      "1\n",
      "2\n",
      "3\n",
      "4\n",
      "5\n"
     ]
    }
   ],
   "source": [
    "my_string = \"Hello\"\n",
    "\n",
    "for char in my_string:\n",
    "    print(char)\n",
    "\n",
    "my_tuple = (1, 2, 3, 4, 5)\n",
    "\n",
    "for element in my_tuple:\n",
    "    print(element)"
   ]
  },
  {
   "cell_type": "markdown",
   "metadata": {},
   "source": [
    "### Custom PyTorch Class"
   ]
  },
  {
   "cell_type": "code",
   "execution_count": 3,
   "metadata": {},
   "outputs": [
    {
     "name": "stdout",
     "output_type": "stream",
     "text": [
      "Calico\n",
      "0.8\n",
      "Unknown\n",
      "-1\n"
     ]
    }
   ],
   "source": [
    "# create a class\n",
    "class Cat:\n",
    "    name = 'Calico'\n",
    "    age = 0.8\n",
    "    owner_name = 'Unknown'\n",
    "    age_owner = -1\n",
    "\n",
    "# test: create an object\n",
    "cat = Cat()\n",
    "print(cat.name)\n",
    "print(cat.age)\n",
    "type(cat)\n",
    "print(cat.owner_name)\n",
    "print(cat.age_owner)"
   ]
  },
  {
   "cell_type": "code",
   "execution_count": null,
   "metadata": {},
   "outputs": [
    {
     "name": "stdout",
     "output_type": "stream",
     "text": [
      "Calico\n",
      "0.8\n"
     ]
    }
   ],
   "source": [
    "# create a class\n",
    "class Cat:\n",
    "    name = 'Unknown'\n",
    "    age = -1\n",
    "\n",
    "    def set_init_values(self, name, age):\n",
    "        self.name = name\n",
    "        self.age = age\n",
    "\n",
    "\n",
    "# test: create an object\n",
    "cat = Cat()\n",
    "cat.set_init_values('Calico', 0.8)\n",
    "print(cat.name)\n",
    "print(cat.age)"
   ]
  },
  {
   "cell_type": "code",
   "execution_count": null,
   "metadata": {},
   "outputs": [
    {
     "name": "stdout",
     "output_type": "stream",
     "text": [
      "Call func Name: Calico - Age: 0.8\n",
      "Call func Name: Calico - Age: 1.0\n",
      "Name: Calico - Age: 1.0\n"
     ]
    }
   ],
   "source": [
    "# create a class\n",
    "class Cat:\n",
    "    def __init__(self, name, age):\n",
    "        self.name = name\n",
    "        self.age = age\n",
    "\n",
    "    def increase_age(self, age):\n",
    "        self.age = self.age + age\n",
    "\n",
    "    def describe(self):\n",
    "        print(f'Name: {self.name} - Age: {self.age}')\n",
    "\n",
    "    def __call__(self):\n",
    "        print(f'Call func Name: {self.name} - Age: {self.age}')\n",
    "\n",
    "# test: create an object\n",
    "cat = Cat('Calico', 0.8)\n",
    "cat()\n",
    "\n",
    "cat.increase_age(0.2)\n",
    "cat()\n",
    "cat.describe()"
   ]
  },
  {
   "cell_type": "code",
   "execution_count": null,
   "metadata": {},
   "outputs": [
    {
     "name": "stdout",
     "output_type": "stream",
     "text": [
      "Name: Calico - Age: 0.8\n",
      "Name: Calico - Age: 1.5\n"
     ]
    }
   ],
   "source": [
    "class Cat:\n",
    "    def __init__(self, name, age):\n",
    "        self.__name = name\n",
    "        self.__age = age\n",
    "\n",
    "    def __call__(self):\n",
    "        print(f'Name: {self.__name} - Age: {self.__age}')\n",
    "\n",
    "    def set_name(self, name):\n",
    "        self.__name = name\n",
    "\n",
    "    def set_age(self, age):\n",
    "        self.__age = age\n",
    "\n",
    "# test: create an object\n",
    "cat = Cat('Calico', 0.8)\n",
    "cat()\n",
    "\n",
    "cat.set_age(1.5)\n",
    "cat()\n"
   ]
  },
  {
   "cell_type": "code",
   "execution_count": null,
   "metadata": {},
   "outputs": [],
   "source": [
    "class Math1:\n",
    "    def is_even(self, number):\n",
    "        return number % 2 == 0\n",
    "\n",
    "    def factorial(self, number):\n",
    "        if number <= 1:\n",
    "            return 1\n",
    "        return number * self.factorial(number=number - 1)"
   ]
  },
  {
   "cell_type": "code",
   "execution_count": null,
   "metadata": {},
   "outputs": [],
   "source": [
    "class Math2(Math1):\n",
    "    def estimate_euler(self, number):\n",
    "        result = 1\n",
    "\n",
    "        for i in range(1, number+1):\n",
    "            #result = result + 1/super().factorial(i)\n",
    "            result = result + 1/self.factorial(i)\n",
    "\n",
    "\n",
    "        return result"
   ]
  },
  {
   "cell_type": "code",
   "execution_count": 21,
   "metadata": {},
   "outputs": [
    {
     "name": "stdout",
     "output_type": "stream",
     "text": [
      "False\n",
      "True\n",
      "24\n",
      "120\n",
      "2.5\n",
      "2.71827876984127\n"
     ]
    }
   ],
   "source": [
    "# test Math2\n",
    "math2 = Math2()\n",
    "\n",
    "# isEven() sample: number=5 -> False\n",
    "# isEven() sample: number=6 -> True\n",
    "print(math2.is_even(5))\n",
    "print(math2.is_even(6))\n",
    "\n",
    "# factorial() sample: number=4 -> 24\n",
    "# factorial() sample: number=5 -> 120\n",
    "print(math2.factorial(4))\n",
    "print(math2.factorial(5))\n",
    "\n",
    "# estimateEuler() sample: number=2 -> 2.5\n",
    "# estimateEuler() sample: number=8 -> 2.71\n",
    "print(math2.estimate_euler(2))\n",
    "print(math2.estimate_euler(8))"
   ]
  },
  {
   "cell_type": "code",
   "execution_count": null,
   "metadata": {},
   "outputs": [
    {
     "name": "stdout",
     "output_type": "stream",
     "text": [
      "Peter Salary: 300.0\n"
     ]
    }
   ],
   "source": [
    "class Employee:\n",
    "    def __init__(self, name, salary):\n",
    "        self.__name = name\n",
    "        self.__salary = salary\n",
    "\n",
    "    def compute_salary(self, factor):\n",
    "        return self.__salary*factor\n",
    "\n",
    "# test\n",
    "peter = Employee('Peter', 100)\n",
    "salary = peter.compute_salary(3.0)\n",
    "print(f'Peter Salary: {salary}')"
   ]
  },
  {
   "cell_type": "code",
   "execution_count": null,
   "metadata": {},
   "outputs": [
    {
     "name": "stdout",
     "output_type": "stream",
     "text": [
      "Mary Salary: 350.0\n"
     ]
    }
   ],
   "source": [
    "class Manager():\n",
    "    def __init__(self, name, salary, bonus):\n",
    "        self.__name = name\n",
    "        self.__salary = salary\n",
    "        self.__bonus = bonus\n",
    "\n",
    "    def compute_salary(self, factor):\n",
    "        return self.__salary*factor + self.__bonus\n",
    "\n",
    "# test\n",
    "mary = Manager('Mary', 100, 50)\n",
    "salary = mary.compute_salary(3.0)\n",
    "print(f'Mary Salary: {salary}')"
   ]
  },
  {
   "cell_type": "code",
   "execution_count": null,
   "metadata": {},
   "outputs": [
    {
     "name": "stdout",
     "output_type": "stream",
     "text": [
      "John Salary: 340.0\n"
     ]
    }
   ],
   "source": [
    "class Employee:\n",
    "    def __init__(self, name, salary):\n",
    "        self._name = name\n",
    "        self._salary = salary\n",
    "\n",
    "    def compute_salary(self, factor):\n",
    "        return self._salary*factor\n",
    "\n",
    "class Manager(Employee):\n",
    "    def __init__(self, name, salary, bonus):\n",
    "        self._name = name\n",
    "        self._salary = salary\n",
    "        self.__bonus = bonus\n",
    "\n",
    "    def compute_salary(self, factor):\n",
    "        return super().compute_salary(factor) + self.__bonus\n",
    "\n",
    "# test\n",
    "john = Manager('John', 100, 40)\n",
    "salary = john.compute_salary(3.0)\n",
    "print(f'John Salary: {salary}')"
   ]
  },
  {
   "cell_type": "code",
   "execution_count": null,
   "metadata": {},
   "outputs": [
    {
     "name": "stdout",
     "output_type": "stream",
     "text": [
      "John Salary: 340.0\n",
      "John 100\n"
     ]
    }
   ],
   "source": [
    "class Employee:\n",
    "    def __init__(self, name, salary):\n",
    "        self._name = name\n",
    "        self._salary = salary\n",
    "\n",
    "    def compute_salary(self, factor):\n",
    "        return self._salary * factor\n",
    "\n",
    "class Manager(Employee):\n",
    "    def __init__(self, name, salary, bonus):\n",
    "        super().__init__(name, salary)\n",
    "        # Employee.__init__(self, name, salary)\n",
    "        self.__bonus = bonus\n",
    "\n",
    "    def compute_salary(self, factor):\n",
    "        return super().compute_salary(factor) + self.__bonus\n",
    "        # return Employee.compute_salary(self, factor) + self.__bonus\n",
    "\n",
    "    def describe(self):\n",
    "        print(self._name, self._salary)\n",
    "\n",
    "# test\n",
    "john = Manager('John', 100, 40)\n",
    "salary = john.compute_salary(3.0)\n",
    "print(f'John Salary: {salary}')\n",
    "john.describe()\n"
   ]
  },
  {
   "cell_type": "code",
   "execution_count": 28,
   "metadata": {},
   "outputs": [
    {
     "name": "stdout",
     "output_type": "stream",
     "text": [
      "<__main__.Shape object at 0x7f2673ca22d0>\n"
     ]
    }
   ],
   "source": [
    "class Shape():\n",
    "    pass\n",
    "\n",
    "#  test\n",
    "a_shape = Shape()\n",
    "print(a_shape)"
   ]
  },
  {
   "cell_type": "markdown",
   "metadata": {},
   "source": [
    "Abstract Class"
   ]
  },
  {
   "cell_type": "code",
   "execution_count": 29,
   "metadata": {},
   "outputs": [
    {
     "ename": "TypeError",
     "evalue": "Can't instantiate abstract class Shape with abstract method compute_area",
     "output_type": "error",
     "traceback": [
      "\u001b[31m---------------------------------------------------------------------------\u001b[39m",
      "\u001b[31mTypeError\u001b[39m                                 Traceback (most recent call last)",
      "\u001b[36mCell\u001b[39m\u001b[36m \u001b[39m\u001b[32mIn[29]\u001b[39m\u001b[32m, line 9\u001b[39m\n\u001b[32m      6\u001b[39m         \u001b[38;5;28;01mpass\u001b[39;00m\n\u001b[32m      8\u001b[39m \u001b[38;5;66;03m# test\u001b[39;00m\n\u001b[32m----> \u001b[39m\u001b[32m9\u001b[39m a_shape = Shape()\n\u001b[32m     10\u001b[39m \u001b[38;5;28mprint\u001b[39m(a_shape)\n",
      "\u001b[31mTypeError\u001b[39m: Can't instantiate abstract class Shape with abstract method compute_area"
     ]
    }
   ],
   "source": [
    "from abc import ABC, abstractmethod\n",
    "\n",
    "class Shape(ABC):\n",
    "    @abstractmethod\n",
    "    def compute_area(self):\n",
    "        pass\n",
    "\n",
    "# test\n",
    "a_shape = Shape()\n",
    "print(a_shape)"
   ]
  },
  {
   "cell_type": "code",
   "execution_count": null,
   "metadata": {},
   "outputs": [
    {
     "name": "stdout",
     "output_type": "stream",
     "text": [
      "25\n"
     ]
    }
   ],
   "source": [
    "from abc import ABC, abstractmethod\n",
    "class Shape(ABC):\n",
    "    @abstractmethod\n",
    "    def compute_area(self):\n",
    "        pass\n",
    "\n",
    "class Square(Shape):\n",
    "    def __init__(self, side):\n",
    "        # super().__init__()\n",
    "        self.__side = side\n",
    "\n",
    "    def compute_area(self):\n",
    "        # return super().compute_area()\n",
    "        return self.__side * self.__side\n",
    "\n",
    "# test\n",
    "square = Square(5)\n",
    "print(square.compute_area())"
   ]
  },
  {
   "cell_type": "code",
   "execution_count": 31,
   "metadata": {},
   "outputs": [
    {
     "ename": "TypeError",
     "evalue": "Can't instantiate abstract class Circle with abstract method compute_area",
     "output_type": "error",
     "traceback": [
      "\u001b[31m---------------------------------------------------------------------------\u001b[39m",
      "\u001b[31mTypeError\u001b[39m                                 Traceback (most recent call last)",
      "\u001b[36mCell\u001b[39m\u001b[36m \u001b[39m\u001b[32mIn[31]\u001b[39m\u001b[32m, line 7\u001b[39m\n\u001b[32m      4\u001b[39m         \u001b[38;5;28mself\u001b[39m.__radius = radius\n\u001b[32m      6\u001b[39m \u001b[38;5;66;03m# test\u001b[39;00m\n\u001b[32m----> \u001b[39m\u001b[32m7\u001b[39m circle = Circle(\u001b[32m5\u001b[39m)\n",
      "\u001b[31mTypeError\u001b[39m: Can't instantiate abstract class Circle with abstract method compute_area"
     ]
    }
   ],
   "source": [
    "class Circle(Shape):\n",
    "    def __init__(self, radius):\n",
    "        # super().__init__()\n",
    "        self.__radius = radius\n",
    "\n",
    "# test\n",
    "circle = Circle(5)"
   ]
  },
  {
   "cell_type": "code",
   "execution_count": null,
   "metadata": {},
   "outputs": [
    {
     "name": "stdout",
     "output_type": "stream",
     "text": [
      "78.53981633974483\n"
     ]
    }
   ],
   "source": [
    "import math\n",
    "\n",
    "class Circle(Shape):\n",
    "    def __init__(self, radius):\n",
    "        # super().__init__()\n",
    "        self.__radius = radius\n",
    "\n",
    "    def compute_area(self):\n",
    "        return self.__radius*self.__radius*math.pi\n",
    "\n",
    "# test\n",
    "circle = Circle(5)\n",
    "print(circle.compute_area())"
   ]
  },
  {
   "cell_type": "code",
   "execution_count": null,
   "metadata": {},
   "outputs": [
    {
     "name": "stdout",
     "output_type": "stream",
     "text": [
      "3.14\n",
      "25\n",
      "20\n"
     ]
    }
   ],
   "source": [
    "from abc import ABC, abstractmethod\n",
    "\n",
    "# Shape\n",
    "class Shape(ABC):\n",
    "    @abstractmethod\n",
    "    def compute_area(self):\n",
    "        pass\n",
    "\n",
    "# Square\n",
    "class Square(Shape):\n",
    "    def __init__(self, side):\n",
    "        # super().__init__()\n",
    "        self.__side = side\n",
    "\n",
    "    def compute_area(self):\n",
    "        # return super().compute_area()\n",
    "        return self.__side * self.__side\n",
    "\n",
    "# Circle\n",
    "class Circle(Shape):\n",
    "    def __init__(self, radius):\n",
    "        # super().__init__()\n",
    "        self.__radius = radius\n",
    "\n",
    "    def compute_area(self):\n",
    "        # return super().compute_area()\n",
    "        return self.__radius * self.__radius * 3.14\n",
    "\n",
    "# Rectangle\n",
    "class Rectangle(Shape):\n",
    "    def __init__(self, width, height):\n",
    "        self.__width = width\n",
    "        self.__height = height\n",
    "\n",
    "    def compute_area(self):\n",
    "        return self.__width * self.__height\n",
    "\n",
    "# Canva\n",
    "class Canva:\n",
    "    def draw(self, shape):\n",
    "        return shape.compute_area()\n",
    "\n",
    "# test\n",
    "canva = Canva()\n",
    "print(canva.draw(Circle(1)))\n",
    "print(canva.draw(Square(5)))\n",
    "print(canva.draw(Rectangle(4,5)))"
   ]
  },
  {
   "cell_type": "code",
   "execution_count": null,
   "metadata": {},
   "outputs": [
    {
     "name": "stdout",
     "output_type": "stream",
     "text": [
      "Calico\n"
     ]
    },
    {
     "ename": "AttributeError",
     "evalue": "'Cat' object has no attribute '__name'",
     "output_type": "error",
     "traceback": [
      "\u001b[31m---------------------------------------------------------------------------\u001b[39m",
      "\u001b[31mAttributeError\u001b[39m                            Traceback (most recent call last)",
      "\u001b[36mCell\u001b[39m\u001b[36m \u001b[39m\u001b[32mIn[40]\u001b[39m\u001b[32m, line 12\u001b[39m\n\u001b[32m     10\u001b[39m a_cat = Cat()\n\u001b[32m     11\u001b[39m a_cat.describe()\n\u001b[32m---> \u001b[39m\u001b[32m12\u001b[39m \u001b[38;5;28mprint\u001b[39m(a_cat.__name)\n",
      "\u001b[31mAttributeError\u001b[39m: 'Cat' object has no attribute '__name'"
     ]
    }
   ],
   "source": [
    "# private\n",
    "class Cat:\n",
    "    def __init__(self):\n",
    "        self.__name = 'Calico'\n",
    "\n",
    "    def describe(self):\n",
    "        print(self.__name)\n",
    "\n",
    "# test\n",
    "a_cat = Cat()\n",
    "a_cat.describe()\n",
    "print(a_cat.__name)\n"
   ]
  },
  {
   "cell_type": "code",
   "execution_count": 41,
   "metadata": {},
   "outputs": [
    {
     "name": "stdout",
     "output_type": "stream",
     "text": [
      "Calico\n",
      "Calico\n"
     ]
    }
   ],
   "source": [
    "# protected\n",
    "class Cat:\n",
    "    def __init__(self):\n",
    "        self._name = 'Calico'\n",
    "\n",
    "    def describe(self):\n",
    "        print(self._name)\n",
    "\n",
    "# test\n",
    "a_cat = Cat()\n",
    "a_cat.describe()\n",
    "print(a_cat._name)"
   ]
  },
  {
   "cell_type": "code",
   "execution_count": 43,
   "metadata": {},
   "outputs": [
    {
     "name": "stdout",
     "output_type": "stream",
     "text": [
      "Calico\n",
      "white\n"
     ]
    },
    {
     "ename": "AttributeError",
     "evalue": "'Cat' object has no attribute '_Cat__age'",
     "output_type": "error",
     "traceback": [
      "\u001b[31m---------------------------------------------------------------------------\u001b[39m",
      "\u001b[31mAttributeError\u001b[39m                            Traceback (most recent call last)",
      "\u001b[36mCell\u001b[39m\u001b[36m \u001b[39m\u001b[32mIn[43]\u001b[39m\u001b[32m, line 23\u001b[39m\n\u001b[32m     21\u001b[39m \u001b[38;5;66;03m# test\u001b[39;00m\n\u001b[32m     22\u001b[39m a_cat = Cat()\n\u001b[32m---> \u001b[39m\u001b[32m23\u001b[39m a_cat.describe()\n",
      "\u001b[36mCell\u001b[39m\u001b[36m \u001b[39m\u001b[32mIn[43]\u001b[39m\u001b[32m, line 14\u001b[39m, in \u001b[36mCat.describe\u001b[39m\u001b[34m(self)\u001b[39m\n\u001b[32m     12\u001b[39m \u001b[38;5;28mprint\u001b[39m(\u001b[38;5;28mself\u001b[39m.name)\n\u001b[32m     13\u001b[39m \u001b[38;5;28mprint\u001b[39m(\u001b[38;5;28mself\u001b[39m._color)\n\u001b[32m---> \u001b[39m\u001b[32m14\u001b[39m \u001b[38;5;28mprint\u001b[39m(\u001b[38;5;28mself\u001b[39m.__age)\n",
      "\u001b[31mAttributeError\u001b[39m: 'Cat' object has no attribute '_Cat__age'"
     ]
    }
   ],
   "source": [
    "class Animal:\n",
    "    def __init__(self):\n",
    "        self.name = 'Calico'\n",
    "        self._color = 'white'\n",
    "        self.__age = 1.5\n",
    "\n",
    "class Cat(Animal):\n",
    "    def __init__(self):\n",
    "        super().__init__()\n",
    "\n",
    "    def describe(self):\n",
    "        print(self.name)\n",
    "        print(self._color)\n",
    "        print(self.__age)\n",
    "\n",
    "    def describe2(self):\n",
    "        print(self.name)\n",
    "        print(self._color)\n",
    "        print(self._Animal__age)\n",
    "\n",
    "# test\n",
    "a_cat = Cat()\n",
    "a_cat.describe()"
   ]
  },
  {
   "cell_type": "code",
   "execution_count": 44,
   "metadata": {},
   "outputs": [
    {
     "name": "stdout",
     "output_type": "stream",
     "text": [
      "Calico\n",
      "white\n",
      "1.5\n"
     ]
    }
   ],
   "source": [
    "# test\n",
    "a_cat = Cat()\n",
    "a_cat.describe2()"
   ]
  },
  {
   "cell_type": "code",
   "execution_count": 45,
   "metadata": {},
   "outputs": [
    {
     "name": "stdout",
     "output_type": "stream",
     "text": [
      "Calico\n",
      "Calico\n"
     ]
    }
   ],
   "source": [
    "class Cat:\n",
    "    name = 'Calico'\n",
    "\n",
    "    @staticmethod\n",
    "    def get_name():\n",
    "        return Cat.name\n",
    "\n",
    "# test\n",
    "print(Cat.name)\n",
    "print(Cat.get_name())"
   ]
  },
  {
   "cell_type": "code",
   "execution_count": null,
   "metadata": {},
   "outputs": [
    {
     "ename": "AttributeError",
     "evalue": "type object 'Cat' has no attribute '__name'",
     "output_type": "error",
     "traceback": [
      "\u001b[31m---------------------------------------------------------------------------\u001b[39m",
      "\u001b[31mAttributeError\u001b[39m                            Traceback (most recent call last)",
      "\u001b[36mCell\u001b[39m\u001b[36m \u001b[39m\u001b[32mIn[46]\u001b[39m\u001b[32m, line 8\u001b[39m\n\u001b[32m      5\u001b[39m         \u001b[38;5;28;01mreturn\u001b[39;00m \u001b[38;5;28mself\u001b[39m.__name\n\u001b[32m      7\u001b[39m \u001b[38;5;66;03m# test\u001b[39;00m\n\u001b[32m----> \u001b[39m\u001b[32m8\u001b[39m \u001b[38;5;28mprint\u001b[39m(Cat.__name)\n\u001b[32m      9\u001b[39m a_cat = Cat()\n\u001b[32m     10\u001b[39m \u001b[38;5;28mprint\u001b[39m(a_cat.get_name())\n",
      "\u001b[31mAttributeError\u001b[39m: type object 'Cat' has no attribute '__name'"
     ]
    }
   ],
   "source": [
    "class Cat:\n",
    "    __name = 'Calico'\n",
    "\n",
    "    def get_name(self):\n",
    "        return self.__name\n",
    "\n",
    "# test\n",
    "print(Cat.__name)\n",
    "a_cat = Cat()\n",
    "print(a_cat.get_name())"
   ]
  },
  {
   "cell_type": "markdown",
   "metadata": {},
   "source": [
    "Sigmoid"
   ]
  },
  {
   "cell_type": "code",
   "execution_count": 1,
   "metadata": {},
   "outputs": [
    {
     "name": "stdout",
     "output_type": "stream",
     "text": [
      "tensor([0.7311, 0.8808, 0.9526])\n"
     ]
    }
   ],
   "source": [
    "import torch\n",
    "import torch.nn as nn\n",
    "\n",
    "sigmoid_function = nn.Sigmoid()\n",
    "data = torch.Tensor([1, 2, 3])\n",
    "output = sigmoid_function(data)\n",
    "print(output)"
   ]
  },
  {
   "cell_type": "code",
   "execution_count": 2,
   "metadata": {},
   "outputs": [
    {
     "name": "stdout",
     "output_type": "stream",
     "text": [
      "tensor([0.7311, 0.8808, 0.9526])\n"
     ]
    }
   ],
   "source": [
    "class MySigmoid(nn.Module):\n",
    "    def __init__(self):\n",
    "        super().__init__()\n",
    "\n",
    "    def forward(self, x):\n",
    "        return 1 / (1 + torch.exp(-x))\n",
    "\n",
    "my_sigmoid = MySigmoid()\n",
    "output = my_sigmoid(data)\n",
    "print(output)"
   ]
  },
  {
   "cell_type": "markdown",
   "metadata": {},
   "source": [
    "Relu"
   ]
  },
  {
   "cell_type": "code",
   "execution_count": 4,
   "metadata": {},
   "outputs": [
    {
     "name": "stdout",
     "output_type": "stream",
     "text": [
      "tensor([1., 0., 3.])\n"
     ]
    }
   ],
   "source": [
    "import torch\n",
    "import torch.nn as nn\n",
    "\n",
    "class MyReluActivation(nn.Module):\n",
    "    def __init__(self):\n",
    "        super().__init__()\n",
    "\n",
    "    def forward(self, x):\n",
    "        return torch.clamp(x, min=0)\n",
    "\n",
    "data = torch.Tensor([1, -2, 3])\n",
    "my_relu = MyReluActivation()\n",
    "output = my_relu(data)\n",
    "print(output)"
   ]
  },
  {
   "cell_type": "code",
   "execution_count": null,
   "metadata": {},
   "outputs": [],
   "source": []
  },
  {
   "cell_type": "code",
   "execution_count": null,
   "metadata": {},
   "outputs": [],
   "source": []
  }
 ],
 "metadata": {
  "colab": {
   "include_colab_link": true,
   "provenance": []
  },
  "kernelspec": {
   "display_name": "ds_env",
   "language": "python",
   "name": "python3"
  },
  "language_info": {
   "codemirror_mode": {
    "name": "ipython",
    "version": 3
   },
   "file_extension": ".py",
   "mimetype": "text/x-python",
   "name": "python",
   "nbconvert_exporter": "python",
   "pygments_lexer": "ipython3",
   "version": "3.11.13"
  }
 },
 "nbformat": 4,
 "nbformat_minor": 0
}
