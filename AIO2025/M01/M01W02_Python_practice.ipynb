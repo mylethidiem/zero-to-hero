{
 "cells": [
  {
   "cell_type": "markdown",
   "metadata": {
    "colab_type": "text",
    "id": "view-in-github"
   },
   "source": [
    "<a href=\"https://colab.research.google.com/github/mylethidiem/zero-to-hero/blob/main/AIO2025/W01/M01_Python_practice.ipynb\" target=\"_parent\"><img src=\"https://colab.research.google.com/assets/colab-badge.svg\" alt=\"Open In Colab\"/></a>"
   ]
  },
  {
   "cell_type": "markdown",
   "metadata": {},
   "source": [
    "#16/07/2025 revise Module 1\n",
    "# w02"
   ]
  },
  {
   "cell_type": "markdown",
   "metadata": {},
   "source": [
    "### Tuples"
   ]
  },
  {
   "cell_type": "code",
   "execution_count": null,
   "metadata": {},
   "outputs": [
    {
     "name": "stdout",
     "output_type": "stream",
     "text": [
      "1\n",
      "2\n",
      "3\n"
     ]
    }
   ],
   "source": [
    "#### Constructing tuples\n",
    "# Để tạo một tuple, đặt các giá trị trong ngoặc:\n",
    "t = (1, 2, 3)\n",
    "\n",
    "print(t[0])\n",
    "print(t[1])\n",
    "print(t[2])"
   ]
  },
  {
   "cell_type": "code",
   "execution_count": null,
   "metadata": {},
   "outputs": [
    {
     "name": "stdout",
     "output_type": "stream",
     "text": [
      "(1, 2)\n",
      "<class 'tuple'>\n"
     ]
    }
   ],
   "source": [
    "# Cũng có thể tạo một tuple không có dấu ngoặc đơn, bằng cách sử dụng dấu phẩy:\n",
    "t = 1, 2\n",
    "print(t)\n",
    "print(type(t))"
   ]
  },
  {
   "cell_type": "code",
   "execution_count": 11,
   "metadata": {},
   "outputs": [
    {
     "data": {
      "text/plain": [
       "(1,)"
      ]
     },
     "execution_count": 11,
     "metadata": {},
     "output_type": "execute_result"
    }
   ],
   "source": [
    "# Nếu bạn muốn tạo một tuple với một phần tử duy nhất, bạn phải sử dụng dấu phẩy:\n",
    "singleton = (1, )\n",
    "singleton"
   ]
  },
  {
   "cell_type": "code",
   "execution_count": 10,
   "metadata": {},
   "outputs": [
    {
     "name": "stdout",
     "output_type": "stream",
     "text": [
      "<class 'int'>   15\n",
      "<class 'int'>   1\n",
      "<class 'tuple'>   (1,)\n"
     ]
    }
   ],
   "source": [
    "var1 = (1 + 2) * 5\n",
    "print(type(var1), ' ', var1)\n",
    "\n",
    "var2 = (1)\n",
    "print(type(var2), ' ', var2)\n",
    "\n",
    "var3 = (1,)\n",
    "print(type(var3), ' ', var3)"
   ]
  },
  {
   "cell_type": "code",
   "execution_count": 12,
   "metadata": {},
   "outputs": [
    {
     "name": "stdout",
     "output_type": "stream",
     "text": [
      "(1, 1, 1, 1, 1)\n"
     ]
    }
   ],
   "source": [
    "# Bạn có thể lặp lại một tuple bằng cách nhân một tuple với một số:\n",
    "t = (1,) * 5\n",
    "print(t)"
   ]
  },
  {
   "cell_type": "code",
   "execution_count": 13,
   "metadata": {},
   "outputs": [
    {
     "name": "stdout",
     "output_type": "stream",
     "text": [
      "(1, 0)\n",
      "(1, 0, 2)\n"
     ]
    }
   ],
   "source": [
    "# Lưu ý rằng bạn có thể nối các bộ dữ liệu và sử dụng phép gán tăng giá trị (* =, + =):\n",
    "t1 = (1, 0)\n",
    "print(t1)\n",
    "\n",
    "t1 += (2,)\n",
    "print(t1)"
   ]
  },
  {
   "cell_type": "code",
   "execution_count": 14,
   "metadata": {},
   "outputs": [
    {
     "name": "stdout",
     "output_type": "stream",
     "text": [
      "2\n",
      "1\n"
     ]
    }
   ],
   "source": [
    "#### Tuple methods\n",
    "t = (1,2,3,1)\n",
    "count = t.count(1)\n",
    "index = t.index(2)\n",
    "\n",
    "print(count)\n",
    "print(index)"
   ]
  },
  {
   "cell_type": "code",
   "execution_count": 16,
   "metadata": {},
   "outputs": [
    {
     "data": {
      "text/plain": [
       "1"
      ]
     },
     "execution_count": 16,
     "metadata": {},
     "output_type": "execute_result"
    }
   ],
   "source": [
    "t.index(2)"
   ]
  },
  {
   "cell_type": "code",
   "execution_count": 17,
   "metadata": {},
   "outputs": [
    {
     "name": "stdout",
     "output_type": "stream",
     "text": [
      "1\n",
      "2\n",
      "3\n"
     ]
    }
   ],
   "source": [
    "####  Interests of tuples\n",
    "#### Tuples cặp khóa / giá trị để xây dựng dictionary\n",
    "d = dict([('jan', 1), ('feb', 2), ('march', 3)])\n",
    "\n",
    "print(d['jan'])\n",
    "print(d['feb'])\n",
    "print(d['march'])"
   ]
  },
  {
   "cell_type": "code",
   "execution_count": 18,
   "metadata": {},
   "outputs": [
    {
     "name": "stdout",
     "output_type": "stream",
     "text": [
      "a\n",
      "a\n",
      "0\n"
     ]
    }
   ],
   "source": [
    "#### get multiple values\n",
    "x1,y1,z1   = ('a','b','c')\n",
    "(x2,y2,z2) = ('a','b','c')\n",
    "(x3,y3,z3) = range(3)\n",
    "\n",
    "print(x1)\n",
    "print(x2)\n",
    "print(x3)"
   ]
  },
  {
   "cell_type": "code",
   "execution_count": 19,
   "metadata": {},
   "outputs": [
    {
     "name": "stdout",
     "output_type": "stream",
     "text": [
      "a\n",
      "a\n"
     ]
    }
   ],
   "source": [
    "x1,y1,z1   = ('a','b','c')\n",
    "(x2,y2,z2) = ('a','b','c')\n",
    "print(x1)\n",
    "print(x2)"
   ]
  },
  {
   "cell_type": "code",
   "execution_count": 20,
   "metadata": {},
   "outputs": [
    {
     "name": "stdout",
     "output_type": "stream",
     "text": [
      "0 1 2\n"
     ]
    }
   ],
   "source": [
    "(x,y,z) = range(3)\n",
    "print(x,y,z)"
   ]
  },
  {
   "cell_type": "code",
   "execution_count": 21,
   "metadata": {},
   "outputs": [
    {
     "name": "stdout",
     "output_type": "stream",
     "text": [
      "<class 'range'>\n"
     ]
    }
   ],
   "source": [
    "a = range(3)\n",
    "print(type(a))"
   ]
  },
  {
   "cell_type": "code",
   "execution_count": 22,
   "metadata": {},
   "outputs": [
    {
     "name": "stdout",
     "output_type": "stream",
     "text": [
      "first\n",
      "second\n"
     ]
    }
   ],
   "source": [
    "d = {'first':'string value', 'second':1}\n",
    "for a in d:\n",
    "    print(a)"
   ]
  },
  {
   "cell_type": "code",
   "execution_count": 23,
   "metadata": {},
   "outputs": [
    {
     "name": "stdout",
     "output_type": "stream",
     "text": [
      "items: dict_items([('first', 'string value'), ('second', [1, 2])])\n",
      "first string value\n",
      "second [1, 2]\n"
     ]
    }
   ],
   "source": [
    "d = {'first':'string value', 'second':[1,2]}\n",
    "items = d.items()\n",
    "print('items:', items)\n",
    "for k,v in items:\n",
    "    print(k, v)"
   ]
  },
  {
   "cell_type": "code",
   "execution_count": null,
   "metadata": {},
   "outputs": [
    {
     "name": "stdout",
     "output_type": "stream",
     "text": [
      "1\n"
     ]
    }
   ],
   "source": [
    "#### Tuple Unpacking\n",
    "\n",
    "data = (1,2,3)\n",
    "x,y,z = data\n",
    "print(x)"
   ]
  },
  {
   "cell_type": "code",
   "execution_count": 25,
   "metadata": {},
   "outputs": [
    {
     "name": "stdout",
     "output_type": "stream",
     "text": [
      "4 5\n",
      "5 4\n"
     ]
    }
   ],
   "source": [
    "#### Tuple can be use as swap function\n",
    "x = 4\n",
    "y= 5\n",
    "print(x,y)\n",
    "x,y=y,x\n",
    "print(x,y)"
   ]
  },
  {
   "cell_type": "code",
   "execution_count": 28,
   "metadata": {},
   "outputs": [
    {
     "name": "stdout",
     "output_type": "stream",
     "text": [
      "3\n",
      "2\n"
     ]
    }
   ],
   "source": [
    "def swap(v1, v2):\n",
    "    (v2, v1) = (v1, v2)\n",
    "    return (v1, v2)\n",
    "\n",
    "v1 = 2\n",
    "v2 = 3\n",
    "(v1, v2) = swap(v1, v2)\n",
    "\n",
    "# print\n",
    "print(v1)\n",
    "print(v2)"
   ]
  },
  {
   "cell_type": "code",
   "execution_count": 29,
   "metadata": {},
   "outputs": [
    {
     "data": {
      "text/plain": [
       "4"
      ]
     },
     "execution_count": 29,
     "metadata": {},
     "output_type": "execute_result"
    }
   ],
   "source": [
    "### Misc\n",
    "# Length\n",
    "# Tìm chiều dài của một tuple, bạn dùng phương thức len():\n",
    "t = (1, 2, 3, 4)\n",
    "len(t)"
   ]
  },
  {
   "cell_type": "code",
   "execution_count": 30,
   "metadata": {},
   "outputs": [
    {
     "name": "stdout",
     "output_type": "stream",
     "text": [
      "(3, 4, 5)\n",
      "(5, 4, 3, 2, 1)\n"
     ]
    }
   ],
   "source": [
    "# Slicing (extracting a segment)\n",
    "data = (1, 2, 3, 4, 5)\n",
    "print(data[2:])\n",
    "print(data[::-1])"
   ]
  },
  {
   "cell_type": "code",
   "execution_count": 31,
   "metadata": {},
   "outputs": [
    {
     "ename": "AttributeError",
     "evalue": "'tuple' object has no attribute 'copy'",
     "output_type": "error",
     "traceback": [
      "\u001b[31m---------------------------------------------------------------------------\u001b[39m",
      "\u001b[31mAttributeError\u001b[39m                            Traceback (most recent call last)",
      "\u001b[36mCell\u001b[39m\u001b[36m \u001b[39m\u001b[32mIn[31]\u001b[39m\u001b[32m, line 4\u001b[39m\n\u001b[32m      1\u001b[39m \u001b[38;5;66;03m# Copy a tuple\u001b[39;00m\n\u001b[32m      2\u001b[39m t = (\u001b[32m1\u001b[39m, \u001b[32m2\u001b[39m, \u001b[32m3\u001b[39m, \u001b[32m4\u001b[39m, \u001b[32m5\u001b[39m)\n\u001b[32m----> \u001b[39m\u001b[32m4\u001b[39m new_t = t.copy()\n\u001b[32m      5\u001b[39m \u001b[38;5;28mprint\u001b[39m(new_t)\n",
      "\u001b[31mAttributeError\u001b[39m: 'tuple' object has no attribute 'copy'"
     ]
    }
   ],
   "source": [
    "# Copy a tuple\n",
    "t = (1, 2, 3, 4, 5)\n",
    "\n",
    "new_t = t.copy()\n",
    "print(new_t)"
   ]
  },
  {
   "cell_type": "code",
   "execution_count": null,
   "metadata": {},
   "outputs": [
    {
     "name": "stdout",
     "output_type": "stream",
     "text": [
      "(1, 2, [9, 10])\n"
     ]
    }
   ],
   "source": [
    "# Tuple are not fully immutable\n",
    "t = (1, 2, [3, 10])\n",
    "t[2][0] = 9\n",
    "print(t)"
   ]
  },
  {
   "cell_type": "code",
   "execution_count": 33,
   "metadata": {},
   "outputs": [
    {
     "ename": "TypeError",
     "evalue": "'tuple' object does not support item assignment",
     "output_type": "error",
     "traceback": [
      "\u001b[31m---------------------------------------------------------------------------\u001b[39m",
      "\u001b[31mTypeError\u001b[39m                                 Traceback (most recent call last)",
      "\u001b[36mCell\u001b[39m\u001b[36m \u001b[39m\u001b[32mIn[33]\u001b[39m\u001b[32m, line 2\u001b[39m\n\u001b[32m      1\u001b[39m t = (\u001b[32m1\u001b[39m, \u001b[32m2\u001b[39m, \u001b[32m3\u001b[39m, \u001b[32m4\u001b[39m, \u001b[32m5\u001b[39m)\n\u001b[32m----> \u001b[39m\u001b[32m2\u001b[39m t[\u001b[32m2\u001b[39m] = \u001b[32m9\u001b[39m\n\u001b[32m      3\u001b[39m \u001b[38;5;28mprint\u001b[39m(t)\n",
      "\u001b[31mTypeError\u001b[39m: 'tuple' object does not support item assignment"
     ]
    }
   ],
   "source": [
    "t = (1, 2, 3, 4, 5)\n",
    "t[2] = 9\n",
    "print(t)"
   ]
  },
  {
   "cell_type": "code",
   "execution_count": 34,
   "metadata": {},
   "outputs": [
    {
     "name": "stdout",
     "output_type": "stream",
     "text": [
      "(1, 2, 3, 4, 5)\n",
      "<class 'str'>\n"
     ]
    }
   ],
   "source": [
    "# tuple to str\n",
    "data = (1, 2, 3, 4, 5)\n",
    "data_str = str(data)\n",
    "print(data_str)\n",
    "print(type(data_str))"
   ]
  },
  {
   "cell_type": "code",
   "execution_count": 35,
   "metadata": {},
   "outputs": [
    {
     "name": "stdout",
     "output_type": "stream",
     "text": [
      "(\n"
     ]
    }
   ],
   "source": [
    "print(data_str[0])"
   ]
  },
  {
   "cell_type": "code",
   "execution_count": 36,
   "metadata": {},
   "outputs": [
    {
     "name": "stdout",
     "output_type": "stream",
     "text": [
      "1\n",
      "5\n",
      "15\n"
     ]
    }
   ],
   "source": [
    "t = (1, 2, 3, 4, 5)\n",
    "\n",
    "print(min(t))\n",
    "print(max(t))\n",
    "print(sum(t))"
   ]
  },
  {
   "cell_type": "code",
   "execution_count": 37,
   "metadata": {},
   "outputs": [
    {
     "name": "stdout",
     "output_type": "stream",
     "text": [
      "[3, 4, 6, 7, 9]\n"
     ]
    }
   ],
   "source": [
    "t = (4, 7, 3, 9, 6)\n",
    "t_s = sorted(t)\n",
    "print(t_s)"
   ]
  },
  {
   "cell_type": "code",
   "execution_count": 38,
   "metadata": {},
   "outputs": [
    {
     "name": "stdout",
     "output_type": "stream",
     "text": [
      "(1, 2, 3, 4, 5)\n",
      "('a', 'b', 'c', 'd', 'e')\n",
      "1 a\n",
      "2 b\n",
      "3 c\n",
      "4 d\n",
      "5 e\n"
     ]
    }
   ],
   "source": [
    "t1 = (1, 2, 3, 4, 5)\n",
    "t2 = ('a', 'b', 'c', 'd', 'e')\n",
    "\n",
    "print(t1)\n",
    "print(t2)\n",
    "\n",
    "t3 = zip(t1, t2)\n",
    "for x,y in t3:\n",
    "    print(x, y)"
   ]
  },
  {
   "cell_type": "code",
   "execution_count": 39,
   "metadata": {},
   "outputs": [
    {
     "name": "stdout",
     "output_type": "stream",
     "text": [
      "<class 'tuple'>\n",
      "0\n",
      "()\n"
     ]
    }
   ],
   "source": [
    "import math\n",
    "\n",
    "def quadratic_equation(a, b, c):\n",
    "    '''\n",
    "    This function aims at solving the quadratic equation\n",
    "    a, b, c --- three parameters and a =! 0\n",
    "    '''\n",
    "    # compute delta\n",
    "    delta = b*b - 4*a*c\n",
    "\n",
    "    if delta < 0:\n",
    "        return ()\n",
    "    elif delta == 0:\n",
    "        x = (-b + math.sqrt(delta))/(2*a)\n",
    "        return (x,)\n",
    "    else:\n",
    "        x1 = (-b + math.sqrt(delta))/(2*a)\n",
    "        x2 = (-b - math.sqrt(delta))/(2*a)\n",
    "        return (x1,x2)\n",
    "\n",
    "result = quadratic_equation(a=5, b=0, c=1)\n",
    "print(type(result))\n",
    "print(len(result))\n",
    "print(result)"
   ]
  },
  {
   "cell_type": "code",
   "execution_count": 40,
   "metadata": {},
   "outputs": [
    {
     "name": "stdout",
     "output_type": "stream",
     "text": [
      "<class 'tuple'>\n",
      "1\n",
      "(-0.5,)\n"
     ]
    }
   ],
   "source": [
    "result = quadratic_equation(a=4, b=4, c=1)\n",
    "print(type(result))\n",
    "print(len(result))\n",
    "print(result)"
   ]
  },
  {
   "cell_type": "code",
   "execution_count": 41,
   "metadata": {},
   "outputs": [
    {
     "ename": "TypeError",
     "evalue": "'tuple' object does not support item assignment",
     "output_type": "error",
     "traceback": [
      "\u001b[31m---------------------------------------------------------------------------\u001b[39m",
      "\u001b[31mTypeError\u001b[39m                                 Traceback (most recent call last)",
      "\u001b[36mCell\u001b[39m\u001b[36m \u001b[39m\u001b[32mIn[41]\u001b[39m\u001b[32m, line 2\u001b[39m\n\u001b[32m      1\u001b[39m result = quadratic_equation(a=\u001b[32m4\u001b[39m, b=\u001b[32m4\u001b[39m, c=\u001b[32m1\u001b[39m)\n\u001b[32m----> \u001b[39m\u001b[32m2\u001b[39m result[\u001b[32m0\u001b[39m] = \u001b[32m1\u001b[39m\n",
      "\u001b[31mTypeError\u001b[39m: 'tuple' object does not support item assignment"
     ]
    }
   ],
   "source": [
    "result = quadratic_equation(a=4, b=4, c=1)\n",
    "result[0] = 1"
   ]
  },
  {
   "cell_type": "code",
   "execution_count": 43,
   "metadata": {},
   "outputs": [
    {
     "name": "stdout",
     "output_type": "stream",
     "text": [
      "data =  <zip object at 0x7f08b31e7740>\n",
      "(1, 5)\n",
      "<class 'tuple'>\n",
      "(2, 6)\n",
      "<class 'tuple'>\n",
      "(3, 7)\n",
      "<class 'tuple'>\n"
     ]
    }
   ],
   "source": [
    "# tuple and zip\n",
    "\n",
    "x_data = [1, 2, 3]\n",
    "y_data = [5, 6, 7]\n",
    "data = zip(x_data, y_data)\n",
    "print(\"data = \",data)\n",
    "# print\n",
    "for d in data:\n",
    "    print(d)\n",
    "    print(type(d))"
   ]
  },
  {
   "cell_type": "code",
   "execution_count": 45,
   "metadata": {},
   "outputs": [
    {
     "name": "stdout",
     "output_type": "stream",
     "text": [
      "104\n",
      "80\n"
     ]
    }
   ],
   "source": [
    "# memory comparison\n",
    "import sys\n",
    "\n",
    "aList  = [3, 4, 5, 6, 7]\n",
    "aTuple = (3, 4, 5, 6, 7)\n",
    "\n",
    "print(sys.getsizeof(aList))\n",
    "print(sys.getsizeof(aTuple))"
   ]
  },
  {
   "cell_type": "code",
   "execution_count": 46,
   "metadata": {},
   "outputs": [
    {
     "name": "stdout",
     "output_type": "stream",
     "text": [
      "[3, 4, 5, 6, 7]\n",
      "<class 'list'>\n"
     ]
    }
   ],
   "source": [
    "# convert from tuple to list\n",
    "aTuple  = (3, 4, 5, 6, 7)\n",
    "aList = list(aList)\n",
    "\n",
    "print(aList)\n",
    "print(type(aList))"
   ]
  },
  {
   "cell_type": "markdown",
   "metadata": {},
   "source": [
    "### Set"
   ]
  },
  {
   "cell_type": "code",
   "execution_count": 1,
   "metadata": {},
   "outputs": [
    {
     "name": "stdout",
     "output_type": "stream",
     "text": [
      "<class 'set'>\n",
      "{'dog', 'tiger', 'cat'}\n"
     ]
    }
   ],
   "source": [
    "# create a set\n",
    "animals = {\"cat\", \"dog\", \"tiger\"}\n",
    "\n",
    "print(type(animals))\n",
    "print(animals)"
   ]
  },
  {
   "cell_type": "code",
   "execution_count": 2,
   "metadata": {},
   "outputs": [
    {
     "name": "stdout",
     "output_type": "stream",
     "text": [
      "<class 'set'>\n",
      "{40.0, True, 'cat', 5}\n"
     ]
    }
   ],
   "source": [
    "# create a set\n",
    "a_set = {\"cat\", 5, True, 40.0}\n",
    "\n",
    "print(type(a_set))\n",
    "print(a_set)"
   ]
  },
  {
   "cell_type": "code",
   "execution_count": 3,
   "metadata": {},
   "outputs": [
    {
     "name": "stdout",
     "output_type": "stream",
     "text": [
      "{'dog', 'tiger', 'cat'}\n",
      "{'dog', 'tiger', 'cat'}\n"
     ]
    }
   ],
   "source": [
    "# No duplication\n",
    "animals = {\"cat\", \"dog\", \"tiger\"}\n",
    "print(animals)\n",
    "\n",
    "animals.add(\"cat\")\n",
    "print(animals)"
   ]
  },
  {
   "cell_type": "code",
   "execution_count": 4,
   "metadata": {},
   "outputs": [
    {
     "name": "stdout",
     "output_type": "stream",
     "text": [
      "Animals: {'dog', 'tiger', 'cat'}\n",
      "Copy: {'dog', 'tiger', 'cat'}\n"
     ]
    }
   ],
   "source": [
    "# copy\n",
    "animals = {\"cat\", \"dog\", \"tiger\"}\n",
    "print(\"Animals:\", animals)\n",
    "\n",
    "a_copy = animals.copy()\n",
    "print(\"Copy:\", a_copy)"
   ]
  },
  {
   "cell_type": "code",
   "execution_count": 5,
   "metadata": {},
   "outputs": [
    {
     "name": "stdout",
     "output_type": "stream",
     "text": [
      "dog\n",
      "tiger\n",
      "cat\n"
     ]
    }
   ],
   "source": [
    "# accessing items\n",
    "animals = {\"cat\", \"dog\", \"tiger\"}\n",
    "for animal in animals:\n",
    "    print(animal)"
   ]
  },
  {
   "cell_type": "code",
   "execution_count": 6,
   "metadata": {},
   "outputs": [
    {
     "ename": "TypeError",
     "evalue": "'set' object is not subscriptable",
     "output_type": "error",
     "traceback": [
      "\u001b[31m---------------------------------------------------------------------------\u001b[39m",
      "\u001b[31mTypeError\u001b[39m                                 Traceback (most recent call last)",
      "\u001b[36mCell\u001b[39m\u001b[36m \u001b[39m\u001b[32mIn[6]\u001b[39m\u001b[32m, line 3\u001b[39m\n\u001b[32m      1\u001b[39m \u001b[38;5;66;03m# not support indexing\u001b[39;00m\n\u001b[32m      2\u001b[39m animals = {\u001b[33m\"\u001b[39m\u001b[33mcat\u001b[39m\u001b[33m\"\u001b[39m, \u001b[33m\"\u001b[39m\u001b[33mdog\u001b[39m\u001b[33m\"\u001b[39m, \u001b[33m\"\u001b[39m\u001b[33mtiger\u001b[39m\u001b[33m\"\u001b[39m}\n\u001b[32m----> \u001b[39m\u001b[32m3\u001b[39m \u001b[38;5;28mprint\u001b[39m(animals[\u001b[32m1\u001b[39m])\n",
      "\u001b[31mTypeError\u001b[39m: 'set' object is not subscriptable"
     ]
    }
   ],
   "source": [
    "# not support indexing\n",
    "animals = {\"cat\", \"dog\", \"tiger\"}\n",
    "print(animals[1])"
   ]
  },
  {
   "cell_type": "code",
   "execution_count": 7,
   "metadata": {},
   "outputs": [
    {
     "name": "stdout",
     "output_type": "stream",
     "text": [
      "{'dog', 'tiger', 'cat', 'bear'}\n"
     ]
    }
   ],
   "source": [
    "# add an item\n",
    "animals = {\"cat\", \"dog\", \"tiger\"}\n",
    "animals.add(\"bear\")\n",
    "print(animals)"
   ]
  },
  {
   "cell_type": "code",
   "execution_count": 8,
   "metadata": {},
   "outputs": [
    {
     "name": "stdout",
     "output_type": "stream",
     "text": [
      "{'dog', 'Duck', 'cat', 'chicken', 'tiger'}\n"
     ]
    }
   ],
   "source": [
    "# insert a set to another set\n",
    "animals = {\"cat\", \"dog\", \"tiger\"}\n",
    "animals.update({\"chicken\",\"Duck\"})\n",
    "print(animals)"
   ]
  },
  {
   "cell_type": "code",
   "execution_count": 9,
   "metadata": {},
   "outputs": [
    {
     "name": "stdout",
     "output_type": "stream",
     "text": [
      "{'dog', 'duck', 'tiger', 'cat'}\n"
     ]
    }
   ],
   "source": [
    "# join two sets\n",
    "set1 = {\"cat\", \"dog\"}\n",
    "set2 = {\"duck\", \"tiger\"}\n",
    "\n",
    "set3 = set1.union(set2)\n",
    "print(set3)"
   ]
  },
  {
   "cell_type": "code",
   "execution_count": 10,
   "metadata": {},
   "outputs": [
    {
     "name": "stdout",
     "output_type": "stream",
     "text": [
      "{'tiger', 'cat'}\n"
     ]
    }
   ],
   "source": [
    "# remove an item\n",
    "animals = {\"cat\", \"dog\", \"tiger\"}\n",
    "animals.remove(\"dog\")\n",
    "print(animals)"
   ]
  },
  {
   "cell_type": "code",
   "execution_count": 11,
   "metadata": {},
   "outputs": [
    {
     "name": "stdout",
     "output_type": "stream",
     "text": [
      "{'dog', 'cat'}\n"
     ]
    }
   ],
   "source": [
    "# remove an item\n",
    "animals = {\"cat\", \"dog\", \"tiger\"}\n",
    "animals.discard(\"tiger\")\n",
    "print(animals)"
   ]
  },
  {
   "cell_type": "code",
   "execution_count": 12,
   "metadata": {},
   "outputs": [
    {
     "ename": "KeyError",
     "evalue": "'duck'",
     "output_type": "error",
     "traceback": [
      "\u001b[31m---------------------------------------------------------------------------\u001b[39m",
      "\u001b[31mKeyError\u001b[39m                                  Traceback (most recent call last)",
      "\u001b[36mCell\u001b[39m\u001b[36m \u001b[39m\u001b[32mIn[12]\u001b[39m\u001b[32m, line 3\u001b[39m\n\u001b[32m      1\u001b[39m \u001b[38;5;66;03m# remove an item\u001b[39;00m\n\u001b[32m      2\u001b[39m animals = {\u001b[33m\"\u001b[39m\u001b[33mcat\u001b[39m\u001b[33m\"\u001b[39m, \u001b[33m\"\u001b[39m\u001b[33mdog\u001b[39m\u001b[33m\"\u001b[39m, \u001b[33m\"\u001b[39m\u001b[33mtiger\u001b[39m\u001b[33m\"\u001b[39m}\n\u001b[32m----> \u001b[39m\u001b[32m3\u001b[39m animals.remove(\u001b[33m\"\u001b[39m\u001b[33mduck\u001b[39m\u001b[33m\"\u001b[39m)\n\u001b[32m      4\u001b[39m \u001b[38;5;28mprint\u001b[39m(animals)\n",
      "\u001b[31mKeyError\u001b[39m: 'duck'"
     ]
    }
   ],
   "source": [
    "# remove an item\n",
    "animals = {\"cat\", \"dog\", \"tiger\"}\n",
    "animals.remove(\"duck\")\n",
    "print(animals)"
   ]
  },
  {
   "cell_type": "code",
   "execution_count": 13,
   "metadata": {},
   "outputs": [
    {
     "name": "stdout",
     "output_type": "stream",
     "text": [
      "{'dog', 'tiger', 'cat'}\n"
     ]
    }
   ],
   "source": [
    "# remove an item\n",
    "animals = {\"cat\", \"dog\", \"tiger\"}\n",
    "animals.discard(\"duck\")\n",
    "print(animals)"
   ]
  },
  {
   "cell_type": "code",
   "execution_count": 14,
   "metadata": {},
   "outputs": [
    {
     "ename": "TypeError",
     "evalue": "unhashable type: 'list'",
     "output_type": "error",
     "traceback": [
      "\u001b[31m---------------------------------------------------------------------------\u001b[39m",
      "\u001b[31mTypeError\u001b[39m                                 Traceback (most recent call last)",
      "\u001b[36mCell\u001b[39m\u001b[36m \u001b[39m\u001b[32mIn[14]\u001b[39m\u001b[32m, line 3\u001b[39m\n\u001b[32m      1\u001b[39m \u001b[38;5;66;03m# create a set\u001b[39;00m\n\u001b[32m      2\u001b[39m a_list = [\u001b[32m1\u001b[39m, \u001b[32m2\u001b[39m, \u001b[32m3\u001b[39m]\n\u001b[32m----> \u001b[39m\u001b[32m3\u001b[39m a_set  = {\u001b[33m\"\u001b[39m\u001b[33mcat\u001b[39m\u001b[33m\"\u001b[39m, a_list}\n\u001b[32m      4\u001b[39m \u001b[38;5;28mprint\u001b[39m(a_set)\n",
      "\u001b[31mTypeError\u001b[39m: unhashable type: 'list'"
     ]
    }
   ],
   "source": [
    "# create a set\n",
    "a_list = [1, 2, 3]\n",
    "a_set  = {\"cat\", a_list}\n",
    "print(a_set)"
   ]
  },
  {
   "cell_type": "code",
   "execution_count": null,
   "metadata": {},
   "outputs": [
    {
     "name": "stdout",
     "output_type": "stream",
     "text": [
      "{'banana', 'cherry'}\n"
     ]
    }
   ],
   "source": [
    "# difference\n",
    "\n",
    "set1 = {\"apple\", \"banana\", \"cherry\"}\n",
    "set2 = {\"pineapple\", \"apple\"}\n",
    "\n",
    "set3 = set1.difference(set2)\n",
    "\n",
    "print(set3)"
   ]
  },
  {
   "cell_type": "code",
   "execution_count": 16,
   "metadata": {},
   "outputs": [
    {
     "name": "stdout",
     "output_type": "stream",
     "text": [
      "{'banana', 'cherry'}\n"
     ]
    }
   ],
   "source": [
    "# difference_update\n",
    "\n",
    "set1 = {\"apple\", \"banana\", \"cherry\"}\n",
    "set2 = {\"pineapple\", \"apple\"}\n",
    "\n",
    "set1.difference_update(set2)\n",
    "\n",
    "print(set1)"
   ]
  },
  {
   "cell_type": "code",
   "execution_count": 17,
   "metadata": {},
   "outputs": [
    {
     "name": "stdout",
     "output_type": "stream",
     "text": [
      "140591811214496\n",
      "{'banana', 'cherry'}\n",
      "140591811214496\n"
     ]
    }
   ],
   "source": [
    "set1 = {\"apple\", \"banana\", \"cherry\"}\n",
    "set2 = {\"pineapple\", \"apple\"}\n",
    "\n",
    "print(id(set1))\n",
    "set1.difference_update(set2)\n",
    "\n",
    "print(set1)\n",
    "print(id(set1))"
   ]
  },
  {
   "cell_type": "code",
   "execution_count": 18,
   "metadata": {},
   "outputs": [
    {
     "name": "stdout",
     "output_type": "stream",
     "text": [
      "{'banana', 'pineapple', 'cherry'}\n"
     ]
    }
   ],
   "source": [
    "# symmetric_difference\n",
    "\n",
    "set1 = {\"apple\", \"banana\", \"cherry\"}\n",
    "set2 = {\"pineapple\", \"apple\"}\n",
    "\n",
    "set3 = set1.symmetric_difference(set2)\n",
    "\n",
    "print(set3)"
   ]
  },
  {
   "cell_type": "code",
   "execution_count": 19,
   "metadata": {},
   "outputs": [
    {
     "name": "stdout",
     "output_type": "stream",
     "text": [
      "{'banana', 'pineapple', 'cherry'}\n"
     ]
    }
   ],
   "source": [
    "# symmetric_difference_update\n",
    "\n",
    "set1 = {\"apple\", \"banana\", \"cherry\"}\n",
    "set2 = {\"pineapple\", \"apple\"}\n",
    "\n",
    "set1.symmetric_difference_update(set2)\n",
    "\n",
    "print(set1)"
   ]
  },
  {
   "cell_type": "code",
   "execution_count": 20,
   "metadata": {},
   "outputs": [
    {
     "name": "stdout",
     "output_type": "stream",
     "text": [
      "{3}\n"
     ]
    }
   ],
   "source": [
    "# AND (&)\n",
    "\n",
    "set1 = {1, 2, 3}\n",
    "set2 = {3, 4, 5}\n",
    "\n",
    "print(set1 & set2)"
   ]
  },
  {
   "cell_type": "code",
   "execution_count": 21,
   "metadata": {},
   "outputs": [
    {
     "name": "stdout",
     "output_type": "stream",
     "text": [
      "{1, 2, 3, 4, 5}\n"
     ]
    }
   ],
   "source": [
    "# OR (|)\n",
    "\n",
    "set1 = {1, 2, 3}\n",
    "set2 = {3, 4, 5}\n",
    "\n",
    "print(set1 | set2)"
   ]
  },
  {
   "cell_type": "code",
   "execution_count": 22,
   "metadata": {},
   "outputs": [
    {
     "name": "stdout",
     "output_type": "stream",
     "text": [
      "{1, 2, 4, 5}\n"
     ]
    }
   ],
   "source": [
    "# XOR (^)\n",
    "\n",
    "set1 = {1, 2, 3}\n",
    "set2 = {3, 4, 5}\n",
    "\n",
    "print(set1 ^ set2)"
   ]
  },
  {
   "cell_type": "code",
   "execution_count": 23,
   "metadata": {},
   "outputs": [
    {
     "name": "stdout",
     "output_type": "stream",
     "text": [
      "{1, 2}\n"
     ]
    }
   ],
   "source": [
    "# subtraction (-)\n",
    "\n",
    "set1 = {1, 2, 3}\n",
    "set2 = {3, 4, 5}\n",
    "\n",
    "print(set1 - set2)"
   ]
  },
  {
   "cell_type": "code",
   "execution_count": 24,
   "metadata": {},
   "outputs": [
    {
     "name": "stdout",
     "output_type": "stream",
     "text": [
      "{0, 1, 64, 4, 36, 9, 16, 49, 81, 25}\n"
     ]
    }
   ],
   "source": [
    "# set comprehension\n",
    "\n",
    "aSet = {i*i for i in range(10)}\n",
    "print(aSet)"
   ]
  },
  {
   "cell_type": "markdown",
   "metadata": {},
   "source": [
    "Conversion"
   ]
  },
  {
   "cell_type": "code",
   "execution_count": 25,
   "metadata": {},
   "outputs": [
    {
     "name": "stdout",
     "output_type": "stream",
     "text": [
      "[1, 2, 3, 4, 5]\n",
      "<class 'list'>\n"
     ]
    }
   ],
   "source": [
    "# convert from set to list\n",
    "aSet = {1, 2, 3, 4, 5}\n",
    "\n",
    "aList = list(aSet)\n",
    "print(aList)\n",
    "print(type(aList))"
   ]
  },
  {
   "cell_type": "code",
   "execution_count": 26,
   "metadata": {},
   "outputs": [
    {
     "name": "stdout",
     "output_type": "stream",
     "text": [
      "(1, 2, 3, 4, 5)\n",
      "<class 'tuple'>\n"
     ]
    }
   ],
   "source": [
    "# convert from set to tuple\n",
    "aSet = {1, 2, 3, 4, 5}\n",
    "\n",
    "aTuple = tuple(aSet)\n",
    "print(aTuple)\n",
    "print(type(aTuple))"
   ]
  },
  {
   "cell_type": "code",
   "execution_count": 27,
   "metadata": {},
   "outputs": [
    {
     "name": "stdout",
     "output_type": "stream",
     "text": [
      "{1, 2, 3}\n",
      "<class 'set'>\n"
     ]
    }
   ],
   "source": [
    "# convert from list to set\n",
    "aList = [1, 2, 3, 2, 1]\n",
    "\n",
    "aSet = set(aList)\n",
    "print(aSet)\n",
    "print(type(aSet))"
   ]
  },
  {
   "cell_type": "code",
   "execution_count": 28,
   "metadata": {},
   "outputs": [
    {
     "name": "stdout",
     "output_type": "stream",
     "text": [
      "{1, 2, 3}\n",
      "<class 'set'>\n"
     ]
    }
   ],
   "source": [
    "# convert from tuple to set\n",
    "aTuple = (1, 2, 3, 2, 1)\n",
    "\n",
    "aSet = set(aTuple)\n",
    "print(aSet)\n",
    "print(type(aSet))"
   ]
  },
  {
   "cell_type": "markdown",
   "metadata": {},
   "source": [
    "Application for set"
   ]
  },
  {
   "cell_type": "code",
   "execution_count": null,
   "metadata": {},
   "outputs": [
    {
     "name": "stdout",
     "output_type": "stream",
     "text": [
      "Python is a high-level, interpreted, general-purpose programming language. Its design philosophy emphasizes code readability with the use of significant indentation. Python is dynamically-typed and garbage-collected.  It supports multiple programming paradigms, including structured, object-oriented and functional programming.\n"
     ]
    }
   ],
   "source": [
    "# kết nối với file\n",
    "a_file = open('data.txt','r')\n",
    "\n",
    "# read content\n",
    "data = a_file.read()\n",
    "print(data)\n",
    "\n",
    "# Đóng kết nối với file\n",
    "a_file.close()"
   ]
  },
  {
   "cell_type": "code",
   "execution_count": 46,
   "metadata": {},
   "outputs": [
    {
     "name": "stdout",
     "output_type": "stream",
     "text": [
      "Python is a high-level, interpreted, general-purpose programming language Its design philosophy emphasizes code readability with the use of significant indentation Python is dynamically-typed and garbage-collected  It supports multiple programming paradigms, including structured, object-oriented and functional programming\n"
     ]
    }
   ],
   "source": [
    "data = data.replace('.', '')\n",
    "print(data)"
   ]
  },
  {
   "cell_type": "code",
   "execution_count": 47,
   "metadata": {},
   "outputs": [
    {
     "name": "stdout",
     "output_type": "stream",
     "text": [
      "Python is a high-level interpreted general-purpose programming language Its design philosophy emphasizes code readability with the use of significant indentation Python is dynamically-typed and garbage-collected  It supports multiple programming paradigms including structured object-oriented and functional programming\n"
     ]
    }
   ],
   "source": [
    "data = data.replace(',', '')\n",
    "print(data)"
   ]
  },
  {
   "cell_type": "code",
   "execution_count": 48,
   "metadata": {},
   "outputs": [
    {
     "name": "stdout",
     "output_type": "stream",
     "text": [
      "python is a high-level interpreted general-purpose programming language its design philosophy emphasizes code readability with the use of significant indentation python is dynamically-typed and garbage-collected  it supports multiple programming paradigms including structured object-oriented and functional programming\n"
     ]
    }
   ],
   "source": [
    "data = data.lower()\n",
    "print(data)"
   ]
  },
  {
   "cell_type": "code",
   "execution_count": 49,
   "metadata": {},
   "outputs": [
    {
     "name": "stdout",
     "output_type": "stream",
     "text": [
      "['python', 'is', 'a', 'high-level', 'interpreted', 'general-purpose', 'programming', 'language', 'its', 'design', 'philosophy', 'emphasizes', 'code', 'readability', 'with', 'the', 'use', 'of', 'significant', 'indentation', 'python', 'is', 'dynamically-typed', 'and', 'garbage-collected', 'it', 'supports', 'multiple', 'programming', 'paradigms', 'including', 'structured', 'object-oriented', 'and', 'functional', 'programming']\n",
      "36\n"
     ]
    }
   ],
   "source": [
    "data = data.split()\n",
    "print(data)\n",
    "print(len(data))"
   ]
  },
  {
   "cell_type": "code",
   "execution_count": 50,
   "metadata": {},
   "outputs": [
    {
     "name": "stdout",
     "output_type": "stream",
     "text": [
      "{'indentation', 'readability', 'is', 'with', 'programming', 'multiple', 'and', 'supports', 'dynamically-typed', 'paradigms', 'significant', 'its', 'high-level', 'philosophy', 'a', 'python', 'structured', 'functional', 'object-oriented', 'code', 'it', 'use', 'including', 'language', 'emphasizes', 'general-purpose', 'garbage-collected', 'interpreted', 'of', 'design', 'the'}\n",
      "31\n"
     ]
    }
   ],
   "source": [
    "data = set(data)\n",
    "print(data)\n",
    "print(len(data))"
   ]
  },
  {
   "cell_type": "code",
   "execution_count": 51,
   "metadata": {},
   "outputs": [
    {
     "name": "stdout",
     "output_type": "stream",
     "text": [
      "0 indentation\n",
      "1 readability\n",
      "2 is\n",
      "3 with\n",
      "4 programming\n",
      "5 multiple\n",
      "6 and\n",
      "7 supports\n",
      "8 dynamically-typed\n",
      "9 paradigms\n",
      "10 significant\n",
      "11 its\n",
      "12 high-level\n",
      "13 philosophy\n",
      "14 a\n",
      "15 python\n",
      "16 structured\n",
      "17 functional\n",
      "18 object-oriented\n",
      "19 code\n",
      "20 it\n",
      "21 use\n",
      "22 including\n",
      "23 language\n",
      "24 emphasizes\n",
      "25 general-purpose\n",
      "26 garbage-collected\n",
      "27 interpreted\n",
      "28 of\n",
      "29 design\n",
      "30 the\n"
     ]
    }
   ],
   "source": [
    "for index, value in enumerate(data):\n",
    "    print(index, value)"
   ]
  },
  {
   "cell_type": "code",
   "execution_count": 52,
   "metadata": {},
   "outputs": [],
   "source": [
    "dic_data = {value:index for index, value in enumerate(data)}"
   ]
  },
  {
   "cell_type": "code",
   "execution_count": 53,
   "metadata": {},
   "outputs": [
    {
     "name": "stdout",
     "output_type": "stream",
     "text": [
      "14\n"
     ]
    }
   ],
   "source": [
    "print(dic_data[\"a\"])"
   ]
  },
  {
   "cell_type": "markdown",
   "metadata": {},
   "source": [
    "### Dictionary"
   ]
  },
  {
   "cell_type": "code",
   "execution_count": 54,
   "metadata": {},
   "outputs": [
    {
     "name": "stdout",
     "output_type": "stream",
     "text": [
      "{('c', 3), ('a', 1), ('b', 2)}\n",
      "<class 'set'>\n"
     ]
    }
   ],
   "source": [
    "keys   = ['a', 'b', 'c']\n",
    "values = [1, 2, 3]\n",
    "\n",
    "a_dictionary = {(k,v) for (k,v) in zip(keys,values)}\n",
    "print(a_dictionary)\n",
    "print(type(a_dictionary))"
   ]
  },
  {
   "cell_type": "code",
   "execution_count": 55,
   "metadata": {},
   "outputs": [
    {
     "name": "stdout",
     "output_type": "stream",
     "text": [
      "{'learning_rate': 0.1, 'optimizer': 'Adam', 'metric': 'Accuracy'}\n",
      "<class 'dict'>\n"
     ]
    }
   ],
   "source": [
    "parameters = {'learning_rate': 0.1,\n",
    "              'optimizer': 'Adam',\n",
    "              'metric': 'Accuracy'}\n",
    "\n",
    "print(parameters)\n",
    "print(type(parameters))"
   ]
  },
  {
   "cell_type": "code",
   "execution_count": 56,
   "metadata": {},
   "outputs": [
    {
     "name": "stdout",
     "output_type": "stream",
     "text": [
      "dict_keys(['learning_rate', 'optimizer', 'metric'])\n",
      "learning_rate\n",
      "optimizer\n",
      "metric\n"
     ]
    }
   ],
   "source": [
    "parameters = {'learning_rate': 0.1,\n",
    "              'optimizer': 'Adam',\n",
    "              'metric': 'Accuracy'}\n",
    "\n",
    "keys   = parameters.keys()\n",
    "print(keys)\n",
    "\n",
    "for key in keys:\n",
    "    print(key)"
   ]
  },
  {
   "cell_type": "code",
   "execution_count": 57,
   "metadata": {},
   "outputs": [
    {
     "name": "stdout",
     "output_type": "stream",
     "text": [
      "learning_rate\n",
      "optimizer\n",
      "metric\n"
     ]
    }
   ],
   "source": [
    "keys = parameters.keys()\n",
    "for key in keys:\n",
    "    print(key)"
   ]
  },
  {
   "cell_type": "code",
   "execution_count": 58,
   "metadata": {},
   "outputs": [
    {
     "name": "stdout",
     "output_type": "stream",
     "text": [
      "0.1\n",
      "Adam\n",
      "Accuracy\n"
     ]
    }
   ],
   "source": [
    "values = parameters.values()\n",
    "for value in values:\n",
    "    print(value)"
   ]
  },
  {
   "cell_type": "code",
   "execution_count": 59,
   "metadata": {},
   "outputs": [
    {
     "name": "stdout",
     "output_type": "stream",
     "text": [
      "learning_rate 0.1\n",
      "optimizer Adam\n",
      "metric Accuracy\n"
     ]
    }
   ],
   "source": [
    "parameters = {'learning_rate': 0.1,\n",
    "              'optimizer': 'Adam',\n",
    "              'metric': 'Accuracy'}\n",
    "\n",
    "items = parameters.items()\n",
    "for key, value in items:\n",
    "    print(key, value)"
   ]
  },
  {
   "cell_type": "code",
   "execution_count": 60,
   "metadata": {},
   "outputs": [
    {
     "name": "stdout",
     "output_type": "stream",
     "text": [
      "learning_rate\n",
      "optimizer\n",
      "metric\n"
     ]
    }
   ],
   "source": [
    "parameters = {'learning_rate': 0.1,\n",
    "              'optimizer': 'Adam',\n",
    "              'metric': 'Accuracy'}\n",
    "\n",
    "for key in parameters:\n",
    "    print(key)"
   ]
  },
  {
   "cell_type": "code",
   "execution_count": 61,
   "metadata": {},
   "outputs": [
    {
     "name": "stdout",
     "output_type": "stream",
     "text": [
      "0.1\n",
      "\n",
      "After using get() function\n",
      "{'learning_rate': 0.1, 'optimizer': 'Adam', 'metric': 'Accuracy'}\n"
     ]
    }
   ],
   "source": [
    "parameters = {'learning_rate': 0.1,\n",
    "              'optimizer': 'Adam',\n",
    "              'metric': 'Accuracy'}\n",
    "\n",
    "value = parameters.get('learning_rate')\n",
    "print(value)\n",
    "\n",
    "print('\\nAfter using get() function')\n",
    "print(parameters)"
   ]
  },
  {
   "cell_type": "code",
   "execution_count": 62,
   "metadata": {},
   "outputs": [
    {
     "name": "stdout",
     "output_type": "stream",
     "text": [
      "0.1\n",
      "\n",
      "After using pop() function\n",
      "{'optimizer': 'Adam', 'metric': 'Accuracy'}\n"
     ]
    }
   ],
   "source": [
    "parameters = {'learning_rate': 0.1,\n",
    "              'optimizer': 'Adam',\n",
    "              'metric': 'Accuracy'}\n",
    "\n",
    "value = parameters.pop('learning_rate')\n",
    "print(value)\n",
    "\n",
    "print('\\nAfter using pop() function')\n",
    "print(parameters)"
   ]
  },
  {
   "cell_type": "code",
   "execution_count": 63,
   "metadata": {},
   "outputs": [
    {
     "name": "stdout",
     "output_type": "stream",
     "text": [
      "None\n"
     ]
    }
   ],
   "source": [
    "parameters = {'learning_rate': 0.1,\n",
    "              'optimizer': 'Adam',\n",
    "              'metric': 'Accuracy'}\n",
    "\n",
    "value = parameters.get('algorithm')\n",
    "print(value)"
   ]
  },
  {
   "cell_type": "code",
   "execution_count": 64,
   "metadata": {},
   "outputs": [
    {
     "ename": "KeyError",
     "evalue": "'algorithm'",
     "output_type": "error",
     "traceback": [
      "\u001b[31m---------------------------------------------------------------------------\u001b[39m",
      "\u001b[31mKeyError\u001b[39m                                  Traceback (most recent call last)",
      "\u001b[36mCell\u001b[39m\u001b[36m \u001b[39m\u001b[32mIn[64]\u001b[39m\u001b[32m, line 5\u001b[39m\n\u001b[32m      1\u001b[39m parameters = {\u001b[33m'\u001b[39m\u001b[33mlearning_rate\u001b[39m\u001b[33m'\u001b[39m: \u001b[32m0.1\u001b[39m,\n\u001b[32m      2\u001b[39m               \u001b[33m'\u001b[39m\u001b[33moptimizer\u001b[39m\u001b[33m'\u001b[39m: \u001b[33m'\u001b[39m\u001b[33mAdam\u001b[39m\u001b[33m'\u001b[39m,\n\u001b[32m      3\u001b[39m               \u001b[33m'\u001b[39m\u001b[33mmetric\u001b[39m\u001b[33m'\u001b[39m: \u001b[33m'\u001b[39m\u001b[33mAccuracy\u001b[39m\u001b[33m'\u001b[39m}\n\u001b[32m----> \u001b[39m\u001b[32m5\u001b[39m value = parameters.pop(\u001b[33m'\u001b[39m\u001b[33malgorithm\u001b[39m\u001b[33m'\u001b[39m)\n",
      "\u001b[31mKeyError\u001b[39m: 'algorithm'"
     ]
    }
   ],
   "source": [
    "parameters = {'learning_rate': 0.1,\n",
    "              'optimizer': 'Adam',\n",
    "              'metric': 'Accuracy'}\n",
    "\n",
    "value = parameters.pop('algorithm')"
   ]
  },
  {
   "cell_type": "code",
   "execution_count": 65,
   "metadata": {},
   "outputs": [
    {
     "name": "stdout",
     "output_type": "stream",
     "text": [
      "('metric', 'Accuracy')\n",
      "{'learning_rate': 0.1, 'optimizer': 'Adam'}\n"
     ]
    }
   ],
   "source": [
    "parameters = {'learning_rate': 0.1,\n",
    "              'optimizer': 'Adam',\n",
    "              'metric': 'Accuracy'}\n",
    "\n",
    "item = parameters.popitem()\n",
    "\n",
    "print(item)\n",
    "print(parameters)"
   ]
  },
  {
   "cell_type": "code",
   "execution_count": 66,
   "metadata": {},
   "outputs": [
    {
     "name": "stdout",
     "output_type": "stream",
     "text": [
      "Before using clear() function\n",
      "{'learning_rate': 0.1, 'metric': 'Accuracy'}\n",
      "\n",
      "After using clear() function\n",
      "{}\n"
     ]
    }
   ],
   "source": [
    "parameters = {'learning_rate': 0.1,\n",
    "              'metric': 'Accuracy'}\n",
    "\n",
    "print('Before using clear() function')\n",
    "print(parameters)\n",
    "\n",
    "parameters.clear()\n",
    "\n",
    "print('\\nAfter using clear() function')\n",
    "print(parameters)"
   ]
  },
  {
   "cell_type": "code",
   "execution_count": 67,
   "metadata": {},
   "outputs": [
    {
     "ename": "KeyError",
     "evalue": "'algorithm'",
     "output_type": "error",
     "traceback": [
      "\u001b[31m---------------------------------------------------------------------------\u001b[39m",
      "\u001b[31mKeyError\u001b[39m                                  Traceback (most recent call last)",
      "\u001b[36mCell\u001b[39m\u001b[36m \u001b[39m\u001b[32mIn[67]\u001b[39m\u001b[32m, line 4\u001b[39m\n\u001b[32m      1\u001b[39m parameters = {\u001b[33m'\u001b[39m\u001b[33mlearning_rate\u001b[39m\u001b[33m'\u001b[39m: \u001b[32m0.1\u001b[39m,\n\u001b[32m      2\u001b[39m               \u001b[33m'\u001b[39m\u001b[33mmetric\u001b[39m\u001b[33m'\u001b[39m: \u001b[33m'\u001b[39m\u001b[33mAccuracy\u001b[39m\u001b[33m'\u001b[39m}\n\u001b[32m----> \u001b[39m\u001b[32m4\u001b[39m \u001b[38;5;28;01mdel\u001b[39;00m parameters[\u001b[33m'\u001b[39m\u001b[33malgorithm\u001b[39m\u001b[33m'\u001b[39m]\n",
      "\u001b[31mKeyError\u001b[39m: 'algorithm'"
     ]
    }
   ],
   "source": [
    "parameters = {'learning_rate': 0.1,\n",
    "              'metric': 'Accuracy'}\n",
    "\n",
    "del parameters['algorithm']"
   ]
  },
  {
   "cell_type": "code",
   "execution_count": 68,
   "metadata": {},
   "outputs": [
    {
     "name": "stdout",
     "output_type": "stream",
     "text": [
      "{'learning_rate': 0.1, 'metric': 'Accuracy'}\n",
      "{'learning_rate': 0.2, 'metric': 'Accuracy'}\n"
     ]
    }
   ],
   "source": [
    "parameters = {'learning_rate': 0.1,\n",
    "              'metric': 'Accuracy'}\n",
    "\n",
    "a_copy = parameters.copy()\n",
    "a_copy['learning_rate'] = 0.2\n",
    "\n",
    "print(parameters)\n",
    "print(a_copy)"
   ]
  },
  {
   "cell_type": "code",
   "execution_count": 69,
   "metadata": {},
   "outputs": [
    {
     "name": "stdout",
     "output_type": "stream",
     "text": [
      "{'learning_rate': 0.2, 'metric': 'Accuracy'}\n"
     ]
    }
   ],
   "source": [
    "parameters = {'learning_rate': 0.1,\n",
    "              'metric': 'Accuracy'}\n",
    "\n",
    "parameters['learning_rate'] = 0.2\n",
    "print(parameters)"
   ]
  },
  {
   "cell_type": "code",
   "execution_count": 71,
   "metadata": {},
   "outputs": [
    {
     "name": "stdout",
     "output_type": "stream",
     "text": [
      "learning_rate 0.2\n",
      "metric Accuracy\n"
     ]
    }
   ],
   "source": [
    "for key in parameters:\n",
    "    print(key, parameters.get(key))"
   ]
  },
  {
   "cell_type": "code",
   "execution_count": 72,
   "metadata": {},
   "outputs": [
    {
     "name": "stdout",
     "output_type": "stream",
     "text": [
      "dict_keys(['first', 'second'])\n",
      "dict_values(['string value', [1, 2]])\n"
     ]
    }
   ],
   "source": [
    "d = {'first':'string value', 'second':[1,2]}\n",
    "keys = d.keys()\n",
    "values = d.values()\n",
    "\n",
    "print(keys)\n",
    "print(values)"
   ]
  },
  {
   "cell_type": "code",
   "execution_count": 73,
   "metadata": {},
   "outputs": [
    {
     "data": {
      "text/plain": [
       "dict_values(['string value', [1, 2]])"
      ]
     },
     "execution_count": 73,
     "metadata": {},
     "output_type": "execute_result"
    }
   ],
   "source": [
    "d = {'first':'string value', 'second':[1,2]}\n",
    "d.values()"
   ]
  },
  {
   "cell_type": "code",
   "execution_count": 74,
   "metadata": {},
   "outputs": [
    {
     "name": "stdout",
     "output_type": "stream",
     "text": [
      "string value\n",
      "[1, 2]\n"
     ]
    }
   ],
   "source": [
    "d = {'first':'string value', 'second':[1,2]}\n",
    "print(d['first'])\n",
    "print(d['second'])"
   ]
  },
  {
   "cell_type": "markdown",
   "metadata": {},
   "source": [
    "Ngoài các phương thức key và value, còn có phương thức trả về danh sách các mục có dạng (key, value). \n",
    "Những phương thức khác không return theo bất kỳ thứ tự cụ thể nào:"
   ]
  },
  {
   "cell_type": "code",
   "execution_count": 75,
   "metadata": {},
   "outputs": [
    {
     "name": "stdout",
     "output_type": "stream",
     "text": [
      "items: dict_items([('first', 'string value'), ('second', [1, 2])])\n",
      "first string value\n",
      "second [1, 2]\n"
     ]
    }
   ],
   "source": [
    "d = {'first':'string value', 'second':[1,2]}\n",
    "items = d.items()\n",
    "\n",
    "print('items:', items)\n",
    "for k,v in items:\n",
    "    print(k, v)"
   ]
  },
  {
   "cell_type": "code",
   "execution_count": 76,
   "metadata": {},
   "outputs": [
    {
     "ename": "AttributeError",
     "evalue": "'dict' object has no attribute '_contain_'",
     "output_type": "error",
     "traceback": [
      "\u001b[31m---------------------------------------------------------------------------\u001b[39m",
      "\u001b[31mAttributeError\u001b[39m                            Traceback (most recent call last)",
      "\u001b[36mCell\u001b[39m\u001b[36m \u001b[39m\u001b[32mIn[76]\u001b[39m\u001b[32m, line 2\u001b[39m\n\u001b[32m      1\u001b[39m d = {\u001b[33m'\u001b[39m\u001b[33mfirst\u001b[39m\u001b[33m'\u001b[39m:\u001b[33m'\u001b[39m\u001b[33mstring value\u001b[39m\u001b[33m'\u001b[39m, \u001b[33m'\u001b[39m\u001b[33msecond\u001b[39m\u001b[33m'\u001b[39m:[\u001b[32m1\u001b[39m,\u001b[32m2\u001b[39m]}\n\u001b[32m----> \u001b[39m\u001b[32m2\u001b[39m d._contain_(\u001b[33m'\u001b[39m\u001b[33mfirst\u001b[39m\u001b[33m'\u001b[39m)\n",
      "\u001b[31mAttributeError\u001b[39m: 'dict' object has no attribute '_contain_'"
     ]
    }
   ],
   "source": [
    "d = {'first':'string value', 'second':[1,2]}\n",
    "d._contain_('first')"
   ]
  },
  {
   "cell_type": "markdown",
   "metadata": {},
   "source": [
    "Phương thức iteritems hoạt động theo cách tương tự, nhưng trả về một trình vòng lặp thay vì danh sách.\n",
    "Để hiểu thêm các bạn xem phần ví dụ:\n",
    "\n",
    "Bạn có thể kiểm tra sự tồn tại của một khóa cụ thể bằng has_key:"
   ]
  },
  {
   "cell_type": "markdown",
   "metadata": {},
   "source": [
    "Biểu thức d.has_key (k) tương đương với k trong d. Để nhận được giá trị tương ứng với một khóa cụ thể, hãy sử dụng get hoặc pop:"
   ]
  },
  {
   "cell_type": "code",
   "execution_count": 77,
   "metadata": {},
   "outputs": [
    {
     "name": "stdout",
     "output_type": "stream",
     "text": [
      "string value\n",
      "{'first': 'string value', 'second': [1, 2]}\n"
     ]
    }
   ],
   "source": [
    "d = {'first':'string value', 'second':[1,2]}\n",
    "value = d.get('first')\n",
    "\n",
    "print(value)\n",
    "print(d)"
   ]
  },
  {
   "cell_type": "code",
   "execution_count": 78,
   "metadata": {},
   "outputs": [
    {
     "name": "stdout",
     "output_type": "stream",
     "text": [
      "string value\n",
      "{'second': [1, 2]}\n"
     ]
    }
   ],
   "source": [
    "d = {'first':'string value', 'second':[1,2]}\n",
    "value = d.pop('first')\n",
    "\n",
    "print(value)\n",
    "print(d)"
   ]
  },
  {
   "cell_type": "code",
   "execution_count": 79,
   "metadata": {},
   "outputs": [
    {
     "name": "stdout",
     "output_type": "stream",
     "text": [
      "{'second': [1, 2]}\n"
     ]
    }
   ],
   "source": [
    "print(d)"
   ]
  },
  {
   "cell_type": "code",
   "execution_count": 81,
   "metadata": {},
   "outputs": [
    {
     "name": "stdout",
     "output_type": "stream",
     "text": [
      "('4', 'value4')\n",
      "{'1': 'value1', '2': 'value2', '3': 'value3'}\n"
     ]
    }
   ],
   "source": [
    "d = {'1':'value1', '2':'value2', '3':'value3', '4':'value4'}\n",
    "item = d.popitem()\n",
    "\n",
    "print(item)\n",
    "print(d)"
   ]
  },
  {
   "cell_type": "code",
   "execution_count": 83,
   "metadata": {},
   "outputs": [
    {
     "data": {
      "text/plain": [
       "[1, 2, 3, 4]"
      ]
     },
     "execution_count": 83,
     "metadata": {},
     "output_type": "execute_result"
    }
   ],
   "source": [
    "d1 = {'a': [1,2]}\n",
    "d2 = d1\n",
    "d2['a'] = [1,2,3,4]\n",
    "d1['a']"
   ]
  },
  {
   "cell_type": "code",
   "execution_count": 84,
   "metadata": {},
   "outputs": [
    {
     "name": "stdout",
     "output_type": "stream",
     "text": [
      "d1: {'a': [1, 2]}\n",
      "d2: {'a': [1, 2]}\n"
     ]
    }
   ],
   "source": [
    "d1 = {'a': [1,2]}\n",
    "d2 = d1.copy()\n",
    "\n",
    "print('d1:', d1)\n",
    "print('d2:', d2)"
   ]
  },
  {
   "cell_type": "code",
   "execution_count": 85,
   "metadata": {},
   "outputs": [
    {
     "name": "stdout",
     "output_type": "stream",
     "text": [
      "d1: {'a': [3, 4], 'b': 5}\n",
      "d2: {'a': [3, 4], 'b': 5}\n"
     ]
    }
   ],
   "source": [
    "d1 = {'a': [1,2], 'b': 5}\n",
    "d2 = d1.copy()\n",
    "\n",
    "# thay đổi giá trị d2 sẽ ảnh hưởng đến d1\n",
    "d2['a'][0] = 3\n",
    "d2['a'][1] = 4\n",
    "\n",
    "print('d1:', d1)\n",
    "print('d2:', d2)"
   ]
  },
  {
   "cell_type": "code",
   "execution_count": null,
   "metadata": {},
   "outputs": [
    {
     "name": "stdout",
     "output_type": "stream",
     "text": [
      "d1: {'a': [1, 2], 'b': 5}\n",
      "d2: {'a': [3, 4], 'b': 5}\n"
     ]
    }
   ],
   "source": [
    "import copy\n",
    "\n",
    "d1 = {'a': [1,2], 'b': 5}\n",
    "d2 = copy.deepcopy(d1)\n",
    "\n",
    "# thay đổi giá trị d2\n",
    "d2['a'][0] = 3\n",
    "d2['a'][1] = 4\n",
    "\n",
    "print('d1:', d1)\n",
    "print('d2:', d2)"
   ]
  },
  {
   "cell_type": "code",
   "execution_count": 87,
   "metadata": {},
   "outputs": [
    {
     "name": "stdout",
     "output_type": "stream",
     "text": [
      "{'a': [1, 2], 'b': 5}\n",
      "{}\n"
     ]
    }
   ],
   "source": [
    "d = {'a': [1,2], 'b': 5}\n",
    "print(d)\n",
    "\n",
    "d.clear()\n",
    "print(d)"
   ]
  },
  {
   "cell_type": "code",
   "execution_count": 88,
   "metadata": {},
   "outputs": [
    {
     "name": "stdout",
     "output_type": "stream",
     "text": [
      "{'a': [1, 2], 'b': 5}\n",
      "{'b': 5}\n"
     ]
    }
   ],
   "source": [
    "d = {'a': [1,2], 'b': 5}\n",
    "print(d)\n",
    "\n",
    "del d['a']\n",
    "print(d)"
   ]
  },
  {
   "cell_type": "code",
   "execution_count": 89,
   "metadata": {},
   "outputs": [
    {
     "name": "stdout",
     "output_type": "stream",
     "text": [
      "{'a': [1, 2], 'b': 5}\n"
     ]
    },
    {
     "ename": "NameError",
     "evalue": "name 'd' is not defined",
     "output_type": "error",
     "traceback": [
      "\u001b[31m---------------------------------------------------------------------------\u001b[39m",
      "\u001b[31mNameError\u001b[39m                                 Traceback (most recent call last)",
      "\u001b[36mCell\u001b[39m\u001b[36m \u001b[39m\u001b[32mIn[89]\u001b[39m\u001b[32m, line 5\u001b[39m\n\u001b[32m      2\u001b[39m \u001b[38;5;28mprint\u001b[39m(d)\n\u001b[32m      4\u001b[39m \u001b[38;5;28;01mdel\u001b[39;00m d\n\u001b[32m----> \u001b[39m\u001b[32m5\u001b[39m \u001b[38;5;28mprint\u001b[39m(d)\n",
      "\u001b[31mNameError\u001b[39m: name 'd' is not defined"
     ]
    }
   ],
   "source": [
    "d = {'a': [1,2], 'b': 5}\n",
    "print(d)\n",
    "\n",
    "del d\n",
    "print(d)"
   ]
  },
  {
   "cell_type": "code",
   "execution_count": 90,
   "metadata": {},
   "outputs": [
    {
     "name": "stdout",
     "output_type": "stream",
     "text": [
      "{'b': 2, 'c': 3}\n"
     ]
    }
   ],
   "source": [
    "d = {'a':1, 'b':2, 'c':3}\n",
    "del d['a']\n",
    "print(d)"
   ]
  },
  {
   "cell_type": "code",
   "execution_count": 93,
   "metadata": {},
   "outputs": [
    {
     "name": "stdout",
     "output_type": "stream",
     "text": [
      "{}\n"
     ]
    }
   ],
   "source": [
    "d = {'a':1, 'b':2, 'c':3}\n",
    "d.clear()\n",
    "print(d)"
   ]
  },
  {
   "cell_type": "code",
   "execution_count": 91,
   "metadata": {},
   "outputs": [
    {
     "name": "stdout",
     "output_type": "stream",
     "text": [
      "{'a': [1, 2], 'third': ''}\n"
     ]
    }
   ],
   "source": [
    "d1 = {'a': [1,2]}\n",
    "d2 = d1.copy()\n",
    "d2.setdefault('third', '')\n",
    "d2['third']\n",
    "print(d2)"
   ]
  },
  {
   "cell_type": "code",
   "execution_count": null,
   "metadata": {},
   "outputs": [],
   "source": [
    "d = {'a':1, 'b':2, 'c':3}\n",
    "\n",
    "d2.setdefault('third', '')"
   ]
  },
  {
   "cell_type": "code",
   "execution_count": 94,
   "metadata": {},
   "outputs": [
    {
     "data": {
      "text/plain": [
       "{'first': None, 'second': None}"
      ]
     },
     "execution_count": 94,
     "metadata": {},
     "output_type": "execute_result"
    }
   ],
   "source": [
    "d1 = {'a': [1,2]}\n",
    "d2 = d1.copy()\n",
    "d2.fromkeys(['first', 'second'])"
   ]
  },
  {
   "cell_type": "code",
   "execution_count": 95,
   "metadata": {},
   "outputs": [
    {
     "data": {
      "text/plain": [
       "{'first': None, 'second': None}"
      ]
     },
     "execution_count": 95,
     "metadata": {},
     "output_type": "execute_result"
    }
   ],
   "source": [
    "{}.fromkeys(['first', 'second'])"
   ]
  },
  {
   "cell_type": "markdown",
   "metadata": {},
   "source": [
    "Combining dictionaries"
   ]
  },
  {
   "cell_type": "code",
   "execution_count": 96,
   "metadata": {},
   "outputs": [
    {
     "data": {
      "text/plain": [
       "2"
      ]
     },
     "execution_count": 96,
     "metadata": {},
     "output_type": "execute_result"
    }
   ],
   "source": [
    "\n",
    "d1 = {'a':1}\n",
    "d2 = {'a':2, 'b':2}\n",
    "d1.update(d2)\n",
    "d1['a']\n",
    "d2['b']"
   ]
  },
  {
   "cell_type": "code",
   "execution_count": 97,
   "metadata": {},
   "outputs": [
    {
     "name": "stdout",
     "output_type": "stream",
     "text": [
      "d1: {'a': 1}\n",
      "d2: {'b': 2, 'c': 3}\n",
      "d1 sau khi update: {'a': 1, 'b': 2, 'c': 3}\n"
     ]
    }
   ],
   "source": [
    "d1 = {'a':1}\n",
    "d2 = {'b':2, 'c':3}\n",
    "\n",
    "print('d1:', d1)\n",
    "print('d2:', d2)\n",
    "\n",
    "d1.update(d2)\n",
    "print('d1 sau khi update:', d1)"
   ]
  },
  {
   "cell_type": "code",
   "execution_count": null,
   "metadata": {},
   "outputs": [
    {
     "data": {
      "text/plain": [
       "[('a', 1), ('b', 2)]"
      ]
     },
     "execution_count": 101,
     "metadata": {},
     "output_type": "execute_result"
    }
   ],
   "source": [
    "t = {'a': 1, 'b': 2}\n",
    "# [x for x in t.itervalues()]\n",
    "# [x for x in t.iterkeys()]\n",
    "# [x for x in t.iteritems()]\n",
    "# https://stackoverflow.com/questions/30418481/error-dict-object-has-no-attribute-iteritems\n",
    "[x for x in t.values()]\n",
    "[x for x in t.keys()]\n",
    "[x for x in t.items()]\n"
   ]
  },
  {
   "cell_type": "code",
   "execution_count": 102,
   "metadata": {},
   "outputs": [
    {
     "name": "stdout",
     "output_type": "stream",
     "text": [
      "{('a', 1), ('c', 3), ('d', 4), ('e', 5), ('b', 2)}\n"
     ]
    }
   ],
   "source": [
    "l_keys   = ['a', 'b', 'c', 'd', 'e']\n",
    "l_values = [1, 2, 3, 4, 5]\n",
    "\n",
    "d = {(k,v) for (k,v) in zip(l_keys,l_values)}\n",
    "print(d)"
   ]
  },
  {
   "cell_type": "code",
   "execution_count": 103,
   "metadata": {},
   "outputs": [
    {
     "name": "stdout",
     "output_type": "stream",
     "text": [
      "{'0': 0, '1': 1, '2': 2, '3': 3, '4': 4}\n"
     ]
    }
   ],
   "source": [
    "# dic comprehension\n",
    "\n",
    "aDict = {str(i):i for i in range(5)}\n",
    "print(aDict)"
   ]
  },
  {
   "cell_type": "code",
   "execution_count": 104,
   "metadata": {},
   "outputs": [
    {
     "name": "stdout",
     "output_type": "stream",
     "text": [
      "<class 'dict'>\n",
      "{1: 4, 2: 5, 3: 6}\n"
     ]
    }
   ],
   "source": [
    "# from zip\n",
    "\n",
    "tuple1 = (1, 2, 3)\n",
    "tuple2 = (4, 5, 6)\n",
    "\n",
    "a_dict = dict(zip(tuple1, tuple2))\n",
    "print(type(a_dict))\n",
    "print(a_dict)"
   ]
  },
  {
   "cell_type": "code",
   "execution_count": 105,
   "metadata": {},
   "outputs": [
    {
     "name": "stdout",
     "output_type": "stream",
     "text": [
      "<class 'dict'>\n",
      "{1: 4, 2: 5, 3: 6}\n"
     ]
    }
   ],
   "source": [
    "# from zip\n",
    "\n",
    "set1 = {1, 2, 3}\n",
    "set2 = {4, 5, 6}\n",
    "\n",
    "a_dict = dict(zip(set1, set2))\n",
    "print(type(a_dict))\n",
    "print(a_dict)"
   ]
  },
  {
   "cell_type": "code",
   "execution_count": 106,
   "metadata": {},
   "outputs": [
    {
     "name": "stdout",
     "output_type": "stream",
     "text": [
      "<class 'dict'>\n",
      "{1: 4, 2: 5, 3: 6}\n"
     ]
    }
   ],
   "source": [
    "# from zip\n",
    "\n",
    "list1 = [1, 2, 3]\n",
    "list2 = [4, 5, 6]\n",
    "\n",
    "a_dict = dict(zip(list1, list2))\n",
    "print(type(a_dict))\n",
    "print(a_dict)"
   ]
  },
  {
   "cell_type": "code",
   "execution_count": 107,
   "metadata": {},
   "outputs": [
    {
     "name": "stdout",
     "output_type": "stream",
     "text": [
      "{'banana': 2, 'apple': 0}\n"
     ]
    }
   ],
   "source": [
    "# setdefault()\n",
    "\n",
    "fruits = {'banana': 2}\n",
    "fruits.setdefault('apple', 0)\n",
    "\n",
    "print(fruits)"
   ]
  },
  {
   "cell_type": "code",
   "execution_count": 108,
   "metadata": {},
   "outputs": [
    {
     "name": "stdout",
     "output_type": "stream",
     "text": [
      "{'banana': 2, 'apple': 4}\n"
     ]
    }
   ],
   "source": [
    "# setdefault()\n",
    "\n",
    "fruits = {'banana': 2, 'apple': 4}\n",
    "fruits.setdefault('apple', 0)\n",
    "\n",
    "print(fruits)"
   ]
  },
  {
   "cell_type": "code",
   "execution_count": 109,
   "metadata": {},
   "outputs": [
    {
     "name": "stdout",
     "output_type": "stream",
     "text": [
      "{'banana': 2, 'apple': 10}\n"
     ]
    }
   ],
   "source": [
    "# setdefault()\n",
    "\n",
    "fruits = {'banana': 2}\n",
    "fruits.setdefault('apple', 0)\n",
    "\n",
    "fruits['apple'] += 10\n",
    "print(fruits)"
   ]
  },
  {
   "cell_type": "code",
   "execution_count": 110,
   "metadata": {},
   "outputs": [
    {
     "ename": "KeyError",
     "evalue": "'apple'",
     "output_type": "error",
     "traceback": [
      "\u001b[31m---------------------------------------------------------------------------\u001b[39m",
      "\u001b[31mKeyError\u001b[39m                                  Traceback (most recent call last)",
      "\u001b[36mCell\u001b[39m\u001b[36m \u001b[39m\u001b[32mIn[110]\u001b[39m\u001b[32m, line 5\u001b[39m\n\u001b[32m      1\u001b[39m \u001b[38;5;66;03m# setdefault()\u001b[39;00m\n\u001b[32m      3\u001b[39m fruits = {\u001b[33m'\u001b[39m\u001b[33mbanana\u001b[39m\u001b[33m'\u001b[39m: \u001b[32m2\u001b[39m}\n\u001b[32m----> \u001b[39m\u001b[32m5\u001b[39m fruits[\u001b[33m'\u001b[39m\u001b[33mapple\u001b[39m\u001b[33m'\u001b[39m] += \u001b[32m10\u001b[39m\n\u001b[32m      6\u001b[39m \u001b[38;5;28mprint\u001b[39m(fruits)\n",
      "\u001b[31mKeyError\u001b[39m: 'apple'"
     ]
    }
   ],
   "source": [
    "# setdefault()\n",
    "\n",
    "fruits = {'banana': 2}\n",
    "\n",
    "fruits['apple'] += 10\n",
    "print(fruits)"
   ]
  },
  {
   "cell_type": "code",
   "execution_count": 119,
   "metadata": {},
   "outputs": [
    {
     "data": {
      "text/plain": [
       "{'banana': 2, 'apple': 4, 'oat': 3, 'wheat': 1, 'corn': 6}"
      ]
     },
     "execution_count": 119,
     "metadata": {},
     "output_type": "execute_result"
    }
   ],
   "source": [
    "# merge two dicts\n",
    "cereal = {\"oat\":3, \"wheat\":1,\"corn\":6}\n",
    "fruits = {\"banana\": 2, 'apple': 4}\n",
    "result = {**fruits, **cereal}\n",
    "result\n",
    "# print(**result) # cannot print"
   ]
  },
  {
   "cell_type": "code",
   "execution_count": 120,
   "metadata": {},
   "outputs": [
    {
     "name": "stdout",
     "output_type": "stream",
     "text": [
      "{'banana': 2, 'apple': 4, 'rice': 3, 'corn': 7}\n"
     ]
    }
   ],
   "source": [
    "# merge two dicts\n",
    "\n",
    "fruits = {'banana': 2, 'apple': 4}\n",
    "cereal = {'rice': 3, 'corn': 7}\n",
    "\n",
    "result = {**fruits, **cereal}\n",
    "print(result)"
   ]
  },
  {
   "cell_type": "code",
   "execution_count": 121,
   "metadata": {},
   "outputs": [
    {
     "name": "stdout",
     "output_type": "stream",
     "text": [
      "True\n",
      "False\n"
     ]
    }
   ],
   "source": [
    "# check if a key exists\n",
    "\n",
    "fruits = {'banana': 2, 'apple': 4}\n",
    "\n",
    "print('apple' in fruits)\n",
    "print('corn' in fruits)"
   ]
  },
  {
   "cell_type": "code",
   "execution_count": null,
   "metadata": {},
   "outputs": [
    {
     "name": "stdout",
     "output_type": "stream",
     "text": [
      "{'banana': 2}\n"
     ]
    }
   ],
   "source": [
    "# remove empty items\n",
    "\n",
    "fruits = {'banana': 2, 'apple': None}\n",
    "\n",
    "dict1 = {key:value for (key, value)\n",
    "                     in fruits.items()\n",
    "                     if value is not None}\n",
    "print(dict1)"
   ]
  },
  {
   "cell_type": "code",
   "execution_count": 123,
   "metadata": {},
   "outputs": [
    {
     "name": "stdout",
     "output_type": "stream",
     "text": [
      "4\n",
      "None\n"
     ]
    }
   ],
   "source": [
    "# access value via key\n",
    "\n",
    "fruits = {'banana': 2, 'apple': 4}\n",
    "print(fruits.get('apple'))\n",
    "print(fruits.get('corn'))"
   ]
  },
  {
   "cell_type": "code",
   "execution_count": 124,
   "metadata": {},
   "outputs": [
    {
     "name": "stdout",
     "output_type": "stream",
     "text": [
      "4\n"
     ]
    },
    {
     "ename": "KeyError",
     "evalue": "'corn'",
     "output_type": "error",
     "traceback": [
      "\u001b[31m---------------------------------------------------------------------------\u001b[39m",
      "\u001b[31mKeyError\u001b[39m                                  Traceback (most recent call last)",
      "\u001b[36mCell\u001b[39m\u001b[36m \u001b[39m\u001b[32mIn[124]\u001b[39m\u001b[32m, line 5\u001b[39m\n\u001b[32m      3\u001b[39m fruits = {\u001b[33m'\u001b[39m\u001b[33mbanana\u001b[39m\u001b[33m'\u001b[39m: \u001b[32m2\u001b[39m, \u001b[33m'\u001b[39m\u001b[33mapple\u001b[39m\u001b[33m'\u001b[39m: \u001b[32m4\u001b[39m}\n\u001b[32m      4\u001b[39m \u001b[38;5;28mprint\u001b[39m(fruits[\u001b[33m'\u001b[39m\u001b[33mapple\u001b[39m\u001b[33m'\u001b[39m])\n\u001b[32m----> \u001b[39m\u001b[32m5\u001b[39m \u001b[38;5;28mprint\u001b[39m(fruits[\u001b[33m'\u001b[39m\u001b[33mcorn\u001b[39m\u001b[33m'\u001b[39m])\n",
      "\u001b[31mKeyError\u001b[39m: 'corn'"
     ]
    }
   ],
   "source": [
    "# access value via key\n",
    "\n",
    "fruits = {'banana': 2, 'apple': 4}\n",
    "print(fruits['apple'])\n",
    "print(fruits['corn'])"
   ]
  },
  {
   "cell_type": "markdown",
   "metadata": {},
   "source": [
    "Dictionary and File"
   ]
  },
  {
   "cell_type": "code",
   "execution_count": 125,
   "metadata": {},
   "outputs": [],
   "source": [
    "import json\n",
    "\n",
    "parameters = {'learning_rate': 0.1,\n",
    "              'optimizer': 'Adam',\n",
    "              'metric': 'Accuracy'}\n",
    "\n",
    "with open('data.json', 'w') as fp:\n",
    "    json.dump(parameters, fp)"
   ]
  },
  {
   "cell_type": "code",
   "execution_count": 126,
   "metadata": {},
   "outputs": [
    {
     "name": "stdout",
     "output_type": "stream",
     "text": [
      "{'learning_rate': 0.1, 'optimizer': 'Adam', 'metric': 'Accuracy'}\n"
     ]
    }
   ],
   "source": [
    "with open('data.json', 'r') as fp:\n",
    "    data = json.load(fp)\n",
    "    print(data)"
   ]
  },
  {
   "cell_type": "code",
   "execution_count": 127,
   "metadata": {},
   "outputs": [
    {
     "name": "stdout",
     "output_type": "stream",
     "text": [
      "0.1\n"
     ]
    }
   ],
   "source": [
    "print(data['learning_rate'])"
   ]
  },
  {
   "cell_type": "markdown",
   "metadata": {},
   "source": [
    "Iterables and Sorting"
   ]
  },
  {
   "cell_type": "code",
   "execution_count": 128,
   "metadata": {},
   "outputs": [
    {
     "name": "stdout",
     "output_type": "stream",
     "text": [
      "[1, 5, 3, 7, 4]\n",
      "[1, 3, 4, 5, 7]\n"
     ]
    }
   ],
   "source": [
    "# create a list\n",
    "aList = [1, 5, 3, 7, 4]\n",
    "print(aList)\n",
    "\n",
    "# sort\n",
    "sortedList = sorted(aList)\n",
    "print(sortedList)"
   ]
  },
  {
   "cell_type": "code",
   "execution_count": 129,
   "metadata": {},
   "outputs": [
    {
     "name": "stdout",
     "output_type": "stream",
     "text": [
      "[1, 5, 3, 7, 4]\n",
      "[1, 3, 4, 5, 7]\n"
     ]
    }
   ],
   "source": [
    "# create a list\n",
    "aList = [1, 5, 3, 7, 4]\n",
    "print(aList)\n",
    "\n",
    "# function for sorting\n",
    "def compare(item):\n",
    "    return item\n",
    "\n",
    "# sort\n",
    "sortedList = sorted(aList, key=compare)\n",
    "print(sortedList)"
   ]
  },
  {
   "cell_type": "code",
   "execution_count": 130,
   "metadata": {},
   "outputs": [
    {
     "name": "stdout",
     "output_type": "stream",
     "text": [
      "{1: 16, 5: 13, 3: 18, 7: 11, 4: 15}\n"
     ]
    }
   ],
   "source": [
    "# data\n",
    "list1 = [1, 5, 3, 7, 4]\n",
    "list2 = [16, 13, 18, 11, 15]\n",
    "\n",
    "# create a dictionary\n",
    "dictionary = dict(zip(list1, list2))\n",
    "print(dictionary)"
   ]
  },
  {
   "cell_type": "code",
   "execution_count": 131,
   "metadata": {},
   "outputs": [
    {
     "name": "stdout",
     "output_type": "stream",
     "text": [
      "[1, 3, 4, 5, 7]\n"
     ]
    }
   ],
   "source": [
    "sortedDict = sorted(dictionary)\n",
    "print(sortedDict)"
   ]
  },
  {
   "cell_type": "code",
   "execution_count": 132,
   "metadata": {},
   "outputs": [
    {
     "name": "stdout",
     "output_type": "stream",
     "text": [
      "[('a', 16), ('g', 13), ('e', 18), ('h', 11), ('b', 15)]\n"
     ]
    }
   ],
   "source": [
    "# data\n",
    "list1 = ['a', 'g', 'e', 'h', 'b']\n",
    "list2 = [16, 13, 18, 11, 15]\n",
    "\n",
    "# create a dictionary\n",
    "list3 = list(zip(list1, list2))\n",
    "print(list3)"
   ]
  },
  {
   "cell_type": "code",
   "execution_count": 133,
   "metadata": {},
   "outputs": [
    {
     "name": "stdout",
     "output_type": "stream",
     "text": [
      "[('a', 16), ('b', 15), ('e', 18), ('g', 13), ('h', 11)]\n"
     ]
    }
   ],
   "source": [
    "list4 = sorted(list3)\n",
    "print(list4)"
   ]
  },
  {
   "cell_type": "code",
   "execution_count": 134,
   "metadata": {},
   "outputs": [
    {
     "name": "stdout",
     "output_type": "stream",
     "text": [
      "[('a', 16), ('g', 13), ('e', 18), ('h', 11), ('b', 15)]\n"
     ]
    }
   ],
   "source": [
    "# data\n",
    "list1 = ['a', 'g', 'e', 'h', 'b']\n",
    "list2 = [16, 13, 18, 11, 15]\n",
    "\n",
    "# function for sorting\n",
    "def compare(item):\n",
    "    return item[0]\n",
    "\n",
    "# create a dictionary\n",
    "list3 = list(zip(list1, list2))\n",
    "print(list3)"
   ]
  },
  {
   "cell_type": "code",
   "execution_count": 135,
   "metadata": {},
   "outputs": [
    {
     "name": "stdout",
     "output_type": "stream",
     "text": [
      "[('a', 16), ('b', 15), ('e', 18), ('g', 13), ('h', 11)]\n"
     ]
    }
   ],
   "source": [
    "list4 = sorted(list3, key=compare)\n",
    "print(list4)"
   ]
  },
  {
   "cell_type": "code",
   "execution_count": 136,
   "metadata": {},
   "outputs": [
    {
     "name": "stdout",
     "output_type": "stream",
     "text": [
      "[('a', 16), ('g', 13), ('e', 18), ('h', 11), ('b', 15)]\n"
     ]
    }
   ],
   "source": [
    "# data\n",
    "list1 = ['a', 'g', 'e', 'h', 'b']\n",
    "list2 = [16, 13, 18, 11, 15]\n",
    "\n",
    "# function for sorting\n",
    "def compare(item):\n",
    "    return item[1]\n",
    "\n",
    "# create a dictionary\n",
    "list3 = list(zip(list1, list2))\n",
    "print(list3)"
   ]
  },
  {
   "cell_type": "code",
   "execution_count": 137,
   "metadata": {},
   "outputs": [
    {
     "name": "stdout",
     "output_type": "stream",
     "text": [
      "[('h', 11), ('g', 13), ('b', 15), ('a', 16), ('e', 18)]\n"
     ]
    }
   ],
   "source": [
    "list4 = sorted(list3, key=compare)\n",
    "print(list4)"
   ]
  },
  {
   "cell_type": "code",
   "execution_count": 138,
   "metadata": {},
   "outputs": [
    {
     "name": "stdout",
     "output_type": "stream",
     "text": [
      "[('a', 16), ('g', 13), ('e', 18), ('h', 11), ('b', 15)]\n"
     ]
    }
   ],
   "source": [
    "# data\n",
    "list1 = ['a', 'g', 'e', 'h', 'b']\n",
    "list2 = [16, 13, 18, 11, 15]\n",
    "\n",
    "# create a dictionary\n",
    "list3 = list(zip(list1, list2))\n",
    "print(list3)"
   ]
  },
  {
   "cell_type": "code",
   "execution_count": 139,
   "metadata": {},
   "outputs": [
    {
     "name": "stdout",
     "output_type": "stream",
     "text": [
      "[('h', 11), ('g', 13), ('b', 15), ('a', 16), ('e', 18)]\n"
     ]
    }
   ],
   "source": [
    "list4 = sorted(list3, key=lambda item: item[1])\n",
    "print(list4)"
   ]
  },
  {
   "cell_type": "markdown",
   "metadata": {},
   "source": [
    "## **Application**"
   ]
  },
  {
   "cell_type": "markdown",
   "metadata": {},
   "source": [
    "### "
   ]
  },
  {
   "cell_type": "markdown",
   "metadata": {},
   "source": [
    "### 3.1.IOU_Tuple"
   ]
  },
  {
   "cell_type": "code",
   "execution_count": null,
   "metadata": {},
   "outputs": [],
   "source": [
    "# from google.colab import drive\n",
    "# drive.mount('/content/drive')"
   ]
  },
  {
   "cell_type": "code",
   "execution_count": null,
   "metadata": {},
   "outputs": [],
   "source": [
    "def computeIoU(boxA, boxB):\n",
    "    # determine the (x, y) coordinates of the intersection rectangle\n",
    "    xA = max(boxA[0], boxB[0])\n",
    "    yA = max(boxA[1], boxB[1])\n",
    "    xB = min(boxA[2], boxB[2])\n",
    "    yB = min(boxA[3], boxB[3])\n",
    "\n",
    "    # compute the area of intersection rectangle\n",
    "    interArea = max(0, xB - xA + 1) * max(0, yB - yA + 1)\n",
    "\n",
    "    # compute the area of both the prediction and ground-truth\n",
    "    # rectangles\n",
    "    boxAArea = (boxA[2] - boxA[0] + 1) * (boxA[3] - boxA[1] + 1)\n",
    "    boxBArea = (boxB[2] - boxB[0] + 1) * (boxB[3] - boxB[1] + 1)\n",
    "\n",
    "    # compute the intersection over union by aking the intersection\n",
    "    # area and dividing it by the sum of prediction + ground-truth\n",
    "    # areas - the inersection area\n",
    "    iou = interArea / float(boxAArea + boxBArea - interArea)\n",
    "\n",
    "    # return the intersection over union value\n",
    "    return iou"
   ]
  },
  {
   "cell_type": "code",
   "execution_count": 142,
   "metadata": {},
   "outputs": [
    {
     "name": "stdout",
     "output_type": "stream",
     "text": [
      "0.20502092050209206\n"
     ]
    }
   ],
   "source": [
    "boxA = (0,0,5,5)\n",
    "boxB = (2.5, 2.5, 7.5, 7.5)\n",
    "error = computeIoU(boxA, boxB)\n",
    "print(error)"
   ]
  },
  {
   "cell_type": "markdown",
   "metadata": {},
   "source": [
    "### 3.2. Dictionary_ImageHistogram"
   ]
  },
  {
   "cell_type": "code",
   "execution_count": 149,
   "metadata": {},
   "outputs": [
    {
     "name": "stdout",
     "output_type": "stream",
     "text": [
      "(301, 480)\n"
     ]
    },
    {
     "data": {
      "image/png": "[encoded data removed]",
      "text/plain": [
       "<Figure size 640x480 with 1 Axes>"
      ]
     },
     "metadata": {},
     "output_type": "display_data"
    }
   ],
   "source": [
    "import cv2\n",
    "# from google.colab.patches import cv2_imshow\n",
    "import matplotlib.pyplot as plt\n",
    "import sys\n",
    "\n",
    "cat_image = cv2.imread(\"binary_cat.png\",0) # GRAY\n",
    "print(cat_image.shape)\n",
    "if cat_image is None:\n",
    "    sys.exit(\"Image not exist or wrong path!\")\n",
    "\n",
    "imgrgb = cv2.cvtColor(cat_image, cv2.COLOR_BGR2RGB)\n",
    "plt.imshow(imgrgb)\n",
    "plt.axis(\"off\")\n",
    "plt.show()"
   ]
  },
  {
   "cell_type": "code",
   "execution_count": 150,
   "metadata": {},
   "outputs": [
    {
     "name": "stdout",
     "output_type": "stream",
     "text": [
      "Counts {np.uint8(255): 54497, np.uint8(0): 89983}\n"
     ]
    }
   ],
   "source": [
    "counts = dict()\n",
    "height, width = cat_image.shape\n",
    "for row in range(height):\n",
    "    for col in range(width):\n",
    "        counts[cat_image[row, col]] = counts.get(cat_image[row, col],0) + 1\n",
    "\n",
    "print('Counts', counts)"
   ]
  },
  {
   "cell_type": "code",
   "execution_count": 151,
   "metadata": {},
   "outputs": [
    {
     "data": {
      "image/png": "[encoded data removed]",
      "text/plain": [
       "<Figure size 640x480 with 1 Axes>"
      ]
     },
     "metadata": {},
     "output_type": "display_data"
    }
   ],
   "source": [
    "import matplotlib.pyplot as plt\n",
    "\n",
    "names = list(counts.keys())\n",
    "values = list(counts.values())\n",
    "\n",
    "plt.bar(range(len(counts)), values, tick_label=names)\n",
    "plt.show()"
   ]
  },
  {
   "cell_type": "markdown",
   "metadata": {},
   "source": [
    "### 4.1 NMS_List_Tuple"
   ]
  },
  {
   "cell_type": "code",
   "execution_count": 5,
   "metadata": {},
   "outputs": [],
   "source": [
    "import numpy as np"
   ]
  },
  {
   "cell_type": "code",
   "execution_count": 6,
   "metadata": {},
   "outputs": [],
   "source": [
    "def non_max_suppression(boxes, overLapThresh):\n",
    "    # if there are no boxes, return the empty list\n",
    "    if len(boxes) == 0:\n",
    "        return []\n",
    "\n",
    "    # Initialize the list of picked indexes\n",
    "    pick = []\n",
    "\n",
    "    # Grab the coordinates of the bounding boxes\n",
    "    x1 = boxes[:, 0]\n",
    "    y1 = boxes[:, 1]\n",
    "    x2 = boxes[:, 2]\n",
    "    y2 = boxes[:, 3]\n",
    "    c = boxes[:, 4]\n",
    "\n",
    "    # Compute the area of the bounding boxes and sort the bounding boxes\n",
    "    #  by the bottom right y coordinate of the bounding boxes\n",
    "    area = (x2 - x1 + 1) * (y2 - y1 + 1)\n",
    "    idxs = np.argsort(c)\n",
    "\n",
    "    # Keep looping while some indexes still remain in the indexes list\n",
    "    while len(idxs) > 0:\n",
    "        # Grab the last index in the indexes list and add the index value\n",
    "        # to the list of picked indexes\n",
    "        last = len(idxs) - 1\n",
    "        i = idxs[last]\n",
    "        pick.append(i)\n",
    "\n",
    "        # Find the largest (x, y) coordinates for the start of\n",
    "        # the bounding boxes and the smallest (x, y) coordinates\n",
    "        # for the end of the bounding boxes\n",
    "\n",
    "        # The maximum is equivalent to np.where(x1 >= x2, x1, x2)\n",
    "        # when neither x1 nor x2 are nans,\n",
    "        # but it is faster and does proper broadcasting\n",
    "        xx1 = np.maximum(x1[i], x1[idxs[:last]])\n",
    "        yy1 = np.maximum(y1[i], y1[idxs[:last]])\n",
    "        xx2 = np.maximum(x2[i], x2[idxs[:last]])\n",
    "        yy2 = np.maximum(y2[i], y2[idxs[:last]])\n",
    "\n",
    "        # Compute the width and the height of the bounding boxes\n",
    "        w = np.maximum(0, xx2 - xx1 + 1)\n",
    "        h = np.maximum(0, yy2 - yy1 + 1)\n",
    "\n",
    "        #  Compute the ratio of overlap\n",
    "        overlap = (w * h) / area[idxs[:last]]\n",
    "\n",
    "        # Delete all indexes from the index list that have\n",
    "        idxs = np.delete(idxs, np. concatenate((\n",
    "            [last],\n",
    "            np.where(overlap > overLapThresh)[0]\n",
    "        )))\n",
    "        #  Return only the bounding boxes that were picked using\n",
    "        # the integer type\n",
    "        return boxes[pick].astype(\"int\")"
   ]
  },
  {
   "cell_type": "code",
   "execution_count": 17,
   "metadata": {},
   "outputs": [
    {
     "name": "stdout",
     "output_type": "stream",
     "text": [
      "24 108 152 236 0\n"
     ]
    },
    {
     "data": {
      "image/png": "[encoded data removed]",
      "text/plain": [
       "<Figure size 640x480 with 1 Axes>"
      ]
     },
     "metadata": {},
     "output_type": "display_data"
    }
   ],
   "source": [
    "#  import the necessary packages\n",
    "import numpy as np\n",
    "import cv2\n",
    "import sys\n",
    "# from google.colab.patches import cv2_imshow\n",
    "import matplotlib.pyplot as plt\n",
    "\n",
    "bounding_boxes = np.array(\n",
    "    [\n",
    "        (12, 84, 140, 212, 0.3),\n",
    "        (24, 84, 152, 212, 0.4),\n",
    "        (36, 84, 164, 212, 0.5),\n",
    "        (12, 96, 140, 224, 0.6),\n",
    "        (24, 96, 152, 224, 0.7),\n",
    "        (24, 108, 152, 236, 0.8)\n",
    "    ]\n",
    ")\n",
    "\n",
    "# Load the image and clone it\n",
    "image = cv2.imread(\"cat_nms.png\")\n",
    "if image is None:\n",
    "    sys.exit(\"Image not exist or wrong path. Please recheck!\")\n",
    "orig = image.copy()\n",
    "\n",
    "# Loop over the bounding boxes for each image and draw them\n",
    "for (start_x, start_y, end_x, end_y, confidence) in bounding_boxes:\n",
    "    cv2.rectangle(\n",
    "        orig, #\n",
    "        (int(start_x), int(start_y)), #\n",
    "        (int(end_x), int(end_y)), #\n",
    "        (0, 0, 255), #\n",
    "        2 #\n",
    "    )\n",
    "\n",
    "# Perform non-maximum suppression on the bounding boxes\n",
    "pick = non_max_suppression(bounding_boxes, overLapThresh=0.3)\n",
    "\n",
    "# Loop over the picked bounding boxes and draw them\n",
    "for (start_x, start_y, end_x, end_y, confidence) in pick:\n",
    "    print(start_x, start_y, end_x, end_y, confidence)\n",
    "    cv2.rectangle(\n",
    "        image,\n",
    "        (start_x, start_y),\n",
    "        (end_x, end_y),\n",
    "        (0, 0, 255),\n",
    "        2\n",
    "    )\n",
    "\n",
    "# Display the image\n",
    "# cv2_imshow(orig)\n",
    "# cv2_imshow(image)\n",
    "plt.imshow(orig)\n",
    "plt.axis(\"off\")\n",
    "plt.show()\n"
   ]
  },
  {
   "cell_type": "code",
   "execution_count": 19,
   "metadata": {},
   "outputs": [
    {
     "data": {
      "image/png": "[encoded data removed]",
      "text/plain": [
       "<Figure size 640x480 with 1 Axes>"
      ]
     },
     "metadata": {},
     "output_type": "display_data"
    }
   ],
   "source": [
    "plt.imshow(image)\n",
    "plt.axis(\"off\")\n",
    "plt.show()"
   ]
  }
 ],
 "metadata": {
  "colab": {
   "include_colab_link": true,
   "provenance": []
  },
  "kernelspec": {
   "display_name": "ds_env",
   "language": "python",
   "name": "python3"
  },
  "language_info": {
   "codemirror_mode": {
    "name": "ipython",
    "version": 3
   },
   "file_extension": ".py",
   "mimetype": "text/x-python",
   "name": "python",
   "nbconvert_exporter": "python",
   "pygments_lexer": "ipython3",
   "version": "3.11.13"
  }
 },
 "nbformat": 4,
 "nbformat_minor": 0
}
