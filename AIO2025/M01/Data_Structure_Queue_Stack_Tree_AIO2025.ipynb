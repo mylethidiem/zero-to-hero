{
  "nbformat": 4,
  "nbformat_minor": 0,
  "metadata": {
    "colab": {
      "provenance": []
    },
    "kernelspec": {
      "name": "python3",
      "display_name": "Python 3"
    },
    "language_info": {
      "name": "python"
    }
  },
  "cells": [
    {
      "cell_type": "code",
      "source": [
        "Tree = {\n",
        "    'A': ['B', 'C'],\n",
        "    'B': ['D'],\n",
        "    'C': ['E'],\n",
        "    'D': [],\n",
        "    'E': []\n",
        "}"
      ],
      "metadata": {
        "id": "XLIR1Ac3a-BS"
      },
      "execution_count": null,
      "outputs": []
    },
    {
      "cell_type": "code",
      "source": [
        "class Stack:\n",
        "    def __init__(self):\n",
        "        self.items = []\n",
        "\n",
        "    def push(self, item):\n",
        "        self.items.append(item)\n",
        "        # print(f\"Pushed: {item}\")\n",
        "\n",
        "    def pop(self):\n",
        "        if not self.is_empty():\n",
        "            item = self.items.pop()\n",
        "            # print(f\"Popped: {item}\")\n",
        "            return item\n",
        "\n",
        "    def peek(self):\n",
        "        if not self.is_empty():\n",
        "            # print(f\"Peeked: {self.items[-1]}\")\n",
        "            return self.items[-1]\n",
        "\n",
        "    def is_empty(self):\n",
        "        return len(self.items) == 0\n",
        "\n",
        "    def size(self):\n",
        "        return len(self.items)\n",
        "\n",
        "\n",
        "# Example usage\n",
        "stack = Stack()\n",
        "\n",
        "# Push elements\n",
        "stack.push(\"Apple\")\n",
        "stack.push(\"Banana\")\n",
        "stack.push(\"Cherry\")\n",
        "\n",
        "# Peek at the top element\n",
        "stack.peek()  # Should be \"Cherry\"\n",
        "\n",
        "# Pop elements\n",
        "stack.pop()   # Removes \"Cherry\"\n",
        "stack.pop()   # Removes \"Banana\"\n",
        "\n",
        "# Peek again\n",
        "stack.peek()  # Should now be \"Apple\"\n",
        "\n",
        "#Check size\n",
        "print(\"Current size:\", stack.size())\n",
        "\n",
        "# Final pop\n",
        "stack.pop()   # Removes \"Apple\"\n",
        "\n",
        "#Is the stack empty now?\n",
        "print(\"Is empty?\", stack.is_empty())\n"
      ],
      "metadata": {
        "colab": {
          "base_uri": "https://localhost:8080/"
        },
        "id": "YXusoM7MkI3x",
        "outputId": "a7ec2abc-f31b-4b82-abaa-f1fcfc02d11d"
      },
      "execution_count": 12,
      "outputs": [
        {
          "output_type": "stream",
          "name": "stdout",
          "text": [
            "Current size: 1\n",
            "Is empty? True\n"
          ]
        }
      ]
    },
    {
      "cell_type": "code",
      "source": [
        "def dfs_with_stack(tree, start_node):\n",
        "    visited = set()\n",
        "    stack = Stack()\n",
        "    stack.push(start_node)\n",
        "\n",
        "    print(\"DFS Traversal:\")\n",
        "\n",
        "    while not stack.is_empty():\n",
        "        node = stack.pop()\n",
        "        if node not in visited:\n",
        "            print(node)\n",
        "            visited.add(node)\n",
        "            # Add neighbors in reversed order for left-to-right traversal\n",
        "            for neighbor in reversed(tree[node]):\n",
        "                if neighbor not in visited:\n",
        "                    stack.push(neighbor)\n"
      ],
      "metadata": {
        "id": "M15R6jMomJiL"
      },
      "execution_count": null,
      "outputs": []
    },
    {
      "cell_type": "code",
      "source": [
        "# Define the tree\n",
        "Tree = {\n",
        "    'A': ['B', 'C'],\n",
        "    'B': ['D'],\n",
        "    'C': ['E'],\n",
        "    'D': [],\n",
        "    'E': []\n",
        "}\n",
        "\n",
        "# Perform DFS\n",
        "dfs_with_stack(Tree, 'A')\n"
      ],
      "metadata": {
        "colab": {
          "base_uri": "https://localhost:8080/"
        },
        "id": "HaBZlxtrmMFa",
        "outputId": "9af37c98-95cc-455f-eaec-ec69f6e34271"
      },
      "execution_count": null,
      "outputs": [
        {
          "output_type": "stream",
          "name": "stdout",
          "text": [
            "Pushed: A\n",
            "DFS Traversal:\n",
            "Popped: A\n",
            "A\n",
            "Pushed: C\n",
            "Pushed: B\n",
            "Popped: B\n",
            "B\n",
            "Pushed: D\n",
            "Popped: D\n",
            "D\n",
            "Popped: C\n",
            "C\n",
            "Pushed: E\n",
            "Popped: E\n",
            "E\n"
          ]
        }
      ]
    },
    {
      "cell_type": "code",
      "source": [
        "### Tree class\n",
        "class TreeNode:\n",
        "    def __init__(self, data):\n",
        "        self.data = data\n",
        "        self.children = []\n",
        "        self.parent = None\n",
        "\n",
        "    def add_child(self, child):\n",
        "        child.parent = self\n",
        "        self.children.append(child)\n",
        "\n",
        "    def get_level(self): #to get level of each node\n",
        "        level =0\n",
        "        p = self.parent\n",
        "        while p:\n",
        "            level += 1\n",
        "            p = p.parent\n",
        "\n",
        "        return level\n",
        "\n",
        "    def print_tree(self):\n",
        "        space = ' ' * self.get_level() * 3\n",
        "        prefix = space + '|__' if self.parent else ''\n",
        "        print(prefix + self.data)#add prefix\n",
        "        if self.children:\n",
        "            for child in self.children:\n",
        "                child.print_tree()"
      ],
      "metadata": {
        "id": "GsR5bDXDRHNj"
      },
      "execution_count": 13,
      "outputs": []
    },
    {
      "cell_type": "code",
      "source": [
        "def create_tree():\n",
        "  a_node = TreeNode(\"A\")\n",
        "  b_node = TreeNode(\"B\")\n",
        "  c_node = TreeNode(\"C\")\n",
        "  d_node = TreeNode(\"D\")\n",
        "  e_node = TreeNode(\"E\")\n",
        "  f_node = TreeNode(\"F\")\n",
        "  g_node = TreeNode(\"G\")\n",
        "\n",
        "  a_node.add_child(b_node)\n",
        "  a_node.add_child(c_node)\n",
        "\n",
        "  b_node.add_child(d_node)\n",
        "  b_node.add_child(e_node)\n",
        "\n",
        "  c_node.add_child(f_node)\n",
        "  c_node.add_child(g_node)\n",
        "  return a_node"
      ],
      "metadata": {
        "id": "neMxsQ2RRLyy"
      },
      "execution_count": 14,
      "outputs": []
    },
    {
      "cell_type": "code",
      "source": [
        "tree = create_tree()\n",
        "tree.print_tree()"
      ],
      "metadata": {
        "colab": {
          "base_uri": "https://localhost:8080/"
        },
        "id": "-m1F8Uc3ROE5",
        "outputId": "2e5e0170-bdb1-4491-ce14-6ca37f2c7405"
      },
      "execution_count": 15,
      "outputs": [
        {
          "output_type": "stream",
          "name": "stdout",
          "text": [
            "A\n",
            "   |__B\n",
            "      |__D\n",
            "      |__E\n",
            "   |__C\n",
            "      |__F\n",
            "      |__G\n"
          ]
        }
      ]
    },
    {
      "cell_type": "code",
      "source": [
        "from graphviz import Graph\n",
        "\n",
        "class TreeNode:\n",
        "    def __init__(self, key):\n",
        "        self.left = None\n",
        "        self.right = None\n",
        "        self.val = key\n",
        "\n",
        "def add_edges(dot, node):\n",
        "    if node is None:\n",
        "        return\n",
        "    if node.left:\n",
        "        dot.edge(str(node.val), str(node.left.val))\n",
        "        add_edges(dot, node.left)\n",
        "    if node.right:\n",
        "        dot.edge(str(node.val), str(node.right.val))\n",
        "        add_edges(dot, node.right)\n",
        "\n",
        "def draw_tree(root):\n",
        "    dot = Graph()\n",
        "    dot.node(str(root.val))\n",
        "    add_edges(dot, root)\n",
        "    return dot\n",
        "\n",
        "# Driver code\n",
        "if __name__ == '__main__':\n",
        "    # Create the root of the tree\n",
        "    root = TreeNode(1)\n",
        "    root.left = TreeNode(2)\n",
        "    root.right = TreeNode(3)\n",
        "    root.left.left = TreeNode(4)\n",
        "    root.left.right = TreeNode(5)\n",
        "\n",
        "    dot = draw_tree(root)\n",
        "    dot.render('orignial_tree', format='png', view=True)\n"
      ],
      "metadata": {
        "id": "kcz3BD0oRWqn"
      },
      "execution_count": 16,
      "outputs": []
    },
    {
      "cell_type": "code",
      "source": [
        "from collections import deque\n",
        "\n",
        "\n",
        "def bfs(root):\n",
        "    if root is None:\n",
        "        return []\n",
        "\n",
        "    result = []\n",
        "    queue = deque([root])\n",
        "\n",
        "    while queue:\n",
        "        node = queue.popleft()\n",
        "        result.append(node.val)\n",
        "\n",
        "        if node.left:\n",
        "            queue.append(node.left)\n",
        "        if node.right:\n",
        "            queue.append(node.right)\n",
        "\n",
        "    return result"
      ],
      "metadata": {
        "id": "WbOq5nQXTZW_"
      },
      "execution_count": 17,
      "outputs": []
    },
    {
      "cell_type": "code",
      "source": [
        "root = TreeNode(1)\n",
        "root.left = TreeNode(2)\n",
        "root.right = TreeNode(3)\n",
        "root.left.left = TreeNode(4)\n",
        "root.left.right = TreeNode(5)\n",
        "root.right.left = TreeNode(6)\n",
        "root.right.right = TreeNode(7)\n",
        "\n",
        "print(\"Original tree:\")\n",
        "dot = draw_tree(root)\n",
        "dot.render('original_tree_bfs', format='png', view=True)\n",
        "\n",
        "# Perform BFS\n",
        "bfs_result = bfs(root)\n",
        "print(\"BFS traversal result:\", bfs_result)"
      ],
      "metadata": {
        "colab": {
          "base_uri": "https://localhost:8080/"
        },
        "id": "8AloW0JQTh3H",
        "outputId": "db1e1c50-7bf1-43de-92d5-9ec7258c18db"
      },
      "execution_count": 18,
      "outputs": [
        {
          "output_type": "stream",
          "name": "stdout",
          "text": [
            "Original tree:\n",
            "BFS traversal result: [1, 2, 3, 4, 5, 6, 7]\n"
          ]
        }
      ]
    },
    {
      "cell_type": "code",
      "source": [
        "class BinaryTree:\n",
        "    def __init__(self, root=None):\n",
        "        self.root = root\n",
        "\n",
        "    def dfs(self):\n",
        "        if not self.root:\n",
        "            print(\"Tree is empty.\")\n",
        "            return\n",
        "\n",
        "        stack = Stack()\n",
        "        stack.push(self.root)\n",
        "\n",
        "        print(\"DFS Traversal (Pre-order):\")\n",
        "\n",
        "        while not stack.is_empty():\n",
        "            current = stack.pop()\n",
        "            print(\"visited \", current.val)\n",
        "            # Push right first so left is processed first\n",
        "            if current.right:\n",
        "                stack.push(current.right)\n",
        "            if current.left:\n",
        "                stack.push(current.left)"
      ],
      "metadata": {
        "id": "W6o7hCRxWi2p"
      },
      "execution_count": 19,
      "outputs": []
    },
    {
      "cell_type": "code",
      "source": [
        "# Create binary tree nodes\n",
        "root = TreeNode(1)\n",
        "root.left = TreeNode(2)\n",
        "root.right = TreeNode(3)\n",
        "root.left.left = TreeNode(4)\n",
        "root.left.right = TreeNode(5)\n",
        "root.right.left = TreeNode(6)\n",
        "root.right.right = TreeNode(7)\n",
        "\n",
        "# Create the tree and perform DFS\n",
        "binary_tree = BinaryTree(root)\n",
        "binary_tree.dfs()"
      ],
      "metadata": {
        "colab": {
          "base_uri": "https://localhost:8080/"
        },
        "id": "v7tDkIUoWuUu",
        "outputId": "cd4254fd-8b20-4eb8-e0b6-db0b786d26b0"
      },
      "execution_count": 20,
      "outputs": [
        {
          "output_type": "stream",
          "name": "stdout",
          "text": [
            "DFS Traversal (Pre-order):\n",
            "visited  1\n",
            "visited  2\n",
            "visited  4\n",
            "visited  5\n",
            "visited  3\n",
            "visited  6\n",
            "visited  7\n"
          ]
        }
      ]
    },
    {
      "cell_type": "code",
      "source": [
        "from graphviz import Graph\n",
        "\n",
        "class TreeNode:\n",
        "    def __init__(self, key):\n",
        "        self.left = None\n",
        "        self.right = None\n",
        "        self.val = key\n",
        "\n",
        "def insert_node(root, key):\n",
        "    # Create a new node\n",
        "    new_node = TreeNode(key)\n",
        "\n",
        "    # If the tree is empty, the new node becomes the root\n",
        "    if root is None:\n",
        "        return new_node\n",
        "\n",
        "    # Use a queue to perform level-order traversal\n",
        "    queue = []\n",
        "    queue.append(root)\n",
        "\n",
        "    # Traverse the tree\n",
        "    while queue:\n",
        "        # Dequeue a node\n",
        "        temp = queue.pop(0)\n",
        "\n",
        "        # Check if the left child is empty\n",
        "        if temp.left is None:\n",
        "            temp.left = new_node\n",
        "            return root\n",
        "        else:\n",
        "            queue.append(temp.left)\n",
        "\n",
        "        # Check if the right child is empty\n",
        "        if temp.right is None:\n",
        "            temp.right = new_node\n",
        "            return root\n",
        "        else:\n",
        "            queue.append(temp.right)\n",
        "\n",
        "    return root\n",
        "\n",
        "def add_edges(dot, node):\n",
        "    if node is None:\n",
        "        return\n",
        "    if node.left:\n",
        "        dot.edge(str(node.val), str(node.left.val))\n",
        "        add_edges(dot, node.left)\n",
        "    if node.right:\n",
        "        dot.edge(str(node.val), str(node.right.val))\n",
        "        add_edges(dot, node.right)\n",
        "\n",
        "def draw_tree(root):\n",
        "    dot = Graph()\n",
        "    dot.node(str(root.val))\n",
        "    add_edges(dot, root)\n",
        "    return dot\n",
        "\n",
        "# Driver code\n",
        "if __name__ == '__main__':\n",
        "    # Create the root of the tree\n",
        "    root = TreeNode(1)\n",
        "    root.left = TreeNode(2)\n",
        "    root.right = TreeNode(3)\n",
        "    root.left.left = TreeNode(4)\n",
        "    root.left.right = TreeNode(5)\n",
        "\n",
        "    dot = draw_tree(root)\n",
        "    dot.render('orignial_tree', format='png', view=True)\n",
        "\n",
        "    key = 6\n",
        "    print(f\"\\nInserting {key} into the binary tree.\")\n",
        "    root = insert_node(root, key)\n",
        "\n",
        "    dot = draw_tree(root)\n",
        "    dot.render('after_tree', format='png', view=True)"
      ],
      "metadata": {
        "colab": {
          "base_uri": "https://localhost:8080/"
        },
        "id": "HHt41EzHbsS6",
        "outputId": "9a93ee9e-a2c1-4229-f110-944febea9688"
      },
      "execution_count": null,
      "outputs": [
        {
          "output_type": "stream",
          "name": "stdout",
          "text": [
            "\n",
            "Inserting 6 into the binary tree.\n"
          ]
        }
      ]
    },
    {
      "cell_type": "code",
      "source": [
        "from collections import deque\n",
        "\n",
        "def delete_node(root, key):\n",
        "    if root is None:\n",
        "        return None\n",
        "\n",
        "    if root.left is None and root.right is None:\n",
        "        if root.val == key:\n",
        "            return None\n",
        "        else:\n",
        "            return root\n",
        "\n",
        "    key_node = None\n",
        "    queue = deque([root])\n",
        "\n",
        "    while queue:\n",
        "        node = queue.popleft()\n",
        "\n",
        "        if node.val == key:\n",
        "            key_node = node\n",
        "\n",
        "        if node.left:\n",
        "            queue.append(node.left)\n",
        "\n",
        "        if node.right:\n",
        "            queue.append(node.right)\n",
        "\n",
        "    if key_node:\n",
        "        deepest_node = node\n",
        "        key_node.val = deepest_node.val\n",
        "        delete_deepest(root, deepest_node)\n",
        "\n",
        "    return root\n",
        "\n",
        "def delete_deepest(root, d_node):\n",
        "    queue = deque([root])\n",
        "    while queue:\n",
        "        node = queue.popleft()\n",
        "\n",
        "        if node is d_node:\n",
        "            node = None\n",
        "            return\n",
        "\n",
        "        if node.right:\n",
        "            if node.right is d_node:\n",
        "                node.right = None\n",
        "                return\n",
        "            else:\n",
        "                queue.append(node.right)\n",
        "\n",
        "        if node.left:\n",
        "            if node.left is d_node:\n",
        "                node.left = None\n",
        "                return\n",
        "            else:\n",
        "                queue.append(node.left)\n"
      ],
      "metadata": {
        "id": "5UPgCa6nbtBx"
      },
      "execution_count": null,
      "outputs": []
    },
    {
      "cell_type": "code",
      "source": [
        "if __name__ == '__main__':\n",
        "    # Create the root of the tree\n",
        "    root = TreeNode(1)\n",
        "    root.left = TreeNode(2)\n",
        "    root.right = TreeNode(3)\n",
        "    root.left.left = TreeNode(4)\n",
        "    root.left.right = TreeNode(5)\n",
        "    root.right.left = TreeNode(6)\n",
        "    root.right.right = TreeNode(7)\n",
        "\n",
        "    dot = draw_tree(root)\n",
        "    dot.render('original_delete_tree', format='png', view=True)\n",
        "\n",
        "    key = 2\n",
        "    print(f\"\\nDeleting node with key {key}\")\n",
        "    root = delete_node(root, key)\n",
        "    dot = draw_tree(root)\n",
        "    dot.render('after_delete_tree', format='png', view=True)\n",
        "\n",
        "\n"
      ],
      "metadata": {
        "colab": {
          "base_uri": "https://localhost:8080/"
        },
        "id": "DCk8PH-JcN0-",
        "outputId": "56652f2b-4eba-4316-9d75-b2ab1fa63794"
      },
      "execution_count": null,
      "outputs": [
        {
          "output_type": "stream",
          "name": "stdout",
          "text": [
            "\n",
            "Deleting node with key 2\n"
          ]
        }
      ]
    },
    {
      "cell_type": "code",
      "source": [
        "class BST:\n",
        "    def __init__(self):\n",
        "        self.root = None\n",
        "\n",
        "    def insert(self, key):\n",
        "        if self.root is None:\n",
        "            self.root = TreeNode(key)\n",
        "        else:\n",
        "            self._insert(self.root, key)\n",
        "\n",
        "    def _insert(self, node, key):\n",
        "        if key < node.val:\n",
        "            if node.left is None:\n",
        "                node.left = TreeNode(key)\n",
        "            else:\n",
        "                self._insert(node.left, key)\n",
        "        else:\n",
        "            if node.right is None:\n",
        "                node.right = TreeNode(key)\n",
        "            else:\n",
        "                self._insert(node.right, key)\n",
        "\n",
        "    def search(self, key):\n",
        "        return self._search(self.root, key)\n",
        "\n",
        "    def _search(self, node, key):\n",
        "        if node is None or node.val == key:\n",
        "            return node\n",
        "\n",
        "        if key < node.val:\n",
        "            return self._search(node.left, key)\n",
        "\n",
        "        return self._search(node.right, key)\n",
        "\n"
      ],
      "metadata": {
        "id": "Wh9L7knMbtEF"
      },
      "execution_count": null,
      "outputs": []
    },
    {
      "cell_type": "code",
      "source": [
        "if __name__ == '__main__':\n",
        "    bst = BST()\n",
        "\n",
        "    # Insert elements\n",
        "    elements = [50, 30, 20, 40, 70, 60, 80]\n",
        "    for element in elements:\n",
        "        bst.insert(element)\n",
        "\n",
        "\n",
        "     # Visualize the BST\n",
        "    dot = draw_tree(bst.root)\n",
        "    dot.render('bst', format='png', view=True)\n",
        "\n",
        "    # Search for elements\n",
        "    key = 40\n",
        "    result = bst.search(key)\n",
        "    if result:\n",
        "        print(f\"Element {key} found in the BST\")\n",
        "    else:\n",
        "        print(f\"Element {key} not found in the BST\")\n"
      ],
      "metadata": {
        "colab": {
          "base_uri": "https://localhost:8080/"
        },
        "id": "qa3EPWl9btGt",
        "outputId": "a108da64-891f-408c-f760-7d63e8bdee50"
      },
      "execution_count": null,
      "outputs": [
        {
          "output_type": "stream",
          "name": "stdout",
          "text": [
            "Element 40 found in the BST\n"
          ]
        }
      ]
    },
    {
      "cell_type": "code",
      "source": [],
      "metadata": {
        "id": "jSAcMTKQbtJC"
      },
      "execution_count": null,
      "outputs": []
    },
    {
      "cell_type": "code",
      "source": [
        "class BinaryTreeNode:\n",
        "    def __init__(self, value):\n",
        "        self.value = value\n",
        "        self.left = None\n",
        "        self.right = None\n"
      ],
      "metadata": {
        "id": "ET4Vdv8bHGAJ"
      },
      "execution_count": null,
      "outputs": []
    },
    {
      "cell_type": "code",
      "source": [
        "class BinaryTree:\n",
        "    def __init__(self, root=None):\n",
        "        self.root = root\n",
        "\n",
        "    def dfs(self):\n",
        "        if not self.root:\n",
        "            print(\"Tree is empty.\")\n",
        "            return\n",
        "\n",
        "        visited = set()\n",
        "        stack = Stack()\n",
        "        stack.push(self.root)\n",
        "\n",
        "        print(\"DFS Traversal (Pre-order):\")\n",
        "\n",
        "        while not stack.is_empty():\n",
        "            current = stack.pop()\n",
        "            if current.value not in visited:\n",
        "                print(current.value)\n",
        "                visited.add(current.value)\n",
        "\n",
        "                # Push right first so left is processed first\n",
        "                if current.right:\n",
        "                    stack.push(current.right)\n",
        "                if current.left:\n",
        "                    stack.push(current.left)\n"
      ],
      "metadata": {
        "id": "CZ8mE7uSIKBB"
      },
      "execution_count": null,
      "outputs": []
    },
    {
      "cell_type": "code",
      "source": [
        "# Create binary tree nodes\n",
        "A = BinaryTreeNode('A')\n",
        "B = BinaryTreeNode('B')\n",
        "C = BinaryTreeNode('C')\n",
        "D = BinaryTreeNode('D')\n",
        "E = BinaryTreeNode('E')\n",
        "\n",
        "# Link the nodes\n",
        "A.left = B\n",
        "A.right = C\n",
        "B.left = D\n",
        "C.right = E\n",
        "\n",
        "# Create the tree and perform DFS\n",
        "binary_tree = BinaryTree(A)\n",
        "binary_tree.dfs()\n"
      ],
      "metadata": {
        "colab": {
          "base_uri": "https://localhost:8080/"
        },
        "id": "7ur41niaIN-H",
        "outputId": "c41cdd8a-581f-4979-e910-2b22a842bd19"
      },
      "execution_count": null,
      "outputs": [
        {
          "output_type": "stream",
          "name": "stdout",
          "text": [
            "Pushed: <__main__.BinaryTreeNode object at 0x7d45f3344b90>\n",
            "DFS Traversal (Pre-order):\n",
            "Popped: <__main__.BinaryTreeNode object at 0x7d45f3344b90>\n",
            "A\n",
            "Pushed: <__main__.BinaryTreeNode object at 0x7d45f3344f10>\n",
            "Pushed: <__main__.BinaryTreeNode object at 0x7d45f3347b50>\n",
            "Popped: <__main__.BinaryTreeNode object at 0x7d45f3347b50>\n",
            "B\n",
            "Pushed: <__main__.BinaryTreeNode object at 0x7d45f332ae50>\n",
            "Popped: <__main__.BinaryTreeNode object at 0x7d45f332ae50>\n",
            "D\n",
            "Popped: <__main__.BinaryTreeNode object at 0x7d45f3344f10>\n",
            "C\n",
            "Pushed: <__main__.BinaryTreeNode object at 0x7d45f332a850>\n",
            "Popped: <__main__.BinaryTreeNode object at 0x7d45f332a850>\n",
            "E\n"
          ]
        }
      ]
    },
    {
      "cell_type": "code",
      "execution_count": null,
      "metadata": {
        "colab": {
          "base_uri": "https://localhost:8080/",
          "height": 562
        },
        "id": "XSPr62hSKNmf",
        "outputId": "920357b2-5545-41c3-cac9-49bd74bb1404"
      },
      "outputs": [
        {
          "output_type": "stream",
          "name": "stdout",
          "text": [
            "Labeled Image:\n",
            " [[1 1 0 0 0]\n",
            " [1 1 0 2 2]\n",
            " [0 0 0 2 2]\n",
            " [0 3 0 0 0]\n",
            " [3 3 3 0 0]]\n"
          ]
        },
        {
          "output_type": "display_data",
          "data": {
            "text/plain": [
              "<Figure size 640x480 with 2 Axes>"
            ],
            "image/png": "[encoded data removed]"
          },
          "metadata": {}
        }
      ],
      "source": [
        "import numpy as np\n",
        "import matplotlib.pyplot as plt\n",
        "\n",
        "# Sample binary image (1 = object pixel, 0 = background)\n",
        "binary_image = np.array([\n",
        "    [1, 1, 0, 0, 0],\n",
        "    [1, 1, 0, 1, 1],\n",
        "    [0, 0, 0, 1, 1],\n",
        "    [0, 1, 0, 0, 0],\n",
        "    [1, 1, 1, 0, 0]\n",
        "])\n",
        "\n",
        "rows, cols = binary_image.shape\n",
        "visited = np.zeros_like(binary_image, dtype=bool)\n",
        "labels = np.zeros_like(binary_image)\n",
        "label = 1\n",
        "\n",
        "def dfs_stack(r, c):\n",
        "    stack = [(r, c)]\n",
        "    while stack:\n",
        "        x, y = stack.pop()\n",
        "        if (0 <= x < rows) and (0 <= y < cols) and not visited[x, y] and binary_image[x, y] == 1:\n",
        "            visited[x, y] = True\n",
        "            labels[x, y] = label\n",
        "            # 4-connectivity (up, down, left, right)\n",
        "            neighbors = [(x-1, y), (x+1, y), (x, y-1), (x, y+1)]\n",
        "            stack.extend(neighbors)\n",
        "\n",
        "# Run DFS on all unvisited 1's\n",
        "for i in range(rows):\n",
        "    for j in range(cols):\n",
        "        if binary_image[i, j] == 1 and not visited[i, j]:\n",
        "            dfs_stack(i, j)\n",
        "            label += 1\n",
        "\n",
        "print(\"Labeled Image:\\n\", labels)\n",
        "\n",
        "# Visualize\n",
        "plt.imshow(labels, cmap='nipy_spectral')\n",
        "plt.title('Connected Components')\n",
        "plt.colorbar()\n",
        "plt.show()\n"
      ]
    },
    {
      "cell_type": "code",
      "source": [
        "graph = {\n",
        "    'A': ['B', 'C'],\n",
        "    'B': ['D'],\n",
        "    'C': ['E'],\n",
        "    'D': [],\n",
        "    'E': []\n",
        "}"
      ],
      "metadata": {
        "id": "0tviwuHKLVdL"
      },
      "execution_count": null,
      "outputs": []
    },
    {
      "cell_type": "code",
      "source": [
        "print(type(graph))"
      ],
      "metadata": {
        "colab": {
          "base_uri": "https://localhost:8080/"
        },
        "id": "PVggs5tsLWqg",
        "outputId": "2ba7c5ac-10f8-4dd8-e7a4-10583f1c188c"
      },
      "execution_count": null,
      "outputs": [
        {
          "output_type": "stream",
          "name": "stdout",
          "text": [
            "<class 'dict'>\n"
          ]
        }
      ]
    }
  ]
}