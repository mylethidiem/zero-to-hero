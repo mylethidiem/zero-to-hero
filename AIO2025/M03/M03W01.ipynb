{
 "cells": [
  {
   "cell_type": "markdown",
   "metadata": {
    "id": "_honio3Yqjl2"
   },
   "source": [
    "# **Daily Minimum Temperatures Dataset**"
   ]
  },
  {
   "cell_type": "markdown",
   "metadata": {},
   "source": [
    "## **Tải bộ dữ liệu**"
   ]
  },
  {
   "cell_type": "code",
   "execution_count": 1,
   "metadata": {},
   "outputs": [
    {
     "name": "stdout",
     "output_type": "stream",
     "text": [
      "Downloading...\n",
      "From: https://drive.google.com/uc?id=1wQtP2ZJt0Jp6K8LR0MYvo3xzlY_-W6Td\n",
      "To: /home/banhmuy/zero-to-hero/AIO2025/M03/Sales+Orders.csv\n",
      "100%|████████████████████████████████████████| 133k/133k [00:00<00:00, 1.03MB/s]\n"
     ]
    }
   ],
   "source": [
    "!gdown 1wQtP2ZJt0Jp6K8LR0MYvo3xzlY_-W6Td"
   ]
  },
  {
   "cell_type": "code",
   "execution_count": 2,
   "metadata": {},
   "outputs": [
    {
     "name": "stdout",
     "output_type": "stream",
     "text": [
      "Requirement already satisfied: openpyxl in /home/banhmuy/miniconda3/envs/ds_env/lib/python3.11/site-packages (3.1.5)\n",
      "Requirement already satisfied: et-xmlfile in /home/banhmuy/miniconda3/envs/ds_env/lib/python3.11/site-packages (from openpyxl) (1.1.0)\n"
     ]
    }
   ],
   "source": [
    "!pip install openpyxl"
   ]
  },
  {
   "cell_type": "code",
   "execution_count": 3,
   "metadata": {},
   "outputs": [],
   "source": [
    "import pandas as pd\n",
    "from openpyxl import Workbook\n",
    "from openpyxl.styles import Font, PatternFill\n",
    "from openpyxl import load_workbook"
   ]
  },
  {
   "cell_type": "code",
   "execution_count": 14,
   "metadata": {},
   "outputs": [],
   "source": [
    "# create new xlsx  and record data from csv file\n",
    "df = pd.read_csv(\"Sales+Orders.csv\")\n",
    "\n",
    "#3 create new workbook\n",
    "wb = Workbook()\n",
    "ws = wb.active\n",
    "ws.title = \"Sales Orders\"\n",
    "\n",
    "#4 title\n",
    "header = list(df.columns)\n",
    "ws.append(header)\n",
    "\n",
    "#5 record 10 first records\n",
    "for row in df.head(10).values:\n",
    "    ws.append(list(row))\n",
    "\n",
    "#6 format\n",
    "header_font = Font(bold=True, color=\"FFFFFF\")\n",
    "fill = PatternFill(start_color=\"4F81BD\", end_color=\"4F81BD\", fill_type=\"solid\")\n",
    "for cell in ws[1]:\n",
    "    cell.font = header_font\n",
    "    cell.fill = fill\n",
    "\n",
    "#7 save excel\n",
    "wb.save(\"sales_orders_output.xlsx\")"
   ]
  },
  {
   "cell_type": "markdown",
   "metadata": {
    "id": "EG4pEApweeMi"
   },
   "source": [
    "Process data from available Excel files"
   ]
  },
  {
   "cell_type": "code",
   "execution_count": 37,
   "metadata": {},
   "outputs": [],
   "source": [
    "#1 Open original Excel file\n",
    "wb = load_workbook(\"sales_orders_output.xlsx\")\n",
    "ws = wb.active\n",
    "\n",
    "#2 get header and estimate cols index\n",
    "header = [cell.value for cell in ws[1]]\n",
    "idx_soamount = header.index(\"SOAmount\")\n",
    "idx_last_col = len(header)\n",
    "\n",
    "#3 add new col \"SOAmount Level\"\n",
    "ws.cell(row=1, column=idx_last_col + 1).value = \"SOAmount Level\"\n",
    "ws.cell(row=1, column=idx_last_col + 1).font = Font(bold=True)\n",
    "\n",
    "#4 Go through each line and:\n",
    "#  - Delete line if SOAmount <=50\n",
    "#  - Assign level\n",
    "#  - Color by condition\n",
    "rows_to_keep = []\n",
    "for i, row in enumerate(list(ws.iter_rows(min_row=2, values_only=False)), start=2):\n",
    "    soamount = row[idx_soamount].value\n",
    "    if not isinstance(soamount, (int, float)) or soamount <= 50:\n",
    "        continue\n",
    "\n",
    "    # Assign new cols\n",
    "    level = \"High\" if soamount > 100 else \"Medium\"\n",
    "    ws.cell(row=i, column=idx_last_col + 1, value=level)\n",
    "\n",
    "    # Color line\n",
    "    fill_color = \"C6EFCE\" if level == \"High\" else \"FFEB9C\"\n",
    "    for cell in row:\n",
    "        cell.fill = PatternFill(start_color=fill_color, end_color=fill_color, fill_type=\"solid\")\n",
    "    # Add new line into keeping list\n",
    "    rows_to_keep.append(i)\n",
    "\n",
    "# save file\n",
    "processed_file = \"sales_orders_processed.xlsx\"\n",
    "wb.save(processed_file)"
   ]
  },
  {
   "cell_type": "markdown",
   "metadata": {},
   "source": [
    "Charts, formulas, and advanced formatting"
   ]
  },
  {
   "cell_type": "code",
   "execution_count": 44,
   "metadata": {},
   "outputs": [],
   "source": [
    "from openpyxl.chart import BarChart, Reference\n",
    "from openpyxl.styles import Alignment, Border, Side, Font\n",
    "\n",
    "#1 open original file\n",
    "wb = load_workbook(\"sales_orders_output.xlsx\")\n",
    "ws = wb.active\n",
    "\n",
    "#2 Specify the number of rows + columns \"SOAmount\"\n",
    "max_row = ws.max_row\n",
    "header = [cell.value for cell in ws[1]]\n",
    "idx_soamount = header.index(\"SOAmount\") + 1 #openyxl mark number from 1\n",
    "\n",
    "#3 Add new sum line below SOAmount col\n",
    "sum_cell = f\"{chr(64+idx_soamount)}{max_row+1}\"\n",
    "ws[sum_cell] = f\"=SUM({chr(64+idx_soamount)}2:{chr(64+idx_soamount)}{max_row})\"\n",
    "ws[sum_cell].font = Font(bold=True)\n",
    "ws[sum_cell].alignment = Alignment(horizontal=\"center\")\n",
    "\n",
    "# Label \"Total\"\n",
    "ws[f\"{chr(64+idx_soamount-1)}{max_row+1}\"] = \"TOTAL\"\n",
    "ws[f\"{chr(64+idx_soamount-1)}{max_row+1}\"].font = Font(bold=True)\n",
    "\n",
    "#4 Create a column chart for SOAmount\n",
    "chart = BarChart()\n",
    "chart.title = \"SOAmount by Row\"\n",
    "chart.y_axis.title = \"Amount\"\n",
    "chart.x_axis.title = \"Row\"\n",
    "\n",
    "data = Reference(ws, min_col=1, min_row=2, max_row=max_row)\n",
    "categories = Reference(ws, min_col=1, min_row=2, max_col=max_row) #use doc no for axis x\n",
    "\n",
    "chart.add_data(data, titles_from_data=True)\n",
    "chart.set_categories(categories)\n",
    "\n",
    "# add new chart below table\n",
    "ws.add_chart(chart, f\"E{max_row+3}\")\n",
    "\n",
    "#5 center and border\n",
    "thin = Side(border_style=\"thin\", color=\"000000\")\n",
    "for row in ws.iter_rows(min_row=1, max_row=max_row+1):\n",
    "    for cell in row:\n",
    "        cell.alignment = Alignment(horizontal=\"center\", vertical=\"center\")\n",
    "        cell.border = Border(left=thin, right=thin, top=thin, bottom=thin)\n",
    "\n",
    "#6 save and allow download\n",
    "final_file = \"sales_orders_final.xlsx\"\n",
    "wb.save(final_file)\n"
   ]
  }
 ],
 "metadata": {
  "colab": {
   "gpuClass": "premium",
   "provenance": []
  },
  "kernelspec": {
   "display_name": "ds_env",
   "language": "python",
   "name": "python3"
  },
  "language_info": {
   "codemirror_mode": {
    "name": "ipython",
    "version": 3
   },
   "file_extension": ".py",
   "mimetype": "text/x-python",
   "name": "python",
   "nbconvert_exporter": "python",
   "pygments_lexer": "ipython3",
   "version": "3.11.13"
  }
 },
 "nbformat": 4,
 "nbformat_minor": 0
}
