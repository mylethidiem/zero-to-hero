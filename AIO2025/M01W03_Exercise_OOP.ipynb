{
  "cells": [
    {
      "cell_type": "markdown",
      "metadata": {
        "id": "view-in-github",
        "colab_type": "text"
      },
      "source": [
        "<a href=\"https://colab.research.google.com/github/mylethidiem/zero-to-hero/blob/main/AIO2025/M01W03_Exercise_OOP.ipynb\" target=\"_parent\"><img src=\"https://colab.research.google.com/assets/colab-badge.svg\" alt=\"Open In Colab\"/></a>"
      ]
    },
    {
      "cell_type": "markdown",
      "metadata": {
        "id": "HxNJolLNrXxQ"
      },
      "source": [
        "## **Exercise 1**"
      ]
    },
    {
      "cell_type": "code",
      "execution_count": null,
      "metadata": {
        "id": "mcbrmiJ7dYWm"
      },
      "outputs": [],
      "source": [
        "import torch\n",
        "import torch.nn as nn"
      ]
    },
    {
      "cell_type": "code",
      "execution_count": null,
      "metadata": {
        "id": "MO4pmW-LeuwB"
      },
      "outputs": [],
      "source": [
        "data = None\n",
        "data"
      ]
    },
    {
      "cell_type": "code",
      "execution_count": null,
      "metadata": {
        "id": "eqkJzp6Ee1Bq"
      },
      "outputs": [],
      "source": [
        "softmax_function = None\n",
        "output = None\n",
        "output"
      ]
    },
    {
      "cell_type": "markdown",
      "metadata": {
        "id": "RuS7me1uumJ3"
      },
      "source": [
        "## **Exercise 2, 3**"
      ]
    },
    {
      "cell_type": "code",
      "execution_count": null,
      "metadata": {
        "id": "grtnS8ljcsSp"
      },
      "outputs": [],
      "source": [
        "import torch.nn as nn\n",
        "\n",
        "class MySigmoid(nn.Module):\n",
        "    def __init__(self):\n",
        "        super().__init__()\n",
        "\n",
        "    def forward(self, x):\n",
        "        return 1 / (1 + torch.exp(-x))\n",
        "\n",
        "# Create an instance of the custom sigmoid class\n",
        "my_sigmoid = MySigmoid()"
      ]
    },
    {
      "cell_type": "code",
      "execution_count": null,
      "metadata": {
        "id": "6_M2zm0AqR3V",
        "colab": {
          "base_uri": "https://localhost:8080/"
        },
        "outputId": "694c0236-6e2a-4b35-d2c3-b8c68953f507"
      },
      "outputs": [
        {
          "output_type": "stream",
          "name": "stdout",
          "text": [
            "tensor([0.7311, 0.9933, 0.0180, 0.9526, 0.1192])\n"
          ]
        }
      ],
      "source": [
        "# input data\n",
        "x = torch.tensor([1, 5, -4, 3, -2])\n",
        "\n",
        "# sigmoid function\n",
        "output = my_sigmoid(x)\n",
        "print(output)"
      ]
    },
    {
      "cell_type": "markdown",
      "metadata": {
        "id": "0khMFbOGu8Jh"
      },
      "source": [
        "## **Exercise 4**"
      ]
    },
    {
      "cell_type": "code",
      "execution_count": null,
      "metadata": {
        "id": "-OfK_zdpqcgz",
        "colab": {
          "base_uri": "https://localhost:8080/"
        },
        "outputId": "a89935ef-288d-4b05-a06f-70f10f09df6b"
      },
      "outputs": [
        {
          "output_type": "execute_result",
          "data": {
            "text/plain": [
              "tensor([1.5862e-02, 8.6604e-01, 1.0688e-04, 1.1721e-01, 7.8972e-04])"
            ]
          },
          "metadata": {},
          "execution_count": 22
        }
      ],
      "source": [
        "import torch\n",
        "import torch.nn as nn\n",
        "\n",
        "class SoftmaxStable(nn.Module):\n",
        "    def __init__(self):\n",
        "        super().__init__()\n",
        "\n",
        "    def forward(self, x):\n",
        "        ### Your Code Here\n",
        "        max_val = torch.max(x, dim=-1, keepdim=True).values\n",
        "        numerator = torch.exp(x - max_val)\n",
        "        denominator = torch.sum(numerator, dim=-1, keepdim=True)\n",
        "        return numerator / denominator\n",
        "        ### End Code Here\n",
        "\n",
        "data = torch.Tensor([1, 5, -4, 3, -2])\n",
        "softmax_stable = SoftmaxStable()\n",
        "output = softmax_stable(data)\n",
        "output"
      ]
    },
    {
      "cell_type": "markdown",
      "metadata": {
        "id": "D6wYuHiUrbuq"
      },
      "source": [
        "## **Exercise 5, 6, 7**"
      ]
    },
    {
      "cell_type": "code",
      "execution_count": 8,
      "metadata": {
        "id": "qNCP5hA9rTGN"
      },
      "outputs": [],
      "source": [
        "from abc import ABC, abstractmethod\n",
        "\n",
        "class Person(ABC):\n",
        "    def __init__(self, name:str, yob:int):\n",
        "        self._name = name\n",
        "        self._yob = yob\n",
        "\n",
        "    def get_yob(self):\n",
        "        return self._yob\n",
        "\n",
        "    @abstractmethod\n",
        "    def describe(self):\n",
        "        pass\n",
        "\n",
        "\n",
        "class Student(Person):\n",
        "    def __init__(self, name:str=\"\", yob:int=0, grade:str=\"\"):\n",
        "        ### Your Code Here\n",
        "        super().__init__(name, yob)\n",
        "        self.grade = grade\n",
        "        ### End Code Here\n",
        "\n",
        "    def describe(self):\n",
        "        print(f\"Student name {self._name}, year of birth: {self._yob}\")\n",
        "\n",
        "\n",
        "class Teacher(Person):\n",
        "    def __init__(self, name:str=\"\", yob:int=0, subject:str=\"\"):\n",
        "        ### Your Code Here\n",
        "        super().__init__(name, yob)\n",
        "        self.subject = subject\n",
        "        ### End Code Here\n",
        "\n",
        "    def describe(self):\n",
        "        return super().describe()\n",
        "\n",
        "class Doctor(Person):\n",
        "    def __init__(self, name:str=\"\", yob:int=0, specialist:str=\"\"):\n",
        "        ### Your Code Here\n",
        "        super().__init__(name, yob)\n",
        "        self.specialist = specialist\n",
        "        ### End Code Here\n",
        "\n",
        "    def describe(self):\n",
        "        return super().describe()"
      ]
    },
    {
      "cell_type": "code",
      "execution_count": 9,
      "metadata": {
        "id": "Foonrj1T9i2j",
        "colab": {
          "base_uri": "https://localhost:8080/"
        },
        "outputId": "e406f3b1-7134-4d61-ab31-e0b6c4c07c9b"
      },
      "outputs": [
        {
          "output_type": "stream",
          "name": "stdout",
          "text": [
            "Student name , year of birth: 0\n"
          ]
        }
      ],
      "source": [
        "student1 = Student()\n",
        "student1.describe()\n",
        "\n",
        "teacher1 = Teacher()\n",
        "teacher1.describe()\n",
        "\n",
        "doctor1 = Doctor()\n",
        "doctor1.describe()"
      ]
    },
    {
      "cell_type": "markdown",
      "metadata": {
        "id": "NieNw4D2v541"
      },
      "source": [
        "## **Exercise 8**"
      ]
    },
    {
      "cell_type": "code",
      "execution_count": 10,
      "metadata": {
        "id": "bFJmOUXXsjxq"
      },
      "outputs": [],
      "source": [
        "import datetime\n",
        "\n",
        "class Ward:\n",
        "    def __init__(self, name:str):\n",
        "        self.__name = name\n",
        "        self.__list_people = list()\n",
        "\n",
        "    def add_person(self, person:Person):\n",
        "        self.__list_people.append(person)\n",
        "\n",
        "    def describe(self):\n",
        "        ### Your Code Here\n",
        "        for people in self.__list_people:\n",
        "          people.describe()\n",
        "        ### End Code Here\n",
        "\n",
        "    def count_doctor(self):\n",
        "        ### Your Code Here\n",
        "        num_doctor = 0\n",
        "        for people in self.__list_people:\n",
        "          if isinstance(people, Doctor):\n",
        "            num_doctor += 1\n",
        "        return num_doctor\n",
        "        ### End Code\n",
        "\n",
        "    def count_teacherT(self):\n",
        "        ### Your Code Here\n",
        "        num_teacher = 0\n",
        "        for people in self.__list_people:\n",
        "          if isinstance(people, Teacher):\n",
        "            num_teacher += 1\n",
        "        return num_teacher\n",
        "        ### End Code Here\n",
        "\n",
        "    def sort_age(self):\n",
        "        ### Your Code Here\n",
        "        self.__list_people.sort(key=lambda person: person._yob, reverse=True)\n",
        "        ### End Code Here\n",
        "\n",
        "    def compute_average(self):\n",
        "        ### Your Code Here\n",
        "        current_year = datetime.date.today().year\n",
        "        sum_teacher_age = 0\n",
        "        num_teacher = 0\n",
        "        for people in self.__list_people:\n",
        "          if isinstance(people, Teacher):\n",
        "            num_teacher += 1\n",
        "            sum_teacher_age += (current_year - people.get_yob())\n",
        "\n",
        "        if num_teacher == 0:\n",
        "          print(\"No teacher in list!\")\n",
        "          return 0\n",
        "\n",
        "        return sum_teacher_age / num_teacher\n",
        "        ### End Code Here"
      ]
    },
    {
      "cell_type": "code",
      "execution_count": 11,
      "metadata": {
        "id": "l-b-8UqiszAJ",
        "colab": {
          "base_uri": "https://localhost:8080/"
        },
        "outputId": "f0e7f45b-d210-4e00-f990-9cc45277b7b2"
      },
      "outputs": [
        {
          "output_type": "stream",
          "name": "stdout",
          "text": [
            "Student name studentA, year of birth: 2010\n",
            "\n",
            "Student name studentA, year of birth: 2010\n",
            "\n",
            "Number of doctors: 2\n",
            "\n",
            "After sorting Age of Ward1 people\n",
            "Student name studentA, year of birth: 2010\n",
            "\n",
            "Average year of birth (teachers): 43.0\n"
          ]
        }
      ],
      "source": [
        "student1 = Student(name=\"studentA\", yob=2010, grade=\"7\")\n",
        "student1.describe()\n",
        "\n",
        "teacher1 = Teacher(name=\"teacherA\", yob=1969, subject=\"Math\")\n",
        "teacher1.describe()\n",
        "\n",
        "doctor1 = Doctor(name=\"doctorA\", yob=1945, specialist=\"Endocrinologists\")\n",
        "doctor1.describe()\n",
        "\n",
        "\n",
        "print()\n",
        "teacher2 = Teacher(name=\"teacherB\", yob=1995, subject=\"History\")\n",
        "doctor2 = Doctor(name=\"doctorB\", yob=1975, specialist=\"Cardiologists\")\n",
        "ward1 = Ward(name=\"Ward1\")\n",
        "ward1.add_person(student1)\n",
        "ward1.add_person(teacher1)\n",
        "ward1.add_person(teacher2)\n",
        "ward1.add_person(doctor1)\n",
        "ward1.add_person(doctor2)\n",
        "ward1.describe()\n",
        "\n",
        "# 2(c)\n",
        "print(f\"\\nNumber of doctors: {ward1.count_doctor()}\")\n",
        "\n",
        "# 2(d)\n",
        "print(\"\\nAfter sorting Age of Ward1 people\")\n",
        "ward1.sort_age()\n",
        "ward1.describe()\n",
        "\n",
        "# 2(e)\n",
        "print(f\"\\nAverage year of birth (teachers): {ward1.compute_average()}\")"
      ]
    },
    {
      "cell_type": "markdown",
      "metadata": {
        "id": "kbwBOuG5WNx1"
      },
      "source": [
        "## **Exercise 9**"
      ]
    },
    {
      "cell_type": "code",
      "execution_count": 18,
      "metadata": {
        "id": "POIazw1ns_Rw"
      },
      "outputs": [],
      "source": [
        "class MyStack:\n",
        "    def __init__(self, capacity):\n",
        "        self.__capacity = capacity\n",
        "        self.__stack = []\n",
        "\n",
        "    def is_empty(self):\n",
        "        ### Your Code Here\n",
        "        return not self.__stack\n",
        "        ### End Code Here\n",
        "\n",
        "    def is_full(self):\n",
        "        ### Your Code Here\n",
        "        return len(self.__stack) == self.__capacity\n",
        "        ### End Code Here\n",
        "\n",
        "    def pop(self):\n",
        "        ### Your Code Here\n",
        "        if self.__stack:\n",
        "          return self.__stack.pop()\n",
        "        else:\n",
        "          raise IndexError(\"pop from an empty custom stack\")\n",
        "        ### End Code Here\n",
        "\n",
        "    def push(self, value):\n",
        "        ### Your Code Here\n",
        "        if self.is_full():\n",
        "          raise OverflowError(\"push to a full stack\")\n",
        "        else:\n",
        "          self.__stack.append(value)\n",
        "        ### End Code Here\n",
        "\n",
        "    def top(self):\n",
        "        ### Your Code Here\n",
        "        if self.__stack:\n",
        "          # return self.__stack[len(self.__stack) - 1]\n",
        "          return self.__stack[-1]\n",
        "        else:\n",
        "          # print(\"stack is empty\")\n",
        "          # return None\n",
        "          raise IndexError(\"top from empty stack\")\n",
        "        ### End Code Here"
      ]
    },
    {
      "cell_type": "code",
      "execution_count": 19,
      "metadata": {
        "id": "EWKe7COttJuJ",
        "colab": {
          "base_uri": "https://localhost:8080/"
        },
        "outputId": "a3cf020a-99da-4ea3-921f-3ac453576053"
      },
      "outputs": [
        {
          "output_type": "stream",
          "name": "stdout",
          "text": [
            "False\n",
            "2\n",
            "2\n",
            "1\n",
            "1\n",
            "True\n"
          ]
        }
      ],
      "source": [
        "stack1 = MyStack(capacity=5)\n",
        "\n",
        "stack1.push(1)\n",
        "\n",
        "stack1.push(2)\n",
        "\n",
        "print(stack1.is_full())\n",
        "\n",
        "print(stack1.top())\n",
        "\n",
        "print(stack1.pop())\n",
        "\n",
        "print(stack1.top())\n",
        "\n",
        "print(stack1.pop())\n",
        "\n",
        "print(stack1.is_empty())"
      ]
    },
    {
      "cell_type": "code",
      "execution_count": 20,
      "metadata": {
        "id": "oxCM7bM1tPUl",
        "colab": {
          "base_uri": "https://localhost:8080/",
          "height": 384
        },
        "outputId": "602b3f1d-9080-4479-a5a3-06fb78995915"
      },
      "outputs": [
        {
          "output_type": "stream",
          "name": "stdout",
          "text": [
            "2\n",
            "True\n",
            "2\n",
            "1\n",
            "True\n"
          ]
        },
        {
          "output_type": "error",
          "ename": "IndexError",
          "evalue": "pop from an empty custom stack",
          "traceback": [
            "\u001b[0;31m---------------------------------------------------------------------------\u001b[0m",
            "\u001b[0;31mIndexError\u001b[0m                                Traceback (most recent call last)",
            "\u001b[0;32m/tmp/ipython-input-20-473620388.py\u001b[0m in \u001b[0;36m<cell line: 0>\u001b[0;34m()\u001b[0m\n\u001b[1;32m     15\u001b[0m \u001b[0mprint\u001b[0m\u001b[0;34m(\u001b[0m\u001b[0mstack2\u001b[0m\u001b[0;34m.\u001b[0m\u001b[0mis_empty\u001b[0m\u001b[0;34m(\u001b[0m\u001b[0;34m)\u001b[0m\u001b[0;34m)\u001b[0m\u001b[0;34m\u001b[0m\u001b[0;34m\u001b[0m\u001b[0m\n\u001b[1;32m     16\u001b[0m \u001b[0;34m\u001b[0m\u001b[0m\n\u001b[0;32m---> 17\u001b[0;31m \u001b[0mprint\u001b[0m\u001b[0;34m(\u001b[0m\u001b[0mstack2\u001b[0m\u001b[0;34m.\u001b[0m\u001b[0mpop\u001b[0m\u001b[0;34m(\u001b[0m\u001b[0;34m)\u001b[0m\u001b[0;34m)\u001b[0m\u001b[0;34m\u001b[0m\u001b[0;34m\u001b[0m\u001b[0m\n\u001b[0m",
            "\u001b[0;32m/tmp/ipython-input-18-613248204.py\u001b[0m in \u001b[0;36mpop\u001b[0;34m(self)\u001b[0m\n\u001b[1;32m     19\u001b[0m           \u001b[0;32mreturn\u001b[0m \u001b[0mself\u001b[0m\u001b[0;34m.\u001b[0m\u001b[0m__stack\u001b[0m\u001b[0;34m.\u001b[0m\u001b[0mpop\u001b[0m\u001b[0;34m(\u001b[0m\u001b[0;34m)\u001b[0m\u001b[0;34m\u001b[0m\u001b[0;34m\u001b[0m\u001b[0m\n\u001b[1;32m     20\u001b[0m         \u001b[0;32melse\u001b[0m\u001b[0;34m:\u001b[0m\u001b[0;34m\u001b[0m\u001b[0;34m\u001b[0m\u001b[0m\n\u001b[0;32m---> 21\u001b[0;31m           \u001b[0;32mraise\u001b[0m \u001b[0mIndexError\u001b[0m\u001b[0;34m(\u001b[0m\u001b[0;34m\"pop from an empty custom stack\"\u001b[0m\u001b[0;34m)\u001b[0m\u001b[0;34m\u001b[0m\u001b[0;34m\u001b[0m\u001b[0m\n\u001b[0m\u001b[1;32m     22\u001b[0m         \u001b[0;31m### End Code Here\u001b[0m\u001b[0;34m\u001b[0m\u001b[0;34m\u001b[0m\u001b[0m\n\u001b[1;32m     23\u001b[0m \u001b[0;34m\u001b[0m\u001b[0m\n",
            "\u001b[0;31mIndexError\u001b[0m: pop from an empty custom stack"
          ]
        }
      ],
      "source": [
        "stack2 = MyStack(capacity=2)\n",
        "\n",
        "stack2.push(1)\n",
        "\n",
        "stack2.push(2)\n",
        "\n",
        "print(stack2.top())\n",
        "\n",
        "print(stack2.is_full())\n",
        "\n",
        "print(stack2.pop())\n",
        "\n",
        "print(stack2.pop())\n",
        "\n",
        "print(stack2.is_empty())\n",
        "\n",
        "print(stack2.pop())"
      ]
    },
    {
      "cell_type": "markdown",
      "metadata": {
        "id": "SuLQe7sNWTAp"
      },
      "source": [
        "## **Exercise 10**"
      ]
    },
    {
      "cell_type": "code",
      "execution_count": 23,
      "metadata": {
        "id": "mtRK-r8JtWm8"
      },
      "outputs": [],
      "source": [
        "class MyQueue:\n",
        "    def __init__(self, capacity):\n",
        "        self.__capacity = capacity\n",
        "        self.__queue = []\n",
        "\n",
        "    def is_empty(self):\n",
        "        ### Your Code Here\n",
        "        return not self.__queue\n",
        "        ### End Code Here\n",
        "\n",
        "    def is_full(self):\n",
        "        ### Your Code Here\n",
        "        return len(self.__queue) == self.__capacity\n",
        "        ### End Code Here\n",
        "\n",
        "    def dequeue(self):\n",
        "        ### Your Code Here\n",
        "        if self.__queue:\n",
        "          return self.__queue.pop(0)\n",
        "        else:\n",
        "          return IndexError(\"Queue is empty\")\n",
        "\n",
        "        ### End Code Here\n",
        "\n",
        "    def enqueue(self, value):\n",
        "        ### Your Code Here\n",
        "        if self.is_full:\n",
        "          return OverflowError(\"Enqueue to a full queue\")\n",
        "        else:\n",
        "          self.__queue.append(value)\n",
        "        ### End Code Here\n",
        "\n",
        "    def front(self):\n",
        "        ### Your Code Here\n",
        "        if self.__queue:\n",
        "          return self.__queue[0]\n",
        "        else:\n",
        "          # raise IndexError(\"Front from empty stack\")\n",
        "          print(\"Front from empty stack\")\n",
        "          return None\n",
        "        ### End Code Here"
      ]
    },
    {
      "cell_type": "code",
      "execution_count": 24,
      "metadata": {
        "id": "qdA5TlTetZjd",
        "colab": {
          "base_uri": "https://localhost:8080/"
        },
        "outputId": "107ec5b5-ea59-4fdd-d1dd-5fa841000543"
      },
      "outputs": [
        {
          "output_type": "stream",
          "name": "stdout",
          "text": [
            "False\n",
            "Front from empty stack\n",
            "None\n",
            "Queue is empty\n",
            "Front from empty stack\n",
            "None\n",
            "Queue is empty\n",
            "True\n"
          ]
        }
      ],
      "source": [
        "queue1 = MyQueue(capacity=5)\n",
        "\n",
        "queue1.enqueue(1)\n",
        "\n",
        "queue1.enqueue(2)\n",
        "\n",
        "print(queue1.is_full())\n",
        "\n",
        "print(queue1.front())\n",
        "\n",
        "print(queue1.dequeue())\n",
        "\n",
        "print(queue1.front())\n",
        "\n",
        "print(queue1.dequeue())\n",
        "\n",
        "print(queue1.is_empty())"
      ]
    },
    {
      "cell_type": "code",
      "execution_count": 25,
      "metadata": {
        "id": "Px5WMyWRtcnn",
        "colab": {
          "base_uri": "https://localhost:8080/"
        },
        "outputId": "88de4282-4f8e-40e8-e725-c1afbe72e0b6"
      },
      "outputs": [
        {
          "output_type": "stream",
          "name": "stdout",
          "text": [
            "Front from empty stack\n",
            "None\n",
            "False\n",
            "Queue is empty\n",
            "Queue is empty\n",
            "True\n"
          ]
        }
      ],
      "source": [
        "queue2 =  MyQueue(capacity=2)\n",
        "\n",
        "queue2.enqueue(1)\n",
        "\n",
        "queue2.enqueue(2)\n",
        "\n",
        "print(queue2.front())\n",
        "\n",
        "print(queue2.is_full())\n",
        "\n",
        "print(queue2.dequeue())\n",
        "\n",
        "print(queue2.dequeue())\n",
        "\n",
        "print(queue2.is_empty())"
      ]
    },
    {
      "cell_type": "code",
      "execution_count": 26,
      "metadata": {
        "id": "xjt3BGfmtfva",
        "colab": {
          "base_uri": "https://localhost:8080/"
        },
        "outputId": "f0567a66-6596-4bcb-8d7b-2a63dbd90e14"
      },
      "outputs": [
        {
          "output_type": "execute_result",
          "data": {
            "text/plain": [
              "OverflowError('Enqueue to a full queue')"
            ]
          },
          "metadata": {},
          "execution_count": 26
        }
      ],
      "source": [
        "queue1 = MyQueue(capacity=2)\n",
        "\n",
        "queue1.enqueue(1)\n",
        "\n",
        "queue1.enqueue(2)\n",
        "\n",
        "queue1.enqueue(2)"
      ]
    },
    {
      "cell_type": "code",
      "execution_count": null,
      "metadata": {
        "id": "m2edbu2GtkAE"
      },
      "outputs": [],
      "source": []
    },
    {
      "cell_type": "markdown",
      "metadata": {
        "id": "Ud9uPK0jhrqo"
      },
      "source": [
        "Multi choices questions"
      ]
    },
    {
      "cell_type": "code",
      "execution_count": null,
      "metadata": {
        "id": "irMd2vVkhrqp"
      },
      "outputs": [],
      "source": []
    }
  ],
  "metadata": {
    "colab": {
      "provenance": [],
      "include_colab_link": true
    },
    "kernelspec": {
      "display_name": "Python 3 (ipykernel)",
      "language": "python",
      "name": "python3"
    },
    "language_info": {
      "codemirror_mode": {
        "name": "ipython",
        "version": 3
      },
      "file_extension": ".py",
      "mimetype": "text/x-python",
      "name": "python",
      "nbconvert_exporter": "python",
      "pygments_lexer": "ipython3",
      "version": "3.9.18"
    }
  },
  "nbformat": 4,
  "nbformat_minor": 0
}