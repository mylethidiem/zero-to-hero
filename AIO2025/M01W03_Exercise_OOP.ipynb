{
  "cells": [
    {
      "cell_type": "markdown",
      "metadata": {
        "id": "view-in-github",
        "colab_type": "text"
      },
      "source": [
        "<a href=\"https://colab.research.google.com/github/mylethidiem/zero-to-hero/blob/main/AIO2025/M01W03_Exercise_OOP.ipynb\" target=\"_parent\"><img src=\"https://colab.research.google.com/assets/colab-badge.svg\" alt=\"Open In Colab\"/></a>"
      ]
    },
    {
      "cell_type": "markdown",
      "metadata": {
        "id": "HxNJolLNrXxQ"
      },
      "source": [
        "## **Exercise 1**"
      ]
    },
    {
      "cell_type": "code",
      "execution_count": null,
      "metadata": {
        "id": "mcbrmiJ7dYWm"
      },
      "outputs": [],
      "source": [
        "import torch\n",
        "import torch.nn as nn"
      ]
    },
    {
      "cell_type": "code",
      "execution_count": null,
      "metadata": {
        "id": "MO4pmW-LeuwB"
      },
      "outputs": [],
      "source": [
        "data = None\n",
        "data"
      ]
    },
    {
      "cell_type": "code",
      "execution_count": null,
      "metadata": {
        "id": "eqkJzp6Ee1Bq"
      },
      "outputs": [],
      "source": [
        "softmax_function = None\n",
        "output = None\n",
        "output"
      ]
    },
    {
      "cell_type": "markdown",
      "metadata": {
        "id": "RuS7me1uumJ3"
      },
      "source": [
        "## **Exercise 2, 3**"
      ]
    },
    {
      "cell_type": "code",
      "execution_count": null,
      "metadata": {
        "id": "grtnS8ljcsSp"
      },
      "outputs": [],
      "source": [
        "import torch.nn as nn\n",
        "\n",
        "class MySigmoid(nn.Module):\n",
        "    def __init__(self):\n",
        "        super().__init__()\n",
        "\n",
        "    def forward(self, x):\n",
        "        return 1 / (1 + torch.exp(-x))\n",
        "\n",
        "# Create an instance of the custom sigmoid class\n",
        "my_sigmoid = MySigmoid()"
      ]
    },
    {
      "cell_type": "code",
      "execution_count": null,
      "metadata": {
        "id": "6_M2zm0AqR3V",
        "colab": {
          "base_uri": "https://localhost:8080/"
        },
        "outputId": "694c0236-6e2a-4b35-d2c3-b8c68953f507"
      },
      "outputs": [
        {
          "output_type": "stream",
          "name": "stdout",
          "text": [
            "tensor([0.7311, 0.9933, 0.0180, 0.9526, 0.1192])\n"
          ]
        }
      ],
      "source": [
        "# input data\n",
        "x = torch.tensor([1, 5, -4, 3, -2])\n",
        "\n",
        "# sigmoid function\n",
        "output = my_sigmoid(x)\n",
        "print(output)"
      ]
    },
    {
      "cell_type": "markdown",
      "metadata": {
        "id": "0khMFbOGu8Jh"
      },
      "source": [
        "## **Exercise 4**"
      ]
    },
    {
      "cell_type": "code",
      "execution_count": null,
      "metadata": {
        "id": "-OfK_zdpqcgz",
        "colab": {
          "base_uri": "https://localhost:8080/"
        },
        "outputId": "a89935ef-288d-4b05-a06f-70f10f09df6b"
      },
      "outputs": [
        {
          "output_type": "execute_result",
          "data": {
            "text/plain": [
              "tensor([1.5862e-02, 8.6604e-01, 1.0688e-04, 1.1721e-01, 7.8972e-04])"
            ]
          },
          "metadata": {},
          "execution_count": 22
        }
      ],
      "source": [
        "import torch\n",
        "import torch.nn as nn\n",
        "\n",
        "class SoftmaxStable(nn.Module):\n",
        "    def __init__(self):\n",
        "        super().__init__()\n",
        "\n",
        "    def forward(self, x):\n",
        "        ### Your Code Here\n",
        "        max_val = torch.max(x, dim=-1, keepdim=True).values\n",
        "        numerator = torch.exp(x - max_val)\n",
        "        denominator = torch.sum(numerator, dim=-1, keepdim=True)\n",
        "        return numerator / denominator\n",
        "        ### End Code Here\n",
        "\n",
        "data = torch.Tensor([1, 5, -4, 3, -2])\n",
        "softmax_stable = SoftmaxStable()\n",
        "output = softmax_stable(data)\n",
        "output"
      ]
    },
    {
      "cell_type": "markdown",
      "metadata": {
        "id": "D6wYuHiUrbuq"
      },
      "source": [
        "## **Exercise 5, 6, 7**"
      ]
    },
    {
      "cell_type": "code",
      "execution_count": null,
      "metadata": {
        "id": "qNCP5hA9rTGN"
      },
      "outputs": [],
      "source": [
        "from abc import ABC, abstractmethod\n",
        "\n",
        "class Person(ABC):\n",
        "    def __init__(self, name:str, yob:int):\n",
        "        self._name = name\n",
        "        self._yob = yob\n",
        "\n",
        "    def get_yob(self):\n",
        "        return self._yob\n",
        "\n",
        "    @abstractmethod\n",
        "    def describe(self):\n",
        "        pass\n",
        "\n",
        "\n",
        "class Student(Person):\n",
        "    def __init__(self, name:str, yob:int, grade:str):\n",
        "        ### Your Code Here\n",
        "        super().__init__(name, yob)\n",
        "        self.grade = grade\n",
        "        ### End Code Here\n",
        "\n",
        "    def describe(self):\n",
        "        print(f\"Student name {self.name}, year of birth: {self.yob}\")\n",
        "\n",
        "\n",
        "class Teacher(Person):\n",
        "    def __init__(self, name:str, yob:int, subject:str):\n",
        "        ### Your Code Here\n",
        "        super().__init__(name, yob)\n",
        "        self.subject = subject\n",
        "        ### End Code Here\n",
        "\n",
        "    def describe(self):\n",
        "        return super().describe()\n",
        "\n",
        "class Doctor(Person):\n",
        "    def __init__(self, name:str, yob:int, specialist:str):\n",
        "        ### Your Code Here\n",
        "        super().__init__(name, yob)\n",
        "        self.specialist = specialist\n",
        "        ### End Code Here\n",
        "\n",
        "    def describe(self):\n",
        "        return super().describe()"
      ]
    },
    {
      "cell_type": "code",
      "execution_count": null,
      "metadata": {
        "id": "Foonrj1T9i2j"
      },
      "outputs": [],
      "source": [
        "student1 = Student()\n",
        "student1.describe()\n",
        "\n",
        "teacher1 = Teacher()\n",
        "teacher1.describe()\n",
        "\n",
        "doctor1 = Doctor()\n",
        "doctor1.describe()"
      ]
    },
    {
      "cell_type": "markdown",
      "metadata": {
        "id": "NieNw4D2v541"
      },
      "source": [
        "## **Exercise 8**"
      ]
    },
    {
      "cell_type": "code",
      "execution_count": null,
      "metadata": {
        "id": "bFJmOUXXsjxq"
      },
      "outputs": [],
      "source": [
        "class Ward:\n",
        "    def __init__(self, name:str):\n",
        "        self.__name = name\n",
        "        self.__list_people = list()\n",
        "\n",
        "    def add_person(self, person:Person):\n",
        "        self.__list_people.append(person)\n",
        "\n",
        "    def describe(self):\n",
        "        ### Your Code Here\n",
        "        for people in self.__list_people:\n",
        "          people.describe()\n",
        "        ### End Code Here\n",
        "\n",
        "    def count_doctor(self):\n",
        "        ### Your Code Here\n",
        "        num_doctor = 0\n",
        "        for people in self.__list_people:\n",
        "          if isinstance(people, Doctor):\n",
        "            num_doctor += 1\n",
        "        return num_doctor\n",
        "        ### End Code Here\n",
        "\n",
        "    def sort_age(self):\n",
        "        ### Your Code Here\n",
        "        for i in range(len(self.__list_people) - 1):\n",
        "          if self.__list_people[i] < self.__list_people[i + 1]:\n",
        "            self.__list_people[i], self.__list_people[i + 1] =  self.__list_people[i + 1], self.__list_people[i]\n",
        "        ### End Code Here\n",
        "\n",
        "    def compute_average(self):\n",
        "        ### Your Code Here\n",
        "\n",
        "        ### End Code Here"
      ]
    },
    {
      "cell_type": "code",
      "execution_count": null,
      "metadata": {
        "id": "l-b-8UqiszAJ"
      },
      "outputs": [],
      "source": [
        "student1 = Student(name=\"studentA\", yob=2010, grade=\"7\")\n",
        "student1.describe()\n",
        "\n",
        "teacher1 = Teacher(name=\"teacherA\", yob=1969, subject=\"Math\")\n",
        "teacher1.describe()\n",
        "\n",
        "doctor1 = Doctor(name=\"doctorA\", yob=1945, specialist=\"Endocrinologists\")\n",
        "doctor1.describe()\n",
        "\n",
        "\n",
        "print()\n",
        "teacher2 = Teacher(name=\"teacherB\", yob=1995, subject=\"History\")\n",
        "doctor2 = Doctor(name=\"doctorB\", yob=1975, specialist=\"Cardiologists\")\n",
        "ward1 = Ward(name=\"Ward1\")\n",
        "ward1.add_person(student1)\n",
        "ward1.add_person(teacher1)\n",
        "ward1.add_person(teacher2)\n",
        "ward1.add_person(doctor1)\n",
        "ward1.add_person(doctor2)\n",
        "ward1.describe()\n",
        "\n",
        "# 2(c)\n",
        "print(f\"\\nNumber of doctors: {ward1.count_doctor()}\")\n",
        "\n",
        "# 2(d)\n",
        "print(\"\\nAfter sorting Age of Ward1 people\")\n",
        "ward1.sort_age()\n",
        "ward1.describe()\n",
        "\n",
        "# 2(e)\n",
        "print(f\"\\nAverage year of birth (teachers): {ward1.compute_average()}\")"
      ]
    },
    {
      "cell_type": "markdown",
      "metadata": {
        "id": "kbwBOuG5WNx1"
      },
      "source": [
        "## **Exercise 9**"
      ]
    },
    {
      "cell_type": "code",
      "execution_count": null,
      "metadata": {
        "id": "POIazw1ns_Rw"
      },
      "outputs": [],
      "source": [
        "class MyStack:\n",
        "    def __init__(self, capacity):\n",
        "        self.__capacity = capacity\n",
        "        self.__stack = []\n",
        "\n",
        "    def is_empty(self):\n",
        "        ### Your Code Here\n",
        "\n",
        "        ### End Code Here\n",
        "\n",
        "    def is_full(self):\n",
        "        ### Your Code Here\n",
        "\n",
        "        ### End Code Here\n",
        "\n",
        "    def pop(self):\n",
        "        ### Your Code Here\n",
        "\n",
        "        ### End Code Here\n",
        "\n",
        "    def push(self, value):\n",
        "        ### Your Code Here\n",
        "\n",
        "        ### End Code Here\n",
        "\n",
        "    def top(self):\n",
        "        ### Your Code Here\n",
        "\n",
        "        ### End Code Here"
      ]
    },
    {
      "cell_type": "code",
      "execution_count": null,
      "metadata": {
        "id": "EWKe7COttJuJ"
      },
      "outputs": [],
      "source": [
        "stack1 = MyStack(capacity=5)\n",
        "\n",
        "stack1.push(1)\n",
        "\n",
        "stack1.push(2)\n",
        "\n",
        "print(stack1.is_full())\n",
        "\n",
        "print(stack1.top())\n",
        "\n",
        "print(stack1.pop())\n",
        "\n",
        "print(stack1.top())\n",
        "\n",
        "print(stack1.pop())\n",
        "\n",
        "print(stack1.is_empty())"
      ]
    },
    {
      "cell_type": "code",
      "execution_count": null,
      "metadata": {
        "id": "oxCM7bM1tPUl"
      },
      "outputs": [],
      "source": [
        "stack2 = MyStack(capacity=2)\n",
        "\n",
        "stack2.push(1)\n",
        "\n",
        "stack2.push(2)\n",
        "\n",
        "print(stack2.top())\n",
        "\n",
        "print(stack2.is_full())\n",
        "\n",
        "print(stack2.pop())\n",
        "\n",
        "print(stack2.pop())\n",
        "\n",
        "print(stack2.is_empty())\n",
        "\n",
        "print(stack2.pop())"
      ]
    },
    {
      "cell_type": "markdown",
      "metadata": {
        "id": "SuLQe7sNWTAp"
      },
      "source": [
        "## **Exercise 10**"
      ]
    },
    {
      "cell_type": "code",
      "execution_count": null,
      "metadata": {
        "id": "mtRK-r8JtWm8"
      },
      "outputs": [],
      "source": [
        "class MyQueue:\n",
        "    def __init__(self, capacity):\n",
        "        self.__capacity = capacity\n",
        "        self.__queue = []\n",
        "\n",
        "    def is_empty(self):\n",
        "        ### Your Code Here\n",
        "\n",
        "        ### End Code Here\n",
        "\n",
        "    def is_full(self):\n",
        "        ### Your Code Here\n",
        "\n",
        "        ### End Code Here\n",
        "\n",
        "    def dequeue(self):\n",
        "        ### Your Code Here\n",
        "\n",
        "        ### End Code Here\n",
        "\n",
        "    def enqueue(self, value):\n",
        "        ### Your Code Here\n",
        "\n",
        "        ### End Code Here\n",
        "\n",
        "    def front(self):\n",
        "        ### Your Code Here\n",
        "\n",
        "        ### End Code Here"
      ]
    },
    {
      "cell_type": "code",
      "execution_count": null,
      "metadata": {
        "id": "qdA5TlTetZjd"
      },
      "outputs": [],
      "source": [
        "queue1 = MyQueue(capacity=5)\n",
        "\n",
        "queue1.enqueue(1)\n",
        "\n",
        "queue1.enqueue(2)\n",
        "\n",
        "print(queue1.is_full())\n",
        "\n",
        "print(queue1.front())\n",
        "\n",
        "print(queue1.dequeue())\n",
        "\n",
        "print(queue1.front())\n",
        "\n",
        "print(queue1.dequeue())\n",
        "\n",
        "print(queue1.is_empty())"
      ]
    },
    {
      "cell_type": "code",
      "execution_count": null,
      "metadata": {
        "id": "Px5WMyWRtcnn"
      },
      "outputs": [],
      "source": [
        "queue2 =  MyQueue(capacity=2)\n",
        "\n",
        "queue2.enqueue(1)\n",
        "\n",
        "queue2.enqueue(2)\n",
        "\n",
        "print(queue2.front())\n",
        "\n",
        "print(queue2.is_full())\n",
        "\n",
        "print(queue2.dequeue())\n",
        "\n",
        "print(queue2.dequeue())\n",
        "\n",
        "print(queue2.is_empty())"
      ]
    },
    {
      "cell_type": "code",
      "execution_count": null,
      "metadata": {
        "id": "xjt3BGfmtfva"
      },
      "outputs": [],
      "source": [
        "queue1 = MyQueue(capacity=2)\n",
        "\n",
        "queue1.enqueue(1)\n",
        "\n",
        "queue1.enqueue(2)\n",
        "\n",
        "queue1.enqueue(2)"
      ]
    },
    {
      "cell_type": "code",
      "execution_count": null,
      "metadata": {
        "id": "m2edbu2GtkAE"
      },
      "outputs": [],
      "source": []
    },
    {
      "cell_type": "markdown",
      "metadata": {
        "id": "Ud9uPK0jhrqo"
      },
      "source": [
        "Multi choices questions"
      ]
    },
    {
      "cell_type": "code",
      "execution_count": null,
      "metadata": {
        "id": "irMd2vVkhrqp"
      },
      "outputs": [],
      "source": []
    }
  ],
  "metadata": {
    "colab": {
      "provenance": [],
      "include_colab_link": true
    },
    "kernelspec": {
      "display_name": "Python 3 (ipykernel)",
      "language": "python",
      "name": "python3"
    },
    "language_info": {
      "codemirror_mode": {
        "name": "ipython",
        "version": 3
      },
      "file_extension": ".py",
      "mimetype": "text/x-python",
      "name": "python",
      "nbconvert_exporter": "python",
      "pygments_lexer": "ipython3",
      "version": "3.9.18"
    }
  },
  "nbformat": 4,
  "nbformat_minor": 0
}