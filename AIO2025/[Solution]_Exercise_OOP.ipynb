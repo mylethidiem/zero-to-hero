{
  "cells": [
    {
      "cell_type": "markdown",
      "metadata": {
        "id": "RmG4xsfGV9E1"
      },
      "source": [
        "##**Review**"
      ]
    },
    {
      "cell_type": "code",
      "execution_count": 1,
      "metadata": {
        "id": "BkhdDdWc2luu"
      },
      "outputs": [],
      "source": [
        "class Dog:\n",
        "    def __init__(self, name, size, age, color):\n",
        "        self.name = name\n",
        "        self.size = size\n",
        "        self.age = age\n",
        "        self.color = color\n",
        "\n",
        "    def eat(self):\n",
        "        if self.age <= 1:\n",
        "            return 'Chicken'\n",
        "        else:\n",
        "            return 'Fish'"
      ]
    },
    {
      "cell_type": "code",
      "execution_count": 7,
      "metadata": {
        "colab": {
          "base_uri": "https://localhost:8080/",
          "height": 211
        },
        "id": "EBgTtdEU6wcz",
        "outputId": "52b0789d-adbc-41d2-9e57-e4af12ff27c3"
      },
      "outputs": [
        {
          "output_type": "stream",
          "name": "stdout",
          "text": [
            "Chow Chow\n",
            "Small\n"
          ]
        },
        {
          "output_type": "error",
          "ename": "AttributeError",
          "evalue": "'Dog' object has no attribute '__age'",
          "traceback": [
            "\u001b[0;31m---------------------------------------------------------------------------\u001b[0m",
            "\u001b[0;31mAttributeError\u001b[0m                            Traceback (most recent call last)",
            "\u001b[0;32m/tmp/ipython-input-7-4175742161.py\u001b[0m in \u001b[0;36m<cell line: 0>\u001b[0;34m()\u001b[0m\n\u001b[1;32m      8\u001b[0m \u001b[0mprint\u001b[0m\u001b[0;34m(\u001b[0m\u001b[0mdog_1\u001b[0m\u001b[0;34m.\u001b[0m\u001b[0mname\u001b[0m\u001b[0;34m)\u001b[0m\u001b[0;34m\u001b[0m\u001b[0;34m\u001b[0m\u001b[0m\n\u001b[1;32m      9\u001b[0m \u001b[0mprint\u001b[0m\u001b[0;34m(\u001b[0m\u001b[0mdog_1\u001b[0m\u001b[0;34m.\u001b[0m\u001b[0m_size\u001b[0m\u001b[0;34m)\u001b[0m\u001b[0;34m\u001b[0m\u001b[0;34m\u001b[0m\u001b[0m\n\u001b[0;32m---> 10\u001b[0;31m \u001b[0mprint\u001b[0m\u001b[0;34m(\u001b[0m\u001b[0mdog_1\u001b[0m\u001b[0;34m.\u001b[0m\u001b[0m__age\u001b[0m\u001b[0;34m)\u001b[0m\u001b[0;34m\u001b[0m\u001b[0;34m\u001b[0m\u001b[0m\n\u001b[0m",
            "\u001b[0;31mAttributeError\u001b[0m: 'Dog' object has no attribute '__age'"
          ]
        }
      ],
      "source": [
        "class Dog:\n",
        "    def __init__(self, name, size, age):\n",
        "        self.name = name\n",
        "        self._size = size # protected\n",
        "        self.__age = age # private\n",
        "\n",
        "dog_1 = Dog('Chow Chow', 'Small', 2)\n",
        "print(dog_1.name)\n",
        "print(dog_1._size)\n",
        "print(dog_1.__age) # so cannot call outside"
      ]
    },
    {
      "cell_type": "code",
      "execution_count": 8,
      "metadata": {
        "colab": {
          "base_uri": "https://localhost:8080/"
        },
        "id": "RTXegC1x2pW-",
        "outputId": "ffd26938-9f65-4f77-977b-3ce2a0c898d0"
      },
      "outputs": [
        {
          "output_type": "stream",
          "name": "stdout",
          "text": [
            "Chow Chow\n",
            "Chaw Chaw\n"
          ]
        }
      ],
      "source": [
        "class Dog:\n",
        "    def __init__(self, name):\n",
        "        self.__name = name\n",
        "\n",
        "    def get_name(self):\n",
        "        return self.__name\n",
        "\n",
        "    def set_name(self, name):\n",
        "        self.__name = name\n",
        "\n",
        "dog_1 = Dog('Chow Chow')\n",
        "print(dog_1.get_name())\n",
        "dog_1.set_name('Chaw Chaw')\n",
        "print(dog_1.get_name())"
      ]
    },
    {
      "cell_type": "code",
      "execution_count": 9,
      "metadata": {
        "colab": {
          "base_uri": "https://localhost:8080/"
        },
        "id": "nfeTVjFk2pUl",
        "outputId": "5867a785-a97f-4f2e-f23a-020d4b2eb46f"
      },
      "outputs": [
        {
          "output_type": "stream",
          "name": "stdout",
          "text": [
            "25\n"
          ]
        }
      ],
      "source": [
        "from abc import ABC, abstractmethod\n",
        "\n",
        "class Shape(ABC):\n",
        "    @abstractmethod\n",
        "    def compute_area(self):\n",
        "        pass\n",
        "\n",
        "class Square(Shape):\n",
        "    def __init__(self, side):\n",
        "        self.__side = side\n",
        "\n",
        "    def compute_area(self):\n",
        "        return self.__side*self.__side\n",
        "\n",
        "square = Square(5)\n",
        "print(square.compute_area())"
      ]
    },
    {
      "cell_type": "code",
      "execution_count": 10,
      "metadata": {
        "id": "rT4lI-DVRJBy"
      },
      "outputs": [],
      "source": [
        "class Employee:\n",
        "    def __init__(self, name, salary):\n",
        "        self._name = name\n",
        "        self._salary = salary\n",
        "\n",
        "    def compute_salary(self):\n",
        "        return self._salary\n",
        "\n",
        "class Manager(Employee):\n",
        "    def __init__(self, name, salary, bonus):\n",
        "        self._name = name\n",
        "        self._salary = salary\n",
        "        self.__bonus = bonus\n",
        "\n",
        "    def compute_salary(self):\n",
        "        return super().compute_salary() + self.__bonus"
      ]
    },
    {
      "cell_type": "code",
      "execution_count": 11,
      "metadata": {
        "colab": {
          "base_uri": "https://localhost:8080/"
        },
        "id": "MsZAaR7iSCPk",
        "outputId": "3f40f478-cf58-469f-f5eb-60db0ee7638b"
      },
      "outputs": [
        {
          "output_type": "stream",
          "name": "stdout",
          "text": [
            "150\n"
          ]
        }
      ],
      "source": [
        "mai = Manager('Mai', 100, 50)\n",
        "salary = mai.compute_salary()\n",
        "print(salary)"
      ]
    },
    {
      "cell_type": "code",
      "execution_count": 12,
      "metadata": {
        "colab": {
          "base_uri": "https://localhost:8080/"
        },
        "id": "tg6pPSt5X5BM",
        "outputId": "d5578c4f-a4f1-416f-8176-ddc9359b5267"
      },
      "outputs": [
        {
          "output_type": "stream",
          "name": "stdout",
          "text": [
            "9\n"
          ]
        }
      ],
      "source": [
        "class A:\n",
        "    def __init__(self, num):\n",
        "        self.num = num\n",
        "\n",
        "    def show(self):\n",
        "        print(self.num)\n",
        "\n",
        "class B(A):\n",
        "    def show(self):\n",
        "        print(self.num*self.num)\n",
        "\n",
        "ins_B = B(3)\n",
        "ins_B.show()"
      ]
    },
    {
      "cell_type": "markdown",
      "metadata": {
        "id": "HxNJolLNrXxQ"
      },
      "source": [
        "#**Exercise 1**"
      ]
    },
    {
      "cell_type": "code",
      "execution_count": 13,
      "metadata": {
        "id": "mcbrmiJ7dYWm",
        "colab": {
          "base_uri": "https://localhost:8080/"
        },
        "outputId": "dfb00070-ce1a-4ae1-e481-79fcaf07cab3"
      },
      "outputs": [
        {
          "output_type": "stream",
          "name": "stdout",
          "text": [
            "tensor([0.7311, 0.9933, 0.0180, 0.9526, 0.1192])\n"
          ]
        }
      ],
      "source": [
        "import torch\n",
        "\n",
        "# input data\n",
        "x = torch.tensor([1, 5, -4, 3, -2])\n",
        "\n",
        "# sigmoid function\n",
        "output = torch.sigmoid(x)\n",
        "print(output)"
      ]
    },
    {
      "cell_type": "code",
      "execution_count": 14,
      "metadata": {
        "colab": {
          "base_uri": "https://localhost:8080/"
        },
        "id": "grtnS8ljcsSp",
        "outputId": "cd18a556-6f56-4a94-abc9-75be054cbb4d"
      },
      "outputs": [
        {
          "output_type": "stream",
          "name": "stdout",
          "text": [
            "tensor([0.7311, 0.9933, 0.0180, 0.9526, 0.1192])\n"
          ]
        }
      ],
      "source": [
        "import torch.nn as nn\n",
        "\n",
        "class MySigmoid(nn.Module):\n",
        "    def __init__(self):\n",
        "        super().__init__()\n",
        "\n",
        "    def forward(self, x):\n",
        "        return 1 / (1 + torch.exp(-x))\n",
        "\n",
        "# Create an instance of the custom sigmoid class\n",
        "my_sigmoid = MySigmoid()\n",
        "\n",
        "# input data\n",
        "x = torch.tensor([1, 5, -4, 3, -2])\n",
        "\n",
        "# sigmoid function\n",
        "output = my_sigmoid(x)\n",
        "print(output)"
      ]
    },
    {
      "cell_type": "markdown",
      "metadata": {
        "id": "D6wYuHiUrbuq"
      },
      "source": [
        "#**Exercise 2**"
      ]
    },
    {
      "cell_type": "code",
      "execution_count": 15,
      "metadata": {
        "id": "qNCP5hA9rTGN"
      },
      "outputs": [],
      "source": [
        "from abc import ABC, abstractmethod\n",
        "\n",
        "class Person(ABC):\n",
        "    def __init__(self, name:str, yob:int):\n",
        "        self._name = name\n",
        "        self._yob = yob\n",
        "\n",
        "    def get_yob(self):\n",
        "        return self._yob\n",
        "\n",
        "    @abstractmethod\n",
        "    def describe(self):\n",
        "        pass\n",
        "\n",
        "\n",
        "class Student(Person):\n",
        "    def __init__(self, name:str, yob:int, grade:str):\n",
        "        super().__init__(name=name, yob=yob)\n",
        "        self.__grade = grade\n",
        "\n",
        "    def describe(self):\n",
        "        print(f\"Student - Name: {self._name} - YoB: {self._yob} - Grade: {self.__grade}\")\n",
        "\n",
        "\n",
        "class Teacher(Person):\n",
        "    def __init__(self, name:str, yob:int, subject:str):\n",
        "        super().__init__(name=name, yob=yob)\n",
        "        self.__subject = subject\n",
        "\n",
        "    def describe(self):\n",
        "        print(f\"Teacher - Name: {self._name} - YoB: {self._yob} - Subject: {self.__subject}\")\n",
        "\n",
        "\n",
        "class Doctor(Person):\n",
        "    def __init__(self, name:str, yob:int, specialist:str):\n",
        "        super().__init__(name=name, yob=yob)\n",
        "        self.__specialist = specialist\n",
        "\n",
        "    def describe(self):\n",
        "        print(f\"Doctor - Name: {self._name} - YoB: {self._yob} - Specialist: {self.__specialist}\")"
      ]
    },
    {
      "cell_type": "code",
      "execution_count": 16,
      "metadata": {
        "colab": {
          "base_uri": "https://localhost:8080/"
        },
        "id": "Foonrj1T9i2j",
        "outputId": "d84bb7a1-c235-4d26-b3a5-18a961fb0d5a"
      },
      "outputs": [
        {
          "output_type": "stream",
          "name": "stdout",
          "text": [
            "Student - Name: studentA - YoB: 2010 - Grade: 7\n",
            "Teacher - Name: teacherA - YoB: 1969 - Subject: Math\n",
            "Doctor - Name: doctorA - YoB: 1945 - Specialist: Endocrinologists\n"
          ]
        }
      ],
      "source": [
        "student1 = Student(name=\"studentA\", yob=2010, grade=\"7\")\n",
        "student1.describe()\n",
        "\n",
        "teacher1 = Teacher(name=\"teacherA\", yob=1969, subject=\"Math\")\n",
        "teacher1.describe()\n",
        "\n",
        "doctor1 = Doctor(name=\"doctorA\", yob=1945, specialist=\"Endocrinologists\")\n",
        "doctor1.describe()"
      ]
    },
    {
      "cell_type": "code",
      "execution_count": 17,
      "metadata": {
        "id": "bFJmOUXXsjxq"
      },
      "outputs": [],
      "source": [
        "class Ward:\n",
        "    def __init__(self, name:str):\n",
        "        self.__name = name\n",
        "        self.__list_people = list()\n",
        "\n",
        "    def add_person(self, person:Person):\n",
        "        self.__list_people.append(person)\n",
        "\n",
        "    def describe(self):\n",
        "        print(f\"Ward Name: {self.__name}\")\n",
        "        for p in self.__list_people:\n",
        "            p.describe()\n",
        "\n",
        "    def count_doctor(self):\n",
        "        counter = 0\n",
        "        for p in self.__list_people:\n",
        "            if isinstance(p, Doctor): #if type(p) is Doctor:\n",
        "                counter += 1\n",
        "        return counter\n",
        "\n",
        "    def sort_age(self):\n",
        "        self.__list_people.sort(key=lambda x: x.get_yob(), reverse=True)\n",
        "\n",
        "    def compute_average(self):\n",
        "        counter = 0\n",
        "        total_year = 0\n",
        "        for p in self.__list_people:\n",
        "            if isinstance(p, Teacher): #if type(p) is Teacher:\n",
        "                counter += 1\n",
        "                total_year += p.get_yob()\n",
        "        return total_year/counter"
      ]
    },
    {
      "cell_type": "code",
      "execution_count": 18,
      "metadata": {
        "colab": {
          "base_uri": "https://localhost:8080/"
        },
        "id": "l-b-8UqiszAJ",
        "outputId": "0bc21d8b-575a-4e24-e190-d063747bef4a"
      },
      "outputs": [
        {
          "output_type": "stream",
          "name": "stdout",
          "text": [
            "Student - Name: studentA - YoB: 2010 - Grade: 7\n",
            "Teacher - Name: teacherA - YoB: 1969 - Subject: Math\n",
            "Doctor - Name: doctorA - YoB: 1945 - Specialist: Endocrinologists\n",
            "\n",
            "Ward Name: Ward1\n",
            "Student - Name: studentA - YoB: 2010 - Grade: 7\n",
            "Teacher - Name: teacherA - YoB: 1969 - Subject: Math\n",
            "Teacher - Name: teacherB - YoB: 1995 - Subject: History\n",
            "Doctor - Name: doctorA - YoB: 1945 - Specialist: Endocrinologists\n",
            "Doctor - Name: doctorB - YoB: 1975 - Specialist: Cardiologists\n",
            "\n",
            "Number of doctors: 2\n",
            "\n",
            "After sorting Age of Ward1 people\n",
            "Ward Name: Ward1\n",
            "Student - Name: studentA - YoB: 2010 - Grade: 7\n",
            "Teacher - Name: teacherB - YoB: 1995 - Subject: History\n",
            "Doctor - Name: doctorB - YoB: 1975 - Specialist: Cardiologists\n",
            "Teacher - Name: teacherA - YoB: 1969 - Subject: Math\n",
            "Doctor - Name: doctorA - YoB: 1945 - Specialist: Endocrinologists\n",
            "\n",
            "Average year of birth (teachers): 1982.0\n"
          ]
        }
      ],
      "source": [
        "# 2(a)\n",
        "student1 = Student(name=\"studentA\", yob=2010, grade=\"7\")\n",
        "student1.describe()\n",
        "\n",
        "teacher1 = Teacher(name=\"teacherA\", yob=1969, subject=\"Math\")\n",
        "teacher1.describe()\n",
        "\n",
        "doctor1 = Doctor(name=\"doctorA\", yob=1945, specialist=\"Endocrinologists\")\n",
        "doctor1.describe()\n",
        "\n",
        "\n",
        "# 2(b)\n",
        "print()\n",
        "teacher2 = Teacher(name=\"teacherB\", yob=1995, subject=\"History\")\n",
        "doctor2 = Doctor(name=\"doctorB\", yob=1975, specialist=\"Cardiologists\")\n",
        "ward1 = Ward(name=\"Ward1\")\n",
        "ward1.add_person(student1)\n",
        "ward1.add_person(teacher1)\n",
        "ward1.add_person(teacher2)\n",
        "ward1.add_person(doctor1)\n",
        "ward1.add_person(doctor2)\n",
        "ward1.describe()\n",
        "\n",
        "# 2(c)\n",
        "print(f\"\\nNumber of doctors: {ward1.count_doctor()}\")\n",
        "\n",
        "# 2(d)\n",
        "print(\"\\nAfter sorting Age of Ward1 people\")\n",
        "ward1.sort_age()\n",
        "ward1.describe()\n",
        "\n",
        "# 2(e)\n",
        "print(f\"\\nAverage year of birth (teachers): {ward1.compute_average()}\")"
      ]
    },
    {
      "cell_type": "markdown",
      "metadata": {
        "id": "kbwBOuG5WNx1"
      },
      "source": [
        "#**Exercise 3**"
      ]
    },
    {
      "cell_type": "code",
      "execution_count": 19,
      "metadata": {
        "id": "POIazw1ns_Rw"
      },
      "outputs": [],
      "source": [
        "class MyStack:\n",
        "    def __init__(self, capacity):\n",
        "        self.__capacity = capacity\n",
        "        self.__stack = []\n",
        "\n",
        "    def is_empty(self):\n",
        "        return len(self.__stack) == 0\n",
        "\n",
        "    def is_full(self):\n",
        "        return len(self.__stack) == self.__capacity\n",
        "\n",
        "    def pop(self):\n",
        "        if self.is_empty():\n",
        "            raise Exception(\"Underflow\")\n",
        "        return self.__stack.pop()\n",
        "\n",
        "    def push(self, value):\n",
        "        if self.is_full():\n",
        "            raise Exception(\"Overflow\")\n",
        "\n",
        "        self.__stack.append(value)\n",
        "\n",
        "    def top(self):\n",
        "        if self.is_empty():\n",
        "            print(\"Queue is empty\")\n",
        "            return\n",
        "        return self.__stack[-1]"
      ]
    },
    {
      "cell_type": "code",
      "execution_count": 20,
      "metadata": {
        "colab": {
          "base_uri": "https://localhost:8080/"
        },
        "id": "EWKe7COttJuJ",
        "outputId": "dd3d2544-b2b6-4c26-ea0a-6a8e45a5692a"
      },
      "outputs": [
        {
          "output_type": "stream",
          "name": "stdout",
          "text": [
            "False\n",
            "2\n",
            "2\n",
            "1\n",
            "1\n",
            "True\n"
          ]
        }
      ],
      "source": [
        "stack1 = MyStack(capacity=5)\n",
        "\n",
        "stack1.push(1)\n",
        "\n",
        "stack1.push(2)\n",
        "\n",
        "print(stack1.is_full())\n",
        "\n",
        "print(stack1.top())\n",
        "\n",
        "print(stack1.pop())\n",
        "\n",
        "print(stack1.top())\n",
        "\n",
        "print(stack1.pop())\n",
        "\n",
        "print(stack1.is_empty())"
      ]
    },
    {
      "cell_type": "code",
      "execution_count": 21,
      "metadata": {
        "colab": {
          "base_uri": "https://localhost:8080/",
          "height": 384
        },
        "id": "oxCM7bM1tPUl",
        "outputId": "3630fd3b-ed61-4422-a90b-fd5aa69ebe71"
      },
      "outputs": [
        {
          "output_type": "stream",
          "name": "stdout",
          "text": [
            "2\n",
            "True\n",
            "2\n",
            "1\n",
            "True\n"
          ]
        },
        {
          "output_type": "error",
          "ename": "Exception",
          "evalue": "Underflow",
          "traceback": [
            "\u001b[0;31m---------------------------------------------------------------------------\u001b[0m",
            "\u001b[0;31mException\u001b[0m                                 Traceback (most recent call last)",
            "\u001b[0;32m/tmp/ipython-input-21-473620388.py\u001b[0m in \u001b[0;36m<cell line: 0>\u001b[0;34m()\u001b[0m\n\u001b[1;32m     15\u001b[0m \u001b[0mprint\u001b[0m\u001b[0;34m(\u001b[0m\u001b[0mstack2\u001b[0m\u001b[0;34m.\u001b[0m\u001b[0mis_empty\u001b[0m\u001b[0;34m(\u001b[0m\u001b[0;34m)\u001b[0m\u001b[0;34m)\u001b[0m\u001b[0;34m\u001b[0m\u001b[0;34m\u001b[0m\u001b[0m\n\u001b[1;32m     16\u001b[0m \u001b[0;34m\u001b[0m\u001b[0m\n\u001b[0;32m---> 17\u001b[0;31m \u001b[0mprint\u001b[0m\u001b[0;34m(\u001b[0m\u001b[0mstack2\u001b[0m\u001b[0;34m.\u001b[0m\u001b[0mpop\u001b[0m\u001b[0;34m(\u001b[0m\u001b[0;34m)\u001b[0m\u001b[0;34m)\u001b[0m\u001b[0;34m\u001b[0m\u001b[0;34m\u001b[0m\u001b[0m\n\u001b[0m",
            "\u001b[0;32m/tmp/ipython-input-19-3154001584.py\u001b[0m in \u001b[0;36mpop\u001b[0;34m(self)\u001b[0m\n\u001b[1;32m     12\u001b[0m     \u001b[0;32mdef\u001b[0m \u001b[0mpop\u001b[0m\u001b[0;34m(\u001b[0m\u001b[0mself\u001b[0m\u001b[0;34m)\u001b[0m\u001b[0;34m:\u001b[0m\u001b[0;34m\u001b[0m\u001b[0;34m\u001b[0m\u001b[0m\n\u001b[1;32m     13\u001b[0m         \u001b[0;32mif\u001b[0m \u001b[0mself\u001b[0m\u001b[0;34m.\u001b[0m\u001b[0mis_empty\u001b[0m\u001b[0;34m(\u001b[0m\u001b[0;34m)\u001b[0m\u001b[0;34m:\u001b[0m\u001b[0;34m\u001b[0m\u001b[0;34m\u001b[0m\u001b[0m\n\u001b[0;32m---> 14\u001b[0;31m             \u001b[0;32mraise\u001b[0m \u001b[0mException\u001b[0m\u001b[0;34m(\u001b[0m\u001b[0;34m\"Underflow\"\u001b[0m\u001b[0;34m)\u001b[0m\u001b[0;34m\u001b[0m\u001b[0;34m\u001b[0m\u001b[0m\n\u001b[0m\u001b[1;32m     15\u001b[0m         \u001b[0;32mreturn\u001b[0m \u001b[0mself\u001b[0m\u001b[0;34m.\u001b[0m\u001b[0m__stack\u001b[0m\u001b[0;34m.\u001b[0m\u001b[0mpop\u001b[0m\u001b[0;34m(\u001b[0m\u001b[0;34m)\u001b[0m\u001b[0;34m\u001b[0m\u001b[0;34m\u001b[0m\u001b[0m\n\u001b[1;32m     16\u001b[0m \u001b[0;34m\u001b[0m\u001b[0m\n",
            "\u001b[0;31mException\u001b[0m: Underflow"
          ]
        }
      ],
      "source": [
        "stack2 = MyStack(capacity=2)\n",
        "\n",
        "stack2.push(1)\n",
        "\n",
        "stack2.push(2)\n",
        "\n",
        "print(stack2.top())\n",
        "\n",
        "print(stack2.is_full())\n",
        "\n",
        "print(stack2.pop())\n",
        "\n",
        "print(stack2.pop())\n",
        "\n",
        "print(stack2.is_empty())\n",
        "\n",
        "print(stack2.pop())"
      ]
    },
    {
      "cell_type": "markdown",
      "metadata": {
        "id": "SuLQe7sNWTAp"
      },
      "source": [
        "#**Exercise 4**"
      ]
    },
    {
      "cell_type": "code",
      "execution_count": 22,
      "metadata": {
        "id": "mtRK-r8JtWm8"
      },
      "outputs": [],
      "source": [
        "class MyQueue:\n",
        "    def __init__(self, capacity):\n",
        "        self.__capacity = capacity\n",
        "        self.__queue = []\n",
        "\n",
        "    def is_empty(self):\n",
        "        return len(self.__queue) == 0\n",
        "\n",
        "    def is_full(self):\n",
        "        return len(self.__queue) == self.__capacity\n",
        "\n",
        "    def dequeue(self):\n",
        "        if self.is_empty():\n",
        "            raise Exception(\"Underflow\")\n",
        "        return self.__queue.pop(0)\n",
        "\n",
        "    def enqueue(self, value):\n",
        "        if self.is_full():\n",
        "            raise Exception(\"Overflow\")\n",
        "        self.__queue.append(value)\n",
        "\n",
        "    def front(self):\n",
        "        if self.is_empty():\n",
        "            print(\"Queue is empty\")\n",
        "            return\n",
        "        return self.__queue[0]"
      ]
    },
    {
      "cell_type": "code",
      "execution_count": 23,
      "metadata": {
        "colab": {
          "base_uri": "https://localhost:8080/"
        },
        "id": "qdA5TlTetZjd",
        "outputId": "4850f850-31de-4ae7-800d-5168cd5a7057"
      },
      "outputs": [
        {
          "output_type": "stream",
          "name": "stdout",
          "text": [
            "False\n",
            "1\n",
            "1\n",
            "2\n",
            "2\n",
            "True\n"
          ]
        }
      ],
      "source": [
        "queue1 = MyQueue(capacity=5)\n",
        "\n",
        "queue1.enqueue(1)\n",
        "\n",
        "queue1.enqueue(2)\n",
        "\n",
        "print(queue1.is_full())\n",
        "\n",
        "print(queue1.front())\n",
        "\n",
        "print(queue1.dequeue())\n",
        "\n",
        "print(queue1.front())\n",
        "\n",
        "print(queue1.dequeue())\n",
        "\n",
        "print(queue1.is_empty())"
      ]
    },
    {
      "cell_type": "code",
      "execution_count": 24,
      "metadata": {
        "colab": {
          "base_uri": "https://localhost:8080/"
        },
        "id": "Px5WMyWRtcnn",
        "outputId": "dcfd8ad2-3664-41ff-e008-6e386f52dc5e"
      },
      "outputs": [
        {
          "output_type": "stream",
          "name": "stdout",
          "text": [
            "1\n",
            "True\n",
            "1\n",
            "2\n",
            "True\n"
          ]
        }
      ],
      "source": [
        "queue2 =  MyQueue(capacity=2)\n",
        "\n",
        "queue2.enqueue(1)\n",
        "\n",
        "queue2.enqueue(2)\n",
        "\n",
        "print(queue2.front())\n",
        "\n",
        "print(queue2.is_full())\n",
        "\n",
        "print(queue2.dequeue())\n",
        "\n",
        "print(queue2.dequeue())\n",
        "\n",
        "print(queue2.is_empty())"
      ]
    },
    {
      "cell_type": "code",
      "execution_count": 25,
      "metadata": {
        "colab": {
          "base_uri": "https://localhost:8080/",
          "height": 297
        },
        "id": "xjt3BGfmtfva",
        "outputId": "8dd7cec2-d614-4162-9a37-b5c6474d2987"
      },
      "outputs": [
        {
          "output_type": "error",
          "ename": "Exception",
          "evalue": "Overflow",
          "traceback": [
            "\u001b[0;31m---------------------------------------------------------------------------\u001b[0m",
            "\u001b[0;31mException\u001b[0m                                 Traceback (most recent call last)",
            "\u001b[0;32m/tmp/ipython-input-25-4286119820.py\u001b[0m in \u001b[0;36m<cell line: 0>\u001b[0;34m()\u001b[0m\n\u001b[1;32m      5\u001b[0m \u001b[0mqueue1\u001b[0m\u001b[0;34m.\u001b[0m\u001b[0menqueue\u001b[0m\u001b[0;34m(\u001b[0m\u001b[0;36m2\u001b[0m\u001b[0;34m)\u001b[0m\u001b[0;34m\u001b[0m\u001b[0;34m\u001b[0m\u001b[0m\n\u001b[1;32m      6\u001b[0m \u001b[0;34m\u001b[0m\u001b[0m\n\u001b[0;32m----> 7\u001b[0;31m \u001b[0mqueue1\u001b[0m\u001b[0;34m.\u001b[0m\u001b[0menqueue\u001b[0m\u001b[0;34m(\u001b[0m\u001b[0;36m2\u001b[0m\u001b[0;34m)\u001b[0m\u001b[0;34m\u001b[0m\u001b[0;34m\u001b[0m\u001b[0m\n\u001b[0m",
            "\u001b[0;32m/tmp/ipython-input-22-3967457229.py\u001b[0m in \u001b[0;36menqueue\u001b[0;34m(self, value)\u001b[0m\n\u001b[1;32m     17\u001b[0m     \u001b[0;32mdef\u001b[0m \u001b[0menqueue\u001b[0m\u001b[0;34m(\u001b[0m\u001b[0mself\u001b[0m\u001b[0;34m,\u001b[0m \u001b[0mvalue\u001b[0m\u001b[0;34m)\u001b[0m\u001b[0;34m:\u001b[0m\u001b[0;34m\u001b[0m\u001b[0;34m\u001b[0m\u001b[0m\n\u001b[1;32m     18\u001b[0m         \u001b[0;32mif\u001b[0m \u001b[0mself\u001b[0m\u001b[0;34m.\u001b[0m\u001b[0mis_full\u001b[0m\u001b[0;34m(\u001b[0m\u001b[0;34m)\u001b[0m\u001b[0;34m:\u001b[0m\u001b[0;34m\u001b[0m\u001b[0;34m\u001b[0m\u001b[0m\n\u001b[0;32m---> 19\u001b[0;31m             \u001b[0;32mraise\u001b[0m \u001b[0mException\u001b[0m\u001b[0;34m(\u001b[0m\u001b[0;34m\"Overflow\"\u001b[0m\u001b[0;34m)\u001b[0m\u001b[0;34m\u001b[0m\u001b[0;34m\u001b[0m\u001b[0m\n\u001b[0m\u001b[1;32m     20\u001b[0m         \u001b[0mself\u001b[0m\u001b[0;34m.\u001b[0m\u001b[0m__queue\u001b[0m\u001b[0;34m.\u001b[0m\u001b[0mappend\u001b[0m\u001b[0;34m(\u001b[0m\u001b[0mvalue\u001b[0m\u001b[0;34m)\u001b[0m\u001b[0;34m\u001b[0m\u001b[0;34m\u001b[0m\u001b[0m\n\u001b[1;32m     21\u001b[0m \u001b[0;34m\u001b[0m\u001b[0m\n",
            "\u001b[0;31mException\u001b[0m: Overflow"
          ]
        }
      ],
      "source": [
        "queue1 = MyQueue(capacity=2)\n",
        "\n",
        "queue1.enqueue(1)\n",
        "\n",
        "queue1.enqueue(2)\n",
        "\n",
        "queue1.enqueue(2)"
      ]
    },
    {
      "cell_type": "code",
      "execution_count": null,
      "metadata": {
        "id": "v3TQCaRj8JJo"
      },
      "outputs": [],
      "source": []
    }
  ],
  "metadata": {
    "colab": {
      "provenance": []
    },
    "kernelspec": {
      "display_name": "Python 3 (ipykernel)",
      "language": "python",
      "name": "python3"
    },
    "language_info": {
      "codemirror_mode": {
        "name": "ipython",
        "version": 3
      },
      "file_extension": ".py",
      "mimetype": "text/x-python",
      "name": "python",
      "nbconvert_exporter": "python",
      "pygments_lexer": "ipython3",
      "version": "3.9.18"
    }
  },
  "nbformat": 4,
  "nbformat_minor": 0
}