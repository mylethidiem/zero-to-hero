{
 "cells": [
  {
   "cell_type": "markdown",
   "id": "14c685a0",
   "metadata": {},
   "source": [
    "### Numpy example"
   ]
  },
  {
   "cell_type": "code",
   "execution_count": 3,
   "id": "1e7ced2c",
   "metadata": {},
   "outputs": [
    {
     "name": "stdout",
     "output_type": "stream",
     "text": [
      "[ 2  5 10 17]\n"
     ]
    }
   ],
   "source": [
    "import numpy as np\n",
    "\n",
    "# data\n",
    "numbers = [1, 2, 3, 4]\n",
    "numbers_np = np.array(numbers)\n",
    "\n",
    "# compute\n",
    "numbers_np = numbers_np**2 + 1\n",
    "print(numbers_np)"
   ]
  },
  {
   "cell_type": "code",
   "execution_count": 4,
   "id": "13b62a63",
   "metadata": {},
   "outputs": [
    {
     "name": "stdout",
     "output_type": "stream",
     "text": [
      "int64\n",
      "float64\n",
      "int64\n"
     ]
    }
   ],
   "source": [
    "import numpy as np\n",
    "\n",
    "# tạo ndarray\n",
    "data1 = np.array([1,2,3])\n",
    "print(data1.dtype)\n",
    "\n",
    "data2 = np.array([1.,2.,3.])\n",
    "print(data2.dtype)\n",
    "\n",
    "data3 = np.array([1,2,3], dtype=np.int64)\n",
    "print(data3.dtype)"
   ]
  },
  {
   "cell_type": "code",
   "execution_count": null,
   "id": "b6712900",
   "metadata": {},
   "outputs": [
    {
     "name": "stdout",
     "output_type": "stream",
     "text": [
      "[1 2 3]\n",
      "(3,)\n"
     ]
    }
   ],
   "source": [
    "import numpy as np\n",
    "\n",
    "# tạo list\n",
    "list1D = [1,2,3]\n",
    "\n",
    "# tạo ndarray\n",
    "data = np.array(list1D)\n",
    "\n",
    "print(data)\n",
    "print(data.shape)"
   ]
  },
  {
   "cell_type": "code",
   "execution_count": null,
   "id": "b8192bb1",
   "metadata": {},
   "outputs": [
    {
     "name": "stdout",
     "output_type": "stream",
     "text": [
      "(3, 3, 2)\n",
      "3\n"
     ]
    }
   ],
   "source": [
    "import numpy as np\n",
    "\n",
    "# tạo list\n",
    "list3D = [[[1,6], [2,2], [3,4]],\n",
    "          [[4,7], [5,2], [6,9]],\n",
    "          [[7,7], [8,2], [9,5]]]\n",
    "\n",
    "# tạo ndarray\n",
    "data = np.array(list3D)\n",
    "\n",
    "#print(data)\n",
    "print(data.shape)\n",
    "print(data.ndim)"
   ]
  },
  {
   "cell_type": "code",
   "execution_count": 7,
   "id": "f131a97a",
   "metadata": {},
   "outputs": [
    {
     "name": "stdout",
     "output_type": "stream",
     "text": [
      "[1 2 3]\n",
      "int64\n",
      "(3,)\n",
      "1\n",
      "\n",
      "[[1 2 3]\n",
      " [1 2 3]]\n",
      "int64\n",
      "(2, 3)\n",
      "2\n"
     ]
    }
   ],
   "source": [
    "l = list(range(1, 4))\n",
    "\n",
    "data0 = np.array(l)\n",
    "# tạo ndarray\n",
    "data = np.array([l,l])\n",
    "\n",
    "\n",
    "print(data0)\n",
    "print(data0.dtype)\n",
    "print(data0.shape)\n",
    "print(data0.ndim)\n",
    "\n",
    "print()\n",
    "\n",
    "print(data)\n",
    "print(data.dtype)\n",
    "print(data.shape)\n",
    "print(data.ndim)"
   ]
  },
  {
   "cell_type": "code",
   "execution_count": 8,
   "id": "1926fe1b",
   "metadata": {},
   "outputs": [
    {
     "name": "stdout",
     "output_type": "stream",
     "text": [
      "[1 2 3]\n",
      "[8 2 3]\n",
      "[1, 2, 3]\n"
     ]
    }
   ],
   "source": [
    "l = list(range(1, 4))\n",
    "\n",
    "# tạo ndarray\n",
    "data = np.array(l)\n",
    "print(data)\n",
    "\n",
    "data[0] = 8\n",
    "print(data)\n",
    "print(l)"
   ]
  },
  {
   "cell_type": "code",
   "execution_count": 9,
   "id": "b818eb22",
   "metadata": {},
   "outputs": [
    {
     "name": "stdout",
     "output_type": "stream",
     "text": [
      "[[9 9 9]\n",
      " [9 9 9]]\n"
     ]
    }
   ],
   "source": [
    "import numpy as np\n",
    "\n",
    "arr = np.full((2,3), 9)\n",
    "print(arr)"
   ]
  },
  {
   "cell_type": "code",
   "execution_count": 10,
   "metadata": {},
   "outputs": [
    {
     "name": "stdout",
     "output_type": "stream",
     "text": [
      "[[1. 0. 0.]\n",
      " [0. 1. 0.]\n",
      " [0. 0. 1.]]\n"
     ]
    }
   ],
   "source": [
    "arr = np.eye(3)\n",
    "print(arr)"
   ]
  },
  {
   "cell_type": "code",
   "execution_count": 12,
   "metadata": {},
   "outputs": [
    {
     "data": {
      "text/plain": [
       "array([[0.37101632, 0.17613862, 0.69740494],\n",
       "       [0.0303532 , 0.34724151, 0.39131347]])"
      ]
     },
     "execution_count": 12,
     "metadata": {},
     "output_type": "execute_result"
    }
   ],
   "source": [
    "arr = np.random.random((2,3))\n",
    "arr"
   ]
  },
  {
   "cell_type": "code",
   "execution_count": 14,
   "id": "84ee2d85",
   "metadata": {},
   "outputs": [
    {
     "data": {
      "text/plain": [
       "array([1, 2, 3, 4])"
      ]
     },
     "execution_count": 14,
     "metadata": {},
     "output_type": "execute_result"
    }
   ],
   "source": [
    "arr = np.array([[1,2], [3,4]])\n",
    "out = arr.flatten()\n",
    "out"
   ]
  },
  {
   "cell_type": "code",
   "execution_count": 17,
   "id": "572a020e",
   "metadata": {},
   "outputs": [
    {
     "name": "stdout",
     "output_type": "stream",
     "text": [
      "[0 1 2 3 4]\n",
      "[ True  True  True False False]\n",
      "[0 1 2 6 8]\n"
     ]
    }
   ],
   "source": [
    "arr = np.arange(5)\n",
    "print(arr)\n",
    "condition = arr < 3\n",
    "print(condition)\n",
    "out = np.where(condition, arr, arr*2)\n",
    "print(out)"
   ]
  },
  {
   "cell_type": "code",
   "execution_count": 18,
   "id": "14dbe504",
   "metadata": {},
   "outputs": [
    {
     "name": "stdout",
     "output_type": "stream",
     "text": [
      "[0 1 2 3 4]\n",
      "[0 2 4]\n"
     ]
    }
   ],
   "source": [
    "arr1 = np.arange(5)\n",
    "print(arr1)\n",
    "\n",
    "arr2 = np.arange(0, 5, 2)\n",
    "print(arr2)"
   ]
  },
  {
   "cell_type": "markdown",
   "id": "365f6a74",
   "metadata": {},
   "source": [
    "#### Tip"
   ]
  },
  {
   "cell_type": "code",
   "execution_count": null,
   "id": "e5cb3a32",
   "metadata": {},
   "outputs": [
    {
     "name": "stdout",
     "output_type": "stream",
     "text": [
      "out1:\n",
      " [1 4 5]\n",
      "out2:\n",
      " [2 2]\n"
     ]
    }
   ],
   "source": [
    "# Advanced Indexing\n",
    "arr = np.array([[1,2],\n",
    "                [3, 4],\n",
    "                [5, 6]])\n",
    "\n",
    "# lấy giá trị vị trí (0,0), (1,1) và (2,0)\n",
    "# Explain:\n",
    "# [0, 1, 2]: mean list of rows's index\n",
    "# [0, 1, 0]: mean list of cols's index\n",
    "# So, we will get value at (0,0), (1,1) và (2,0)\n",
    "out1 = arr[[0, 1, 2], [0, 1, 0]]\n",
    "print('out1:\\n', out1)\n",
    "\n",
    "# Có thể truy xuất tới 1 phần tử nhiều hơn 1 lần\n",
    "out2 = arr[[0, 0], [1, 1]]\n",
    "print('out2:\\n', out2)"
   ]
  },
  {
   "cell_type": "code",
   "execution_count": null,
   "id": "35ab05ae",
   "metadata": {},
   "outputs": [
    {
     "name": "stdout",
     "output_type": "stream",
     "text": [
      "[[ 1  2  3]\n",
      " [ 5  6  7]\n",
      " [ 9 10 11]\n",
      " [13 14 15]]\n",
      "np.arange(4)= [0 1 2 3]\n",
      "[ 1  7  9 14]\n"
     ]
    }
   ],
   "source": [
    "# Tạo một mảng mới có shape=(4,3)\n",
    "a_arr = np.array([[1,2,3], [5,6,7], [9,10,11], [13, 14, 15]])\n",
    "print(a_arr)\n",
    "# Tạo một mảng các chỉ số\n",
    "b_arr = np.array([0, 2, 0, 1])\n",
    "\n",
    "print(\"np.arange(4)=\",np.arange(4))\n",
    "c_array = a_arr[np.arange(4), b_arr]\n",
    "# [0 1 2 3]\n",
    "# [0, 2, 0, 1]\n",
    "# => 00, 12, 20, 31\n",
    "print(c_array)"
   ]
  },
  {
   "cell_type": "code",
   "execution_count": null,
   "id": "9f8726b9",
   "metadata": {},
   "outputs": [
    {
     "name": "stdout",
     "output_type": "stream",
     "text": [
      "[[ 1  2  3]\n",
      " [ 5  6  7]\n",
      " [ 9 10 11]\n",
      " [13 14 15]]\n",
      "[ 1  7  9 14]\n",
      "\n",
      "[[11  2  3]\n",
      " [ 5  6 17]\n",
      " [19 10 11]\n",
      " [13 24 15]]\n"
     ]
    }
   ],
   "source": [
    "a_arr = np.array([[1,2,3], [5,6,7], [9,10,11], [13, 14, 15]])\n",
    "\n",
    "print(a_arr)\n",
    "b_arr = np.array([0, 2, 0, 1])\n",
    "print(a_arr[np.arange(4), b_arr])\n",
    "print()\n",
    "a_arr[np.arange(4), b_arr] += 10\n",
    "print(a_arr)"
   ]
  },
  {
   "cell_type": "code",
   "execution_count": null,
   "id": "d53f1aeb",
   "metadata": {},
   "outputs": [
    {
     "name": "stdout",
     "output_type": "stream",
     "text": [
      "[[1 2]\n",
      " [3 4]\n",
      " [5 6]]\n",
      "[[False False]\n",
      " [ True  True]\n",
      " [ True  True]]\n"
     ]
    }
   ],
   "source": [
    "arr = np.array([[1,2],\n",
    "                [3, 4],\n",
    "                [5, 6]])\n",
    "print(arr)\n",
    "\n",
    "# Tìm các phần tử lớn hơn 2\n",
    "bool_idx = (arr > 2)\n",
    "print(bool_idx)"
   ]
  },
  {
   "cell_type": "code",
   "execution_count": 28,
   "metadata": {},
   "outputs": [
    {
     "name": "stdout",
     "output_type": "stream",
     "text": [
      "[[1 2]\n",
      " [3 4]\n",
      " [5 6]]\n",
      "\n",
      "bool_idx\n",
      " [[False False]\n",
      " [ True  True]\n",
      " [ True  True]]\n",
      "\n",
      "method 1\n",
      " [3 4 5 6]\n",
      "---------------\n",
      "\n",
      "method 2\n",
      " [3 4 5 6]\n"
     ]
    }
   ],
   "source": [
    "a_arr = np.array([[1,2], [3, 4], [5, 6]])\n",
    "print(a_arr)\n",
    "\n",
    "bool_idx = (a_arr > 2)\n",
    "print('\\nbool_idx\\n', bool_idx)\n",
    "out = a_arr[bool_idx]\n",
    "print('\\nmethod 1\\n', out)\n",
    "\n",
    "print(\"---------------\")\n",
    "print('\\nmethod 2\\n', a_arr[a_arr > 2])"
   ]
  },
  {
   "cell_type": "code",
   "execution_count": null,
   "id": "001ac21a",
   "metadata": {},
   "outputs": [
    {
     "name": "stdout",
     "output_type": "stream",
     "text": [
      "int64\n",
      "float64\n",
      "int64\n"
     ]
    }
   ],
   "source": []
  },
  {
   "cell_type": "code",
   "execution_count": 30,
   "id": "e6c66ee0",
   "metadata": {},
   "outputs": [
    {
     "data": {
      "image/png": "[encoded data removed]",
      "text/plain": [
       "<Figure size 640x480 with 1 Axes>"
      ]
     },
     "metadata": {},
     "output_type": "display_data"
    }
   ],
   "source": [
    "import numpy as np\n",
    "import matplotlib.pyplot as plt\n",
    "#%matplotlib qt\n",
    "\n",
    "x = np.arange(-10, 10, 0.1)\n",
    "y = x**2\n",
    "\n",
    "plt.plot(x, y)\n",
    "plt.show()"
   ]
  },
  {
   "cell_type": "code",
   "execution_count": null,
   "id": "b01eb20d",
   "metadata": {},
   "outputs": [
    {
     "data": {
      "image/png": "[encoded data removed]",
      "text/plain": [
       "<Figure size 640x480 with 1 Axes>"
      ]
     },
     "metadata": {},
     "output_type": "display_data"
    }
   ],
   "source": [
    "# plot square functions using range\n",
    "x = range(-10, 11, 1)\n",
    "y = [i**2 for i in x]\n",
    "\n",
    "plt.plot(x, y)\n",
    "plt.show()"
   ]
  }
 ],
 "metadata": {
  "kernelspec": {
   "display_name": "ds_env",
   "language": "python",
   "name": "python3"
  },
  "language_info": {
   "codemirror_mode": {
    "name": "ipython",
    "version": 3
   },
   "file_extension": ".py",
   "mimetype": "text/x-python",
   "name": "python",
   "nbconvert_exporter": "python",
   "pygments_lexer": "ipython3",
   "version": "3.11.13"
  }
 },
 "nbformat": 4,
 "nbformat_minor": 5
}
