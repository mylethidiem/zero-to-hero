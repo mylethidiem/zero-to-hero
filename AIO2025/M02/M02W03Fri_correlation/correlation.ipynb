{
 "cells": [
  {
   "cell_type": "code",
   "execution_count": 2,
   "id": "00cc7c21",
   "metadata": {},
   "outputs": [
    {
     "name": "stdout",
     "output_type": "stream",
     "text": [
      "12.0\n",
      "9.142857142857142\n",
      "0.1495394441198452\n"
     ]
    }
   ],
   "source": [
    "import numpy as np\n",
    "\n",
    "x = np.array([7, 18, 29, 2, 10, 9, 9])\n",
    "y = np.array([1, 6, 12, 8, 6, 21, 10])\n",
    "\n",
    "mean_x = np.mean(x)\n",
    "mean_y = np.mean(y)\n",
    "print(mean_x)\n",
    "print(mean_y)\n",
    "\n",
    "numerator = np.mean( (x-mean_x)*(y-mean_y) )\n",
    "denorminator = np.sqrt(np.var(x))*np.sqrt(np.var(y))\n",
    "\n",
    "pearsonr = numerator/denorminator\n",
    "print(pearsonr)"
   ]
  },
  {
   "cell_type": "code",
   "execution_count": null,
   "id": "75a7455a",
   "metadata": {},
   "outputs": [],
   "source": []
  },
  {
   "cell_type": "code",
   "execution_count": 4,
   "id": "3d2ae5fa",
   "metadata": {},
   "outputs": [
    {
     "name": "stdout",
     "output_type": "stream",
     "text": [
      "84\n",
      "64\n",
      "818\n",
      "0.14953944411984518\n"
     ]
    }
   ],
   "source": [
    "import numpy as np\n",
    "\n",
    "x = np.array([7, 18, 29, 2, 10, 9, 9])\n",
    "y = np.array([1, 6, 12, 8, 6, 21, 10])\n",
    "n = x.shape[0]\n",
    "\n",
    "sum_x = np.sum(x)\n",
    "sum_y = np.sum(y)\n",
    "sum_xy = np.sum(x*y)\n",
    "numerator = n*sum_xy - sum_x*sum_y\n",
    "\n",
    "print(sum_x)\n",
    "print(sum_y)\n",
    "print(sum_xy)\n",
    "\n",
    "# denorminator\n",
    "sum_xx = np.sum(x*x)\n",
    "sum_yy = np.sum(y*y)\n",
    "denornator = np.sqrt(n*sum_xx - sum_x*sum_x)*np.sqrt(n*sum_yy - sum_y*sum_y)\n",
    "\n",
    "pearsonr = numerator/denornator\n",
    "print(pearsonr)"
   ]
  },
  {
   "cell_type": "code",
   "execution_count": null,
   "id": "5471468f",
   "metadata": {},
   "outputs": [],
   "source": []
  },
  {
   "cell_type": "code",
   "execution_count": null,
   "id": "8176d094",
   "metadata": {},
   "outputs": [],
   "source": []
  },
  {
   "cell_type": "code",
   "execution_count": 5,
   "id": "2c89615f",
   "metadata": {},
   "outputs": [
    {
     "name": "stdout",
     "output_type": "stream",
     "text": [
      "[[0.989636 0.006952]\n",
      " [1.968388 2.973466]]\n"
     ]
    }
   ],
   "source": [
    "import numpy as np\n",
    "\n",
    "U = np.array([[-0.16, -0.98],\n",
    "              [-0.98, 0.16]])\n",
    "S = np.array([[3.65, 0],\n",
    "              [0, 0.82]])\n",
    "V = np.array([[-0.58, -0.81],\n",
    "              [-0.81, 0.58]])\n",
    "\n",
    "A_r = np.dot(np.dot(U, S), V)\n",
    "print(A_r)"
   ]
  },
  {
   "cell_type": "code",
   "execution_count": null,
   "id": "2fa94cc4",
   "metadata": {},
   "outputs": [],
   "source": []
  },
  {
   "cell_type": "code",
   "execution_count": null,
   "id": "4134601e",
   "metadata": {},
   "outputs": [],
   "source": []
  },
  {
   "cell_type": "code",
   "execution_count": null,
   "id": "8a835b86",
   "metadata": {},
   "outputs": [],
   "source": []
  },
  {
   "cell_type": "code",
   "execution_count": null,
   "id": "97e47224",
   "metadata": {},
   "outputs": [],
   "source": []
  },
  {
   "cell_type": "code",
   "execution_count": null,
   "id": "3742d413",
   "metadata": {},
   "outputs": [],
   "source": []
  },
  {
   "cell_type": "code",
   "execution_count": null,
   "id": "888481b5",
   "metadata": {},
   "outputs": [],
   "source": []
  },
  {
   "cell_type": "code",
   "execution_count": null,
   "id": "c5a23a16",
   "metadata": {},
   "outputs": [],
   "source": []
  },
  {
   "cell_type": "code",
   "execution_count": null,
   "id": "6365b239",
   "metadata": {},
   "outputs": [],
   "source": []
  },
  {
   "cell_type": "code",
   "execution_count": null,
   "id": "172f2719",
   "metadata": {},
   "outputs": [],
   "source": []
  },
  {
   "cell_type": "code",
   "execution_count": null,
   "id": "55978a76",
   "metadata": {},
   "outputs": [],
   "source": []
  },
  {
   "cell_type": "code",
   "execution_count": null,
   "id": "ea72436d",
   "metadata": {},
   "outputs": [],
   "source": []
  },
  {
   "cell_type": "code",
   "execution_count": null,
   "id": "8bfacbac",
   "metadata": {},
   "outputs": [],
   "source": []
  },
  {
   "cell_type": "code",
   "execution_count": null,
   "id": "015073bc",
   "metadata": {},
   "outputs": [],
   "source": []
  },
  {
   "cell_type": "code",
   "execution_count": null,
   "id": "bbf74374",
   "metadata": {},
   "outputs": [],
   "source": []
  },
  {
   "cell_type": "code",
   "execution_count": null,
   "id": "7289bc34",
   "metadata": {},
   "outputs": [],
   "source": []
  },
  {
   "cell_type": "code",
   "execution_count": null,
   "id": "4c54061c",
   "metadata": {},
   "outputs": [],
   "source": []
  },
  {
   "cell_type": "code",
   "execution_count": null,
   "id": "afce1dd2",
   "metadata": {},
   "outputs": [],
   "source": []
  },
  {
   "cell_type": "code",
   "execution_count": null,
   "id": "2865425c",
   "metadata": {},
   "outputs": [],
   "source": []
  },
  {
   "cell_type": "code",
   "execution_count": null,
   "id": "d0dd5aba",
   "metadata": {},
   "outputs": [],
   "source": []
  },
  {
   "cell_type": "code",
   "execution_count": 4,
   "id": "8603718e",
   "metadata": {},
   "outputs": [
    {
     "name": "stdout",
     "output_type": "stream",
     "text": [
      "0.1495394441198452\n"
     ]
    }
   ],
   "source": [
    "import numpy as np\n",
    "\n",
    "def compute_var(x):\n",
    "    var = (x - x.mean())**2\n",
    "    var = np.mean(var)\n",
    "    return var\n",
    "\n",
    "x = np.array([7, 18, 29, 2, 10, 9, 9])\n",
    "y = np.array([1, 6, 12, 8, 6, 21, 10])\n",
    "\n",
    "mean_x = np.mean(x)\n",
    "mean_y = np.mean(y)\n",
    "numerator = np.mean((x-mean_x)*(y-mean_y))\n",
    "denorminator = np.sqrt(compute_var(x))*np.sqrt(compute_var(y))\n",
    "pearsonr = numerator/denorminator\n",
    "print(pearsonr)"
   ]
  },
  {
   "cell_type": "code",
   "execution_count": null,
   "id": "d43687b9",
   "metadata": {},
   "outputs": [],
   "source": []
  },
  {
   "cell_type": "code",
   "execution_count": 11,
   "id": "690ce41a",
   "metadata": {},
   "outputs": [
    {
     "name": "stdout",
     "output_type": "stream",
     "text": [
      "0.14953944411984518\n"
     ]
    }
   ],
   "source": [
    "import numpy as np\n",
    "\n",
    "x = np.array([7, 18, 29, 2, 10, 9, 9])\n",
    "y = np.array([1, 6, 12, 8, 6, 21, 10])\n",
    "n = x.shape[0]\n",
    "\n",
    "sum_xy = np.sum(x*y)\n",
    "sum_x  = np.sum(x)\n",
    "sum_y  = np.sum(y)\n",
    "\n",
    "sum_xx = np.sum(x*x)\n",
    "sum_yy = np.sum(y*y)\n",
    "\n",
    "numerator = (n*sum_xy - sum_x*sum_y)\n",
    "denorminator = np.sqrt(n*sum_xx - sum_x*sum_x)*np.sqrt(n*sum_yy - sum_y*sum_y)\n",
    "pearsonr =  numerator/denorminator\n",
    "print(pearsonr)"
   ]
  },
  {
   "cell_type": "code",
   "execution_count": null,
   "id": "fe64adef",
   "metadata": {},
   "outputs": [],
   "source": []
  },
  {
   "cell_type": "code",
   "execution_count": null,
   "id": "58809413",
   "metadata": {},
   "outputs": [],
   "source": []
  },
  {
   "cell_type": "code",
   "execution_count": null,
   "id": "65e89bd8",
   "metadata": {},
   "outputs": [],
   "source": []
  },
  {
   "cell_type": "code",
   "execution_count": null,
   "id": "8e7e065e",
   "metadata": {},
   "outputs": [],
   "source": []
  },
  {
   "cell_type": "code",
   "execution_count": null,
   "id": "3859a5e5",
   "metadata": {},
   "outputs": [],
   "source": []
  },
  {
   "cell_type": "code",
   "execution_count": null,
   "id": "796038be",
   "metadata": {},
   "outputs": [],
   "source": []
  },
  {
   "cell_type": "code",
   "execution_count": null,
   "id": "61a47042",
   "metadata": {},
   "outputs": [],
   "source": []
  },
  {
   "cell_type": "code",
   "execution_count": null,
   "id": "ddc20d9f",
   "metadata": {},
   "outputs": [],
   "source": []
  },
  {
   "cell_type": "code",
   "execution_count": null,
   "id": "6d3239ba",
   "metadata": {},
   "outputs": [],
   "source": []
  },
  {
   "cell_type": "code",
   "execution_count": null,
   "id": "1827adec",
   "metadata": {},
   "outputs": [],
   "source": []
  },
  {
   "cell_type": "code",
   "execution_count": null,
   "id": "19f342a7",
   "metadata": {},
   "outputs": [],
   "source": []
  }
 ],
 "metadata": {
  "kernelspec": {
   "display_name": "Python 3 (ipykernel)",
   "language": "python",
   "name": "python3"
  },
  "language_info": {
   "codemirror_mode": {
    "name": "ipython",
    "version": 3
   },
   "file_extension": ".py",
   "mimetype": "text/x-python",
   "name": "python",
   "nbconvert_exporter": "python",
   "pygments_lexer": "ipython3",
   "version": "3.9.12"
  }
 },
 "nbformat": 4,
 "nbformat_minor": 5
}
