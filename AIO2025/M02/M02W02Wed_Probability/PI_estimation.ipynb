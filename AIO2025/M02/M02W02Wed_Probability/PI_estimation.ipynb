{
 "cells": [
  {
   "cell_type": "code",
   "execution_count": 1,
   "metadata": {},
   "outputs": [
    {
     "name": "stdout",
     "output_type": "stream",
     "text": [
      "3.144552\n"
     ]
    }
   ],
   "source": [
    "import random\n",
    "import math\n",
    "\n",
    "# Number of points in circle\n",
    "N_c = 0\n",
    "N = 1000_000\n",
    "\n",
    "# Generate random N points\n",
    "for i in range(N):\n",
    "    # generate x,y in [-1, 1]\n",
    "    x = random.random() * 2 - 1\n",
    "    y = random.random() * 2 - 1\n",
    "\n",
    "    x_square = x ** 2\n",
    "    y_square = y ** 2\n",
    "\n",
    "    # Check p if it in circle\n",
    "    if math.sqrt(x_square + y_square) <= 1.0:\n",
    "        N_c = N_c + 1\n",
    "\n",
    "# Calculate PI\n",
    "pi = (N_c / N) * 4\n",
    "print(pi)"
   ]
  },
  {
   "cell_type": "code",
   "execution_count": 5,
   "metadata": {},
   "outputs": [
    {
     "name": "stdout",
     "output_type": "stream",
     "text": [
      "total_flips: 1000\n",
      "num_tails: 525\n",
      "num_heads: 475\n",
      "Probability of tails: 0.525000\n",
      "Probability of heads: 0.475000\n"
     ]
    }
   ],
   "source": [
    "import random\n",
    "\n",
    "# Total number of coin flips\n",
    "total_flips = 0\n",
    "# Number of tails appear\n",
    "num_tails = 0\n",
    "# Number of heads appear\n",
    "num_heads = 0\n",
    "\n",
    "for _ in range(1000):\n",
    "    # Generate random number in range [0,1)\n",
    "    n = random.random()\n",
    "    if n < 0.5:\n",
    "        num_tails = num_tails + 1\n",
    "    else:\n",
    "        num_heads = num_heads + 1\n",
    "\n",
    "    total_flips = total_flips + 1\n",
    "print('total_flips: %d' % total_flips)\n",
    "print('num_tails: %d' % num_tails)\n",
    "print('num_heads: %d' % num_heads)\n",
    "print('Probability of tails: %f' % (num_tails/total_flips))\n",
    "print('Probability of heads: %f' % (num_heads/total_flips))"
   ]
  }
 ],
 "metadata": {
  "kernelspec": {
   "display_name": "ds_env",
   "language": "python",
   "name": "python3"
  },
  "language_info": {
   "codemirror_mode": {
    "name": "ipython",
    "version": 3
   },
   "file_extension": ".py",
   "mimetype": "text/x-python",
   "name": "python",
   "nbconvert_exporter": "python",
   "pygments_lexer": "ipython3",
   "version": "3.11.13"
  }
 },
 "nbformat": 4,
 "nbformat_minor": 2
}
