{
 "cells": [
  {
   "cell_type": "code",
   "execution_count": null,
   "metadata": {
    "id": "Y9Up-b8bEo6s"
   },
   "outputs": [],
   "source": [
    "%pip install gdown pandas numpy opencv-python"
   ]
  },
  {
   "cell_type": "markdown",
   "metadata": {
    "id": "IasI3hhLEo6v"
   },
   "source": [
    "# Câu hỏi 1"
   ]
  },
  {
   "cell_type": "code",
   "execution_count": null,
   "metadata": {
    "id": "Pkz96_ZOEo6v"
   },
   "outputs": [],
   "source": []
  },
  {
   "cell_type": "markdown",
   "metadata": {
    "id": "ZsA4RbP_Eo6w"
   },
   "source": [
    "# Câu hỏi 2"
   ]
  },
  {
   "cell_type": "code",
   "execution_count": null,
   "metadata": {
    "id": "Mg4P2bLCEo6w"
   },
   "outputs": [],
   "source": []
  },
  {
   "cell_type": "markdown",
   "metadata": {
    "id": "n336RDH-Eo6x"
   },
   "source": [
    "# Câu hỏi 3"
   ]
  },
  {
   "cell_type": "code",
   "execution_count": null,
   "metadata": {
    "id": "niosURCcEo6x"
   },
   "outputs": [],
   "source": []
  },
  {
   "cell_type": "markdown",
   "metadata": {
    "id": "3C4wp9WAEo6x"
   },
   "source": [
    "# Câu hỏi 4"
   ]
  },
  {
   "cell_type": "code",
   "execution_count": null,
   "metadata": {
    "id": "VBc9c0jgEo6x"
   },
   "outputs": [],
   "source": []
  },
  {
   "cell_type": "markdown",
   "metadata": {
    "id": "ytZOAfhTEo6y"
   },
   "source": [
    "# Câu hỏi 5"
   ]
  },
  {
   "cell_type": "code",
   "execution_count": null,
   "metadata": {
    "id": "gpMCsOmYEo6y"
   },
   "outputs": [],
   "source": [
    "\n"
   ]
  },
  {
   "cell_type": "markdown",
   "metadata": {
    "id": "ga1Nq5daEo6y"
   },
   "source": [
    "# Câu hỏi 6"
   ]
  },
  {
   "cell_type": "code",
   "execution_count": null,
   "metadata": {
    "id": "ZQBMtTWAEo6y"
   },
   "outputs": [],
   "source": [
    "\n"
   ]
  },
  {
   "cell_type": "markdown",
   "metadata": {
    "id": "3aLPhpd6Eo6y"
   },
   "source": [
    "# Câu hỏi 7"
   ]
  },
  {
   "cell_type": "code",
   "execution_count": null,
   "metadata": {
    "id": "FtJg4XimEo6y"
   },
   "outputs": [],
   "source": []
  },
  {
   "cell_type": "markdown",
   "metadata": {
    "id": "cjbWSM7yEo6y"
   },
   "source": [
    "# Câu hỏi 8"
   ]
  },
  {
   "cell_type": "code",
   "execution_count": null,
   "metadata": {
    "id": "a9iieijBEo6y"
   },
   "outputs": [],
   "source": [
    "\n"
   ]
  },
  {
   "cell_type": "markdown",
   "metadata": {
    "id": "uBMgj84tEo6y"
   },
   "source": [
    "# Câu hỏi 9"
   ]
  },
  {
   "cell_type": "code",
   "execution_count": null,
   "metadata": {
    "id": "mumDGR4qEo6y"
   },
   "outputs": [],
   "source": [
    "\n"
   ]
  },
  {
   "cell_type": "markdown",
   "metadata": {
    "id": "3rfGU32lEo6z"
   },
   "source": [
    "# Câu hỏi 10"
   ]
  },
  {
   "cell_type": "code",
   "execution_count": null,
   "metadata": {
    "id": "M4Bz1g9BEo6z"
   },
   "outputs": [],
   "source": [
    "\n"
   ]
  },
  {
   "cell_type": "markdown",
   "metadata": {
    "id": "uwbu7lgoEo6z"
   },
   "source": [
    "# Câu hỏi 11"
   ]
  },
  {
   "cell_type": "code",
   "execution_count": null,
   "metadata": {
    "id": "WEDVwW8zEo6z"
   },
   "outputs": [],
   "source": [
    "!gdown 1KAZQVg40mG0vuEdC4HbjkDdms_brf2bW\n",
    "\n"
   ]
  },
  {
   "cell_type": "markdown",
   "metadata": {
    "id": "m-KSGrahEo6z"
   },
   "source": [
    "# Câu hỏi 11"
   ]
  },
  {
   "cell_type": "code",
   "execution_count": null,
   "metadata": {
    "id": "sLWTwE29Eo6z"
   },
   "outputs": [],
   "source": [
    "# *********** Your code here ***********\n",
    "# Sử dụng công thức Lightness: (max(R,G,B) + min(R,G,B))/2\n",
    "gray_img_01 = ### Your code here\n",
    "\n"
   ]
  },
  {
   "cell_type": "markdown",
   "metadata": {
    "id": "Sn9cCCXbEo6z"
   },
   "source": [
    "# Câu hỏi 12"
   ]
  },
  {
   "cell_type": "code",
   "execution_count": null,
   "metadata": {
    "id": "qlSvPlchEo6z"
   },
   "outputs": [],
   "source": [
    "# *********** Your code here ***********\n",
    "# Sử dụng công thức Average: (R+G+B)/3\n",
    "gray_img_02 = ### Your code here\n",
    "\n"
   ]
  },
  {
   "cell_type": "markdown",
   "metadata": {
    "id": "7xEdv4BlEo6z"
   },
   "source": [
    "# Câu hỏi 13"
   ]
  },
  {
   "cell_type": "code",
   "execution_count": null,
   "metadata": {
    "id": "FUT6W9PrEo6z"
   },
   "outputs": [],
   "source": [
    "# *********** Your code here ***********\n",
    "# Sử dụng công thức Luminosity: 0.21*R + 0.72*G + 0.07*B\n",
    "gray_img_03 = ### Your code here\n",
    "\n",
    "\n"
   ]
  },
  {
   "cell_type": "markdown",
   "metadata": {
    "id": "u3RJ1RILPQUt"
   },
   "source": [
    "# **Background Subtraction**"
   ]
  },
  {
   "cell_type": "code",
   "execution_count": null,
   "metadata": {
    "id": "jz-8DX1sGmpd"
   },
   "outputs": [],
   "source": [
    "!gdown 1QAXardZbIByfehzshQvbw4ByxiTC1ztU\n",
    "!gdown 1DpKi1rgqHgAEAA0Cx2RWZs_7yWv5bv2T\n",
    "!gdown 1DYO_g9_NPjwVOxXNZ4upEWjfHBm4byqU"
   ]
  },
  {
   "cell_type": "code",
   "execution_count": null,
   "metadata": {
    "id": "EHCQ2LhdOEpx"
   },
   "outputs": [],
   "source": []
  },
  {
   "cell_type": "code",
   "execution_count": null,
   "metadata": {
    "id": "Xw_2JcRpOf79"
   },
   "outputs": [],
   "source": []
  },
  {
   "cell_type": "code",
   "execution_count": null,
   "metadata": {
    "id": "5jO7ibqAOvWp"
   },
   "outputs": [],
   "source": []
  },
  {
   "cell_type": "code",
   "execution_count": null,
   "metadata": {
    "id": "f6SPNEfNPVCZ"
   },
   "outputs": [],
   "source": []
  },
  {
   "cell_type": "code",
   "execution_count": null,
   "metadata": {
    "id": "dmCNgV9gPdtx"
   },
   "outputs": [],
   "source": []
  },
  {
   "cell_type": "markdown",
   "metadata": {
    "id": "nfnTxkuLEo6z"
   },
   "source": [
    "# Câu hỏi 14"
   ]
  },
  {
   "cell_type": "code",
   "execution_count": null,
   "metadata": {
    "id": "-cM8gJMQEo6z"
   },
   "outputs": [],
   "source": [
    "\n"
   ]
  },
  {
   "cell_type": "markdown",
   "metadata": {
    "id": "lHIKSlXjEo6z"
   },
   "source": [
    "# Câu hỏi 15"
   ]
  },
  {
   "cell_type": "code",
   "execution_count": null,
   "metadata": {
    "id": "Z0M9c_KYEo6z"
   },
   "outputs": [],
   "source": []
  },
  {
   "cell_type": "markdown",
   "metadata": {
    "id": "_02hD1VwEo6z"
   },
   "source": [
    "# Câu hỏi 16"
   ]
  },
  {
   "cell_type": "code",
   "execution_count": null,
   "metadata": {
    "id": "Y07uqLfxHjo_"
   },
   "outputs": [],
   "source": [
    "!gdown 1YF4WkCaaGYd2Zm-PNoLa2A2tFf3e64ci"
   ]
  },
  {
   "cell_type": "code",
   "execution_count": null,
   "metadata": {
    "id": "nnvBcRBVe4ct"
   },
   "outputs": [],
   "source": []
  },
  {
   "cell_type": "code",
   "execution_count": null,
   "metadata": {
    "id": "mHNwLKenEo6z"
   },
   "outputs": [],
   "source": []
  },
  {
   "cell_type": "markdown",
   "metadata": {
    "id": "zWAPuv-NEo60"
   },
   "source": [
    "# Câu hỏi 17"
   ]
  },
  {
   "cell_type": "code",
   "execution_count": null,
   "metadata": {
    "id": "pND1tbGNEo60"
   },
   "outputs": [],
   "source": [
    "\n"
   ]
  },
  {
   "cell_type": "markdown",
   "metadata": {
    "id": "f33cLQQHEo60"
   },
   "source": [
    "# Câu hỏi 18"
   ]
  },
  {
   "cell_type": "code",
   "execution_count": null,
   "metadata": {
    "id": "Cdtd9cFIEo69"
   },
   "outputs": [],
   "source": []
  },
  {
   "cell_type": "markdown",
   "metadata": {
    "id": "SrmG41vrEo69"
   },
   "source": [
    "# Câu hỏi 19"
   ]
  },
  {
   "cell_type": "code",
   "execution_count": null,
   "metadata": {
    "id": "sTHBDBTVEo69"
   },
   "outputs": [],
   "source": []
  },
  {
   "cell_type": "markdown",
   "metadata": {
    "id": "eRAH_2msEo69"
   },
   "source": [
    "# Câu hỏi 20"
   ]
  },
  {
   "cell_type": "code",
   "execution_count": null,
   "metadata": {
    "id": "8YKlBdAFEo69"
   },
   "outputs": [],
   "source": [
    "\n"
   ]
  }
 ],
 "metadata": {
  "colab": {
   "provenance": []
  },
  "kernelspec": {
   "display_name": "streamlit_env",
   "language": "python",
   "name": "python3"
  },
  "language_info": {
   "codemirror_mode": {
    "name": "ipython",
    "version": 3
   },
   "file_extension": ".py",
   "mimetype": "text/x-python",
   "name": "python",
   "nbconvert_exporter": "python",
   "pygments_lexer": "ipython3",
   "version": "3.10.18"
  }
 },
 "nbformat": 4,
 "nbformat_minor": 0
}
