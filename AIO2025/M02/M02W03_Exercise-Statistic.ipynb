{
 "cells": [
  {
   "cell_type": "markdown",
   "metadata": {},
   "source": [
    "# **Subjective test**"
   ]
  },
  {
   "cell_type": "code",
   "execution_count": 2,
   "metadata": {},
   "outputs": [
    {
     "name": "stdout",
     "output_type": "stream",
     "text": [
      "var1 Mean:  3.0\n",
      "var1 Std:  1.224744871391589\n",
      "var1 Variance:  1.5\n",
      "Covariance: \n",
      " [[2.         1.        ]\n",
      " [1.         0.66666667]]\n",
      "Correlation: \n",
      " [[1.        0.8660254]\n",
      " [0.8660254 1.       ]]\n"
     ]
    }
   ],
   "source": [
    "import numpy as np\n",
    "\n",
    "# Sample data for two variables\n",
    "var1 = np.array([1, 3, 4, 4])\n",
    "var2 = np.array([1, 2, 3, 2])\n",
    "\n",
    "\n",
    "print(\"var1 Mean: \", np.mean(var1))\n",
    "print(\"var1 Std: \", np.std(var1))\n",
    "print(\"var1 Variance: \", np.var(var1))\n",
    "# Compute covariance\n",
    "print(\"Covariance: \\n\", np.cov(var1, var2))\n",
    "\n",
    "# Compute correlation coefficient\n",
    "print(\"Correlation: \\n\", np.corrcoef(var1, var2))\n"
   ]
  },
  {
   "cell_type": "markdown",
   "metadata": {},
   "source": [
    "#### 1. BASIC PROBABILITY"
   ]
  },
  {
   "cell_type": "code",
   "execution_count": 3,
   "metadata": {},
   "outputs": [
    {
     "name": "stdout",
     "output_type": "stream",
     "text": [
      " Mean :  1.8\n"
     ]
    }
   ],
   "source": [
    "import numpy as np\n",
    "# q1\n",
    "def compute_mean(X):\n",
    "    return np.mean(X)\n",
    "\n",
    "X = [2, 0, 2, 2, 7, 4, -2, 5, -1, -1]\n",
    "print(\" Mean : \", compute_mean(X)) #A"
   ]
  },
  {
   "cell_type": "code",
   "execution_count": 4,
   "metadata": {},
   "outputs": [
    {
     "name": "stdout",
     "output_type": "stream",
     "text": [
      "[ 1  4  4  5  9 13]\n",
      "Median : 4\n"
     ]
    }
   ],
   "source": [
    "# q2\n",
    "def compute_median(X):\n",
    "    size = len(X) / 2\n",
    "    X = np.sort(X)\n",
    "    print(X)\n",
    "    index = int((size + 1) / 2)\n",
    "    if (size % 2 == 0):\n",
    "        index = int(size / 2)\n",
    "        return (X[index] + X[index + 1]) / 2\n",
    "    return X[index]\n",
    "\n",
    "X = [1, 5, 4, 4, 9, 13]\n",
    "print(\"Median :\", compute_median(X))#A"
   ]
  },
  {
   "cell_type": "code",
   "execution_count": 5,
   "metadata": {},
   "outputs": [
    {
     "name": "stdout",
     "output_type": "stream",
     "text": [
      "[  1.  36. 225.   9.   1. 144.]\n",
      "8.32666399786453\n"
     ]
    }
   ],
   "source": [
    "# q3\n",
    "def compute_std(X):\n",
    "    mean = compute_mean(X)\n",
    "\n",
    "    variance = 0\n",
    "    variance = np.sum(np.power(X - mean, 2)) / len(X)\n",
    "    print(np.power(X - mean, 2))\n",
    "\n",
    "    return np.sqrt(variance)\n",
    "\n",
    "X = [ 171, 176, 155, 167, 169, 182]\n",
    "print(compute_std(X))#C"
   ]
  },
  {
   "cell_type": "code",
   "execution_count": 6,
   "metadata": {},
   "outputs": [
    {
     "name": "stdout",
     "output_type": "stream",
     "text": [
      "[ 18.36734694  53.08163265 176.51020408  13.79591837   2.93877551\n",
      " 161.65306122  45.08163265]\n",
      "[ 4702.04081633  2263.04081633  2345.32653061  1337.46938776\n",
      "  3200.32653061 23234.46938776    71.04081633]\n",
      "Correlation:  0.42\n"
     ]
    }
   ],
   "source": [
    "# q4\n",
    "def compute_correlation_cofficient(X, Y):\n",
    "    N = len(X)\n",
    "    numerator = 0\n",
    "    denominator = 0\n",
    "\n",
    "    mean_X = compute_mean(X)\n",
    "    mean_Y = compute_mean(Y)\n",
    "    std_X = compute_std(X)\n",
    "    std_Y = compute_std(Y)\n",
    "\n",
    "    numerator = np.sum((X - mean_X) * (Y - mean_Y))\n",
    "    denominator = N * std_X * std_Y\n",
    "\n",
    "    if denominator == 0:\n",
    "        return 0\n",
    "\n",
    "    return np.round(numerator / denominator,2)\n",
    "X = np.asarray([ -2, -5, -11, 6, 4, 15, 9])\n",
    "Y = np.asarray([4, 25, 121, 36, 16, 225, 81])\n",
    "print(\"Correlation: \", compute_correlation_cofficient(X, Y))#D"
   ]
  },
  {
   "cell_type": "markdown",
   "metadata": {},
   "source": [
    "### 2. TABULAR DATA ANALYSIS"
   ]
  },
  {
   "cell_type": "code",
   "execution_count": 7,
   "metadata": {},
   "outputs": [
    {
     "name": "stdout",
     "output_type": "stream",
     "text": [
      "Downloading...\n",
      "From: https://drive.google.com/uc?id=1iA0WmVfW88HyJvTBSQDI5vesf-pgKabq\n",
      "To: /home/banhmuy/zero-to-hero/AIO2025/M02/advertising.csv\n",
      "100%|███████████████████████████████████████| 4.06k/4.06k [00:00<00:00, 159kB/s]\n"
     ]
    }
   ],
   "source": [
    "!gdown 1iA0WmVfW88HyJvTBSQDI5vesf-pgKabq"
   ]
  },
  {
   "cell_type": "code",
   "execution_count": 8,
   "metadata": {},
   "outputs": [
    {
     "name": "stdout",
     "output_type": "stream",
     "text": [
      "<class 'pandas.core.frame.DataFrame'>\n",
      "RangeIndex: 200 entries, 0 to 199\n",
      "Data columns (total 4 columns):\n",
      " #   Column     Non-Null Count  Dtype  \n",
      "---  ------     --------------  -----  \n",
      " 0   TV         200 non-null    float64\n",
      " 1   Radio      200 non-null    float64\n",
      " 2   Newspaper  200 non-null    float64\n",
      " 3   Sales      200 non-null    float64\n",
      "dtypes: float64(4)\n",
      "memory usage: 6.4 KB\n"
     ]
    }
   ],
   "source": [
    "# q5\n",
    "# Download dataset : ! gdown 1 iA0WmVfW88HyJvTBSQDI5vesf - pgKabq\n",
    "import pandas as pd\n",
    "\n",
    "data = pd.read_csv(\"advertising.csv\")\n",
    "\n",
    "# data.head()\n",
    "data.info()"
   ]
  },
  {
   "cell_type": "code",
   "execution_count": 9,
   "metadata": {},
   "outputs": [
    {
     "data": {
      "text/html": [
       "<div>\n",
       "<style scoped>\n",
       "    .dataframe tbody tr th:only-of-type {\n",
       "        vertical-align: middle;\n",
       "    }\n",
       "\n",
       "    .dataframe tbody tr th {\n",
       "        vertical-align: top;\n",
       "    }\n",
       "\n",
       "    .dataframe thead th {\n",
       "        text-align: right;\n",
       "    }\n",
       "</style>\n",
       "<table border=\"1\" class=\"dataframe\">\n",
       "  <thead>\n",
       "    <tr style=\"text-align: right;\">\n",
       "      <th></th>\n",
       "      <th>TV</th>\n",
       "      <th>Radio</th>\n",
       "      <th>Newspaper</th>\n",
       "      <th>Sales</th>\n",
       "    </tr>\n",
       "  </thead>\n",
       "  <tbody>\n",
       "    <tr>\n",
       "      <th>count</th>\n",
       "      <td>200.000000</td>\n",
       "      <td>200.000000</td>\n",
       "      <td>200.000000</td>\n",
       "      <td>200.000000</td>\n",
       "    </tr>\n",
       "    <tr>\n",
       "      <th>mean</th>\n",
       "      <td>147.042500</td>\n",
       "      <td>23.264000</td>\n",
       "      <td>30.554000</td>\n",
       "      <td>15.130500</td>\n",
       "    </tr>\n",
       "    <tr>\n",
       "      <th>std</th>\n",
       "      <td>85.854236</td>\n",
       "      <td>14.846809</td>\n",
       "      <td>21.778621</td>\n",
       "      <td>5.283892</td>\n",
       "    </tr>\n",
       "    <tr>\n",
       "      <th>min</th>\n",
       "      <td>0.700000</td>\n",
       "      <td>0.000000</td>\n",
       "      <td>0.300000</td>\n",
       "      <td>1.600000</td>\n",
       "    </tr>\n",
       "    <tr>\n",
       "      <th>25%</th>\n",
       "      <td>74.375000</td>\n",
       "      <td>9.975000</td>\n",
       "      <td>12.750000</td>\n",
       "      <td>11.000000</td>\n",
       "    </tr>\n",
       "    <tr>\n",
       "      <th>50%</th>\n",
       "      <td>149.750000</td>\n",
       "      <td>22.900000</td>\n",
       "      <td>25.750000</td>\n",
       "      <td>16.000000</td>\n",
       "    </tr>\n",
       "    <tr>\n",
       "      <th>75%</th>\n",
       "      <td>218.825000</td>\n",
       "      <td>36.525000</td>\n",
       "      <td>45.100000</td>\n",
       "      <td>19.050000</td>\n",
       "    </tr>\n",
       "    <tr>\n",
       "      <th>max</th>\n",
       "      <td>296.400000</td>\n",
       "      <td>49.600000</td>\n",
       "      <td>114.000000</td>\n",
       "      <td>27.000000</td>\n",
       "    </tr>\n",
       "  </tbody>\n",
       "</table>\n",
       "</div>"
      ],
      "text/plain": [
       "               TV       Radio   Newspaper       Sales\n",
       "count  200.000000  200.000000  200.000000  200.000000\n",
       "mean   147.042500   23.264000   30.554000   15.130500\n",
       "std     85.854236   14.846809   21.778621    5.283892\n",
       "min      0.700000    0.000000    0.300000    1.600000\n",
       "25%     74.375000    9.975000   12.750000   11.000000\n",
       "50%    149.750000   22.900000   25.750000   16.000000\n",
       "75%    218.825000   36.525000   45.100000   19.050000\n",
       "max    296.400000   49.600000  114.000000   27.000000"
      ]
     },
     "execution_count": 9,
     "metadata": {},
     "output_type": "execute_result"
    }
   ],
   "source": [
    "data.describe()"
   ]
  },
  {
   "cell_type": "code",
   "execution_count": 10,
   "metadata": {},
   "outputs": [
    {
     "data": {
      "text/html": [
       "<div>\n",
       "<style scoped>\n",
       "    .dataframe tbody tr th:only-of-type {\n",
       "        vertical-align: middle;\n",
       "    }\n",
       "\n",
       "    .dataframe tbody tr th {\n",
       "        vertical-align: top;\n",
       "    }\n",
       "\n",
       "    .dataframe thead th {\n",
       "        text-align: right;\n",
       "    }\n",
       "</style>\n",
       "<table border=\"1\" class=\"dataframe\">\n",
       "  <thead>\n",
       "    <tr style=\"text-align: right;\">\n",
       "      <th></th>\n",
       "      <th>TV</th>\n",
       "      <th>Radio</th>\n",
       "      <th>Newspaper</th>\n",
       "      <th>Sales</th>\n",
       "    </tr>\n",
       "  </thead>\n",
       "  <tbody>\n",
       "    <tr>\n",
       "      <th>0</th>\n",
       "      <td>230.1</td>\n",
       "      <td>37.8</td>\n",
       "      <td>69.2</td>\n",
       "      <td>22.1</td>\n",
       "    </tr>\n",
       "    <tr>\n",
       "      <th>1</th>\n",
       "      <td>44.5</td>\n",
       "      <td>39.3</td>\n",
       "      <td>45.1</td>\n",
       "      <td>10.4</td>\n",
       "    </tr>\n",
       "    <tr>\n",
       "      <th>2</th>\n",
       "      <td>17.2</td>\n",
       "      <td>45.9</td>\n",
       "      <td>69.3</td>\n",
       "      <td>12.0</td>\n",
       "    </tr>\n",
       "    <tr>\n",
       "      <th>3</th>\n",
       "      <td>151.5</td>\n",
       "      <td>41.3</td>\n",
       "      <td>58.5</td>\n",
       "      <td>16.5</td>\n",
       "    </tr>\n",
       "    <tr>\n",
       "      <th>4</th>\n",
       "      <td>180.8</td>\n",
       "      <td>10.8</td>\n",
       "      <td>58.4</td>\n",
       "      <td>17.9</td>\n",
       "    </tr>\n",
       "  </tbody>\n",
       "</table>\n",
       "</div>"
      ],
      "text/plain": [
       "      TV  Radio  Newspaper  Sales\n",
       "0  230.1   37.8       69.2   22.1\n",
       "1   44.5   39.3       45.1   10.4\n",
       "2   17.2   45.9       69.3   12.0\n",
       "3  151.5   41.3       58.5   16.5\n",
       "4  180.8   10.8       58.4   17.9"
      ]
     },
     "execution_count": 10,
     "metadata": {},
     "output_type": "execute_result"
    }
   ],
   "source": [
    "data.head()"
   ]
  },
  {
   "cell_type": "code",
   "execution_count": 11,
   "metadata": {},
   "outputs": [
    {
     "data": {
      "text/html": [
       "<div>\n",
       "<style scoped>\n",
       "    .dataframe tbody tr th:only-of-type {\n",
       "        vertical-align: middle;\n",
       "    }\n",
       "\n",
       "    .dataframe tbody tr th {\n",
       "        vertical-align: top;\n",
       "    }\n",
       "\n",
       "    .dataframe thead th {\n",
       "        text-align: right;\n",
       "    }\n",
       "</style>\n",
       "<table border=\"1\" class=\"dataframe\">\n",
       "  <thead>\n",
       "    <tr style=\"text-align: right;\">\n",
       "      <th></th>\n",
       "      <th>TV</th>\n",
       "      <th>Radio</th>\n",
       "      <th>Newspaper</th>\n",
       "      <th>Sales</th>\n",
       "    </tr>\n",
       "  </thead>\n",
       "  <tbody>\n",
       "    <tr>\n",
       "      <th>0</th>\n",
       "      <td>230.1</td>\n",
       "      <td>37.8</td>\n",
       "      <td>69.2</td>\n",
       "      <td>22.1</td>\n",
       "    </tr>\n",
       "    <tr>\n",
       "      <th>1</th>\n",
       "      <td>44.5</td>\n",
       "      <td>39.3</td>\n",
       "      <td>45.1</td>\n",
       "      <td>10.4</td>\n",
       "    </tr>\n",
       "    <tr>\n",
       "      <th>2</th>\n",
       "      <td>17.2</td>\n",
       "      <td>45.9</td>\n",
       "      <td>69.3</td>\n",
       "      <td>12.0</td>\n",
       "    </tr>\n",
       "    <tr>\n",
       "      <th>3</th>\n",
       "      <td>151.5</td>\n",
       "      <td>41.3</td>\n",
       "      <td>58.5</td>\n",
       "      <td>16.5</td>\n",
       "    </tr>\n",
       "    <tr>\n",
       "      <th>4</th>\n",
       "      <td>180.8</td>\n",
       "      <td>10.8</td>\n",
       "      <td>58.4</td>\n",
       "      <td>17.9</td>\n",
       "    </tr>\n",
       "    <tr>\n",
       "      <th>...</th>\n",
       "      <td>...</td>\n",
       "      <td>...</td>\n",
       "      <td>...</td>\n",
       "      <td>...</td>\n",
       "    </tr>\n",
       "    <tr>\n",
       "      <th>195</th>\n",
       "      <td>38.2</td>\n",
       "      <td>3.7</td>\n",
       "      <td>13.8</td>\n",
       "      <td>7.6</td>\n",
       "    </tr>\n",
       "    <tr>\n",
       "      <th>196</th>\n",
       "      <td>94.2</td>\n",
       "      <td>4.9</td>\n",
       "      <td>8.1</td>\n",
       "      <td>14.0</td>\n",
       "    </tr>\n",
       "    <tr>\n",
       "      <th>197</th>\n",
       "      <td>177.0</td>\n",
       "      <td>9.3</td>\n",
       "      <td>6.4</td>\n",
       "      <td>14.8</td>\n",
       "    </tr>\n",
       "    <tr>\n",
       "      <th>198</th>\n",
       "      <td>283.6</td>\n",
       "      <td>42.0</td>\n",
       "      <td>66.2</td>\n",
       "      <td>25.5</td>\n",
       "    </tr>\n",
       "    <tr>\n",
       "      <th>199</th>\n",
       "      <td>232.1</td>\n",
       "      <td>8.6</td>\n",
       "      <td>8.7</td>\n",
       "      <td>18.4</td>\n",
       "    </tr>\n",
       "  </tbody>\n",
       "</table>\n",
       "<p>200 rows × 4 columns</p>\n",
       "</div>"
      ],
      "text/plain": [
       "        TV  Radio  Newspaper  Sales\n",
       "0    230.1   37.8       69.2   22.1\n",
       "1     44.5   39.3       45.1   10.4\n",
       "2     17.2   45.9       69.3   12.0\n",
       "3    151.5   41.3       58.5   16.5\n",
       "4    180.8   10.8       58.4   17.9\n",
       "..     ...    ...        ...    ...\n",
       "195   38.2    3.7       13.8    7.6\n",
       "196   94.2    4.9        8.1   14.0\n",
       "197  177.0    9.3        6.4   14.8\n",
       "198  283.6   42.0       66.2   25.5\n",
       "199  232.1    8.6        8.7   18.4\n",
       "\n",
       "[200 rows x 4 columns]"
      ]
     },
     "execution_count": 11,
     "metadata": {},
     "output_type": "execute_result"
    }
   ],
   "source": [
    "data"
   ]
  },
  {
   "cell_type": "code",
   "execution_count": 12,
   "metadata": {},
   "outputs": [
    {
     "data": {
      "text/plain": [
       "(      TV  Radio  Newspaper  Sales\n",
       " 0  230.1   37.8       69.2   22.1\n",
       " 1   44.5   39.3       45.1   10.4\n",
       " 2   17.2   45.9       69.3   12.0\n",
       " 3  151.5   41.3       58.5   16.5\n",
       " 4  180.8   10.8       58.4   17.9,\n",
       "         TV  Radio  Newspaper  Sales\n",
       " 195   38.2    3.7       13.8    7.6\n",
       " 196   94.2    4.9        8.1   14.0\n",
       " 197  177.0    9.3        6.4   14.8\n",
       " 198  283.6   42.0       66.2   25.5\n",
       " 199  232.1    8.6        8.7   18.4)"
      ]
     },
     "execution_count": 12,
     "metadata": {},
     "output_type": "execute_result"
    }
   ],
   "source": [
    "data.head(5), data.tail(5)"
   ]
  },
  {
   "cell_type": "code",
   "execution_count": 14,
   "metadata": {},
   "outputs": [
    {
     "name": "stdout",
     "output_type": "stream",
     "text": [
      "Correlation between TV and Sales: 0.05\n",
      "0.35\n"
     ]
    }
   ],
   "source": [
    "import numpy as np\n",
    "\n",
    "def correlation(x, y):\n",
    "    mean_X = np.mean(x)\n",
    "    mean_Y = np.mean(y)\n",
    "\n",
    "    numerator = np.sum((x - mean_X) * (y - mean_Y))\n",
    "\n",
    "    denominator_x = np.sum((x - mean_X)**2)\n",
    "    denominator_y = np.sum((y - mean_Y)**2)\n",
    "\n",
    "    denominator = np.sqrt(denominator_x * denominator_y)\n",
    "\n",
    "    if denominator == 0:\n",
    "        return 0\n",
    "\n",
    "    return np.round(numerator / denominator, 2)\n",
    "\n",
    "# Example\n",
    "x = data['TV']\n",
    "y = data['Radio']\n",
    "corr_xy = correlation(x,y)\n",
    "print(f\"Correlation between TV and Sales: {round(corr_xy, 2)}\")#B\n",
    "\n",
    "x = data['Radio']\n",
    "y = data['Newspaper']\n",
    "\n",
    "result = correlation(x, y)\n",
    "print(round(result, 2))"
   ]
  },
  {
   "cell_type": "code",
   "execution_count": 15,
   "metadata": {},
   "outputs": [
    {
     "name": "stdout",
     "output_type": "stream",
     "text": [
      "TV and TV: 1.0\n",
      "TV and Radio: 0.05\n",
      "TV and Newspaper: 0.06\n",
      "Radio and TV: 0.05\n",
      "Radio and Radio: 1.0\n",
      "Radio and Newspaper: 0.35\n",
      "Newspaper and TV: 0.06\n",
      "Newspaper and Radio: 0.35\n",
      "Newspaper and Newspaper: 1.0\n"
     ]
    }
   ],
   "source": [
    "# q6\n",
    "features = ['TV', 'Radio', 'Newspaper']\n",
    "\n",
    "for feature_1 in features:\n",
    "  for feature_2 in features:\n",
    "      correlation_value = correlation(data[feature_1], data[feature_2])\n",
    "      print(f\"{feature_1} and {feature_2}: {round(correlation_value, 2)}\")#D"
   ]
  },
  {
   "cell_type": "code",
   "execution_count": 16,
   "metadata": {},
   "outputs": [
    {
     "name": "stdout",
     "output_type": "stream",
     "text": [
      "[[1.         0.35410375]\n",
      " [0.35410375 1.        ]]\n"
     ]
    }
   ],
   "source": [
    "# q7\n",
    "import numpy as np\n",
    "x = data['Radio']\n",
    "y = data['Newspaper']\n",
    "\n",
    "result = np.corrcoef(x, y)\n",
    "print(result)#C"
   ]
  },
  {
   "cell_type": "code",
   "execution_count": 17,
   "metadata": {},
   "outputs": [
    {
     "data": {
      "text/html": [
       "<div>\n",
       "<style scoped>\n",
       "    .dataframe tbody tr th:only-of-type {\n",
       "        vertical-align: middle;\n",
       "    }\n",
       "\n",
       "    .dataframe tbody tr th {\n",
       "        vertical-align: top;\n",
       "    }\n",
       "\n",
       "    .dataframe thead th {\n",
       "        text-align: right;\n",
       "    }\n",
       "</style>\n",
       "<table border=\"1\" class=\"dataframe\">\n",
       "  <thead>\n",
       "    <tr style=\"text-align: right;\">\n",
       "      <th></th>\n",
       "      <th>TV</th>\n",
       "      <th>Radio</th>\n",
       "      <th>Newspaper</th>\n",
       "      <th>Sales</th>\n",
       "    </tr>\n",
       "  </thead>\n",
       "  <tbody>\n",
       "    <tr>\n",
       "      <th>TV</th>\n",
       "      <td>1.000000</td>\n",
       "      <td>0.054809</td>\n",
       "      <td>0.056648</td>\n",
       "      <td>0.901208</td>\n",
       "    </tr>\n",
       "    <tr>\n",
       "      <th>Radio</th>\n",
       "      <td>0.054809</td>\n",
       "      <td>1.000000</td>\n",
       "      <td>0.354104</td>\n",
       "      <td>0.349631</td>\n",
       "    </tr>\n",
       "    <tr>\n",
       "      <th>Newspaper</th>\n",
       "      <td>0.056648</td>\n",
       "      <td>0.354104</td>\n",
       "      <td>1.000000</td>\n",
       "      <td>0.157960</td>\n",
       "    </tr>\n",
       "    <tr>\n",
       "      <th>Sales</th>\n",
       "      <td>0.901208</td>\n",
       "      <td>0.349631</td>\n",
       "      <td>0.157960</td>\n",
       "      <td>1.000000</td>\n",
       "    </tr>\n",
       "  </tbody>\n",
       "</table>\n",
       "</div>"
      ],
      "text/plain": [
       "                 TV     Radio  Newspaper     Sales\n",
       "TV         1.000000  0.054809   0.056648  0.901208\n",
       "Radio      0.054809  1.000000   0.354104  0.349631\n",
       "Newspaper  0.056648  0.354104   1.000000  0.157960\n",
       "Sales      0.901208  0.349631   0.157960  1.000000"
      ]
     },
     "execution_count": 17,
     "metadata": {},
     "output_type": "execute_result"
    }
   ],
   "source": [
    "# q8\n",
    "import numpy as np\n",
    "data.corr()#D"
   ]
  },
  {
   "cell_type": "code",
   "execution_count": 18,
   "metadata": {},
   "outputs": [],
   "source": [
    "# q9\n",
    "import matplotlib.pyplot as plt\n",
    "import seaborn as sns\n",
    "\n",
    "data = pd.read_csv(\"advertising.csv\")"
   ]
  },
  {
   "cell_type": "code",
   "execution_count": 19,
   "metadata": {},
   "outputs": [
    {
     "data": {
      "image/png": "[encoded data removed]",
      "text/plain": [
       "<Figure size 1000x800 with 2 Axes>"
      ]
     },
     "metadata": {},
     "output_type": "display_data"
    }
   ],
   "source": [
    "plt.figure(figsize=(10,8))\n",
    "data_corr = data.corr()\n",
    "sns.heatmap(data=data_corr, annot=True, fmt=\".2f\", linewidths=.5)\n",
    "plt.show()"
   ]
  },
  {
   "cell_type": "markdown",
   "metadata": {},
   "source": [
    "### 3. TEXT RETRIEVAL"
   ]
  },
  {
   "cell_type": "code",
   "execution_count": 20,
   "metadata": {},
   "outputs": [
    {
     "name": "stdout",
     "output_type": "stream",
     "text": [
      "Downloading...\n",
      "From: https://drive.google.com/uc?id=1jh2p2DlaWsDo_vEWIcTrNh3mUuXd-cw6\n",
      "To: /home/banhmuy/zero-to-hero/AIO2025/M02/vi_text_retrieval.csv\n",
      "100%|████████████████████████████████████████| 201k/201k [00:00<00:00, 1.13MB/s]\n"
     ]
    }
   ],
   "source": [
    "!gdown 1jh2p2DlaWsDo_vEWIcTrNh3mUuXd-cw6"
   ]
  },
  {
   "cell_type": "code",
   "execution_count": 21,
   "metadata": {},
   "outputs": [],
   "source": [
    "# q10\n",
    "# Download dataset : !gdown 1 jh2p2DlaWsDo_vEWIcTrNh3mUuXd -cw6\n",
    "import pandas as pd\n",
    "import numpy as np\n",
    "from sklearn.metrics.pairwise import cosine_similarity\n",
    "from sklearn.feature_extraction.text import TfidfVectorizer\n",
    "\n",
    "vi_data_df = pd.read_csv(\"./vi_text_retrieval.csv\")\n"
   ]
  },
  {
   "cell_type": "code",
   "execution_count": 22,
   "metadata": {},
   "outputs": [
    {
     "data": {
      "text/html": [
       "<div>\n",
       "<style scoped>\n",
       "    .dataframe tbody tr th:only-of-type {\n",
       "        vertical-align: middle;\n",
       "    }\n",
       "\n",
       "    .dataframe tbody tr th {\n",
       "        vertical-align: top;\n",
       "    }\n",
       "\n",
       "    .dataframe thead th {\n",
       "        text-align: right;\n",
       "    }\n",
       "</style>\n",
       "<table border=\"1\" class=\"dataframe\">\n",
       "  <thead>\n",
       "    <tr style=\"text-align: right;\">\n",
       "      <th></th>\n",
       "      <th>id</th>\n",
       "      <th>question</th>\n",
       "      <th>text</th>\n",
       "    </tr>\n",
       "  </thead>\n",
       "  <tbody>\n",
       "    <tr>\n",
       "      <th>0</th>\n",
       "      <td>1570446247</td>\n",
       "      <td>Quang Hải giành được chức vô địch U21 quốc gia...</td>\n",
       "      <td>Năm 2013 , Nguyễn Quang Hải giành chức vô địch...</td>\n",
       "    </tr>\n",
       "    <tr>\n",
       "      <th>1</th>\n",
       "      <td>1570445661</td>\n",
       "      <td>Mỗi hiệp bóng đá kéo dài bao lâu</td>\n",
       "      <td>Một trận đấu bóng đá thông thường có hai hiệp ...</td>\n",
       "    </tr>\n",
       "    <tr>\n",
       "      <th>2</th>\n",
       "      <td>1570382095</td>\n",
       "      <td>Quân đội Hoa Kỳ gồm những lực lượng nào</td>\n",
       "      <td>Quân đội Hoa Kỳ hay Các lực lượng vũ trang Hoa...</td>\n",
       "    </tr>\n",
       "    <tr>\n",
       "      <th>3</th>\n",
       "      <td>1570382072</td>\n",
       "      <td>Ngọc Lan là ai</td>\n",
       "      <td>Ngọc Lan ( 28 tháng 12 năm 1956 - 6 tháng 3 20...</td>\n",
       "    </tr>\n",
       "    <tr>\n",
       "      <th>4</th>\n",
       "      <td>1570382037</td>\n",
       "      <td>Thu Phương từng được những giải thưởng nào</td>\n",
       "      <td>Cô được coi là một trong những ca sĩ thuộc thế...</td>\n",
       "    </tr>\n",
       "    <tr>\n",
       "      <th>...</th>\n",
       "      <td>...</td>\n",
       "      <td>...</td>\n",
       "      <td>...</td>\n",
       "    </tr>\n",
       "    <tr>\n",
       "      <th>495</th>\n",
       "      <td>1569486091</td>\n",
       "      <td>Dân số của Sóc Trăng đứng thứ mấy trong khu vự...</td>\n",
       "      <td>Sóc Trăng là một tỉnh ven biển thuộc đồng bằng...</td>\n",
       "    </tr>\n",
       "    <tr>\n",
       "      <th>496</th>\n",
       "      <td>1569486072</td>\n",
       "      <td>Các nguyên lý toán học của triết học tự nhiên ...</td>\n",
       "      <td>Đây là những điều cơ bản tiên quyết của cơ học...</td>\n",
       "    </tr>\n",
       "    <tr>\n",
       "      <th>497</th>\n",
       "      <td>1569486003</td>\n",
       "      <td>Biến đổi khí hậu Trái Đất là gì</td>\n",
       "      <td>Biến đổi khí hậu là những biến đổi trong môi t...</td>\n",
       "    </tr>\n",
       "    <tr>\n",
       "      <th>498</th>\n",
       "      <td>1569485614</td>\n",
       "      <td>Phanxicô Xaviê Trương Bửu Diệp mất vào năm nào</td>\n",
       "      <td>Phanxicô Xaviê Trương Bửu Diệp ( 1 tháng 1 năm...</td>\n",
       "    </tr>\n",
       "    <tr>\n",
       "      <th>499</th>\n",
       "      <td>1569485573</td>\n",
       "      <td>Mật độ dân số của vùng trung du và miền núi ph...</td>\n",
       "      <td>Vùng trung du miền núi phía bắc , trước năm 19...</td>\n",
       "    </tr>\n",
       "  </tbody>\n",
       "</table>\n",
       "<p>500 rows × 3 columns</p>\n",
       "</div>"
      ],
      "text/plain": [
       "             id                                           question  \\\n",
       "0    1570446247  Quang Hải giành được chức vô địch U21 quốc gia...   \n",
       "1    1570445661                   Mỗi hiệp bóng đá kéo dài bao lâu   \n",
       "2    1570382095            Quân đội Hoa Kỳ gồm những lực lượng nào   \n",
       "3    1570382072                                     Ngọc Lan là ai   \n",
       "4    1570382037         Thu Phương từng được những giải thưởng nào   \n",
       "..          ...                                                ...   \n",
       "495  1569486091  Dân số của Sóc Trăng đứng thứ mấy trong khu vự...   \n",
       "496  1569486072  Các nguyên lý toán học của triết học tự nhiên ...   \n",
       "497  1569486003                    Biến đổi khí hậu Trái Đất là gì   \n",
       "498  1569485614     Phanxicô Xaviê Trương Bửu Diệp mất vào năm nào   \n",
       "499  1569485573  Mật độ dân số của vùng trung du và miền núi ph...   \n",
       "\n",
       "                                                  text  \n",
       "0    Năm 2013 , Nguyễn Quang Hải giành chức vô địch...  \n",
       "1    Một trận đấu bóng đá thông thường có hai hiệp ...  \n",
       "2    Quân đội Hoa Kỳ hay Các lực lượng vũ trang Hoa...  \n",
       "3    Ngọc Lan ( 28 tháng 12 năm 1956 - 6 tháng 3 20...  \n",
       "4    Cô được coi là một trong những ca sĩ thuộc thế...  \n",
       "..                                                 ...  \n",
       "495  Sóc Trăng là một tỉnh ven biển thuộc đồng bằng...  \n",
       "496  Đây là những điều cơ bản tiên quyết của cơ học...  \n",
       "497  Biến đổi khí hậu là những biến đổi trong môi t...  \n",
       "498  Phanxicô Xaviê Trương Bửu Diệp ( 1 tháng 1 năm...  \n",
       "499  Vùng trung du miền núi phía bắc , trước năm 19...  \n",
       "\n",
       "[500 rows x 3 columns]"
      ]
     },
     "execution_count": 22,
     "metadata": {},
     "output_type": "execute_result"
    }
   ],
   "source": [
    "vi_data_df"
   ]
  },
  {
   "cell_type": "code",
   "execution_count": 23,
   "metadata": {},
   "outputs": [
    {
     "data": {
      "text/plain": [
       "['năm 2013 , nguyễn quang hải giành chức vô địch u21 quốc gia 2013 cùng với đội trẻ hà nội t&t và tạo nên cú sốc khi trở thành cầu thủ 16 tuổi đầu tiên giành được danh hiệu vô địch u21 quốc gia .',\n",
       " 'một trận đấu bóng đá thông thường có hai hiệp , mỗi hiệp 45 phút với khoảng thời gian 15 phút nghỉ giữa hai hiệp .',\n",
       " 'quân đội hoa kỳ hay các lực lượng vũ trang hoa kỳ là tổng hợp các lực lượng quân sự thống nhất của hoa kỳ . các lực lượng này gồm có lục quân , hải quân , thuỷ quân lục chiến , không quân và tuần duyên .',\n",
       " 'ngọc lan ( 28 tháng 12 năm 1956 - 6 tháng 3 2001 ) là một ca sĩ hải ngoại nổi tiếng . không chỉ với giọng hát , cô còn được khán giả đặc biệt yêu mến vì khuôn mặt khả ái và tính cách nhút nhát , khiêm tốn của mình .',\n",
       " 'cô được coi là một trong những ca sĩ thuộc thế hệ thứ hai của nền nhạc nhẹ việt nam đạt được nhiều giải thưởng nhất .']"
      ]
     },
     "execution_count": 23,
     "metadata": {},
     "output_type": "execute_result"
    }
   ],
   "source": [
    "context = vi_data_df['text']\n",
    "context = [doc.lower() for doc in context]\n",
    "context[:5]"
   ]
  },
  {
   "cell_type": "code",
   "execution_count": 24,
   "metadata": {},
   "outputs": [
    {
     "data": {
      "text/plain": [
       "(500, 2913)"
      ]
     },
     "execution_count": 24,
     "metadata": {},
     "output_type": "execute_result"
    }
   ],
   "source": [
    "tfidf_vectorizer = TfidfVectorizer()\n",
    "context_embedded = tfidf_vectorizer.fit_transform(context)\n",
    "context_embedded.shape"
   ]
  },
  {
   "cell_type": "code",
   "execution_count": 25,
   "metadata": {},
   "outputs": [
    {
     "data": {
      "text/plain": [
       "np.float64(0.31126580760710637)"
      ]
     },
     "execution_count": 25,
     "metadata": {},
     "output_type": "execute_result"
    }
   ],
   "source": [
    "context_embedded.toarray()[7][0]#B"
   ]
  },
  {
   "cell_type": "code",
   "execution_count": 26,
   "metadata": {},
   "outputs": [
    {
     "data": {
      "text/plain": [
       "id                                                 1570446247\n",
       "question    Quang Hải giành được chức vô địch U21 quốc gia...\n",
       "text        Năm 2013 , Nguyễn Quang Hải giành chức vô địch...\n",
       "Name: 0, dtype: object"
      ]
     },
     "execution_count": 26,
     "metadata": {},
     "output_type": "execute_result"
    }
   ],
   "source": [
    "vi_data_df.iloc[0]"
   ]
  },
  {
   "cell_type": "code",
   "execution_count": 27,
   "metadata": {},
   "outputs": [
    {
     "data": {
      "text/plain": [
       "'Quang Hải giành được chức vô địch U21 quốc gia năm bao nhiêu tuổi'"
      ]
     },
     "execution_count": 27,
     "metadata": {},
     "output_type": "execute_result"
    }
   ],
   "source": [
    "question = vi_data_df.iloc[0]['question']\n",
    "question\n"
   ]
  },
  {
   "cell_type": "code",
   "execution_count": 28,
   "metadata": {},
   "outputs": [
    {
     "data": {
      "text/plain": [
       "(1, 2913)"
      ]
     },
     "execution_count": 28,
     "metadata": {},
     "output_type": "execute_result"
    }
   ],
   "source": [
    "query_embedded = tfidf_vectorizer.transform([question.lower()])\n",
    "query_embedded.shape"
   ]
  },
  {
   "cell_type": "code",
   "execution_count": 29,
   "metadata": {},
   "outputs": [
    {
     "name": "stdout",
     "output_type": "stream",
     "text": [
      "[0.62799105 0.         0.02657726 0.04761185 0.02500329 0.01880834\n",
      " 0.04912472 0.03526487 0.         0.04224661 0.0453713  0.05435446\n",
      " 0.         0.05727041 0.02211472 0.02208266 0.04560826 0.00818808\n",
      " 0.01102062 0.01437669 0.         0.00583982 0.00911626 0.02386505\n",
      " 0.05435446 0.         0.03446728 0.05839873 0.         0.\n",
      " 0.07003913 0.00802664 0.         0.02790517 0.02991934 0.\n",
      " 0.02471341 0.03386985 0.00628254 0.01384247 0.01445248 0.01289394\n",
      " 0.04151652 0.00778695 0.01957989 0.         0.02243588 0.\n",
      " 0.01740937 0.         0.05154479 0.05398856 0.         0.01927524\n",
      " 0.         0.08252056 0.01470496 0.         0.01740937 0.02967431\n",
      " 0.03767159 0.02391644 0.00531647 0.         0.05572128 0.04169171\n",
      " 0.01642804 0.05774461 0.         0.         0.04169171 0.01000837\n",
      " 0.01927524 0.02471341 0.04980731 0.00885775 0.         0.0087061\n",
      " 0.05081685 0.03607763 0.02465569 0.05216453 0.02707139 0.01681547\n",
      " 0.02455957 0.02960424 0.01141265 0.00911626 0.14554235 0.00932164\n",
      " 0.05774461 0.01487636 0.0107198  0.04089125 0.00533733 0.05480412\n",
      " 0.01812969 0.21145796 0.0087061  0.01036064 0.0269727  0.04381385\n",
      " 0.09561979 0.02026094 0.00805308 0.         0.03011867 0.01580063\n",
      " 0.03126593 0.03346957 0.05590874 0.02294074 0.         0.00531309\n",
      " 0.02435991 0.0521642  0.06380568 0.         0.15780675 0.03414944\n",
      " 0.08899119 0.08675323 0.00518929 0.01366125 0.         0.01740937\n",
      " 0.00955956 0.01544214 0.01437948 0.         0.         0.04981668\n",
      " 0.00615222 0.0058983  0.03100166 0.         0.17714753 0.00369705\n",
      " 0.0074065  0.07855802 0.0113003  0.         0.0521642  0.01441102\n",
      " 0.02391644 0.         0.00829331 0.         0.01400304 0.02207216\n",
      " 0.00466024 0.04541983 0.02638721 0.00760902 0.01438645 0.\n",
      " 0.04157877 0.         0.02251477 0.00995088 0.00369402 0.\n",
      " 0.02399112 0.02638721 0.01740937 0.05030747 0.03824054 0.\n",
      " 0.03453663 0.0209078  0.01653664 0.0087088  0.00531309 0.00544901\n",
      " 0.0125106  0.00552655 0.01706767 0.00453241 0.01752296 0.01585045\n",
      " 0.01547558 0.         0.         0.02696916 0.0874667  0.01005363\n",
      " 0.01682952 0.01773537 0.01544939 0.03598136 0.00546542 0.01601825\n",
      " 0.00810786 0.02365343 0.04176577 0.00669281 0.         0.03833976\n",
      " 0.         0.00617751 0.0150488  0.03446728 0.01733605 0.04116727\n",
      " 0.03204842 0.06719257 0.02294074 0.         0.02965239 0.04560826\n",
      " 0.01971274 0.0200203  0.0209078  0.0047224  0.02129453 0.\n",
      " 0.03942613 0.01274442 0.0091043  0.01058774 0.0211637  0.\n",
      " 0.01074103 0.0413564  0.00465417 0.06779495 0.04157877 0.01797173\n",
      " 0.03381261 0.01317621 0.01441102 0.01773537 0.         0.03252673\n",
      " 0.02714397 0.00747998 0.00559255 0.003543   0.02664707 0.01936031\n",
      " 0.02027939 0.05228318 0.04458321 0.00858045 0.01334252 0.06160035\n",
      " 0.01217384 0.0096865  0.         0.         0.02134587 0.09181117\n",
      " 0.01005363 0.02611915 0.         0.         0.03861386 0.01312874\n",
      " 0.04637484 0.01547558 0.04376783 0.0809972  0.00694587 0.01803804\n",
      " 0.01020202 0.         0.04288677 0.06810877 0.01352016 0.0047224\n",
      " 0.         0.00742318 0.0322418  0.03247956 0.         0.0050789\n",
      " 0.         0.03272947 0.         0.0502495  0.00747998 0.03011752\n",
      " 0.01548994 0.04151652 0.00392668 0.02400489 0.01507864 0.03679056\n",
      " 0.05184704 0.04089125 0.01312874 0.00763045 0.02002332 0.05716993\n",
      " 0.00551294 0.02134587 0.03608827 0.         0.         0.01167639\n",
      " 0.02885656 0.04634967 0.03069008 0.05120568 0.         0.00528684\n",
      " 0.04065764 0.05758972 0.01589396 0.         0.00617751 0.01078896\n",
      " 0.03824054 0.01462748 0.0484867  0.0505681  0.         0.00936419\n",
      " 0.00348861 0.00484757 0.01898498 0.03735614 0.00348861 0.00586833\n",
      " 0.03357733 0.02184674 0.         0.00808829 0.         0.01300066\n",
      " 0.05120568 0.02833838 0.         0.         0.01220403 0.00753651\n",
      " 0.0326856  0.02943863 0.08886178 0.01820526 0.0369745  0.05228318\n",
      " 0.00837095 0.00564851 0.01718354 0.00922781 0.0167     0.03857546\n",
      " 0.         0.04672454 0.01722929 0.05716993 0.03983556 0.\n",
      " 0.00649214 0.03533356 0.01345375 0.00829303 0.02415015 0.\n",
      " 0.         0.03824054 0.         0.03983068 0.07270049 0.04601033\n",
      " 0.05189229 0.02184674 0.07524103 0.01200983 0.01039275 0.01934952\n",
      " 0.03156193 0.00974173 0.         0.07524103 0.04791635 0.\n",
      " 0.00669742 0.02262761 0.02090155 0.02411329 0.0117558  0.05490444\n",
      " 0.15971218 0.         0.         0.00660195 0.         0.\n",
      " 0.         0.0732652  0.03824054 0.08576424 0.0226871  0.03101421\n",
      " 0.02931958 0.02776313 0.00715813 0.02090155 0.03939805 0.0072096\n",
      " 0.00741896 0.04026839 0.00975488 0.09273496 0.02017262 0.\n",
      " 0.06735704 0.02017211 0.0373177  0.         0.         0.04176577\n",
      " 0.04186233 0.00565224 0.02464631 0.02776313 0.03939805 0.01304528\n",
      " 0.02407843 0.01028333 0.06566331 0.00649574 0.09359751 0.01785043\n",
      " 0.         0.0273762  0.02520573 0.01312874 0.         0.01356199\n",
      " 0.02184674 0.00856426 0.01508168 0.00968486 0.         0.01603095\n",
      " 0.         0.02712502 0.0998573  0.07524103 0.         0.\n",
      " 0.00544732 0.03086948 0.03172953 0.03075664 0.01984539 0.00516728\n",
      " 0.         0.03779569 0.         0.01103801 0.04989304 0.0071606\n",
      " 0.01003896 0.         0.0134809  0.00590655 0.02961388 0.00590655\n",
      " 0.         0.01434466 0.         0.03747971 0.00791749 0.02226266\n",
      " 0.01968108 0.00590655 0.05636465 0.01984539 0.01848394 0.\n",
      " 0.02986248 0.         0.         0.0114498  0.02566064 0.0669193\n",
      " 0.02914087 0.0680419  0.03480412 0.00647698 0.05590866 0.\n",
      " 0.01830347 0.01862429 0.06592159 0.         0.00413626 0.05585142\n",
      " 0.05816099 0.         0.02899632 0.         0.01571558 0.00573747\n",
      " 0.02899632 0.00714709]\n",
      "(500,)\n"
     ]
    }
   ],
   "source": [
    "cosine_scores = cosine_similarity(context_embedded, query_embedded).reshape((-1))\n",
    "print(cosine_scores)\n",
    "print(cosine_scores.shape)"
   ]
  },
  {
   "cell_type": "code",
   "execution_count": 30,
   "metadata": {},
   "outputs": [
    {
     "name": "stdout",
     "output_type": "stream",
     "text": [
      "Score:  0.6279910475266973\n",
      "Năm 2013 , Nguyễn Quang Hải giành chức vô địch U21 quốc gia 2013 cùng với đội trẻ Hà Nội T&T và tạo nên cú sốc khi trở thành cầu thủ 16 tuổi đầu tiên giành được danh hiệu vô địch U21 quốc gia .\n",
      "=======\n",
      "Score:  0.21145795862251632\n",
      "Bao Công huý là Bao Chửng ( chữ Hán : 包拯 ; 11 tháng 4 năm 999 - 20 tháng 5 năm 1062 ) , tự Hy Nhân . Ngoài ra , ông còn được gọi là Bao Thanh thiên , Bao Đãi chế , Bao Hắc tử , Bao Học sĩ hay Bao Long Đồ .\n",
      "=======\n",
      "Score:  0.17714753149794468\n",
      "Arsenal đã giành được 13 chức vô địch quốc gia , 13 Cúp FA ( kỷ lục ) , 2 Cúp Liên đoàn Anh , 1 Cúp Liên đoàn Thế kỷ , 15 Siêu cúp Anh , 1 Cúp UEFA và 1 Cúp Inter-Cities Fairs . Arsenal là câu lạc bộ có số trận thắng ở cấp cao nhất nhiều thứ hai trong lịch sử bóng đá Anh , và cũng là đội bóng Anh duy nhất cho đến nay vô địch quốc gia với thành tích bất bại qua 38 vòng đấu , nhận biệt danh The Invincibles ( tiếng Việt : \" Đội bóng bất bại \" ) và giành Cúp vàng Ngoại hạng Anh .\n",
      "=======\n",
      "Score:  0.15971218395887335\n",
      "Tây Ban Nha cũng là đội vô địch World Cup đầu tiên giữ được sạch lưới tại vòng đấu loại trực tiếp .\n",
      "=======\n",
      "Score:  0.1578067474650028\n",
      "Tuyên Quang là một tỉnh thuộc vùng Đông Bắc Việt Nam . Có tỉnh lỵ là Thành phố Tuyên Quang .\n",
      "=======\n"
     ]
    }
   ],
   "source": [
    "# Get stop cosine similarity score\n",
    "top_d = 5\n",
    "for idx in cosine_scores.argsort()[-top_d:][::-1]:\n",
    "    print(\"Score: \", cosine_scores[idx])\n",
    "    print(vi_data_df.iloc[idx, 2])\n",
    "    print(\"=======\")"
   ]
  },
  {
   "cell_type": "code",
   "execution_count": 31,
   "metadata": {},
   "outputs": [],
   "source": [
    "# q11\n",
    "def tfidf_search(question, tfidf_vectorizer, top_d=5):\n",
    "    #----\n",
    "    query_embedded = tfidf_vectorizer.transform([question.lower()])\n",
    "    cosine_scores = cosine_similarity(context_embedded, query_embedded).reshape((-1,))\n",
    "    #---\n",
    "    results = []\n",
    "    for idx in cosine_scores.argsort()[-top_d:][::-1]:\n",
    "        doc = {\n",
    "            'id': idx,\n",
    "            'cosine_score':cosine_scores[idx]\n",
    "        }\n",
    "        results.append(doc)\n",
    "    return results"
   ]
  },
  {
   "cell_type": "code",
   "execution_count": 32,
   "metadata": {},
   "outputs": [
    {
     "name": "stdout",
     "output_type": "stream",
     "text": [
      "Question:  Quang Hải giành được chức vô địch U21 quốc gia năm bao nhiêu tuổi\n",
      "Id:  0\n",
      "Score:  0.6279910475266973\n",
      "Năm 2013 , Nguyễn Quang Hải giành chức vô địch U21 quốc gia 2013 cùng với đội trẻ Hà Nội T&T và tạo nên cú sốc khi trở thành cầu thủ 16 tuổi đầu tiên giành được danh hiệu vô địch U21 quốc gia .\n",
      "=======\n",
      "Id:  97\n",
      "Score:  0.21145795862251632\n",
      "Bao Công huý là Bao Chửng ( chữ Hán : 包拯 ; 11 tháng 4 năm 999 - 20 tháng 5 năm 1062 ) , tự Hy Nhân . Ngoài ra , ông còn được gọi là Bao Thanh thiên , Bao Đãi chế , Bao Hắc tử , Bao Học sĩ hay Bao Long Đồ .\n",
      "=======\n",
      "Id:  136\n",
      "Score:  0.17714753149794468\n",
      "Arsenal đã giành được 13 chức vô địch quốc gia , 13 Cúp FA ( kỷ lục ) , 2 Cúp Liên đoàn Anh , 1 Cúp Liên đoàn Thế kỷ , 15 Siêu cúp Anh , 1 Cúp UEFA và 1 Cúp Inter-Cities Fairs . Arsenal là câu lạc bộ có số trận thắng ở cấp cao nhất nhiều thứ hai trong lịch sử bóng đá Anh , và cũng là đội bóng Anh duy nhất cho đến nay vô địch quốc gia với thành tích bất bại qua 38 vòng đấu , nhận biệt danh The Invincibles ( tiếng Việt : \" Đội bóng bất bại \" ) và giành Cúp vàng Ngoại hạng Anh .\n",
      "=======\n",
      "Id:  384\n",
      "Score:  0.15971218395887335\n",
      "Tây Ban Nha cũng là đội vô địch World Cup đầu tiên giữ được sạch lưới tại vòng đấu loại trực tiếp .\n",
      "=======\n",
      "Id:  118\n",
      "Score:  0.1578067474650028\n",
      "Tuyên Quang là một tỉnh thuộc vùng Đông Bắc Việt Nam . Có tỉnh lỵ là Thành phố Tuyên Quang .\n",
      "=======\n"
     ]
    }
   ],
   "source": [
    "question = vi_data_df.iloc[0]['question']\n",
    "print(\"Question: \", question)\n",
    "results = tfidf_search(question=question, tfidf_vectorizer=tfidf_vectorizer)\n",
    "for result in results:\n",
    "    print(\"Id: \", result['id'])\n",
    "    print(\"Score: \", result['cosine_score'])\n",
    "    print(vi_data_df.iloc[result['id'], 2])\n",
    "    print(\"=======\")"
   ]
  },
  {
   "cell_type": "code",
   "execution_count": 33,
   "metadata": {},
   "outputs": [
    {
     "name": "stdout",
     "output_type": "stream",
     "text": [
      "Question:  Đế quốc Mông Cổ tồn tại khoảng thời gian nào\n",
      "Id:  7\n",
      "Score:  0.33596167176983216\n",
      "Đế quốc Mông Cổ (tiếng Mông Cổ: Монголын эзэнт гүрэн, chuyển tự Mongol-yn Ezent Güren IPA: [mɔŋɡ(ɔ)ɮˈiːŋ ɛt͡sˈɛnt ˈɡurəŋ] (nghe)) là đế quốc du mục lớn nhất trong lịch sử, từng tồn tại trong các thế kỷ 13 và 14.[2] Khởi đầu trên vùng thảo nguyên Trung Á, đế quốc cuối cùng đã trải dài từ Đông Âu đến biển Nhật Bản, bao gồm nhiều phần rộng lớn của Siberi ở phía bắc và mở rộng về phía nam đến Đông Nam Á, tiểu lục địa Ấn Độ, cao nguyên Iran, và Trung Đông. Ở thời điểm đỉnh cao, đế quốc Mông Cổ trải dài 9.700 km (6.000 mi), diện tích lãnh thổ lên tới 24.000.000 km2 (9.300.000 sq mi),[3][4][5][6] và thống trị 100 triệu dân.\n",
      "=======\n",
      "Id:  74\n",
      "Score:  0.27474674050287234\n",
      "Đế quốc Mông Cổ từng tồn tại trong các thế kỷ 13 và 14 , là đế quốc có lãnh thổ liền nhau lớn nhất trong lịch sử nhân loại . Khởi đầu trên vùng thảo nguyên Trung Á , đế quốc cuối cùng đã trải dài từ Đông Âu đến biển Nhật Bản , bao gồm nhiều phần rộng lớn của Siberi ở phía bắc và mở rộng về phía nam đến Đông Nam Á , tiểu lục địa Ấn Độ , cao nguyên Iran , và Trung Đông .\n",
      "=======\n",
      "Id:  437\n",
      "Score:  0.2738766393883039\n",
      "Dù là con số nào , nhà Chu vẫn là triều đại tồn tại lâu nhất trong lịch sử Trung Quốc .\n",
      "=======\n",
      "Id:  293\n",
      "Score:  0.17032204521713507\n",
      "Đế quốc Nhật Bản hay Đại Nhật Bản Đế quốc là một quốc gia dân tộc trong lịch sử Nhật Bản tồn tại từ cuộc cách mạng Minh Trị năm 1868 cho đến khi Hiến pháp Nhật Bản được ban hành vào năm 1947\n",
      "=======\n",
      "Id:  351\n",
      "Score:  0.17032204521713507\n",
      "Đế quốc Nhật Bản hay Đại Nhật Bản Đế quốc là một quốc gia dân tộc trong lịch sử Nhật Bản tồn tại từ cuộc cách mạng Minh Trị năm 1868 cho đến khi Hiến pháp Nhật Bản được ban hành vào năm 1947\n",
      "=======\n"
     ]
    }
   ],
   "source": [
    "question = vi_data_df.iloc[7]['question']\n",
    "print(\"Question: \", question)\n",
    "results = tfidf_search(question=question, tfidf_vectorizer=tfidf_vectorizer)\n",
    "for result in results:\n",
    "    print(\"Id: \", result['id'])\n",
    "    print(\"Score: \", result['cosine_score'])\n",
    "    print(vi_data_df.iloc[result['id'], 2])\n",
    "    print(\"=======\")"
   ]
  },
  {
   "cell_type": "code",
   "execution_count": 34,
   "metadata": {},
   "outputs": [
    {
     "data": {
      "text/plain": [
       "'Quang Hải giành được chức vô địch U21 quốc gia năm bao nhiêu tuổi'"
      ]
     },
     "execution_count": 34,
     "metadata": {},
     "output_type": "execute_result"
    }
   ],
   "source": [
    "question = vi_data_df.iloc[0]['question']\n",
    "question"
   ]
  },
  {
   "cell_type": "code",
   "execution_count": 35,
   "metadata": {},
   "outputs": [
    {
     "data": {
      "text/plain": [
       "(1, 2913)"
      ]
     },
     "execution_count": 35,
     "metadata": {},
     "output_type": "execute_result"
    }
   ],
   "source": [
    "query_embedded = tfidf_vectorizer.transform([question.lower()])\n",
    "query_embedded.shape"
   ]
  },
  {
   "cell_type": "code",
   "execution_count": 36,
   "metadata": {},
   "outputs": [],
   "source": [
    "corr_scores = np.corrcoef(\n",
    "    query_embedded.toarray()[0],\n",
    "    context_embedded.toarray()\n",
    ")"
   ]
  },
  {
   "cell_type": "code",
   "execution_count": 37,
   "metadata": {},
   "outputs": [
    {
     "data": {
      "text/plain": [
       "(501, 501)"
      ]
     },
     "execution_count": 37,
     "metadata": {},
     "output_type": "execute_result"
    }
   ],
   "source": [
    "corr_scores.shape"
   ]
  },
  {
   "cell_type": "code",
   "execution_count": 38,
   "metadata": {},
   "outputs": [
    {
     "data": {
      "text/plain": [
       "array([ 0.62595998, -0.00477247,  0.02170301,  0.04041869,  0.019418  ,\n",
       "        0.01144099,  0.04205915,  0.02519109, -0.00678129])"
      ]
     },
     "execution_count": 38,
     "metadata": {},
     "output_type": "execute_result"
    }
   ],
   "source": [
    "corr_scores[0][1:10]"
   ]
  },
  {
   "cell_type": "code",
   "execution_count": 39,
   "metadata": {},
   "outputs": [
    {
     "data": {
      "text/plain": [
       "array([ 68, 147, 161, 374, 348, 388, 278, 386, 141,  29, 495, 489,  63,\n",
       "       130,  57,  45, 105, 298, 157, 473, 167, 407, 297, 215, 462, 493,\n",
       "       411,  12, 248,  35, 255, 249, 430,  49,  20, 452,   8, 390, 182,\n",
       "       254, 457, 221,  47, 485, 362, 207, 304, 442, 145,  28,  25, 322,\n",
       "       318, 270,  52,  76, 196, 232, 389, 129, 436, 112, 265, 412,  32,\n",
       "       124, 385, 360, 377, 332, 326, 438, 426, 135, 309, 316, 181, 359,\n",
       "       464,  54, 160,   1, 117, 155, 276, 450, 333, 353, 443, 476, 198,\n",
       "       328, 475, 237,  69, 274, 224, 444, 177, 269, 213, 284, 137, 133,\n",
       "       150, 175, 173, 449, 354,  94, 172, 113, 497, 490, 190,  21,  62,\n",
       "       294, 343, 357, 122, 192, 387,  38, 319, 132, 305, 423, 195, 378,\n",
       "       199, 310, 415, 171, 236, 275, 469, 461, 459, 327, 401, 146, 398,\n",
       "       271, 335,  43, 262, 342,  89, 483, 138, 153,  31, 466, 104, 235,\n",
       "       280, 402, 455, 291, 323, 219,  98,  77, 499, 404,  18,  17, 373,\n",
       "        75, 218, 264, 345,  87,  22, 456, 243, 370, 317, 453,  92, 140,\n",
       "       369,  99, 299, 433, 126,  71, 222, 123, 252, 185, 421, 382, 435,\n",
       "        86, 247, 268, 311, 159, 356, 419,  41, 174, 244, 463, 329, 431,\n",
       "       334, 246, 128, 229, 458, 477, 313, 188, 148, 217,  56,  19, 179,\n",
       "       290, 429, 257,  91,  40,  39, 154, 191, 143, 230, 434, 282, 186,\n",
       "       200, 176, 107, 127,  48,  58, 125, 164, 496, 286, 350,  66, 231,\n",
       "       187, 227, 259, 180,  83, 178, 170,  96, 308, 425, 346, 487, 472,\n",
       "       202, 437, 320,   5, 486, 344, 263, 371, 468, 292, 239,  53,  72,\n",
       "       409, 211, 339, 406, 214, 240, 210, 471, 448, 325, 367, 432, 149,\n",
       "       220, 169, 212,  44, 394,  73,  36, 295, 250,  14, 103,  15, 379,\n",
       "       399, 380, 162, 111, 206, 285, 467, 193, 158, 381,  84, 114, 428,\n",
       "        80, 144,  61,  46, 416, 358, 420, 253,  23, 478, 163, 152, 238,\n",
       "         4, 234, 439, 474, 417, 397, 183, 100, 427,  85,  33,  34, 331,\n",
       "         2, 208, 396,  82, 281, 480, 300, 494, 498, 460, 337,  59, 445,\n",
       "       108, 228, 447, 106, 204, 277, 395, 273, 134,   7, 446, 302, 233,\n",
       "       119, 372, 336, 168, 272, 324,  37,  26, 201, 109, 482,  79, 189,\n",
       "       355, 287, 312, 361, 166, 392, 340, 256, 296, 465, 197, 451, 321,\n",
       "       347, 363, 410,  60, 352, 289,  93, 216, 418, 400, 223, 306, 283,\n",
       "        42, 203, 414,  70,  65,   9, 403, 194, 413, 226, 156, 101, 260,\n",
       "       242, 365, 266,  10, 209,  16, 301, 349, 258, 151,   3, 314, 279,\n",
       "        74, 376,   6, 454, 131, 288, 366,  78, 165, 315, 341, 241, 142,\n",
       "       115, 303, 330,  50,  81, 383, 110,  51,  24,  11, 491, 484,  95,\n",
       "       470,  64, 492,  27,  13, 293, 351,  67,  90, 307, 245, 116, 479,\n",
       "       488, 422, 205, 481, 408, 267, 225,  30, 391, 364, 375, 441, 368,\n",
       "       139, 261,  55, 393, 121, 184, 120, 338, 251, 405, 424, 102, 440,\n",
       "        88, 118, 384, 136,  97,   0])"
      ]
     },
     "execution_count": 39,
     "metadata": {},
     "output_type": "execute_result"
    }
   ],
   "source": [
    "corr_scores[0][1:].argsort()"
   ]
  },
  {
   "cell_type": "code",
   "execution_count": 42,
   "metadata": {},
   "outputs": [
    {
     "name": "stdout",
     "output_type": "stream",
     "text": [
      "Score:  0.9999999999999998\n",
      "Năm 2013 , Nguyễn Quang Hải giành chức vô địch U21 quốc gia 2013 cùng với đội trẻ Hà Nội T&T và tạo nên cú sốc khi trở thành cầu thủ 16 tuổi đầu tiên giành được danh hiệu vô địch U21 quốc gia .\n",
      "=======\n",
      "Score:  0.010218977799153012\n",
      "Bao Công huý là Bao Chửng ( chữ Hán : 包拯 ; 11 tháng 4 năm 999 - 20 tháng 5 năm 1062 ) , tự Hy Nhân . Ngoài ra , ông còn được gọi là Bao Thanh thiên , Bao Đãi chế , Bao Hắc tử , Bao Học sĩ hay Bao Long Đồ .\n",
      "=======\n",
      "Score:  -0.0052239837854875315\n",
      "Arsenal đã giành được 13 chức vô địch quốc gia , 13 Cúp FA ( kỷ lục ) , 2 Cúp Liên đoàn Anh , 1 Cúp Liên đoàn Thế kỷ , 15 Siêu cúp Anh , 1 Cúp UEFA và 1 Cúp Inter-Cities Fairs . Arsenal là câu lạc bộ có số trận thắng ở cấp cao nhất nhiều thứ hai trong lịch sử bóng đá Anh , và cũng là đội bóng Anh duy nhất cho đến nay vô địch quốc gia với thành tích bất bại qua 38 vòng đấu , nhận biệt danh The Invincibles ( tiếng Việt : \" Đội bóng bất bại \" ) và giành Cúp vàng Ngoại hạng Anh .\n",
      "=======\n",
      "Score:  0.04719630867691499\n",
      "Tây Ban Nha cũng là đội vô địch World Cup đầu tiên giữ được sạch lưới tại vòng đấu loại trực tiếp .\n",
      "=======\n",
      "Score:  -0.004762359075143571\n",
      "Tuyên Quang là một tỉnh thuộc vùng Đông Bắc Việt Nam . Có tỉnh lỵ là Thành phố Tuyên Quang .\n",
      "=======\n"
     ]
    }
   ],
   "source": [
    "# Get stop cosine similarity score\n",
    "top_d = 5\n",
    "for idx in corr_scores[0][1:].argsort()[-top_d:][::-1]:\n",
    "   print(\"Score: \", corr_scores[0][idx])\n",
    "   print(vi_data_df.iloc[idx, 2])\n",
    "   print(\"=======\")"
   ]
  },
  {
   "cell_type": "code",
   "execution_count": 52,
   "metadata": {},
   "outputs": [
    {
     "name": "stdout",
     "output_type": "stream",
     "text": [
      "Question:  Quang Hải giành được chức vô địch U21 quốc gia năm bao nhiêu tuổi\n",
      "Results:  [{'id': np.int64(0), 'cosine_score': np.float64(0.6279910475266973)}, {'id': np.int64(97), 'cosine_score': np.float64(0.21145795862251632)}, {'id': np.int64(136), 'cosine_score': np.float64(0.17714753149794468)}, {'id': np.int64(384), 'cosine_score': np.float64(0.15971218395887335)}, {'id': np.int64(118), 'cosine_score': np.float64(0.1578067474650028)}]\n",
      "Id:  0\n",
      "Score:  0.6279910475266973\n",
      "Năm 2013 , Nguyễn Quang Hải giành chức vô địch U21 quốc gia 2013 cùng với đội trẻ Hà Nội T&T và tạo nên cú sốc khi trở thành cầu thủ 16 tuổi đầu tiên giành được danh hiệu vô địch U21 quốc gia .\n",
      "=======\n",
      "Id:  97\n",
      "Score:  0.21145795862251632\n",
      "Bao Công huý là Bao Chửng ( chữ Hán : 包拯 ; 11 tháng 4 năm 999 - 20 tháng 5 năm 1062 ) , tự Hy Nhân . Ngoài ra , ông còn được gọi là Bao Thanh thiên , Bao Đãi chế , Bao Hắc tử , Bao Học sĩ hay Bao Long Đồ .\n",
      "=======\n",
      "Id:  136\n",
      "Score:  0.17714753149794468\n",
      "Arsenal đã giành được 13 chức vô địch quốc gia , 13 Cúp FA ( kỷ lục ) , 2 Cúp Liên đoàn Anh , 1 Cúp Liên đoàn Thế kỷ , 15 Siêu cúp Anh , 1 Cúp UEFA và 1 Cúp Inter-Cities Fairs . Arsenal là câu lạc bộ có số trận thắng ở cấp cao nhất nhiều thứ hai trong lịch sử bóng đá Anh , và cũng là đội bóng Anh duy nhất cho đến nay vô địch quốc gia với thành tích bất bại qua 38 vòng đấu , nhận biệt danh The Invincibles ( tiếng Việt : \" Đội bóng bất bại \" ) và giành Cúp vàng Ngoại hạng Anh .\n",
      "=======\n",
      "Id:  384\n",
      "Score:  0.15971218395887335\n",
      "Tây Ban Nha cũng là đội vô địch World Cup đầu tiên giữ được sạch lưới tại vòng đấu loại trực tiếp .\n",
      "=======\n",
      "Id:  118\n",
      "Score:  0.1578067474650028\n",
      "Tuyên Quang là một tỉnh thuộc vùng Đông Bắc Việt Nam . Có tỉnh lỵ là Thành phố Tuyên Quang .\n",
      "=======\n"
     ]
    },
    {
     "data": {
      "text/plain": [
       "np.float64(0.21145795862251632)"
      ]
     },
     "execution_count": 52,
     "metadata": {},
     "output_type": "execute_result"
    }
   ],
   "source": [
    "# q12\n",
    "def corr_search(question, tfidf_vectorizer, top_d=5):\n",
    "    # lowercasing before encoding\n",
    "    query_embedded = tfidf_vectorizer.transform([question.lower()])\n",
    "    corr_scores = np.corrcoef(\n",
    "        query_embedded.toarray()[0],\n",
    "        context_embedded.toarray()\n",
    "    )\n",
    "    corr_scores = corr_scores[0][1:]\n",
    "    # Get top k correlation score and index its\n",
    "    results = []\n",
    "    for idx in corr_scores.argsort()[-top_d:][::-1]:\n",
    "        doc = {\n",
    "            'id': idx,\n",
    "            'cosine_score':cosine_scores[idx]\n",
    "        }\n",
    "        results.append(doc)\n",
    "    return results\n",
    "\n",
    "\n",
    "question = vi_data_df.iloc[0]['question']\n",
    "print(\"Question: \", question)\n",
    "results = corr_search(question, tfidf_vectorizer)\n",
    "print(\"Results: \", results)\n",
    "for result in results:\n",
    "    print(\"Id: \", result['id'])\n",
    "    print(\"Score: \", result['cosine_score'])\n",
    "    print(vi_data_df.iloc[result['id'], 2])\n",
    "    print(\"=======\")\n",
    "\n",
    "results[1]['cosine_score']"
   ]
  },
  {
   "cell_type": "code",
   "execution_count": null,
   "metadata": {},
   "outputs": [],
   "source": [
    "question = vi_data_df.iloc[7]['question']\n",
    "print(\"Question: \", question)\n",
    "results = corr_search(question, tfidf_vectorizer)\n",
    "for result in results:\n",
    "    print(\"Id: \", result['id'])\n",
    "    print(\"Score: \", result['corr_score'])\n",
    "    print(vi_data_df.iloc[result['id'], 2])\n",
    "    print(\"=======\")"
   ]
  },
  {
   "cell_type": "markdown",
   "metadata": {},
   "source": [
    "### 4. Plagiarism Checker"
   ]
  },
  {
   "cell_type": "code",
   "execution_count": null,
   "metadata": {},
   "outputs": [],
   "source": [
    "docs = [\n",
    " \"Học máy là một nhánh của trí tuệ nhân tạo\",\n",
    " \"Trí tuệ nhân tạo bao gồm học máy và mạng nơ ron \",\n",
    " \"Mạng nơ ron là một mô hình quan trọng trong học sâu\",\n",
    " \"Học sâu là một lĩnh vực của trí tuệ nhân tạo và học máy\"\n",
    "]"
   ]
  },
  {
   "cell_type": "code",
   "execution_count": null,
   "metadata": {},
   "outputs": [],
   "source": [
    "# q13\n",
    "def build_vocabulary(docs):\n",
    "    vocab_set = set()\n",
    "    for doc in docs:\n",
    "        words = doc.lower().split()\n",
    "        vocab_set.update(words)\n",
    "    vocab = sorted(set(word for doc in vocab_set for word in doc))#?\n",
    "    return vocab"
   ]
  },
  {
   "cell_type": "code",
   "execution_count": null,
   "metadata": {},
   "outputs": [],
   "source": [
    "# q14\n",
    "def compute_tf(doc, vocab):\n",
    "    words = doc.lower().split()\n",
    "    tf = np.zeros(len(vocab))\n",
    "    for i, term in enumerate(vocab):\n",
    "        tf[i] =\n",
    "    return tf"
   ]
  },
  {
   "cell_type": "code",
   "execution_count": null,
   "metadata": {},
   "outputs": [],
   "source": []
  },
  {
   "cell_type": "code",
   "execution_count": null,
   "metadata": {},
   "outputs": [],
   "source": [
    "# q15\n",
    "def compute_idf(docs, vocab):\n",
    "    N = len(docs)\n",
    "    idf = np.zeros(len(vocab))\n",
    "    for i, term in enumerate(vocab):\n",
    "        df = sum([1 for doc in docs if term in doc.lower().split()])\n",
    "        idf = #\n",
    "    return idf"
   ]
  },
  {
   "cell_type": "code",
   "execution_count": null,
   "metadata": {},
   "outputs": [],
   "source": [
    "# q16\n",
    "def compute_tfidf(tf, idf):\n",
    "    tf_idf = #\n",
    "    return tf_idf"
   ]
  },
  {
   "cell_type": "code",
   "execution_count": null,
   "metadata": {},
   "outputs": [],
   "source": [
    "# q17\n",
    "def cosine_similarity(vec1, vec2):\n",
    "    dot_product = np.dot(vec1, vec2)\n",
    "    norm1 = np.linalg.norm(vec1)\n",
    "    norm2 = np.linalg.norm(vec2)\n",
    "    return #"
   ]
  },
  {
   "cell_type": "code",
   "execution_count": null,
   "metadata": {},
   "outputs": [],
   "source": [
    "# q18\n",
    "import numpy as np\n",
    "import pandas as pd\n",
    "import seaborn as sns\n",
    "import matplotlib.pyplot as plt"
   ]
  },
  {
   "cell_type": "code",
   "execution_count": 53,
   "metadata": {},
   "outputs": [],
   "source": [
    "def create_corpus(docs):\n",
    "    \"\"\"create corpus from document list\"\"\"\n",
    "    processed_docs = [preprocess(doc) for doc in docs]\n",
    "    vocabulary = sorted(set(word for doc in processed_docs for word in doc))\n",
    "    return processed_docs, vocabulary\n",
    "\n",
    "def preprocess(text):\n",
    "    text = text.lower()\n",
    "    words = text.split()\n",
    "    return words\n",
    "\n",
    "def compute_tf(word_list, vocabulary):\n",
    "    \"\"\"Calculate Term frequency\"\"\"\n",
    "    word_count = {}\n",
    "    for word in word_list:\n",
    "        word_count[word] = word_count.get(word, 0) + 1\n",
    "    tf_vector = np.array([\n",
    "        word_count[word] / len(word_list) if word in word_count else 0 for word in vocabulary\n",
    "    ])\n",
    "\n",
    "    return tf_vector\n",
    "\n",
    "def compute_idf(docs, vocabulary):\n",
    "    \"\"\"Compute Inverse Docuement Frequency\"\"\"\n",
    "    num_docs = len(docs)\n",
    "    idf_vector = np.array([\n",
    "        np.log(\n",
    "            (num_docs + 1) / (1 + sum(1 for doc in docs if word in doc))\n",
    "        ) + 1\n",
    "        for word in vocabulary\n",
    "    ])\n",
    "    return idf_vector\n",
    "\n",
    "def compute_tf_idf(docs):\n",
    "    \"\"\"Compute matrix TF-IDF\"\"\"\n",
    "    # Create corpus\n",
    "    processed_docs, vocabulary = create_corpus(docs)\n",
    "\n",
    "    # Compute TF and IDF\n",
    "    tf_matrix = np.array([compute_tf(doc, vocabulary) for doc in processed_docs])\n",
    "    idf_vector = compute_idf(processed_docs, vocabulary)\n",
    "\n",
    "    # Compute tf-idf\n",
    "    tf_idf_matrix = tf_matrix * idf_vector # Multiply each elements along the vertical side\n",
    "    return tf_idf_matrix\n",
    "\n",
    "def cosine_similarity(vec1, vec2):\n",
    "    \"\"\"Compute cosine similarity between 2 vector\"\"\"\n",
    "    dot_product = np.dot(vec1, vec2)\n",
    "    norm1 = np.linalg.norm(vec1)\n",
    "    norm2 = np.linalg.norm(vec2)\n",
    "    return #\n",
    "\n",
    "def check_plagiarism_all(docs):\n",
    "    \"\"\"Compute cosine similarity between pair of document\"\"\"\n",
    "    tf_idf_matrix = compute_tf_idf(docs)\n",
    "    num_docs = len(docs)\n",
    "\n",
    "    similarity_matrix = np.zeros((num_docs, num_docs))\n",
    "\n",
    "    for i in range(num_docs):\n",
    "        for j in range(num_docs):\n",
    "            similarity_matrix[i, j] = cosine_similarity(\n",
    "                tf_idf_matrix[i], tf_idf_matrix[j]\n",
    "            )\n",
    "    return similarity_matrix\n"
   ]
  },
  {
   "cell_type": "code",
   "execution_count": null,
   "metadata": {},
   "outputs": [],
   "source": [
    "plt.figure(figsize=(8, 6))\n",
    "# your code\n",
    "plt.title('Matrix cosine similarity')\n",
    "plt.show()"
   ]
  }
 ],
 "metadata": {
  "colab": {
   "provenance": []
  },
  "kernelspec": {
   "display_name": "ds_env",
   "language": "python",
   "name": "python3"
  },
  "language_info": {
   "codemirror_mode": {
    "name": "ipython",
    "version": 3
   },
   "file_extension": ".py",
   "mimetype": "text/x-python",
   "name": "python",
   "nbconvert_exporter": "python",
   "pygments_lexer": "ipython3",
   "version": "3.11.13"
  }
 },
 "nbformat": 4,
 "nbformat_minor": 0
}
