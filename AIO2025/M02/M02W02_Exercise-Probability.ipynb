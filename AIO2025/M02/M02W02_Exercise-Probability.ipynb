{
 "cells": [
  {
   "cell_type": "markdown",
   "metadata": {},
   "source": [
    "# **Subjective test**"
   ]
  },
  {
   "cell_type": "markdown",
   "metadata": {},
   "source": [
    "## Create training dataset"
   ]
  },
  {
   "cell_type": "markdown",
   "metadata": {},
   "source": [
    "[TODO]:\n",
    "- III.1. Binary Classification - Play Tennis: Question 1, 3\n",
    "- III.2. Multi-label Classification - Traffic Data\n",
    "- III.3. Iris Classification"
   ]
  },
  {
   "cell_type": "code",
   "execution_count": 1,
   "metadata": {},
   "outputs": [],
   "source": [
    "import numpy as np"
   ]
  },
  {
   "cell_type": "code",
   "execution_count": 2,
   "metadata": {},
   "outputs": [],
   "source": [
    "def create_training_data():\n",
    "    \"\"\"Create the training dataset for tennis prediction.\"\"\"\n",
    "    data = [[\"Sunny\",    \"Hot\",  \"High\",   \"Weak\",   \"No\"],\n",
    "            [\"Sunny\",    \"Hot\",  \"High\",   \"Strong\", \"No\"],\n",
    "            [\"Overcast\", \"Hot\",  \"High\",   \"Weak\",   \"Yes\"],\n",
    "            [\"Rain\",     \"Mild\", \"High\",   \"Weak\",   \"Yes\"],\n",
    "            [\"Rain\",     \"Cool\", \"Normal\", \"Weak\",   \"Yes\"],\n",
    "            [\"Rain\",     \"Cool\", \"Normal\", \"Strong\", \"No\"],\n",
    "            [\"Overcast\", \"Cool\", \"Normal\", \"Strong\", \"Yes\"],\n",
    "            [\"Overcast\", \"Mild\", \"High\",   \"Weak\",   \"No\"],\n",
    "            [\"Sunny\",    \"Cool\", \"Normal\", \"Weak\",   \"Yes\"],\n",
    "            [\"Rain\",     \"Mild\", \"Normal\", \"Weak\",   \"Yes\"]]\n",
    "    return np.array(data)"
   ]
  },
  {
   "cell_type": "code",
   "execution_count": 3,
   "metadata": {},
   "outputs": [
    {
     "name": "stdout",
     "output_type": "stream",
     "text": [
      "[['Sunny' 'Hot' 'High' 'Weak' 'No']\n",
      " ['Sunny' 'Hot' 'High' 'Strong' 'No']\n",
      " ['Overcast' 'Hot' 'High' 'Weak' 'Yes']\n",
      " ['Rain' 'Mild' 'High' 'Weak' 'Yes']\n",
      " ['Rain' 'Cool' 'Normal' 'Weak' 'Yes']\n",
      " ['Rain' 'Cool' 'Normal' 'Strong' 'No']\n",
      " ['Overcast' 'Cool' 'Normal' 'Strong' 'Yes']\n",
      " ['Overcast' 'Mild' 'High' 'Weak' 'No']\n",
      " ['Sunny' 'Cool' 'Normal' 'Weak' 'Yes']\n",
      " ['Rain' 'Mild' 'Normal' 'Weak' 'Yes']]\n"
     ]
    }
   ],
   "source": [
    "train_data = create_training_data()\n",
    "print(train_data)"
   ]
  },
  {
   "cell_type": "markdown",
   "metadata": {},
   "source": [
    "## Compute prior probabilities"
   ]
  },
  {
   "cell_type": "code",
   "execution_count": 4,
   "metadata": {},
   "outputs": [],
   "source": [
    "def compute_prior_probabilities(train_data):\n",
    "    \"\"\"\n",
    "    Calculate prior probabilities P(Play Tennis = Yes/No).\n",
    "    Args:\n",
    "        train_data: Training dataset\n",
    "    Returns:\n",
    "        Array of prior probabilities [P(No), P(Yes)]\n",
    "    \"\"\"\n",
    "    class_names = [\"No\", \"Yes\"]\n",
    "    total_samples = len(train_data[:,-1])#final output\n",
    "    prior_probs = np.zeros(len(class_names))\n",
    "\n",
    "    # Count class yes or no: np.sum(np.where(train_data[:,-1] == \"Yes\",1, 0))\n",
    "    prior_probs[1] = np.sum(np.where(train_data[:,-1] == \"Yes\",1, 0)) / total_samples\n",
    "    prior_probs[0] = np.sum(np.where(train_data[:,-1] == \"No\",1, 0)) / total_samples\n",
    "    # Equal to:\n",
    "    # for i, class_name in enumerate(class_names):\n",
    "    #     class_count = np.sum(train_data[:, -1] == class_name)\n",
    "    #     prior_probs[i] = class_count / total_samples\n",
    "\n",
    "    return prior_probs"
   ]
  },
  {
   "cell_type": "code",
   "execution_count": 7,
   "metadata": {},
   "outputs": [
    {
     "name": "stdout",
     "output_type": "stream",
     "text": [
      "P(‘Play Tennis’ = No) 0.4\n",
      "P(‘Play Tennis’ = Yes) 0.6\n"
     ]
    }
   ],
   "source": [
    "prior_probability = compute_prior_probabilities(train_data=train_data)\n",
    "print(\"P(‘Play Tennis’ = No)\", prior_probability[0])\n",
    "print(\"P(‘Play Tennis’ = Yes)\", prior_probability[1])"
   ]
  },
  {
   "cell_type": "markdown",
   "metadata": {},
   "source": [
    "## Compute conditional probabilities"
   ]
  },
  {
   "cell_type": "code",
   "execution_count": 8,
   "metadata": {},
   "outputs": [],
   "source": [
    "import numpy as np\n",
    "\n",
    "def compute_conditional_probabilities(train_data):\n",
    "    \"\"\"\n",
    "    Calculate conditional probabilities P(Feature|Class) for all features.\n",
    "    Args:\n",
    "        train_data: Training dataset (numpy array with features and target column)\n",
    "    Returns:\n",
    "        Tuple of (conditional_probabilities, feature_values)\n",
    "    \"\"\"\n",
    "    class_names = [\"No\", \"Yes\"]\n",
    "    y_train = train_data[:, -1] # that mean the label\n",
    "    n_features = train_data.shape[1] - 1  # Exclude target column:features\n",
    "    conditional_probs = []\n",
    "    feature_values = []\n",
    "\n",
    "    for feature_idx in range(n_features):\n",
    "        # Get unique values for this feature\n",
    "        unique_values = np.unique(train_data[:, feature_idx])\n",
    "        feature_values.append(unique_values)\n",
    "\n",
    "        # Initialize conditional probability matrix\n",
    "        # Shape: (number of classes, number of unique feature values)\n",
    "        feature_cond_probs = np.zeros((len(class_names), len(unique_values)))\n",
    "\n",
    "        for class_idx, class_name in enumerate(class_names):\n",
    "            # Get samples for `this` class\n",
    "            class_data = train_data[y_train == class_name]\n",
    "            class_count = len(class_data)\n",
    "\n",
    "            for value_idx, value_name in enumerate(unique_values):\n",
    "                # Count occurrences of this feature value in this class\n",
    "                value_count_in_class = np.sum(class_data[:, feature_idx] == value_name)\n",
    "\n",
    "                # Calculate conditional probability with Laplace smoothing\n",
    "                # P(Feature=value|Class=class) = Count(value & class) / Count(class)\n",
    "                cond_prob = value_count_in_class / class_count\n",
    "\n",
    "                # Store the probability\n",
    "                feature_cond_probs[class_idx, value_idx] = cond_prob\n",
    "                # print(f\"class_idx = {class_idx}, class_name = {class_name}\")\n",
    "                # print(f\"cond_prob = {cond_prob}\")\n",
    "\n",
    "        conditional_probs.append(feature_cond_probs)\n",
    "        # print(\"feature_cond_probs = \",feature_cond_probs)\n",
    "\n",
    "    return conditional_probs, feature_values"
   ]
  },
  {
   "cell_type": "code",
   "execution_count": 16,
   "metadata": {},
   "outputs": [
    {
     "name": "stdout",
     "output_type": "stream",
     "text": [
      "x1 =  ['Overcast' 'Rain' 'Sunny']\n",
      "x2 =  ['Cool' 'Hot' 'Mild']\n",
      "x3 =  ['High' 'Normal']\n",
      "x4 =  ['Strong' 'Weak']\n",
      "conditional_probs1:\n",
      " [[0.25       0.25       0.5       ]\n",
      " [0.33333333 0.5        0.16666667]]\n",
      "conditional_probs2:\n",
      " [[0.25       0.5        0.25      ]\n",
      " [0.5        0.16666667 0.33333333]]\n",
      "conditional_probs3:\n",
      " [[0.75       0.25      ]\n",
      " [0.33333333 0.66666667]]\n",
      "conditional_probs4:\n",
      " [[0.5        0.5       ]\n",
      " [0.16666667 0.83333333]]\n"
     ]
    }
   ],
   "source": [
    "# Test\n",
    "conditional_probs, feature_values = compute_conditional_probabilities(train_data=train_data)\n",
    "print(\"x1 = \",feature_values[0])\n",
    "print(\"x2 = \",feature_values[1])\n",
    "print(\"x3 = \",feature_values[2])\n",
    "print(\"x4 = \",feature_values[3])\n",
    "print(\"conditional_probs1:\\n\", conditional_probs[0])\n",
    "print(\"conditional_probs2:\\n\", conditional_probs[1])\n",
    "print(\"conditional_probs3:\\n\", conditional_probs[2])\n",
    "print(\"conditional_probs4:\\n\", conditional_probs[3])"
   ]
  },
  {
   "cell_type": "markdown",
   "metadata": {},
   "source": [
    "## Get feature index"
   ]
  },
  {
   "cell_type": "code",
   "execution_count": 17,
   "metadata": {},
   "outputs": [],
   "source": [
    "def get_feature_index(feature_value, feature_values):\n",
    "    \"\"\"\n",
    "    Get the index of a feature value in the feature values array.\n",
    "    Args:\n",
    "        feature_value: Value to find\n",
    "        feature_values: Array of possible feature values\n",
    "    Returns:\n",
    "       Index of the feature value\n",
    "    \"\"\"\n",
    "    return np.where(feature_values == feature_value)[0][0]"
   ]
  },
  {
   "cell_type": "code",
   "execution_count": 18,
   "metadata": {},
   "outputs": [
    {
     "name": "stdout",
     "output_type": "stream",
     "text": [
      "0 1 2\n"
     ]
    }
   ],
   "source": [
    "_, feature_values = compute_conditional_probabilities(train_data)\n",
    "outlook = feature_values[0]\n",
    "i1 = get_feature_index(\"Overcast\", outlook)\n",
    "i2 = get_feature_index(\"Rain\", outlook)\n",
    "i3 = get_feature_index(\"Sunny\", outlook)\n",
    "\n",
    "print(i1, i2, i3)"
   ]
  },
  {
   "cell_type": "markdown",
   "metadata": {},
   "source": [
    "## Train naive bayes model"
   ]
  },
  {
   "cell_type": "code",
   "execution_count": 19,
   "metadata": {},
   "outputs": [],
   "source": [
    "def train_naive_bayes(train_data):\n",
    "    \"\"\"\n",
    "    Train the Naive Bayes classifier.\n",
    "    Args:\n",
    "        train_data: Training dataset\n",
    "    Returns:\n",
    "        Tuple of (prior_probabilities, conditional_probabilities, feature_names)\n",
    "    \"\"\"\n",
    "\n",
    "    # Calculate prior probabilities\n",
    "    prior_probabilities = compute_prior_probabilities(train_data)\n",
    "\n",
    "    # Calculate conditional probabilities\n",
    "    conditional_probabilities, feature_names = compute_conditional_probabilities(train_data)\n",
    "\n",
    "    return prior_probabilities, conditional_probabilities, feature_names\n"
   ]
  },
  {
   "cell_type": "code",
   "execution_count": 20,
   "metadata": {},
   "outputs": [],
   "source": [
    "# Train the model\n",
    "prior_probs, conditional_probs, feature_names = train_naive_bayes(train_data)"
   ]
  },
  {
   "cell_type": "markdown",
   "metadata": {},
   "source": [
    "## Predict a test sample"
   ]
  },
  {
   "cell_type": "code",
   "execution_count": 21,
   "metadata": {
    "id": "odxm81_ozpNi"
   },
   "outputs": [],
   "source": [
    "def predict_play_tennis(\n",
    "        X, prior_probabilities, conditional_probabilities, feature_names\n",
    "):\n",
    "    \"\"\"\n",
    "    Make a prediction for given features.\n",
    "\n",
    "    Args:\n",
    "        X: List of feature values [Outlook, Temperature, Humidity, Wind]\n",
    "        prior_probabilities: Prior probabilities for each class\n",
    "        condtional_probabilities: Conditional probabilities for each feature\n",
    "        feature_names: Names/values for each features\n",
    "    Returns:\n",
    "        Tuple of (prediction, probabilities)\n",
    "    \"\"\"\n",
    "    class_names = [\"No\", \"Yes\"]\n",
    "\n",
    "    # Get feature indices\n",
    "    feature_indices = []\n",
    "    for i, feature_value in enumerate(X):\n",
    "        feature_indices.append(get_feature_index(feature_value, feature_names[i]))\n",
    "\n",
    "    # Calculate probabilities for each class\n",
    "    class_probabilities = []\n",
    "\n",
    "    for class_idx in range(len(class_names)):\n",
    "        # Start with prior probability\n",
    "        prob = prior_probabilities[class_idx]\n",
    "\n",
    "        # Multiply by conditional probabilities\n",
    "        for feature_idx, value_idx in enumerate(feature_indices):\n",
    "            prob *= conditional_probabilities[feature_idx][class_idx, value_idx]\n",
    "\n",
    "        class_probabilities.append(prob)\n",
    "\n",
    "\n",
    "    # Normalize probabilities\n",
    "    total_prob = sum(class_probabilities)\n",
    "    if total_prob > 0:\n",
    "        normalized_probs = [p / total_prob for p in class_probabilities]\n",
    "    else:\n",
    "        normalized_probs = [0.5, 0.5] # Default if all probabilites are 0\n",
    "\n",
    "    # Make prediction\n",
    "    predicted_class_idx = np.argmax(class_probabilities)\n",
    "    prediction = class_names[predicted_class_idx]\n",
    "\n",
    "    # Create probability dictionary\n",
    "    prob_dict = {\n",
    "        \"No\": round(normalized_probs[0].item(), 2),\n",
    "        \"Yes\": round(normalized_probs[1].item(), 2)\n",
    "    }\n",
    "\n",
    "    return prediction, prob_dict"
   ]
  },
  {
   "cell_type": "code",
   "execution_count": 23,
   "metadata": {},
   "outputs": [
    {
     "name": "stdout",
     "output_type": "stream",
     "text": [
      "Ad should not go!\n"
     ]
    },
    {
     "data": {
      "text/plain": [
       "('No', {'No': 0.87, 'Yes': 0.13})"
      ]
     },
     "execution_count": 23,
     "metadata": {},
     "output_type": "execute_result"
    }
   ],
   "source": [
    "X = [\"Sunny\",\"Cool\", \"High\", \"Strong\"]\n",
    "\n",
    "prior_probs, conditional_probs, feature_names = train_naive_bayes(train_data)\n",
    "prediction, prob_dict = predict_play_tennis(\n",
    "    X, prior_probs, conditional_probs, feature_names\n",
    ")\n",
    "\n",
    "if  prediction == \"Yes\":\n",
    "    print(\"Ad should go!\")\n",
    "else:\n",
    "    print(\"Ad should not go!\")\n",
    "\n",
    "prediction, prob_dict"
   ]
  },
  {
   "cell_type": "markdown",
   "metadata": {},
   "source": [
    "# **Objective test**"
   ]
  },
  {
   "cell_type": "markdown",
   "metadata": {},
   "source": [
    "## Binary Classification - Play Tennis"
   ]
  },
  {
   "cell_type": "code",
   "execution_count": 134,
   "metadata": {},
   "outputs": [],
   "source": [
    "#1 A P(\"Play Tennis\" = \"Yes\") = 6/10, P(\"Play Tennis\" = \"No\") = 4/10\n"
   ]
  },
  {
   "cell_type": "code",
   "execution_count": null,
   "metadata": {},
   "outputs": [],
   "source": [
    "# I need more help!!!!!\n",
    "#2 B P(\"Play Tennis\" = \"Yes\"|X) ∝ 0.0028\n",
    "#3 C P(\"Play Tennis\" = \"No\"| X) ∝ 0.0188\n"
   ]
  },
  {
   "cell_type": "code",
   "execution_count": null,
   "metadata": {},
   "outputs": [],
   "source": [
    "X = [\"Sunny\",\"Cool\", \"High\", \"Strong\"]\n",
    "prior_probs, conditional_probs, feature_names = train_naive_bayes(train_data)\n",
    "final_probabilities, prediction = predict(X, prior_probs, conditional_probs, feature_names)\n",
    "print(f\"P(\\\"Play Tennis\\\" = \\\"no\\\" | X) = {final_probabilities[0]:.4f} ({final_probabilities[0]*100:.2f}%)\")\n",
    "print(f\"P(\\\"Play Tennis\\\" = \\\"yes\\\" | X) = {final_probabilities[1]:.4f} ({final_probabilities[1]*100:.2f}%)\")"
   ]
  },
  {
   "cell_type": "code",
   "execution_count": null,
   "metadata": {},
   "outputs": [],
   "source": [
    "#4 B\n",
    "#5 A\n",
    "#6 B\n",
    "#7 C\n",
    "#8 A"
   ]
  },
  {
   "cell_type": "markdown",
   "metadata": {},
   "source": [
    "## Multi-label Classification - Traffic Data"
   ]
  },
  {
   "cell_type": "code",
   "execution_count": null,
   "metadata": {},
   "outputs": [],
   "source": [
    "# I need more help!!!!!\n",
    "# 9\n",
    "# 10\n",
    "# 11\n",
    "# 12\n",
    "# 13\n",
    "# 14"
   ]
  },
  {
   "cell_type": "markdown",
   "metadata": {},
   "source": [
    "## Iris Classification"
   ]
  },
  {
   "cell_type": "code",
   "execution_count": null,
   "metadata": {},
   "outputs": [],
   "source": [
    "# I need more help!!!!!\n",
    "# 15\n",
    "# 16\n",
    "# 17"
   ]
  },
  {
   "cell_type": "code",
   "execution_count": 26,
   "metadata": {},
   "outputs": [
    {
     "name": "stdout",
     "output_type": "stream",
     "text": [
      "P('Outlook'='Sunny'|Play Tennis'='Yes') =  0.17\n"
     ]
    }
   ],
   "source": [
    "# Compute P(\"Outlook\"=\"Sunny\"|Play Tennis\"=\"Yes\")\n",
    "# Line 1 is Yes\n",
    "x1 = get_feature_index(\"Sunny\",feature_values[0])\n",
    "print(\"P('Outlook'='Sunny'|Play Tennis'='Yes') = \",\n",
    "      np.round(conditional_probs[0][1, x1],2)\n",
    ")"
   ]
  },
  {
   "cell_type": "code",
   "execution_count": 32,
   "metadata": {},
   "outputs": [
    {
     "data": {
      "text/plain": [
       "array(['Overcast', 'Rain', 'Sunny'], dtype='<U8')"
      ]
     },
     "execution_count": 32,
     "metadata": {},
     "output_type": "execute_result"
    }
   ],
   "source": [
    "feature_values[0]\n",
    "# Index of 'Sunny' is 2"
   ]
  },
  {
   "cell_type": "code",
   "execution_count": 35,
   "metadata": {},
   "outputs": [
    {
     "data": {
      "text/plain": [
       "array([[0.25      , 0.25      , 0.5       ],\n",
       "       [0.33333333, 0.5       , 0.16666667]])"
      ]
     },
     "execution_count": 35,
     "metadata": {},
     "output_type": "execute_result"
    }
   ],
   "source": [
    "conditional_probs[0]"
   ]
  },
  {
   "cell_type": "code",
   "execution_count": 36,
   "metadata": {},
   "outputs": [
    {
     "data": {
      "text/plain": [
       "np.float64(0.5)"
      ]
     },
     "execution_count": 36,
     "metadata": {},
     "output_type": "execute_result"
    }
   ],
   "source": [
    "conditional_probs[0][0, 2]"
   ]
  },
  {
   "cell_type": "code",
   "execution_count": 37,
   "metadata": {},
   "outputs": [
    {
     "name": "stdout",
     "output_type": "stream",
     "text": [
      "P('Outlook'='Sunny'|Play Tennis'='No') =  0.5\n"
     ]
    }
   ],
   "source": [
    "# Compute P(\"Outlook\"=\"Sunny\"|Play Tennis\"=\"No\")\n",
    "# Line 2 is No\n",
    "x1 = get_feature_index(\"Sunny\",feature_values[0])\n",
    "print(\n",
    "    \"P('Outlook'='Sunny'|Play Tennis'='No') = \",\n",
    "    np.round(conditional_probs[0][0, x1],2)\n",
    ")"
   ]
  }
 ],
 "metadata": {
  "colab": {
   "provenance": []
  },
  "kernelspec": {
   "display_name": "ds_env",
   "language": "python",
   "name": "python3"
  },
  "language_info": {
   "codemirror_mode": {
    "name": "ipython",
    "version": 3
   },
   "file_extension": ".py",
   "mimetype": "text/x-python",
   "name": "python",
   "nbconvert_exporter": "python",
   "pygments_lexer": "ipython3",
   "version": "3.11.13"
  }
 },
 "nbformat": 4,
 "nbformat_minor": 0
}
