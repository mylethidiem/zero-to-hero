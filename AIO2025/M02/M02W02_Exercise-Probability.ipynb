{
 "cells": [
  {
   "cell_type": "markdown",
   "metadata": {},
   "source": [
    "# **Subjective test**"
   ]
  },
  {
   "cell_type": "markdown",
   "metadata": {},
   "source": [
    "## Create training dataset"
   ]
  },
  {
   "cell_type": "code",
   "execution_count": 5,
   "metadata": {},
   "outputs": [],
   "source": [
    "import numpy as np"
   ]
  },
  {
   "cell_type": "code",
   "execution_count": 7,
   "metadata": {},
   "outputs": [],
   "source": [
    "def create_training_data():\n",
    "    \"\"\"Create the training dataset for tennis prediction.\"\"\"\n",
    "    data = [[\"Sunny\",    \"Hot\",  \"High\",   \"Weak\",   \"no\"],\n",
    "            [\"Sunny\",    \"Hot\",  \"High\",   \"Strong\", \"no\"],\n",
    "            [\"Overcast\", \"Hot\",  \"High\",   \"Weak\",   \"yes\"],\n",
    "            [\"Rain\",     \"Mild\", \"High\",   \"Weak\",   \"yes\"],\n",
    "            [\"Rain\",     \"Cool\", \"Normal\", \"Weak\",   \"yes\"],\n",
    "            [\"Rain\",     \"Cool\", \"Normal\", \"Strong\", \"no\"],\n",
    "            [\"Overcast\", \"Cool\", \"Normal\", \"Strong\", \"yes\"],\n",
    "            [\"Overcast\", \"Mild\", \"High\",   \"Weak\",   \"no\"],\n",
    "            [\"Sunny\",    \"Cool\", \"Normal\", \"Weak\",   \"yes\"],\n",
    "            [\"Rain\",     \"Mild\", \"Normal\", \"Weak\",   \"yes\"]]\n",
    "    return np.array(data)"
   ]
  },
  {
   "cell_type": "code",
   "execution_count": 8,
   "metadata": {},
   "outputs": [
    {
     "name": "stdout",
     "output_type": "stream",
     "text": [
      "[['Sunny' 'Hot' 'High' 'Weak' 'no']\n",
      " ['Sunny' 'Hot' 'High' 'Strong' 'no']\n",
      " ['Overcast' 'Hot' 'High' 'Weak' 'yes']\n",
      " ['Rain' 'Mild' 'High' 'Weak' 'yes']\n",
      " ['Rain' 'Cool' 'Normal' 'Weak' 'yes']\n",
      " ['Rain' 'Cool' 'Normal' 'Strong' 'no']\n",
      " ['Overcast' 'Cool' 'Normal' 'Strong' 'yes']\n",
      " ['Overcast' 'Mild' 'High' 'Weak' 'no']\n",
      " ['Sunny' 'Cool' 'Normal' 'Weak' 'yes']\n",
      " ['Rain' 'Mild' 'Normal' 'Weak' 'yes']]\n"
     ]
    }
   ],
   "source": [
    "train_data = create_training_data()\n",
    "print(train_data)"
   ]
  },
  {
   "cell_type": "markdown",
   "metadata": {},
   "source": [
    "## Compute prior probabilities"
   ]
  },
  {
   "cell_type": "code",
   "execution_count": 30,
   "metadata": {},
   "outputs": [],
   "source": [
    "def compute_prior_probabilities(train_data):\n",
    "    \"\"\"\n",
    "    Calculate prior probabilities P(Play Tennis = Yes/No).\n",
    "    Args:\n",
    "        train_data: Training dataset\n",
    "    Returns:\n",
    "        Array of prior probabilities [P(No), P(Yes)]\n",
    "    \"\"\"\n",
    "    class_names = [\"no\", \"yes\"]\n",
    "    total_samples = len(train_data[:,-1])#final output\n",
    "    prior_probs = np.zeros(len(class_names))\n",
    "\n",
    "    prior_probs[1] = np.sum(np.where(train_data[:,-1] == \"yes\",1, 0)) / total_samples\n",
    "    prior_probs[0] = np.sum(np.where(train_data[:,-1] == \"no\",1, 0)) / total_samples\n",
    "\n",
    "    return prior_probs"
   ]
  },
  {
   "cell_type": "code",
   "execution_count": 31,
   "metadata": {},
   "outputs": [
    {
     "name": "stdout",
     "output_type": "stream",
     "text": [
      "P(‘Play Tennis’ = No) 0.4\n",
      "P(‘Play Tennis’ = Yes) 0.6\n"
     ]
    }
   ],
   "source": [
    "prior_probability = compute_prior_probabilities(train_data=train_data)\n",
    "print(\"P(‘Play Tennis’ = No)\", prior_probability[0])\n",
    "print(\"P(‘Play Tennis’ = Yes)\", prior_probability[1])"
   ]
  },
  {
   "cell_type": "markdown",
   "metadata": {},
   "source": [
    "## Compute conditional probabilities"
   ]
  },
  {
   "cell_type": "code",
   "execution_count": null,
   "metadata": {},
   "outputs": [],
   "source": [
    "def compute_conditional_probabilities(train_data):\n",
    "    \"\"\"\n",
    "    Calculate conditional probabilities P(Feature|Class) for all features.\n",
    "    Args:\n",
    "        train_data: Training dataset\n",
    "    Returns:\n",
    "        Tuple of (conditional_probabilities, feature_values)\n",
    "    \"\"\"\n",
    "    class_names = [\"No\", \"Yes\"]\n",
    "    n_features = train_data.shape[1] - 1 #Exclude target column\n",
    "    conditional_probs = []\n",
    "    feature_values = []\n",
    "\n",
    "    for feature_idx in range(n_features):\n",
    "        #Get unique values for this feature\n",
    "        unique_values = np.unique(train_data[:, feature_idx])\n",
    "        feature_values.append(unique_values)\n",
    "\n",
    "        # Initialize conditional probability matrix\n",
    "        feature_cond_probs = np.zeros(len(class_names), len(unique_values))\n",
    "\n",
    "        for class_idx, class_name in enumerate(class_names):\n",
    "            # Get samples for this class\n",
    "            #...code\n",
    "\n",
    "            for value_idx, class_name in enumerate(unique_values):\n",
    "                # Count occurences pf this feature value in this class\n",
    "                # Calculate conditional probability\n",
    "                # ...code\n",
    "                print(\"TODO\")\n",
    "\n",
    "        conditional_probs.append(feature_cond_probs)\n",
    "    return conditional_probs, feature_cond_probs\n"
   ]
  },
  {
   "cell_type": "code",
   "execution_count": null,
   "metadata": {},
   "outputs": [],
   "source": [
    "# Test\n",
    "_, feature_values = compute_conditional_probabilities(train_data=train_data)\n",
    "print(\"x1 = \",feature_values[0])\n",
    "print(\"x2 = \",feature_values[1])\n",
    "print(\"x3 = \",feature_values[2])\n",
    "print(\"x4 = \",feature_values[3])"
   ]
  },
  {
   "cell_type": "markdown",
   "metadata": {},
   "source": [
    "## Get feature index"
   ]
  },
  {
   "cell_type": "code",
   "execution_count": null,
   "metadata": {},
   "outputs": [],
   "source": [
    "def get_feature_index(feature_value, feature_values):\n",
    "    \"\"\"\n",
    "    Get the index of a feature value in the feature values array.\n",
    "    Args:\n",
    "        feature_value: Value to find\n",
    "        feature_values: Array of possible feature values\n",
    "    Returns:\n",
    "       Index of the feature value\n",
    "    \"\"\"\n",
    "    return #..."
   ]
  },
  {
   "cell_type": "code",
   "execution_count": null,
   "metadata": {},
   "outputs": [],
   "source": [
    "_, feature_values = compute_conditional_probabilities(train_data)\n",
    "outlook = feature_values[0]\n",
    "i1 = get_feature_index(\"Overcast\", outlook)\n",
    "i2 = get_feature_index(\"Rain\", outlook)\n",
    "i3 = get_feature_index(\"Sunny\", outlook)\n",
    "\n",
    "print(i1, i2, i3)"
   ]
  },
  {
   "cell_type": "markdown",
   "metadata": {},
   "source": [
    "## Train naive bayes model"
   ]
  },
  {
   "cell_type": "code",
   "execution_count": null,
   "metadata": {},
   "outputs": [],
   "source": [
    "def train_naive_bayes(train_data):\n",
    "    \"\"\"\n",
    "    Train the Naive Bayes classifier.\n",
    "    Args:\n",
    "        train_data: Training dataset\n",
    "    Returns:\n",
    "        Tuple of (prior_probabilities, conditional_probabilities, feature_names)\n",
    "    \"\"\"\n",
    "\n",
    "    # Calculate prior probabilities\n",
    "    prior_probabilities = #...\n",
    "\n",
    "    # Calculate conditional probabilities\n",
    "    conditional_probabilities, feature_names = #...\n",
    "\n",
    "    return prior_probabilities, conditional_probabilities, feature_names\n"
   ]
  },
  {
   "cell_type": "code",
   "execution_count": null,
   "metadata": {},
   "outputs": [],
   "source": [
    "# Train the model\n",
    "prior_probs, conditional_probs, feature_names = train_naive_bayes(train_data)"
   ]
  },
  {
   "cell_type": "markdown",
   "metadata": {},
   "source": [
    "## Predict a test sample"
   ]
  },
  {
   "cell_type": "code",
   "execution_count": null,
   "metadata": {
    "id": "odxm81_ozpNi"
   },
   "outputs": [],
   "source": [
    "def predict_play_tennis(\n",
    "        X, prior_probabilities, conditional_probabilities, feature_names\n",
    "):\n",
    "    \"\"\"\n",
    "    Make a prediction for given features.\n",
    "\n",
    "    Args:\n",
    "        X: List of feature values [Outlook, Temperature, Humidity, Wind]\n",
    "        prior_probabilities: Prior probabilities for each class\n",
    "        condtional_probabilities: Conditional probabilities for each feature\n",
    "        feature_names: Names/values for each features\n",
    "    Returns:\n",
    "        Tuple of (prediction, probabilities)\n",
    "    \"\"\"\n",
    "    class_names = [\"no\", \"yes\"]\n",
    "\n",
    "    # Get feature indices\n",
    "    feature_indices = []\n",
    "    for i, feature_value in enumerate(X):\n",
    "        feature_indices.append(get_feature_index(feature_value, feature_names[i]))\n",
    "\n",
    "    # Calculate probabilities for each class\n",
    "    class_probabilities = []\n",
    "\n",
    "    for class_idx in range(len(class_names)):\n",
    "        # Start with prior probability\n",
    "        # Multiply by conditional probabilities\n",
    "        #...code\n",
    "\n",
    "    # Normalize probabilities\n",
    "    total_prob = sum(class_probabilities)\n",
    "    if total_prob > 0:\n",
    "        normalized_probs = [p / total_prob for p in class_probabilities]\n",
    "    else:\n",
    "        normalized_probs = [0.5, 0.5] # Default if all probabilites are 0\n",
    "\n",
    "    # Make prediction\n",
    "    predicted_class_idx = np.argmax(class_probabilities)\n",
    "    prediction = class_names[predicted_class_idx]\n",
    "\n",
    "    # Create probability dictionary\n",
    "    prob_dict = {\n",
    "        \"No\": round(normalized_probs[0].item(), 2),\n",
    "        \"Yes\": round(normalized_probs[1].item(), 2)\n",
    "    }\n",
    "\n",
    "    return prediction, prob_dict"
   ]
  },
  {
   "cell_type": "code",
   "execution_count": null,
   "metadata": {},
   "outputs": [],
   "source": [
    "X = [\"Sunny\",\"Cool\", \"High\", \"Strong\"]\n",
    "\n",
    "prior_probs, conditional_probs, feature_names = train_naive_bayes(train_data)\n",
    "prediction, prob_dict = predict_play_tennis(\n",
    "    X, prior_probs, conditional_probs, feature_names\n",
    ")\n",
    "\n",
    "if prediction:\n",
    "    print(\"Ad should go!\")\n",
    "else:\n",
    "    print(\"Ad should not go!\")"
   ]
  },
  {
   "cell_type": "markdown",
   "metadata": {},
   "source": [
    "# **Objective test**"
   ]
  },
  {
   "cell_type": "markdown",
   "metadata": {},
   "source": [
    "## Binary Classification - Play Tennis"
   ]
  },
  {
   "cell_type": "code",
   "execution_count": null,
   "metadata": {},
   "outputs": [],
   "source": []
  },
  {
   "cell_type": "markdown",
   "metadata": {},
   "source": [
    "## Multi-label Classification - Traffic Data"
   ]
  },
  {
   "cell_type": "code",
   "execution_count": null,
   "metadata": {},
   "outputs": [],
   "source": []
  },
  {
   "cell_type": "markdown",
   "metadata": {},
   "source": [
    "## Iris Classification"
   ]
  },
  {
   "cell_type": "code",
   "execution_count": null,
   "metadata": {},
   "outputs": [],
   "source": []
  }
 ],
 "metadata": {
  "colab": {
   "provenance": []
  },
  "kernelspec": {
   "display_name": "ds_env",
   "language": "python",
   "name": "python3"
  },
  "language_info": {
   "codemirror_mode": {
    "name": "ipython",
    "version": 3
   },
   "file_extension": ".py",
   "mimetype": "text/x-python",
   "name": "python",
   "nbconvert_exporter": "python",
   "pygments_lexer": "ipython3",
   "version": "3.11.13"
  }
 },
 "nbformat": 4,
 "nbformat_minor": 0
}
