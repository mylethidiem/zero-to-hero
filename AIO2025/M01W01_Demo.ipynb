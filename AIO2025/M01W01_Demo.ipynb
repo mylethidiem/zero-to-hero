{
  "cells": [
    {
      "cell_type": "markdown",
      "metadata": {
        "id": "view-in-github",
        "colab_type": "text"
      },
      "source": [
        "<a href=\"https://colab.research.google.com/github/mylethidiem/zero-to-hero/blob/main/AIO2025/M01W01_Demo.ipynb\" target=\"_parent\"><img src=\"https://colab.research.google.com/assets/colab-badge.svg\" alt=\"Open In Colab\"/></a>"
      ]
    },
    {
      "cell_type": "markdown",
      "metadata": {
        "id": "bmYbT8lFALWs"
      },
      "source": [
        "[AIO2025]\n",
        "[Week1] \\\n",
        "LÊ THỊ DIỄM MY"
      ]
    },
    {
      "cell_type": "code",
      "source": [
        "n = 1\n",
        "for i in range(0, 500, 100):\n",
        "      n = i\n",
        "print(i)"
      ],
      "metadata": {
        "id": "f4Z2K3YIBvLl",
        "outputId": "db70be21-ddad-4055-afce-6f1ac2cca1f5",
        "colab": {
          "base_uri": "https://localhost:8080/"
        }
      },
      "execution_count": 1,
      "outputs": [
        {
          "output_type": "stream",
          "name": "stdout",
          "text": [
            "400\n"
          ]
        }
      ]
    },
    {
      "cell_type": "code",
      "source": [
        "def check_the_number(N):\n",
        "    list_of_numbers = []\n",
        "    result = \"\"\n",
        "    for i in range(1, 5):\n",
        "        list_of_numbers.append(i)\n",
        "    if N in list_of_numbers:\n",
        "        results = \"True\"\n",
        "    if N not in list_of_numbers:\n",
        "        results = \"False\"\n",
        "    return results\n",
        "\n",
        "N = 2\n",
        "results = check_the_number(N)\n",
        "print(results)"
      ],
      "metadata": {
        "id": "UNCCqZZwCCz2",
        "outputId": "c0e8270c-80f2-4004-aadf-893c16cb1827",
        "colab": {
          "base_uri": "https://localhost:8080/"
        }
      },
      "execution_count": 2,
      "outputs": [
        {
          "output_type": "stream",
          "name": "stdout",
          "text": [
            "True\n"
          ]
        }
      ]
    }
  ],
  "metadata": {
    "accelerator": "GPU",
    "colab": {
      "gpuType": "T4",
      "provenance": [],
      "include_colab_link": true
    },
    "kernelspec": {
      "display_name": "Python 3",
      "name": "python3"
    },
    "language_info": {
      "name": "python"
    }
  },
  "nbformat": 4,
  "nbformat_minor": 0
}