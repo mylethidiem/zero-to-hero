{
 "cells": [
  {
   "cell_type": "markdown",
   "metadata": {},
   "source": [
    "<a href=\"https://colab.research.google.com/github/mylethidiem/zero-to-hero/blob/main/AIO25/M01W02_Demo.ipynb\" target=\"_parent\"><img src=\"https://colab.research.google.com/assets/colab-badge.svg\" alt=\"Open In Colab\"/></a>"
   ]
  },
  {
   "cell_type": "markdown",
   "metadata": {},
   "source": [
    "D04 prepare and test"
   ]
  },
  {
   "cell_type": "code",
   "execution_count": null,
   "metadata": {
    "colab": {
     "base_uri": "https://localhost:8080/"
    },
    "id": "K2ReRoZ8Rusf",
    "outputId": "423a6acb-d76f-40bd-f0dd-a2bd81010851"
   },
   "outputs": [],
   "source": [
    "#Q1\n",
    "Class Cat:\n",
    "    __age = 0\n",
    "    def describe(self):\n",
    "        print(__age, age)\n",
    "\n",
    "# test code\n",
    "c = Cat()\n",
    "c.describe(1)"
   ]
  },
  {
   "cell_type": "code",
   "execution_count": null,
   "metadata": {},
   "outputs": [],
   "source": [
    "# Q2\n",
    "class Cat:\n",
    "    age = 0\n",
    "    def describe(self, age):\n",
    "        print(age, age)\n",
    "\n",
    "# test code\n",
    "c = Cat()\n",
    "c.describe(1)"
   ]
  },
  {
   "cell_type": "code",
   "execution_count": null,
   "metadata": {},
   "outputs": [],
   "source": [
    "#Q3\n",
    "class Cat:\n",
    "    age = 0\n",
    "    def describe(self, name):\n",
    "        print(age, name)\n",
    "\n",
    "# test code\n",
    "c = Cat()\n",
    "c.describe('Tom')"
   ]
  },
  {
   "cell_type": "code",
   "execution_count": null,
   "metadata": {},
   "outputs": [],
   "source": [
    "#Q4\n",
    "class Cat:\n",
    "    age = 0\n",
    "    def describe(self, name):\n",
    "        print(self.age, name)\n",
    "\n",
    "# test code\n",
    "c = Cat()\n",
    "c.describe('Tom')"
   ]
  },
  {
   "cell_type": "code",
   "execution_count": null,
   "metadata": {},
   "outputs": [],
   "source": [
    "#Q5\n",
    "class Cat:\n",
    "    __age = 0\n",
    "    def describe(self, name):\n",
    "        print(self.age, name)\n",
    "\n",
    "# test code\n",
    "c = Cat()\n",
    "c.describe('Tom')"
   ]
  },
  {
   "cell_type": "code",
   "execution_count": null,
   "metadata": {},
   "outputs": [],
   "source": [
    "#Q6\n",
    "class Cat:\n",
    "    def describe(age, this):\n",
    "        age.__age = 9\n",
    "        print(age.__age, this)\n",
    "\n",
    "# test code\n",
    "c = Cat()\n",
    "c.describe(1)"
   ]
  },
  {
   "cell_type": "code",
   "execution_count": null,
   "metadata": {},
   "outputs": [],
   "source": [
    "#Q7\n",
    "class Cat:\n",
    "    def describe(this, age):\n",
    "        print(age)\n",
    "\n",
    "# test code\n",
    "c = Cat()\n",
    "c.describe(2, 3)"
   ]
  },
  {
   "cell_type": "code",
   "execution_count": null,
   "metadata": {},
   "outputs": [],
   "source": [
    "#Q8\n",
    "class Cat:\n",
    "    age = -1\n",
    "    def __init__(self, age):\n",
    "        self.age = age\n",
    "    def describe(self):\n",
    "        print(self.age)\n",
    "\n",
    "# test code\n",
    "c = Cat()\n",
    "c.describe()"
   ]
  },
  {
   "cell_type": "code",
   "execution_count": null,
   "metadata": {},
   "outputs": [],
   "source": [
    "#Q9\n",
    "class Animal:\n",
    "    def __init__(self):\n",
    "        self.age = 2\n",
    "class Cat:\n",
    "    def __init__(self):\n",
    "        print(1)\n",
    "    def describe(self):\n",
    "        print(self.age)\n",
    "\n",
    "# test code\n",
    "c = Cat()\n",
    "c.describe()"
   ]
  },
  {
   "cell_type": "code",
   "execution_count": null,
   "metadata": {},
   "outputs": [],
   "source": [
    "#Q10\n",
    "class Animal:\n",
    "    def __init__(self):\n",
    "        self.age = 1\n",
    "class Cat:\n",
    "    def __init__(self):\n",
    "        self.age = 2\n",
    "        super().__init__()\n",
    "\n",
    "    def describe(self):\n",
    "        print(self.age)\n",
    "\n",
    "# test code\n",
    "c = Cat()\n",
    "c.describe()"
   ]
  },
  {
   "cell_type": "markdown",
   "metadata": {},
   "source": [
    "Learn"
   ]
  },
  {
   "cell_type": "code",
   "execution_count": null,
   "metadata": {},
   "outputs": [],
   "source": []
  }
 ],
 "metadata": {
  "colab": {
   "provenance": []
  },
  "kernelspec": {
   "display_name": "bm",
   "language": "python",
   "name": "python3"
  },
  "language_info": {
   "name": "python",
   "version": "3.13.2"
  }
 },
 "nbformat": 4,
 "nbformat_minor": 0
}
