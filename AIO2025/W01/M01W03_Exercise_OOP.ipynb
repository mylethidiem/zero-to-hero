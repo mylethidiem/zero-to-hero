{
 "cells": [
  {
   "cell_type": "markdown",
   "metadata": {
    "colab_type": "text",
    "id": "view-in-github"
   },
   "source": [
    "<a href=\"https://colab.research.google.com/github/mylethidiem/zero-to-hero/blob/main/AIO2025/M01W03_Exercise_OOP.ipynb\" target=\"_parent\"><img src=\"https://colab.research.google.com/assets/colab-badge.svg\" alt=\"Open In Colab\"/></a>"
   ]
  },
  {
   "cell_type": "markdown",
   "metadata": {
    "id": "HxNJolLNrXxQ"
   },
   "source": [
    "## **Exercise 1**"
   ]
  },
  {
   "cell_type": "code",
   "execution_count": 1,
   "metadata": {
    "id": "mcbrmiJ7dYWm"
   },
   "outputs": [],
   "source": [
    "import torch\n",
    "import torch.nn as nn"
   ]
  },
  {
   "cell_type": "code",
   "execution_count": null,
   "metadata": {
    "id": "MO4pmW-LeuwB"
   },
   "outputs": [],
   "source": [
    "data = None\n",
    "data"
   ]
  },
  {
   "cell_type": "code",
   "execution_count": 2,
   "metadata": {
    "id": "eqkJzp6Ee1Bq"
   },
   "outputs": [],
   "source": [
    "softmax_function = None\n",
    "output = None\n",
    "output"
   ]
  },
  {
   "cell_type": "markdown",
   "metadata": {
    "id": "RuS7me1uumJ3"
   },
   "source": [
    "## **Exercise 2, 3**"
   ]
  },
  {
   "cell_type": "code",
   "execution_count": 3,
   "metadata": {
    "id": "grtnS8ljcsSp"
   },
   "outputs": [],
   "source": [
    "import torch.nn as nn\n",
    "\n",
    "class MySigmoid(nn.Module):\n",
    "    def __init__(self):\n",
    "        super().__init__()\n",
    "\n",
    "    def forward(self, x):\n",
    "        return 1 / (1 + torch.exp(-x))\n",
    "\n",
    "# Create an instance of the custom sigmoid class\n",
    "my_sigmoid = MySigmoid()"
   ]
  },
  {
   "cell_type": "code",
   "execution_count": 4,
   "metadata": {
    "colab": {
     "base_uri": "https://localhost:8080/"
    },
    "id": "6_M2zm0AqR3V",
    "outputId": "10412a93-aab0-433d-f356-01009258a051"
   },
   "outputs": [
    {
     "name": "stdout",
     "output_type": "stream",
     "text": [
      "tensor([0.7311, 0.9933, 0.0180, 0.9526, 0.1192])\n"
     ]
    }
   ],
   "source": [
    "# input data\n",
    "x = torch.tensor([1, 5, -4, 3, -2])\n",
    "\n",
    "# sigmoid function\n",
    "output = my_sigmoid(x)\n",
    "print(output)"
   ]
  },
  {
   "cell_type": "markdown",
   "metadata": {
    "id": "0khMFbOGu8Jh"
   },
   "source": [
    "## **Exercise 4**"
   ]
  },
  {
   "cell_type": "code",
   "execution_count": null,
   "metadata": {
    "colab": {
     "base_uri": "https://localhost:8080/"
    },
    "id": "-OfK_zdpqcgz",
    "outputId": "cfa438f2-d66b-4369-d3ab-a70e88ef758a"
   },
   "outputs": [
    {
     "data": {
      "text/plain": [
       "tensor([1.5862e-02, 8.6604e-01, 1.0688e-04, 1.1721e-01, 7.8972e-04])"
      ]
     },
     "execution_count": 48,
     "metadata": {},
     "output_type": "execute_result"
    }
   ],
   "source": [
    "import torch\n",
    "import torch.nn as nn\n",
    "\n",
    "class SoftmaxStable(nn.Module):\n",
    "    def __init__(self):\n",
    "        super().__init__()\n",
    "\n",
    "    def forward(self, x):\n",
    "\n",
    "        max_val = torch.max(x, dim=-1, keepdim=True).values\n",
    "        numerator = torch.exp(x - max_val)\n",
    "        denominator = torch.sum(numerator, dim=-1, keepdim=True)\n",
    "        return numerator / denominator\n",
    "\n",
    "\n",
    "data = torch.Tensor([1, 5, -4, 3, -2])\n",
    "softmax_stable = SoftmaxStable()\n",
    "output = softmax_stable(data)\n",
    "output"
   ]
  },
  {
   "cell_type": "markdown",
   "metadata": {
    "id": "D6wYuHiUrbuq"
   },
   "source": [
    "## **Exercise 5, 6, 7**"
   ]
  },
  {
   "cell_type": "code",
   "execution_count": 1,
   "metadata": {
    "id": "qNCP5hA9rTGN"
   },
   "outputs": [],
   "source": [
    "from abc import ABC, abstractmethod\n",
    "\n",
    "class Person(ABC):\n",
    "    def __init__(self, name:str, yob:int):\n",
    "        self._name = name\n",
    "        self._yob = yob\n",
    "\n",
    "    def get_yob(self):\n",
    "        return self._yob\n",
    "\n",
    "    @abstractmethod\n",
    "    def describe(self):\n",
    "        pass\n",
    "\n",
    "\n",
    "class Student(Person):\n",
    "    def __init__(self, name:str=\"\", yob:int=0, grade:str=\"\"):\n",
    "        super().__init__(name, yob)\n",
    "        self.grade = grade\n",
    "\n",
    "    def describe(self):\n",
    "        print(f\"Student name {self._name}, year of birth: {self._yob}\")\n",
    "\n",
    "\n",
    "class Teacher(Person):\n",
    "    def __init__(self, name:str=\"\", yob:int=0, subject:str=\"\"):\n",
    "        super().__init__(name, yob)\n",
    "        self.__subject = subject\n",
    "\n",
    "    def describe(self):\n",
    "        print(f\"Teacher - Name: {self._name} - YoB: {self._yob} - Subject: {self.__subject}\")\n",
    "\n",
    "class Doctor(Person):\n",
    "    def __init__(self, name:str=\"\", yob:int=0, specialist:str=\"\"):\n",
    "        super().__init__(name, yob)\n",
    "        self.__specialist = specialist\n",
    "\n",
    "    def describe(self):\n",
    "        print(f\"Doctor - Name: {self._name} - YoB: {self._yob} - Specialist: {self.__specialist}\")"
   ]
  },
  {
   "cell_type": "code",
   "execution_count": 2,
   "metadata": {
    "colab": {
     "base_uri": "https://localhost:8080/"
    },
    "id": "Foonrj1T9i2j",
    "outputId": "a8a8b861-dc44-4200-959f-df91e2c0fb73"
   },
   "outputs": [
    {
     "name": "stdout",
     "output_type": "stream",
     "text": [
      "Student name studentA, year of birth: 2010\n",
      "Teacher - Name: teacherA - YoB: 1969 - Subject: Math\n",
      "Doctor - Name: doctorA - YoB: 1945 - Specialist: Endocrinologists\n"
     ]
    }
   ],
   "source": [
    "student1 = Student(name=\"studentA\", yob=2010, grade=\"7\")\n",
    "student1.describe()\n",
    "\n",
    "teacher1 = Teacher(name=\"teacherA\", yob=1969, subject=\"Math\")\n",
    "teacher1.describe()\n",
    "\n",
    "doctor1 = Doctor(name=\"doctorA\", yob=1945, specialist=\"Endocrinologists\")\n",
    "doctor1.describe()"
   ]
  },
  {
   "cell_type": "markdown",
   "metadata": {
    "id": "NieNw4D2v541"
   },
   "source": [
    "## **Exercise 8**"
   ]
  },
  {
   "cell_type": "code",
   "execution_count": null,
   "metadata": {
    "id": "bFJmOUXXsjxq"
   },
   "outputs": [],
   "source": [
    "# import datetime\n",
    "\n",
    "class Ward:\n",
    "    def __init__(self, name:str):\n",
    "        self.__name = name\n",
    "        self.__list_people = list()\n",
    "\n",
    "    def add_person(self, person:Person):\n",
    "        self.__list_people.append(person)\n",
    "\n",
    "    def describe(self):\n",
    "        print(f\"Ward Name: {self.__name}\")\n",
    "        for people in self.__list_people:\n",
    "          people.describe()\n",
    "\n",
    "\n",
    "    def count_doctor(self):\n",
    "        num_doctor = 0\n",
    "        for people in self.__list_people:\n",
    "          if isinstance(people, Doctor):\n",
    "            num_doctor += 1\n",
    "        return num_doctor\n",
    "\n",
    "    def count_teacherT(self):\n",
    "        num_teacher = 0\n",
    "        for people in self.__list_people:\n",
    "          if isinstance(people, Teacher):\n",
    "            num_teacher += 1\n",
    "        return num_teacher\n",
    "\n",
    "\n",
    "    def sort_age(self):\n",
    "\n",
    "        self.__list_people.sort(key=lambda person: person.get_yob(), reverse=True)\n",
    "\n",
    "    def compute_average(self):\n",
    "        # current_year = datetime.date.today().year\n",
    "        sum_teacher_years = 0\n",
    "        num_teacher = 0\n",
    "        for people in self.__list_people:\n",
    "          if isinstance(people, Teacher):\n",
    "            num_teacher += 1\n",
    "            # sum_teacher_age += (current_year - people.get_yob())\n",
    "            sum_teacher_years += people.get_yob()\n",
    "\n",
    "        if num_teacher == 0:\n",
    "          print(\"No teacher in list!\")\n",
    "          return 0\n",
    "\n",
    "        return sum_teacher_years / num_teacher\n"
   ]
  },
  {
   "cell_type": "code",
   "execution_count": 5,
   "metadata": {
    "colab": {
     "base_uri": "https://localhost:8080/"
    },
    "id": "l-b-8UqiszAJ",
    "outputId": "7c8e3e8f-d1fb-4845-91f9-4765664334f6"
   },
   "outputs": [
    {
     "name": "stdout",
     "output_type": "stream",
     "text": [
      "Student name studentA, year of birth: 2010\n",
      "Teacher - Name: teacherA - YoB: 1969 - Subject: Math\n",
      "Doctor - Name: doctorA - YoB: 1945 - Specialist: Endocrinologists\n",
      "\n",
      "Ward Name: Ward1\n",
      "Student name studentA, year of birth: 2010\n",
      "Teacher - Name: teacherA - YoB: 1969 - Subject: Math\n",
      "Teacher - Name: teacherB - YoB: 1995 - Subject: History\n",
      "Doctor - Name: doctorA - YoB: 1945 - Specialist: Endocrinologists\n",
      "Doctor - Name: doctorB - YoB: 1975 - Specialist: Cardiologists\n",
      "\n",
      "Number of doctors: 2\n",
      "\n",
      "After sorting Age of Ward1 people\n",
      "Ward Name: Ward1\n",
      "Student name studentA, year of birth: 2010\n",
      "Teacher - Name: teacherB - YoB: 1995 - Subject: History\n",
      "Doctor - Name: doctorB - YoB: 1975 - Specialist: Cardiologists\n",
      "Teacher - Name: teacherA - YoB: 1969 - Subject: Math\n",
      "Doctor - Name: doctorA - YoB: 1945 - Specialist: Endocrinologists\n",
      "\n",
      "Average year of birth (teachers): 1982.0\n"
     ]
    }
   ],
   "source": [
    "# 2(a)\n",
    "student1 = Student(name=\"studentA\", yob=2010, grade=\"7\")\n",
    "student1.describe()\n",
    "\n",
    "teacher1 = Teacher(name=\"teacherA\", yob=1969, subject=\"Math\")\n",
    "teacher1.describe()\n",
    "\n",
    "doctor1 = Doctor(name=\"doctorA\", yob=1945, specialist=\"Endocrinologists\")\n",
    "doctor1.describe()\n",
    "\n",
    "\n",
    "# 2(b)\n",
    "print()\n",
    "teacher2 = Teacher(name=\"teacherB\", yob=1995, subject=\"History\")\n",
    "doctor2 = Doctor(name=\"doctorB\", yob=1975, specialist=\"Cardiologists\")\n",
    "ward1 = Ward(name=\"Ward1\")\n",
    "ward1.add_person(student1)\n",
    "ward1.add_person(teacher1)\n",
    "ward1.add_person(teacher2)\n",
    "ward1.add_person(doctor1)\n",
    "ward1.add_person(doctor2)\n",
    "ward1.describe()\n",
    "\n",
    "# 2(c)\n",
    "print(f\"\\nNumber of doctors: {ward1.count_doctor()}\")\n",
    "\n",
    "# 2(d)\n",
    "print(\"\\nAfter sorting Age of Ward1 people\")\n",
    "ward1.sort_age()\n",
    "ward1.describe()\n",
    "\n",
    "# 2(e)\n",
    "print(f\"\\nAverage year of birth (teachers): {ward1.compute_average()}\")"
   ]
  },
  {
   "cell_type": "markdown",
   "metadata": {
    "id": "kbwBOuG5WNx1"
   },
   "source": [
    "## **Exercise 9**"
   ]
  },
  {
   "cell_type": "code",
   "execution_count": null,
   "metadata": {
    "id": "POIazw1ns_Rw"
   },
   "outputs": [],
   "source": [
    "class MyStack:\n",
    "    def __init__(self, capacity):\n",
    "        self.__capacity = capacity\n",
    "        self.__stack = []\n",
    "\n",
    "    def is_empty(self):\n",
    "        return not self.__stack\n",
    "\n",
    "\n",
    "    def is_full(self):\n",
    "        return len(self.__stack) == self.__capacity\n",
    "\n",
    "\n",
    "    def pop(self):\n",
    "        if self.__stack:\n",
    "          return self.__stack.pop()\n",
    "        else:\n",
    "          raise IndexError(\"pop from an empty custom stack\")\n",
    "\n",
    "\n",
    "    def push(self, value):\n",
    "        if self.is_full():\n",
    "          raise OverflowError(\"push to a full stack\")\n",
    "        else:\n",
    "          self.__stack.append(value)\n",
    "\n",
    "\n",
    "    def top(self):\n",
    "        if self.__stack:\n",
    "          # return self.__stack[len(self.__stack) - 1]\n",
    "          return self.__stack[-1]\n",
    "        else:\n",
    "          # print(\"stack is empty\")\n",
    "          # return None\n",
    "          raise IndexError(\"top from empty stack\")\n"
   ]
  },
  {
   "cell_type": "code",
   "execution_count": 7,
   "metadata": {
    "colab": {
     "base_uri": "https://localhost:8080/"
    },
    "id": "EWKe7COttJuJ",
    "outputId": "4679d9af-4b22-4413-89f2-77c3f3b9b1cf"
   },
   "outputs": [
    {
     "name": "stdout",
     "output_type": "stream",
     "text": [
      "False\n",
      "2\n",
      "2\n",
      "1\n",
      "1\n",
      "True\n"
     ]
    }
   ],
   "source": [
    "stack1 = MyStack(capacity=5)\n",
    "\n",
    "stack1.push(1)\n",
    "\n",
    "stack1.push(2)\n",
    "\n",
    "print(stack1.is_full())\n",
    "\n",
    "print(stack1.top())\n",
    "\n",
    "print(stack1.pop())\n",
    "\n",
    "print(stack1.top())\n",
    "\n",
    "print(stack1.pop())\n",
    "\n",
    "print(stack1.is_empty())"
   ]
  },
  {
   "cell_type": "code",
   "execution_count": 8,
   "metadata": {
    "colab": {
     "base_uri": "https://localhost:8080/",
     "height": 384
    },
    "id": "oxCM7bM1tPUl",
    "outputId": "0b1266ef-6cd9-4d7e-ac1f-2fc5b6dc3c21"
   },
   "outputs": [
    {
     "name": "stdout",
     "output_type": "stream",
     "text": [
      "2\n",
      "True\n",
      "2\n",
      "1\n",
      "True\n"
     ]
    },
    {
     "ename": "IndexError",
     "evalue": "pop from an empty custom stack",
     "output_type": "error",
     "traceback": [
      "\u001b[31m---------------------------------------------------------------------------\u001b[39m",
      "\u001b[31mIndexError\u001b[39m                                Traceback (most recent call last)",
      "\u001b[36mCell\u001b[39m\u001b[36m \u001b[39m\u001b[32mIn[8]\u001b[39m\u001b[32m, line 17\u001b[39m\n\u001b[32m     13\u001b[39m \u001b[38;5;28mprint\u001b[39m(stack2.pop())\n\u001b[32m     15\u001b[39m \u001b[38;5;28mprint\u001b[39m(stack2.is_empty())\n\u001b[32m---> \u001b[39m\u001b[32m17\u001b[39m \u001b[38;5;28mprint\u001b[39m(stack2.pop())\n",
      "\u001b[36mCell\u001b[39m\u001b[36m \u001b[39m\u001b[32mIn[6]\u001b[39m\u001b[32m, line 18\u001b[39m, in \u001b[36mMyStack.pop\u001b[39m\u001b[34m(self)\u001b[39m\n\u001b[32m     16\u001b[39m   \u001b[38;5;28;01mreturn\u001b[39;00m \u001b[38;5;28mself\u001b[39m.__stack.pop()\n\u001b[32m     17\u001b[39m \u001b[38;5;28;01melse\u001b[39;00m:\n\u001b[32m---> \u001b[39m\u001b[32m18\u001b[39m   \u001b[38;5;28;01mraise\u001b[39;00m \u001b[38;5;167;01mIndexError\u001b[39;00m(\u001b[33m\"\u001b[39m\u001b[33mpop from an empty custom stack\u001b[39m\u001b[33m\"\u001b[39m)\n",
      "\u001b[31mIndexError\u001b[39m: pop from an empty custom stack"
     ]
    }
   ],
   "source": [
    "stack2 = MyStack(capacity=2)\n",
    "\n",
    "stack2.push(1)\n",
    "\n",
    "stack2.push(2)\n",
    "\n",
    "print(stack2.top())\n",
    "\n",
    "print(stack2.is_full())\n",
    "\n",
    "print(stack2.pop())\n",
    "\n",
    "print(stack2.pop())\n",
    "\n",
    "print(stack2.is_empty())\n",
    "\n",
    "print(stack2.pop())"
   ]
  },
  {
   "cell_type": "markdown",
   "metadata": {
    "id": "SuLQe7sNWTAp"
   },
   "source": [
    "## **Exercise 10**"
   ]
  },
  {
   "cell_type": "code",
   "execution_count": null,
   "metadata": {
    "id": "mtRK-r8JtWm8"
   },
   "outputs": [],
   "source": [
    "class MyQueue:\n",
    "    def __init__(self, capacity):\n",
    "        self.__capacity = capacity\n",
    "        self.__queue = []\n",
    "\n",
    "    def is_empty(self):\n",
    "        return not self.__queue\n",
    "\n",
    "\n",
    "    def is_full(self):\n",
    "        return len(self.__queue) == self.__capacity\n",
    "\n",
    "\n",
    "    def dequeue(self):\n",
    "        if self.__queue:\n",
    "          return self.__queue.pop(0)\n",
    "        else:\n",
    "          return IndexError(\"Queue is empty\")\n",
    "\n",
    "\n",
    "    def enqueue(self, value):\n",
    "        if self.is_full():\n",
    "          return OverflowError(\"Enqueue to a full queue\")\n",
    "        else:\n",
    "          self.__queue.append(value)\n",
    "\n",
    "\n",
    "    def front(self):\n",
    "        if self.__queue:\n",
    "          return self.__queue[0]\n",
    "        else:\n",
    "          raise IndexError(\"Front from empty stack\")\n",
    "          # print(\"Front from empty stack\")\n",
    "          # return None\n"
   ]
  },
  {
   "cell_type": "code",
   "execution_count": 10,
   "metadata": {
    "colab": {
     "base_uri": "https://localhost:8080/"
    },
    "id": "qdA5TlTetZjd",
    "outputId": "0391753a-80d6-445d-f3d5-dd68f125700a"
   },
   "outputs": [
    {
     "name": "stdout",
     "output_type": "stream",
     "text": [
      "False\n",
      "1\n",
      "1\n",
      "2\n",
      "2\n",
      "True\n"
     ]
    }
   ],
   "source": [
    "queue1 = MyQueue(capacity=5)\n",
    "\n",
    "queue1.enqueue(1)\n",
    "\n",
    "queue1.enqueue(2)\n",
    "\n",
    "print(queue1.is_full())\n",
    "\n",
    "print(queue1.front())\n",
    "\n",
    "print(queue1.dequeue())\n",
    "\n",
    "print(queue1.front())\n",
    "\n",
    "print(queue1.dequeue())\n",
    "\n",
    "print(queue1.is_empty())"
   ]
  },
  {
   "cell_type": "code",
   "execution_count": 11,
   "metadata": {
    "colab": {
     "base_uri": "https://localhost:8080/"
    },
    "id": "Px5WMyWRtcnn",
    "outputId": "9d2829e6-6f7e-4a37-a805-8b73c81ad4f2"
   },
   "outputs": [
    {
     "name": "stdout",
     "output_type": "stream",
     "text": [
      "1\n",
      "True\n",
      "1\n",
      "2\n",
      "True\n"
     ]
    }
   ],
   "source": [
    "queue2 =  MyQueue(capacity=2)\n",
    "\n",
    "queue2.enqueue(1)\n",
    "\n",
    "queue2.enqueue(2)\n",
    "\n",
    "print(queue2.front())\n",
    "\n",
    "print(queue2.is_full())\n",
    "\n",
    "print(queue2.dequeue())\n",
    "\n",
    "print(queue2.dequeue())\n",
    "\n",
    "print(queue2.is_empty())"
   ]
  },
  {
   "cell_type": "code",
   "execution_count": 12,
   "metadata": {
    "colab": {
     "base_uri": "https://localhost:8080/"
    },
    "id": "xjt3BGfmtfva",
    "outputId": "34d991d4-edc0-4c90-ba26-8635939ca924"
   },
   "outputs": [
    {
     "data": {
      "text/plain": [
       "OverflowError('Enqueue to a full queue')"
      ]
     },
     "execution_count": 12,
     "metadata": {},
     "output_type": "execute_result"
    }
   ],
   "source": [
    "queue1 = MyQueue(capacity=2)\n",
    "\n",
    "queue1.enqueue(1)\n",
    "\n",
    "queue1.enqueue(2)\n",
    "\n",
    "queue1.enqueue(2)"
   ]
  },
  {
   "cell_type": "markdown",
   "metadata": {
    "id": "Ud9uPK0jhrqo"
   },
   "source": [
    "# Multi choices questions"
   ]
  },
  {
   "cell_type": "code",
   "execution_count": 6,
   "metadata": {
    "colab": {
     "base_uri": "https://localhost:8080/"
    },
    "id": "m2edbu2GtkAE",
    "outputId": "f4543f5d-b91f-4f20-b551-778cb8cbed7d"
   },
   "outputs": [
    {
     "name": "stdout",
     "output_type": "stream",
     "text": [
      "tensor([0.9933, 0.9526])\n"
     ]
    }
   ],
   "source": [
    "#1\n",
    "import torch\n",
    "\n",
    "#input data\n",
    "x = torch.tensor([5.0, 3.0])\n",
    "\n",
    "# sigmoid function\n",
    "output = torch.sigmoid(x)\n",
    "print(output)"
   ]
  },
  {
   "cell_type": "code",
   "execution_count": 7,
   "metadata": {
    "colab": {
     "base_uri": "https://localhost:8080/"
    },
    "id": "aVa3LR9uy-YK",
    "outputId": "fa8003c0-3cf2-4079-87a6-a94ed7725d90"
   },
   "outputs": [
    {
     "data": {
      "text/plain": [
       "tensor([0.9526, 0.1192])"
      ]
     },
     "execution_count": 7,
     "metadata": {},
     "output_type": "execute_result"
    }
   ],
   "source": [
    "data = torch.Tensor([3.0, -2.0])\n",
    "my_sigmoid = MySigmoid()\n",
    "output = my_sigmoid(data)\n",
    "output"
   ]
  },
  {
   "cell_type": "code",
   "execution_count": null,
   "metadata": {
    "id": "irMd2vVkhrqp"
   },
   "outputs": [],
   "source": []
  }
 ],
 "metadata": {
  "colab": {
   "include_colab_link": true,
   "provenance": []
  },
  "kernelspec": {
   "display_name": "ds_env",
   "language": "python",
   "name": "python3"
  },
  "language_info": {
   "codemirror_mode": {
    "name": "ipython",
    "version": 3
   },
   "file_extension": ".py",
   "mimetype": "text/x-python",
   "name": "python",
   "nbconvert_exporter": "python",
   "pygments_lexer": "ipython3",
   "version": "3.11.13"
  }
 },
 "nbformat": 4,
 "nbformat_minor": 0
}
