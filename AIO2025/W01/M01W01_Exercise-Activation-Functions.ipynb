{
 "cells": [
  {
   "cell_type": "markdown",
   "metadata": {
    "colab_type": "text",
    "id": "view-in-github"
   },
   "source": [
    "<a href=\"https://colab.research.google.com/github/mylethidiem/zero-to-hero/blob/main/AIO2025/M01W01_Exercise-Activation-Functions.ipynb\" target=\"_parent\"><img src=\"https://colab.research.google.com/assets/colab-badge.svg\" alt=\"Open In Colab\"/></a>"
   ]
  },
  {
   "cell_type": "markdown",
   "metadata": {
    "id": "uycVYwLqc73c"
   },
   "source": [
    "## **Bài 1 - Viết hàm tính độ đo F1**\n",
    "Viết hàm thực hiện đánh giá F1-Score cho các mô hình phân loại.\n",
    "- $Precision = \\dfrac{TP}{TP + FP}$\n",
    "- $Recall = \\dfrac{TP}{TP + FN}$\n",
    "- $F1-score = 2*\\dfrac{Precision*Recall}{Precision + Recall}$\n",
    "\n",
    "- Input: nhận 3 giá trị **tp, fp, fn**\n",
    "\n",
    "- Output: trả về kết quả của **Precision, Recall, và F1-score**\n",
    "\n",
    "\n",
    "**NOTE: Đề bài yêu cầu các điều kiện sau**\n",
    "    \n",
    "- Phải **kiểm tra giá trị nhận vào tp, fp, fn là kiểu dữ liệu int**, nếu là nhận được kiểm dữ liệu khác khác thì in thông báo cho người dùng ví dụ check fn là float, print **'fn must be int'** và thoát hàm hoặc dừng chương trình.\n",
    "- Yêu cầu **tp, fp, fn phải đều lớn hơn 0**, nếu không thì print **'tp and fp and fn must be greater than 0'** và thoát hàm hoặc dừng chương trình"
   ]
  },
  {
   "cell_type": "markdown",
   "metadata": {
    "id": "cxYwUNmnoln_"
   },
   "source": [
    "### Câu hỏi 1"
   ]
  },
  {
   "cell_type": "code",
   "execution_count": null,
   "metadata": {
    "id": "7ebmylCpczFc"
   },
   "outputs": [],
   "source": [
    "import math\n",
    "\n",
    "def calc_precision(tp, fp):\n",
    "    \"\"\"\n",
    "    Tính điểm precision từ các giá trị:\n",
    "    - tp: Số lượng true positives\n",
    "    - fp: Số lượng false positives\n",
    "\n",
    "    Công thức:\n",
    "        precision = tp / (tp + fp)\n",
    "\n",
    "    Return:\n",
    "        precision: float value\n",
    "    \"\"\"\n",
    "    precision = tp / (tp + fp)\n",
    "    return precision\n",
    "\n",
    "def calc_recall(tp, fn):\n",
    "    \"\"\"\n",
    "    Tính điểm recall từ các giá trị:\n",
    "    - tp: Số lượng true positives\n",
    "    - fn: Số lượng false negatives\n",
    "\n",
    "    Công thức:\n",
    "        recall = tp / (tp + fn)\n",
    "\n",
    "    Trả về:\n",
    "        recall: float value\n",
    "    \"\"\"\n",
    "    recall = tp / (tp + fn)\n",
    "    return recall\n",
    "\n",
    "def calc_f1_score(tp, fp, fn):\n",
    "    \"\"\"\n",
    "    Tính điểm F1 Score từ các giá trị:\n",
    "    - tp: Số lượng true positives\n",
    "    - fp: Số lượng false positives\n",
    "    - fn: Số lượng false negatives\n",
    "\n",
    "    Công thức:\n",
    "        precision = tp / (tp + fp)\n",
    "        recall = tp / (tp + fn)\n",
    "        f1_score = 2 * (precision * recall) / (precision + recall)\n",
    "\n",
    "    Trả về:\n",
    "        f1_score: Điểm F1 Score dưới dạng float\n",
    "    \"\"\"\n",
    "    precision = calc_precision(tp, fp)\n",
    "    recall = calc_recall(tp, fn)\n",
    "    f1_score = 2 * (precision * recall) / (precision + recall)\n",
    "    ### Your code here\n",
    "    return f1_score\n",
    "\n",
    "assert round(calc_f1_score(tp=2, fp=3, fn=5), 2) == 0.33"
   ]
  },
  {
   "cell_type": "code",
   "execution_count": null,
   "metadata": {
    "id": "Gl3Vi86T29eH",
    "jupyter": {
     "outputs_hidden": true
    },
    "outputId": "75d30694-08c0-4525-ae69-13d066cb1aa6"
   },
   "outputs": [
    {
     "data": {
      "text/plain": [
       "0.30769230769230765"
      ]
     },
     "execution_count": 3,
     "metadata": {},
     "output_type": "execute_result"
    }
   ],
   "source": [
    "calc_f1_score(tp=2, fp=4, fn=5)"
   ]
  },
  {
   "cell_type": "code",
   "execution_count": 32,
   "metadata": {
    "id": "iBYvfG1MEulV"
   },
   "outputs": [],
   "source": [
    "def check_value_int(value):\n",
    "    if isinstance(value, int):\n",
    "        return True\n",
    "    else:\n",
    "        raise TypeError(f\"{value} must be int!\")"
   ]
  },
  {
   "cell_type": "code",
   "execution_count": 35,
   "metadata": {
    "id": "fIir9UWlf39U"
   },
   "outputs": [],
   "source": [
    "def evaluate_f1_components(tp, fp, fn):\n",
    "    \"\"\"\n",
    "    Tính điểm F1 Score từ các giá trị:\n",
    "    - tp: Số lượng true positives\n",
    "    - fp: Số lượng false positives\n",
    "    - fn: Số lượng false negatives\n",
    "\n",
    "    Công thức:\n",
    "        precision = tp / (tp + fp)\n",
    "        recall = tp / (tp + fn)\n",
    "        f1_score = 2 * (precision * recall) / (precision + recall)\n",
    "\n",
    "    Trả về:\n",
    "        f1_score: Điểm F1 Score dưới dạng float\n",
    "    \"\"\"\n",
    "\n",
    "    # Kiểm tra kiểu dữ liệu\n",
    "    if check_value_int(fp) and check_value_int(fn) and check_value_int(tp):\n",
    "        if tp < 0 or fp < 0 or fn < 0:# Kiểm tra giá trị không âm\n",
    "            raise ValueError(\"Value tp and fp and fn must be greater than or equal zero\")\n",
    "\n",
    "        precision = tp / (tp + fp) if (tp + fp) > 0 else 0.0\n",
    "        recall = tp / (tp + fn) if (tp + fn) > 0 else 0.0\n",
    "        f1_score = 2 * (precision * recall) / (precision + recall) if (precision + recall) > 0 else 0.0\n",
    "    return precision, recall, f1_score\n",
    "\n",
    "precision, recall, f1_score = evaluate_f1_components(tp=2, fp=3, fn=5)"
   ]
  },
  {
   "cell_type": "code",
   "execution_count": 36,
   "metadata": {
    "id": "M-IukaCQm6Cb",
    "outputId": "2d5b0e02-78f0-405d-b3c6-4920c2b68eea"
   },
   "outputs": [
    {
     "data": {
      "text/plain": [
       "(0.4, 0.2857142857142857, 0.3333333333333333)"
      ]
     },
     "execution_count": 36,
     "metadata": {},
     "output_type": "execute_result"
    }
   ],
   "source": [
    "precision, recall, f1_score"
   ]
  },
  {
   "cell_type": "markdown",
   "metadata": {
    "id": "ShtsQpGKnORW"
   },
   "source": [
    "# **Bài 2: Hàm kích hoạt**"
   ]
  },
  {
   "cell_type": "markdown",
   "metadata": {
    "id": "ozojSsQZnamB"
   },
   "source": [
    "- Input:\n",
    "    - Người dùng nhập giá trị **x**\n",
    "    - Người dùng nhập tên **activation function chỉ có 3 loại (sigmoid, relu, elu)**\n",
    "- Output: Kết quả **f(x)** (x khi đi qua actiavtion fucntion tương ứng theo activation function name). Ví dụ **nhập x=3, activation_function = 'relu'. Output: print 'relu: f(3)=3'**\n",
    "\n",
    "**NOTE: Lưu ý các điều kiện sau:**\n",
    "- Dùng function **is_number** được cung cấp sẵn để **kiểm tra x có hợp lệ hay không** (vd: x='10', is_number(x) sẽ trả về True ngược lại là False). Nếu **không hợp lệ print 'x must be a number' và dừng chương trình.**\n",
    "- Kiểm tra **activation function name có hợp lệ hay không nằm trong 3 tên (sigmoid, relu, elu)**. **Nếu không print 'ten_function_user is not supported'** (vd người dùng nhập 'belu' thì print 'belu is not supportted')\n",
    "- Convert **x** sang **float** type\n",
    "- Thực hiện với theo công thức với activation name tương ứng. Print ra kết quả\n",
    "- Dùng math.e để lấy số e\n",
    "- $\\alpha$ = 0.01"
   ]
  },
  {
   "cell_type": "markdown",
   "metadata": {
    "id": "M7QQnLl8qRiL"
   },
   "source": [
    "## **Câu hỏi 2**"
   ]
  },
  {
   "cell_type": "code",
   "execution_count": 54,
   "metadata": {
    "id": "bQgslTm-qTkM",
    "outputId": "10b783f5-5560-45c9-a87c-71fdd2e77bb1"
   },
   "outputs": [
    {
     "name": "stdout",
     "output_type": "stream",
     "text": [
      "True\n",
      "False\n"
     ]
    }
   ],
   "source": [
    "import math\n",
    "def is_number(n):\n",
    "    try:\n",
    "        float(n)   # Type-casting the string to `float`.\n",
    "                   # If string is not a valid `float`,\n",
    "                   # it'll raise `ValueError` exception\n",
    "    except ValueError:\n",
    "        return False\n",
    "    return True\n",
    "assert is_number(3) == 1.0\n",
    "assert is_number('-2a') == 0.0\n",
    "print(is_number(1))\n",
    "print(is_number('n'))"
   ]
  },
  {
   "cell_type": "markdown",
   "metadata": {
    "id": "B6gsXviSpy0g"
   },
   "source": [
    "## **Câu hỏi 3**"
   ]
  },
  {
   "cell_type": "code",
   "execution_count": 49,
   "metadata": {
    "id": "Oiaby-Mdp1U8",
    "outputId": "f9d4b122-95c2-49d4-d43e-233ac6b5bf34"
   },
   "outputs": [
    {
     "data": {
      "text/plain": [
       "5.0"
      ]
     },
     "execution_count": 49,
     "metadata": {},
     "output_type": "execute_result"
    }
   ],
   "source": [
    "def calc_relu(x):\n",
    "    \"\"\"\n",
    "    Tính hàm ReLU:\n",
    "    ReLU(x) = max(0, x)\n",
    "    \"\"\"\n",
    "    if x<=0:\n",
    "        result = 0.0\n",
    "    else:\n",
    "        result = x\n",
    "    return float(result)\n",
    "\n",
    "calc_relu(5)"
   ]
  },
  {
   "cell_type": "markdown",
   "metadata": {
    "id": "KTG2Fe7to21I"
   },
   "source": [
    "## **Câu hỏi 4**"
   ]
  },
  {
   "cell_type": "code",
   "execution_count": 48,
   "metadata": {
    "id": "wvkRh4kOepSA",
    "outputId": "bcff61bd-4d27-4af1-ed93-2dfb292c2040"
   },
   "outputs": [
    {
     "data": {
      "text/plain": [
       "0.7310585786300049"
      ]
     },
     "execution_count": 48,
     "metadata": {},
     "output_type": "execute_result"
    }
   ],
   "source": [
    "import math\n",
    "\n",
    "def calc_sig(x):\n",
    "    \"\"\"\n",
    "    Tính hàm sigmoid: σ(x) = 1 / (1 + e^(-x))\n",
    "    \"\"\"\n",
    "    ### Your code here\n",
    "    return 1 / (1 + math.exp(-x))\n",
    "\n",
    "assert round(calc_sig(3), 2)==0.95\n",
    "\n",
    "calc_sig(1)"
   ]
  },
  {
   "cell_type": "code",
   "execution_count": null,
   "metadata": {
    "id": "aG8vCZPWoEu_",
    "outputId": "04508f26-26a9-4951-92e8-5bba75303482"
   },
   "outputs": [
    {
     "name": "stdout",
     "output_type": "stream",
     "text": [
      "0.88\n"
     ]
    }
   ],
   "source": [
    "print(round(calc_sig(2), 2))"
   ]
  },
  {
   "cell_type": "markdown",
   "metadata": {
    "id": "EDXR3ffrpOO0"
   },
   "source": [
    "## **Câu hỏi 5**"
   ]
  },
  {
   "cell_type": "code",
   "execution_count": 46,
   "metadata": {
    "id": "uh93FvWApYCp",
    "outputId": "0547465c-23f9-4268-d979-a8389eb22498"
   },
   "outputs": [
    {
     "data": {
      "text/plain": [
       "-0.009816843611112657"
      ]
     },
     "execution_count": 46,
     "metadata": {},
     "output_type": "execute_result"
    }
   ],
   "source": [
    "import math\n",
    "\n",
    "def calc_elu(x):\n",
    "    \"\"\"\n",
    "    Tính hàm ELU (Exponential Linear Unit):\n",
    "    ELU(x) = x                 nếu x >= 0\n",
    "           = alpha * (e^x - 1) nếu x < 0\n",
    "    \"\"\"\n",
    "    ### Your code here\n",
    "    alpha = 0.01\n",
    "    if x >= 0:\n",
    "        return x\n",
    "    else:\n",
    "        return alpha * (math.exp(x) - 1)\n",
    "\n",
    "assert round(calc_elu(1))==1\n",
    "\n",
    "calc_elu(-4)"
   ]
  },
  {
   "cell_type": "code",
   "execution_count": null,
   "metadata": {
    "id": "BmzfdGQmTxgB",
    "outputId": "f52d15e8-6d60-4f65-d317-ac47972346ac"
   },
   "outputs": [
    {
     "name": "stdout",
     "output_type": "stream",
     "text": [
      "-0.01\n"
     ]
    }
   ],
   "source": [
    "print(round(calc_elu(-1), 2))"
   ]
  },
  {
   "cell_type": "markdown",
   "metadata": {
    "id": "jMl2_VWApiGv"
   },
   "source": [
    "## **Câu hỏi 6**"
   ]
  },
  {
   "cell_type": "code",
   "execution_count": 55,
   "metadata": {
    "id": "MuLdlkuIpj7f",
    "outputId": "00e93875-dd4c-4ad2-b214-6b0357da0d32"
   },
   "outputs": [
    {
     "data": {
      "text/plain": [
       "0.7310585786300049"
      ]
     },
     "execution_count": 55,
     "metadata": {},
     "output_type": "execute_result"
    }
   ],
   "source": [
    "import math\n",
    "\n",
    "def calc_activation_func(x, act_name):\n",
    "    \"\"\"\n",
    "    Tính hàm kích hoạt cho x dựa trên act_name:\n",
    "    'relu', 'sigmoid', hoặc 'elu'.\n",
    "    \"\"\"\n",
    "    ### Your code here\n",
    "    result = None\n",
    "    act_name = act_name.lower()\n",
    "    if act_name == \"relu\":\n",
    "        result = calc_relu(x)\n",
    "    elif act_name == \"sigmoid\":\n",
    "        result = calc_sig(x)\n",
    "    elif act_name == \"elu\":\n",
    "        result = calc_elu(x)\n",
    "    return result\n",
    "\n",
    "assert calc_activation_func(x = 1, act_name='relu') == 1\n",
    "calc_activation_func(1, \"sigmoid\")"
   ]
  },
  {
   "cell_type": "code",
   "execution_count": 51,
   "metadata": {
    "id": "jlZ4Qn8UqJAw",
    "outputId": "c4aaaea3-d6f5-44c7-a146-1d0594aefcb7"
   },
   "outputs": [
    {
     "name": "stdout",
     "output_type": "stream",
     "text": [
      "0.95\n"
     ]
    }
   ],
   "source": [
    "print(round(calc_activation_func(x = 3, act_name='sigmoid'), 2))"
   ]
  },
  {
   "cell_type": "code",
   "execution_count": 56,
   "metadata": {
    "id": "KQ4B4XKtqMRI"
   },
   "outputs": [],
   "source": [
    "def interactive_activation_function():\n",
    "    x = input('Input x = ')\n",
    "    if not is_number(x):\n",
    "        print('x must be a number')\n",
    "        return # exit()\n",
    "\n",
    "    act_name = input('Input activation function (sigmoid|relu|elu): ')\n",
    "    x = float(x)\n",
    "    result = calc_activation_func(x, act_name)\n",
    "    if result is None:\n",
    "        print(f'{act_name} is not supported')\n",
    "    else:\n",
    "        print(f'{act_name}: f({x}) = {result}')"
   ]
  },
  {
   "cell_type": "code",
   "execution_count": 57,
   "metadata": {
    "id": "yEKzj_msqz7d",
    "outputId": "b337cfb6-e7cb-4114-b873-4541e3c528aa"
   },
   "outputs": [
    {
     "name": "stdout",
     "output_type": "stream",
     "text": [
      "relu: f(9.0) = 9.0\n"
     ]
    }
   ],
   "source": [
    "interactive_activation_function()"
   ]
  },
  {
   "cell_type": "markdown",
   "metadata": {
    "id": "hNOi2P7frAmo"
   },
   "source": [
    "# **Bài 3: Hàm mất mát**"
   ]
  },
  {
   "cell_type": "markdown",
   "metadata": {
    "id": "keyAQadBrFEG"
   },
   "source": [
    "Viết function lựa chọn regression loss function để tính loss:\n",
    "- MAE = $ \\dfrac{1}{n}∑_{i=1}^{n} |y_{i} - \\hat{y}_{i}| $\n",
    "- MSE = $ \\dfrac{1}{n}∑_{i=1}^{n} (y_{i} - \\hat{y}_{i})^2 $\n",
    "- RMSE = $\\sqrt{MSE}$ = $ \\sqrt{\\dfrac{1}{n}∑_{i=1}^{n} (y_{i} - \\hat{y}_{i})^2} $\n",
    "- **n** chính là **số lượng samples (num_samples)**, với **i** là mỗi sample cụ thể. Ở đây các bạn có thể hiểu là cứ mỗi **i** thì sẽ **có 1 cặp  $y_i$ là target và $\\hat{y}$ là predict**.\n",
    "- Input:\n",
    "    - Người dùng **nhập số lượng sample (num_samples) được tạo ra (chỉ nhận integer numbers)**\n",
    "    - Người dùng **nhập loss name (MAE, MSE, RMSE-(optional)) chỉ cần MAE và MSE, bạn nào muốn làm thêm RMSE đều được**.\n",
    "        \n",
    "- Output:\n",
    "    - Print ra **loss name, sample, predict, target, loss**\n",
    "        - **loss name:** là loss mà người dùng chọn\n",
    "        - **sample:** là thứ tự sample được tạo ra (ví dụ num_samples=5, thì sẽ có 5 samples và mỗi sample là sample-0, sample-1, sample-2, sample-3, sample-4)\n",
    "        - **predict:** là số mà model dự đoán (chỉ cần dùng random tạo random một số trong range [0,10))\n",
    "        - **target:** là số target mà momg muốn mode dự đoán đúng (chỉ cần dùng random tạo random một số trong range [0,10))\n",
    "        - **loss:** là kết quả khi đưa predict và target vào hàm loss\n",
    "        - **note:** ví dụ num_sample=5 thì sẽ có 5 cặp predict và target.\n",
    "\n",
    "**Note: Các bạn lưu ý**\n",
    "- Dùng **.isnumeric() method** để kiểm tra **num_samples** có hợp lệ hay không (vd: x='10', num_samples.isnumeric() sẽ trả về True ngược lại là False). Nếu **không hợp lệ print 'number of samples must be an integer number'** và dừng chương trình.\n",
    "- **Dùng vòng lặp for, lặp lại num_samples lần**. **Mỗi lần dùng random modules tạo một con số ngẫu nhiên trong range [0.0, 10.0) cho predict và target**. Sau đó predict và target vào loss function và print ra kết quả mỗi lần lặp.\n",
    "- Dùng **random.uniform(0,10)** để tạo ra một số ngẫu nhiên trong range [0,10)\n",
    "- **Giả xử người dùng luôn nhập đúng loss name MSE, MAE, và RMSE (đơn giảng bước này để các bạn không cần check tên hợp lệ)**\n",
    "- Dùng abs() để tính trị tuyệt đối ví dụ abs(-3) sẽ trả về 3\n",
    "- Dùng math.sqrt() để tính căn bậc 2"
   ]
  },
  {
   "cell_type": "markdown",
   "metadata": {
    "id": "dl6t8TI9Q0ko"
   },
   "source": [
    "## **Câu hỏi 7**"
   ]
  },
  {
   "cell_type": "code",
   "execution_count": 40,
   "metadata": {
    "id": "_-viEfHerCND"
   },
   "outputs": [
    {
     "name": "stdout",
     "output_type": "stream",
     "text": [
      "7.0\n"
     ]
    }
   ],
   "source": [
    "import math\n",
    "\n",
    "def calc_ae(y, y_hat):\n",
    "    \"\"\"\n",
    "    Tính sai số tuyệt đối (Absolute Error)\n",
    "    giữa giá trị thực tế và giá trị dự đoán.\n",
    "\n",
    "    Tham số:\n",
    "    y (float hoặc int): Giá trị thực tế (ground truth).\n",
    "    y_hat (float hoặc int): Giá trị dự đoán.\n",
    "\n",
    "    Trả về:\n",
    "    float: Giá trị tuyệt đối của hiệu giữa y và y_hat.\n",
    "    \"\"\"\n",
    "    ### Your code here\n",
    "    return math.fabs(y - y_hat)\n",
    "\n",
    "\n",
    "y = 1\n",
    "y_hat = 6\n",
    "assert calc_ae(y, y_hat)==5\n",
    "\n",
    "y = 2\n",
    "y_hat = 9\n",
    "print(calc_ae(y, y_hat))"
   ]
  },
  {
   "cell_type": "markdown",
   "metadata": {
    "id": "GpyV7-mDQ0ko"
   },
   "source": [
    "## **Câu hỏi 8**"
   ]
  },
  {
   "cell_type": "code",
   "execution_count": 39,
   "metadata": {
    "id": "HzD6sl3FQ0ko"
   },
   "outputs": [
    {
     "name": "stdout",
     "output_type": "stream",
     "text": [
      "1.0\n"
     ]
    }
   ],
   "source": [
    "import math\n",
    "def calc_se(y, y_hat):\n",
    "    \"\"\"\n",
    "    Tính sai số bình phương (Squared Error)\n",
    "    giữa giá trị thực tế và giá trị dự đoán.\n",
    "\n",
    "    Tham số:\n",
    "    y (float hoặc int): Giá trị thực tế (ground truth).\n",
    "    y_hat (float hoặc int): Giá trị dự đoán.\n",
    "\n",
    "    Trả về:\n",
    "    float: Bình phương của hiệu giữa y và y_hat.\n",
    "    \"\"\"\n",
    "    ### Your code here\n",
    "    return math.pow(y - y_hat,2)\n",
    "y = 4\n",
    "y_hat = 2\n",
    "assert calc_se(y, y_hat)==4\n",
    "\n",
    "print(calc_se(2, 1))"
   ]
  },
  {
   "cell_type": "code",
   "execution_count": 41,
   "metadata": {
    "id": "MPuM5GE7Q0kp"
   },
   "outputs": [],
   "source": [
    "import random\n",
    "\n",
    "def cal_activation_function():\n",
    "    num_samples = input('Input number of samples (integer number) which are generated: ')\n",
    "    if not num_samples.isnumeric():#Hàm isnumeric() trong Python trả về true nếu một chuỗi dạng Unicode chỉ chứa các ký tự số,\n",
    "    #nếu không là false.\n",
    "        print(\"number of samples must be an integer number\")\n",
    "        return # exit()\n",
    "    loss_name = input('Input loss name: ').lower()\n",
    "    if loss_name not in('mae', 'mse', 'rmse'):\n",
    "        raise ValueError(\"Currently, We only support for MAE, MSE, RMSE loss type!\")\n",
    "\n",
    "    # giả sử người dùng luôn nhập đúng MAE, MSE hoặc RMSE\n",
    "    final_loss = 0\n",
    "    num_samples = int(num_samples)\n",
    "    for i in range(num_samples):\n",
    "        pred_sample = random.uniform(0,10)\n",
    "        target_sample = random.uniform(0,10)\n",
    "\n",
    "        if loss_name == 'mae':\n",
    "            loss = calc_ae(pred_sample, target_sample)\n",
    "        elif loss_name == 'mse' or loss_name == 'rmse':\n",
    "            loss = calc_se(pred_sample, target_sample)\n",
    "        # hoặc trả về thông báo loss không có\n",
    "        final_loss += loss\n",
    "        print(f'loss_name: {loss_name}, sample: {i}: pred: {round(pred_sample,2)} target: {round(target_sample,2)} loss: {round(loss,2)}')\n",
    "\n",
    "    final_loss /= num_samples\n",
    "    if loss_name == 'rmse':\n",
    "        final_loss = math.sqrt(final_loss)\n",
    "    print(f'final {loss_name}: {final_loss}')\n",
    "    return final_loss"
   ]
  },
  {
   "cell_type": "code",
   "execution_count": 43,
   "metadata": {
    "id": "knx1I3j4Q0kp"
   },
   "outputs": [
    {
     "name": "stdout",
     "output_type": "stream",
     "text": [
      "loss_name: rmse, sample: 0: pred: 8.57 target: 0.36 loss: 67.41\n",
      "loss_name: rmse, sample: 1: pred: 5.3 target: 2.1 loss: 10.26\n",
      "loss_name: rmse, sample: 2: pred: 7.62 target: 8.42 loss: 0.64\n",
      "loss_name: rmse, sample: 3: pred: 5.25 target: 7.16 loss: 3.63\n",
      "loss_name: rmse, sample: 4: pred: 1.04 target: 8.88 loss: 61.43\n",
      "loss_name: rmse, sample: 5: pred: 6.62 target: 8.73 loss: 4.44\n",
      "loss_name: rmse, sample: 6: pred: 4.51 target: 3.49 loss: 1.03\n",
      "loss_name: rmse, sample: 7: pred: 7.9 target: 0.27 loss: 58.3\n",
      "loss_name: rmse, sample: 8: pred: 1.56 target: 6.2 loss: 21.52\n",
      "loss_name: rmse, sample: 9: pred: 7.18 target: 1.52 loss: 32.04\n",
      "loss_name: rmse, sample: 10: pred: 1.64 target: 9.76 loss: 65.98\n",
      "loss_name: rmse, sample: 11: pred: 8.46 target: 4.83 loss: 13.18\n",
      "final rmse: 5.3217106078034835\n"
     ]
    },
    {
     "data": {
      "text/plain": [
       "5.3217106078034835"
      ]
     },
     "execution_count": 43,
     "metadata": {},
     "output_type": "execute_result"
    }
   ],
   "source": [
    "final_loss = cal_activation_function()\n",
    "final_loss"
   ]
  },
  {
   "cell_type": "markdown",
   "metadata": {
    "id": "fP53niv0Q0kp"
   },
   "source": [
    "# **Bài 4: Hàm lượng giác**"
   ]
  },
  {
   "cell_type": "markdown",
   "metadata": {
    "id": "TftSsF7NRIWx"
   },
   "source": [
    "Viết 4 functions để ước lượng các hàm số sau.\n",
    "-  Input: x (số muốn tính toán) và n (số lần lặp muốn xấp xỉ)\n",
    "- Output: Kết quả ước lượng hàm tương ứng với x. Ví dụ hàm cos(x=0) thì output = 1\n",
    "\n",
    "**NOTE: Các bạn chú ý các điều kiện sau**\n",
    "- x là radian\n",
    "- n là số nguyên dương > 0\n",
    "- các bạn nên viết một hàm tính giai thừa riêng"
   ]
  },
  {
   "cell_type": "code",
   "execution_count": 4,
   "metadata": {
    "id": "8qOAN24rQ0kp"
   },
   "outputs": [
    {
     "data": {
      "text/plain": [
       "362880"
      ]
     },
     "execution_count": 4,
     "metadata": {},
     "output_type": "execute_result"
    }
   ],
   "source": [
    "def factorial_fcn(x):\n",
    "    \"\"\"\n",
    "    Compute the factorial of a non-negative integer x.\n",
    "\n",
    "    Parameters:\n",
    "    x (int): The input integer (x >= 0)\n",
    "\n",
    "    Returns:\n",
    "    int: The factorial of x (i.e., x!)\n",
    "    \"\"\"\n",
    "    res = 1\n",
    "    for i in range(x):\n",
    "        res *= (i + 1)\n",
    "    return res\n",
    "\n",
    "assert factorial_fcn(x=4) == 24\n",
    "\n",
    "factorial_fcn(x=9)"
   ]
  },
  {
   "cell_type": "markdown",
   "metadata": {
    "id": "LAAcjTc6RWpX"
   },
   "source": [
    "## **Câu hỏi 9**"
   ]
  },
  {
   "cell_type": "code",
   "execution_count": 12,
   "metadata": {
    "id": "yU0dWA8eQ0kp"
   },
   "outputs": [],
   "source": [
    "import math\n",
    "\n",
    "def approx_sin(x, n):\n",
    "    \"\"\"\n",
    "    Approximate the sine of x using the Taylor series expansion.\n",
    "\n",
    "    Parameters:\n",
    "    x (float): The input angle in radians.\n",
    "    n (int): Number of terms in the Taylor series expansion.\n",
    "\n",
    "    Returns:\n",
    "    float: Approximate value of sin(x) using n+1 terms.\n",
    "    \"\"\"\n",
    "    ### Your code here\n",
    "    sin_approx = 0\n",
    "    for i in range(n):\n",
    "        numerator = math.pow(-1, i) * math.pow(x, 2*i + 1)\n",
    "        denominator = float(factorial_fcn(2*i + 1))\n",
    "        sin_approx += numerator / denominator\n",
    "    return sin_approx"
   ]
  },
  {
   "cell_type": "code",
   "execution_count": 19,
   "metadata": {
    "id": "f-ZeUFxLQ0kp"
   },
   "outputs": [
    {
     "name": "stdout",
     "output_type": "stream",
     "text": [
      "0.0015926524\n",
      "0.0015926529164868282\n"
     ]
    }
   ],
   "source": [
    "print(round(approx_sin(x=3.14, n=10), 10))\n",
    "print(math.sin(3.14))"
   ]
  },
  {
   "cell_type": "markdown",
   "metadata": {
    "id": "E6wEd6uURYai"
   },
   "source": [
    "## **Câu hỏi 10**"
   ]
  },
  {
   "cell_type": "code",
   "execution_count": 20,
   "metadata": {
    "id": "Y2wSHOzXQ0kp"
   },
   "outputs": [],
   "source": [
    "def approx_cos(x, n):\n",
    "    \"\"\"\n",
    "    Approximate the cosine of x using the Taylor series expansion.\n",
    "    Parameters:\n",
    "    x (float): The input angle in radians.\n",
    "    n (int): Number of terms in the Taylor series expansion.\n",
    "    Returns:\n",
    "    float: Approximate value of cos(x) using n+1 terms.\n",
    "    \"\"\"\n",
    "    ### Your code here\n",
    "    cos_approx = 0\n",
    "    for i in range(n):\n",
    "        cos_approx += math.pow(-1, i) * math.pow(x, 2*i) / float(factorial_fcn(2 * i))\n",
    "    return cos_approx\n",
    "\n",
    "# Test\n",
    "assert round(approx_cos(x=1, n=10), 2) == 0.54"
   ]
  },
  {
   "cell_type": "code",
   "execution_count": 21,
   "metadata": {
    "id": "m1xvqAfYQ0kp"
   },
   "outputs": [
    {
     "name": "stdout",
     "output_type": "stream",
     "text": [
      "-0.9999987352\n",
      "-0.9999987317275395\n"
     ]
    }
   ],
   "source": [
    "print(round(approx_cos(x=3.14, n=10), 10))\n",
    "print(math.cos(3.14))"
   ]
  },
  {
   "cell_type": "markdown",
   "metadata": {
    "id": "d9kQu6utRamF"
   },
   "source": [
    "## **Câu hỏi 11**"
   ]
  },
  {
   "cell_type": "code",
   "execution_count": 23,
   "metadata": {
    "id": "GfW4FpSdQ0kp"
   },
   "outputs": [],
   "source": [
    "def approx_sinh(x, n):\n",
    "    \"\"\"\n",
    "    Approximate the hyperbolic sine of x using the Taylor series expansion.\n",
    "    Parameters:\n",
    "    x (float): The input value.\n",
    "    n (int): Number of terms in the Taylor series expansion.\n",
    "    Returns:\n",
    "    float: Approximate value of sinh(x) using n+1 terms.\n",
    "    \"\"\"\n",
    "    ### Your code here\n",
    "    sinh_approx = 0\n",
    "    for i in range(n):\n",
    "        sinh_approx += math.pow(x, 2*i + 1) / float(factorial_fcn(2*i + 1))\n",
    "    return sinh_approx\n",
    "\n",
    "# Test\n",
    "assert round(approx_sinh(x=1, n=10), 2) == 1.18"
   ]
  },
  {
   "cell_type": "code",
   "execution_count": 24,
   "metadata": {
    "id": "R_eEkU5cQ0kv"
   },
   "outputs": [
    {
     "name": "stdout",
     "output_type": "stream",
     "text": [
      "11.5302920299\n",
      "11.53029203041011\n"
     ]
    }
   ],
   "source": [
    "print(round(approx_sinh(x=3.14, n=10), 10))\n",
    "print(math.sinh(3.14))"
   ]
  },
  {
   "cell_type": "markdown",
   "metadata": {
    "id": "py9jGnMORcpP"
   },
   "source": [
    "## **Câu hỏi 12**"
   ]
  },
  {
   "cell_type": "code",
   "execution_count": 29,
   "metadata": {
    "id": "sOguyp6MQ0kv"
   },
   "outputs": [],
   "source": [
    "def approx_cosh(x, n):\n",
    "    \"\"\"\n",
    "    Approximate the hyperbolic cosine of x using the Taylor series.\n",
    "    Parameters:\n",
    "    x (float): The input value.\n",
    "    n (int): Number of terms in the Taylor series expansion.\n",
    "    Returns:\n",
    "    float: Approximate value of cosh(x) using n+1 terms.\n",
    "    \"\"\"\n",
    "    ### Your code here\n",
    "    approx_cosh = 0\n",
    "    for i in range(n):\n",
    "        approx_cosh += math.pow(x, 2*i) / float(factorial_fcn(2*i))\n",
    "    return approx_cosh\n",
    "\n",
    "# Test\n",
    "assert round(approx_cosh(x=1, n=10), 2) == 1.54"
   ]
  },
  {
   "cell_type": "code",
   "execution_count": 30,
   "metadata": {
    "id": "EYYwPBsjQ0kv"
   },
   "outputs": [
    {
     "name": "stdout",
     "output_type": "stream",
     "text": [
      "11.5735748247\n",
      "11.573574828312076\n"
     ]
    }
   ],
   "source": [
    "print(round(approx_cosh(x=3.14, n=10), 10))\n",
    "print(math.cosh(3.14))"
   ]
  }
 ],
 "metadata": {
  "colab": {
   "include_colab_link": true,
   "provenance": []
  },
  "kernelspec": {
   "display_name": "Python 3",
   "language": "python",
   "name": "python3"
  },
  "language_info": {
   "codemirror_mode": {
    "name": "ipython",
    "version": 3
   },
   "file_extension": ".py",
   "mimetype": "text/x-python",
   "name": "python",
   "nbconvert_exporter": "python",
   "pygments_lexer": "ipython3",
   "version": "3.13.5"
  }
 },
 "nbformat": 4,
 "nbformat_minor": 0
}
