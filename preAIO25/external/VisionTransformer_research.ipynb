{
  "cells": [
    {
      "cell_type": "markdown",
      "metadata": {
        "id": "view-in-github",
        "colab_type": "text"
      },
      "source": [
        "<a href=\"https://colab.research.google.com/github/mylethidiem/zero-to-hero/blob/main/preAIO25/external/VisionTransformer_research.ipynb\" target=\"_parent\"><img src=\"https://colab.research.google.com/assets/colab-badge.svg\" alt=\"Open In Colab\"/></a>"
      ]
    },
    {
      "cell_type": "markdown",
      "metadata": {
        "id": "XSpmFt9_S8qr"
      },
      "source": [
        "# **Vision Transformer**"
      ]
    },
    {
      "cell_type": "code",
      "execution_count": 1,
      "metadata": {
        "id": "R6kBYpHvKfcd",
        "colab": {
          "base_uri": "https://localhost:8080/"
        },
        "outputId": "5fa339d8-931b-4a49-abc9-4e31df1e21a7"
      },
      "outputs": [
        {
          "output_type": "stream",
          "name": "stdout",
          "text": [
            "Collecting torchvision==0.16.0\n",
            "  Downloading torchvision-0.16.0-cp311-cp311-manylinux1_x86_64.whl.metadata (6.6 kB)\n",
            "Requirement already satisfied: numpy in /usr/local/lib/python3.11/dist-packages (from torchvision==0.16.0) (1.26.4)\n",
            "Requirement already satisfied: requests in /usr/local/lib/python3.11/dist-packages (from torchvision==0.16.0) (2.32.3)\n",
            "Collecting torch==2.1.0 (from torchvision==0.16.0)\n",
            "  Downloading torch-2.1.0-cp311-cp311-manylinux1_x86_64.whl.metadata (25 kB)\n",
            "Requirement already satisfied: pillow!=8.3.*,>=5.3.0 in /usr/local/lib/python3.11/dist-packages (from torchvision==0.16.0) (11.1.0)\n",
            "Requirement already satisfied: filelock in /usr/local/lib/python3.11/dist-packages (from torch==2.1.0->torchvision==0.16.0) (3.17.0)\n",
            "Requirement already satisfied: typing-extensions in /usr/local/lib/python3.11/dist-packages (from torch==2.1.0->torchvision==0.16.0) (4.12.2)\n",
            "Requirement already satisfied: sympy in /usr/local/lib/python3.11/dist-packages (from torch==2.1.0->torchvision==0.16.0) (1.13.1)\n",
            "Requirement already satisfied: networkx in /usr/local/lib/python3.11/dist-packages (from torch==2.1.0->torchvision==0.16.0) (3.4.2)\n",
            "Requirement already satisfied: jinja2 in /usr/local/lib/python3.11/dist-packages (from torch==2.1.0->torchvision==0.16.0) (3.1.5)\n",
            "Requirement already satisfied: fsspec in /usr/local/lib/python3.11/dist-packages (from torch==2.1.0->torchvision==0.16.0) (2024.10.0)\n",
            "Collecting nvidia-cuda-nvrtc-cu12==12.1.105 (from torch==2.1.0->torchvision==0.16.0)\n",
            "  Downloading nvidia_cuda_nvrtc_cu12-12.1.105-py3-none-manylinux1_x86_64.whl.metadata (1.5 kB)\n",
            "Collecting nvidia-cuda-runtime-cu12==12.1.105 (from torch==2.1.0->torchvision==0.16.0)\n",
            "  Downloading nvidia_cuda_runtime_cu12-12.1.105-py3-none-manylinux1_x86_64.whl.metadata (1.5 kB)\n",
            "Collecting nvidia-cuda-cupti-cu12==12.1.105 (from torch==2.1.0->torchvision==0.16.0)\n",
            "  Downloading nvidia_cuda_cupti_cu12-12.1.105-py3-none-manylinux1_x86_64.whl.metadata (1.6 kB)\n",
            "Collecting nvidia-cudnn-cu12==8.9.2.26 (from torch==2.1.0->torchvision==0.16.0)\n",
            "  Downloading nvidia_cudnn_cu12-8.9.2.26-py3-none-manylinux1_x86_64.whl.metadata (1.6 kB)\n",
            "Collecting nvidia-cublas-cu12==12.1.3.1 (from torch==2.1.0->torchvision==0.16.0)\n",
            "  Downloading nvidia_cublas_cu12-12.1.3.1-py3-none-manylinux1_x86_64.whl.metadata (1.5 kB)\n",
            "Collecting nvidia-cufft-cu12==11.0.2.54 (from torch==2.1.0->torchvision==0.16.0)\n",
            "  Downloading nvidia_cufft_cu12-11.0.2.54-py3-none-manylinux1_x86_64.whl.metadata (1.5 kB)\n",
            "Collecting nvidia-curand-cu12==10.3.2.106 (from torch==2.1.0->torchvision==0.16.0)\n",
            "  Downloading nvidia_curand_cu12-10.3.2.106-py3-none-manylinux1_x86_64.whl.metadata (1.5 kB)\n",
            "Collecting nvidia-cusolver-cu12==11.4.5.107 (from torch==2.1.0->torchvision==0.16.0)\n",
            "  Downloading nvidia_cusolver_cu12-11.4.5.107-py3-none-manylinux1_x86_64.whl.metadata (1.6 kB)\n",
            "Collecting nvidia-cusparse-cu12==12.1.0.106 (from torch==2.1.0->torchvision==0.16.0)\n",
            "  Downloading nvidia_cusparse_cu12-12.1.0.106-py3-none-manylinux1_x86_64.whl.metadata (1.6 kB)\n",
            "Collecting nvidia-nccl-cu12==2.18.1 (from torch==2.1.0->torchvision==0.16.0)\n",
            "  Downloading nvidia_nccl_cu12-2.18.1-py3-none-manylinux1_x86_64.whl.metadata (1.8 kB)\n",
            "Collecting nvidia-nvtx-cu12==12.1.105 (from torch==2.1.0->torchvision==0.16.0)\n",
            "  Downloading nvidia_nvtx_cu12-12.1.105-py3-none-manylinux1_x86_64.whl.metadata (1.7 kB)\n",
            "Collecting triton==2.1.0 (from torch==2.1.0->torchvision==0.16.0)\n",
            "  Downloading triton-2.1.0-0-cp311-cp311-manylinux2014_x86_64.manylinux_2_17_x86_64.whl.metadata (1.3 kB)\n",
            "Requirement already satisfied: nvidia-nvjitlink-cu12 in /usr/local/lib/python3.11/dist-packages (from nvidia-cusolver-cu12==11.4.5.107->torch==2.1.0->torchvision==0.16.0) (12.5.82)\n",
            "Requirement already satisfied: charset-normalizer<4,>=2 in /usr/local/lib/python3.11/dist-packages (from requests->torchvision==0.16.0) (3.4.1)\n",
            "Requirement already satisfied: idna<4,>=2.5 in /usr/local/lib/python3.11/dist-packages (from requests->torchvision==0.16.0) (3.10)\n",
            "Requirement already satisfied: urllib3<3,>=1.21.1 in /usr/local/lib/python3.11/dist-packages (from requests->torchvision==0.16.0) (2.3.0)\n",
            "Requirement already satisfied: certifi>=2017.4.17 in /usr/local/lib/python3.11/dist-packages (from requests->torchvision==0.16.0) (2025.1.31)\n",
            "Requirement already satisfied: MarkupSafe>=2.0 in /usr/local/lib/python3.11/dist-packages (from jinja2->torch==2.1.0->torchvision==0.16.0) (3.0.2)\n",
            "Requirement already satisfied: mpmath<1.4,>=1.1.0 in /usr/local/lib/python3.11/dist-packages (from sympy->torch==2.1.0->torchvision==0.16.0) (1.3.0)\n",
            "Downloading torchvision-0.16.0-cp311-cp311-manylinux1_x86_64.whl (6.9 MB)\n",
            "\u001b[2K   \u001b[90m━━━━━━━━━━━━━━━━━━━━━━━━━━━━━━━━━━━━━━━━\u001b[0m \u001b[32m6.9/6.9 MB\u001b[0m \u001b[31m92.4 MB/s\u001b[0m eta \u001b[36m0:00:00\u001b[0m\n",
            "\u001b[?25hDownloading torch-2.1.0-cp311-cp311-manylinux1_x86_64.whl (670.2 MB)\n",
            "\u001b[2K   \u001b[90m━━━━━━━━━━━━━━━━━━━━━━━━━━━━━━━━━━━━━━━━\u001b[0m \u001b[32m670.2/670.2 MB\u001b[0m \u001b[31m1.9 MB/s\u001b[0m eta \u001b[36m0:00:00\u001b[0m\n",
            "\u001b[?25hDownloading nvidia_cublas_cu12-12.1.3.1-py3-none-manylinux1_x86_64.whl (410.6 MB)\n",
            "\u001b[2K   \u001b[90m━━━━━━━━━━━━━━━━━━━━━━━━━━━━━━━━━━━━━━━━\u001b[0m \u001b[32m410.6/410.6 MB\u001b[0m \u001b[31m2.7 MB/s\u001b[0m eta \u001b[36m0:00:00\u001b[0m\n",
            "\u001b[?25hDownloading nvidia_cuda_cupti_cu12-12.1.105-py3-none-manylinux1_x86_64.whl (14.1 MB)\n",
            "\u001b[2K   \u001b[90m━━━━━━━━━━━━━━━━━━━━━━━━━━━━━━━━━━━━━━━━\u001b[0m \u001b[32m14.1/14.1 MB\u001b[0m \u001b[31m112.3 MB/s\u001b[0m eta \u001b[36m0:00:00\u001b[0m\n",
            "\u001b[?25hDownloading nvidia_cuda_nvrtc_cu12-12.1.105-py3-none-manylinux1_x86_64.whl (23.7 MB)\n",
            "\u001b[2K   \u001b[90m━━━━━━━━━━━━━━━━━━━━━━━━━━━━━━━━━━━━━━━━\u001b[0m \u001b[32m23.7/23.7 MB\u001b[0m \u001b[31m92.1 MB/s\u001b[0m eta \u001b[36m0:00:00\u001b[0m\n",
            "\u001b[?25hDownloading nvidia_cuda_runtime_cu12-12.1.105-py3-none-manylinux1_x86_64.whl (823 kB)\n",
            "\u001b[2K   \u001b[90m━━━━━━━━━━━━━━━━━━━━━━━━━━━━━━━━━━━━━━━━\u001b[0m \u001b[32m823.6/823.6 kB\u001b[0m \u001b[31m47.0 MB/s\u001b[0m eta \u001b[36m0:00:00\u001b[0m\n",
            "\u001b[?25hDownloading nvidia_cudnn_cu12-8.9.2.26-py3-none-manylinux1_x86_64.whl (731.7 MB)\n",
            "\u001b[2K   \u001b[90m━━━━━━━━━━━━━━━━━━━━━━━━━━━━━━━━━━━━━━━━\u001b[0m \u001b[32m731.7/731.7 MB\u001b[0m \u001b[31m1.9 MB/s\u001b[0m eta \u001b[36m0:00:00\u001b[0m\n",
            "\u001b[?25hDownloading nvidia_cufft_cu12-11.0.2.54-py3-none-manylinux1_x86_64.whl (121.6 MB)\n",
            "\u001b[2K   \u001b[90m━━━━━━━━━━━━━━━━━━━━━━━━━━━━━━━━━━━━━━━━\u001b[0m \u001b[32m121.6/121.6 MB\u001b[0m \u001b[31m17.2 MB/s\u001b[0m eta \u001b[36m0:00:00\u001b[0m\n",
            "\u001b[?25hDownloading nvidia_curand_cu12-10.3.2.106-py3-none-manylinux1_x86_64.whl (56.5 MB)\n",
            "\u001b[2K   \u001b[90m━━━━━━━━━━━━━━━━━━━━━━━━━━━━━━━━━━━━━━━━\u001b[0m \u001b[32m56.5/56.5 MB\u001b[0m \u001b[31m36.3 MB/s\u001b[0m eta \u001b[36m0:00:00\u001b[0m\n",
            "\u001b[?25hDownloading nvidia_cusolver_cu12-11.4.5.107-py3-none-manylinux1_x86_64.whl (124.2 MB)\n",
            "\u001b[2K   \u001b[90m━━━━━━━━━━━━━━━━━━━━━━━━━━━━━━━━━━━━━━━━\u001b[0m \u001b[32m124.2/124.2 MB\u001b[0m \u001b[31m4.8 MB/s\u001b[0m eta \u001b[36m0:00:00\u001b[0m\n",
            "\u001b[?25hDownloading nvidia_cusparse_cu12-12.1.0.106-py3-none-manylinux1_x86_64.whl (196.0 MB)\n",
            "\u001b[2K   \u001b[90m━━━━━━━━━━━━━━━━━━━━━━━━━━━━━━━━━━━━━━━━\u001b[0m \u001b[32m196.0/196.0 MB\u001b[0m \u001b[31m5.0 MB/s\u001b[0m eta \u001b[36m0:00:00\u001b[0m\n",
            "\u001b[?25hDownloading nvidia_nccl_cu12-2.18.1-py3-none-manylinux1_x86_64.whl (209.8 MB)\n",
            "\u001b[2K   \u001b[90m━━━━━━━━━━━━━━━━━━━━━━━━━━━━━━━━━━━━━━━━\u001b[0m \u001b[32m209.8/209.8 MB\u001b[0m \u001b[31m4.9 MB/s\u001b[0m eta \u001b[36m0:00:00\u001b[0m\n",
            "\u001b[?25hDownloading nvidia_nvtx_cu12-12.1.105-py3-none-manylinux1_x86_64.whl (99 kB)\n",
            "\u001b[2K   \u001b[90m━━━━━━━━━━━━━━━━━━━━━━━━━━━━━━━━━━━━━━━━\u001b[0m \u001b[32m99.1/99.1 kB\u001b[0m \u001b[31m8.5 MB/s\u001b[0m eta \u001b[36m0:00:00\u001b[0m\n",
            "\u001b[?25hDownloading triton-2.1.0-0-cp311-cp311-manylinux2014_x86_64.manylinux_2_17_x86_64.whl (89.2 MB)\n",
            "\u001b[2K   \u001b[90m━━━━━━━━━━━━━━━━━━━━━━━━━━━━━━━━━━━━━━━━\u001b[0m \u001b[32m89.2/89.2 MB\u001b[0m \u001b[31m24.5 MB/s\u001b[0m eta \u001b[36m0:00:00\u001b[0m\n",
            "\u001b[?25hInstalling collected packages: triton, nvidia-nvtx-cu12, nvidia-nccl-cu12, nvidia-cusparse-cu12, nvidia-curand-cu12, nvidia-cufft-cu12, nvidia-cuda-runtime-cu12, nvidia-cuda-nvrtc-cu12, nvidia-cuda-cupti-cu12, nvidia-cublas-cu12, nvidia-cusolver-cu12, nvidia-cudnn-cu12, torch, torchvision\n",
            "  Attempting uninstall: triton\n",
            "    Found existing installation: triton 3.1.0\n",
            "    Uninstalling triton-3.1.0:\n",
            "      Successfully uninstalled triton-3.1.0\n",
            "  Attempting uninstall: nvidia-nvtx-cu12\n",
            "    Found existing installation: nvidia-nvtx-cu12 12.4.127\n",
            "    Uninstalling nvidia-nvtx-cu12-12.4.127:\n",
            "      Successfully uninstalled nvidia-nvtx-cu12-12.4.127\n",
            "  Attempting uninstall: nvidia-nccl-cu12\n",
            "    Found existing installation: nvidia-nccl-cu12 2.21.5\n",
            "    Uninstalling nvidia-nccl-cu12-2.21.5:\n",
            "      Successfully uninstalled nvidia-nccl-cu12-2.21.5\n",
            "  Attempting uninstall: nvidia-cusparse-cu12\n",
            "    Found existing installation: nvidia-cusparse-cu12 12.5.1.3\n",
            "    Uninstalling nvidia-cusparse-cu12-12.5.1.3:\n",
            "      Successfully uninstalled nvidia-cusparse-cu12-12.5.1.3\n",
            "  Attempting uninstall: nvidia-curand-cu12\n",
            "    Found existing installation: nvidia-curand-cu12 10.3.6.82\n",
            "    Uninstalling nvidia-curand-cu12-10.3.6.82:\n",
            "      Successfully uninstalled nvidia-curand-cu12-10.3.6.82\n",
            "  Attempting uninstall: nvidia-cufft-cu12\n",
            "    Found existing installation: nvidia-cufft-cu12 11.2.3.61\n",
            "    Uninstalling nvidia-cufft-cu12-11.2.3.61:\n",
            "      Successfully uninstalled nvidia-cufft-cu12-11.2.3.61\n",
            "  Attempting uninstall: nvidia-cuda-runtime-cu12\n",
            "    Found existing installation: nvidia-cuda-runtime-cu12 12.5.82\n",
            "    Uninstalling nvidia-cuda-runtime-cu12-12.5.82:\n",
            "      Successfully uninstalled nvidia-cuda-runtime-cu12-12.5.82\n",
            "  Attempting uninstall: nvidia-cuda-nvrtc-cu12\n",
            "    Found existing installation: nvidia-cuda-nvrtc-cu12 12.5.82\n",
            "    Uninstalling nvidia-cuda-nvrtc-cu12-12.5.82:\n",
            "      Successfully uninstalled nvidia-cuda-nvrtc-cu12-12.5.82\n",
            "  Attempting uninstall: nvidia-cuda-cupti-cu12\n",
            "    Found existing installation: nvidia-cuda-cupti-cu12 12.5.82\n",
            "    Uninstalling nvidia-cuda-cupti-cu12-12.5.82:\n",
            "      Successfully uninstalled nvidia-cuda-cupti-cu12-12.5.82\n",
            "  Attempting uninstall: nvidia-cublas-cu12\n",
            "    Found existing installation: nvidia-cublas-cu12 12.5.3.2\n",
            "    Uninstalling nvidia-cublas-cu12-12.5.3.2:\n",
            "      Successfully uninstalled nvidia-cublas-cu12-12.5.3.2\n",
            "  Attempting uninstall: nvidia-cusolver-cu12\n",
            "    Found existing installation: nvidia-cusolver-cu12 11.6.3.83\n",
            "    Uninstalling nvidia-cusolver-cu12-11.6.3.83:\n",
            "      Successfully uninstalled nvidia-cusolver-cu12-11.6.3.83\n",
            "  Attempting uninstall: nvidia-cudnn-cu12\n",
            "    Found existing installation: nvidia-cudnn-cu12 9.3.0.75\n",
            "    Uninstalling nvidia-cudnn-cu12-9.3.0.75:\n",
            "      Successfully uninstalled nvidia-cudnn-cu12-9.3.0.75\n",
            "  Attempting uninstall: torch\n",
            "    Found existing installation: torch 2.5.1+cu124\n",
            "    Uninstalling torch-2.5.1+cu124:\n",
            "      Successfully uninstalled torch-2.5.1+cu124\n",
            "  Attempting uninstall: torchvision\n",
            "    Found existing installation: torchvision 0.20.1+cu124\n",
            "    Uninstalling torchvision-0.20.1+cu124:\n",
            "      Successfully uninstalled torchvision-0.20.1+cu124\n",
            "\u001b[31mERROR: pip's dependency resolver does not currently take into account all the packages that are installed. This behaviour is the source of the following dependency conflicts.\n",
            "torchaudio 2.5.1+cu124 requires torch==2.5.1, but you have torch 2.1.0 which is incompatible.\u001b[0m\u001b[31m\n",
            "\u001b[0mSuccessfully installed nvidia-cublas-cu12-12.1.3.1 nvidia-cuda-cupti-cu12-12.1.105 nvidia-cuda-nvrtc-cu12-12.1.105 nvidia-cuda-runtime-cu12-12.1.105 nvidia-cudnn-cu12-8.9.2.26 nvidia-cufft-cu12-11.0.2.54 nvidia-curand-cu12-10.3.2.106 nvidia-cusolver-cu12-11.4.5.107 nvidia-cusparse-cu12-12.1.0.106 nvidia-nccl-cu12-2.18.1 nvidia-nvtx-cu12-12.1.105 torch-2.1.0 torchvision-0.16.0 triton-2.1.0\n"
          ]
        }
      ],
      "source": [
        "# Install packages\n",
        "!pip install torchvision==0.16.0"
      ]
    },
    {
      "cell_type": "code",
      "source": [
        "#\n",
        "import torch\n",
        "import torch.nn as nn\n",
        "from torch.nn import functional as F\n",
        "\n",
        "from torch.utils.data import DataLoader\n",
        "import torchvision\n",
        "import torchvision.transforms as transforms"
      ],
      "metadata": {
        "id": "q9KlvJd2PBb-"
      },
      "execution_count": 2,
      "outputs": []
    },
    {
      "cell_type": "markdown",
      "source": [
        "Nhằm đảm bảo tính đồng đều về kết quả của mô hình"
      ],
      "metadata": {
        "id": "csipn11ZPI7V"
      }
    },
    {
      "cell_type": "code",
      "source": [
        "device = torch.device('cuda' if torch.cuda.is_available() else 'cpu')\n",
        "print(device)\n",
        "def set_seed(seed):\n",
        "  torch.manual_seed(seed)\n",
        "SEED = 42\n",
        "set_seed(SEED)"
      ],
      "metadata": {
        "id": "Q0Ar5px1k7vF",
        "colab": {
          "base_uri": "https://localhost:8080/"
        },
        "outputId": "b824f50d-439a-41dd-8c3d-123c37432a99"
      },
      "execution_count": 3,
      "outputs": [
        {
          "output_type": "stream",
          "name": "stdout",
          "text": [
            "cuda\n"
          ]
        }
      ]
    },
    {
      "cell_type": "markdown",
      "source": [
        "## LOAD DATA CIFAR10"
      ],
      "metadata": {
        "id": "s9lTN1HXsmeq"
      }
    },
    {
      "cell_type": "markdown",
      "source": [
        "What is [CIFAR10](https://www.cs.toronto.edu/~kriz/cifar.html)?\n",
        "\n",
        "- Đầu vào: 60.000 hình ảnh màu có kích thước (32x32) chia thành 10 lớp khác nhau đại diện cho máy bay, ô tô, chim, mèo, hươu, chó, ếch, ngựa, tàu thủy và xe tải. Dữ liệu được chia ra thành 50000 ảnh cho training và 10000 dùng để test. \\\n",
        "- Ở đây mình tiếp tục chia dữ liệu train ra làm 2 phần: 90% sẽ được dùng cho việc huấn luyện và 10% còn lại sẽ dùng cho bước validation.\n",
        "- Số lượng batch size dùng hiện tại là 64 cho tập dữ liệu không phải là quá lớn\n",
        "- Bước transformer(Biến đổi ảnh):\n",
        "   - Các bức ảnh sẽ được resize về kích thước\n",
        "   - Chuyển thành dữ liệu tensor cho việc tính toán\n",
        "   - Chuẩn hóa\n"
      ],
      "metadata": {
        "id": "hBa5tjThsy2g"
      }
    },
    {
      "cell_type": "code",
      "source": [
        "batch_size = 128 # change from 64 => 128\n",
        "\n",
        "# Why need transform??\n",
        "# transform =  transforms.Compose(\n",
        "#     [\n",
        "#         transforms.Resize((32, 32)),\n",
        "#         transforms.ToTensor(),\n",
        "#         transforms.Normalize((0.5, 0.5, 0.5), (0.5, 0.5, 0.5)) #?\n",
        "#     ]\n",
        "# )\n",
        "transform = transforms.Compose([\n",
        "    transforms.RandomCrop(32, padding=4),  # Cắt ngẫu nhiên với padding\n",
        "    transforms.RandomHorizontalFlip(),      # Lật ngang ngẫu nhiên\n",
        "    transforms.ToTensor(),                  # Chuyển đổi thành tensor\n",
        "    transforms.Normalize((0.5, 0.5, 0.5), (0.5, 0.5, 0.5)) #?\n",
        "])\n",
        "\n",
        "#download\n",
        "test_dataset = torchvision.datasets.CIFAR10(root='./data', train=False,\n",
        "                                             transform=transform, download=True)\n",
        "\n",
        "# split data train into val and train\n",
        "train_dataset = torchvision.datasets.CIFAR10(root='./data', train=True,\n",
        "                                            transform=transform, download=True)\n",
        "train_subset_size = int(len(train_dataset) * 0.9)\n",
        "val_subset_size = len(train_dataset) - train_subset_size\n",
        "train_subset, val_subset = torch.utils.data.random_split(train_dataset, [train_subset_size,val_subset_size ])\n",
        "\n",
        "\n",
        "# create dataloader contain batches of data to train(mini-batch)\n",
        "train_loader = DataLoader(dataset=train_subset, batch_size=batch_size, shuffle=True, num_workers=2)#?\n",
        "val_loader = DataLoader(dataset=val_subset, batch_size=batch_size, shuffle=False, num_workers=2)\n",
        "test_loader = DataLoader(dataset=test_dataset, batch_size=batch_size, shuffle=False, num_workers=2)\n",
        "print(f\"Train size: {len(train_subset)}\")\n",
        "print(f\"Train batches: {len(train_loader)}\")\n",
        "print(f\"Validation size: {len(val_subset)}\")\n",
        "print(f\"Test size: {len(test_dataset)}\")"
      ],
      "metadata": {
        "id": "icHdsN5nlJrO",
        "colab": {
          "base_uri": "https://localhost:8080/"
        },
        "outputId": "ac9e88fc-5f1e-4dd3-8921-69f0ba3dc7f3"
      },
      "execution_count": 21,
      "outputs": [
        {
          "output_type": "stream",
          "name": "stdout",
          "text": [
            "Files already downloaded and verified\n",
            "Files already downloaded and verified\n",
            "Train size: 45000\n",
            "Train batches: 352\n",
            "Validation size: 5000\n",
            "Test size: 10000\n"
          ]
        }
      ]
    },
    {
      "cell_type": "markdown",
      "source": [
        "## Build Model"
      ],
      "metadata": {
        "id": "lFY5ufFSJtgd"
      }
    },
    {
      "cell_type": "markdown",
      "source": [
        "### A little research (Các code trong mục này không được dùng cho model train dữ liệu bên dưới)"
      ],
      "metadata": {
        "id": "gwOX5H6MVOtO"
      }
    },
    {
      "cell_type": "markdown",
      "source": [
        "Linear Projection hay Linear Transformation: \\\n",
        "(Patch projection into Embedding)\n",
        "- Có 2 cách: một là dùng lớp Convolution 2D như ví dụ bên dưới hoặc là dùng lớp Linear.\n",
        "- Giải thích các tham số:\n",
        "   - `in_channels` bằng 3 là số channel của một bức ảnh\n",
        "   - `out_channels` số lượng embedding của mình mong muốn\n",
        "   - `kernel_size=patch_size`: Để cho bức hình từ vector 3D thành vector 1D thì số kernel size nên để giá trị thành patch size để nó lấy hết cái hình."
      ],
      "metadata": {
        "id": "F5Zyc0OfD_mH"
      }
    },
    {
      "cell_type": "code",
      "source": [
        "class PatchEmbedding(nn.Module):\n",
        "  def __init__(self, embed_dim=512, patch_size=16, image_size=224):\n",
        "    super().__init__()\n",
        "    # 1 layer conv2d\n",
        "    # image have 3 channels\n",
        "    self.conv1 = nn.Conv2d(in_channels=3, out_channels=embed_dim, kernel_size=patch_size, stride=patch_size, bias=False)\n",
        "\n",
        "  def forward(self, x):\n",
        "    x = self.conv1(x)\n",
        "\n",
        "    # why we need reshape?\n",
        "    print(f\"x shape before reshape: {x.shape}\") # shape [*, width, grid, grid]\n",
        "    x = x.reshape(x.shape[0], x.shape[1], -1)\n",
        "    print(f\"x shape after reshape: {x.shape}\") # shape [*, width, grid ** 2]\n",
        "\n",
        "    # Hoán đổi vị trí 2 dữ liệu cuối sau khi đã reshape\n",
        "    x.permute(0, 2, 1)\n",
        "    return x\n"
      ],
      "metadata": {
        "id": "Cz9KBCEPKLrH"
      },
      "execution_count": 5,
      "outputs": []
    },
    {
      "cell_type": "code",
      "source": [
        "# example\n",
        "patch_embedding = PatchEmbedding()\n",
        "x = torch.randn(1, 3, 224, 224)\n",
        "\n",
        "out = patch_embedding(x)\n",
        "print(out.shape)"
      ],
      "metadata": {
        "id": "k-n1nyEEV9LH",
        "colab": {
          "base_uri": "https://localhost:8080/"
        },
        "outputId": "4901ee92-46c1-41ac-953c-4975c8f8a323"
      },
      "execution_count": 6,
      "outputs": [
        {
          "output_type": "stream",
          "name": "stdout",
          "text": [
            "x shape before reshape: torch.Size([1, 512, 14, 14])\n",
            "x shape after reshape: torch.Size([1, 512, 196])\n",
            "torch.Size([1, 512, 196])\n"
          ]
        }
      ]
    },
    {
      "cell_type": "markdown",
      "source": [
        "Bước thêm thông tin về vị trí vào các vector embedding"
      ],
      "metadata": {
        "id": "PWn_cH9qP6XK"
      }
    },
    {
      "cell_type": "code",
      "source": [
        "# Patch Positional Embedding\n",
        "class PatchPositionalEmbedding(nn.Module):\n",
        "  def __init__(self, embed_dim=512, patch_size=16, image_size=224):\n",
        "    super().__init__()\n",
        "    self.conv1 = nn.Conv2d(in_channels=3, out_channels=embed_dim, kernel_size=patch_size, stride=patch_size, bias=False)\n",
        "    scale = embed_dim ** -0.5 #?\n",
        "    print(embed_dim)\n",
        "    data = scale * torch.randn((image_size // patch_size) ** 2, embed_dim)#?\n",
        "    self.positional_embedding = nn.Parameter(data)\n",
        "\n",
        "  def forward(self, x):\n",
        "    x = self.conv1(x) # shape = [*, width, grid]\n",
        "    x = x.reshape(x.shape[0], x.shape[1], -1) # shape = [*, width, grid ** 2]\n",
        "    x = x.permute(0, 2, 1)  # shape = [*, grid ** 2, width]\n",
        "\n",
        "    x = x + self.positional_embedding.to('cpu') #?\n",
        "    return x\n"
      ],
      "metadata": {
        "id": "EGZg031dski5"
      },
      "execution_count": 7,
      "outputs": []
    },
    {
      "cell_type": "code",
      "source": [
        "patchpos_embedding = PatchPositionalEmbedding()\n",
        "x = torch.randn(1, 3, 224, 224)\n",
        "\n",
        "out = patchpos_embedding(x)\n",
        "print(out.shape)"
      ],
      "metadata": {
        "id": "h4lkPj-jJ16r",
        "colab": {
          "base_uri": "https://localhost:8080/"
        },
        "outputId": "c1c46274-6792-4841-b6b4-3944b09b5808"
      },
      "execution_count": 8,
      "outputs": [
        {
          "output_type": "stream",
          "name": "stdout",
          "text": [
            "512\n",
            "torch.Size([1, 196, 512])\n"
          ]
        }
      ]
    },
    {
      "cell_type": "markdown",
      "source": [
        "### Build model"
      ],
      "metadata": {
        "id": "6MPUYuahVY09"
      }
    },
    {
      "cell_type": "markdown",
      "source": [
        "`PatchPostionalEmbeddingCLSToken` là một class tổng hợp cả 3 bước: \\\n",
        " - Patch embedding\n",
        " - Positonal embedding\n",
        " - Add CLS token"
      ],
      "metadata": {
        "id": "O_BtRjUKQcV6"
      }
    },
    {
      "cell_type": "code",
      "source": [
        "# Adding [CLS] token\n",
        "class PatchPostionalEmbeddingCLSToken(nn.Module):\n",
        "  def __init__(self, embed_dim=192, patch_size=4, image_size=32):\n",
        "    super().__init__()\n",
        "\n",
        "    self.conv1 = nn.Conv2d(in_channels=3, out_channels=embed_dim, kernel_size=patch_size, stride=patch_size, bias=False)\n",
        "\n",
        "    scale = embed_dim ** -0.5\n",
        "\n",
        "    data_class_embedding = scale * torch.randn(embed_dim)\n",
        "    self.class_embedding = nn.Parameter(data_class_embedding)\n",
        "\n",
        "    #\n",
        "    data_positional_embedding = scale * torch.randn((image_size // patch_size) ** 2 + 1, embed_dim)\n",
        "    self.positional_embedding = nn.Parameter(data_positional_embedding)\n",
        "\n",
        "  def forward(self, x):\n",
        "    x = self.conv1(x) # shape = [*, width, grid, grid]\n",
        "    x = x.reshape(x.shape[0], x.shape[1], -1) # shape = [*, witdh, grid ** 2]\n",
        "    x = x.permute(0, 2, 1) # shape = [*, grid ** 2, width]\n",
        "\n",
        "    # expanding the CLS embedding\n",
        "    cls_embs = self.class_embedding.to(x.dtype) + torch.zeros(x.shape[0], 1, x.shape[-1], dtype=x.dtype, device=x.device)\n",
        "    x = torch.cat([cls_embs, x], dim=1) #shape = [*, grid ** 2 + 1, width]\n",
        "\n",
        "    x = x + self.positional_embedding.to(x.dtype)\n",
        "    return x\n"
      ],
      "metadata": {
        "id": "glLZ_dxeuy9T"
      },
      "execution_count": 22,
      "outputs": []
    },
    {
      "cell_type": "code",
      "source": [
        "# ex\n",
        "patchpos_embedding = PatchPostionalEmbeddingCLSToken()\n",
        "x = torch.randn(1, 3, 32, 32)\n",
        "out = patchpos_embedding(x)\n",
        "print(out.shape)"
      ],
      "metadata": {
        "id": "4KtcrEyWEGmt",
        "colab": {
          "base_uri": "https://localhost:8080/"
        },
        "outputId": "eed2e59d-0578-44e4-8b34-8cb782277213"
      },
      "execution_count": 23,
      "outputs": [
        {
          "output_type": "stream",
          "name": "stdout",
          "text": [
            "torch.Size([1, 65, 192])\n"
          ]
        }
      ]
    },
    {
      "cell_type": "markdown",
      "source": [
        "Mô hình Transformer Encoder cho ảnh"
      ],
      "metadata": {
        "id": "5c89M_CBRJ16"
      }
    },
    {
      "cell_type": "code",
      "source": [
        "# class\n",
        "class ViTTransformerEncoder(nn.Module):\n",
        "  def __init__(self, embed_dim, num_heads, ff_dim, dropout=0.1) -> None:\n",
        "    super().__init__()\n",
        "    self.norm_1 = nn.LayerNorm(normalized_shape=embed_dim, eps=1e-6)\n",
        "    self.attn = nn.MultiheadAttention(\n",
        "        embed_dim=embed_dim,\n",
        "        num_heads=num_heads,\n",
        "        batch_first=True\n",
        "    )\n",
        "    self.norm_2 = nn.LayerNorm(normalized_shape=embed_dim, eps=1e-6)\n",
        "    self.ffn = nn.Sequential(\n",
        "        nn.Linear(in_features=embed_dim, out_features=ff_dim, bias=True),\n",
        "        nn.GELU(),\n",
        "        nn.Linear(in_features=ff_dim, out_features=embed_dim, bias=True)\n",
        "    )\n",
        "    self.dropout_1 = nn.Dropout(p=dropout)\n",
        "    self.dropout_2 = nn.Dropout(p=dropout)\n",
        "\n",
        "  def forward(self, x):\n",
        "    # LayerNorm before Multi-Head Attention\n",
        "    norm_x1 = self.norm_1(x)\n",
        "    attn_output, _ = self.attn(norm_x1, norm_x1, norm_x1)\n",
        "    attn_output = self.dropout_1(attn_output)\n",
        "    x = x + attn_output # Residual connection\n",
        "\n",
        "    # LayerNorm before Feed-Forward Network\n",
        "    norm_x2 = self.norm_2(x)\n",
        "    ffn_output = self.ffn(norm_x2)\n",
        "    ffn_output = self.dropout_2(ffn_output)\n",
        "    x = x + ffn_output # Residual connection\n",
        "\n",
        "    return x"
      ],
      "metadata": {
        "id": "FPta8jigF2Ez"
      },
      "execution_count": 11,
      "outputs": []
    },
    {
      "cell_type": "markdown",
      "source": [
        "Mô hình Vision Transformer"
      ],
      "metadata": {
        "id": "SS0AQOicRd82"
      }
    },
    {
      "cell_type": "code",
      "source": [
        "class VisionTransformerCLS(nn.Module):\n",
        "  def __init__(self,\n",
        "               image_size, embed_dim, num_heads, ff_dim,\n",
        "               dropout=0.1, num_classes=10, patch_size=16) -> None:\n",
        "    super().__init__()\n",
        "    self.embed_layer = PatchPostionalEmbeddingCLSToken(\n",
        "        image_size=image_size, embed_dim=embed_dim, patch_size=patch_size\n",
        "    )\n",
        "    self.transformer_layer = ViTTransformerEncoder(\n",
        "        embed_dim, num_heads, ff_dim, dropout\n",
        "    )\n",
        "    why_20 = 20\n",
        "    self.fc1 = nn.Linear(in_features=embed_dim, out_features=why_20)# why 20?\n",
        "    self.fc2 = nn.Linear(in_features=why_20, out_features=num_classes)\n",
        "    self.dropout = nn.Dropout(p=dropout)\n",
        "    self.relu = nn.ReLU()\n",
        "\n",
        "  def forward(self, x):\n",
        "    x = self.embed_layer(x)\n",
        "    #Corrected to single input\n",
        "    x = self.transformer_layer(x)\n",
        "    x = x[:, 0, :]\n",
        "\n",
        "    # Classification head\n",
        "    x = self.dropout(x)\n",
        "    x = self.fc1(x)\n",
        "    x = self.relu(x) # Optional activation for fc1\n",
        "    x = self.dropout(x)\n",
        "    x = self.fc2(x)\n",
        "    return x\n"
      ],
      "metadata": {
        "id": "dkpgIkn-Ij3U"
      },
      "execution_count": 24,
      "outputs": []
    },
    {
      "cell_type": "code",
      "source": [
        "# ex\n",
        "image_size = 32\n",
        "embed_dim = 192\n",
        "num_heads = 4\n",
        "ff_dim = 4\n",
        "dropout = 0.1\n",
        "\n",
        "vit = VisionTransformerCLS(image_size, embed_dim, num_heads, ff_dim, dropout)"
      ],
      "metadata": {
        "id": "rfS1XWN48Ubq"
      },
      "execution_count": 25,
      "outputs": []
    },
    {
      "cell_type": "code",
      "source": [
        "#ex\n",
        "x = torch.randn(1, 3, 32, 32)\n",
        "out = vit(x) # call model to classify\n",
        "print(out.shape)"
      ],
      "metadata": {
        "id": "AFGkmNjqNWrT",
        "colab": {
          "base_uri": "https://localhost:8080/"
        },
        "outputId": "210384c7-5d04-4663-cb17-4c6e4740526f"
      },
      "execution_count": 26,
      "outputs": [
        {
          "output_type": "stream",
          "name": "stdout",
          "text": [
            "torch.Size([1, 10])\n"
          ]
        }
      ]
    },
    {
      "cell_type": "markdown",
      "source": [
        "## Training"
      ],
      "metadata": {
        "id": "lLL_RR6sNujn"
      }
    },
    {
      "cell_type": "code",
      "source": [
        "import torch.optim as optim\n",
        "\n",
        "# Initialize model value\n",
        "image_size = 32 # change to value 32, cause by cifar10 having image size 32 pixel\n",
        "embed_dim = 192\n",
        "num_heads = 4 #???? change to 12\n",
        "ff_dim = 4\n",
        "dropout = 0.1\n",
        "learning_rate = 1e-5\n",
        "\n",
        "model = VisionTransformerCLS(\n",
        "    image_size, embed_dim, num_heads, ff_dim, dropout, num_classes=10\n",
        ")\n",
        "model.to(device)\n",
        "\n",
        "criterion = torch.nn.CrossEntropyLoss()\n",
        "optimizer = optim.Adam(model.parameters(), lr=learning_rate)"
      ],
      "metadata": {
        "id": "son_SW6iNsUt"
      },
      "execution_count": 34,
      "outputs": []
    },
    {
      "cell_type": "code",
      "source": [
        "import time\n",
        "\n",
        "# train function\n",
        "def train_epoch(model, optimizer, criterion, train_dataloader, device, epoch=0, log_interval=50):\n",
        "  model.train()\n",
        "  total_acc, total_count = 0, 0 # total\n",
        "  losses = []\n",
        "  start_time = time.time()\n",
        "\n",
        "  for idx, (inputs, train_labels) in enumerate(train_dataloader):\n",
        "    inputs, train_labels = inputs.to(device), train_labels.to(device)\n",
        "\n",
        "    # reset gradient\n",
        "    optimizer.zero_grad()\n",
        "\n",
        "    # forward\n",
        "    predictions = model(inputs)\n",
        "\n",
        "    # loss\n",
        "    loss = criterion(predictions, train_labels)\n",
        "    losses.append(loss.item())\n",
        "\n",
        "    # backward\n",
        "    loss.backward()\n",
        "\n",
        "    # update weight\n",
        "    optimizer.step()\n",
        "\n",
        "    # Calculate the number of correct predictions in the current batch\n",
        "    #\n",
        "    total_acc += (predictions.argmax(1) == train_labels).sum().item()\n",
        "    # calculate train size\n",
        "    total_count += train_labels.size(0) # len(train_labels)\n",
        "\n",
        "    # print train for each epoch?...\n",
        "    # log_interval = num_epochs?\n",
        "    # idx =0,.. number of train loader(= train dataset / batch size) - 1\n",
        "    if idx % log_interval == 0 and idx > 0:\n",
        "      elapsed = time.time() - start_time\n",
        "      print(\n",
        "          \"| epoch {:3d} | {:5d}/{:5d} batches \"\n",
        "          \"| accuracy {:8.3f}\".format(\n",
        "              epoch, idx, len(train_dataloader), total_acc / total_count\n",
        "          )\n",
        "      )\n",
        "      # total_acc, total_count = 0, 0 # why reset them?\n",
        "      start_time = time.time()\n",
        "  epoch_acc = total_acc / total_count # average accuracy loss\n",
        "  epoch_loss = sum(losses) / len(losses) # average train loss\n",
        "  return epoch_acc, epoch_loss\n"
      ],
      "metadata": {
        "id": "zwhBd4NTPVah"
      },
      "execution_count": 29,
      "outputs": []
    },
    {
      "cell_type": "code",
      "source": [
        "#validation fucntion\n",
        "def validation_epoch(model, criterion, val_dataloader, device):\n",
        "  model.eval()\n",
        "  total_acc, total_count = 0, 0\n",
        "  losses = []\n",
        "\n",
        "  # does not need call update gradient\n",
        "  with torch.no_grad():\n",
        "    for idx, (inputs, val_labels) in enumerate(val_dataloader):\n",
        "      inputs, val_labels = inputs.to(device), val_labels.to(device)\n",
        "\n",
        "      predictions = model(inputs)\n",
        "\n",
        "      loss = criterion(predictions, val_labels)\n",
        "      losses.append(loss.item())\n",
        "\n",
        "      total_acc += (predictions.argmax(1) == val_labels).sum().item()\n",
        "      total_count += val_labels.size(0)\n",
        "\n",
        "  epoch_acc = total_acc / total_count\n",
        "  epoch_loss = sum(losses) / len(losses)\n",
        "  return epoch_acc, epoch_loss"
      ],
      "metadata": {
        "id": "14Wm2pWdRHI0"
      },
      "execution_count": 18,
      "outputs": []
    },
    {
      "cell_type": "code",
      "source": [
        "def train(model, model_name, save_model_path, optimizer, criterion, dataloader, num_epochs, device):\n",
        "  \"\"\"\n",
        "  Usage: Train, validate model and save model\n",
        "  dataloader = [train_dataloader, val_loader]\n",
        "  \"\"\"\n",
        "  train_lost_list, train_acc_list = [], []\n",
        "  val_lost_list, val_acc_list = [], []\n",
        "  times = []\n",
        "  best_loss_eval = 100\n",
        "  train_loader, val_loader = dataloader[0], dataloader[1]\n",
        "  for epoch in range(num_epochs):\n",
        "    epoch_start_time = time.time()\n",
        "    #train state\n",
        "    train_acc, train_lost = train_epoch(model, optimizer, criterion, train_loader, device, epoch + 1, log_interval=int(len(train_loader) / 4))\n",
        "\n",
        "    #validate state\n",
        "    val_acc, val_lost = validation_epoch(model, criterion, val_loader, device)\n",
        "\n",
        "    # save the best model\n",
        "    if val_lost < best_loss_eval:\n",
        "      torch.save(model.state_dict(), save_model_path + f'/{model_name}.pt')\n",
        "\n",
        "    times.append(time.time() - epoch_start_time)\n",
        "\n",
        "    # append value\n",
        "    train_lost_list.append(train_lost)\n",
        "    train_acc_list.append(train_acc)\n",
        "    val_lost_list.append(val_lost)\n",
        "    val_acc_list.append(val_acc)\n",
        "\n",
        "    # print result for each epoch\n",
        "    print(\"-\" * 59)\n",
        "    print(\n",
        "        \"| End of epoch {:3d} | Time: {:5.2f}s | Train Accuracy {:8.3f}  | Train Loss {:8.3f} \"\n",
        "        \"| Validate Accuracy {:8.3f} | Validate Loss {:8.3f}\".format(\n",
        "            epoch + 1, time.time() - epoch_start_time, train_acc, train_lost, val_acc, val_lost\n",
        "        )\n",
        "    )\n",
        "    print(\"-\" * 59)\n",
        "  # Load best model de lam gi?\n",
        "  model.load_state_dict(torch.load(save_model_path + f'/{model_name}.pt'))\n",
        "  model.eval()\n",
        "  metrics = {\n",
        "      'train_accuracy' : train_acc_list,\n",
        "      'train_loss' : train_lost_list,\n",
        "      'val_accuracy' : val_acc_list,\n",
        "      'val_loss' : val_lost_list,\n",
        "      'time' : times\n",
        "  }\n",
        "  return model, metrics"
      ],
      "metadata": {
        "id": "-ZClHdmWRp1V"
      },
      "execution_count": 19,
      "outputs": []
    },
    {
      "cell_type": "code",
      "source": [
        "import os\n",
        "#input out put cua bai toan la gi, co the cai tien, kho khan cua bai toan la gi,\n",
        "# co the cai tien bai toan nay hay khong?\n",
        "# training and save model\n",
        "num_epochs = 100\n",
        "save_model_path = './model'\n",
        "os.makedirs(save_model_path, exist_ok=True)\n",
        "model_name = 'model_vit_cifar10'\n",
        "\n",
        "dataloader = [train_loader, val_loader]\n",
        "print(device)\n",
        "model, metrics = train(\n",
        "    model, model_name, save_model_path, optimizer, criterion, dataloader, num_epochs, device\n",
        ")"
      ],
      "metadata": {
        "id": "nYs2llzcO5YZ",
        "colab": {
          "base_uri": "https://localhost:8080/"
        },
        "outputId": "15c095d2-171f-406b-bcfd-5ad25158ccba"
      },
      "execution_count": 30,
      "outputs": [
        {
          "output_type": "stream",
          "name": "stdout",
          "text": [
            "cuda\n",
            "| epoch   1 |    88/  352 batches | accuracy    0.132\n",
            "| epoch   1 |   176/  352 batches | accuracy    0.138\n",
            "| epoch   1 |   264/  352 batches | accuracy    0.144\n",
            "-----------------------------------------------------------\n",
            "| End of epoch   1 | Time:  9.36s | Train Accuracy    0.148  | Train Loss    2.268 | Validate Accuracy    0.171 | Validate Loss    2.220\n",
            "-----------------------------------------------------------\n",
            "| epoch   2 |    88/  352 batches | accuracy    0.165\n",
            "| epoch   2 |   176/  352 batches | accuracy    0.172\n",
            "| epoch   2 |   264/  352 batches | accuracy    0.178\n",
            "-----------------------------------------------------------\n",
            "| End of epoch   2 | Time:  9.49s | Train Accuracy    0.183  | Train Loss    2.178 | Validate Accuracy    0.210 | Validate Loss    2.129\n",
            "-----------------------------------------------------------\n",
            "| epoch   3 |    88/  352 batches | accuracy    0.205\n",
            "| epoch   3 |   176/  352 batches | accuracy    0.209\n",
            "| epoch   3 |   264/  352 batches | accuracy    0.216\n",
            "-----------------------------------------------------------\n",
            "| End of epoch   3 | Time:  9.44s | Train Accuracy    0.220  | Train Loss    2.111 | Validate Accuracy    0.254 | Validate Loss    2.071\n",
            "-----------------------------------------------------------\n",
            "| epoch   4 |    88/  352 batches | accuracy    0.225\n",
            "| epoch   4 |   176/  352 batches | accuracy    0.233\n",
            "| epoch   4 |   264/  352 batches | accuracy    0.234\n",
            "-----------------------------------------------------------\n",
            "| End of epoch   4 | Time:  9.59s | Train Accuracy    0.235  | Train Loss    2.071 | Validate Accuracy    0.258 | Validate Loss    2.032\n",
            "-----------------------------------------------------------\n",
            "| epoch   5 |    88/  352 batches | accuracy    0.238\n",
            "| epoch   5 |   176/  352 batches | accuracy    0.242\n",
            "| epoch   5 |   264/  352 batches | accuracy    0.243\n",
            "-----------------------------------------------------------\n",
            "| End of epoch   5 | Time:  9.56s | Train Accuracy    0.245  | Train Loss    2.043 | Validate Accuracy    0.273 | Validate Loss    2.000\n",
            "-----------------------------------------------------------\n",
            "| epoch   6 |    88/  352 batches | accuracy    0.252\n",
            "| epoch   6 |   176/  352 batches | accuracy    0.256\n",
            "| epoch   6 |   264/  352 batches | accuracy    0.255\n",
            "-----------------------------------------------------------\n",
            "| End of epoch   6 | Time:  9.42s | Train Accuracy    0.255  | Train Loss    2.018 | Validate Accuracy    0.284 | Validate Loss    1.977\n",
            "-----------------------------------------------------------\n",
            "| epoch   7 |    88/  352 batches | accuracy    0.263\n",
            "| epoch   7 |   176/  352 batches | accuracy    0.263\n",
            "| epoch   7 |   264/  352 batches | accuracy    0.262\n",
            "-----------------------------------------------------------\n",
            "| End of epoch   7 | Time:  9.25s | Train Accuracy    0.262  | Train Loss    2.000 | Validate Accuracy    0.296 | Validate Loss    1.954\n",
            "-----------------------------------------------------------\n",
            "| epoch   8 |    88/  352 batches | accuracy    0.268\n",
            "| epoch   8 |   176/  352 batches | accuracy    0.269\n",
            "| epoch   8 |   264/  352 batches | accuracy    0.270\n",
            "-----------------------------------------------------------\n",
            "| End of epoch   8 | Time:  9.29s | Train Accuracy    0.270  | Train Loss    1.984 | Validate Accuracy    0.304 | Validate Loss    1.943\n",
            "-----------------------------------------------------------\n",
            "| epoch   9 |    88/  352 batches | accuracy    0.275\n",
            "| epoch   9 |   176/  352 batches | accuracy    0.277\n",
            "| epoch   9 |   264/  352 batches | accuracy    0.278\n",
            "-----------------------------------------------------------\n",
            "| End of epoch   9 | Time:  9.37s | Train Accuracy    0.280  | Train Loss    1.965 | Validate Accuracy    0.299 | Validate Loss    1.920\n",
            "-----------------------------------------------------------\n",
            "| epoch  10 |    88/  352 batches | accuracy    0.279\n",
            "| epoch  10 |   176/  352 batches | accuracy    0.280\n",
            "| epoch  10 |   264/  352 batches | accuracy    0.282\n",
            "-----------------------------------------------------------\n",
            "| End of epoch  10 | Time:  9.37s | Train Accuracy    0.284  | Train Loss    1.953 | Validate Accuracy    0.312 | Validate Loss    1.904\n",
            "-----------------------------------------------------------\n",
            "| epoch  11 |    88/  352 batches | accuracy    0.285\n",
            "| epoch  11 |   176/  352 batches | accuracy    0.285\n",
            "| epoch  11 |   264/  352 batches | accuracy    0.286\n",
            "-----------------------------------------------------------\n",
            "| End of epoch  11 | Time:  9.68s | Train Accuracy    0.288  | Train Loss    1.940 | Validate Accuracy    0.314 | Validate Loss    1.898\n",
            "-----------------------------------------------------------\n",
            "| epoch  12 |    88/  352 batches | accuracy    0.280\n",
            "| epoch  12 |   176/  352 batches | accuracy    0.285\n",
            "| epoch  12 |   264/  352 batches | accuracy    0.289\n",
            "-----------------------------------------------------------\n",
            "| End of epoch  12 | Time:  9.36s | Train Accuracy    0.291  | Train Loss    1.932 | Validate Accuracy    0.324 | Validate Loss    1.878\n",
            "-----------------------------------------------------------\n",
            "| epoch  13 |    88/  352 batches | accuracy    0.297\n",
            "| epoch  13 |   176/  352 batches | accuracy    0.298\n",
            "| epoch  13 |   264/  352 batches | accuracy    0.298\n",
            "-----------------------------------------------------------\n",
            "| End of epoch  13 | Time:  9.40s | Train Accuracy    0.297  | Train Loss    1.922 | Validate Accuracy    0.314 | Validate Loss    1.879\n",
            "-----------------------------------------------------------\n",
            "| epoch  14 |    88/  352 batches | accuracy    0.290\n",
            "| epoch  14 |   176/  352 batches | accuracy    0.299\n",
            "| epoch  14 |   264/  352 batches | accuracy    0.301\n",
            "-----------------------------------------------------------\n",
            "| End of epoch  14 | Time:  9.32s | Train Accuracy    0.300  | Train Loss    1.917 | Validate Accuracy    0.329 | Validate Loss    1.874\n",
            "-----------------------------------------------------------\n",
            "| epoch  15 |    88/  352 batches | accuracy    0.305\n",
            "| epoch  15 |   176/  352 batches | accuracy    0.305\n",
            "| epoch  15 |   264/  352 batches | accuracy    0.305\n",
            "-----------------------------------------------------------\n",
            "| End of epoch  15 | Time:  9.55s | Train Accuracy    0.304  | Train Loss    1.908 | Validate Accuracy    0.325 | Validate Loss    1.861\n",
            "-----------------------------------------------------------\n",
            "| epoch  16 |    88/  352 batches | accuracy    0.308\n",
            "| epoch  16 |   176/  352 batches | accuracy    0.304\n",
            "| epoch  16 |   264/  352 batches | accuracy    0.304\n",
            "-----------------------------------------------------------\n",
            "| End of epoch  16 | Time:  9.35s | Train Accuracy    0.307  | Train Loss    1.898 | Validate Accuracy    0.321 | Validate Loss    1.857\n",
            "-----------------------------------------------------------\n",
            "| epoch  17 |    88/  352 batches | accuracy    0.307\n",
            "| epoch  17 |   176/  352 batches | accuracy    0.308\n",
            "| epoch  17 |   264/  352 batches | accuracy    0.307\n",
            "-----------------------------------------------------------\n",
            "| End of epoch  17 | Time:  9.14s | Train Accuracy    0.308  | Train Loss    1.892 | Validate Accuracy    0.337 | Validate Loss    1.844\n",
            "-----------------------------------------------------------\n",
            "| epoch  18 |    88/  352 batches | accuracy    0.311\n",
            "| epoch  18 |   176/  352 batches | accuracy    0.310\n",
            "| epoch  18 |   264/  352 batches | accuracy    0.312\n",
            "-----------------------------------------------------------\n",
            "| End of epoch  18 | Time:  9.16s | Train Accuracy    0.313  | Train Loss    1.887 | Validate Accuracy    0.334 | Validate Loss    1.835\n",
            "-----------------------------------------------------------\n",
            "| epoch  19 |    88/  352 batches | accuracy    0.309\n",
            "| epoch  19 |   176/  352 batches | accuracy    0.312\n",
            "| epoch  19 |   264/  352 batches | accuracy    0.314\n",
            "-----------------------------------------------------------\n",
            "| End of epoch  19 | Time:  9.34s | Train Accuracy    0.314  | Train Loss    1.878 | Validate Accuracy    0.335 | Validate Loss    1.840\n",
            "-----------------------------------------------------------\n",
            "| epoch  20 |    88/  352 batches | accuracy    0.314\n",
            "| epoch  20 |   176/  352 batches | accuracy    0.314\n",
            "| epoch  20 |   264/  352 batches | accuracy    0.316\n",
            "-----------------------------------------------------------\n",
            "| End of epoch  20 | Time:  9.26s | Train Accuracy    0.318  | Train Loss    1.873 | Validate Accuracy    0.338 | Validate Loss    1.830\n",
            "-----------------------------------------------------------\n",
            "| epoch  21 |    88/  352 batches | accuracy    0.320\n",
            "| epoch  21 |   176/  352 batches | accuracy    0.319\n",
            "| epoch  21 |   264/  352 batches | accuracy    0.317\n",
            "-----------------------------------------------------------\n",
            "| End of epoch  21 | Time:  9.25s | Train Accuracy    0.318  | Train Loss    1.866 | Validate Accuracy    0.337 | Validate Loss    1.817\n",
            "-----------------------------------------------------------\n",
            "| epoch  22 |    88/  352 batches | accuracy    0.317\n",
            "| epoch  22 |   176/  352 batches | accuracy    0.317\n",
            "| epoch  22 |   264/  352 batches | accuracy    0.319\n",
            "-----------------------------------------------------------\n",
            "| End of epoch  22 | Time:  9.13s | Train Accuracy    0.319  | Train Loss    1.864 | Validate Accuracy    0.342 | Validate Loss    1.811\n",
            "-----------------------------------------------------------\n",
            "| epoch  23 |    88/  352 batches | accuracy    0.325\n",
            "| epoch  23 |   176/  352 batches | accuracy    0.325\n",
            "| epoch  23 |   264/  352 batches | accuracy    0.324\n",
            "-----------------------------------------------------------\n",
            "| End of epoch  23 | Time:  9.29s | Train Accuracy    0.323  | Train Loss    1.857 | Validate Accuracy    0.345 | Validate Loss    1.807\n",
            "-----------------------------------------------------------\n",
            "| epoch  24 |    88/  352 batches | accuracy    0.322\n",
            "| epoch  24 |   176/  352 batches | accuracy    0.324\n",
            "| epoch  24 |   264/  352 batches | accuracy    0.320\n",
            "-----------------------------------------------------------\n",
            "| End of epoch  24 | Time:  9.21s | Train Accuracy    0.320  | Train Loss    1.853 | Validate Accuracy    0.353 | Validate Loss    1.799\n",
            "-----------------------------------------------------------\n",
            "| epoch  25 |    88/  352 batches | accuracy    0.327\n",
            "| epoch  25 |   176/  352 batches | accuracy    0.328\n",
            "| epoch  25 |   264/  352 batches | accuracy    0.327\n",
            "-----------------------------------------------------------\n",
            "| End of epoch  25 | Time:  9.52s | Train Accuracy    0.327  | Train Loss    1.847 | Validate Accuracy    0.351 | Validate Loss    1.804\n",
            "-----------------------------------------------------------\n",
            "| epoch  26 |    88/  352 batches | accuracy    0.326\n",
            "| epoch  26 |   176/  352 batches | accuracy    0.326\n",
            "| epoch  26 |   264/  352 batches | accuracy    0.325\n",
            "-----------------------------------------------------------\n",
            "| End of epoch  26 | Time:  9.49s | Train Accuracy    0.324  | Train Loss    1.846 | Validate Accuracy    0.360 | Validate Loss    1.786\n",
            "-----------------------------------------------------------\n",
            "| epoch  27 |    88/  352 batches | accuracy    0.330\n",
            "| epoch  27 |   176/  352 batches | accuracy    0.333\n",
            "| epoch  27 |   264/  352 batches | accuracy    0.331\n",
            "-----------------------------------------------------------\n",
            "| End of epoch  27 | Time:  9.26s | Train Accuracy    0.331  | Train Loss    1.836 | Validate Accuracy    0.357 | Validate Loss    1.785\n",
            "-----------------------------------------------------------\n",
            "| epoch  28 |    88/  352 batches | accuracy    0.336\n",
            "| epoch  28 |   176/  352 batches | accuracy    0.334\n",
            "| epoch  28 |   264/  352 batches | accuracy    0.336\n",
            "-----------------------------------------------------------\n",
            "| End of epoch  28 | Time:  9.43s | Train Accuracy    0.336  | Train Loss    1.832 | Validate Accuracy    0.349 | Validate Loss    1.778\n",
            "-----------------------------------------------------------\n",
            "| epoch  29 |    88/  352 batches | accuracy    0.332\n",
            "| epoch  29 |   176/  352 batches | accuracy    0.333\n",
            "| epoch  29 |   264/  352 batches | accuracy    0.332\n",
            "-----------------------------------------------------------\n",
            "| End of epoch  29 | Time:  9.67s | Train Accuracy    0.331  | Train Loss    1.825 | Validate Accuracy    0.360 | Validate Loss    1.773\n",
            "-----------------------------------------------------------\n",
            "| epoch  30 |    88/  352 batches | accuracy    0.329\n",
            "| epoch  30 |   176/  352 batches | accuracy    0.327\n",
            "| epoch  30 |   264/  352 batches | accuracy    0.328\n",
            "-----------------------------------------------------------\n",
            "| End of epoch  30 | Time:  9.28s | Train Accuracy    0.331  | Train Loss    1.828 | Validate Accuracy    0.360 | Validate Loss    1.763\n",
            "-----------------------------------------------------------\n",
            "| epoch  31 |    88/  352 batches | accuracy    0.334\n",
            "| epoch  31 |   176/  352 batches | accuracy    0.337\n",
            "| epoch  31 |   264/  352 batches | accuracy    0.335\n",
            "-----------------------------------------------------------\n",
            "| End of epoch  31 | Time:  9.77s | Train Accuracy    0.335  | Train Loss    1.823 | Validate Accuracy    0.368 | Validate Loss    1.764\n",
            "-----------------------------------------------------------\n",
            "| epoch  32 |    88/  352 batches | accuracy    0.332\n",
            "| epoch  32 |   176/  352 batches | accuracy    0.334\n",
            "| epoch  32 |   264/  352 batches | accuracy    0.335\n",
            "-----------------------------------------------------------\n",
            "| End of epoch  32 | Time:  9.53s | Train Accuracy    0.336  | Train Loss    1.819 | Validate Accuracy    0.368 | Validate Loss    1.762\n",
            "-----------------------------------------------------------\n",
            "| epoch  33 |    88/  352 batches | accuracy    0.345\n",
            "| epoch  33 |   176/  352 batches | accuracy    0.337\n",
            "| epoch  33 |   264/  352 batches | accuracy    0.334\n",
            "-----------------------------------------------------------\n",
            "| End of epoch  33 | Time:  9.48s | Train Accuracy    0.335  | Train Loss    1.816 | Validate Accuracy    0.370 | Validate Loss    1.752\n",
            "-----------------------------------------------------------\n",
            "| epoch  34 |    88/  352 batches | accuracy    0.340\n",
            "| epoch  34 |   176/  352 batches | accuracy    0.339\n",
            "| epoch  34 |   264/  352 batches | accuracy    0.340\n",
            "-----------------------------------------------------------\n",
            "| End of epoch  34 | Time:  9.44s | Train Accuracy    0.341  | Train Loss    1.811 | Validate Accuracy    0.360 | Validate Loss    1.759\n",
            "-----------------------------------------------------------\n",
            "| epoch  35 |    88/  352 batches | accuracy    0.341\n",
            "| epoch  35 |   176/  352 batches | accuracy    0.344\n",
            "| epoch  35 |   264/  352 batches | accuracy    0.345\n",
            "-----------------------------------------------------------\n",
            "| End of epoch  35 | Time:  9.69s | Train Accuracy    0.342  | Train Loss    1.807 | Validate Accuracy    0.367 | Validate Loss    1.750\n",
            "-----------------------------------------------------------\n",
            "| epoch  36 |    88/  352 batches | accuracy    0.341\n",
            "| epoch  36 |   176/  352 batches | accuracy    0.338\n",
            "| epoch  36 |   264/  352 batches | accuracy    0.341\n",
            "-----------------------------------------------------------\n",
            "| End of epoch  36 | Time:  9.64s | Train Accuracy    0.339  | Train Loss    1.802 | Validate Accuracy    0.361 | Validate Loss    1.756\n",
            "-----------------------------------------------------------\n",
            "| epoch  37 |    88/  352 batches | accuracy    0.337\n",
            "| epoch  37 |   176/  352 batches | accuracy    0.342\n",
            "| epoch  37 |   264/  352 batches | accuracy    0.341\n",
            "-----------------------------------------------------------\n",
            "| End of epoch  37 | Time:  9.68s | Train Accuracy    0.343  | Train Loss    1.798 | Validate Accuracy    0.370 | Validate Loss    1.737\n",
            "-----------------------------------------------------------\n",
            "| epoch  38 |    88/  352 batches | accuracy    0.340\n",
            "| epoch  38 |   176/  352 batches | accuracy    0.343\n",
            "| epoch  38 |   264/  352 batches | accuracy    0.342\n",
            "-----------------------------------------------------------\n",
            "| End of epoch  38 | Time:  9.57s | Train Accuracy    0.343  | Train Loss    1.794 | Validate Accuracy    0.369 | Validate Loss    1.732\n",
            "-----------------------------------------------------------\n",
            "| epoch  39 |    88/  352 batches | accuracy    0.344\n",
            "| epoch  39 |   176/  352 batches | accuracy    0.348\n",
            "| epoch  39 |   264/  352 batches | accuracy    0.348\n",
            "-----------------------------------------------------------\n",
            "| End of epoch  39 | Time:  9.60s | Train Accuracy    0.347  | Train Loss    1.793 | Validate Accuracy    0.372 | Validate Loss    1.736\n",
            "-----------------------------------------------------------\n",
            "| epoch  40 |    88/  352 batches | accuracy    0.351\n",
            "| epoch  40 |   176/  352 batches | accuracy    0.351\n",
            "| epoch  40 |   264/  352 batches | accuracy    0.349\n",
            "-----------------------------------------------------------\n",
            "| End of epoch  40 | Time:  9.65s | Train Accuracy    0.347  | Train Loss    1.788 | Validate Accuracy    0.372 | Validate Loss    1.735\n",
            "-----------------------------------------------------------\n",
            "| epoch  41 |    88/  352 batches | accuracy    0.346\n",
            "| epoch  41 |   176/  352 batches | accuracy    0.344\n",
            "| epoch  41 |   264/  352 batches | accuracy    0.346\n",
            "-----------------------------------------------------------\n",
            "| End of epoch  41 | Time:  9.34s | Train Accuracy    0.346  | Train Loss    1.787 | Validate Accuracy    0.369 | Validate Loss    1.738\n",
            "-----------------------------------------------------------\n",
            "| epoch  42 |    88/  352 batches | accuracy    0.354\n",
            "| epoch  42 |   176/  352 batches | accuracy    0.351\n",
            "| epoch  42 |   264/  352 batches | accuracy    0.350\n",
            "-----------------------------------------------------------\n",
            "| End of epoch  42 | Time:  9.52s | Train Accuracy    0.349  | Train Loss    1.785 | Validate Accuracy    0.383 | Validate Loss    1.736\n",
            "-----------------------------------------------------------\n",
            "| epoch  43 |    88/  352 batches | accuracy    0.349\n",
            "| epoch  43 |   176/  352 batches | accuracy    0.349\n",
            "| epoch  43 |   264/  352 batches | accuracy    0.346\n",
            "-----------------------------------------------------------\n",
            "| End of epoch  43 | Time:  9.34s | Train Accuracy    0.347  | Train Loss    1.787 | Validate Accuracy    0.370 | Validate Loss    1.729\n",
            "-----------------------------------------------------------\n",
            "| epoch  44 |    88/  352 batches | accuracy    0.351\n",
            "| epoch  44 |   176/  352 batches | accuracy    0.352\n",
            "| epoch  44 |   264/  352 batches | accuracy    0.352\n",
            "-----------------------------------------------------------\n",
            "| End of epoch  44 | Time:  9.74s | Train Accuracy    0.352  | Train Loss    1.780 | Validate Accuracy    0.380 | Validate Loss    1.729\n",
            "-----------------------------------------------------------\n",
            "| epoch  45 |    88/  352 batches | accuracy    0.347\n",
            "| epoch  45 |   176/  352 batches | accuracy    0.350\n",
            "| epoch  45 |   264/  352 batches | accuracy    0.353\n",
            "-----------------------------------------------------------\n",
            "| End of epoch  45 | Time:  9.41s | Train Accuracy    0.353  | Train Loss    1.774 | Validate Accuracy    0.372 | Validate Loss    1.723\n",
            "-----------------------------------------------------------\n",
            "| epoch  46 |    88/  352 batches | accuracy    0.351\n",
            "| epoch  46 |   176/  352 batches | accuracy    0.349\n",
            "| epoch  46 |   264/  352 batches | accuracy    0.352\n",
            "-----------------------------------------------------------\n",
            "| End of epoch  46 | Time:  9.43s | Train Accuracy    0.353  | Train Loss    1.777 | Validate Accuracy    0.381 | Validate Loss    1.709\n",
            "-----------------------------------------------------------\n",
            "| epoch  47 |    88/  352 batches | accuracy    0.347\n",
            "| epoch  47 |   176/  352 batches | accuracy    0.351\n",
            "| epoch  47 |   264/  352 batches | accuracy    0.352\n",
            "-----------------------------------------------------------\n",
            "| End of epoch  47 | Time:  9.34s | Train Accuracy    0.353  | Train Loss    1.772 | Validate Accuracy    0.381 | Validate Loss    1.709\n",
            "-----------------------------------------------------------\n",
            "| epoch  48 |    88/  352 batches | accuracy    0.358\n",
            "| epoch  48 |   176/  352 batches | accuracy    0.356\n",
            "| epoch  48 |   264/  352 batches | accuracy    0.355\n",
            "-----------------------------------------------------------\n",
            "| End of epoch  48 | Time:  9.41s | Train Accuracy    0.354  | Train Loss    1.772 | Validate Accuracy    0.387 | Validate Loss    1.715\n",
            "-----------------------------------------------------------\n",
            "| epoch  49 |    88/  352 batches | accuracy    0.367\n",
            "| epoch  49 |   176/  352 batches | accuracy    0.356\n",
            "| epoch  49 |   264/  352 batches | accuracy    0.354\n",
            "-----------------------------------------------------------\n",
            "| End of epoch  49 | Time:  9.46s | Train Accuracy    0.354  | Train Loss    1.769 | Validate Accuracy    0.372 | Validate Loss    1.732\n",
            "-----------------------------------------------------------\n",
            "| epoch  50 |    88/  352 batches | accuracy    0.349\n",
            "| epoch  50 |   176/  352 batches | accuracy    0.352\n",
            "| epoch  50 |   264/  352 batches | accuracy    0.353\n",
            "-----------------------------------------------------------\n",
            "| End of epoch  50 | Time:  9.58s | Train Accuracy    0.354  | Train Loss    1.769 | Validate Accuracy    0.382 | Validate Loss    1.709\n",
            "-----------------------------------------------------------\n",
            "| epoch  51 |    88/  352 batches | accuracy    0.358\n",
            "| epoch  51 |   176/  352 batches | accuracy    0.358\n",
            "| epoch  51 |   264/  352 batches | accuracy    0.359\n",
            "-----------------------------------------------------------\n",
            "| End of epoch  51 | Time:  9.30s | Train Accuracy    0.358  | Train Loss    1.765 | Validate Accuracy    0.379 | Validate Loss    1.717\n",
            "-----------------------------------------------------------\n",
            "| epoch  52 |    88/  352 batches | accuracy    0.356\n",
            "| epoch  52 |   176/  352 batches | accuracy    0.358\n",
            "| epoch  52 |   264/  352 batches | accuracy    0.356\n",
            "-----------------------------------------------------------\n",
            "| End of epoch  52 | Time:  9.34s | Train Accuracy    0.355  | Train Loss    1.766 | Validate Accuracy    0.388 | Validate Loss    1.709\n",
            "-----------------------------------------------------------\n",
            "| epoch  53 |    88/  352 batches | accuracy    0.356\n",
            "| epoch  53 |   176/  352 batches | accuracy    0.356\n",
            "| epoch  53 |   264/  352 batches | accuracy    0.356\n",
            "-----------------------------------------------------------\n",
            "| End of epoch  53 | Time:  9.66s | Train Accuracy    0.357  | Train Loss    1.763 | Validate Accuracy    0.382 | Validate Loss    1.707\n",
            "-----------------------------------------------------------\n",
            "| epoch  54 |    88/  352 batches | accuracy    0.359\n",
            "| epoch  54 |   176/  352 batches | accuracy    0.354\n",
            "| epoch  54 |   264/  352 batches | accuracy    0.354\n",
            "-----------------------------------------------------------\n",
            "| End of epoch  54 | Time:  9.20s | Train Accuracy    0.356  | Train Loss    1.761 | Validate Accuracy    0.382 | Validate Loss    1.705\n",
            "-----------------------------------------------------------\n",
            "| epoch  55 |    88/  352 batches | accuracy    0.364\n",
            "| epoch  55 |   176/  352 batches | accuracy    0.364\n",
            "| epoch  55 |   264/  352 batches | accuracy    0.361\n",
            "-----------------------------------------------------------\n",
            "| End of epoch  55 | Time:  9.24s | Train Accuracy    0.360  | Train Loss    1.760 | Validate Accuracy    0.370 | Validate Loss    1.717\n",
            "-----------------------------------------------------------\n",
            "| epoch  56 |    88/  352 batches | accuracy    0.358\n",
            "| epoch  56 |   176/  352 batches | accuracy    0.358\n",
            "| epoch  56 |   264/  352 batches | accuracy    0.358\n",
            "-----------------------------------------------------------\n",
            "| End of epoch  56 | Time:  9.45s | Train Accuracy    0.359  | Train Loss    1.756 | Validate Accuracy    0.382 | Validate Loss    1.717\n",
            "-----------------------------------------------------------\n",
            "| epoch  57 |    88/  352 batches | accuracy    0.365\n",
            "| epoch  57 |   176/  352 batches | accuracy    0.364\n",
            "| epoch  57 |   264/  352 batches | accuracy    0.364\n",
            "-----------------------------------------------------------\n",
            "| End of epoch  57 | Time:  9.47s | Train Accuracy    0.362  | Train Loss    1.752 | Validate Accuracy    0.387 | Validate Loss    1.685\n",
            "-----------------------------------------------------------\n",
            "| epoch  58 |    88/  352 batches | accuracy    0.360\n",
            "| epoch  58 |   176/  352 batches | accuracy    0.357\n",
            "| epoch  58 |   264/  352 batches | accuracy    0.356\n",
            "-----------------------------------------------------------\n",
            "| End of epoch  58 | Time:  9.67s | Train Accuracy    0.358  | Train Loss    1.753 | Validate Accuracy    0.378 | Validate Loss    1.701\n",
            "-----------------------------------------------------------\n",
            "| epoch  59 |    88/  352 batches | accuracy    0.359\n",
            "| epoch  59 |   176/  352 batches | accuracy    0.361\n",
            "| epoch  59 |   264/  352 batches | accuracy    0.360\n",
            "-----------------------------------------------------------\n",
            "| End of epoch  59 | Time:  9.33s | Train Accuracy    0.361  | Train Loss    1.749 | Validate Accuracy    0.381 | Validate Loss    1.691\n",
            "-----------------------------------------------------------\n",
            "| epoch  60 |    88/  352 batches | accuracy    0.358\n",
            "| epoch  60 |   176/  352 batches | accuracy    0.362\n",
            "| epoch  60 |   264/  352 batches | accuracy    0.362\n",
            "-----------------------------------------------------------\n",
            "| End of epoch  60 | Time:  9.37s | Train Accuracy    0.364  | Train Loss    1.743 | Validate Accuracy    0.388 | Validate Loss    1.682\n",
            "-----------------------------------------------------------\n",
            "| epoch  61 |    88/  352 batches | accuracy    0.354\n",
            "| epoch  61 |   176/  352 batches | accuracy    0.361\n",
            "| epoch  61 |   264/  352 batches | accuracy    0.361\n",
            "-----------------------------------------------------------\n",
            "| End of epoch  61 | Time:  9.18s | Train Accuracy    0.361  | Train Loss    1.749 | Validate Accuracy    0.386 | Validate Loss    1.701\n",
            "-----------------------------------------------------------\n",
            "| epoch  62 |    88/  352 batches | accuracy    0.361\n",
            "| epoch  62 |   176/  352 batches | accuracy    0.361\n",
            "| epoch  62 |   264/  352 batches | accuracy    0.360\n",
            "-----------------------------------------------------------\n",
            "| End of epoch  62 | Time:  9.33s | Train Accuracy    0.362  | Train Loss    1.745 | Validate Accuracy    0.389 | Validate Loss    1.687\n",
            "-----------------------------------------------------------\n",
            "| epoch  63 |    88/  352 batches | accuracy    0.363\n",
            "| epoch  63 |   176/  352 batches | accuracy    0.363\n",
            "| epoch  63 |   264/  352 batches | accuracy    0.366\n",
            "-----------------------------------------------------------\n",
            "| End of epoch  63 | Time:  9.29s | Train Accuracy    0.366  | Train Loss    1.741 | Validate Accuracy    0.389 | Validate Loss    1.692\n",
            "-----------------------------------------------------------\n",
            "| epoch  64 |    88/  352 batches | accuracy    0.364\n",
            "| epoch  64 |   176/  352 batches | accuracy    0.365\n",
            "| epoch  64 |   264/  352 batches | accuracy    0.363\n",
            "-----------------------------------------------------------\n",
            "| End of epoch  64 | Time:  9.60s | Train Accuracy    0.363  | Train Loss    1.744 | Validate Accuracy    0.378 | Validate Loss    1.690\n",
            "-----------------------------------------------------------\n",
            "| epoch  65 |    88/  352 batches | accuracy    0.358\n",
            "| epoch  65 |   176/  352 batches | accuracy    0.364\n",
            "| epoch  65 |   264/  352 batches | accuracy    0.363\n",
            "-----------------------------------------------------------\n",
            "| End of epoch  65 | Time:  9.69s | Train Accuracy    0.364  | Train Loss    1.739 | Validate Accuracy    0.395 | Validate Loss    1.676\n",
            "-----------------------------------------------------------\n",
            "| epoch  66 |    88/  352 batches | accuracy    0.371\n",
            "| epoch  66 |   176/  352 batches | accuracy    0.365\n",
            "| epoch  66 |   264/  352 batches | accuracy    0.365\n",
            "-----------------------------------------------------------\n",
            "| End of epoch  66 | Time:  9.25s | Train Accuracy    0.366  | Train Loss    1.739 | Validate Accuracy    0.373 | Validate Loss    1.690\n",
            "-----------------------------------------------------------\n",
            "| epoch  67 |    88/  352 batches | accuracy    0.366\n",
            "| epoch  67 |   176/  352 batches | accuracy    0.367\n",
            "| epoch  67 |   264/  352 batches | accuracy    0.365\n",
            "-----------------------------------------------------------\n",
            "| End of epoch  67 | Time:  9.43s | Train Accuracy    0.365  | Train Loss    1.739 | Validate Accuracy    0.387 | Validate Loss    1.693\n",
            "-----------------------------------------------------------\n",
            "| epoch  68 |    88/  352 batches | accuracy    0.360\n",
            "| epoch  68 |   176/  352 batches | accuracy    0.366\n",
            "| epoch  68 |   264/  352 batches | accuracy    0.365\n",
            "-----------------------------------------------------------\n",
            "| End of epoch  68 | Time:  9.28s | Train Accuracy    0.367  | Train Loss    1.732 | Validate Accuracy    0.389 | Validate Loss    1.682\n",
            "-----------------------------------------------------------\n",
            "| epoch  69 |    88/  352 batches | accuracy    0.373\n",
            "| epoch  69 |   176/  352 batches | accuracy    0.372\n",
            "| epoch  69 |   264/  352 batches | accuracy    0.372\n",
            "-----------------------------------------------------------\n",
            "| End of epoch  69 | Time:  9.81s | Train Accuracy    0.371  | Train Loss    1.729 | Validate Accuracy    0.396 | Validate Loss    1.682\n",
            "-----------------------------------------------------------\n",
            "| epoch  70 |    88/  352 batches | accuracy    0.371\n",
            "| epoch  70 |   176/  352 batches | accuracy    0.369\n",
            "| epoch  70 |   264/  352 batches | accuracy    0.367\n",
            "-----------------------------------------------------------\n",
            "| End of epoch  70 | Time:  9.58s | Train Accuracy    0.369  | Train Loss    1.734 | Validate Accuracy    0.396 | Validate Loss    1.671\n",
            "-----------------------------------------------------------\n",
            "| epoch  71 |    88/  352 batches | accuracy    0.369\n",
            "| epoch  71 |   176/  352 batches | accuracy    0.363\n",
            "| epoch  71 |   264/  352 batches | accuracy    0.368\n",
            "-----------------------------------------------------------\n",
            "| End of epoch  71 | Time:  9.25s | Train Accuracy    0.369  | Train Loss    1.725 | Validate Accuracy    0.391 | Validate Loss    1.679\n",
            "-----------------------------------------------------------\n",
            "| epoch  72 |    88/  352 batches | accuracy    0.364\n",
            "| epoch  72 |   176/  352 batches | accuracy    0.364\n",
            "| epoch  72 |   264/  352 batches | accuracy    0.367\n",
            "-----------------------------------------------------------\n",
            "| End of epoch  72 | Time:  9.48s | Train Accuracy    0.368  | Train Loss    1.729 | Validate Accuracy    0.394 | Validate Loss    1.676\n",
            "-----------------------------------------------------------\n",
            "| epoch  73 |    88/  352 batches | accuracy    0.362\n",
            "| epoch  73 |   176/  352 batches | accuracy    0.366\n",
            "| epoch  73 |   264/  352 batches | accuracy    0.367\n",
            "-----------------------------------------------------------\n",
            "| End of epoch  73 | Time:  9.77s | Train Accuracy    0.367  | Train Loss    1.734 | Validate Accuracy    0.397 | Validate Loss    1.674\n",
            "-----------------------------------------------------------\n",
            "| epoch  74 |    88/  352 batches | accuracy    0.366\n",
            "| epoch  74 |   176/  352 batches | accuracy    0.368\n",
            "| epoch  74 |   264/  352 batches | accuracy    0.370\n",
            "-----------------------------------------------------------\n",
            "| End of epoch  74 | Time:  9.37s | Train Accuracy    0.370  | Train Loss    1.725 | Validate Accuracy    0.391 | Validate Loss    1.672\n",
            "-----------------------------------------------------------\n",
            "| epoch  75 |    88/  352 batches | accuracy    0.371\n",
            "| epoch  75 |   176/  352 batches | accuracy    0.370\n",
            "| epoch  75 |   264/  352 batches | accuracy    0.374\n",
            "-----------------------------------------------------------\n",
            "| End of epoch  75 | Time:  9.43s | Train Accuracy    0.373  | Train Loss    1.722 | Validate Accuracy    0.399 | Validate Loss    1.667\n",
            "-----------------------------------------------------------\n",
            "| epoch  76 |    88/  352 batches | accuracy    0.375\n",
            "| epoch  76 |   176/  352 batches | accuracy    0.373\n",
            "| epoch  76 |   264/  352 batches | accuracy    0.374\n",
            "-----------------------------------------------------------\n",
            "| End of epoch  76 | Time:  9.43s | Train Accuracy    0.372  | Train Loss    1.725 | Validate Accuracy    0.399 | Validate Loss    1.685\n",
            "-----------------------------------------------------------\n",
            "| epoch  77 |    88/  352 batches | accuracy    0.367\n",
            "| epoch  77 |   176/  352 batches | accuracy    0.367\n",
            "| epoch  77 |   264/  352 batches | accuracy    0.370\n",
            "-----------------------------------------------------------\n",
            "| End of epoch  77 | Time:  9.56s | Train Accuracy    0.369  | Train Loss    1.725 | Validate Accuracy    0.394 | Validate Loss    1.674\n",
            "-----------------------------------------------------------\n",
            "| epoch  78 |    88/  352 batches | accuracy    0.375\n",
            "| epoch  78 |   176/  352 batches | accuracy    0.370\n",
            "| epoch  78 |   264/  352 batches | accuracy    0.374\n",
            "-----------------------------------------------------------\n",
            "| End of epoch  78 | Time:  9.10s | Train Accuracy    0.375  | Train Loss    1.717 | Validate Accuracy    0.400 | Validate Loss    1.669\n",
            "-----------------------------------------------------------\n",
            "| epoch  79 |    88/  352 batches | accuracy    0.376\n",
            "| epoch  79 |   176/  352 batches | accuracy    0.375\n",
            "| epoch  79 |   264/  352 batches | accuracy    0.375\n",
            "-----------------------------------------------------------\n",
            "| End of epoch  79 | Time:  9.38s | Train Accuracy    0.375  | Train Loss    1.719 | Validate Accuracy    0.399 | Validate Loss    1.659\n",
            "-----------------------------------------------------------\n",
            "| epoch  80 |    88/  352 batches | accuracy    0.383\n",
            "| epoch  80 |   176/  352 batches | accuracy    0.372\n",
            "| epoch  80 |   264/  352 batches | accuracy    0.373\n",
            "-----------------------------------------------------------\n",
            "| End of epoch  80 | Time:  9.44s | Train Accuracy    0.375  | Train Loss    1.717 | Validate Accuracy    0.393 | Validate Loss    1.662\n",
            "-----------------------------------------------------------\n",
            "| epoch  81 |    88/  352 batches | accuracy    0.376\n",
            "| epoch  81 |   176/  352 batches | accuracy    0.373\n",
            "| epoch  81 |   264/  352 batches | accuracy    0.377\n",
            "-----------------------------------------------------------\n",
            "| End of epoch  81 | Time:  9.29s | Train Accuracy    0.377  | Train Loss    1.714 | Validate Accuracy    0.388 | Validate Loss    1.675\n",
            "-----------------------------------------------------------\n",
            "| epoch  82 |    88/  352 batches | accuracy    0.373\n",
            "| epoch  82 |   176/  352 batches | accuracy    0.374\n",
            "| epoch  82 |   264/  352 batches | accuracy    0.376\n",
            "-----------------------------------------------------------\n",
            "| End of epoch  82 | Time:  9.32s | Train Accuracy    0.375  | Train Loss    1.718 | Validate Accuracy    0.400 | Validate Loss    1.657\n",
            "-----------------------------------------------------------\n",
            "| epoch  83 |    88/  352 batches | accuracy    0.376\n",
            "| epoch  83 |   176/  352 batches | accuracy    0.372\n",
            "| epoch  83 |   264/  352 batches | accuracy    0.374\n",
            "-----------------------------------------------------------\n",
            "| End of epoch  83 | Time:  9.19s | Train Accuracy    0.375  | Train Loss    1.715 | Validate Accuracy    0.402 | Validate Loss    1.665\n",
            "-----------------------------------------------------------\n",
            "| epoch  84 |    88/  352 batches | accuracy    0.377\n",
            "| epoch  84 |   176/  352 batches | accuracy    0.380\n",
            "| epoch  84 |   264/  352 batches | accuracy    0.380\n",
            "-----------------------------------------------------------\n",
            "| End of epoch  84 | Time:  9.42s | Train Accuracy    0.380  | Train Loss    1.709 | Validate Accuracy    0.395 | Validate Loss    1.666\n",
            "-----------------------------------------------------------\n",
            "| epoch  85 |    88/  352 batches | accuracy    0.378\n",
            "| epoch  85 |   176/  352 batches | accuracy    0.379\n",
            "| epoch  85 |   264/  352 batches | accuracy    0.379\n",
            "-----------------------------------------------------------\n",
            "| End of epoch  85 | Time:  9.25s | Train Accuracy    0.378  | Train Loss    1.710 | Validate Accuracy    0.393 | Validate Loss    1.667\n",
            "-----------------------------------------------------------\n",
            "| epoch  86 |    88/  352 batches | accuracy    0.380\n",
            "| epoch  86 |   176/  352 batches | accuracy    0.380\n",
            "| epoch  86 |   264/  352 batches | accuracy    0.379\n",
            "-----------------------------------------------------------\n",
            "| End of epoch  86 | Time:  9.49s | Train Accuracy    0.377  | Train Loss    1.711 | Validate Accuracy    0.395 | Validate Loss    1.661\n",
            "-----------------------------------------------------------\n",
            "| epoch  87 |    88/  352 batches | accuracy    0.363\n",
            "| epoch  87 |   176/  352 batches | accuracy    0.369\n",
            "| epoch  87 |   264/  352 batches | accuracy    0.375\n",
            "-----------------------------------------------------------\n",
            "| End of epoch  87 | Time:  9.34s | Train Accuracy    0.375  | Train Loss    1.706 | Validate Accuracy    0.395 | Validate Loss    1.664\n",
            "-----------------------------------------------------------\n",
            "| epoch  88 |    88/  352 batches | accuracy    0.376\n",
            "| epoch  88 |   176/  352 batches | accuracy    0.377\n",
            "| epoch  88 |   264/  352 batches | accuracy    0.376\n",
            "-----------------------------------------------------------\n",
            "| End of epoch  88 | Time:  9.54s | Train Accuracy    0.378  | Train Loss    1.708 | Validate Accuracy    0.394 | Validate Loss    1.663\n",
            "-----------------------------------------------------------\n",
            "| epoch  89 |    88/  352 batches | accuracy    0.376\n",
            "| epoch  89 |   176/  352 batches | accuracy    0.379\n",
            "| epoch  89 |   264/  352 batches | accuracy    0.382\n",
            "-----------------------------------------------------------\n",
            "| End of epoch  89 | Time:  9.37s | Train Accuracy    0.380  | Train Loss    1.707 | Validate Accuracy    0.399 | Validate Loss    1.660\n",
            "-----------------------------------------------------------\n",
            "| epoch  90 |    88/  352 batches | accuracy    0.385\n",
            "| epoch  90 |   176/  352 batches | accuracy    0.385\n",
            "| epoch  90 |   264/  352 batches | accuracy    0.382\n",
            "-----------------------------------------------------------\n",
            "| End of epoch  90 | Time:  9.41s | Train Accuracy    0.379  | Train Loss    1.703 | Validate Accuracy    0.407 | Validate Loss    1.648\n",
            "-----------------------------------------------------------\n",
            "| epoch  91 |    88/  352 batches | accuracy    0.373\n",
            "| epoch  91 |   176/  352 batches | accuracy    0.380\n",
            "| epoch  91 |   264/  352 batches | accuracy    0.379\n",
            "-----------------------------------------------------------\n",
            "| End of epoch  91 | Time:  9.51s | Train Accuracy    0.381  | Train Loss    1.697 | Validate Accuracy    0.395 | Validate Loss    1.663\n",
            "-----------------------------------------------------------\n",
            "| epoch  92 |    88/  352 batches | accuracy    0.373\n",
            "| epoch  92 |   176/  352 batches | accuracy    0.375\n",
            "| epoch  92 |   264/  352 batches | accuracy    0.377\n",
            "-----------------------------------------------------------\n",
            "| End of epoch  92 | Time:  9.39s | Train Accuracy    0.377  | Train Loss    1.696 | Validate Accuracy    0.403 | Validate Loss    1.652\n",
            "-----------------------------------------------------------\n",
            "| epoch  93 |    88/  352 batches | accuracy    0.374\n",
            "| epoch  93 |   176/  352 batches | accuracy    0.374\n",
            "| epoch  93 |   264/  352 batches | accuracy    0.375\n",
            "-----------------------------------------------------------\n",
            "| End of epoch  93 | Time:  9.35s | Train Accuracy    0.377  | Train Loss    1.706 | Validate Accuracy    0.399 | Validate Loss    1.646\n",
            "-----------------------------------------------------------\n",
            "| epoch  94 |    88/  352 batches | accuracy    0.378\n",
            "| epoch  94 |   176/  352 batches | accuracy    0.381\n",
            "| epoch  94 |   264/  352 batches | accuracy    0.383\n",
            "-----------------------------------------------------------\n",
            "| End of epoch  94 | Time:  9.30s | Train Accuracy    0.380  | Train Loss    1.699 | Validate Accuracy    0.408 | Validate Loss    1.651\n",
            "-----------------------------------------------------------\n",
            "| epoch  95 |    88/  352 batches | accuracy    0.385\n",
            "| epoch  95 |   176/  352 batches | accuracy    0.385\n",
            "| epoch  95 |   264/  352 batches | accuracy    0.382\n",
            "-----------------------------------------------------------\n",
            "| End of epoch  95 | Time:  9.31s | Train Accuracy    0.383  | Train Loss    1.696 | Validate Accuracy    0.394 | Validate Loss    1.645\n",
            "-----------------------------------------------------------\n",
            "| epoch  96 |    88/  352 batches | accuracy    0.377\n",
            "| epoch  96 |   176/  352 batches | accuracy    0.376\n",
            "| epoch  96 |   264/  352 batches | accuracy    0.379\n",
            "-----------------------------------------------------------\n",
            "| End of epoch  96 | Time:  9.42s | Train Accuracy    0.380  | Train Loss    1.698 | Validate Accuracy    0.401 | Validate Loss    1.649\n",
            "-----------------------------------------------------------\n",
            "| epoch  97 |    88/  352 batches | accuracy    0.377\n",
            "| epoch  97 |   176/  352 batches | accuracy    0.380\n",
            "| epoch  97 |   264/  352 batches | accuracy    0.378\n",
            "-----------------------------------------------------------\n",
            "| End of epoch  97 | Time:  9.35s | Train Accuracy    0.380  | Train Loss    1.696 | Validate Accuracy    0.399 | Validate Loss    1.646\n",
            "-----------------------------------------------------------\n",
            "| epoch  98 |    88/  352 batches | accuracy    0.380\n",
            "| epoch  98 |   176/  352 batches | accuracy    0.377\n",
            "| epoch  98 |   264/  352 batches | accuracy    0.375\n",
            "-----------------------------------------------------------\n",
            "| End of epoch  98 | Time:  9.41s | Train Accuracy    0.375  | Train Loss    1.699 | Validate Accuracy    0.405 | Validate Loss    1.642\n",
            "-----------------------------------------------------------\n",
            "| epoch  99 |    88/  352 batches | accuracy    0.386\n",
            "| epoch  99 |   176/  352 batches | accuracy    0.383\n",
            "| epoch  99 |   264/  352 batches | accuracy    0.383\n",
            "-----------------------------------------------------------\n",
            "| End of epoch  99 | Time:  9.61s | Train Accuracy    0.384  | Train Loss    1.695 | Validate Accuracy    0.407 | Validate Loss    1.634\n",
            "-----------------------------------------------------------\n",
            "| epoch 100 |    88/  352 batches | accuracy    0.378\n",
            "| epoch 100 |   176/  352 batches | accuracy    0.378\n",
            "| epoch 100 |   264/  352 batches | accuracy    0.379\n",
            "-----------------------------------------------------------\n",
            "| End of epoch 100 | Time:  9.58s | Train Accuracy    0.381  | Train Loss    1.695 | Validate Accuracy    0.406 | Validate Loss    1.645\n",
            "-----------------------------------------------------------\n"
          ]
        }
      ]
    },
    {
      "cell_type": "markdown",
      "source": [
        "## Visualization"
      ],
      "metadata": {
        "id": "Djsf-Z59J4Z4"
      }
    },
    {
      "cell_type": "code",
      "source": [
        "import matplotlib.pyplot as plt\n",
        "\n",
        "def plot_result(num_epochs, train_accs, eval_accs, train_losses, eval_losses):\n",
        "  epochs = list(range(num_epochs))\n",
        "  fig, axs = plt.subplots(nrows= 1, ncols=2, figsize=(12, 6))\n",
        "\n",
        "  axs[0].plot(epochs, train_accs, label=\"Training\", color='green')\n",
        "  axs[0].plot(epochs, eval_accs, label=\"Evaluation\", color='orange')\n",
        "  axs[0].set(xlabel='Epoch', ylabel='Accuaracy')\n",
        "\n",
        "  axs[1].plot(epochs, train_losses, label=\"Training\", color='green')\n",
        "  axs[1].plot(epochs, eval_losses, label=\"Evaluation\", color='orange')\n",
        "  axs[1].set(xlabel='Epoch', ylabel='Loss')\n",
        "  plt.legend()\n"
      ],
      "metadata": {
        "id": "VCTJDfg5Patw"
      },
      "execution_count": 31,
      "outputs": []
    },
    {
      "cell_type": "code",
      "source": [
        "# time = metrics[\"time\"]\n",
        "# print(f\"Time: {time}\")\n",
        "plot_result(\n",
        "    num_epochs,\n",
        "    metrics[\"train_accuracy\"],\n",
        "    metrics[\"val_accuracy\"],\n",
        "    metrics[\"train_loss\"],\n",
        "    metrics[\"val_loss\"]\n",
        ")"
      ],
      "metadata": {
        "id": "ORy9vwk1J3pS",
        "colab": {
          "base_uri": "https://localhost:8080/",
          "height": 547
        },
        "outputId": "e3de0fa3-7677-4360-94e6-f86dd37ec732"
      },
      "execution_count": 32,
      "outputs": [
        {
          "output_type": "display_data",
          "data": {
            "text/plain": [
              "<Figure size 1200x600 with 2 Axes>"
            ],
            "image/png": "[encoded data removed]"
          },
          "metadata": {}
        }
      ]
    },
    {
      "cell_type": "markdown",
      "source": [
        "## Evaluate by Test dataset"
      ],
      "metadata": {
        "id": "0ZeuB1htPkim"
      }
    },
    {
      "cell_type": "code",
      "source": [
        "test_target, test_predict = [], []\n",
        "model.load_state_dict(torch.load(save_model_path + f'/{model_name}.pt'))\n",
        "model.eval()\n",
        "with torch.no_grad():\n",
        "  for inputs, labels in test_loader:\n",
        "    inputs, labels = inputs.to(device), labels.to(device)\n",
        "    predictions = model(inputs)\n",
        "\n",
        "    test_target.append(labels.cpu())\n",
        "    test_predict.append(predictions.cpu())\n",
        "test_target = torch.cat(test_target, dim=0)\n",
        "test_predict = torch.cat(test_predict, dim=0)\n",
        "\n",
        "test_acc = (torch.argmax(test_predict, dim=1)==test_target).sum().item() / len(test_target)\n",
        "print(f\"Test Accuracy: {test_acc:.4f}\")"
      ],
      "metadata": {
        "id": "yZhqeF9nPkAE",
        "colab": {
          "base_uri": "https://localhost:8080/"
        },
        "outputId": "d2eb28bb-fdce-4496-f4dd-66c0498f2dd5"
      },
      "execution_count": 33,
      "outputs": [
        {
          "output_type": "stream",
          "name": "stdout",
          "text": [
            "Test Accuracy: 0.4037\n"
          ]
        }
      ]
    },
    {
      "cell_type": "markdown",
      "source": [
        "# So sánh với CNN"
      ],
      "metadata": {
        "id": "Bzsu-zznTJYL"
      }
    },
    {
      "cell_type": "markdown",
      "source": [
        "[Link code](https://colab.research.google.com/drive/1dB36SwvVTZpXEUyPdEPe5w3CjS3BL0qw?usp=sharing#scrollTo=BhjF200mrbgd)"
      ],
      "metadata": {
        "id": "n4fhtlsJTMT7"
      }
    },
    {
      "cell_type": "markdown",
      "source": [
        "# Khó khăn:"
      ],
      "metadata": {
        "id": "DxPUrlDKTFNr"
      }
    },
    {
      "cell_type": "markdown",
      "source": [
        "1. Test Accuracy rất thấp: 0.5916 tương đương 59% với 50 epochs. Sau khi cải thiện bằng cách tăng số lượng epoch lên 100 epochs thì kết quả có tăng lên một chút là được khoảng 62% nhưng vẫn rất thấp so với mô hình CNN cho data này\n",
        "2. Biểu đồ loss và accuracy qua 100 epochs nhìn không được ổn định lắm.\n"
      ],
      "metadata": {
        "id": "NQRFeiEY_BPv"
      }
    },
    {
      "cell_type": "markdown",
      "source": [
        "# Improve"
      ],
      "metadata": {
        "id": "4odPCsAQG_r5"
      }
    },
    {
      "cell_type": "markdown",
      "source": [
        "Các giá trị tham số, lẫn các giá trị lúc chuẩn hóa dữ liệu được lấy từ bài ví dụ với bức hình có kích thước 224,224 nên ảnh hưởng đến quá trình huấn luyện"
      ],
      "metadata": {
        "id": "mYTHoDAn89eh"
      }
    }
  ],
  "metadata": {
    "colab": {
      "provenance": [],
      "machine_shape": "hm",
      "gpuType": "T4",
      "include_colab_link": true
    },
    "kernelspec": {
      "display_name": "Python 3",
      "name": "python3"
    },
    "language_info": {
      "name": "python"
    },
    "accelerator": "GPU"
  },
  "nbformat": 4,
  "nbformat_minor": 0
}