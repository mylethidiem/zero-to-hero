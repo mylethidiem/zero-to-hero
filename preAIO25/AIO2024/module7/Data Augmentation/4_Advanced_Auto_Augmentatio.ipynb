{
 "cells": [
  {
   "cell_type": "code",
   "execution_count": null,
   "metadata": {
    "colab": {
     "base_uri": "https://localhost:8080/"
    },
    "executionInfo": {
     "elapsed": 5891,
     "status": "ok",
     "timestamp": 1737280564351
     },
     
    },
    "id": "awf_r8G_uf86",
    "outputId": "42ad246d-4ef7-4a6e-884d-c131f581f566"
   },
   "outputs": [],
   "source": [
    "!gdown 16asyYugSWOYljxZrbXvWvHZ3sFN3rewn"
   ]
  },
  {
   "cell_type": "code",
   "execution_count": null,
   "metadata": {
    "colab": {
     "base_uri": "https://localhost:8080/"
    },
    "executionInfo": {
     "elapsed": 4811,
     "status": "ok",
     "timestamp": 1737280569157
     },
     
    },
    "id": "4kaQSZ0FxhTZ",
    "outputId": "dd426fdf-fec3-4ba6-ae54-da21327b1046"
   },
   "outputs": [],
   "source": [
    "!gdown 1TB828tBcEIxhkjh3RnE8hPUc3R2GE8OT"
   ]
  },
  {
   "cell_type": "code",
   "execution_count": null,
   "metadata": {
    "colab": {
     "base_uri": "https://localhost:8080/"
    },
    "executionInfo": {
     "elapsed": 13724,
     "status": "ok",
     "timestamp": 1737280582879
     },
     
    },
    "id": "d5-JdDUarQyC",
    "outputId": "670f7738-cdf9-437e-fb8e-02620c0ce426"
   },
   "outputs": [],
   "source": []
  },
  {
   "cell_type": "markdown",
   "metadata": {
    "id": "t4JiV3MQzObr"
   },
   "source": [
    "## AutoAugmentation\n"
   ]
  },
  {
   "cell_type": "code",
   "execution_count": null,
   "metadata": {
    "colab": {
     "base_uri": "https://localhost:8080/",
     "height": 437
    },
    "executionInfo": {
     "elapsed": 2628,
     "status": "ok",
     "timestamp": 1737280585505
     },
     
    },
    "id": "E3cF5H3JB_gL",
    "outputId": "31c6b52e-9743-41d7-af16-2d4501c3d890"
   },
   "outputs": [],
   "source": []
  },
  {
   "cell_type": "markdown",
   "metadata": {
    "id": "mHriKEly4jPN"
   },
   "source": [
    "## YOCO"
   ]
  },
  {
   "cell_type": "code",
   "execution_count": null,
   "metadata": {
    "colab": {
     "base_uri": "https://localhost:8080/",
     "height": 146
    },
    "executionInfo": {
     "elapsed": 777,
     "status": "ok",
     "timestamp": 1737280586277
     },
     
    },
    "id": "ZQVBBHOLBbkb",
    "outputId": "944881ef-42ac-4673-c5ca-24f64c8bdd1c"
   },
   "outputs": [],
   "source": []
  },
  {
   "cell_type": "code",
   "execution_count": null,
   "metadata": {
    "colab": {
     "base_uri": "https://localhost:8080/",
     "height": 146
    },
    "executionInfo": {
     "elapsed": 869,
     "status": "ok",
     "timestamp": 1737280587142
     },
     
    },
    "id": "oqPgkQG3goir",
    "outputId": "ee40b741-5367-4ac9-c211-91d6878fdbe4"
   },
   "outputs": [],
   "source": []
  },
  {
   "cell_type": "code",
   "execution_count": null,
   "metadata": {
    "executionInfo": {
     "elapsed": 4,
     "status": "ok",
     "timestamp": 1737280587143
     },
     
    },
    "id": "w0sQwE888uRs"
   },
   "outputs": [],
   "source": []
  }
 ],
 "metadata": {
  "colab": {
   "authorship_tag": "ABX9TyPKVITuC0lEgAguHuO09S1+",
   "provenance": []
  },
  "kernelspec": {
   "display_name": "Python 3",
   "name": "python3"
  },
  "language_info": {
   "name": "python"
  }
 },
 "nbformat": 4,
 "nbformat_minor": 0
}
