{
  "cells": [
    {
      "cell_type": "markdown",
      "metadata": {
        "id": "view-in-github",
        "colab_type": "text"
      },
      "source": [
        "<a href=\"https://colab.research.google.com/github/mylethidiem/zero-to-hero/blob/main/preAIO25/AIOCodeMathDA/Week5.ipynb\" target=\"_parent\"><img src=\"https://colab.research.google.com/assets/colab-badge.svg\" alt=\"Open In Colab\"/></a>"
      ]
    },
    {
      "cell_type": "markdown",
      "source": [
        "[AIO2025] LẬP TRÌNH - TOÁN - DATA ANALYSIS \\\n",
        "LÊ THỊ DIỄM MY"
      ],
      "metadata": {
        "id": "DrhEUyXqp0jW"
      }
    },
    {
      "cell_type": "markdown",
      "source": [
        "# Day 21"
      ],
      "metadata": {
        "id": "04uSCDbApxxZ"
      }
    },
    {
      "cell_type": "code",
      "execution_count": null,
      "metadata": {
        "id": "JZJH1v68YX4M"
      },
      "outputs": [],
      "source": [
        "class TreeNode: # A node in tree\n",
        "  def __init__(self, val):\n",
        "    self.val = val\n",
        "    self.children = []\n",
        "\n",
        "  def add_child(self, child):\n",
        "    self.children.append(child)\n",
        "\n",
        "  def remove_child(self.children):\n",
        "    self.children = [c for c in self.children if c != child]\n",
        "\n",
        "  def print_tree(self, level=0):\n",
        "    print(\" \" * (level * 4) + \"|--\" + self.value)\n",
        "    for child in self.children:\n",
        "      child.print_tree(level + 1)"
      ]
    },
    {
      "cell_type": "code",
      "source": [
        "# A Tree contains Nodes\n",
        "class Tree:\n",
        "  def __init__(self, root_value):\n",
        "    self.root = TreeNode(root_value)\n",
        "\n",
        "  def find(self, value, node=None):\n",
        "    if node == None:\n",
        "      node = self.root #\n",
        "    if node.value == value:\n",
        "      return node # found\n",
        "\n",
        "    for child in node.children:\n",
        "      found = self.find(value, child)\n",
        "      if found:\n",
        "        return found\n",
        "\n",
        "    return None\n",
        "\n",
        "  def insert(self, parent_value, child_value):\n",
        "    # find parent node then add child by children value\n",
        "    parent_node = self.find(parent_value)\n",
        "    if parent_node:\n",
        "      parent_node.add_child(TreeNode(child_value))\n",
        "    else:\n",
        "      print(f\"The parent node with value {parent_value} does not exist!\")\n",
        "\n",
        "  def print_tree(self):\n",
        "    self.root.print_tree()\n",
        ""
      ],
      "metadata": {
        "id": "NTdopuluQne8"
      },
      "execution_count": null,
      "outputs": []
    },
    {
      "cell_type": "markdown",
      "source": [
        "[Breadth - First Search (BFS)](https://viblo.asia/p/data-structure-algorithm-graph-algorithms-breadth-first-search-bfs-gwd43kMM4X9)\n"
      ],
      "metadata": {
        "id": "tUgbx6xbTINn"
      }
    },
    {
      "cell_type": "code",
      "source": [],
      "metadata": {
        "id": "Kd2Y08PfTOpO"
      },
      "execution_count": null,
      "outputs": []
    },
    {
      "cell_type": "markdown",
      "source": [
        "# Day 22"
      ],
      "metadata": {
        "id": "QMmVLEXZqBrK"
      }
    },
    {
      "cell_type": "code",
      "execution_count": null,
      "metadata": {
        "id": "L9QZbsqlXKvu"
      },
      "outputs": [],
      "source": []
    },
    {
      "cell_type": "markdown",
      "source": [
        "# Day 23"
      ],
      "metadata": {
        "id": "v65iGApUqELx"
      }
    },
    {
      "cell_type": "code",
      "execution_count": null,
      "metadata": {
        "id": "kqhc2257_m3K"
      },
      "outputs": [],
      "source": []
    },
    {
      "cell_type": "markdown",
      "source": [
        "# Day 24"
      ],
      "metadata": {
        "id": "EBSAg7H4qG7T"
      }
    },
    {
      "cell_type": "code",
      "execution_count": null,
      "metadata": {
        "id": "SQmMu4bKVnkG"
      },
      "outputs": [],
      "source": []
    },
    {
      "cell_type": "markdown",
      "source": [
        "# Day 25"
      ],
      "metadata": {
        "id": "h3uX87QLqIM9"
      }
    },
    {
      "cell_type": "code",
      "execution_count": null,
      "metadata": {
        "id": "xZPTB4Gm_8KF"
      },
      "outputs": [],
      "source": []
    }
  ],
  "metadata": {
    "accelerator": "GPU",
    "colab": {
      "gpuType": "T4",
      "provenance": [],
      "include_colab_link": true
    },
    "kernelspec": {
      "display_name": "Python 3",
      "name": "python3"
    },
    "language_info": {
      "name": "python"
    }
  },
  "nbformat": 4,
  "nbformat_minor": 0
}