{
  "cells": [
    {
      "cell_type": "markdown",
      "metadata": {
        "id": "view-in-github",
        "colab_type": "text"
      },
      "source": [
        "<a href=\"https://colab.research.google.com/github/mylethidiem/zero-to-hero/blob/main/preAIO25/AIOCodeMathDA/Week5.ipynb\" target=\"_parent\"><img src=\"https://colab.research.google.com/assets/colab-badge.svg\" alt=\"Open In Colab\"/></a>"
      ]
    },
    {
      "cell_type": "markdown",
      "metadata": {
        "id": "DrhEUyXqp0jW"
      },
      "source": [
        "[AIO2025] LẬP TRÌNH - TOÁN - DATA ANALYSIS \\\n",
        "LÊ THỊ DIỄM MY"
      ]
    },
    {
      "cell_type": "markdown",
      "metadata": {
        "id": "04uSCDbApxxZ"
      },
      "source": [
        "# Day 21"
      ]
    },
    {
      "cell_type": "code",
      "execution_count": null,
      "metadata": {
        "id": "JZJH1v68YX4M"
      },
      "outputs": [],
      "source": [
        "class TreeNode: # A node in tree\n",
        "  def __init__(self, value):\n",
        "    self.value = value\n",
        "    self.child = []\n",
        "\n",
        "  def add_child(self, child):\n",
        "    self.child.append(child)\n",
        "\n",
        "  def remove_child(self, child):\n",
        "    self.child = [c for c in self.child if c != child]\n",
        "\n",
        "  def print_tree(self, level=0):\n",
        "    print(\" \" * (level * 4) + \"|--\" + self.value)\n",
        "    for child in self.child:\n",
        "      child.print_tree(level + 1)"
      ]
    },
    {
      "cell_type": "code",
      "execution_count": null,
      "metadata": {
        "id": "NTdopuluQne8"
      },
      "outputs": [],
      "source": [
        "# A Tree contains Nodes\n",
        "class Tree:\n",
        "  def __init__(self, root_value):\n",
        "    self.root = TreeNode(root_value)\n",
        "\n",
        "  def find(self, value, node=None):\n",
        "    if node == None:\n",
        "      node = self.root #\n",
        "    if node.value == value:\n",
        "      return node # found\n",
        "\n",
        "    for child in node.child:\n",
        "      found = self.find(value, child)\n",
        "      if found:\n",
        "        return found\n",
        "\n",
        "    return None\n",
        "\n",
        "  def insert(self, parent_value, child_value):\n",
        "    # find parent node then add child by children value\n",
        "    parent_node = self.find(parent_value)\n",
        "    if parent_node:\n",
        "      parent_node.add_child(TreeNode(child_value))\n",
        "    else:\n",
        "      print(f\"The parent node with value {parent_value} does not exist!\")\n",
        "\n",
        "  def print_tree(self):\n",
        "    self.root.print_tree()\n"
      ]
    },
    {
      "cell_type": "markdown",
      "metadata": {
        "id": "tUgbx6xbTINn"
      },
      "source": [
        "[Breadth - First Search (BFS)](https://viblo.asia/p/data-structure-algorithm-graph-algorithms-breadth-first-search-bfs-gwd43kMM4X9)\n"
      ]
    },
    {
      "cell_type": "code",
      "execution_count": null,
      "metadata": {
        "id": "Kd2Y08PfTOpO"
      },
      "outputs": [],
      "source": [
        "from collections import deque\n",
        "\n",
        "class BFSTree:\n",
        "  def __init__(self, root_value):\n",
        "    self.root = TreeNode(root_value)\n",
        "\n",
        "  def traverse_bfs(self):\n",
        "    if not self.root:\n",
        "      return\n",
        "\n",
        "    queue = deque([self.root])\n",
        "    while queue:\n",
        "      node = queue.popleft()\n",
        "      print(node.value, end=\" \")\n",
        "      for child in node.child:\n",
        "        queue.append(child)\n",
        "    print()"
      ]
    },
    {
      "cell_type": "code",
      "execution_count": null,
      "metadata": {
        "colab": {
          "base_uri": "https://localhost:8080/"
        },
        "id": "s5JfcTpSM3NW",
        "outputId": "2ed8b4b1-c9ec-4974-8dcc-1c6dac38061d"
      },
      "outputs": [
        {
          "name": "stdout",
          "output_type": "stream",
          "text": [
            "Root: \n",
            "|--A\n",
            "    |--B\n",
            "        |--D\n",
            "        |--E\n",
            "    |--C\n",
            "        |--F\n",
            "===========================\n",
            "\n",
            " BFS Tree Traversal: \n",
            "A B C D E F \n"
          ]
        }
      ],
      "source": [
        "#initialize tree\n",
        "tree = BFSTree(\"A\")\n",
        "\n",
        "# Add child node into tree\n",
        "tree.root.add_child(TreeNode(\"B\"))\n",
        "tree.root.add_child(TreeNode(\"C\"))\n",
        "\n",
        "tree.root.child[0].add_child(TreeNode(\"D\"))\n",
        "tree.root.child[0].add_child(TreeNode(\"E\"))\n",
        "tree.root.child[1].add_child(TreeNode(\"F\"))\n",
        "\n",
        "# print tree base level\n",
        "print(\"Root: \")\n",
        "tree.root.print_tree()\n",
        "print(\"===========================\")\n",
        "# BFS Tree Traversal\n",
        "print(\"\\n BFS Tree Traversal: \")\n",
        "tree.traverse_bfs()"
      ]
    },
    {
      "cell_type": "markdown",
      "metadata": {
        "id": "QfvMirAAM4xX"
      },
      "source": [
        "## Exercise"
      ]
    },
    {
      "cell_type": "code",
      "execution_count": null,
      "metadata": {
        "colab": {
          "base_uri": "https://localhost:8080/"
        },
        "id": "zioJHTTRTk3D",
        "outputId": "e5572497-ad37-4d4e-a80c-545d0951c7db"
      },
      "outputs": [
        {
          "name": "stdout",
          "output_type": "stream",
          "text": [
            "|--Company\n",
            "    |--HR\n",
            "        |--Alice\n",
            "        |--Bob\n",
            "    |--IT\n",
            "        |--Charlie\n",
            "        |--David\n",
            "    |--Finance\n"
          ]
        }
      ],
      "source": [
        "#1\n",
        "tree  = Tree(\"Company\")\n",
        "\n",
        "tree.root.add_child(TreeNode(\"HR\"))\n",
        "tree.root.add_child(TreeNode(\"IT\"))\n",
        "tree.root.add_child(TreeNode(\"Finance\"))\n",
        "\n",
        "hr_node = tree.find(\"HR\")\n",
        "if hr_node:\n",
        "  hr_node.add_child(TreeNode(\"Alice\"))\n",
        "  hr_node.add_child(TreeNode(\"Bob\"))\n",
        "\n",
        "it_node = tree.find(\"IT\")\n",
        "if it_node:\n",
        "  it_node.add_child(TreeNode(\"Charlie\"))\n",
        "  it_node.add_child(TreeNode(\"David\"))\n",
        "\n",
        "# Tree\n",
        "tree.root.print_tree()"
      ]
    },
    {
      "cell_type": "code",
      "execution_count": null,
      "metadata": {
        "colab": {
          "base_uri": "https://localhost:8080/"
        },
        "id": "KEXAWIJ8TmzK",
        "outputId": "d0c1ceb0-a23d-418e-efe6-b3b8a9254822"
      },
      "outputs": [
        {
          "name": "stdout",
          "output_type": "stream",
          "text": [
            "Company HR IT Finance Alice Bob Charlie David \n"
          ]
        }
      ],
      "source": [
        "#2\n",
        "# A Tree contains Nodes\n",
        "class TreeBFS:\n",
        "  def __init__(self, root_value):\n",
        "    self.root = TreeNode(root_value)\n",
        "\n",
        "  def find(self, value, node=None):\n",
        "    if node == None:\n",
        "      node = self.root #\n",
        "    if node.value == value:\n",
        "      return node # found\n",
        "\n",
        "    for child in node.child:\n",
        "      found = self.find(value, child)\n",
        "      if found:\n",
        "        return found\n",
        "\n",
        "    return None\n",
        "\n",
        "  def insert(self, parent_value, child_value):\n",
        "    # find parent node then add child by children value\n",
        "    parent_node = self.find(parent_value)\n",
        "    if parent_node:\n",
        "      parent_node.add_child(TreeNode(child_value))\n",
        "    else:\n",
        "      print(f\"The parent node with value {parent_value} does not exist!\")\n",
        "\n",
        "  def print_tree(self):\n",
        "    self.root.print_tree()\n",
        "\n",
        "  def traverse_bfs(self):\n",
        "    if not self.root:\n",
        "      return\n",
        "\n",
        "    queue = deque([self.root])\n",
        "    while queue:\n",
        "      node = queue.popleft()\n",
        "      print(node.value, end=\" \")\n",
        "      for child in node.child:\n",
        "        queue.append(child)\n",
        "    print()\n",
        "\n",
        "  def search_bfs(self, value):\n",
        "    if not self.root:\n",
        "      return False\n",
        "\n",
        "    queue = deque([self.root])\n",
        "    while queue:\n",
        "      node = queue.popleft()\n",
        "      if node.value == value:\n",
        "        return True\n",
        "      for child in node.child:\n",
        "        queue.append(child)\n",
        "    return False\n",
        "\n",
        "  def tree_height2(self, node=None):\n",
        "    if node is None:\n",
        "        if not self.root:  # Xử lý cây rỗng\n",
        "            return 0\n",
        "        node = self.root\n",
        "\n",
        "    max_height = 1  # Mỗi node tính là height = 1\n",
        "    for child in node.child:  # Duyệt mọi nhánh con\n",
        "      #Duyệt qua TẤT CẢ node con và tính height theo nhánh sâu nhất\n",
        "        current_height = self.tree_height2(child) + 1\n",
        "         #Luôn giữ giá trị height lớn nhất từ các nhánh\n",
        "        if current_height > max_height:\n",
        "            max_height = current_height\n",
        "    return max_height\n",
        "\n",
        "\n",
        "tree  = TreeBFS(\"Company\")\n",
        "\n",
        "tree.root.add_child(TreeNode(\"HR\"))\n",
        "tree.root.add_child(TreeNode(\"IT\"))\n",
        "tree.root.add_child(TreeNode(\"Finance\"))\n",
        "\n",
        "hr_node = tree.find(\"HR\")\n",
        "if hr_node:\n",
        "  hr_node.add_child(TreeNode(\"Alice\"))\n",
        "  hr_node.add_child(TreeNode(\"Bob\"))\n",
        "\n",
        "it_node = tree.find(\"IT\")\n",
        "if it_node:\n",
        "  it_node.add_child(TreeNode(\"Charlie\"))\n",
        "  it_node.add_child(TreeNode(\"David\"))\n",
        "\n",
        "# Tree\n",
        "tree.traverse_bfs()"
      ]
    },
    {
      "cell_type": "code",
      "execution_count": null,
      "metadata": {
        "colab": {
          "base_uri": "https://localhost:8080/"
        },
        "id": "M6ONkDXSTnjL",
        "outputId": "1426a09f-e8f2-4778-fd48-a0180166ac66"
      },
      "outputs": [
        {
          "name": "stdout",
          "output_type": "stream",
          "text": [
            "Find Alice result: True\n",
            "Find Harry result: False\n",
            "Find HR result: True\n",
            "Find Company result: True\n"
          ]
        }
      ],
      "source": [
        "#3\n",
        "value = \"Alice\"\n",
        "value1 = \"Harry\"\n",
        "value2 = \"HR\"\n",
        "value3 = \"Company\"\n",
        "\n",
        "print(f\"Find {value} result: {tree.search_bfs(value)}\")\n",
        "print(f\"Find {value1} result: {tree.search_bfs(value1)}\")\n",
        "print(f\"Find {value2} result: {tree.search_bfs(value2)}\")\n",
        "print(f\"Find {value3} result: {tree.search_bfs(value3)}\")"
      ]
    },
    {
      "cell_type": "code",
      "execution_count": null,
      "metadata": {
        "colab": {
          "base_uri": "https://localhost:8080/"
        },
        "id": "pqQJHOd-TpKa",
        "outputId": "f4184b1d-f1db-4ac8-9ff5-e4bd7107eef3"
      },
      "outputs": [
        {
          "name": "stdout",
          "output_type": "stream",
          "text": [
            "Company HR IT Finance Alice Bob Charlie David \n",
            "3\n"
          ]
        }
      ],
      "source": [
        "#4 wrong answer\n",
        "tree.traverse_bfs()\n",
        "print(tree.tree_height2())"
      ]
    },
    {
      "cell_type": "markdown",
      "metadata": {
        "id": "QMmVLEXZqBrK"
      },
      "source": [
        "# Day 22"
      ]
    },
    {
      "cell_type": "markdown",
      "metadata": {
        "id": "ceYaN_bruZUP"
      },
      "source": [
        "## Tree data structure: Decision Tree"
      ]
    },
    {
      "cell_type": "code",
      "execution_count": null,
      "metadata": {
        "colab": {
          "base_uri": "https://localhost:8080/"
        },
        "id": "XxSJeyDnliUi",
        "outputId": "c068105c-611c-4374-af91-17beeda4277b"
      },
      "outputs": [
        {
          "output_type": "stream",
          "name": "stdout",
          "text": [
            "Score (original): 1.0\n",
            "Score (for loops): 1.0\n"
          ]
        }
      ],
      "source": [
        "# Decision tree use Gini Index\n",
        "import numpy as np\n",
        "\n",
        "def calculate_score(group, classes, size):\n",
        "  \"\"\"\n",
        "  Calculates the score using explicit for loops, equivalent to the original list comprehension.\n",
        "  \"\"\"\n",
        "  count = 0  # Initialize a counter for the number of True results\n",
        "  for row in group:\n",
        "      for c in classes:\n",
        "          if row[-1] == c:\n",
        "              count += 1  # Increment the counter if the comparison is True\n",
        "  score = count / size  # Calculate the score by dividing the count by the size\n",
        "  return score\n",
        "\n",
        "# Example data (same as in the previous example)\n",
        "group = [[1, 2, 'A'], [3, 4, 'B'], [5, 6, 'A']]\n",
        "classes = ['A', 'B']\n",
        "size = 3\n",
        "\n",
        "# Original code (using list comprehension)\n",
        "score_original = sum([(row[-1] == c) for row in group for c in classes]) / size\n",
        "print(f\"Score (original): {score_original}\")  # Output: Score (original): 1.0\n",
        "\n",
        "# Code using for loops\n",
        "score_for_loops = calculate_score(group, classes, size)\n",
        "print(f\"Score (for loops): {score_for_loops}\")  # Output: Score (for loops): 1.0"
      ]
    },
    {
      "cell_type": "code",
      "execution_count": null,
      "metadata": {
        "id": "-wF6jURNliUi"
      },
      "outputs": [],
      "source": [
        "def update_gini(gini, score_values, size, total_samples):\n",
        "  \"\"\"\n",
        "  Updates the gini value using explicit for loop.\n",
        "  \"\"\"\n",
        "  sum_of_squares = 0.0\n",
        "  for score in score_values:\n",
        "      sum_of_squares += score ** 2  # Calculate the square and add it to the sum\n",
        "\n",
        "  gini += (1.0 - sum_of_squares) * (size / total_samples)\n",
        "  return gini\n",
        "\n"
      ]
    },
    {
      "cell_type": "markdown",
      "metadata": {
        "id": "BTOD4AfZliUi"
      },
      "source": [
        "Công thức Gini Index cho một node (nhóm dữ liệu):\n",
        "Gini = 1 - Σ (p_i)^2\n",
        "(trong đó p_i là tỷ lệ mẫu thuộc lớp thứ i trong nhóm)"
      ]
    },
    {
      "cell_type": "code",
      "execution_count": null,
      "metadata": {
        "id": "DXJ-fswo6sA1"
      },
      "outputs": [],
      "source": [
        "def gini_index(groups, classes):\n",
        "    \"\"\"\n",
        "    Tính Gini Index cho một tập dữ liệu.\n",
        "\n",
        "    Parameters:\n",
        "    - groups: Danh sách các nhóm dữ liệu, mỗi nhóm là một danh sách các mẫu dữ liệu\n",
        "    - classes: Danh sách các lớp (labels) có thể có trong dữ liệu\n",
        "\n",
        "    Returns:\n",
        "    - Gini Index của tập dữ liệu\n",
        "    \"\"\"\n",
        "    # Tính tổng số mẫu\n",
        "    n_instances = float(sum([len(group) for group in groups]))\n",
        "\n",
        "    # Tính Gini index cho tập dữ liệu\n",
        "    gini = 0.0\n",
        "\n",
        "    # Duyệt qua từng nhóm\n",
        "    for group in groups:\n",
        "        size = float(len(group))\n",
        "\n",
        "        # Tránh chia cho 0\n",
        "        if size == 0:\n",
        "            continue\n",
        "\n",
        "        score = 0.0\n",
        "        #equal to calculate_score\n",
        "        #score = sum([(row[-1] == c) for row in group for c in classes]) / size\n",
        "        # equal to update_gini\n",
        "        #gini += (1.0 - sum([score ** 2 for c in classes])) * (size / total_samples)\n",
        "\n",
        "        # Tính score cho mỗi class trong nhóm\n",
        "        for class_val in classes:\n",
        "            # Tính tỷ lệ các mẫu thuộc class_val trong nhóm\n",
        "            p = [row[-1] for row in group].count(class_val) / size\n",
        "            score += p * p\n",
        "\n",
        "        # Thêm vào gini với trọng số là tỷ lệ kích thước của nhóm\n",
        "        gini += (1.0 - score) * (size / n_instances)\n",
        "\n",
        "    return gini\n"
      ]
    },
    {
      "cell_type": "code",
      "execution_count": null,
      "metadata": {
        "colab": {
          "base_uri": "https://localhost:8080/"
        },
        "id": "YLPlk0hiliUj",
        "outputId": "c43d25f3-bd13-45c3-8904-11b3fefa294d"
      },
      "outputs": [
        {
          "output_type": "stream",
          "name": "stdout",
          "text": [
            "Gini Index: 0.5\n"
          ]
        }
      ],
      "source": [
        "# Dữ liệu mẫu 1\n",
        "groups = [\n",
        "    [[1, 2, 'A'], [2, 3, 'B']],\n",
        "    [[3, 4, 'A'], [4, 5, 'B']]\n",
        "]\n",
        "classes = ['A', 'B']\n",
        "\n",
        "# Tính Gini Index\n",
        "gini = gini_index(groups, classes)\n",
        "print(f\"Gini Index: {gini}\")"
      ]
    },
    {
      "cell_type": "code",
      "execution_count": null,
      "metadata": {
        "id": "pwOOO2OzMzvi"
      },
      "outputs": [],
      "source": [
        "# Example 2\n",
        "dataset = [\n",
        "    [2.8, 'Yes'],\n",
        "    [1.2, 'No'],\n",
        "    [3.6, 'Yes'],\n",
        "    [4.5, 'No'],\n",
        "    [5.1, 'Yes']\n",
        "]"
      ]
    },
    {
      "cell_type": "code",
      "execution_count": null,
      "metadata": {
        "id": "jAOnARyKNPP5"
      },
      "outputs": [],
      "source": [
        "# Divide the dataset by a threshold value\n",
        "def split_data(dataset, feature_index, threshold):\n",
        "  left = [row for row in dataset if row[feature_index] < threshold]\n",
        "  right = [row for row in dataset if row[feature_index] >= threshold]\n",
        "  return left, right"
      ]
    },
    {
      "cell_type": "code",
      "execution_count": null,
      "metadata": {
        "colab": {
          "base_uri": "https://localhost:8080/"
        },
        "id": "c6rosKhCNykp",
        "outputId": "0a43cd27-8c49-4bee-90c2-0ed40dc6433a"
      },
      "outputs": [
        {
          "output_type": "stream",
          "name": "stdout",
          "text": [
            "Gini index: 0.4667\n"
          ]
        }
      ],
      "source": [
        "# Example of calculating Gini for a data split\n",
        "groups = split_data(dataset, 0, 3.0)\n",
        "classes = ['Yes', 'No']\n",
        "gini = gini_index(groups, classes)\n",
        "print(f\"Gini index: {gini:.4f}\")"
      ]
    },
    {
      "cell_type": "markdown",
      "metadata": {
        "id": "rlZV_QmwO07x"
      },
      "source": [
        "Decision use OOP"
      ]
    },
    {
      "cell_type": "code",
      "execution_count": null,
      "metadata": {
        "id": "2ZZgbJQ3O-Y2"
      },
      "outputs": [],
      "source": [
        "# TreeNode store information about nodes in the tree.\n",
        "class TreeNode:\n",
        "  def __init__(self, feature_index=None, threshold=None, left=None, right=None, label=None) -> None:\n",
        "    \"\"\"\n",
        "    Khởi tạo một nút trong cây quyết định:\n",
        "    - feature_index: Chỉ số thuộc tính được chọn để chia\n",
        "    - threshold: Ngưỡng giá trị để phân chia dữ liệu\n",
        "    - left, right: Con trỏ đến nút con bên trái và bên phải\n",
        "    - label: Nhãn lớp (chỉ có ở nút lá)\n",
        "    \"\"\"\n",
        "    self.feature_index = feature_index\n",
        "    self.threshold = threshold\n",
        "    self.left = left\n",
        "    self.right = right\n",
        "    self.label = label\n"
      ]
    },
    {
      "cell_type": "code",
      "execution_count": null,
      "metadata": {
        "id": "Vn7p4XT-RUhf"
      },
      "outputs": [],
      "source": [
        "import numpy as np\n",
        "\n",
        "class DecisionTreev1:\n",
        "  def __init__(self, max_depth=3) -> None:\n",
        "    \"\"\"\n",
        "    Khởi tạo cây quyết định với độ sâu tối đa\n",
        "    \"\"\"\n",
        "    self.max_depth = max_depth\n",
        "    self.root = None #Tree Node\n",
        "\n",
        "  def gini_index(self, groups, classes):\n",
        "    \"\"\"\n",
        "    Chỉ số Gini đo lường mức độ \"không thuần khiết\" của một tập dữ liệu\n",
        "    Giá trị Gini càng thấp càng tốt (0 là lý tưởng - tập hoàn toàn thuần khiết)\n",
        "    \"\"\"\n",
        "    total_samples = sum([len(group) for group in groups])\n",
        "    gini = 0.0\n",
        "    for group in groups:\n",
        "      size = len(group)\n",
        "      if size == 0.0:\n",
        "        continue\n",
        "      score = 0.0\n",
        "      for class_val in classes:\n",
        "        proportion = [row[-1] for row in group].count(class_val) / size\n",
        "        score += proportion ** 2\n",
        "      gini += (1.0 - score) * (size / total_samples)\n",
        "    return gini\n",
        "\n",
        "  def split_data(self, dataset, feature_index, threshold):\n",
        "    \"\"\"\n",
        "    Chia tập dữ liệu dựa trên một thuộc tính và ngưỡng giá trị\n",
        "    \"\"\"\n",
        "    left = [row for row in dataset if row[feature_index] < threshold]\n",
        "    right = [row for row in dataset if row[feature_index] >= threshold]\n",
        "\n",
        "    return left, right\n",
        "\n",
        "  def best_split(self, dataset):\n",
        "    \"\"\"\n",
        "    Tìm thuộc tính và ngưỡng tốt nhất để phân chia dữ liệu\n",
        "    \"\"\"\n",
        "    class_values = list(set(row[-1] for row in dataset))\n",
        "    best_index,  best_threshold, best_score, best_groups = None, None, float('inf'), (None, None)#\n",
        "\n",
        "    #Chọn cách phân chia có chỉ số Gini thấp nhất\n",
        "    for index in range(len(dataset[0]) - 1):\n",
        "      for row in dataset:\n",
        "        groups = self.split_data(dataset, index, row[index])\n",
        "        gini = self.gini_index(groups, class_values)\n",
        "        if gini < best_score:\n",
        "          best_index, best_threshold, best_score, best_groups = index,  row[index], gini, groups\n",
        "    return best_index, best_threshold, best_groups\n",
        "\n",
        "  def build_tree(self, dataset, depth=0):\n",
        "    \"\"\"\n",
        "    Xây dựng cây quyết định theo phương pháp đệ quy\n",
        "    \"\"\"\n",
        "    class_values = [row[-1] for row in dataset]\n",
        "    # Stop conidition: if only have 1 layer or get maximum depth\n",
        "    if len(set(class_values)) == 1 or depth >= self.max_depth:\n",
        "      return TreeNode(label=max(set(class_values), key=class_values.count))\n",
        "\n",
        "    # Find the best attribute and threshold value to split the data\n",
        "    feature_index, threshold, (left, right) = self.best_split(dataset)\n",
        "\n",
        "    # If cannot devide, create Leaf Node\n",
        "    if not left or not right:\n",
        "      return TreeNode(label=max(set(class_values), key=class_values.count))\n",
        "\n",
        "    # Build left branch and right branch\n",
        "    left_node = self.build_tree(left, depth + 1)\n",
        "    right_node = self.build_tree(right, depth + 1)\n",
        "\n",
        "    return TreeNode(feature_index, threshold, left_node, right_node)\n",
        "\n",
        "  def fit(self, dataset):\n",
        "    \"\"\"\n",
        "    Huấn luyện cây quyết định bằng cách xây dựng từ dữ liệu đầu vào\n",
        "    \"\"\"\n",
        "    self.root = self.build_tree(dataset)\n",
        "\n",
        "  def print_tree(self, node=None, depth=0):\n",
        "    \"\"\"\n",
        "    In ra cây quyết định theo dạng phân cấp\n",
        "    \"\"\"\n",
        "    if node is None:\n",
        "      node = self.root\n",
        "\n",
        "    if node.label is not None:#?\n",
        "      print(f\"{'   ' * depth} [Leaf] Label: {node.label}\")\n",
        "    else:\n",
        "      print(f\"{'   ' * depth} [Node] Feature {node.feature_index} <= {node.threshold}\")\n",
        "      self.print_tree(node.left, depth + 1)\n",
        "      self.print_tree(node.right, depth + 1)\n"
      ]
    },
    {
      "cell_type": "code",
      "execution_count": null,
      "metadata": {
        "colab": {
          "base_uri": "https://localhost:8080/"
        },
        "id": "4WRK8tgyvCvR",
        "outputId": "a1ab7032-8a2b-4670-a468-410fdd4b9c57"
      },
      "outputs": [
        {
          "output_type": "stream",
          "name": "stdout",
          "text": [
            "Decision is built:\n",
            " [Node] Feature 0 <= 2.8\n",
            "    [Leaf] Label: No\n",
            "    [Node] Feature 0 <= 4.5\n",
            "       [Leaf] Label: Yes\n",
            "       [Node] Feature 0 <= 5.1\n",
            "          [Leaf] Label: No\n",
            "          [Leaf] Label: Yes\n"
          ]
        }
      ],
      "source": [
        "# Build Tree from dataset\n",
        "# Simple dataset: [attribute, label]\n",
        "dataset = [\n",
        "[2.8, 'Yes'],\n",
        "[1.2, 'No'],\n",
        "[3.6, 'Yes'],\n",
        "[4.5, 'No'],\n",
        "[5.1, 'Yes']\n",
        "]\n",
        "\n",
        "# initialize and training\n",
        "tree = DecisionTreev1(max_depth=3)\n",
        "tree.fit(dataset)\n",
        "\n",
        "# Print tree\n",
        "print (\"Decision is built:\")\n",
        "tree.print_tree()# wwhy different result???"
      ]
    },
    {
      "cell_type": "markdown",
      "metadata": {
        "id": "iHS3MNcpuhfX"
      },
      "source": [
        "## Bài 1: Tính chỉ số Gini cho một tập dữ liệu"
      ]
    },
    {
      "cell_type": "code",
      "execution_count": null,
      "metadata": {
        "id": "L9QZbsqlXKvu",
        "colab": {
          "base_uri": "https://localhost:8080/"
        },
        "outputId": "934a15c1-714e-4d63-c19d-8f87f30a2373"
      },
      "outputs": [
        {
          "output_type": "stream",
          "name": "stdout",
          "text": [
            "Decision is built:\n",
            " [Node] Feature 0 <= 50\n",
            "    [Leaf] Label: No\n",
            "    [Leaf] Label: Yes\n"
          ]
        }
      ],
      "source": [
        "# Build Tree from dataset\n",
        "# Simple dataset: [attribute, label]\n",
        "dataset = [\n",
        "[50, 'Yes'],\n",
        "[20, 'No'],\n",
        "[30, 'No'],\n",
        "[70, 'Yes'],\n",
        "[40, 'No'],\n",
        "[60, 'Yes']\n",
        "]\n",
        "\n",
        "# initialize and training\n",
        "tree = DecisionTreev1(max_depth=3)\n",
        "tree.fit(dataset)\n",
        "\n",
        "# Print tree\n",
        "print (\"Decision is built:\")\n",
        "tree.print_tree()# wwhy different result???"
      ]
    },
    {
      "cell_type": "markdown",
      "metadata": {
        "id": "hdV7gAz2ujcG"
      },
      "source": [
        "## Bài 2: Mở rộng cây quyết định\n",
        "• Thêm nhiều thuộc tính hơn vào tập dữ liệu (ví dụ: Tuổi, Điểm tín dụng). \\\n",
        "• Cải tiến thuật toán để xây dựng cây với nhiều thuộc tính. \\\n",
        "• In ra cây theo cách dễ đọc hơn."
      ]
    },
    {
      "cell_type": "markdown",
      "metadata": {
        "id": "KMJQAg4MliUm"
      },
      "source": [
        "Công thức tổng quát khi phân chia thành nhiều nhóm:\n",
        "Gini Index = Σ (w_j * Gini_j)\n",
        "(w_j là tỷ lệ mẫu của nhóm j so với tổng số mẫu, Gini_j là Gini Index của nhóm j)"
      ]
    },
    {
      "cell_type": "code",
      "execution_count": 43,
      "metadata": {
        "id": "lbD-VlrKujFW"
      },
      "outputs": [],
      "source": [
        "import numpy as np\n",
        "import pandas as pd\n",
        "from collections import Counter\n",
        "import matplotlib.pyplot as plt\n",
        "import seaborn\n",
        "\n",
        "class Node:\n",
        "  def __init__(self, feature=None, threshold=None, left=None, right=None, value=None, depth=0) -> None:\n",
        "    self.feature = feature      # Thuộc tính để phân chia\n",
        "    self.threshold = threshold  # Ngưỡng để phân chia\n",
        "    self.left = left            # Node con bên trái\n",
        "    self.right = right          # Node con bên phải\n",
        "    self.value = value          # Gía trị dự đoán (nếu là node lá)\n",
        "    self.depth = depth          # Độ sâu của node\n",
        "\n",
        "class DecisionTree:\n",
        "  def __init__(self, max_depth=5, min_samples_split=2) -> None:\n",
        "    self.max_depth = max_depth\n",
        "    self.min_samples_split = min_samples_split\n",
        "    self.root = None\n",
        "    self.feature_names = None\n",
        "    self.n_features = None\n",
        "    self.n_classes = None\n",
        "\n",
        "  def fit(self, X, y, feature_names=None):\n",
        "    self.n_features = X.shape[1]\n",
        "    self.feature_names = feature_names if feature_names is not None else [f\"feature_{i}\" for i in range(self.n_features)]\n",
        "    self.class_names = np.unique(y)\n",
        "    self.n_classes = len(self.class_names)\n",
        "\n",
        "    # xây dựng cây\n",
        "    self.root = self._grow_tree(X, y, depth=0)\n",
        "\n",
        "  def _grow_tree(self, X, y, depth):\n",
        "    n_samples, n_features = X.shape\n",
        "    n_classes = len(np.unique(y))\n",
        "\n",
        "    # Điều kiện dừng\n",
        "    print(f\"_grow_tree stop condition: depth {depth}, self.max_depth {self.max_depth}, n_samples {n_samples}, self.min_samples_split {self.min_samples_split}, n_classes {n_classes}\")\n",
        "    if (depth >= self.max_depth or n_samples < self.min_samples_split or n_classes == 1):\n",
        "      leaf_value = self._most_common_label(y)\n",
        "      return Node(value=leaf_value, depth=depth)\n",
        "\n",
        "    # Tìm thuộc tính và ngưỡng tốt nhất\n",
        "    best_feature, best_threshold = self._best_split(X, y)\n",
        "\n",
        "    #\n",
        "    left_idxs, right_idxs = self._split(X[:, best_feature], best_threshold)\n",
        "\n",
        "    #\n",
        "    if len(left_idxs) == 0 or len(right_idxs) == 0:\n",
        "      leaf_value = self._most_common_label(y)\n",
        "      return Node(value=leaf_value, depth=depth)\n",
        "\n",
        "    #\n",
        "    left = self._grow_tree(X[left_idxs], y[left_idxs], depth + 1)\n",
        "    right = self._grow_tree(X[right_idxs], y[right_idxs], depth + 1)\n",
        "\n",
        "    print(f\"_grow_tree: \\\n",
        "          feature={best_feature}, \\\n",
        "          threshold={best_threshold}, \\\n",
        "          left={left}, \\\n",
        "          right={right}, \\\n",
        "          depth={depth}\")\n",
        "\n",
        "    return Node(\n",
        "          feature=best_feature,\n",
        "          threshold=best_threshold,\n",
        "          left=left,\n",
        "          right=right,\n",
        "          depth=depth\n",
        "    )\n",
        "\n",
        "  def _best_split(self, X, y):\n",
        "    m = X.shape[0]\n",
        "    if m <= 1:\n",
        "      return None, None\n",
        "\n",
        "    # Gini cua node cha\n",
        "    parent_gini = self._gini(y)\n",
        "\n",
        "    best_gini = 1.0\n",
        "    best_feature, best_threshold = None, None\n",
        "\n",
        "    for feature_idx in range(self.n_features):\n",
        "      thresholds = np.unique(X[:, feature_idx])\n",
        "\n",
        "      for threshold in thresholds:\n",
        "        #\n",
        "        left_idxs, right_idxs = self._split(X[:, feature_idx], threshold)\n",
        "\n",
        "        if len(left_idxs) > 0 and len(right_idxs) > 0:\n",
        "          #\n",
        "          left_gini = self._gini(y[left_idxs])\n",
        "          right_gini = self._gini(y[right_idxs])\n",
        "\n",
        "          #\n",
        "          n_left, n_right = len(left_idxs), len(right_idxs)\n",
        "          weighted_gini = (n_left / m) * left_gini + (n_right / m) * right_gini\n",
        "\n",
        "          #\n",
        "          if weighted_gini < best_gini:\n",
        "            best_gini = weighted_gini\n",
        "            best_feature = feature_idx\n",
        "            best_threshold = threshold\n",
        "\n",
        "    return best_feature, best_threshold\n",
        "\n",
        "\n",
        "\n",
        "\n",
        "  def _split(self, X_column, threshold):\n",
        "    left_idxs = np.where(X_column <= threshold)[0]\n",
        "    right_idxs = np.where(X_column > threshold)[0]\n",
        "    return left_idxs, right_idxs\n",
        "\n",
        "  def _gini(self, y):\n",
        "    m = len(y)\n",
        "    if m == 0:\n",
        "      return 0\n",
        "\n",
        "    #\n",
        "    counts = Counter(y)\n",
        "    gini = 1.0\n",
        "\n",
        "    for count in counts.values():\n",
        "      prob = count / m\n",
        "      gini -= prob ** 2\n",
        "\n",
        "    return gini\n",
        "\n",
        "  def _most_common_label(self, y):\n",
        "    counter = Counter(y)\n",
        "    return counter.most_common(1)[0][0]\n",
        "\n",
        "  def predict(self, X):\n",
        "    return np.array([self._traverse_tree(x, self.root) for x in X])\n",
        "\n",
        "  def _traverse_tree(self, x, node):\n",
        "    if node.value is not None:\n",
        "      return node.value\n",
        "\n",
        "    if x[node.feature] <= node.threshold:\n",
        "      return self._traverse_tree(x, node.left)\n",
        "    return self._traverse_tree(x, node.right)\n",
        "\n",
        "  def print_tree(self):\n",
        "    self._print_tree_recursive(self.root, \"\", True)\n",
        "\n",
        "  def _print_tree_recursive(self, node, indent, is_last):\n",
        "    if node is not None:\n",
        "      # Branch symbol\n",
        "      branch = \"└── \" if is_last else \"├── \"\n",
        "\n",
        "      if node.value is not None:\n",
        "        #Leaf node\n",
        "        print(f\"{indent}{branch}[Predict: {node.value}]\")\n",
        "      else:\n",
        "        # Decision node\n",
        "        feature_name = self.feature_names[node.feature]\n",
        "        print(f\"{indent}{branch}{feature_name} <= {node.threshold}\")\n",
        "\n",
        "        # Prepare indent for child node\n",
        "        new_indent = indent + (\"  \" if is_last else \"|  \")\n",
        "\n",
        "        # Print left child node\n",
        "        self._print_tree_recursive(node.left, new_indent, False)\n",
        "\n",
        "        # Print right childe node\n",
        "        self._print_tree_recursive(node.right, new_indent, True)\n",
        "\n",
        "  def visualize_tree(self, figsize=(12, 8)):\n",
        "    \"\"\"Vẽ cây quyết định dưới dạng đồ thị\"\"\"\n",
        "    def add_node(node, parent_id, node_id, edge_label, graph_nodes, graph_edges):\n",
        "      if node.value is not None:\n",
        "        # Leaf node\n",
        "        label = f\"Predict: {node.value}\"\n",
        "        color = \"lightblue\"\n",
        "      else:\n",
        "        # Decision node\n",
        "        feature_name = self.feature_names[node.feature]\n",
        "        label = f\"{feature_name} <= {node.threshold}\"\n",
        "        color = \"lightgreen\"\n",
        "\n",
        "      graph_nodes.append((node_id, {\"label\": label, \"color\": color}))\n",
        "\n",
        "      if parent_id is not None:\n",
        "        graph_edges.append((parent_id, node_id, {\"label\": edge_label}))\n",
        "      return node_id + 1\n",
        "\n",
        "    def traverse_tree(node, parent_id, node_id, edge_label, graph_nodes, graph_edges):\n",
        "      current_id = add_node(node, parent_id, node_id, edge_label, graph_nodes, graph_edges)\n",
        "      if node.left:\n",
        "        node_id = traverse_tree(node.left, current_id, node_id + 1, \"≤\", graph_nodes, graph_edges)\n",
        "      if node.right:\n",
        "        node_id = traverse_tree(node.right, current_id, node_id + 1, \">\", graph_nodes, graph_edges)\n",
        "      return node_id\n",
        "\n",
        "    graph_nodes = []\n",
        "    graph_edges = []\n",
        "    traverse_tree(self.root, None, 0, \"\", graph_nodes, graph_edges)\n",
        "\n",
        "    # Graph\n",
        "    try:\n",
        "      import networkx as nx\n",
        "      import matplotlib.pyplot as plt\n",
        "\n",
        "      G = nx.DiGraph()\n",
        "      for node_id, attrs in graph_nodes:\n",
        "        G.add_node(node_id, **attrs)\n",
        "\n",
        "      plt.figure(figsize=figsize)\n",
        "      pos = nx.spring_layout(G, seed=42)\n",
        "\n",
        "      # Vẽ nodes\n",
        "      nx.draw_networkx_nodes(G, pos, node_color=[data[\"color\"] for _, data in G.nodes(data=True)],\n",
        "                            node_size=2000, alpha=0.8)\n",
        "\n",
        "      # Vẽ edges\n",
        "      nx.draw_networkx_edges(G, pos, width=1.0, alpha=0.5, arrows=True, arrowsize=15)\n",
        "\n",
        "      # Vẽ labels\n",
        "      nx.draw_networkx_labels(G, pos, labels={n: data[\"label\"] for n, data in G.nodes(data=True)},\n",
        "                             font_size=8, font_weight=\"bold\")\n",
        "\n",
        "      # Vẽ edge labels\n",
        "      edge_labels = {(u, v): d[\"label\"] for u, v, d in G.edges(data=True)}\n",
        "      nx.draw_networkx_edge_labels(G, pos, edge_labels=edge_labels, font_size=8)\n",
        "\n",
        "      plt.axis(\"off\")\n",
        "      plt.tight_layout()\n",
        "      plt.show()\n",
        "    except:\n",
        "      print(\"Cần cài đặt thư viện networkx để vẽ cây\")\n"
      ]
    },
    {
      "cell_type": "code",
      "source": [
        "from sklearn.datasets import load_iris, load_breast_cancer, load_wine\n",
        "from sklearn.model_selection import train_test_split\n",
        "from sklearn.metrics import accuracy_score, classification_report\n",
        "from sklearn.preprocessing import LabelEncoder"
      ],
      "metadata": {
        "id": "Ugy54ZhcqoMD"
      },
      "execution_count": 15,
      "outputs": []
    },
    {
      "cell_type": "markdown",
      "source": [
        "###1.Ứng dụng với bộ dữ liệu Iris"
      ],
      "metadata": {
        "id": "xqAnc6oGcuQy"
      }
    },
    {
      "cell_type": "code",
      "source": [
        "def apply_to_iris():\n",
        "  print(\"\\n===== ỨNG DỤNG VỚI BỘ DỮ LIỆU IRIS =====\")\n",
        "  # Tải dữ liệu\n",
        "  iris = load_iris()\n",
        "  X = iris.data\n",
        "  y = iris.target\n",
        "  feature_names = iris.feature_names\n",
        "\n",
        "  # Chia dữ liệu\n",
        "  X_train, X_test, y_train, y_test = train_test_split(X, y, test_size=0.3, random_state=42)\n",
        "\n",
        "  # Huấn luyện mô hình\n",
        "  tree = DecisionTree(max_depth=3)\n",
        "  tree.fit(X_train, y_train, feature_names=feature_names)\n",
        "\n",
        "  # Dự đoán và đánh giá\n",
        "  y_pred = tree.predict(X_test)\n",
        "  accuracy = accuracy_score(y_test, y_pred)\n",
        "\n",
        "  print(f\"Độ chính xác trên tập Iris: {accuracy:.4f}\")\n",
        "  print(\"\\nCây quyết định cho dữ liệu Iris:\")\n",
        "  tree.print_tree()\n",
        "\n",
        "  # Vẽ cây\n",
        "  tree.visualize_tree(figsize=(10, 6))\n",
        "\n",
        "  return tree\n",
        "\n",
        "\n",
        "iris_tree = apply_to_iris()"
      ],
      "metadata": {
        "id": "cRNF-qHRdUW4",
        "colab": {
          "base_uri": "https://localhost:8080/",
          "height": 965
        },
        "outputId": "f7e7fcd9-97f6-41c1-b46e-0136be27985e"
      },
      "execution_count": 49,
      "outputs": [
        {
          "output_type": "stream",
          "name": "stdout",
          "text": [
            "\n",
            "===== ỨNG DỤNG VỚI BỘ DỮ LIỆU IRIS =====\n",
            "_grow_tree stop condition: depth 0, self.max_depth 3, n_samples 105, self.min_samples_split 2, n_classes 3\n",
            "_grow_tree stop condition: depth 1, self.max_depth 3, n_samples 31, self.min_samples_split 2, n_classes 1\n",
            "_grow_tree stop condition: depth 1, self.max_depth 3, n_samples 74, self.min_samples_split 2, n_classes 2\n",
            "_grow_tree stop condition: depth 2, self.max_depth 3, n_samples 33, self.min_samples_split 2, n_classes 2\n",
            "_grow_tree stop condition: depth 3, self.max_depth 3, n_samples 32, self.min_samples_split 2, n_classes 1\n",
            "_grow_tree stop condition: depth 3, self.max_depth 3, n_samples 1, self.min_samples_split 2, n_classes 1\n",
            "_grow_tree:           feature=3,           threshold=1.5,           left=<__main__.Node object at 0x7e1c85ad82d0>,           right=<__main__.Node object at 0x7e1c89d52990>,           depth=2\n",
            "_grow_tree stop condition: depth 2, self.max_depth 3, n_samples 41, self.min_samples_split 2, n_classes 2\n",
            "_grow_tree stop condition: depth 3, self.max_depth 3, n_samples 8, self.min_samples_split 2, n_classes 2\n",
            "_grow_tree stop condition: depth 3, self.max_depth 3, n_samples 33, self.min_samples_split 2, n_classes 2\n",
            "_grow_tree:           feature=3,           threshold=1.7,           left=<__main__.Node object at 0x7e1c89990750>,           right=<__main__.Node object at 0x7e1c84efc650>,           depth=2\n",
            "_grow_tree:           feature=2,           threshold=4.7,           left=<__main__.Node object at 0x7e1c8523ed50>,           right=<__main__.Node object at 0x7e1c84f5de90>,           depth=1\n",
            "_grow_tree:           feature=2,           threshold=1.9,           left=<__main__.Node object at 0x7e1c8b90ce90>,           right=<__main__.Node object at 0x7e1c897d7410>,           depth=0\n",
            "Độ chính xác trên tập Iris: 0.9333\n",
            "\n",
            "Cây quyết định cho dữ liệu Iris:\n",
            "└── petal length (cm) <= 1.9\n",
            "  ├── [Predict: 0]\n",
            "  └── petal length (cm) <= 4.7\n",
            "    ├── petal width (cm) <= 1.5\n",
            "    |  ├── [Predict: 1]\n",
            "    |  └── [Predict: 2]\n",
            "    └── petal width (cm) <= 1.7\n",
            "      ├── [Predict: 2]\n",
            "      └── [Predict: 2]\n"
          ]
        },
        {
          "output_type": "display_data",
          "data": {
            "text/plain": [
              "<Figure size 1000x600 with 1 Axes>"
            ],
            "image/png": "[encoded data removed]"
          },
          "metadata": {}
        }
      ]
    },
    {
      "cell_type": "markdown",
      "source": [
        "###2.Ứng dụng với bộ dữ liệu Breast Cancer"
      ],
      "metadata": {
        "id": "GFcSymIPdWBz"
      }
    },
    {
      "cell_type": "code",
      "source": [
        "def apply_to_breast_cancer():\n",
        "  pass\n",
        "\n",
        "cancer_tree = apply_to_breast_cancer()"
      ],
      "metadata": {
        "id": "Or0nnh_mdZIk"
      },
      "execution_count": null,
      "outputs": []
    },
    {
      "cell_type": "markdown",
      "source": [
        "###3.Ứng dụng với dữ liệu thực tế: Titanic"
      ],
      "metadata": {
        "id": "p-xwb6RzdaEE"
      }
    },
    {
      "cell_type": "code",
      "source": [
        "def apply_to_titanic():\n",
        "  pass\n",
        "\n",
        "titanic_tree = apply_to_titanic()"
      ],
      "metadata": {
        "id": "p4Ak2O5Bdj0z"
      },
      "execution_count": null,
      "outputs": []
    },
    {
      "cell_type": "markdown",
      "source": [
        "###4.Ứng dụng với bộ dữ liệu Wine"
      ],
      "metadata": {
        "id": "U0Fy1lZQdkQu"
      }
    },
    {
      "cell_type": "code",
      "source": [
        "def apply_to_wine():\n",
        "  pass\n",
        "\n",
        "wine_tree = apply_to_wine()"
      ],
      "metadata": {
        "id": "oRZG1IbsdqSC"
      },
      "execution_count": null,
      "outputs": []
    },
    {
      "cell_type": "markdown",
      "source": [
        "###5.Ứng dụng cho điểm tín dụng và nợ, thu nhập"
      ],
      "metadata": {
        "id": "XDtaRZQmdp30"
      }
    },
    {
      "cell_type": "code",
      "source": [
        "# Tạo dữ liệu mở rộng\n",
        "def create_extended_dataset():\n",
        "  # Tạo dữ liệu mẫu cho vay\n",
        "    np.random.seed(42)\n",
        "    n_samples = 100\n",
        "\n",
        "    # Tạo các thuộc tính\n",
        "    age = np.random.randint(20, 70, size=n_samples)\n",
        "    income = np.random.randint(20000, 150000, size=n_samples)\n",
        "    credit_score = np.random.randint(300, 850, size=n_samples)\n",
        "    loan_amount = np.random.randint(5000, 50000, size=n_samples)\n",
        "    debt_to_income = np.random.uniform(0.1, 0.6, size=n_samples)\n",
        "\n",
        "    # Tạo nhãn (loan_approved) dựa trên các quy tắc\n",
        "    loan_approved = []\n",
        "    for i in range(n_samples):\n",
        "        # Quy tắc đơn giản:\n",
        "        # - Điểm tín dụng cao và thu nhập cao -> Chấp nhận\n",
        "        # - Điểm tín dụng thấp và tỷ lệ nợ/thu nhập cao -> Từ chối\n",
        "        # - Các trường hợp khác phụ thuộc vào sự kết hợp của các yếu tố\n",
        "\n",
        "        score = 0\n",
        "        if credit_score[i] > 700:\n",
        "            score += 2\n",
        "        elif credit_score[i] > 600:\n",
        "            score += 1\n",
        "\n",
        "        if income[i] > 80000:\n",
        "            score += 2\n",
        "        elif income[i] > 40000:\n",
        "            score += 1\n",
        "\n",
        "        if debt_to_income[i] < 0.3:\n",
        "            score += 2\n",
        "        elif debt_to_income[i] < 0.4:\n",
        "            score += 1\n",
        "\n",
        "        if age[i] > 30:\n",
        "            score += 1\n",
        "\n",
        "        if loan_amount[i] < 20000:\n",
        "            score += 1\n",
        "\n",
        "        # Quyết định cuối cùng\n",
        "        if score >= 5:\n",
        "            loan_approved.append(\"Chấp nhận\")\n",
        "        else:\n",
        "            loan_approved.append(\"Từ chối\")\n",
        "\n",
        "    # Tạo DataFrame\n",
        "    data = {\n",
        "        \"Tuổi\": age,\n",
        "        \"Thu nhập\": income,\n",
        "        \"Điểm tín dụng\": credit_score,\n",
        "        \"Số tiền vay\": loan_amount,\n",
        "        \"Tỷ lệ nợ/thu nhập\": debt_to_income,\n",
        "        \"Kết quả\": loan_approved\n",
        "    }\n",
        "\n",
        "    return pd.DataFrame(data)\n",
        "\n",
        "# Tạo dữ liệu\n",
        "df = create_extended_dataset()\n",
        "\n",
        "# Hiển thị thông tin dữ liệu\n",
        "print(\"Thông tin dữ liệu:\")\n",
        "print(df.head())\n",
        "print(\"\\nThống kê dữ liệu:\")\n",
        "print(df.describe())\n",
        "print(\"\\nPhân phối nhãn:\")\n",
        "print(df[\"Kết quả\"].value_counts())\n",
        "\n",
        "# Chuẩn bị dữ liệu\n",
        "X = df.iloc[:, :-1].values\n",
        "y = df.iloc[:, -1].values\n",
        "feature_names = df.columns[:-1].tolist()"
      ],
      "metadata": {
        "id": "rOZGSQr_p0BU",
        "colab": {
          "base_uri": "https://localhost:8080/"
        },
        "outputId": "2a31560d-e5f8-4fdc-ab06-fbc2cd41d1fa"
      },
      "execution_count": 5,
      "outputs": [
        {
          "output_type": "stream",
          "name": "stdout",
          "text": [
            "Thông tin dữ liệu:\n",
            "   Tuổi  Thu nhập  Điểm tín dụng  Số tiền vay  Tỷ lệ nợ/thu nhập    Kết quả\n",
            "0    58     22568            805        38986           0.163530  Chấp nhận\n",
            "1    48    140151            647        25880           0.361122  Chấp nhận\n",
            "2    34     82592            772         9735           0.484997  Chấp nhận\n",
            "3    62     87563            530        49064           0.207911  Chấp nhận\n",
            "4    27     22695            489         9555           0.411445    Từ chối\n",
            "\n",
            "Thống kê dữ liệu:\n",
            "             Tuổi       Thu nhập  Điểm tín dụng   Số tiền vay  \\\n",
            "count  100.000000     100.000000     100.000000    100.000000   \n",
            "mean    44.070000   89009.830000     577.770000  27263.720000   \n",
            "std     14.447575   38699.199869     141.300729  13787.866411   \n",
            "min     20.000000   20206.000000     301.000000   5190.000000   \n",
            "25%     33.000000   57800.500000     451.750000  15120.750000   \n",
            "50%     43.000000   89877.500000     564.500000  27197.500000   \n",
            "75%     58.000000  126173.250000     700.500000  39278.750000   \n",
            "max     69.000000  149312.000000     810.000000  49080.000000   \n",
            "\n",
            "       Tỷ lệ nợ/thu nhập  \n",
            "count         100.000000  \n",
            "mean            0.336969  \n",
            "std             0.146278  \n",
            "min             0.107197  \n",
            "25%             0.195602  \n",
            "50%             0.348688  \n",
            "75%             0.453196  \n",
            "max             0.595253  \n",
            "\n",
            "Phân phối nhãn:\n",
            "Kết quả\n",
            "Chấp nhận    50\n",
            "Từ chối      50\n",
            "Name: count, dtype: int64\n"
          ]
        }
      ]
    },
    {
      "cell_type": "code",
      "source": [
        "# Xây dựng và huấn luyện cây quyết định\n",
        "tree = DecisionTree(max_depth=4, min_samples_split=5)\n",
        "tree.fit(X, y, feature_names=feature_names)\n",
        "\n",
        "# In cây quyết định\n",
        "print(\"\\nCây quyết định:\")\n",
        "tree.print_tree()"
      ],
      "metadata": {
        "id": "1aTbxaOLsd9z",
        "colab": {
          "base_uri": "https://localhost:8080/"
        },
        "outputId": "98ab998a-f317-4e1c-ef66-37388689c846"
      },
      "execution_count": 7,
      "outputs": [
        {
          "output_type": "stream",
          "name": "stdout",
          "text": [
            "\n",
            "Cây quyết định:\n",
            "└── Tỷ lệ nợ/thu nhập <= 0.29\n",
            "    ├── Thu nhập <= 72992.00\n",
            "    │   ├── Điểm tín dụng <= 533.00\n",
            "    │   │   ├── Tuổi <= 68.00\n",
            "    │   │   │   ├── [Dự đoán: Từ chối]\n",
            "    │   │   │   └── [Dự đoán: Chấp nhận]\n",
            "    │   │   └── [Dự đoán: Chấp nhận]\n",
            "    │   └── Tuổi <= 28.00\n",
            "    │       ├── [Dự đoán: Chấp nhận]\n",
            "    │       └── [Dự đoán: Chấp nhận]\n",
            "    └── Điểm tín dụng <= 700.00\n",
            "        ├── Số tiền vay <= 9014.00\n",
            "        │   ├── [Dự đoán: Chấp nhận]\n",
            "        │   └── Thu nhập <= 132235.00\n",
            "        │       ├── [Dự đoán: Từ chối]\n",
            "        │       └── [Dự đoán: Từ chối]\n",
            "        └── Thu nhập <= 42662.00\n",
            "            ├── [Dự đoán: Từ chối]\n",
            "            └── [Dự đoán: Chấp nhận]\n"
          ]
        }
      ]
    },
    {
      "cell_type": "code",
      "source": [
        "# Vẽ cây quyết định\n",
        "tree.visualize_tree()"
      ],
      "metadata": {
        "id": "jYHaCU3hsiFD",
        "colab": {
          "base_uri": "https://localhost:8080/",
          "height": 502
        },
        "outputId": "95ce9d40-e999-41ec-fac2-2c923006e3ad"
      },
      "execution_count": 8,
      "outputs": [
        {
          "output_type": "display_data",
          "data": {
            "text/plain": [
              "<Figure size 1200x800 with 1 Axes>"
            ],
            "image/png": "[encoded data removed]"
          },
          "metadata": {}
        }
      ]
    },
    {
      "cell_type": "code",
      "source": [
        "# Phân tích tầm quan trọng của các thuộc tính\n",
        "def analyze_feature_importance(X, y, feature_names):\n",
        "  from sklearn.ensemble import RandomForestClassifier\n",
        "  from sklearn.preprocessing import LabelEncoder\n",
        "\n",
        "  # Mã hóa nhãn\n",
        "  le = LabelEncoder()\n",
        "  y_encoded = le.fit_transform(y)\n",
        "\n",
        "  # Huấn luyện Random Forest để đánh giá tầm quan trọng của thuộc tính\n",
        "  rf = RandomForestClassifier(n_estimators=100, random_state=42)\n",
        "  rf.fit(X, y_encoded)\n",
        "\n",
        "  # Tính toán và hiển thị tầm quan trọng\n",
        "  importances = rf.feature_importances_\n",
        "  indices = np.argsort(importances)[::-1]\n",
        "\n",
        "  plt.figure(figsize=(10, 6))\n",
        "  plt.title(\"Tầm quan trọng của các thuộc tính\")\n",
        "  plt.bar(range(X.shape[1]), importances[indices], align=\"center\")\n",
        "  plt.xticks(range(X.shape[1]), [feature_names[i] for i in indices], rotation=45)\n",
        "  plt.tight_layout()\n",
        "  plt.show()\n",
        "\n",
        "  print(\"\\nTầm quan trọng của các thuộc tính:\")\n",
        "  for i in indices:\n",
        "      print(f\"{feature_names[i]}: {importances[i]:.4f}\")\n",
        "\n",
        "analyze_feature_importance(X, y, feature_names)"
      ],
      "metadata": {
        "id": "kbS36DykqJt0",
        "colab": {
          "base_uri": "https://localhost:8080/",
          "height": 580
        },
        "outputId": "cee9da48-ad6f-4025-be9e-557acdda1c26"
      },
      "execution_count": 9,
      "outputs": [
        {
          "output_type": "display_data",
          "data": {
            "text/plain": [
              "<Figure size 1000x600 with 1 Axes>"
            ],
            "image/png": "[encoded data removed]"
          },
          "metadata": {}
        },
        {
          "output_type": "stream",
          "name": "stdout",
          "text": [
            "\n",
            "Tầm quan trọng của các thuộc tính:\n",
            "Tỷ lệ nợ/thu nhập: 0.3536\n",
            "Điểm tín dụng: 0.2995\n",
            "Thu nhập: 0.1790\n",
            "Số tiền vay: 0.0962\n",
            "Tuổi: 0.0717\n"
          ]
        }
      ]
    },
    {
      "cell_type": "markdown",
      "source": [
        "Confusion matrix"
      ],
      "metadata": {
        "id": "k1tdv1BNNnKF"
      }
    },
    {
      "cell_type": "code",
      "source": [
        "# Đánh giá hiệu suất của mô hình\n",
        "def evaluate_model(X, y, tree):\n",
        "  from sklearn.model_selection import train_test_split\n",
        "  from sklearn.metrics import accuracy_score, classification_report, confusion_matrix\n",
        "\n",
        "  # Chia dữ liệu\n",
        "  X_train, X_test, y_train, y_test = train_test_split(X, y, test_size=0.3, random_state=42)\n",
        "\n",
        "  # Huấn luyện mô hình\n",
        "  tree.fit(X_train, y_train, feature_names=feature_names)\n",
        "\n",
        "  # Dự đoán\n",
        "  y_pred = tree.predict(X_test)\n",
        "\n",
        "  # Đánh giá\n",
        "  accuracy = accuracy_score(y_test, y_pred)\n",
        "  report = classification_report(y_test, y_pred)\n",
        "  conf_matrix = confusion_matrix(y_test, y_pred)\n",
        "\n",
        "  print(f\"\\nĐộ chính xác: {accuracy:.4f}\")\n",
        "  print(\"\\nBáo cáo phân loại:\")\n",
        "  print(report)\n",
        "\n",
        "  # Vẽ ma trận nhầm lẫn\n",
        "  plt.figure(figsize=(8, 6))\n",
        "  sns.heatmap(conf_matrix, annot=True, fmt=\"d\", cmap=\"Blues\",\n",
        "              xticklabels=np.unique(y), yticklabels=np.unique(y))\n",
        "  plt.xlabel(\"Dự đoán\")\n",
        "  plt.ylabel(\"Thực tế\")\n",
        "  plt.title(\"Ma trận nhầm lẫn\")\n",
        "  plt.tight_layout()\n",
        "  plt.show()\n",
        "\n",
        "evaluate_model(X, y, tree)"
      ],
      "metadata": {
        "id": "U_rZ8UunqQbq",
        "colab": {
          "base_uri": "https://localhost:8080/",
          "height": 842
        },
        "outputId": "d0bc6672-747f-44a7-e580-e42f64ff5bd1"
      },
      "execution_count": 10,
      "outputs": [
        {
          "output_type": "stream",
          "name": "stdout",
          "text": [
            "\n",
            "Độ chính xác: 0.8333\n",
            "\n",
            "Báo cáo phân loại:\n",
            "              precision    recall  f1-score   support\n",
            "\n",
            "   Chấp nhận       0.73      0.92      0.81        12\n",
            "     Từ chối       0.93      0.78      0.85        18\n",
            "\n",
            "    accuracy                           0.83        30\n",
            "   macro avg       0.83      0.85      0.83        30\n",
            "weighted avg       0.85      0.83      0.84        30\n",
            "\n"
          ]
        },
        {
          "output_type": "display_data",
          "data": {
            "text/plain": [
              "<Figure size 800x600 with 2 Axes>"
            ],
            "image/png": "[encoded data removed]"
          },
          "metadata": {}
        }
      ]
    },
    {
      "cell_type": "markdown",
      "metadata": {
        "id": "v65iGApUqELx"
      },
      "source": [
        "# Day 23"
      ]
    },
    {
      "cell_type": "markdown",
      "metadata": {
        "id": "Uk0wHdXpuMKe"
      },
      "source": [
        " ## Bài tập xác suất thống kê 😭"
      ]
    },
    {
      "cell_type": "code",
      "execution_count": null,
      "metadata": {
        "id": "kqhc2257_m3K"
      },
      "outputs": [],
      "source": []
    },
    {
      "cell_type": "markdown",
      "metadata": {
        "id": "EBSAg7H4qG7T"
      },
      "source": [
        "# Day 24"
      ]
    },
    {
      "cell_type": "markdown",
      "metadata": {
        "id": "NJ5KIVfet14W"
      },
      "source": [
        "## Lý thuyết"
      ]
    },
    {
      "cell_type": "code",
      "execution_count": null,
      "metadata": {
        "id": "SQmMu4bKVnkG"
      },
      "outputs": [],
      "source": []
    },
    {
      "cell_type": "markdown",
      "metadata": {
        "id": "Nqxz1cEUt4om"
      },
      "source": [
        "## Bài Tập 1: Xác Suất Cơ Bản"
      ]
    },
    {
      "cell_type": "code",
      "execution_count": null,
      "metadata": {
        "id": "Kr8tdNrRt58W"
      },
      "outputs": [],
      "source": [
        "def calculate_probability(event_occurences, total_trials):\n",
        "  \"\"\"\n",
        "  Tính toán xác suất của một sự kiện\n",
        "  Parameters:\n",
        "  event_occurences (int): Số lần sự kiện xảy ra\n",
        "  total_trials (int): Tổng số lần thử nghiệm\n",
        "\n",
        "  Returns:\n",
        "  float: Xác suất của sự kiện.\n",
        "  \"\"\"\n",
        "  pass\n",
        "\n",
        "event_occurences = 5\n",
        "total_trials = 20\n",
        "probability = calculate_probability(event_occurrences, total_trials)\n",
        "print(f\"Xác suất của sự kiện là: {probability}\")"
      ]
    },
    {
      "cell_type": "markdown",
      "metadata": {
        "id": "UXNLnWSyt6yW"
      },
      "source": [
        "## Bài Tập 2: Xác Suất Có Điều Kiện"
      ]
    },
    {
      "cell_type": "code",
      "execution_count": null,
      "metadata": {
        "id": "Cg9Q4Nvnt_WV"
      },
      "outputs": [],
      "source": [
        "def calculate_conditional_probability(P_A_and_B, P_B):\n",
        "  \"\"\"\n",
        "  Tính xác xuất có điều kiện P(A|B)\n",
        "\n",
        "  Parameters:\n",
        "  P_A_and_B (float): Xác suất của sự kiện A và B xảy ra.\n",
        "  P_A (float): Xác suất của sự kiện A.\n",
        "\n",
        "  Returns:\n",
        "  float : Xác suất có điều kiện P(B|A).\n",
        "  \"\"\"\n",
        "  pass\n",
        "\n",
        "# Ví dụ sử dụng\n",
        "P_A_and_B = 0.2\n",
        "P_A = 0.5\n",
        "P_B_given_A = calculate_conditional_probability(P_A_and_B, P_A)\n",
        "print(f\"Xác suất có điều kiện P(B|A) là: {P_B_given_A}\")"
      ]
    },
    {
      "cell_type": "markdown",
      "metadata": {
        "id": "It4Sekdnt_nX"
      },
      "source": [
        "## Bài Tập 3: Covariance và Correlation"
      ]
    },
    {
      "cell_type": "code",
      "execution_count": null,
      "metadata": {
        "id": "lHBslHMsuDku"
      },
      "outputs": [],
      "source": [
        "import numpy as np\n",
        "\n",
        "def calculate_covariance (X , Y ) :\n",
        "  \"\"\"\n",
        "  Tính covariance giữa hai biến X và Y.\n",
        "\n",
        "  Parameters :\n",
        "  X ( list ): Danh sách các giá trị của biến X.\n",
        "  Y ( list ): Danh sách các giá trị của biến Y.\n",
        "\n",
        "  Returns :\n",
        "  float : Covariance giữa X và Y.\n",
        "  \"\"\"\n",
        "   return # Your code here #\n",
        "\n",
        " def calculate_correlation (X , Y ) :\n",
        "  \"\"\"\n",
        "  Tính correlation giữa hai biến X và Y.\n",
        "\n",
        "  Parameters :\n",
        "  X ( list ): Danh sách các giá trị của biến X.\n",
        "  Y ( list ): Danh sách các giá trị của biến Y.\n",
        "\n",
        "  Returns :\n",
        "  float : Correlation giữa X và Y.\n",
        "  \"\"\"\n",
        "  return # Your code here #\n",
        "\n",
        "# Ví dụ sử dụng\n",
        "X = [2 , 4 , 6 , 8 , 10]\n",
        "Y = [1 , 3 , 5 , 7 , 9]\n",
        "covariance = calculate_covariance (X , Y )\n",
        "correlation = calculate_correlation (X , Y )\n",
        "print ( f\" Covariance giữa X và Y là: { covariance }\")\n",
        "print ( f\" Correlation giữa X và Y là: { correlation }\")"
      ]
    },
    {
      "cell_type": "markdown",
      "metadata": {
        "id": "uOJgVN9puCt2"
      },
      "source": []
    },
    {
      "cell_type": "markdown",
      "metadata": {
        "id": "h3uX87QLqIM9"
      },
      "source": [
        "# Day 25: Correlation/Correlation Coefficient"
      ]
    },
    {
      "cell_type": "markdown",
      "metadata": {
        "id": "tEn282Ivti8H"
      },
      "source": [
        "## Bài Tập 1: Mối Quan Hệ Giữa Quảng Cáo và Doanh Thu"
      ]
    },
    {
      "cell_type": "code",
      "execution_count": null,
      "metadata": {
        "id": "xZPTB4Gm_8KF"
      },
      "outputs": [],
      "source": []
    },
    {
      "cell_type": "markdown",
      "metadata": {
        "id": "adb9JlkHtnS1"
      },
      "source": [
        "## Bài Tập 2: Ảnh Hưởng Của Thời Tiết Đến Doanh Số Cà Phê\n"
      ]
    },
    {
      "cell_type": "code",
      "execution_count": null,
      "metadata": {
        "id": "mEs9qCoFunO1"
      },
      "outputs": [],
      "source": []
    }
  ],
  "metadata": {
    "colab": {
      "provenance": [],
      "include_colab_link": true
    },
    "kernelspec": {
      "display_name": "Python 3",
      "name": "python3"
    },
    "language_info": {
      "name": "python"
    }
  },
  "nbformat": 4,
  "nbformat_minor": 0
}