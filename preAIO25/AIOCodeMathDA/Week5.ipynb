{
  "cells": [
    {
      "cell_type": "markdown",
      "metadata": {
        "id": "view-in-github",
        "colab_type": "text"
      },
      "source": [
        "<a href=\"https://colab.research.google.com/github/mylethidiem/zero-to-hero/blob/main/preAIO25/AIOCodeMathDA/Week5.ipynb\" target=\"_parent\"><img src=\"https://colab.research.google.com/assets/colab-badge.svg\" alt=\"Open In Colab\"/></a>"
      ]
    },
    {
      "cell_type": "markdown",
      "source": [
        "[AIO2025] LẬP TRÌNH - TOÁN - DATA ANALYSIS \\\n",
        "LÊ THỊ DIỄM MY"
      ],
      "metadata": {
        "id": "DrhEUyXqp0jW"
      }
    },
    {
      "cell_type": "markdown",
      "source": [
        "# Day 21"
      ],
      "metadata": {
        "id": "04uSCDbApxxZ"
      }
    },
    {
      "cell_type": "code",
      "execution_count": null,
      "metadata": {
        "id": "JZJH1v68YX4M"
      },
      "outputs": [],
      "source": [
        "class TreeNode: # A node in tree\n",
        "  def __init__(self, value):\n",
        "    self.value = value\n",
        "    self.child = []\n",
        "\n",
        "  def add_child(self, child):\n",
        "    self.child.append(child)\n",
        "\n",
        "  def remove_child(self, child):\n",
        "    self.child = [c for c in self.child if c != child]\n",
        "\n",
        "  def print_tree(self, level=0):\n",
        "    print(\" \" * (level * 4) + \"|--\" + self.value)\n",
        "    for child in self.child:\n",
        "      child.print_tree(level + 1)"
      ]
    },
    {
      "cell_type": "code",
      "source": [
        "# A Tree contains Nodes\n",
        "class Tree:\n",
        "  def __init__(self, root_value):\n",
        "    self.root = TreeNode(root_value)\n",
        "\n",
        "  def find(self, value, node=None):\n",
        "    if node == None:\n",
        "      node = self.root #\n",
        "    if node.value == value:\n",
        "      return node # found\n",
        "\n",
        "    for child in node.child:\n",
        "      found = self.find(value, child)\n",
        "      if found:\n",
        "        return found\n",
        "\n",
        "    return None\n",
        "\n",
        "  def insert(self, parent_value, child_value):\n",
        "    # find parent node then add child by children value\n",
        "    parent_node = self.find(parent_value)\n",
        "    if parent_node:\n",
        "      parent_node.add_child(TreeNode(child_value))\n",
        "    else:\n",
        "      print(f\"The parent node with value {parent_value} does not exist!\")\n",
        "\n",
        "  def print_tree(self):\n",
        "    self.root.print_tree()\n"
      ],
      "metadata": {
        "id": "NTdopuluQne8"
      },
      "execution_count": null,
      "outputs": []
    },
    {
      "cell_type": "markdown",
      "source": [
        "[Breadth - First Search (BFS)](https://viblo.asia/p/data-structure-algorithm-graph-algorithms-breadth-first-search-bfs-gwd43kMM4X9)\n"
      ],
      "metadata": {
        "id": "tUgbx6xbTINn"
      }
    },
    {
      "cell_type": "code",
      "source": [
        "from collections import deque\n",
        "\n",
        "class BFSTree:\n",
        "  def __init__(self, root_value):\n",
        "    self.root = TreeNode(root_value)\n",
        "\n",
        "  def traverse_bfs(self):\n",
        "    if not self.root:\n",
        "      return\n",
        "\n",
        "    queue = deque([self.root])\n",
        "    while queue:\n",
        "      node = queue.popleft()\n",
        "      print(node.value, end=\" \")\n",
        "      for child in node.child:\n",
        "        queue.append(child)\n",
        "    print()"
      ],
      "metadata": {
        "id": "Kd2Y08PfTOpO"
      },
      "execution_count": null,
      "outputs": []
    },
    {
      "cell_type": "code",
      "source": [
        "#initialize tree\n",
        "tree = BFSTree(\"A\")\n",
        "\n",
        "# Add child node into tree\n",
        "tree.root.add_child(TreeNode(\"B\"))\n",
        "tree.root.add_child(TreeNode(\"C\"))\n",
        "\n",
        "tree.root.child[0].add_child(TreeNode(\"D\"))\n",
        "tree.root.child[0].add_child(TreeNode(\"E\"))\n",
        "tree.root.child[1].add_child(TreeNode(\"F\"))\n",
        "\n",
        "# print tree base level\n",
        "print(\"Root: \")\n",
        "tree.root.print_tree()\n",
        "print(\"===========================\")\n",
        "# BFS Tree Traversal\n",
        "print(\"\\n BFS Tree Traversal: \")\n",
        "tree.traverse_bfs()"
      ],
      "metadata": {
        "colab": {
          "base_uri": "https://localhost:8080/"
        },
        "id": "s5JfcTpSM3NW",
        "outputId": "2ed8b4b1-c9ec-4974-8dcc-1c6dac38061d"
      },
      "execution_count": null,
      "outputs": [
        {
          "output_type": "stream",
          "name": "stdout",
          "text": [
            "Root: \n",
            "|--A\n",
            "    |--B\n",
            "        |--D\n",
            "        |--E\n",
            "    |--C\n",
            "        |--F\n",
            "===========================\n",
            "\n",
            " BFS Tree Traversal: \n",
            "A B C D E F \n"
          ]
        }
      ]
    },
    {
      "cell_type": "markdown",
      "source": [
        "## Exercise"
      ],
      "metadata": {
        "id": "QfvMirAAM4xX"
      }
    },
    {
      "cell_type": "code",
      "source": [
        "#1\n",
        "tree  = Tree(\"Company\")\n",
        "\n",
        "tree.root.add_child(TreeNode(\"HR\"))\n",
        "tree.root.add_child(TreeNode(\"IT\"))\n",
        "tree.root.add_child(TreeNode(\"Finance\"))\n",
        "\n",
        "hr_node = tree.find(\"HR\")\n",
        "if hr_node:\n",
        "  hr_node.add_child(TreeNode(\"Alice\"))\n",
        "  hr_node.add_child(TreeNode(\"Bob\"))\n",
        "\n",
        "it_node = tree.find(\"IT\")\n",
        "if it_node:\n",
        "  it_node.add_child(TreeNode(\"Charlie\"))\n",
        "  it_node.add_child(TreeNode(\"David\"))\n",
        "\n",
        "# Tree\n",
        "tree.root.print_tree()"
      ],
      "metadata": {
        "colab": {
          "base_uri": "https://localhost:8080/"
        },
        "id": "zioJHTTRTk3D",
        "outputId": "e5572497-ad37-4d4e-a80c-545d0951c7db"
      },
      "execution_count": null,
      "outputs": [
        {
          "output_type": "stream",
          "name": "stdout",
          "text": [
            "|--Company\n",
            "    |--HR\n",
            "        |--Alice\n",
            "        |--Bob\n",
            "    |--IT\n",
            "        |--Charlie\n",
            "        |--David\n",
            "    |--Finance\n"
          ]
        }
      ]
    },
    {
      "cell_type": "code",
      "source": [
        "#2\n",
        "# A Tree contains Nodes\n",
        "class TreeBFS:\n",
        "  def __init__(self, root_value):\n",
        "    self.root = TreeNode(root_value)\n",
        "\n",
        "  def find(self, value, node=None):\n",
        "    if node == None:\n",
        "      node = self.root #\n",
        "    if node.value == value:\n",
        "      return node # found\n",
        "\n",
        "    for child in node.child:\n",
        "      found = self.find(value, child)\n",
        "      if found:\n",
        "        return found\n",
        "\n",
        "    return None\n",
        "\n",
        "  def insert(self, parent_value, child_value):\n",
        "    # find parent node then add child by children value\n",
        "    parent_node = self.find(parent_value)\n",
        "    if parent_node:\n",
        "      parent_node.add_child(TreeNode(child_value))\n",
        "    else:\n",
        "      print(f\"The parent node with value {parent_value} does not exist!\")\n",
        "\n",
        "  def print_tree(self):\n",
        "    self.root.print_tree()\n",
        "\n",
        "  def traverse_bfs(self):\n",
        "    if not self.root:\n",
        "      return\n",
        "\n",
        "    queue = deque([self.root])\n",
        "    while queue:\n",
        "      node = queue.popleft()\n",
        "      print(node.value, end=\" \")\n",
        "      for child in node.child:\n",
        "        queue.append(child)\n",
        "    print()\n",
        "\n",
        "  def search_bfs(self, value):\n",
        "    if not self.root:\n",
        "      return False\n",
        "\n",
        "    queue = deque([self.root])\n",
        "    while queue:\n",
        "      node = queue.popleft()\n",
        "      if node.value == value:\n",
        "        return True\n",
        "      for child in node.child:\n",
        "        queue.append(child)\n",
        "    return False\n",
        "\n",
        "  def tree_height2(self, node=None):\n",
        "    if node is None:\n",
        "        if not self.root:  # Xử lý cây rỗng\n",
        "            return 0\n",
        "        node = self.root\n",
        "\n",
        "    max_height = 1  # Mỗi node tính là height = 1\n",
        "    for child in node.child:  # Duyệt mọi nhánh con\n",
        "      #Duyệt qua TẤT CẢ node con và tính height theo nhánh sâu nhất\n",
        "        current_height = self.tree_height2(child) + 1\n",
        "         #Luôn giữ giá trị height lớn nhất từ các nhánh\n",
        "        if current_height > max_height:\n",
        "            max_height = current_height\n",
        "    return max_height\n",
        "\n",
        "\n",
        "tree  = TreeBFS(\"Company\")\n",
        "\n",
        "tree.root.add_child(TreeNode(\"HR\"))\n",
        "tree.root.add_child(TreeNode(\"IT\"))\n",
        "tree.root.add_child(TreeNode(\"Finance\"))\n",
        "\n",
        "hr_node = tree.find(\"HR\")\n",
        "if hr_node:\n",
        "  hr_node.add_child(TreeNode(\"Alice\"))\n",
        "  hr_node.add_child(TreeNode(\"Bob\"))\n",
        "\n",
        "it_node = tree.find(\"IT\")\n",
        "if it_node:\n",
        "  it_node.add_child(TreeNode(\"Charlie\"))\n",
        "  it_node.add_child(TreeNode(\"David\"))\n",
        "\n",
        "# Tree\n",
        "tree.traverse_bfs()"
      ],
      "metadata": {
        "colab": {
          "base_uri": "https://localhost:8080/"
        },
        "id": "KEXAWIJ8TmzK",
        "outputId": "d0c1ceb0-a23d-418e-efe6-b3b8a9254822"
      },
      "execution_count": null,
      "outputs": [
        {
          "output_type": "stream",
          "name": "stdout",
          "text": [
            "Company HR IT Finance Alice Bob Charlie David \n"
          ]
        }
      ]
    },
    {
      "cell_type": "code",
      "source": [
        "#3\n",
        "value = \"Alice\"\n",
        "value1 = \"Harry\"\n",
        "value2 = \"HR\"\n",
        "value3 = \"Company\"\n",
        "\n",
        "print(f\"Find {value} result: {tree.search_bfs(value)}\")\n",
        "print(f\"Find {value1} result: {tree.search_bfs(value1)}\")\n",
        "print(f\"Find {value2} result: {tree.search_bfs(value2)}\")\n",
        "print(f\"Find {value3} result: {tree.search_bfs(value3)}\")"
      ],
      "metadata": {
        "colab": {
          "base_uri": "https://localhost:8080/"
        },
        "id": "M6ONkDXSTnjL",
        "outputId": "1426a09f-e8f2-4778-fd48-a0180166ac66"
      },
      "execution_count": null,
      "outputs": [
        {
          "output_type": "stream",
          "name": "stdout",
          "text": [
            "Find Alice result: True\n",
            "Find Harry result: False\n",
            "Find HR result: True\n",
            "Find Company result: True\n"
          ]
        }
      ]
    },
    {
      "cell_type": "code",
      "source": [
        "#4 wrong answer\n",
        "tree.traverse_bfs()\n",
        "print(tree.tree_height2())"
      ],
      "metadata": {
        "colab": {
          "base_uri": "https://localhost:8080/"
        },
        "id": "pqQJHOd-TpKa",
        "outputId": "f4184b1d-f1db-4ac8-9ff5-e4bd7107eef3"
      },
      "execution_count": null,
      "outputs": [
        {
          "output_type": "stream",
          "name": "stdout",
          "text": [
            "Company HR IT Finance Alice Bob Charlie David \n",
            "3\n"
          ]
        }
      ]
    },
    {
      "cell_type": "markdown",
      "source": [
        "# Day 22"
      ],
      "metadata": {
        "id": "QMmVLEXZqBrK"
      }
    },
    {
      "cell_type": "markdown",
      "source": [
        "## Tree data structure: Decision Tree"
      ],
      "metadata": {
        "id": "ceYaN_bruZUP"
      }
    },
    {
      "cell_type": "code",
      "source": [
        "# Decision tree use Gini Index\n",
        "import numpy as np\n",
        "\n",
        "def gini_index(groups, classes):\n",
        "  \"\"\"\n",
        "  Calculate the Gini index of a population\n",
        "  \"\"\"\n",
        "  total_samples = float(sum([len(group) for group in groups]))\n",
        "  gini = 0.0\n",
        "  for group in groups:\n",
        "    size = float(len(group))\n",
        "    if size == 0:\n",
        "      continue\n",
        "    score = sum([(row[-1] == c) for row in group for c in classes]) / size\n",
        "    gini += (1.0 - sum([score ** 2 for c in classes])) * (size / total_samples)\n",
        "  return gini"
      ],
      "metadata": {
        "id": "DXJ-fswo6sA1"
      },
      "execution_count": 1,
      "outputs": []
    },
    {
      "cell_type": "code",
      "source": [
        "# Example\n",
        "dataset = [\n",
        "    [2.8, 'Yes'],\n",
        "    [1.2, 'No'],\n",
        "    [3.6, 'Yes'],\n",
        "    [4.5, 'No'],\n",
        "    [5.1, 'Yes']\n",
        "]"
      ],
      "metadata": {
        "id": "pwOOO2OzMzvi"
      },
      "execution_count": 2,
      "outputs": []
    },
    {
      "cell_type": "code",
      "source": [
        "# Divide the dataset by a threshold value\n",
        "def split_data(dataset, feature_index, threshold):\n",
        "  left = [row for row in dataset if row[feature_index] < threshold]\n",
        "  right = [row for row in dataset if row[feature_index] >= threshold]\n",
        "  return left, right"
      ],
      "metadata": {
        "id": "jAOnARyKNPP5"
      },
      "execution_count": 3,
      "outputs": []
    },
    {
      "cell_type": "code",
      "source": [
        "# Example of calculating Gini for a data split\n",
        "groups = split_data(dataset, 0, 3.0)\n",
        "classes = ['Yes', 'No']\n",
        "gini = gini_index(groups, classes)\n",
        "print(f\"Gini index: {gini:.4f}\")"
      ],
      "metadata": {
        "id": "c6rosKhCNykp",
        "outputId": "634051f1-eaa4-438b-b886-e60d9c1b7bfe",
        "colab": {
          "base_uri": "https://localhost:8080/"
        }
      },
      "execution_count": 4,
      "outputs": [
        {
          "output_type": "stream",
          "name": "stdout",
          "text": [
            "Gini index: -1.0000\n"
          ]
        }
      ]
    },
    {
      "cell_type": "markdown",
      "source": [
        "Decision use OOP"
      ],
      "metadata": {
        "id": "rlZV_QmwO07x"
      }
    },
    {
      "cell_type": "code",
      "source": [
        "# TreeNode store information about nodes in the tree.\n",
        "class TreeNode:\n",
        "  def __init__(self, feature_index=None, threshold=None, left=None, right=None, label=None) -> None:\n",
        "    \"\"\"\n",
        "    Khởi tạo một nút trong cây quyết định:\n",
        "    - feature_index: Chỉ số thuộc tính được chọn để chia\n",
        "    - threshold: Ngưỡng giá trị để phân chia dữ liệu\n",
        "    - left: Nhánh trái của cây\n",
        "    - right: Nhánh xphải của cây\n",
        "    - label: Nhãn dự đoán nếu là nút lá\n",
        "    \"\"\"\n",
        "    self.feature_index = feature_index\n",
        "    self.threshold = threshold\n",
        "    self.left = left\n",
        "    self.right = right\n",
        "    self.label = label\n"
      ],
      "metadata": {
        "id": "2ZZgbJQ3O-Y2"
      },
      "execution_count": null,
      "outputs": []
    },
    {
      "cell_type": "code",
      "source": [
        "import numpy as np\n",
        "\n",
        "class DecisionTree:\n",
        "  def __init__(self, max_depth=3) -> None:\n",
        "    \"\"\"\n",
        "    Khởi tạo cây quyết định với độ sâu tối đa\n",
        "    \"\"\"\n",
        "    self.max_depth = max_depth\n",
        "    self.root = None\n",
        "\n",
        "  def gini_index(self, groups, classes):\n",
        "    \"\"\"\n",
        "    Tính chỉ số Gini cho một tập hợp\n",
        "    \"\"\"\n",
        "    total_samples = sum([len(group) for group in groups])\n",
        "    gini = 0.0\n",
        "    for group in groups:\n",
        "      size = len(group)\n",
        "      if size == 0.0:\n",
        "        continue\n",
        "      score = 0.0\n",
        "      for class_val in classes:\n",
        "        proportion = [row[-1] for row in group].count(class_val) / size\n",
        "        score += proportion ** 2\n",
        "        gini += (1.0 - score) * (size / total_samples)\n",
        "    return gini\n",
        "\n",
        "  def split_data(self, dataset, feature_index, threshold):\n",
        "    \"\"\"\n",
        "    Chia tập dữ liệu dựa trên một thu ộc tính và ngưỡng giá trị\n",
        "    \"\"\"\n",
        "    left = [row for row in dataset if row[feature_index] < threshold]\n",
        "    right = [row for row in dataset if row[feature_index] >= threshold]\n",
        "\n",
        "    return left, right\n",
        "\n",
        "  def best_split(self, dataset):\n",
        "    \"\"\"\n",
        "    Tìm thuộc tính tốt nhất để chia tập dữ liệu\n",
        "    \"\"\"\n",
        "    class_values = list(set(row[-1] for row in dataset))\n",
        "    best_index,  best_threshold, best_score, best_groups = None, None, float('inf'), None\n",
        "\n",
        "    for index in range(len(dataset[0]) - 1):\n",
        "      for row in dataset:\n",
        "        groups = self.split_data(dataset, index, row[index])\n",
        "        gini = self.gini_index(groups, class_values)\n",
        "        if gini < best_score:\n",
        "          best_index, best_threshold, best_score, best_groups = index,  row[index], gini, groups\n",
        "    return best_index, best_threshold, best_groups\n",
        "\n",
        "  def build_tree(self, dataset, depth)\n",
        "    \"\"\"\n",
        "    Xây dựng cây quyết định để quy\n",
        "    \"\"\"\n",
        "    class_values = [row[-1] for row in dataset]\n",
        "    # Stop conidition: if only have 1 layer or get maximum depth\n",
        "    if len(set(class_values)) == 1 or depth >= self.max_depth:\n",
        "      return TreeNode(label=max(set(class_values), key=class_values.count))\n",
        "\n",
        "    # Find the best attribute and threshold value to split the data\n",
        "\n",
        "    # If cannot devide, create Leaf Node\n",
        "    if not left or not right:\n",
        "      return TreeNode(label=max(set(class_values), key=class_values.count))\n",
        "\n",
        "\n"
      ],
      "metadata": {
        "id": "Vn7p4XT-RUhf"
      },
      "execution_count": null,
      "outputs": []
    },
    {
      "cell_type": "code",
      "source": [],
      "metadata": {
        "id": "GwMsqvZHdRP9"
      },
      "execution_count": null,
      "outputs": []
    },
    {
      "cell_type": "code",
      "source": [],
      "metadata": {
        "id": "BA-7R7ZmcmJ2"
      },
      "execution_count": null,
      "outputs": []
    },
    {
      "cell_type": "markdown",
      "source": [
        "## Bài 1: Tính chỉ số Gini cho một tập dữ liệu"
      ],
      "metadata": {
        "id": "iHS3MNcpuhfX"
      }
    },
    {
      "cell_type": "code",
      "execution_count": null,
      "metadata": {
        "id": "L9QZbsqlXKvu"
      },
      "outputs": [],
      "source": []
    },
    {
      "cell_type": "markdown",
      "source": [
        "## Bài 2: Mở rộng cây quyết định"
      ],
      "metadata": {
        "id": "hdV7gAz2ujcG"
      }
    },
    {
      "cell_type": "code",
      "source": [],
      "metadata": {
        "id": "lbD-VlrKujFW"
      },
      "execution_count": null,
      "outputs": []
    },
    {
      "cell_type": "markdown",
      "source": [
        "# Day 23"
      ],
      "metadata": {
        "id": "v65iGApUqELx"
      }
    },
    {
      "cell_type": "markdown",
      "source": [
        " ## Bài tập xác suất thống kê 😭"
      ],
      "metadata": {
        "id": "Uk0wHdXpuMKe"
      }
    },
    {
      "cell_type": "code",
      "execution_count": null,
      "metadata": {
        "id": "kqhc2257_m3K"
      },
      "outputs": [],
      "source": []
    },
    {
      "cell_type": "markdown",
      "source": [
        "# Day 24"
      ],
      "metadata": {
        "id": "EBSAg7H4qG7T"
      }
    },
    {
      "cell_type": "markdown",
      "source": [
        "## Lý thuyết"
      ],
      "metadata": {
        "id": "NJ5KIVfet14W"
      }
    },
    {
      "cell_type": "code",
      "execution_count": null,
      "metadata": {
        "id": "SQmMu4bKVnkG"
      },
      "outputs": [],
      "source": []
    },
    {
      "cell_type": "markdown",
      "source": [
        "## Bài Tập 1: Xác Suất Cơ Bản"
      ],
      "metadata": {
        "id": "Nqxz1cEUt4om"
      }
    },
    {
      "cell_type": "code",
      "source": [],
      "metadata": {
        "id": "Kr8tdNrRt58W"
      },
      "execution_count": null,
      "outputs": []
    },
    {
      "cell_type": "markdown",
      "source": [
        "## Bài Tập 2: Xác Suất Có Điều Kiện"
      ],
      "metadata": {
        "id": "UXNLnWSyt6yW"
      }
    },
    {
      "cell_type": "code",
      "source": [],
      "metadata": {
        "id": "Cg9Q4Nvnt_WV"
      },
      "execution_count": null,
      "outputs": []
    },
    {
      "cell_type": "markdown",
      "source": [
        "## Bài Tập 3: Covariance và Correlation"
      ],
      "metadata": {
        "id": "It4Sekdnt_nX"
      }
    },
    {
      "cell_type": "code",
      "source": [],
      "metadata": {
        "id": "lHBslHMsuDku"
      },
      "execution_count": null,
      "outputs": []
    },
    {
      "cell_type": "markdown",
      "source": [],
      "metadata": {
        "id": "uOJgVN9puCt2"
      }
    },
    {
      "cell_type": "markdown",
      "source": [
        "# Day 25"
      ],
      "metadata": {
        "id": "h3uX87QLqIM9"
      }
    },
    {
      "cell_type": "markdown",
      "source": [
        "## Bài Tập 1: Mối Quan Hệ Giữa Quảng Cáo và Doanh Thu"
      ],
      "metadata": {
        "id": "tEn282Ivti8H"
      }
    },
    {
      "cell_type": "code",
      "execution_count": null,
      "metadata": {
        "id": "xZPTB4Gm_8KF"
      },
      "outputs": [],
      "source": []
    },
    {
      "cell_type": "markdown",
      "source": [
        "## Bài Tập 2: Ảnh Hưởng Của Thời Tiết Đến Doanh Số Cà Phê\n"
      ],
      "metadata": {
        "id": "adb9JlkHtnS1"
      }
    },
    {
      "cell_type": "code",
      "source": [],
      "metadata": {
        "id": "mEs9qCoFunO1"
      },
      "execution_count": null,
      "outputs": []
    }
  ],
  "metadata": {
    "colab": {
      "provenance": [],
      "include_colab_link": true
    },
    "kernelspec": {
      "display_name": "Python 3",
      "name": "python3"
    },
    "language_info": {
      "name": "python"
    }
  },
  "nbformat": 4,
  "nbformat_minor": 0
}