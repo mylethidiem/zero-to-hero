{
  "cells": [
    {
      "cell_type": "markdown",
      "metadata": {
        "id": "view-in-github",
        "colab_type": "text"
      },
      "source": [
        "<a href=\"https://colab.research.google.com/github/mylethidiem/zero-to-hero/blob/main/preAIO25/AIOCodeMathDA/Week5.ipynb\" target=\"_parent\"><img src=\"https://colab.research.google.com/assets/colab-badge.svg\" alt=\"Open In Colab\"/></a>"
      ]
    },
    {
      "cell_type": "markdown",
      "metadata": {
        "id": "DrhEUyXqp0jW"
      },
      "source": [
        "[AIO2025] LẬP TRÌNH - TOÁN - DATA ANALYSIS \\\n",
        "LÊ THỊ DIỄM MY"
      ]
    },
    {
      "cell_type": "markdown",
      "metadata": {
        "id": "04uSCDbApxxZ"
      },
      "source": [
        "# Day 21"
      ]
    },
    {
      "cell_type": "code",
      "execution_count": null,
      "metadata": {
        "id": "JZJH1v68YX4M"
      },
      "outputs": [],
      "source": [
        "class TreeNode: # A node in tree\n",
        "  def __init__(self, value):\n",
        "    self.value = value\n",
        "    self.child = []\n",
        "\n",
        "  def add_child(self, child):\n",
        "    self.child.append(child)\n",
        "\n",
        "  def remove_child(self, child):\n",
        "    self.child = [c for c in self.child if c != child]\n",
        "\n",
        "  def print_tree(self, level=0):\n",
        "    print(\" \" * (level * 4) + \"|--\" + self.value)\n",
        "    for child in self.child:\n",
        "      child.print_tree(level + 1)"
      ]
    },
    {
      "cell_type": "code",
      "execution_count": null,
      "metadata": {
        "id": "NTdopuluQne8"
      },
      "outputs": [],
      "source": [
        "# A Tree contains Nodes\n",
        "class Tree:\n",
        "  def __init__(self, root_value):\n",
        "    self.root = TreeNode(root_value)\n",
        "\n",
        "  def find(self, value, node=None):\n",
        "    if node == None:\n",
        "      node = self.root #\n",
        "    if node.value == value:\n",
        "      return node # found\n",
        "\n",
        "    for child in node.child:\n",
        "      found = self.find(value, child)\n",
        "      if found:\n",
        "        return found\n",
        "\n",
        "    return None\n",
        "\n",
        "  def insert(self, parent_value, child_value):\n",
        "    # find parent node then add child by children value\n",
        "    parent_node = self.find(parent_value)\n",
        "    if parent_node:\n",
        "      parent_node.add_child(TreeNode(child_value))\n",
        "    else:\n",
        "      print(f\"The parent node with value {parent_value} does not exist!\")\n",
        "\n",
        "  def print_tree(self):\n",
        "    self.root.print_tree()\n"
      ]
    },
    {
      "cell_type": "markdown",
      "metadata": {
        "id": "tUgbx6xbTINn"
      },
      "source": [
        "[Breadth - First Search (BFS)](https://viblo.asia/p/data-structure-algorithm-graph-algorithms-breadth-first-search-bfs-gwd43kMM4X9)\n"
      ]
    },
    {
      "cell_type": "code",
      "execution_count": null,
      "metadata": {
        "id": "Kd2Y08PfTOpO"
      },
      "outputs": [],
      "source": [
        "from collections import deque\n",
        "\n",
        "class BFSTree:\n",
        "  def __init__(self, root_value):\n",
        "    self.root = TreeNode(root_value)\n",
        "\n",
        "  def traverse_bfs(self):\n",
        "    if not self.root:\n",
        "      return\n",
        "\n",
        "    queue = deque([self.root])\n",
        "    while queue:\n",
        "      node = queue.popleft()\n",
        "      print(node.value, end=\" \")\n",
        "      for child in node.child:\n",
        "        queue.append(child)\n",
        "    print()"
      ]
    },
    {
      "cell_type": "code",
      "execution_count": null,
      "metadata": {
        "colab": {
          "base_uri": "https://localhost:8080/"
        },
        "id": "s5JfcTpSM3NW",
        "outputId": "2ed8b4b1-c9ec-4974-8dcc-1c6dac38061d"
      },
      "outputs": [
        {
          "name": "stdout",
          "output_type": "stream",
          "text": [
            "Root: \n",
            "|--A\n",
            "    |--B\n",
            "        |--D\n",
            "        |--E\n",
            "    |--C\n",
            "        |--F\n",
            "===========================\n",
            "\n",
            " BFS Tree Traversal: \n",
            "A B C D E F \n"
          ]
        }
      ],
      "source": [
        "#initialize tree\n",
        "tree = BFSTree(\"A\")\n",
        "\n",
        "# Add child node into tree\n",
        "tree.root.add_child(TreeNode(\"B\"))\n",
        "tree.root.add_child(TreeNode(\"C\"))\n",
        "\n",
        "tree.root.child[0].add_child(TreeNode(\"D\"))\n",
        "tree.root.child[0].add_child(TreeNode(\"E\"))\n",
        "tree.root.child[1].add_child(TreeNode(\"F\"))\n",
        "\n",
        "# print tree base level\n",
        "print(\"Root: \")\n",
        "tree.root.print_tree()\n",
        "print(\"===========================\")\n",
        "# BFS Tree Traversal\n",
        "print(\"\\n BFS Tree Traversal: \")\n",
        "tree.traverse_bfs()"
      ]
    },
    {
      "cell_type": "markdown",
      "metadata": {
        "id": "QfvMirAAM4xX"
      },
      "source": [
        "## Exercise"
      ]
    },
    {
      "cell_type": "code",
      "execution_count": null,
      "metadata": {
        "colab": {
          "base_uri": "https://localhost:8080/"
        },
        "id": "zioJHTTRTk3D",
        "outputId": "e5572497-ad37-4d4e-a80c-545d0951c7db"
      },
      "outputs": [
        {
          "name": "stdout",
          "output_type": "stream",
          "text": [
            "|--Company\n",
            "    |--HR\n",
            "        |--Alice\n",
            "        |--Bob\n",
            "    |--IT\n",
            "        |--Charlie\n",
            "        |--David\n",
            "    |--Finance\n"
          ]
        }
      ],
      "source": [
        "#1\n",
        "tree  = Tree(\"Company\")\n",
        "\n",
        "tree.root.add_child(TreeNode(\"HR\"))\n",
        "tree.root.add_child(TreeNode(\"IT\"))\n",
        "tree.root.add_child(TreeNode(\"Finance\"))\n",
        "\n",
        "hr_node = tree.find(\"HR\")\n",
        "if hr_node:\n",
        "  hr_node.add_child(TreeNode(\"Alice\"))\n",
        "  hr_node.add_child(TreeNode(\"Bob\"))\n",
        "\n",
        "it_node = tree.find(\"IT\")\n",
        "if it_node:\n",
        "  it_node.add_child(TreeNode(\"Charlie\"))\n",
        "  it_node.add_child(TreeNode(\"David\"))\n",
        "\n",
        "# Tree\n",
        "tree.root.print_tree()"
      ]
    },
    {
      "cell_type": "code",
      "execution_count": null,
      "metadata": {
        "colab": {
          "base_uri": "https://localhost:8080/"
        },
        "id": "KEXAWIJ8TmzK",
        "outputId": "d0c1ceb0-a23d-418e-efe6-b3b8a9254822"
      },
      "outputs": [
        {
          "name": "stdout",
          "output_type": "stream",
          "text": [
            "Company HR IT Finance Alice Bob Charlie David \n"
          ]
        }
      ],
      "source": [
        "#2\n",
        "# A Tree contains Nodes\n",
        "class TreeBFS:\n",
        "  def __init__(self, root_value):\n",
        "    self.root = TreeNode(root_value)\n",
        "\n",
        "  def find(self, value, node=None):\n",
        "    if node == None:\n",
        "      node = self.root #\n",
        "    if node.value == value:\n",
        "      return node # found\n",
        "\n",
        "    for child in node.child:\n",
        "      found = self.find(value, child)\n",
        "      if found:\n",
        "        return found\n",
        "\n",
        "    return None\n",
        "\n",
        "  def insert(self, parent_value, child_value):\n",
        "    # find parent node then add child by children value\n",
        "    parent_node = self.find(parent_value)\n",
        "    if parent_node:\n",
        "      parent_node.add_child(TreeNode(child_value))\n",
        "    else:\n",
        "      print(f\"The parent node with value {parent_value} does not exist!\")\n",
        "\n",
        "  def print_tree(self):\n",
        "    self.root.print_tree()\n",
        "\n",
        "  def traverse_bfs(self):\n",
        "    if not self.root:\n",
        "      return\n",
        "\n",
        "    queue = deque([self.root])\n",
        "    while queue:\n",
        "      node = queue.popleft()\n",
        "      print(node.value, end=\" \")\n",
        "      for child in node.child:\n",
        "        queue.append(child)\n",
        "    print()\n",
        "\n",
        "  def search_bfs(self, value):\n",
        "    if not self.root:\n",
        "      return False\n",
        "\n",
        "    queue = deque([self.root])\n",
        "    while queue:\n",
        "      node = queue.popleft()\n",
        "      if node.value == value:\n",
        "        return True\n",
        "      for child in node.child:\n",
        "        queue.append(child)\n",
        "    return False\n",
        "\n",
        "  def tree_height2(self, node=None):\n",
        "    if node is None:\n",
        "        if not self.root:  # Xử lý cây rỗng\n",
        "            return 0\n",
        "        node = self.root\n",
        "\n",
        "    max_height = 1  # Mỗi node tính là height = 1\n",
        "    for child in node.child:  # Duyệt mọi nhánh con\n",
        "      #Duyệt qua TẤT CẢ node con và tính height theo nhánh sâu nhất\n",
        "        current_height = self.tree_height2(child) + 1\n",
        "         #Luôn giữ giá trị height lớn nhất từ các nhánh\n",
        "        if current_height > max_height:\n",
        "            max_height = current_height\n",
        "    return max_height\n",
        "\n",
        "\n",
        "tree  = TreeBFS(\"Company\")\n",
        "\n",
        "tree.root.add_child(TreeNode(\"HR\"))\n",
        "tree.root.add_child(TreeNode(\"IT\"))\n",
        "tree.root.add_child(TreeNode(\"Finance\"))\n",
        "\n",
        "hr_node = tree.find(\"HR\")\n",
        "if hr_node:\n",
        "  hr_node.add_child(TreeNode(\"Alice\"))\n",
        "  hr_node.add_child(TreeNode(\"Bob\"))\n",
        "\n",
        "it_node = tree.find(\"IT\")\n",
        "if it_node:\n",
        "  it_node.add_child(TreeNode(\"Charlie\"))\n",
        "  it_node.add_child(TreeNode(\"David\"))\n",
        "\n",
        "# Tree\n",
        "tree.traverse_bfs()"
      ]
    },
    {
      "cell_type": "code",
      "execution_count": null,
      "metadata": {
        "colab": {
          "base_uri": "https://localhost:8080/"
        },
        "id": "M6ONkDXSTnjL",
        "outputId": "1426a09f-e8f2-4778-fd48-a0180166ac66"
      },
      "outputs": [
        {
          "name": "stdout",
          "output_type": "stream",
          "text": [
            "Find Alice result: True\n",
            "Find Harry result: False\n",
            "Find HR result: True\n",
            "Find Company result: True\n"
          ]
        }
      ],
      "source": [
        "#3\n",
        "value = \"Alice\"\n",
        "value1 = \"Harry\"\n",
        "value2 = \"HR\"\n",
        "value3 = \"Company\"\n",
        "\n",
        "print(f\"Find {value} result: {tree.search_bfs(value)}\")\n",
        "print(f\"Find {value1} result: {tree.search_bfs(value1)}\")\n",
        "print(f\"Find {value2} result: {tree.search_bfs(value2)}\")\n",
        "print(f\"Find {value3} result: {tree.search_bfs(value3)}\")"
      ]
    },
    {
      "cell_type": "code",
      "execution_count": null,
      "metadata": {
        "colab": {
          "base_uri": "https://localhost:8080/"
        },
        "id": "pqQJHOd-TpKa",
        "outputId": "f4184b1d-f1db-4ac8-9ff5-e4bd7107eef3"
      },
      "outputs": [
        {
          "name": "stdout",
          "output_type": "stream",
          "text": [
            "Company HR IT Finance Alice Bob Charlie David \n",
            "3\n"
          ]
        }
      ],
      "source": [
        "#4 wrong answer\n",
        "tree.traverse_bfs()\n",
        "print(tree.tree_height2())"
      ]
    },
    {
      "cell_type": "markdown",
      "metadata": {
        "id": "QMmVLEXZqBrK"
      },
      "source": [
        "# Day 22"
      ]
    },
    {
      "cell_type": "markdown",
      "metadata": {
        "id": "ceYaN_bruZUP"
      },
      "source": [
        "## Tree data structure: Decision Tree"
      ]
    },
    {
      "cell_type": "code",
      "execution_count": 1,
      "metadata": {
        "id": "XxSJeyDnliUi",
        "outputId": "c068105c-611c-4374-af91-17beeda4277b",
        "colab": {
          "base_uri": "https://localhost:8080/"
        }
      },
      "outputs": [
        {
          "output_type": "stream",
          "name": "stdout",
          "text": [
            "Score (original): 1.0\n",
            "Score (for loops): 1.0\n"
          ]
        }
      ],
      "source": [
        "# Decision tree use Gini Index\n",
        "import numpy as np\n",
        "\n",
        "def calculate_score(group, classes, size):\n",
        "  \"\"\"\n",
        "  Calculates the score using explicit for loops, equivalent to the original list comprehension.\n",
        "  \"\"\"\n",
        "  count = 0  # Initialize a counter for the number of True results\n",
        "  for row in group:\n",
        "      for c in classes:\n",
        "          if row[-1] == c:\n",
        "              count += 1  # Increment the counter if the comparison is True\n",
        "  score = count / size  # Calculate the score by dividing the count by the size\n",
        "  return score\n",
        "\n",
        "# Example data (same as in the previous example)\n",
        "group = [[1, 2, 'A'], [3, 4, 'B'], [5, 6, 'A']]\n",
        "classes = ['A', 'B']\n",
        "size = 3\n",
        "\n",
        "# Original code (using list comprehension)\n",
        "score_original = sum([(row[-1] == c) for row in group for c in classes]) / size\n",
        "print(f\"Score (original): {score_original}\")  # Output: Score (original): 1.0\n",
        "\n",
        "# Code using for loops\n",
        "score_for_loops = calculate_score(group, classes, size)\n",
        "print(f\"Score (for loops): {score_for_loops}\")  # Output: Score (for loops): 1.0"
      ]
    },
    {
      "cell_type": "code",
      "execution_count": 2,
      "metadata": {
        "id": "-wF6jURNliUi"
      },
      "outputs": [],
      "source": [
        "def update_gini(gini, score_values, size, total_samples):\n",
        "  \"\"\"\n",
        "  Updates the gini value using explicit for loop.\n",
        "  \"\"\"\n",
        "  sum_of_squares = 0.0\n",
        "  for score in score_values:\n",
        "      sum_of_squares += score ** 2  # Calculate the square and add it to the sum\n",
        "\n",
        "  gini += (1.0 - sum_of_squares) * (size / total_samples)\n",
        "  return gini\n",
        "\n"
      ]
    },
    {
      "cell_type": "markdown",
      "metadata": {
        "id": "BTOD4AfZliUi"
      },
      "source": [
        "Công thức Gini Index cho một node (nhóm dữ liệu):\n",
        "Gini = 1 - Σ (p_i)^2\n",
        "(trong đó p_i là tỷ lệ mẫu thuộc lớp thứ i trong nhóm)"
      ]
    },
    {
      "cell_type": "code",
      "execution_count": 8,
      "metadata": {
        "id": "DXJ-fswo6sA1"
      },
      "outputs": [],
      "source": [
        "def gini_index(groups, classes):\n",
        "    \"\"\"\n",
        "    Tính Gini Index cho một tập dữ liệu.\n",
        "\n",
        "    Parameters:\n",
        "    - groups: Danh sách các nhóm dữ liệu, mỗi nhóm là một danh sách các mẫu dữ liệu\n",
        "    - classes: Danh sách các lớp (labels) có thể có trong dữ liệu\n",
        "\n",
        "    Returns:\n",
        "    - Gini Index của tập dữ liệu\n",
        "    \"\"\"\n",
        "    # Tính tổng số mẫu\n",
        "    n_instances = float(sum([len(group) for group in groups]))\n",
        "\n",
        "    # Tính Gini index cho tập dữ liệu\n",
        "    gini = 0.0\n",
        "\n",
        "    # Duyệt qua từng nhóm\n",
        "    for group in groups:\n",
        "        size = float(len(group))\n",
        "\n",
        "        # Tránh chia cho 0\n",
        "        if size == 0:\n",
        "            continue\n",
        "\n",
        "        score = 0.0\n",
        "        #equal to calculate_score\n",
        "        #score = sum([(row[-1] == c) for row in group for c in classes]) / size\n",
        "        # equal to update_gini\n",
        "        #gini += (1.0 - sum([score ** 2 for c in classes])) * (size / total_samples)\n",
        "\n",
        "        # Tính score cho mỗi class trong nhóm\n",
        "        for class_val in classes:\n",
        "            # Tính tỷ lệ các mẫu thuộc class_val trong nhóm\n",
        "            p = [row[-1] for row in group].count(class_val) / size\n",
        "            score += p * p\n",
        "\n",
        "        # Thêm vào gini với trọng số là tỷ lệ kích thước của nhóm\n",
        "        gini += (1.0 - score) * (size / n_instances)\n",
        "\n",
        "    return gini\n"
      ]
    },
    {
      "cell_type": "code",
      "execution_count": 7,
      "metadata": {
        "id": "YLPlk0hiliUj",
        "outputId": "83a2437e-3ab7-4f4d-abb7-b2258656c12a",
        "colab": {
          "base_uri": "https://localhost:8080/"
        }
      },
      "outputs": [
        {
          "output_type": "stream",
          "name": "stdout",
          "text": [
            "Gini Index: 0.5\n"
          ]
        }
      ],
      "source": [
        "# Dữ liệu mẫu 1\n",
        "groups = [\n",
        "    [[1, 2, 'A'], [2, 3, 'B']],\n",
        "    [[3, 4, 'A'], [4, 5, 'B']]\n",
        "]\n",
        "classes = ['A', 'B']\n",
        "\n",
        "# Tính Gini Index\n",
        "gini = gini_index(groups, classes)\n",
        "print(f\"Gini Index: {gini}\")"
      ]
    },
    {
      "cell_type": "code",
      "execution_count": null,
      "metadata": {
        "id": "pwOOO2OzMzvi"
      },
      "outputs": [],
      "source": [
        "# Example 2\n",
        "dataset = [\n",
        "    [2.8, 'Yes'],\n",
        "    [1.2, 'No'],\n",
        "    [3.6, 'Yes'],\n",
        "    [4.5, 'No'],\n",
        "    [5.1, 'Yes']\n",
        "]"
      ]
    },
    {
      "cell_type": "code",
      "execution_count": null,
      "metadata": {
        "id": "jAOnARyKNPP5"
      },
      "outputs": [],
      "source": [
        "# Divide the dataset by a threshold value\n",
        "def split_data(dataset, feature_index, threshold):\n",
        "  left = [row for row in dataset if row[feature_index] < threshold]\n",
        "  right = [row for row in dataset if row[feature_index] >= threshold]\n",
        "  return left, right"
      ]
    },
    {
      "cell_type": "code",
      "execution_count": null,
      "metadata": {
        "colab": {
          "base_uri": "https://localhost:8080/"
        },
        "id": "c6rosKhCNykp",
        "outputId": "634051f1-eaa4-438b-b886-e60d9c1b7bfe"
      },
      "outputs": [
        {
          "name": "stdout",
          "output_type": "stream",
          "text": [
            "Gini index: -1.0000\n"
          ]
        }
      ],
      "source": [
        "# Example of calculating Gini for a data split\n",
        "groups = split_data(dataset, 0, 3.0)\n",
        "classes = ['Yes', 'No']\n",
        "gini = gini_index(groups, classes)\n",
        "print(f\"Gini index: {gini:.4f}\")"
      ]
    },
    {
      "cell_type": "markdown",
      "metadata": {
        "id": "rlZV_QmwO07x"
      },
      "source": [
        "Decision use OOP"
      ]
    },
    {
      "cell_type": "code",
      "execution_count": null,
      "metadata": {
        "id": "2ZZgbJQ3O-Y2"
      },
      "outputs": [],
      "source": [
        "# TreeNode store information about nodes in the tree.\n",
        "class TreeNode:\n",
        "  def __init__(self, feature_index=None, threshold=None, left=None, right=None, label=None) -> None:\n",
        "    \"\"\"\n",
        "    Khởi tạo một nút trong cây quyết định:\n",
        "    - feature_index: Chỉ số thuộc tính được chọn để chia\n",
        "    - threshold: Ngưỡng giá trị để phân chia dữ liệu\n",
        "    - left, right: Con trỏ đến nút con bên trái và bên phải\n",
        "    - label: Nhãn lớp (chỉ có ở nút lá)\n",
        "    \"\"\"\n",
        "    self.feature_index = feature_index\n",
        "    self.threshold = threshold\n",
        "    self.left = left\n",
        "    self.right = right\n",
        "    self.label = label\n"
      ]
    },
    {
      "cell_type": "code",
      "execution_count": null,
      "metadata": {
        "id": "Vn7p4XT-RUhf"
      },
      "outputs": [],
      "source": [
        "import numpy as np\n",
        "\n",
        "class DecisionTree:\n",
        "  def __init__(self, max_depth=3) -> None:\n",
        "    \"\"\"\n",
        "    Khởi tạo cây quyết định với độ sâu tối đa\n",
        "    \"\"\"\n",
        "    self.max_depth = max_depth\n",
        "    self.root = None #Node is Tree Node?\n",
        "\n",
        "  def gini_index(self, groups, classes):\n",
        "    \"\"\"\n",
        "    Chỉ số Gini đo lường mức độ \"không thuần khiết\" của một tập dữ liệu\n",
        "    Giá trị Gini càng thấp càng tốt (0 là lý tưởng - tập hoàn toàn thuần khiết)\n",
        "    \"\"\"\n",
        "    total_samples = sum([len(group) for group in groups])\n",
        "    gini = 0.0\n",
        "    for group in groups:\n",
        "      size = len(group)\n",
        "      if size == 0.0:\n",
        "        continue\n",
        "      score = 0.0\n",
        "      for class_val in classes:\n",
        "        proportion = [row[-1] for row in group].count(class_val) / size\n",
        "        score += proportion ** 2\n",
        "        gini += (1.0 - score) * (size / total_samples)\n",
        "    return gini\n",
        "\n",
        "  def split_data(self, dataset, feature_index, threshold):\n",
        "    \"\"\"\n",
        "    Chia tập dữ liệu dựa trên một thuộc tính và ngưỡng giá trị\n",
        "    \"\"\"\n",
        "    left = [row for row in dataset if row[feature_index] < threshold]\n",
        "    right = [row for row in dataset if row[feature_index] >= threshold]\n",
        "\n",
        "    return left, right\n",
        "\n",
        "  def best_split(self, dataset):\n",
        "    \"\"\"\n",
        "    Tìm thuộc tính và ngưỡng tốt nhất để phân chia dữ liệu\n",
        "    \"\"\"\n",
        "    class_values = list(set(row[-1] for row in dataset))\n",
        "    best_index,  best_threshold, best_score, best_groups = None, None, float('inf'), (None, None)#\n",
        "\n",
        "    #Chọn cách phân chia có chỉ số Gini thấp nhất\n",
        "    for index in range(len(dataset[0]) - 1):\n",
        "      for row in dataset:\n",
        "        groups = self.split_data(dataset, index, row[index])\n",
        "        gini = self.gini_index(groups, class_values)\n",
        "        if gini < best_score:\n",
        "          best_index, best_threshold, best_score, best_groups = index,  row[index], gini, groups\n",
        "    return best_index, best_threshold, best_groups\n",
        "\n",
        "  def build_tree(self, dataset, depth=0):\n",
        "    \"\"\"\n",
        "    Xây dựng cây quyết định theo phương pháp đệ quy\n",
        "    \"\"\"\n",
        "    class_values = [row[-1] for row in dataset]\n",
        "    # Stop conidition: if only have 1 layer or get maximum depth\n",
        "    if len(set(class_values)) == 1 or depth >= self.max_depth:\n",
        "      return TreeNode(label=max(set(class_values), key=class_values.count))\n",
        "\n",
        "    # Find the best attribute and threshold value to split the data\n",
        "    feature_index, threshold, (left, right) = self.best_split(dataset)\n",
        "\n",
        "    # If cannot devide, create Leaf Node\n",
        "    if not left or not right:\n",
        "      return TreeNode(label=max(set(class_values), key=class_values.count))\n",
        "\n",
        "    # Build left branch and right branch\n",
        "    left_node = self.build_tree(left, depth + 1)\n",
        "    right_node = self.build_tree(right, depth + 1)\n",
        "\n",
        "    return TreeNode(feature_index, threshold, left_node, right_node)\n",
        "\n",
        "  def fit(self, dataset):\n",
        "    \"\"\"\n",
        "    Huấn luyện cây quyết định bằng cách xây dựng từ dữ liệu đầu vào\n",
        "    \"\"\"\n",
        "    self.root = self.build_tree(dataset)\n",
        "\n",
        "  def print_tree(self, node=None, depth=0):\n",
        "    \"\"\"\n",
        "    In ra cây quyết định theo dạng phân cấp\n",
        "    \"\"\"\n",
        "    if node is None:\n",
        "      node = self.root\n",
        "\n",
        "    if node.label is not None:#?\n",
        "      print(f\"{' ' * depth} [Leaf] Label: {node.label}\")\n",
        "    else:\n",
        "      print(f\"{' ' * depth} [Node] Feature {node.feature_index} <= {node.threshold}\")\n",
        "      self.print_tree(node.left, depth + 1)\n",
        "      self.print_tree(node.right, depth + 1)\n"
      ]
    },
    {
      "cell_type": "code",
      "execution_count": null,
      "metadata": {
        "colab": {
          "base_uri": "https://localhost:8080/"
        },
        "id": "4WRK8tgyvCvR",
        "outputId": "e838ca56-414e-4065-a2a1-2c6bce7fdf2e"
      },
      "outputs": [
        {
          "name": "stdout",
          "output_type": "stream",
          "text": [
            "Decision is built:\n",
            " [Node] Feature 0 <= 2.8\n",
            "  [Leaf] Label: No\n",
            "  [Node] Feature 0 <= 4.5\n",
            "   [Leaf] Label: Yes\n",
            "   [Node] Feature 0 <= 5.1\n",
            "    [Leaf] Label: No\n",
            "    [Leaf] Label: Yes\n"
          ]
        }
      ],
      "source": [
        "# Build Tree from dataset\n",
        "# Simple dataset: [attribute, label]\n",
        "dataset = [\n",
        "[2.8, 'Yes'],\n",
        "[1.2, 'No'],\n",
        "[3.6, 'Yes'],\n",
        "[4.5, 'No'],\n",
        "[5.1, 'Yes']\n",
        "]\n",
        "\n",
        "# initialize and training\n",
        "tree = DecisionTree(max_depth=3)\n",
        "tree.fit(dataset)\n",
        "\n",
        "# Print tree\n",
        "print (\"Decision is built:\")\n",
        "tree.print_tree()# wwhy wrong result???"
      ]
    },
    {
      "cell_type": "code",
      "execution_count": null,
      "metadata": {
        "id": "BA-7R7ZmcmJ2"
      },
      "outputs": [],
      "source": []
    },
    {
      "cell_type": "markdown",
      "metadata": {
        "id": "iHS3MNcpuhfX"
      },
      "source": [
        "## Bài 1: Tính chỉ số Gini cho một tập dữ liệu"
      ]
    },
    {
      "cell_type": "code",
      "execution_count": null,
      "metadata": {
        "id": "L9QZbsqlXKvu"
      },
      "outputs": [],
      "source": []
    },
    {
      "cell_type": "markdown",
      "metadata": {
        "id": "hdV7gAz2ujcG"
      },
      "source": [
        "## Bài 2: Mở rộng cây quyết định\n",
        "• Thêm nhiều thuộc tính hơn vào tập dữ liệu (ví dụ: Tuổi, Điểm tín dụng). \\\n",
        "• Cải tiến thuật toán để xây dựng cây với nhiều thuộc tính. \\\n",
        "• In ra cây theo cách dễ đọc hơn."
      ]
    },
    {
      "cell_type": "markdown",
      "metadata": {
        "id": "KMJQAg4MliUm"
      },
      "source": [
        "Công thức tổng quát khi phân chia thành nhiều nhóm:\n",
        "Gini Index = Σ (w_j * Gini_j)\n",
        "(w_j là tỷ lệ mẫu của nhóm j so với tổng số mẫu, Gini_j là Gini Index của nhóm j)"
      ]
    },
    {
      "cell_type": "code",
      "execution_count": null,
      "metadata": {
        "id": "lbD-VlrKujFW"
      },
      "outputs": [],
      "source": []
    },
    {
      "cell_type": "markdown",
      "metadata": {
        "id": "v65iGApUqELx"
      },
      "source": [
        "# Day 23"
      ]
    },
    {
      "cell_type": "markdown",
      "metadata": {
        "id": "Uk0wHdXpuMKe"
      },
      "source": [
        " ## Bài tập xác suất thống kê 😭"
      ]
    },
    {
      "cell_type": "code",
      "execution_count": null,
      "metadata": {
        "id": "kqhc2257_m3K"
      },
      "outputs": [],
      "source": []
    },
    {
      "cell_type": "markdown",
      "metadata": {
        "id": "EBSAg7H4qG7T"
      },
      "source": [
        "# Day 24"
      ]
    },
    {
      "cell_type": "markdown",
      "metadata": {
        "id": "NJ5KIVfet14W"
      },
      "source": [
        "## Lý thuyết"
      ]
    },
    {
      "cell_type": "code",
      "execution_count": null,
      "metadata": {
        "id": "SQmMu4bKVnkG"
      },
      "outputs": [],
      "source": []
    },
    {
      "cell_type": "markdown",
      "metadata": {
        "id": "Nqxz1cEUt4om"
      },
      "source": [
        "## Bài Tập 1: Xác Suất Cơ Bản"
      ]
    },
    {
      "cell_type": "code",
      "execution_count": null,
      "metadata": {
        "id": "Kr8tdNrRt58W"
      },
      "outputs": [],
      "source": [
        "def calculate_probability(event_occurences, total_trials):\n",
        "  \"\"\"\n",
        "  Tính toán xác suất của một sự kiện\n",
        "  Parameters:\n",
        "  event_occurences (int): Số lần sự kiện xảy ra\n",
        "  total_trials (int): Tổng số lần thử nghiệm\n",
        "\n",
        "  Returns:\n",
        "  float: Xác suất của sự kiện.\n",
        "  \"\"\"\n",
        "  pass\n",
        "\n",
        "event_occurences = 5\n",
        "total_trials = 20\n",
        "probability = calculate_probability(event_occurrences, total_trials)\n",
        "print(f\"Xác suất của sự kiện là: {probability}\")"
      ]
    },
    {
      "cell_type": "markdown",
      "metadata": {
        "id": "UXNLnWSyt6yW"
      },
      "source": [
        "## Bài Tập 2: Xác Suất Có Điều Kiện"
      ]
    },
    {
      "cell_type": "code",
      "execution_count": null,
      "metadata": {
        "id": "Cg9Q4Nvnt_WV"
      },
      "outputs": [],
      "source": [
        "def calculate_conditional_probability(P_A_and_B, P_B):\n",
        "  \"\"\"\n",
        "  Tính xác xuất có điều kiện P(A|B)\n",
        "\n",
        "  Parameters:\n",
        "  P_A_and_B (float): Xác suất của sự kiện A và B xảy ra.\n",
        "  P_A (float): Xác suất của sự kiện A.\n",
        "\n",
        "  Returns:\n",
        "  float : Xác suất có điều kiện P(B|A).\n",
        "  \"\"\"\n",
        "  pass\n",
        "\n",
        "# Ví dụ sử dụng\n",
        "P_A_and_B = 0.2\n",
        "P_A = 0.5\n",
        "P_B_given_A = calculate_conditional_probability(P_A_and_B, P_A)\n",
        "print(f\"Xác suất có điều kiện P(B|A) là: {P_B_given_A}\")"
      ]
    },
    {
      "cell_type": "markdown",
      "metadata": {
        "id": "It4Sekdnt_nX"
      },
      "source": [
        "## Bài Tập 3: Covariance và Correlation"
      ]
    },
    {
      "cell_type": "code",
      "execution_count": null,
      "metadata": {
        "id": "lHBslHMsuDku"
      },
      "outputs": [],
      "source": [
        "import numpy as np\n",
        "\n",
        "def calculate_covariance (X , Y ) :\n",
        "  \"\"\"\n",
        "  Tính covariance giữa hai biến X và Y.\n",
        "\n",
        "  Parameters :\n",
        "  X ( list ): Danh sách các giá trị của biến X.\n",
        "  Y ( list ): Danh sách các giá trị của biến Y.\n",
        "\n",
        "  Returns :\n",
        "  float : Covariance giữa X và Y.\n",
        "  \"\"\"\n",
        "   return # Your code here #\n",
        "\n",
        " def calculate_correlation (X , Y ) :\n",
        "  \"\"\"\n",
        "  Tính correlation giữa hai biến X và Y.\n",
        "\n",
        "  Parameters :\n",
        "  X ( list ): Danh sách các giá trị của biến X.\n",
        "  Y ( list ): Danh sách các giá trị của biến Y.\n",
        "\n",
        "  Returns :\n",
        "  float : Correlation giữa X và Y.\n",
        "  \"\"\"\n",
        "  return # Your code here #\n",
        "\n",
        "# Ví dụ sử dụng\n",
        "X = [2 , 4 , 6 , 8 , 10]\n",
        "Y = [1 , 3 , 5 , 7 , 9]\n",
        "covariance = calculate_covariance (X , Y )\n",
        "correlation = calculate_correlation (X , Y )\n",
        "print ( f\" Covariance giữa X và Y là: { covariance }\")\n",
        "print ( f\" Correlation giữa X và Y là: { correlation }\")"
      ]
    },
    {
      "cell_type": "markdown",
      "metadata": {
        "id": "uOJgVN9puCt2"
      },
      "source": []
    },
    {
      "cell_type": "markdown",
      "metadata": {
        "id": "h3uX87QLqIM9"
      },
      "source": [
        "# Day 25: Correlation/Correlation Coefficient"
      ]
    },
    {
      "cell_type": "markdown",
      "metadata": {
        "id": "tEn282Ivti8H"
      },
      "source": [
        "## Bài Tập 1: Mối Quan Hệ Giữa Quảng Cáo và Doanh Thu"
      ]
    },
    {
      "cell_type": "code",
      "execution_count": null,
      "metadata": {
        "id": "xZPTB4Gm_8KF"
      },
      "outputs": [],
      "source": []
    },
    {
      "cell_type": "markdown",
      "metadata": {
        "id": "adb9JlkHtnS1"
      },
      "source": [
        "## Bài Tập 2: Ảnh Hưởng Của Thời Tiết Đến Doanh Số Cà Phê\n"
      ]
    },
    {
      "cell_type": "code",
      "execution_count": null,
      "metadata": {
        "id": "mEs9qCoFunO1"
      },
      "outputs": [],
      "source": []
    }
  ],
  "metadata": {
    "colab": {
      "provenance": [],
      "include_colab_link": true
    },
    "kernelspec": {
      "display_name": "Python 3",
      "name": "python3"
    },
    "language_info": {
      "name": "python"
    }
  },
  "nbformat": 4,
  "nbformat_minor": 0
}