{
 "cells": [
  {
   "cell_type": "markdown",
   "metadata": {
    "colab_type": "text",
    "id": "view-in-github"
   },
   "source": [
    "<a href=\"https://colab.research.google.com/github/mylethidiem/zero-to-hero/blob/main/preAIO25/AIOCodeMathDA/Week6.ipynb\" target=\"_parent\"><img src=\"https://colab.research.google.com/assets/colab-badge.svg\" alt=\"Open In Colab\"/></a>"
   ]
  },
  {
   "cell_type": "markdown",
   "metadata": {},
   "source": [
    "[AIO2025] LẬP TRÌNH - TOÁN - DATA ANALYSIS \\\n",
    "LÊ THỊ DIỄM MY"
   ]
  },
  {
   "cell_type": "markdown",
   "metadata": {
    "id": "04uSCDbApxxZ"
   },
   "source": [
    "# Day 26: Phân loại bệnh cúm bằng Naive Bayes\n"
   ]
  },
  {
   "cell_type": "markdown",
   "metadata": {
    "id": "DrhEUyXqp0jW"
   },
   "source": []
  },
  {
   "cell_type": "code",
   "execution_count": null,
   "metadata": {
    "id": "JZJH1v68YX4M"
   },
   "outputs": [],
   "source": [
    "import numpy as np\n",
    "import pandas as pd\n",
    "\n",
    "# Dữ liệu huấn luyện\n",
    "# Tạo DataFrame chứa dữ liệu bệnh nhân\n",
    "# Your code here\n",
    "\n",
    "data = pd . DataFrame ({\n",
    "  \"Sốt\": [\"Cao \", \"Cao\", \"Cao \", \"Thấp\", \" Cao \", \"Thấp\", \"Thấp\", \" Cao \", \"Thấp\", \" Cao \"],\n",
    "  \"Ho\": [\"Có\", \"Không\", \"Có\", \"Có\", \"Có\", \"Không\", \"Có\", \"Không\", \"Không\", \"Có\"],\n",
    "  \"Đau họng\": [\"Có\", \"Có\", \"Không\", \"Có\", \"Có\", \"Có\", \"Không\", \"Có\", \"Không\", \"Có\"],\n",
    "  \"Mệt mỏi\": [\"Có\", \"Không\", \"Có\", \"Có\", \"Không\", \"Không\", \"Có\", \"Có\", \"Không\", \"Có\"],\n",
    "  \"Flu\": [\"Có\", \"Có\", \"Có\", \"Không\", \"Có\", \"Không\", \"Không\", \"Có\", \"Không\", \"Có\"]\n",
    " })\n",
    "\n",
    " # Dữ liệu bệnh nhân cần dự đoán\n",
    " new_patient = {\"Sốt\": \"Cao \", \"Ho\": \"Có\", \"Đau họng\": \"Có\", \"Mệt mỏi\": \"Không\"}\n"
   ]
  },
  {
   "cell_type": "code",
   "execution_count": null,
   "metadata": {
    "id": "BDUo6-IuDKc5"
   },
   "outputs": [],
   "source": [
    "# Tính xác suất tiên nghi ệm P(C)\n",
    "P_flu = data [\"Flu\"].value_counts(normalize = True)[\"Có\"] # P(C =1)\n",
    "P_not_flu = 1 - P_flu # P(C=0)"
   ]
  },
  {
   "cell_type": "code",
   "execution_count": null,
   "metadata": {
    "id": "WPyh2VTADRGj"
   },
   "outputs": [],
   "source": [
    "# Hàm tính xác suất có điều kiện P( x_i |C) với Laplace smoothing\n",
    "def conditional_prob ( feature , value , flu_status ) :\n",
    "  pass\n",
    "\n",
    "# Tính P(X|C) = P(x_1 |C) * P(x_2 |C) * ... * P( x_n |C) theo Naive Bayes\n",
    "P_X_given_flu = ??? # P(X|C=1)\n",
    "P_X_given_not_flu = ??? # P(X|C =0)\n",
    "for feature, value in new_patient.items () :\n",
    "  pass"
   ]
  },
  {
   "cell_type": "code",
   "execution_count": null,
   "metadata": {
    "id": "e8Jqvz64DgjL"
   },
   "outputs": [],
   "source": [
    "# Tính P(C|X) trực tiếp từ tỷ lệ (không cần P(X))\n",
    "numerator_flu = P_X_given_flu * P_flu\n",
    "numerator_not_flu = P_X_given_not_flu * P_not_flu"
   ]
  },
  {
   "cell_type": "code",
   "execution_count": null,
   "metadata": {
    "id": "9aN8b6OfDnAb"
   },
   "outputs": [],
   "source": [
    "# Chu ẩn hóa xác suất\n",
    "total = numerator_flu + numerator_not_flu\n",
    "P_flu_given_X = numerator_flu / total\n",
    "P_not_flu_given_X = numerator_not_flu / total\n",
    "\n",
    "print (\"\\nKết quả Naive Bayes :\")\n",
    "print (f\"P(Flu =Có|X) = {P_flu_given_X :.4 f}\")\n",
    "print (f\"P(Flu =Không|X) = {P_not_flu_given_X :.4 f}\")\n",
    "\n",
    "# Kết luận\n",
    "print (\"\\nKết luận:\", \"Bệnh nhân có khả năng bị cúm.\" if P_flu_given_X > P_not_flu_given_X else \"Bệnh nhân KHÔNG có khả năng bị cúm.\")"
   ]
  },
  {
   "cell_type": "markdown",
   "metadata": {
    "id": "QMmVLEXZqBrK"
   },
   "source": [
    "# Day 27: Data Analysis with Visualization\n",
    "- [PygWalker](https://github.com/Kanaries/pygwalker)\n",
    "- [Doc](https://docs.kanaries.net/pygwalker)"
   ]
  },
  {
   "cell_type": "code",
   "execution_count": null,
   "metadata": {
    "id": "L9QZbsqlXKvu"
   },
   "outputs": [],
   "source": [
    "!pip install pygwalker # Similar in Jupyter Notebook, we also install pandas"
   ]
  },
  {
   "cell_type": "code",
   "execution_count": null,
   "metadata": {
    "id": "0W8QwRL6Bxih"
   },
   "outputs": [],
   "source": [
    "import pygwalker as pyg\n",
    "import pandas as pd\n",
    "\n",
    "data = pd.read_csv(FILE_PATH)\n",
    "pyg.walk(data)"
   ]
  },
  {
   "cell_type": "markdown",
   "metadata": {
    "id": "v65iGApUqELx"
   },
   "source": [
    "# Day 28:"
   ]
  },
  {
   "cell_type": "code",
   "execution_count": null,
   "metadata": {
    "id": "kqhc2257_m3K"
   },
   "outputs": [],
   "source": []
  },
  {
   "cell_type": "markdown",
   "metadata": {
    "id": "EBSAg7H4qG7T"
   },
   "source": [
    "# Day 29:"
   ]
  },
  {
   "cell_type": "code",
   "execution_count": null,
   "metadata": {
    "id": "SQmMu4bKVnkG"
   },
   "outputs": [],
   "source": []
  },
  {
   "cell_type": "markdown",
   "metadata": {
    "id": "h3uX87QLqIM9"
   },
   "source": [
    "# Day 30:"
   ]
  },
  {
   "cell_type": "code",
   "execution_count": null,
   "metadata": {
    "id": "xZPTB4Gm_8KF"
   },
   "outputs": [],
   "source": []
  }
 ],
 "metadata": {
  "accelerator": "GPU",
  "colab": {
   "gpuType": "T4",
   "include_colab_link": true,
   "provenance": []
  },
  "kernelspec": {
   "display_name": "Python 3",
   "name": "python3"
  },
  "language_info": {
   "name": "python"
  }
 },
 "nbformat": 4,
 "nbformat_minor": 0
}
