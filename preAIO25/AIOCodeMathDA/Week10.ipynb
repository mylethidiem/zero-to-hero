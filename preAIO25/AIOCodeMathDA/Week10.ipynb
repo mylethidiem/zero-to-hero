{
  "cells": [
    {
      "cell_type": "markdown",
      "metadata": {
        "id": "view-in-github",
        "colab_type": "text"
      },
      "source": [
        "<a href=\"https://colab.research.google.com/github/mylethidiem/zero-to-hero/blob/main/preAIO25/AIOCodeMathDA/Week10.ipynb\" target=\"_parent\"><img src=\"https://colab.research.google.com/assets/colab-badge.svg\" alt=\"Open In Colab\"/></a>"
      ]
    },
    {
      "cell_type": "markdown",
      "metadata": {
        "id": "6EVgNrpQHSk7"
      },
      "source": [
        "[AIO2025] LẬP TRÌNH - TOÁN - DATA ANALYSIS \\\n",
        "[AIOCodeMathDA][Week10] \\\n",
        "LÊ THỊ DIỄM MY"
      ]
    },
    {
      "cell_type": "markdown",
      "metadata": {
        "id": "04uSCDbApxxZ"
      },
      "source": [
        "# Day 46\n"
      ]
    },
    {
      "cell_type": "code",
      "execution_count": null,
      "metadata": {
        "id": "qRqFnCalHSlA"
      },
      "outputs": [],
      "source": []
    },
    {
      "cell_type": "markdown",
      "metadata": {
        "id": "v65iGApUqELx"
      },
      "source": [
        "# Day 47"
      ]
    },
    {
      "cell_type": "code",
      "execution_count": null,
      "metadata": {
        "id": "kqhc2257_m3K"
      },
      "outputs": [],
      "source": []
    },
    {
      "cell_type": "markdown",
      "metadata": {
        "id": "EBSAg7H4qG7T"
      },
      "source": [
        "# Day 48"
      ]
    },
    {
      "cell_type": "code",
      "execution_count": null,
      "metadata": {
        "id": "SQmMu4bKVnkG"
      },
      "outputs": [],
      "source": []
    },
    {
      "cell_type": "markdown",
      "metadata": {
        "id": "h3uX87QLqIM9"
      },
      "source": [
        "# Day 49"
      ]
    },
    {
      "cell_type": "code",
      "execution_count": null,
      "metadata": {
        "id": "xZPTB4Gm_8KF"
      },
      "outputs": [],
      "source": []
    },
    {
      "cell_type": "markdown",
      "source": [
        "# Day 50"
      ],
      "metadata": {
        "id": "7DBA2I6oHaUc"
      }
    },
    {
      "cell_type": "code",
      "source": [],
      "metadata": {
        "id": "xT9D5EDgHcub"
      },
      "execution_count": null,
      "outputs": []
    }
  ],
  "metadata": {
    "accelerator": "GPU",
    "colab": {
      "gpuType": "T4",
      "provenance": [],
      "include_colab_link": true
    },
    "kernelspec": {
      "display_name": "Python 3",
      "name": "python3"
    },
    "language_info": {
      "name": "python"
    }
  },
  "nbformat": 4,
  "nbformat_minor": 0
}