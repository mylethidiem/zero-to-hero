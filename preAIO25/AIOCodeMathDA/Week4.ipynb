{
  "cells": [
    {
      "cell_type": "markdown",
      "metadata": {
        "id": "view-in-github",
        "colab_type": "text"
      },
      "source": [
        "<a href=\"https://colab.research.google.com/github/mylethidiem/zero-to-hero/blob/main/preAIO25/AIOCodeMathDA/Week4.ipynb\" target=\"_parent\"><img src=\"https://colab.research.google.com/assets/colab-badge.svg\" alt=\"Open In Colab\"/></a>"
      ]
    },
    {
      "cell_type": "markdown",
      "source": [
        "[AIO2025] LẬP TRÌNH - TOÁN - DATA ANALYSIS \\\n",
        "LÊ THỊ DIỄM MY"
      ],
      "metadata": {
        "id": "3fnuGyrSQ7kq"
      }
    },
    {
      "cell_type": "markdown",
      "source": [
        "# Day 1̉6: Gram Matrix in Style transfer\n",
        "---"
      ],
      "metadata": {
        "id": "04uSCDbApxxZ"
      }
    },
    {
      "cell_type": "markdown",
      "source": [
        "Set up Gram Matrix by using Numpy"
      ],
      "metadata": {
        "id": "GseamKCpxTRf"
      }
    },
    {
      "cell_type": "code",
      "source": [
        "import numpy as np\n",
        "\n",
        "def compute_gram_matrix(feature_map: np.ndarray) -> np.ndarray:\n",
        "  \"\"\"\n",
        "  Compute Gram Matrix from feature map\n",
        "  Args: feature_map(np.ndarray) matrix size (C, H, W)\n",
        "  Returns: (np.ndarray) Gram matrix size (C, C)\n",
        "  \"\"\"\n",
        "  # Get size of input\n",
        "  C, H, W = feature_map.shape\n",
        "\n",
        "  # Convert matrix to shape (C, H*W)\n",
        "  F = feature_map.reshape(C, H*W)\n",
        "\n",
        "  # Calculate Gram Matrix G = F <dot product> F.T\n",
        "  G = np.dot(F, F.transpose())\n",
        "\n",
        "  # Normalise by pixel count\n",
        "  G = G / float(H * W)\n",
        "\n",
        "  return G"
      ],
      "metadata": {
        "id": "EazUl53Nqj6f"
      },
      "execution_count": null,
      "outputs": []
    },
    {
      "cell_type": "code",
      "execution_count": null,
      "metadata": {
        "id": "JZJH1v68YX4M",
        "colab": {
          "base_uri": "https://localhost:8080/"
        },
        "outputId": "975229d7-5019-4a33-dfa4-f03991ea4839"
      },
      "outputs": [
        {
          "output_type": "stream",
          "name": "stdout",
          "text": [
            "Compute Gram Matrix: \n",
            "[[0.33432857 0.2207897  0.27598961]\n",
            " [0.2207897  0.19580158 0.19452994]\n",
            " [0.27598961 0.19452994 0.32603015]]\n"
          ]
        }
      ],
      "source": [
        "# Generate data set with size (3, 4, 4)\n",
        "np.random.seed(42)\n",
        "feature_map = np.random.rand(3, 4, 4)\n",
        "\n",
        "# Compute Gram Matrix\n",
        "grand_matrix = compute_gram_matrix(feature_map)\n",
        "\n",
        "# Print result\n",
        "print(f\"Compute Gram Matrix: \\n{grand_matrix}\")"
      ]
    },
    {
      "cell_type": "markdown",
      "source": [
        "Set up Gram Matrix by using Pytorch"
      ],
      "metadata": {
        "id": "HGuCOmXjxeI4"
      }
    },
    {
      "cell_type": "code",
      "source": [
        "import torch\n",
        "import numpy as np\n",
        "\n",
        "def compute_gram_matrix_torch(feature_map: np.ndarray):\n",
        "  feature_map_torch = torch.tensor(feature_map, dtype=torch.float32)\n",
        "  F_torch = feature_map_torch.view(3, -1)\n",
        "  grand_matrix_torch = torch.mm(F_torch, F_torch.t()) / (4 * 4)\n",
        "  return grand_matrix_torch"
      ],
      "metadata": {
        "id": "rrA_43WdxhQ_"
      },
      "execution_count": null,
      "outputs": []
    },
    {
      "cell_type": "code",
      "source": [
        "# Generate data set with size (3, 4, 4)\n",
        "np.random.seed(42)\n",
        "feature_map = np.random.rand(3, 4, 4)\n",
        "\n",
        "grand_matrix_torch = compute_gram_matrix_torch(feature_map)\n",
        "print(f\"\\n Gram Matrix Pytorch:\\n {grand_matrix_torch.numpy()}\")"
      ],
      "metadata": {
        "id": "1t2tjFkS0fkI",
        "colab": {
          "base_uri": "https://localhost:8080/"
        },
        "outputId": "bd2dc41a-b4f9-4ff0-a064-b97f15192d68"
      },
      "execution_count": null,
      "outputs": [
        {
          "output_type": "stream",
          "name": "stdout",
          "text": [
            "\n",
            " Gram Matrix Pytorch:\n",
            " [[0.33432856 0.2207897  0.2759896 ]\n",
            " [0.2207897  0.19580159 0.19452995]\n",
            " [0.2759896  0.19452995 0.32603014]]\n"
          ]
        }
      ]
    },
    {
      "cell_type": "markdown",
      "source": [
        "## Exercise 1:"
      ],
      "metadata": {
        "id": "0NXRGzrCxJIA"
      }
    },
    {
      "cell_type": "code",
      "source": [
        "feature_map = np.array([\n",
        "    [[1, 2], [3, 4]], # channel 1\n",
        "    [[5, 6], [7, 8]], # channel 2\n",
        "    [[9, 10], [11, 12]] # channel 3\n",
        "])\n",
        "\n",
        "grand_matrix = compute_gram_matrix(feature_map)\n",
        "print(grand_matrix)"
      ],
      "metadata": {
        "id": "P9KzeFs7xNE3",
        "colab": {
          "base_uri": "https://localhost:8080/"
        },
        "outputId": "8dd46855-962a-40a4-f676-ae9f80a53a17"
      },
      "execution_count": null,
      "outputs": [
        {
          "output_type": "stream",
          "name": "stdout",
          "text": [
            "[[  7.5  17.5  27.5]\n",
            " [ 17.5  43.5  69.5]\n",
            " [ 27.5  69.5 111.5]]\n"
          ]
        }
      ]
    },
    {
      "cell_type": "markdown",
      "source": [
        "## Exercise 2:"
      ],
      "metadata": {
        "id": "NucXqk34ZHeR"
      }
    },
    {
      "cell_type": "code",
      "source": [
        "def compute_similarity(gram1: np.ndarray, gram2: np.ndarray) -> float:\n",
        "  \"\"\"\n",
        "  Compute similarity between 2 Gram Matrix\n",
        "  Args:\n",
        "    gram1 (np.ndarray): Gram Matrix image 1\n",
        "    gram2 (np.ndarray): Gram Matrix image 2\n",
        "  Returns:\n",
        "    float: Similarity between [0, 1]\n",
        "  \"\"\"\n",
        "  numerator = np.sum(gram1 * gram2)\n",
        "  denominator = np.sqrt(np.sum(gram1 * gram1)) * np.sqrt(np.sum(gram2 * gram2))\n",
        "  similarity = numerator / denominator\n",
        "  return similarity"
      ],
      "metadata": {
        "id": "SIQ3GBF3ZF2r"
      },
      "execution_count": null,
      "outputs": []
    },
    {
      "cell_type": "code",
      "source": [
        "feature_map1 = np.array([\n",
        "    [[1, 2], [3, 4]], # channel 1\n",
        "    [[5, 6], [7, 8]], # channel 2\n",
        "    [[9, 10], [11, 12]] # channel 3\n",
        "])\n",
        "\n",
        "feature_map2 = np.array([\n",
        "    [[2, 4], [6, 8]], # channel 1\n",
        "    [[1, 3], [5, 7]], # channel 2\n",
        "    [[0, 2], [4, 6]] # channel 3\n",
        "])\n",
        "\n",
        "# Compute gram matrix\n",
        "gram1 = compute_gram_matrix(feature_map1)\n",
        "gram2 = compute_gram_matrix(feature_map2)\n",
        "\n",
        "# Compute similarity\n",
        "similarity = compute_similarity(gram1, gram2)\n",
        "print(f\"Similarity: {similarity:.2f}\")"
      ],
      "metadata": {
        "colab": {
          "base_uri": "https://localhost:8080/"
        },
        "id": "YvOXoyivcojb",
        "outputId": "440356bc-3697-49c5-bc3c-6970e9ce43f8"
      },
      "execution_count": null,
      "outputs": [
        {
          "output_type": "stream",
          "name": "stdout",
          "text": [
            "Similarity: 0.67\n"
          ]
        }
      ]
    },
    {
      "cell_type": "markdown",
      "source": [
        "# Day 17: Getting Started with WandB\n",
        "\n",
        "\n",
        "---\n",
        "\n"
      ],
      "metadata": {
        "id": "QMmVLEXZqBrK"
      }
    },
    {
      "cell_type": "code",
      "execution_count": null,
      "metadata": {
        "id": "L9QZbsqlXKvu",
        "colab": {
          "base_uri": "https://localhost:8080/"
        },
        "outputId": "9fc4c5c9-34c9-452a-82c9-68761b7357a9"
      },
      "outputs": [
        {
          "output_type": "stream",
          "name": "stdout",
          "text": [
            "Requirement already satisfied: wandb in /usr/local/lib/python3.11/dist-packages (0.19.6)\n",
            "Requirement already satisfied: click!=8.0.0,>=7.1 in /usr/local/lib/python3.11/dist-packages (from wandb) (8.1.8)\n",
            "Requirement already satisfied: docker-pycreds>=0.4.0 in /usr/local/lib/python3.11/dist-packages (from wandb) (0.4.0)\n",
            "Requirement already satisfied: gitpython!=3.1.29,>=1.0.0 in /usr/local/lib/python3.11/dist-packages (from wandb) (3.1.44)\n",
            "Requirement already satisfied: platformdirs in /usr/local/lib/python3.11/dist-packages (from wandb) (4.3.6)\n",
            "Requirement already satisfied: protobuf!=4.21.0,!=5.28.0,<6,>=3.19.0 in /usr/local/lib/python3.11/dist-packages (from wandb) (4.25.6)\n",
            "Requirement already satisfied: psutil>=5.0.0 in /usr/local/lib/python3.11/dist-packages (from wandb) (5.9.5)\n",
            "Requirement already satisfied: pydantic<3,>=2.6 in /usr/local/lib/python3.11/dist-packages (from wandb) (2.10.6)\n",
            "Requirement already satisfied: pyyaml in /usr/local/lib/python3.11/dist-packages (from wandb) (6.0.2)\n",
            "Requirement already satisfied: requests<3,>=2.0.0 in /usr/local/lib/python3.11/dist-packages (from wandb) (2.32.3)\n",
            "Requirement already satisfied: sentry-sdk>=2.0.0 in /usr/local/lib/python3.11/dist-packages (from wandb) (2.22.0)\n",
            "Requirement already satisfied: setproctitle in /usr/local/lib/python3.11/dist-packages (from wandb) (1.3.4)\n",
            "Requirement already satisfied: setuptools in /usr/local/lib/python3.11/dist-packages (from wandb) (75.1.0)\n",
            "Requirement already satisfied: typing-extensions<5,>=4.4 in /usr/local/lib/python3.11/dist-packages (from wandb) (4.12.2)\n",
            "Requirement already satisfied: six>=1.4.0 in /usr/local/lib/python3.11/dist-packages (from docker-pycreds>=0.4.0->wandb) (1.17.0)\n",
            "Requirement already satisfied: gitdb<5,>=4.0.1 in /usr/local/lib/python3.11/dist-packages (from gitpython!=3.1.29,>=1.0.0->wandb) (4.0.12)\n",
            "Requirement already satisfied: annotated-types>=0.6.0 in /usr/local/lib/python3.11/dist-packages (from pydantic<3,>=2.6->wandb) (0.7.0)\n",
            "Requirement already satisfied: pydantic-core==2.27.2 in /usr/local/lib/python3.11/dist-packages (from pydantic<3,>=2.6->wandb) (2.27.2)\n",
            "Requirement already satisfied: charset-normalizer<4,>=2 in /usr/local/lib/python3.11/dist-packages (from requests<3,>=2.0.0->wandb) (3.4.1)\n",
            "Requirement already satisfied: idna<4,>=2.5 in /usr/local/lib/python3.11/dist-packages (from requests<3,>=2.0.0->wandb) (3.10)\n",
            "Requirement already satisfied: urllib3<3,>=1.21.1 in /usr/local/lib/python3.11/dist-packages (from requests<3,>=2.0.0->wandb) (2.3.0)\n",
            "Requirement already satisfied: certifi>=2017.4.17 in /usr/local/lib/python3.11/dist-packages (from requests<3,>=2.0.0->wandb) (2025.1.31)\n",
            "Requirement already satisfied: smmap<6,>=3.0.1 in /usr/local/lib/python3.11/dist-packages (from gitdb<5,>=4.0.1->gitpython!=3.1.29,>=1.0.0->wandb) (5.0.2)\n"
          ]
        }
      ],
      "source": [
        "# install\n",
        "!pip install wandb"
      ]
    },
    {
      "cell_type": "code",
      "source": [
        "!wandb login"
      ],
      "metadata": {
        "id": "Dq48D5_Gg3n5",
        "colab": {
          "base_uri": "https://localhost:8080/"
        },
        "outputId": "18514106-78c8-4147-9dd9-dcc7fec36898"
      },
      "execution_count": null,
      "outputs": [
        {
          "output_type": "stream",
          "name": "stdout",
          "text": [
            "\u001b[34m\u001b[1mwandb\u001b[0m: Currently logged in as: \u001b[33mlethidiemmy961996\u001b[0m (\u001b[33mlethidiemmy961996-aivietnam-edu-vn\u001b[0m) to \u001b[32mhttps://api.wandb.ai\u001b[0m. Use \u001b[1m`wandb login --relogin`\u001b[0m to force relogin\n"
          ]
        }
      ]
    },
    {
      "cell_type": "markdown",
      "source": [
        "### Model Linear Regression"
      ],
      "metadata": {
        "id": "Zq3_MIeI4A7g"
      }
    },
    {
      "cell_type": "code",
      "source": [
        "import pandas as pd\n",
        "import wandb\n",
        "\n",
        "areas = [6.7, 4.6, 3.5, 5.5]\n",
        "prices = [9.1, 5.9, 4.6, 6.7]\n",
        "\n",
        "dataset = pd.DataFrame({\n",
        "    'areas': areas,\n",
        "    'prices': prices\n",
        "})"
      ],
      "metadata": {
        "id": "KfS2XxnLg8vc"
      },
      "execution_count": null,
      "outputs": []
    },
    {
      "cell_type": "code",
      "source": [
        "# forward\n",
        "def predict(x, w, b):\n",
        "  return w * x + b\n",
        "\n",
        "# compute gradient\n",
        "def gradient(y_hat, y, x):\n",
        "  dw = 2 * x * (y_hat - y)\n",
        "  db = 2 * (y_hat - y)\n",
        "\n",
        "  return (dw, db)\n",
        "\n",
        "# update weights\n",
        "def update(w, b, lr, dw, db):\n",
        "  w -= lr * dw\n",
        "  b -= lr * db\n",
        "  return w, b"
      ],
      "metadata": {
        "id": "NuulFAPr3y_V"
      },
      "execution_count": null,
      "outputs": []
    },
    {
      "cell_type": "code",
      "source": [
        "# init weights\n",
        "b = 0.04\n",
        "w = -0.34\n",
        "lr = 0.01\n",
        "epochs = 10\n",
        "\n",
        "# init project wandb\n",
        "wandb.init(\n",
        "  # Set the project where this run will be logged\n",
        "  project=\"demo-linear-regression\",\n",
        "  config={\n",
        "      \"learning_rate\": lr,\n",
        "      \"epochs\": epochs,\n",
        "  },\n",
        ")"
      ],
      "metadata": {
        "id": "kDg9TLnS5X-6",
        "colab": {
          "base_uri": "https://localhost:8080/",
          "height": 125
        },
        "outputId": "edfbf1cc-f4f4-44fa-e312-1069f0569be7"
      },
      "execution_count": null,
      "outputs": [
        {
          "output_type": "display_data",
          "data": {
            "text/plain": [
              "<IPython.core.display.HTML object>"
            ],
            "text/html": [
              "Tracking run with wandb version 0.19.6"
            ]
          },
          "metadata": {}
        },
        {
          "output_type": "display_data",
          "data": {
            "text/plain": [
              "<IPython.core.display.HTML object>"
            ],
            "text/html": [
              "Run data is saved locally in <code>/content/wandb/run-20250223_112432-wz0w9dsl</code>"
            ]
          },
          "metadata": {}
        },
        {
          "output_type": "display_data",
          "data": {
            "text/plain": [
              "<IPython.core.display.HTML object>"
            ],
            "text/html": [
              "Syncing run <strong><a href='https://wandb.ai/lethidiemmy961996-aivietnam-edu-vn/demo-linear-regression/runs/wz0w9dsl' target=\"_blank\">likely-disco-2</a></strong> to <a href='https://wandb.ai/lethidiemmy961996-aivietnam-edu-vn/demo-linear-regression' target=\"_blank\">Weights & Biases</a> (<a href='https://wandb.me/developer-guide' target=\"_blank\">docs</a>)<br>"
            ]
          },
          "metadata": {}
        },
        {
          "output_type": "display_data",
          "data": {
            "text/plain": [
              "<IPython.core.display.HTML object>"
            ],
            "text/html": [
              " View project at <a href='https://wandb.ai/lethidiemmy961996-aivietnam-edu-vn/demo-linear-regression' target=\"_blank\">https://wandb.ai/lethidiemmy961996-aivietnam-edu-vn/demo-linear-regression</a>"
            ]
          },
          "metadata": {}
        },
        {
          "output_type": "display_data",
          "data": {
            "text/plain": [
              "<IPython.core.display.HTML object>"
            ],
            "text/html": [
              " View run at <a href='https://wandb.ai/lethidiemmy961996-aivietnam-edu-vn/demo-linear-regression/runs/wz0w9dsl' target=\"_blank\">https://wandb.ai/lethidiemmy961996-aivietnam-edu-vn/demo-linear-regression/runs/wz0w9dsl</a>"
            ]
          },
          "metadata": {}
        },
        {
          "output_type": "execute_result",
          "data": {
            "text/html": [
              "<button onClick=\"this.nextSibling.style.display='block';this.style.display='none';\">Display W&B run</button><iframe src='https://wandb.ai/lethidiemmy961996-aivietnam-edu-vn/demo-linear-regression/runs/wz0w9dsl?jupyter=true' style='border:none;width:100%;height:420px;display:none;'></iframe>"
            ],
            "text/plain": [
              "<wandb.sdk.wandb_run.Run at 0x7b13de97ba50>"
            ]
          },
          "metadata": {},
          "execution_count": 37
        }
      ]
    },
    {
      "cell_type": "code",
      "source": [
        "wandb.run.log({\"Dataset\" :  wandb.Table(dataframe=dataset)})\n",
        "\n",
        "X_train = dataset['areas']\n",
        "Y_train = dataset['areas']\n",
        "\n",
        "N = len(X_train)\n",
        "\n",
        "# parameters\n",
        "losses = [] # for visualize, debug, evaluate model\n",
        "\n",
        "for epoch in range(epochs):\n",
        "  # for an epoch\n",
        "  for i in range(N):\n",
        "    # get a sample\n",
        "    x = X_train[i]\n",
        "    y = Y_train[i]\n",
        "\n",
        "    # predict y_hat\n",
        "    y_hat = predict(x, w, b)\n",
        "\n",
        "    # compute loss\n",
        "    loss = 0.5 * ((y_hat - y) ** 2)\n",
        "\n",
        "    # tracking loss with wandb\n",
        "    wandb.log({\"loss\": loss})\n",
        "\n",
        "    # compute gradient\n",
        "    dw, db = gradient(y_hat, y, x)\n",
        "\n",
        "    # update weights\n",
        "    w, b = update(w, b, lr, dw, db)\n",
        "\n",
        "# Mark a run as finished, and finish uploading all data\n",
        "wandb.finish()\n"
      ],
      "metadata": {
        "id": "R_rnb2nPAnlJ",
        "colab": {
          "base_uri": "https://localhost:8080/",
          "height": 336
        },
        "outputId": "bb467bd5-9751-4207-ceb4-029a198b834b"
      },
      "execution_count": null,
      "outputs": [
        {
          "output_type": "display_data",
          "data": {
            "text/plain": [
              "<IPython.core.display.HTML object>"
            ],
            "text/html": []
          },
          "metadata": {}
        },
        {
          "output_type": "display_data",
          "data": {
            "text/plain": [
              "<IPython.core.display.HTML object>"
            ],
            "text/html": [
              "<br>    <style><br>        .wandb-row {<br>            display: flex;<br>            flex-direction: row;<br>            flex-wrap: wrap;<br>            justify-content: flex-start;<br>            width: 100%;<br>        }<br>        .wandb-col {<br>            display: flex;<br>            flex-direction: column;<br>            flex-basis: 100%;<br>            flex: 1;<br>            padding: 10px;<br>        }<br>    </style><br><div class=\"wandb-row\"><div class=\"wandb-col\"><h3>Run history:</h3><br/><table class=\"wandb\"><tr><td>loss</td><td>█▁▁▁▁▁▁▁▁▁▁▁▁▁▁▁▁▁▁▁▁▁▁▁▁▁▁▁▁▁▁▁▁▁▁▁▁▁▁▁</td></tr></table><br/></div><div class=\"wandb-col\"><h3>Run summary:</h3><br/><table class=\"wandb\"><tr><td>loss</td><td>0.00055</td></tr></table><br/></div></div>"
            ]
          },
          "metadata": {}
        },
        {
          "output_type": "display_data",
          "data": {
            "text/plain": [
              "<IPython.core.display.HTML object>"
            ],
            "text/html": [
              " View run <strong style=\"color:#cdcd00\">likely-disco-2</strong> at: <a href='https://wandb.ai/lethidiemmy961996-aivietnam-edu-vn/demo-linear-regression/runs/wz0w9dsl' target=\"_blank\">https://wandb.ai/lethidiemmy961996-aivietnam-edu-vn/demo-linear-regression/runs/wz0w9dsl</a><br> View project at: <a href='https://wandb.ai/lethidiemmy961996-aivietnam-edu-vn/demo-linear-regression' target=\"_blank\">https://wandb.ai/lethidiemmy961996-aivietnam-edu-vn/demo-linear-regression</a><br>Synced 5 W&B file(s), 1 media file(s), 2 artifact file(s) and 0 other file(s)"
            ]
          },
          "metadata": {}
        },
        {
          "output_type": "display_data",
          "data": {
            "text/plain": [
              "<IPython.core.display.HTML object>"
            ],
            "text/html": [
              "Find logs at: <code>./wandb/run-20250223_112432-wz0w9dsl/logs</code>"
            ]
          },
          "metadata": {}
        }
      ]
    },
    {
      "cell_type": "markdown",
      "source": [
        "Result:\n",
        "- xlabel: computation step epochs x len(data)\n",
        "- ylabel: loss value"
      ],
      "metadata": {
        "id": "oLhc2mTAjYl0"
      }
    },
    {
      "cell_type": "markdown",
      "source": [
        "![image.png](data:image/png;base64,iVBORw0KGgoAAAANSUhEUgAAAusAAAHRCAYAAADT8PdrAAAAAXNSR0IArs4c6QAAAARnQU1BAACxjwv8YQUAAAAJcEhZcwAAEnQAABJ0Ad5mH3gAACrsSURBVHhe7d1/lN11fe/7155JJjMTyG9IApiUJppYhLNAKVoFRZCKWtRFVerRw9FefhRDz6FaPJb6W/QSaWkvw6mGFm8O1gaRiqmK5Yc/QKs0atYlUhNNGgOEJJBkkhCYTJKZuX9kZjPzZZLMwGTv7ySPx1qzSD7f7+ywGJg88+H9/exKZ2dnTwAAgNJpKC4AAADlINYBAKCkxDoAAJSUWAcAgJIS6wAAUFJiHQAASkqsAwBASYl1AAAoKbEOAAAlJdYBAKCkxDoAAJSUWAcAgJIS6wAAUFJiHQAASkqsAwBASYl1AAAoKbHOiOjp6RnwAQDAC1fp7OxUVgxbT09Puru7DxjnlUollUolDQ0NqVQqxcsAAByEWGdY+iK9u7u7eOmAGhoaRDsAwDBVx2Du/+FPcutXvpZ1jzw28I4k6x55LLd+5Wu5/4c/KV7iCNLd3Z29e/cOO9TzAj8XAOBI1ZAkDy5bnpu/9I+5+74f5B8W/1PxnvzD4n/K3ff9IDd/6R/z7z9dXrzMEaC7uztdXV3F5WHr6uoS7AAAQ9SQJJs3b6kuPPnksz8ebG2w6yT5t8/mzLPPzaf+rXhh9BupUO8j2AEAhqYhSc4685V5+amnZNrUKTnv3NcW78l5574206ZOyctPPSVnnfnK4uUjwIP51Nnn5sz+H5fcng3F22psw5LLa/L3MZKh3udQvCYAwOHGA6YHsWHJ5XnnF1fnJZd9Of9w0Yze1Y1Zcsl7ctPq12fh9/4ir0rvzvo1380brr03H/u9ga9xqGxYcnneed85+erN78jM4sURcih3wRsaGtLY2FhcBgCgl3PWD+TfPpt3fnF13nDtvf1CPUlm5KKb780DfaFeJ79Zu7q4NOKGHOqP35HLzjs/r/+TO4a80z/k1wYAOEI1JElXV3du+9rSLPzrm/KTf/9Z8Z785N9/loV/fVNu+9o3ajq+8M/f+Hb++RvfLi4PsHnz1iy65cv55apfFy+9QBuz5EvfTeZelkuGu1PeO7/e9zHYHPuGJZcPHKs5+/IsWV+8a9/4zaf+beBrfupfbs8fn31urr47yeov5p2963+8ZGP1M3/8ucLYzuceHPDKQzHUmH5w4fl5/X//+zyfr8BQfw0AgCNRQ5Lc/8Mf55t33ZMVD6/M177+zeI9+drXv5kVD6/MN++6t6bHNx4zbWq+vvSu/QZ7X6hv3rw1L5334uLlF2b9A7lndfKSc84cxojJ3Kz70rk58wfn5IHv3ZsHvvflfGBucs81n82P+921b7RmVhZ+797e++7NwvNW56b3DBbsybovXd7vNe/Nx/7gHfmH792bheclmXtZvtq73rf7/+PPnZur7359v9f/cj7wn9cM+oeGA9nfmx0VnXH1Xfnu3Xflc+cWrxzcUH8NAIAjUanHYM589Rm59P3vGTTY+0I9Sf7i6j8dcG1ErPt1fpVk9qz+4y8Hszqz33dvHvjIGb0/n5GL3vf6JN/NPf1CeeZFX3jOCM2r/ttleUlW554Hnt0d7/OrnJOvVl/zYB7MPXcnOe+cfq+/b2xnuLP0tQjpWvwaAACj1b7TYF7zqrzl/HNz8knz84dvf0vxnvzh29+Sk0+an7ec/4ac9ZraTmkPFuyHPNSTbHjkkeLS8zP7xXlJknWPPDfCBzh+VmYn+dXadcUryW/PGsbu/uy8ZG6Su7806C79cNQipGvxawAAjFYNSdLY2JB3/eFbc/WffSCv/N2XF+/JK3/35bn6zz6Qd/3hBWlsrP1mfDHYD3WoJ8nMWbOKS4dA/yMhr8k9xcvPy4xcdPO1eUNW56b37H9mHgCA8qt9eT9P/YM9hzjUk2HsiD8f6/c9IHrm2ddk3WVf7p0rvzZvKN73vJ2Rj/V7zXuu2d8DrAAAlFlDkjy1c2f+pu3mXHX1x6sx3N/Xl96Vq67+eP6m7eY8tXNn8XLNnPnqM3LDdZ889KGefmMp9z0w5KMIh2Zjlnzii/lV9j0AOvBIyJHWG+1f3jcPf9P/Gd6JMJVKpbg04mrxawAAjFb7ToN54Cf52fKHsnnL1tx97w+K9+Tue3+QzVu25mfLH8r9D9TuNJjBTJs2pbh0iJyRSy6bm6z+Ym4e0TGSdfnV6uIDoC/A6l/nN8W1ouPPzBvmFhcPrhYhXYtfAwBgtGpIkmOOmVpd6P/jwdamTXvu9cPVzIu+kIXn7Rsj6X+G+b53MH2+oyV9D4De9+xxjutvzx8/j5n13zpx7nNOmukbsRkwp/5vt+Sm1ckbXjvUE2X2aWg49FNStfg1AABGq0pnZ2dPktz/w59k3SOP5azXvDKzZ50w4KZ1jzyW+3/4k8yedULOes0rB1w7Iqy/PX/8ni/mV/3X5l6Wr958ZrJ+RmYe3/umRdd8N2+4tnBEYu/n5rIv9xt5eTCf6h/nva/1g0vek5t++9p+Rz/23nde/7WB9p2p3vuTuZel7X2zcmzuyzuv+e6A+57z9zVEe/fuPfCJLY/fkcsGfUOkObn8/23LO48rrj+rUqlkzJgxxWUAAHpVYx0G093dfcjetbaxsdHOOgDAASglDqihoeGQBPWhel0AgMOJWuKgGhsbR/RB0EqlksbGxuIyAAAFYp0hGTNmzIgEuzl1AIChE+sM2ZgxY17Q6EpDQ4NQBwAYBg+YMmw9PT3p7u5Od3d38dKg+ubTR2JnHgDgSCLWed56enoGfPRXqVQGfAAAMHxiHQAASur5DyADAACHlFgHAICSEusAAFBSYh0AAEpKrAMAQEmJdQAAKCmxDgAAJSXWAQCgpMQ6AACUlFgHAICSEusAAFBSYh0AAEpKrAMAQEmJdQAAKCmxDgAAJVXp7OzsKS4+Hzt37szWrVvT0dFRvAQAMGq0tLRkypQpOeqoo4qXoOZGJNZ37tyZTZs25bjjjsuECRNSqVSKtwAAlF5PT0927NiRxx9/PNOnTxfs1N2IjMFs3bo1xx13XCZOnCjUAYBRq1KpZOLEiTnuuOOydevW4mWouRGJ9Y6OjkyYMKG4DAAwKk2YMMFoL6UwIrGe3j+JAgAcDnQNZTFisQ4AAIwssQ4AACUl1gEAoKTEOgAAlJRYBwCAkhLrAABQUmIdAABKSqwDAEBJiXUAACgpsQ4AACUl1gEAoKTEOgAAlJRYBwCAkhLrAABQUmIdAABKSqwDAEBJiXUAACgpsQ4AACUl1gEAoKTEOgAAlJRYBwCAkhLrAABQUmIdAABKSqwDAEBJiXUAACgpsQ4AACUl1gEAoKTEOgAAlJRYBwCAkhLrAABQUmIdAABKSqwDAEBJiXUAACgpsQ4AACUl1gEAoKTEOgAAlJRYBwCAkhLrAABQUmIdAABKSqwDAEBJiXWgLlauWpVz3/jmfOBP/2c6OjqKlwEAsQ4AAOUl1gEAoKTEOgAAlJRYB0rnU5/5bM549VnVjwd+9KMB1zdv2ZIL3/lH1esXvvOPsnnLlur1vnn4vuvm4gEYrcQ6UBp9Ef6tu74zYP1DV38kt/7jV5IkHR0d+fgnP53H1q+vXn9s/fpc9icLsnnLlmzesiXXfPQTeeqpp6rXf/qzn+dDH/6IYAdg1BHrQGnc9Z1/zWPr1+cVLz8t37/3X/Pgj+7P9Qs/lyS58xv/ks1btmTdI49k1a9+PeCev2v721z76U9k2tSp+eXKlXls/fq8+fw35sEf3Z8Hf3R/PvWJj+WTH/9oWlpair8kAJSaWAdKoaOjIz958N+TJBe96x3VsH7FaaflFS8/LY+tX59frlyZ2bNmZd5LXjxgt/y0U0/N/HnzkiQvnT8/Jxx/fL5113fyqc98Nkny+284N9OmTu33qwHA6CDWgVJ4+plnsnHjphx99NE5Ztq06npLS0umH3tskuQ3v1mXlpaWXH/d5/KKl5+Wn/7s53ndub8/YK592tSp+eLftVWD/YxXn5Vz3/jmrFy1qvqaADBaiHWgFMa3tmbGjOl56qmn8uTmzdX1jo6ObHriiSTJb/3W7KQ34G/6f/5mwJjM3/xtW/Uh02lTp+aOr/5THvzR/VlwxeV56qmncuNNf2dmHYBRR6wDpdDS0pJXnvG7SZIlt91eDeuf/vzn+enPfp4Tjj8+L50/P5u3bMnF77+kulPeNyazfceObN68OStXrcrF77+kGu7nv/H3c8Lxx2fjxk15+pln+v2KAFB+Yh2oi2nTpmXihAn56c9+ns//1Q1Jv7DuP97yoas/kiR521v/INOmTs1d3/nXapCf8eqz8rpzfz8//dnPM3HChEybNi1fvf2OrFy1Km++4O0549Vn5c0XvD2PrV+fGTOmZ3xra+HvAgDKTawDdTFt6tT8l1NOTpL8fw+tyOYtWzJt6tR8efEtecXLTxtw7/ULP5f3/td3J0ne+1/fncW33Jyjjz66ev2E44/PF/+uLdOmTs3H/vIvqqMxfV7x8tNy/XWfcxoMAKNOpbOzs6e4OFyrVq3KySfv+00XAOBwsGLFiszrPWkK6sXOOgAAlJRYBwCAkhLrAABQUmIdAABKSqwDAEBJiXUAACgpsQ4AACUl1gEAoKTEOgAAlJRYBwCAkhLrAABQUmIdAABKSqwDAEBJiXUAACgpsQ4AACUl1gEAoKTEOgAAlJRYBwCAkhLrAABQUmIdAABK6oiP9S1b2vPX96zLF+5fX7wEAAB1dcTHep+OPT3FJQAAqCux3kusAwBQNmK91zN7uotLAABQV2K91669dtYBACgXsd7rGWMwAACUjFjv9cxusQ4AQLmI9V521gEAKBux3qvDzDoAACUj1pM0Vhoc3QgAQOmI9SRjKt2ObgQAoHTEepKxYxqyuyvptrkOAECJiPUkjZV9f31mt911AADKQ6wnaer9pyDWAQAoE7HeOwaTJE+bWwcAoETEepIxDfuG1e2sAwBQJmI9ydiGfUPrT4t1AABKRKzbWQcAoKTEepIxDfv+MYh1AADKRKwnGdu3s+4BUwAASkSsJxlrZx0AgBIS60nG9L4rkgdMAQAoE7GeZGyjMRgAAMpHrCdprNhZBwCgfMR6kqYx+/5qZh0AgDIR60nG9O6si3UAAMpErCfpfb7UzDoAAKUi1pM0jbGzDgBA+Yj1JL2t7gFTAABKRawnqVSS5jEVO+sAAJSKWO/VPMbOOgAA5SLWe7WObcjurp5073t/JAAAqDux3qtl7L7B9Z2dXcVLAABQF2K9V2tvrDu+EQCAshDrvVqqxzeagwEAoBzEeq++MRgnwgAAUBZivVdrkzEYAADKRaz36ttZd3wjAABlIdZ7tY7Z94/CGAwAAGUh1nvZWQcAoGzEeq/q0Y1iHQCAkhDrvaqnwXjAFACAkhDrvRzdCABA2Yj1Xs++KZJYBwCgHMR6r+oDpsZgAAAoCbHeq3WsoxsBACgXsd6rbwzG0Y0AAJSFWO/l6EYAAMpGrPdyGgwAAGUj1vtpGdvgnHUAAEpDrPfT2tRgZx0AgNIQ6/2Mb2rI7q6edPcUrwAAQO2J9X76jm/c2dlVvAQAADUn1vtpbdr3j8PxjQAAlIFY72d8b6ybWwcAoAzEej/VnXUnwgAAUAJivZ++N0bqsLMOAEAJlCbWly69KwsWfLj6sWzZ8gHXly1bXr22cOGN6ejYNeD6SDCzDgBAmZQi1pcuvSsrV67O5z//ybS1XZeLL74od9757bS3b0uSrFmzNnfe+a1cddXlaWu7LpMmTcitt95WfJkXrDqzbgwGAIASKEWsX3DB+bn66ivT0tKcJJk798Q0N4/L1q3tSZKHH16Z2bNflDlzTkySnHPOWdm06clqzI+Uvp11D5gCAFAGpYj1ottv/0bGjRuX446bmY6OXVm5cnVmzDi2en3KlMlJUo35kdJ3zroxGAAAyqDS2dn5gt+vc9WqVTn55JOLy8PS0bErN954cx555LGcd97rcsEF5w9YP/vs1+T000/d79rBbN26vbiUJNmzZ3e6u3tSqVTyw0f35P9+4KlcdHJL/vupR1XvGT9+/IDPAQAOrZaWccWlmluxYkXmzZtXXIaaKk2s97d06V158MGf50Mf+kCam5ufE+bPJ9Z37NhZXEqS7Nq1K11d3WloaMjPNnXnY/e2560vHZ8Frzy6es/48S0DPgcAOLSampqKSzUn1imDUsZ6X4zPnz83F1xwfhYtWpwZM46t7ra3t29LW9vf593vvrA6x/58bdnSnt2796SpaWx+88y4XHb7o3nL70zIJ944s3grAHAEEeuUQSln1otmzDg2Gzc+Uf1536x63+z6SKk+YLrnBf/5BQAAXrBSxPqiRYuzaNHi6s9/8YtfZtOmJ3PSSfOTJCedND/r1j2aNWvWJknuu+/+TJ9+TCZPnlT9nJFQPbrRA6YAAJRAKcZg2tu35fbbv5GHHvqPJMm4ceNyxRXvGzDismzZ8ixevCRJMmvWCbnyykuqRz2+EP3HYHqaj84bv7gmp8xsyS1/NKt4KwBwBDEGQxmUItbrqX+st0yYmLNu/HXmTBuX2/7bbxVvBQCOIGKdMijFGExZ9J2zbgwGAIAyEOsFrWMbvCkSAAClINYLWpsasrOzq7gMAAA1J9YLWpsa0t2T7O56waP8AADwgoj1gr7jGzv2GIUBAKC+xHpB3xsjmVsHAKDexHrBeCfCAABQEmK9oMW7mAIAUBJivWB8UyUxBgMAQAmI9YLWsY2JnXUAAEpArBdUHzB1GgwAAHUm1guqRzfaWQcAoM7EeoGjGwEAKAuxXtC3s/6MMRgAAOpMrBe0jN13GowHTAEAqDexXtC3s24MBgCAehPrBX0z63bWAQCoN7Fe0DrWzjoAAOUg1gs8YAoAQFmI9YJnx2B6ipcAAKCmxHpBS+8YjJl1AADqTawPorWpQawDAFB3Yn0Q45sasnN3V3EZAABqSqwPonVsQ7p7kt17za0DAFA/Yn0Q1TdGciIMAAB1JNYH4Y2RAAAoA7E+CLEOAEAZiPVB9L2LqTdGAgCgnsT6IPp21p+2sw4AQB2J9UH0PWBqDAYAgHoS64Mwsw4AQBmI9UGM751ZNwYDAEA9ifVBVHfWPWAKAEAdifVBeMAUAIAyEOuD6Du6sUOsAwBQR2J9ENWddWMwAADUkVgfxPimSuI0GAAA6kysD8LRjQAAlIFYH0TfmyJ5wBQAgHoS64Owsw4AQBmI9UE0j2lIQ8UDpgAA1JdY34+WsQ2ObgQAoK7E+n6Mb2owsw4AQF2J9f1obWpId0/SubeneAkAAGpCrO9H9Y2R7K4DAFAnYn0/xo91IgwAAPUl1vejenyjE2EAAKgTsb4fxmAAAKg3sb4frcZgAACoM7G+H+ONwQAAUGdifT+qM+t21gEAqJPSxPrSpXdlwYIPZ8GCD+eaa65Ne/u2AdeXLVtevb5w4Y3p6Ng14PpIM7MOAEC9lSLWFy1anJUrV+fzn/9k2tquyxlnnJabb761GuRr1qzNnXd+K1dddXna2q7LpEkTcuuttxVfZkRVx2DEOgAAdVKKWL/00otz9dVXpqWlOUly0knzs3379jz++IYkycMPr8zs2S/KnDknJknOOeesbNr05HN230dSiwdMAQCos1LE+mCam5szZcrkdHTsysqVqzNjxrHVa1OmTE6SbN3a3u8zRlbfzroxGAAA6qXS2dnZU1wcrlWrVuXkk08uLj9vixYtzrZtO3LllZckSW688eacffZrcvrppyZJOjp2PWftYJ5+uqO4lCR5+uln0tXVlcbGhurOfpI8tHF3/se/PJlz57bmM2+aOeBzAIBDa8yYMcWlmluxYkXmzZtXXIaaKl2sL1u2PEuWfD1XXPG+zJlz4qBhPtjawTz55NbiUpKkq6srPT09qVQqqVQq1fX/bO/Kld/ellee0JTr3jxjwOcAAIfW+PEtxaWaE+uUQalifc2atfnf//tLee1rX5ULLji/ur5o0eLMmHFsda29fVva2v4+7373hdU59udry5b27N69J01NYzN16r7xmiR5bNuevO2W/8zpL2rN373jRQM+BwA4/Il1yqA0M+vt7dtyyy1fybx5cwaEepLMmHFsNm58ovrzvln1vtn1Q6F6dKM3RQIAoE5KEevt7dty/fU3ZeLECXnve99VvJyTTpqfdesezZo1a5Mk9913f6ZPPyaTJ08q3jpiHN0IAEC9lWIMZunSu3L33d8vLueUU34nl156cdI7y7548ZIkyaxZJ+TKKy8Z8EDo87W/MZgk+d0bVmXa+DH59qVzBqwDAIc/YzCUQSlivZ4OFOuvu+nX6elJfrDgxQPWAYDDn1inDEoxBlNWrU0N6TCzDgBAnYj1Axg/tiHdPRHsAADUhVg/gL4TYcQ6AAD1INYPoO9EmKedCAMAQB2I9QPo21l3fCMAAPUg1g+gdWzfzvoLPjAHAACGTawfgJ11AADqSawfQDXWPWAKAEAdiPUD8IApAAD1JNYPoG9mvUOsAwBQB2L9AKo768ZgAACoA7F+AC0eMAUAoI7E+gGMrx7dKNYBAKg9sX4Ajm4EAKCexPoBiHUAAOpJrB+AB0wBAKgnsX4AdtYBAKgnsX4AfQ+YinUAAOpBrB9A05hKGirJM8ZgAACoA7F+EOObGhzdCABAXYj1g2htajAGAwBAXYj1g+g7EcYoDAAAtSbWD8KJMAAA1ItYP4hWJ8IAAFAnYv0gqjvrxmAAAKgxsX4QxmAAAKgXsX4QfW+M5PhGAABqTawfhJ11AADqRawfRN/RjXbWAQCoNbF+EB4wBQCgXsT6QRiDAQCgXsT6QfSds24MBgCAWhPrB9G3s95hDAYAgBoT6wfx7AOmPcVLAABwSIn1g+gbgzGzDgBArYn1g3B0IwAA9SLWD8JpMAAA1ItYP4jqGIwHTAEAqDGxfhBNYyppqBiDAQCg9sT6EBzV1JgOsQ4AQI2J9SFobWowBgMAQM2J9SHwkCkAAPUg1odgfFMlcXwjAAA1JtaHoLWpMXEiDAAANSbWh6B1rJ11AABqT6wPgZl1AADqQawPwXixDgBAHYj1IajurJtZBwCghsT6ELSOtbMOAEDtifUh6BuD8YApAAC1JNaHwAOmAADUQ6lifc2atfngBz+WpUvvKl7KsmXLs2DBh7NgwYezcOGN6ejYVbzlkOkbg3nazDoAADVUmlhfuvSu3HDDF9LZ2Vm8lDVr1ubOO7+Vq666PG1t12XSpAm59dbbircdMnbWAQCoh9LE+gUXnJ/Pf/6TmTXrhOKlPPzwysye/aLMmXNikuScc87Kpk1Ppr19W/HWQ8LRjQAA1ENpYn1/Ojp2ZeXK1Zkx49jq2pQpk5MkW7e297vz0LGzDgBAPZQ+1vvMnDmj+uPm5uaMGzcuW7cOfWd9796uQT96enqSJD09Pc+51vfhnHUAAOqh0tnZua9WX4BVq1bl5JNPLi4PW0fHrtx4482ZP39uLrjg/AFrZ5/9mpx++qn7XTuYDRueKC4N2d7GcXn7lzdm7tQx+eLbnt3hBwBG3pgxjRk/vrW4XHMrVqzIvHnzistQU6WP9SRZtGhxZsw4trrW3r4tbW1/n3e/+8LqHPvBdHUNvive3r4te/bszdixYzJ58qTi5SRJVyr5vb/9VV40aWy+/v7fLl4GAA5DYp0yGBVjMDNmHJuNG5/dGe+bVe+bXR+KxsaGQT8qlUqSpFKpPOda30dTYyUNFW+KBABAbY2KWD/ppPlZt+7RrFmzNkly3333Z/r0Y/a7E34oHDWu0QOmAADUVCnGYNrbt+X662/K9u07BqxffPFF1Zn0ZcuWZ/HiJUmSWbNOyJVXXpKWluYB9z8fW7a0Z/fuPWlqGpupU/e/U/8Hf/+f2bBjT/79qnlp2LcZDwAcxozBUAaliPV6Gmqsv+v//CZrNnfm+x94cY4aNyr+hwQA8AKIdcpAdQ7R+LGObwQAoLbE+hB5YyQAAGpNrA9Ra9O+QXWxDgBArYj1IWrtHYNxfCMAALUi1oeotakxMbMOAEANifWqA5/HOL53DMbOOgAAtSLWh8gDpgAA1JpYH6LxYh0AgBoT60PU4px1AABqTKwPkZ11AABqTawPUd/MugdMAQCoFbFe1VNcGMADpgAA1JpYH6LxfW+KZGYdAIAaEetDZGcdAIBaE+tD5AFTAABqTawP0VHjGhNHNwIAUENifYgaKsnYxoqddQAAakasD0Pr2AZHNwIAUDNifRjGNzWkc29Pug98yiMAAIwIsT4M3hgJAIBaEuvD4PhGAABqSawPQ2vfGyOJdQAAakCsD4OddQAAakmsD0P1jZGctQ4AQA2I9WGwsw4AQC2J9WGo7qyLdQAAakCsD0P1AVNjMAAA1IBYHwZjMAAA1JJYH4bWpkri6EYAAGpErA9D3xiMnXUAAGpBrA+DoxsBAKglsV61b8TlQMysAwBQS2J9GBzdCABALYn1YejbWfeAKQAAtSDWh6H6gKmZdQAAakCsD8NR4xoTO+sAANSIWB+GhkrS1Fgxsw4AQE2I9WFqbWoQ6wAA1IRYH6bWpobs7upJd0/xCgAAjCyxPkx9xzfu7OwqXgKAUW3NmrX54Ac/lgULPpwFCz6chQtvTEfHriRJe/u2LFx4Y9rbtxU/DTiExPowOREGgMPRmjVrc8st/5grrnhf2tquS1vbdZk0aUJuvfW2JMnWre3p7OwsfhpwiIn1YfIupgAcjrZu3ZaJEyfmuONmVtcuvfTiXHrpxQPuA2pLrA+TN0YC4HA0ZcqkbNr0ZH7xi18WL2XZsuW54YYvZNOmJ/PRj34u11xzbXUcZunSu6pjM/3X29u35dOfvj733PP9AaM1y5YtL7w6cCCNH/3oRz9RXByuLVu2ZPr06cXlUaGjY1e6urrT2NiQ1taW4uXn+PHap7Pqyc6cN+/onDCpqXgZAEalKVMmZ8qUSVm8eEm+/e17s3fv3syb9+IkyfHHz8y8eXOzdu26/K//9T/y5jefl5aW5ixbtjz33Xd//vIv/ywXXvgHmTDh6Nxxxzdz2mn/JXv37s399/847e3b85GP/M+89a3n55hjpuXOO7+d0047JS0tzcW/hdJ54oknMm3atOIy1JSd9WGysw7A4er0009NW9t1ufjii3L33ft2xNesWVu8Lend7Pre936Yt73tTZk8eVKS5GUve2mam8fl8cc3VO87++zXVMN87twTkySrVw/+msBzifVh6ov1jj3ObgTg8NQX7fPmzckdd3yzeiJMf7t27cr27TuyePGS6ojLn//5x7Nu3WPFW6uam5szceKEbNiwsXgJ2A+xPkx9RzfaWQfgcHfqqadk+/Yd2bXrubHeF94XX3xR9fSYtrbr8ld/9anMmbNvB72oL/BnzpxRvATsh1gfJqfBAHC46ejYlYULbxxwrnrfmMvs2SdUx1x27dqVrVvbkyQtLc2ZP39u7rzz2wPOXl+//tkRmCRZvvyh6o9vv/0bmThxQl72spcOuAfYv0pnZ+cLnudYtWpVTj755OLyqLBlS3t2796TpqaxmTp1cvHyc3zrP3bk49/ZkPefMTVXvNpDJwAcPhYtWpyHHvqP6s9POeV3Bhzd2Hd93LhxueKK92XOnBOzbNnyLF68pHrPrFkn5MorL8muXbty/fU3ZfbsE6qvOXHihHzoQx+oxn/ZrVixIvPmzSsuQ02J9WHG+vdW78yfL12fd506OX9+9rHFy9TBpk2b09LSnAkTjipe4jD0zDMdeeqppzN9uj8sHyk2b96arq5uX/NRpr19W66//qa87W1vyumnn1q8fECbNm1Oc/O4TJx4dPFSTYl1ysAYzDD1zawbgymP7m5fiyONrzkc3vw3Ds8S68PUOtYDpgAA1IZYHyYPmALAwU2ePCnXXnvNsEdggIHE+jBVx2D2iHUAGGmPbtudniSbntpTvARHJLE+TC1jK4mddQAYcV/5eXvefsvadPckyx55Jh+449Hs7Owq3gZHFKfB9J4G09jYmNbWfW+HfDCvW/RYjh7XkAtfNr54KQ2VSsaNqaR5TEOaxyTjxjSkZWwl4xor2dPdk67uZG93T/Z2J3u6erK3uyddPcne7mRv9ef7rleSjGmopLFh31/3faT3o/fnjb33VPb99Uj0zDO7MnZsY8aOHVu8xGFo79692b17737/e+15wd/RKJvOzs709PSkuXnwrzmHh2d2d+W7q3cmSd71spb88sm9ue2XnXnTSyfm8t+rz0lAToOhDMT6lm3p6upKV9fQ/+T+8e/vjCkYADg0XvOiMWke05BbV3Rm1uSmLHrni4q31IRYpwyO+FhPkp07n85TTz1dXAYA6qAnyQ/W7c6SX3TmpJkt+eybjyveUhNinTIQ64x6GzY8kfHjW70p0hHimWc6sn37U5k505uSHSm8KdKR44o7Hs2j7XvyhTcdlR8/tjf/vGpP/vTMaXnlbz137LQWxDpl4AFTAKAUFr7luLzppfvetXRSS0MWvKZ+oQ5lIdYBgFI4alxj/uTVx6Shkpw+a3x+70ShDmIdAABKSqwDAEBJiXUAACgpsc6oN2HCUWls9K/ykcTJP0eWlpbmHHVUa3GZw9iECUdlzJjG4jIckRQOo9748a0ZP95v5EeK1tYWX+8jjP/Gjzy+5vAssQ4AACUl1gEAoKTEOgAAlJRYBwCAkhLrAABQUmIdAABKSqwDAEBJiXUAACgpsQ4AACVV6ezs7CkuDteqVaty8sknF5fhkFi0aHHWrXssH/rQBzJ58qTqenv7tlx//U3Zvn1Hxo0blyuueF/mzDlxwOcyuixdelfuvvv7SZKJEyc852u+bNnyLF68JEkya9YJufLKS9LS0ly9zujS0bErN954cx555LFkkK958frFF1+U008/dcBrMHoN9r293t/XV6xYkXnz5hWXoabsrDNqtLdvyzXXXJuHHvqP4qV0dOzKzTffmjPOOC1tbdfloovenltu+Ura27cVb2WUWLRocVauXJ3Pf/6TaWu7LmeccVpuvvnWdHTsSpKsWbM2d975rVx11eVpa7sukyZNyK233lZ8GUaJvhCfP39u2tquS1vbdZk9+4Tcfvs3qvfceuttmTRpQtrarstVV12eO+/8VtasWTvgdRidli1bnnXrHk1z87jqmu/rsI9YZ9SYPHlSrr32mlx88UXFS3n88Q3p7OzMmWe+Kknyspe9NBMnTsjq1X4jH60uvfTiXH31ldWd8pNOmp/t27fn8cc3JEkefnhlZs9+UXWX7ZxzzsqmTU/6jXyUamlpztVXX5kLLji/unbqqadk27Yd6ejYlfb2bdm06cmcc85ZSZI5c07M7NkvysMPr+z3KoxG7e3b8p3v3JfXve41A9Z9X4d9xDqHhYcfXplx48aluXlf2LW0NGfSpAnZsGFj8VZGsebm5kyZMjkdHbuycuXqzJhxbPXalCmTkyRbt7b3+wxGq/b2bbnzzm9n/vy5aWlpzurVa7NrV2f165wkM2Ycm40bnxjweYw+t9/+jUyffkx++7dnD1j3fR32EescNiZNmjBgXtlv5IeX++67f8Bv3Ekyc+aM6o+bm5szbty4bN1qZ300W7NmbT74wY/lM5/567z//e8esNM+ceKE53z9+3beGZ32jb88lne8463FS4nv65CIdWA0WLZseVatWpMLL3yLB0gPc3PmnJi/+qtP5TOf+Yvcccc3s2jR4uItHCb6xl/e//53D3hwHBhIrHNYGGyHbePGJwaMSTA6rVmzNkuWfD2vfe2rqvPpg/3v8F27dqWzszNTpvhN/3DQ0tKcCy98S9atezRr1qzNlCmT0tnZmV27nv1vfMOGjc/ZeWX0eOCBH2fTpidzww1fyIIFH84NN3whmzY9mY9+9HNZtmy57+vQS6xzWCj+Rt7RsSvbtu0YMCbB6NPevi233PKVzJs3Z8A4RAb53+F9s+r9Z5o5fAz2TIJwG90uuOD86sk/fSf8TJ9+TD796Y/k9NNP9X0deol1DgvHHTcz48aNywMP/DhJ8otf/DLbt+/I3Lm1O4+XkdV3vvLEiRPy3ve+q3g5J500v7rrmt6Z9unTj/G/00epvqNZly1bXl277777M3HixBx33MxMnjwp06cfk/vuuz/p/T8u69Y9mpNOmt/vVTic+L4O+3hTJEaN/m+Q06f/G+HU+80zGFmDfb2T5JRTfieXXnpx4k2RDivt7dvS0bErN930D9m+fUcyyNfUmyId3tasWZuvfOWOLFjwf3lTJOhHrAMADEKsUwbGYAAAoKTEOgAAlJRYBwCAkhLrAABQUmIdAABKSqwDAEBJiXUAACgpsQ4AACUl1gEAoKTEOgAAlJRYBwCAkhLrAABQUmIdAABKSqwDAEBJjVis9/T0FJcAAEYlXUNZjEist7S0ZMeOHcVlAIBRaceOHWlpaSkuQ82NSKxPmTIljz/+eLZv3+5PogDAqNXT05Pt27fn8ccfz5QpU4qXoeYqnZ2dI1LXO3fuzNatW9PR0VG8BAAwarS0tGTKlCk56qijipeg5kYs1gEAgJE1ImMwAADAyBPrAABQUmIdAABKSqwDAEBJiXUAACgpsQ4AACUl1gEAoKTEOgAAlJRYBwCAkhLrAABQUmIdAABKSqwDAEBJiXUAACgpsQ4AACUl1gEAoKTEOgAAlJRYBwCAkhLrAABQUmIdAABKSqwDAEBJiXUAACgpsQ4AACUl1gEAoKTEOgAAlJRYBwCAkhLrAABQUmIdAABKSqwDAEBJiXUAACipykMPPdRTXAQAAOrv/wdrmHgTBr31KQAAAABJRU5ErkJggg==)"
      ],
      "metadata": {
        "id": "l8XjI-oHjji0"
      }
    },
    {
      "cell_type": "markdown",
      "source": [
        "### Exercise"
      ],
      "metadata": {
        "id": "ffcDHEQMGBjU"
      }
    },
    {
      "cell_type": "code",
      "source": [
        "import pandas as pd\n",
        "import wandb"
      ],
      "metadata": {
        "id": "x2yWICc0BRa7"
      },
      "execution_count": null,
      "outputs": []
    },
    {
      "cell_type": "code",
      "source": [
        "# read csv file\n",
        "df = pd.read_csv('advertising.csv')\n",
        "# read head file\n",
        "df.head()"
      ],
      "metadata": {
        "colab": {
          "base_uri": "https://localhost:8080/",
          "height": 206
        },
        "id": "y0K_LS-kGQuq",
        "outputId": "b15deba9-a9fa-4b40-9bf1-7ec40b072120"
      },
      "execution_count": null,
      "outputs": [
        {
          "output_type": "execute_result",
          "data": {
            "text/plain": [
              "      TV  Radio  Newspaper  Sales\n",
              "0  230.1   37.8       69.2   22.1\n",
              "1   44.5   39.3       45.1   10.4\n",
              "2   17.2   45.9       69.3   12.0\n",
              "3  151.5   41.3       58.5   16.5\n",
              "4  180.8   10.8       58.4   17.9"
            ],
            "text/html": [
              "\n",
              "  <div id=\"df-851d4bc5-7970-4347-80eb-1f0ba668c64a\" class=\"colab-df-container\">\n",
              "    <div>\n",
              "<style scoped>\n",
              "    .dataframe tbody tr th:only-of-type {\n",
              "        vertical-align: middle;\n",
              "    }\n",
              "\n",
              "    .dataframe tbody tr th {\n",
              "        vertical-align: top;\n",
              "    }\n",
              "\n",
              "    .dataframe thead th {\n",
              "        text-align: right;\n",
              "    }\n",
              "</style>\n",
              "<table border=\"1\" class=\"dataframe\">\n",
              "  <thead>\n",
              "    <tr style=\"text-align: right;\">\n",
              "      <th></th>\n",
              "      <th>TV</th>\n",
              "      <th>Radio</th>\n",
              "      <th>Newspaper</th>\n",
              "      <th>Sales</th>\n",
              "    </tr>\n",
              "  </thead>\n",
              "  <tbody>\n",
              "    <tr>\n",
              "      <th>0</th>\n",
              "      <td>230.1</td>\n",
              "      <td>37.8</td>\n",
              "      <td>69.2</td>\n",
              "      <td>22.1</td>\n",
              "    </tr>\n",
              "    <tr>\n",
              "      <th>1</th>\n",
              "      <td>44.5</td>\n",
              "      <td>39.3</td>\n",
              "      <td>45.1</td>\n",
              "      <td>10.4</td>\n",
              "    </tr>\n",
              "    <tr>\n",
              "      <th>2</th>\n",
              "      <td>17.2</td>\n",
              "      <td>45.9</td>\n",
              "      <td>69.3</td>\n",
              "      <td>12.0</td>\n",
              "    </tr>\n",
              "    <tr>\n",
              "      <th>3</th>\n",
              "      <td>151.5</td>\n",
              "      <td>41.3</td>\n",
              "      <td>58.5</td>\n",
              "      <td>16.5</td>\n",
              "    </tr>\n",
              "    <tr>\n",
              "      <th>4</th>\n",
              "      <td>180.8</td>\n",
              "      <td>10.8</td>\n",
              "      <td>58.4</td>\n",
              "      <td>17.9</td>\n",
              "    </tr>\n",
              "  </tbody>\n",
              "</table>\n",
              "</div>\n",
              "    <div class=\"colab-df-buttons\">\n",
              "\n",
              "  <div class=\"colab-df-container\">\n",
              "    <button class=\"colab-df-convert\" onclick=\"convertToInteractive('df-851d4bc5-7970-4347-80eb-1f0ba668c64a')\"\n",
              "            title=\"Convert this dataframe to an interactive table.\"\n",
              "            style=\"display:none;\">\n",
              "\n",
              "  <svg xmlns=\"http://www.w3.org/2000/svg\" height=\"24px\" viewBox=\"0 -960 960 960\">\n",
              "    <path d=\"M120-120v-720h720v720H120Zm60-500h600v-160H180v160Zm220 220h160v-160H400v160Zm0 220h160v-160H400v160ZM180-400h160v-160H180v160Zm440 0h160v-160H620v160ZM180-180h160v-160H180v160Zm440 0h160v-160H620v160Z\"/>\n",
              "  </svg>\n",
              "    </button>\n",
              "\n",
              "  <style>\n",
              "    .colab-df-container {\n",
              "      display:flex;\n",
              "      gap: 12px;\n",
              "    }\n",
              "\n",
              "    .colab-df-convert {\n",
              "      background-color: #E8F0FE;\n",
              "      border: none;\n",
              "      border-radius: 50%;\n",
              "      cursor: pointer;\n",
              "      display: none;\n",
              "      fill: #1967D2;\n",
              "      height: 32px;\n",
              "      padding: 0 0 0 0;\n",
              "      width: 32px;\n",
              "    }\n",
              "\n",
              "    .colab-df-convert:hover {\n",
              "      background-color: #E2EBFA;\n",
              "      box-shadow: 0px 1px 2px rgba(60, 64, 67, 0.3), 0px 1px 3px 1px rgba(60, 64, 67, 0.15);\n",
              "      fill: #174EA6;\n",
              "    }\n",
              "\n",
              "    .colab-df-buttons div {\n",
              "      margin-bottom: 4px;\n",
              "    }\n",
              "\n",
              "    [theme=dark] .colab-df-convert {\n",
              "      background-color: #3B4455;\n",
              "      fill: #D2E3FC;\n",
              "    }\n",
              "\n",
              "    [theme=dark] .colab-df-convert:hover {\n",
              "      background-color: #434B5C;\n",
              "      box-shadow: 0px 1px 3px 1px rgba(0, 0, 0, 0.15);\n",
              "      filter: drop-shadow(0px 1px 2px rgba(0, 0, 0, 0.3));\n",
              "      fill: #FFFFFF;\n",
              "    }\n",
              "  </style>\n",
              "\n",
              "    <script>\n",
              "      const buttonEl =\n",
              "        document.querySelector('#df-851d4bc5-7970-4347-80eb-1f0ba668c64a button.colab-df-convert');\n",
              "      buttonEl.style.display =\n",
              "        google.colab.kernel.accessAllowed ? 'block' : 'none';\n",
              "\n",
              "      async function convertToInteractive(key) {\n",
              "        const element = document.querySelector('#df-851d4bc5-7970-4347-80eb-1f0ba668c64a');\n",
              "        const dataTable =\n",
              "          await google.colab.kernel.invokeFunction('convertToInteractive',\n",
              "                                                    [key], {});\n",
              "        if (!dataTable) return;\n",
              "\n",
              "        const docLinkHtml = 'Like what you see? Visit the ' +\n",
              "          '<a target=\"_blank\" href=https://colab.research.google.com/notebooks/data_table.ipynb>data table notebook</a>'\n",
              "          + ' to learn more about interactive tables.';\n",
              "        element.innerHTML = '';\n",
              "        dataTable['output_type'] = 'display_data';\n",
              "        await google.colab.output.renderOutput(dataTable, element);\n",
              "        const docLink = document.createElement('div');\n",
              "        docLink.innerHTML = docLinkHtml;\n",
              "        element.appendChild(docLink);\n",
              "      }\n",
              "    </script>\n",
              "  </div>\n",
              "\n",
              "\n",
              "<div id=\"df-7478718b-dc07-4385-a8e4-7764ef7eb3ea\">\n",
              "  <button class=\"colab-df-quickchart\" onclick=\"quickchart('df-7478718b-dc07-4385-a8e4-7764ef7eb3ea')\"\n",
              "            title=\"Suggest charts\"\n",
              "            style=\"display:none;\">\n",
              "\n",
              "<svg xmlns=\"http://www.w3.org/2000/svg\" height=\"24px\"viewBox=\"0 0 24 24\"\n",
              "     width=\"24px\">\n",
              "    <g>\n",
              "        <path d=\"M19 3H5c-1.1 0-2 .9-2 2v14c0 1.1.9 2 2 2h14c1.1 0 2-.9 2-2V5c0-1.1-.9-2-2-2zM9 17H7v-7h2v7zm4 0h-2V7h2v10zm4 0h-2v-4h2v4z\"/>\n",
              "    </g>\n",
              "</svg>\n",
              "  </button>\n",
              "\n",
              "<style>\n",
              "  .colab-df-quickchart {\n",
              "      --bg-color: #E8F0FE;\n",
              "      --fill-color: #1967D2;\n",
              "      --hover-bg-color: #E2EBFA;\n",
              "      --hover-fill-color: #174EA6;\n",
              "      --disabled-fill-color: #AAA;\n",
              "      --disabled-bg-color: #DDD;\n",
              "  }\n",
              "\n",
              "  [theme=dark] .colab-df-quickchart {\n",
              "      --bg-color: #3B4455;\n",
              "      --fill-color: #D2E3FC;\n",
              "      --hover-bg-color: #434B5C;\n",
              "      --hover-fill-color: #FFFFFF;\n",
              "      --disabled-bg-color: #3B4455;\n",
              "      --disabled-fill-color: #666;\n",
              "  }\n",
              "\n",
              "  .colab-df-quickchart {\n",
              "    background-color: var(--bg-color);\n",
              "    border: none;\n",
              "    border-radius: 50%;\n",
              "    cursor: pointer;\n",
              "    display: none;\n",
              "    fill: var(--fill-color);\n",
              "    height: 32px;\n",
              "    padding: 0;\n",
              "    width: 32px;\n",
              "  }\n",
              "\n",
              "  .colab-df-quickchart:hover {\n",
              "    background-color: var(--hover-bg-color);\n",
              "    box-shadow: 0 1px 2px rgba(60, 64, 67, 0.3), 0 1px 3px 1px rgba(60, 64, 67, 0.15);\n",
              "    fill: var(--button-hover-fill-color);\n",
              "  }\n",
              "\n",
              "  .colab-df-quickchart-complete:disabled,\n",
              "  .colab-df-quickchart-complete:disabled:hover {\n",
              "    background-color: var(--disabled-bg-color);\n",
              "    fill: var(--disabled-fill-color);\n",
              "    box-shadow: none;\n",
              "  }\n",
              "\n",
              "  .colab-df-spinner {\n",
              "    border: 2px solid var(--fill-color);\n",
              "    border-color: transparent;\n",
              "    border-bottom-color: var(--fill-color);\n",
              "    animation:\n",
              "      spin 1s steps(1) infinite;\n",
              "  }\n",
              "\n",
              "  @keyframes spin {\n",
              "    0% {\n",
              "      border-color: transparent;\n",
              "      border-bottom-color: var(--fill-color);\n",
              "      border-left-color: var(--fill-color);\n",
              "    }\n",
              "    20% {\n",
              "      border-color: transparent;\n",
              "      border-left-color: var(--fill-color);\n",
              "      border-top-color: var(--fill-color);\n",
              "    }\n",
              "    30% {\n",
              "      border-color: transparent;\n",
              "      border-left-color: var(--fill-color);\n",
              "      border-top-color: var(--fill-color);\n",
              "      border-right-color: var(--fill-color);\n",
              "    }\n",
              "    40% {\n",
              "      border-color: transparent;\n",
              "      border-right-color: var(--fill-color);\n",
              "      border-top-color: var(--fill-color);\n",
              "    }\n",
              "    60% {\n",
              "      border-color: transparent;\n",
              "      border-right-color: var(--fill-color);\n",
              "    }\n",
              "    80% {\n",
              "      border-color: transparent;\n",
              "      border-right-color: var(--fill-color);\n",
              "      border-bottom-color: var(--fill-color);\n",
              "    }\n",
              "    90% {\n",
              "      border-color: transparent;\n",
              "      border-bottom-color: var(--fill-color);\n",
              "    }\n",
              "  }\n",
              "</style>\n",
              "\n",
              "  <script>\n",
              "    async function quickchart(key) {\n",
              "      const quickchartButtonEl =\n",
              "        document.querySelector('#' + key + ' button');\n",
              "      quickchartButtonEl.disabled = true;  // To prevent multiple clicks.\n",
              "      quickchartButtonEl.classList.add('colab-df-spinner');\n",
              "      try {\n",
              "        const charts = await google.colab.kernel.invokeFunction(\n",
              "            'suggestCharts', [key], {});\n",
              "      } catch (error) {\n",
              "        console.error('Error during call to suggestCharts:', error);\n",
              "      }\n",
              "      quickchartButtonEl.classList.remove('colab-df-spinner');\n",
              "      quickchartButtonEl.classList.add('colab-df-quickchart-complete');\n",
              "    }\n",
              "    (() => {\n",
              "      let quickchartButtonEl =\n",
              "        document.querySelector('#df-7478718b-dc07-4385-a8e4-7764ef7eb3ea button');\n",
              "      quickchartButtonEl.style.display =\n",
              "        google.colab.kernel.accessAllowed ? 'block' : 'none';\n",
              "    })();\n",
              "  </script>\n",
              "</div>\n",
              "\n",
              "    </div>\n",
              "  </div>\n"
            ],
            "application/vnd.google.colaboratory.intrinsic+json": {
              "type": "dataframe",
              "variable_name": "df",
              "summary": "{\n  \"name\": \"df\",\n  \"rows\": 200,\n  \"fields\": [\n    {\n      \"column\": \"TV\",\n      \"properties\": {\n        \"dtype\": \"number\",\n        \"std\": 85.8542363149081,\n        \"min\": 0.7,\n        \"max\": 296.4,\n        \"num_unique_values\": 190,\n        \"samples\": [\n          287.6,\n          286.0,\n          78.2\n        ],\n        \"semantic_type\": \"\",\n        \"description\": \"\"\n      }\n    },\n    {\n      \"column\": \"Radio\",\n      \"properties\": {\n        \"dtype\": \"number\",\n        \"std\": 14.846809176168723,\n        \"min\": 0.0,\n        \"max\": 49.6,\n        \"num_unique_values\": 167,\n        \"samples\": [\n          8.2,\n          36.9,\n          44.5\n        ],\n        \"semantic_type\": \"\",\n        \"description\": \"\"\n      }\n    },\n    {\n      \"column\": \"Newspaper\",\n      \"properties\": {\n        \"dtype\": \"number\",\n        \"std\": 21.778620838522833,\n        \"min\": 0.3,\n        \"max\": 114.0,\n        \"num_unique_values\": 172,\n        \"samples\": [\n          22.3,\n          5.7,\n          17.0\n        ],\n        \"semantic_type\": \"\",\n        \"description\": \"\"\n      }\n    },\n    {\n      \"column\": \"Sales\",\n      \"properties\": {\n        \"dtype\": \"number\",\n        \"std\": 5.283892252561874,\n        \"min\": 1.6,\n        \"max\": 27.0,\n        \"num_unique_values\": 121,\n        \"samples\": [\n          19.8,\n          22.6,\n          17.9\n        ],\n        \"semantic_type\": \"\",\n        \"description\": \"\"\n      }\n    }\n  ]\n}"
            }
          },
          "metadata": {},
          "execution_count": 40
        }
      ]
    },
    {
      "cell_type": "code",
      "source": [
        "#1) Preprocess data\n",
        "#   - Input features: tv, radio, newspaper\n",
        "#   - Output feature(Label): sales\n",
        "# Get data to use for training: get input features and output feature\n",
        "def get_column(table, column_index):\n",
        "  col_data =  np.array(table.iloc[:, column_index])\n",
        "  return col_data\n",
        "\n",
        "def normalize_data(col_data):\n",
        "  data_norm =(col_data - np.min(col_data)) / (np.max(col_data) - np.min(col_data))\n",
        "  return data_norm"
      ],
      "metadata": {
        "id": "TaofwWLaHFcX"
      },
      "execution_count": null,
      "outputs": []
    },
    {
      "cell_type": "code",
      "source": [
        "first_column = df.iloc[:,0]\n",
        "first_column"
      ],
      "metadata": {
        "colab": {
          "base_uri": "https://localhost:8080/",
          "height": 458
        },
        "id": "vTEZdCR3WioI",
        "outputId": "dffbe04d-c4fa-4663-9136-e701eef85d55"
      },
      "execution_count": null,
      "outputs": [
        {
          "output_type": "execute_result",
          "data": {
            "text/plain": [
              "0      230.1\n",
              "1       44.5\n",
              "2       17.2\n",
              "3      151.5\n",
              "4      180.8\n",
              "       ...  \n",
              "195     38.2\n",
              "196     94.2\n",
              "197    177.0\n",
              "198    283.6\n",
              "199    232.1\n",
              "Name: TV, Length: 200, dtype: float64"
            ],
            "text/html": [
              "<div>\n",
              "<style scoped>\n",
              "    .dataframe tbody tr th:only-of-type {\n",
              "        vertical-align: middle;\n",
              "    }\n",
              "\n",
              "    .dataframe tbody tr th {\n",
              "        vertical-align: top;\n",
              "    }\n",
              "\n",
              "    .dataframe thead th {\n",
              "        text-align: right;\n",
              "    }\n",
              "</style>\n",
              "<table border=\"1\" class=\"dataframe\">\n",
              "  <thead>\n",
              "    <tr style=\"text-align: right;\">\n",
              "      <th></th>\n",
              "      <th>TV</th>\n",
              "    </tr>\n",
              "  </thead>\n",
              "  <tbody>\n",
              "    <tr>\n",
              "      <th>0</th>\n",
              "      <td>230.1</td>\n",
              "    </tr>\n",
              "    <tr>\n",
              "      <th>1</th>\n",
              "      <td>44.5</td>\n",
              "    </tr>\n",
              "    <tr>\n",
              "      <th>2</th>\n",
              "      <td>17.2</td>\n",
              "    </tr>\n",
              "    <tr>\n",
              "      <th>3</th>\n",
              "      <td>151.5</td>\n",
              "    </tr>\n",
              "    <tr>\n",
              "      <th>4</th>\n",
              "      <td>180.8</td>\n",
              "    </tr>\n",
              "    <tr>\n",
              "      <th>...</th>\n",
              "      <td>...</td>\n",
              "    </tr>\n",
              "    <tr>\n",
              "      <th>195</th>\n",
              "      <td>38.2</td>\n",
              "    </tr>\n",
              "    <tr>\n",
              "      <th>196</th>\n",
              "      <td>94.2</td>\n",
              "    </tr>\n",
              "    <tr>\n",
              "      <th>197</th>\n",
              "      <td>177.0</td>\n",
              "    </tr>\n",
              "    <tr>\n",
              "      <th>198</th>\n",
              "      <td>283.6</td>\n",
              "    </tr>\n",
              "    <tr>\n",
              "      <th>199</th>\n",
              "      <td>232.1</td>\n",
              "    </tr>\n",
              "  </tbody>\n",
              "</table>\n",
              "<p>200 rows × 1 columns</p>\n",
              "</div><br><label><b>dtype:</b> float64</label>"
            ]
          },
          "metadata": {},
          "execution_count": 42
        }
      ]
    },
    {
      "cell_type": "code",
      "source": [
        "tv_data = np.array(first_column)\n",
        "print(tv_data)"
      ],
      "metadata": {
        "colab": {
          "base_uri": "https://localhost:8080/"
        },
        "id": "9LDDHlxZIMv1",
        "outputId": "28946e4f-354b-4748-83c2-016ee588f136"
      },
      "execution_count": null,
      "outputs": [
        {
          "output_type": "stream",
          "name": "stdout",
          "text": [
            "[230.1  44.5  17.2 151.5 180.8   8.7  57.5 120.2   8.6 199.8  66.1 214.7\n",
            "  23.8  97.5 204.1 195.4  67.8 281.4  69.2 147.3 218.4 237.4  13.2 228.3\n",
            "  62.3 262.9 142.9 240.1 248.8  70.6 292.9 112.9  97.2 265.6  95.7 290.7\n",
            " 266.9  74.7  43.1 228.  202.5 177.  293.6 206.9  25.1 175.1  89.7 239.9\n",
            " 227.2  66.9 199.8 100.4 216.4 182.6 262.7 198.9   7.3 136.2 210.8 210.7\n",
            "  53.5 261.3 239.3 102.7 131.1  69.   31.5 139.3 237.4 216.8 199.1 109.8\n",
            "  26.8 129.4 213.4  16.9  27.5 120.5   5.4 116.   76.4 239.8  75.3  68.4\n",
            " 213.5 193.2  76.3 110.7  88.3 109.8 134.3  28.6 217.7 250.9 107.4 163.3\n",
            " 197.6 184.9 289.7 135.2 222.4 296.4 280.2 187.9 238.2 137.9  25.   90.4\n",
            "  13.1 255.4 225.8 241.7 175.7 209.6  78.2  75.1 139.2  76.4 125.7  19.4\n",
            " 141.3  18.8 224.  123.1 229.5  87.2   7.8  80.2 220.3  59.6   0.7 265.2\n",
            "   8.4 219.8  36.9  48.3  25.6 273.7  43.  184.9  73.4 193.7 220.5 104.6\n",
            "  96.2 140.3 240.1 243.2  38.   44.7 280.7 121.  197.6 171.3 187.8   4.1\n",
            "  93.9 149.8  11.7 131.7 172.5  85.7 188.4 163.5 117.2 234.5  17.9 206.8\n",
            " 215.4 284.3  50.  164.5  19.6 168.4 222.4 276.9 248.4 170.2 276.7 165.6\n",
            " 156.6 218.5  56.2 287.6 253.8 205.  139.5 191.1 286.   18.7  39.5  75.5\n",
            "  17.2 166.8 149.7  38.2  94.2 177.  283.6 232.1]\n"
          ]
        }
      ]
    },
    {
      "cell_type": "code",
      "source": [
        "# after normalize\n",
        "tv_norm = (tv_data - np.min(tv_data)) / (np.max(tv_data) - np.min(tv_data))\n",
        "print(tv_norm)"
      ],
      "metadata": {
        "colab": {
          "base_uri": "https://localhost:8080/"
        },
        "id": "PqzH7SKmbDaj",
        "outputId": "7e0f142a-ac7a-48e9-859c-b2fab1a449b6"
      },
      "execution_count": null,
      "outputs": [
        {
          "output_type": "stream",
          "name": "stdout",
          "text": [
            "[0.77578627 0.1481231  0.0557998  0.50997633 0.60906324 0.02705445\n",
            " 0.19208657 0.4041258  0.02671627 0.67331755 0.2211701  0.72370646\n",
            " 0.07811972 0.32735881 0.68785932 0.65843761 0.22691917 0.94927291\n",
            " 0.2316537  0.49577274 0.73621914 0.80047345 0.04227257 0.76969902\n",
            " 0.20831924 0.8867095  0.4808928  0.80960433 0.83902604 0.23638823\n",
            " 0.98816368 0.37943862 0.32634427 0.89584038 0.32127156 0.98072371\n",
            " 0.90023673 0.25025364 0.14338857 0.76868448 0.68244843 0.59621238\n",
            " 0.99053094 0.69732837 0.08251606 0.58978695 0.30098072 0.80892797\n",
            " 0.76597903 0.22387555 0.67331755 0.33716605 0.72945553 0.61515049\n",
            " 0.88603314 0.67027393 0.02231992 0.4582347  0.71051742 0.71017924\n",
            " 0.17855935 0.88129861 0.80689888 0.3449442  0.44098749 0.23097734\n",
            " 0.10415962 0.4687183  0.80047345 0.73080825 0.67095029 0.36895502\n",
            " 0.08826513 0.43523842 0.71931011 0.05478526 0.0906324  0.40514034\n",
            " 0.01589449 0.38992222 0.25600271 0.80858979 0.25228272 0.22894826\n",
            " 0.71964829 0.65099763 0.25566452 0.37199865 0.2962462  0.36895502\n",
            " 0.45180927 0.09435238 0.73385188 0.84612783 0.36083869 0.54988164\n",
            " 0.66587758 0.62292864 0.9773419  0.45485289 0.74974636 1.\n",
            " 0.94521474 0.63307406 0.8031789  0.46398377 0.08217788 0.30334799\n",
            " 0.04193439 0.86134596 0.7612445  0.81501522 0.59181603 0.70645925\n",
            " 0.26208996 0.25160636 0.46838011 0.25600271 0.42272574 0.06323977\n",
            " 0.47548191 0.06121069 0.75515725 0.41393304 0.77375719 0.29252621\n",
            " 0.02401082 0.26885357 0.74264457 0.19918837 0.         0.89448766\n",
            " 0.02603991 0.74095367 0.12242137 0.16097396 0.08420697 0.92323301\n",
            " 0.14305039 0.62292864 0.24585729 0.65268854 0.74332093 0.35136963\n",
            " 0.32296246 0.4721001  0.80960433 0.82008793 0.12614136 0.14879946\n",
            " 0.94690565 0.40683125 0.66587758 0.57693608 0.63273588 0.01149814\n",
            " 0.31518431 0.50422726 0.03719986 0.44301657 0.58099425 0.2874535\n",
            " 0.63476496 0.550558   0.39398039 0.79066622 0.05816706 0.69699019\n",
            " 0.72607372 0.95908015 0.16672303 0.5539398  0.06391613 0.56712885\n",
            " 0.74974636 0.93405479 0.83767332 0.5732161  0.93337842 0.55765979\n",
            " 0.52722354 0.73655732 0.18769023 0.97024011 0.85593507 0.69090294\n",
            " 0.46939466 0.64389584 0.96482922 0.06087251 0.13121407 0.25295908\n",
            " 0.0557998  0.56171796 0.50388908 0.12681772 0.31619885 0.59621238\n",
            " 0.95671288 0.78254988]\n"
          ]
        }
      ]
    },
    {
      "cell_type": "code",
      "source": [
        "tv = get_column(df, 0)\n",
        "radio = get_column(df, 1)\n",
        "newspaper = get_column(df, 2)\n",
        "\n",
        "sales = get_column(df, 3)\n",
        "\n",
        "dataset_adsvertise = pd.DataFrame(\n",
        "    {\n",
        "        'tv' : tv,\n",
        "        'radio' : radio,\n",
        "        'newspaper' : newspaper,\n",
        "        'sales' : sales\n",
        "    }\n",
        ")"
      ],
      "metadata": {
        "id": "fdiGVDANJyOp"
      },
      "execution_count": null,
      "outputs": []
    },
    {
      "cell_type": "code",
      "source": [
        "# Build functions\n",
        "def predict_output(x1, x2, x3, w1, w2, w3, b):\n",
        "  return x1 * w1 + x2 * w2 + x3 * w3 + b\n",
        "\n",
        "def compute_loss(y_hat, y):\n",
        "  return (y_hat - y) ** 2\n",
        "\n",
        "def compute_gradient(x1, x2, x3, y, y_hat):\n",
        "  dw1 = 2 * x1 * (y_hat - y)\n",
        "  dw2 = 2 * x2 * (y_hat - y)\n",
        "  dw3 = 2 * x3 * (y_hat - y)\n",
        "  db = 2 * (y_hat - y)\n",
        "  return dw1, dw2, dw3, db\n",
        "\n",
        "def update_weights(w1, w2, w3, b, dw1, dw2, dw3, db, lr):\n",
        "  w1 -= lr * dw1\n",
        "  w2 -= lr * dw2\n",
        "  w3 -= lr * dw3\n",
        "  b -= lr * db\n",
        "  return w1, w2, w3, b"
      ],
      "metadata": {
        "id": "dQWXGeP6KO_g"
      },
      "execution_count": null,
      "outputs": []
    },
    {
      "cell_type": "code",
      "source": [
        "# Init model:\n",
        "lr = 1e-5\n",
        "epochs = 1000\n",
        "\n",
        "# init project wandb\n",
        "wandb.init(\n",
        "  # Set the project where this run will be logged\n",
        "  project=\"adsvertise-linear-regression\",\n",
        "  config={\n",
        "      \"learning_rate\": lr,\n",
        "      \"epochs\": epochs,\n",
        "  },\n",
        ")\n"
      ],
      "metadata": {
        "colab": {
          "base_uri": "https://localhost:8080/",
          "height": 125
        },
        "id": "ixoXLa-tQA9c",
        "outputId": "f0b1866b-cfed-40ab-d1c2-4e33a5218411"
      },
      "execution_count": null,
      "outputs": [
        {
          "output_type": "display_data",
          "data": {
            "text/plain": [
              "<IPython.core.display.HTML object>"
            ],
            "text/html": [
              "Tracking run with wandb version 0.19.6"
            ]
          },
          "metadata": {}
        },
        {
          "output_type": "display_data",
          "data": {
            "text/plain": [
              "<IPython.core.display.HTML object>"
            ],
            "text/html": [
              "Run data is saved locally in <code>/content/wandb/run-20250223_112741-a6jvsbas</code>"
            ]
          },
          "metadata": {}
        },
        {
          "output_type": "display_data",
          "data": {
            "text/plain": [
              "<IPython.core.display.HTML object>"
            ],
            "text/html": [
              "Syncing run <strong><a href='https://wandb.ai/lethidiemmy961996-aivietnam-edu-vn/adsvertise-linear-regression/runs/a6jvsbas' target=\"_blank\">azure-water-11</a></strong> to <a href='https://wandb.ai/lethidiemmy961996-aivietnam-edu-vn/adsvertise-linear-regression' target=\"_blank\">Weights & Biases</a> (<a href='https://wandb.me/developer-guide' target=\"_blank\">docs</a>)<br>"
            ]
          },
          "metadata": {}
        },
        {
          "output_type": "display_data",
          "data": {
            "text/plain": [
              "<IPython.core.display.HTML object>"
            ],
            "text/html": [
              " View project at <a href='https://wandb.ai/lethidiemmy961996-aivietnam-edu-vn/adsvertise-linear-regression' target=\"_blank\">https://wandb.ai/lethidiemmy961996-aivietnam-edu-vn/adsvertise-linear-regression</a>"
            ]
          },
          "metadata": {}
        },
        {
          "output_type": "display_data",
          "data": {
            "text/plain": [
              "<IPython.core.display.HTML object>"
            ],
            "text/html": [
              " View run at <a href='https://wandb.ai/lethidiemmy961996-aivietnam-edu-vn/adsvertise-linear-regression/runs/a6jvsbas' target=\"_blank\">https://wandb.ai/lethidiemmy961996-aivietnam-edu-vn/adsvertise-linear-regression/runs/a6jvsbas</a>"
            ]
          },
          "metadata": {}
        },
        {
          "output_type": "execute_result",
          "data": {
            "text/html": [
              "<button onClick=\"this.nextSibling.style.display='block';this.style.display='none';\">Display W&B run</button><iframe src='https://wandb.ai/lethidiemmy961996-aivietnam-edu-vn/adsvertise-linear-regression/runs/a6jvsbas?jupyter=true' style='border:none;width:100%;height:420px;display:none;'></iframe>"
            ],
            "text/plain": [
              "<wandb.sdk.wandb_run.Run at 0x7b13de44a9d0>"
            ]
          },
          "metadata": {},
          "execution_count": 47
        }
      ]
    },
    {
      "cell_type": "code",
      "source": [
        "# Normalize data\n",
        "X1 = normalize_data(tv)\n",
        "X2 = normalize_data(radio)\n",
        "X3 = normalize_data(newspaper)\n",
        "Y = normalize_data(sales)"
      ],
      "metadata": {
        "id": "_YFdk8kDckVl"
      },
      "execution_count": null,
      "outputs": []
    },
    {
      "cell_type": "code",
      "source": [
        "# Training stage\n",
        "wandb.run.log({\"Dataset\": wandb.Table(dataframe=dataset_adsvertise)})\n",
        "N = len(tv) # all features have the same length\n",
        "print(f\"len = {N}\")\n",
        "losses = []\n",
        "# init weights\n",
        "b = 1\n",
        "w1 = w2 = w3 = 0\n",
        "\n",
        "for epoch in range(epochs):\n",
        "  for i in range(N):\n",
        "    # get feature for each row and predict each label corresponding\n",
        "    x1 = X1[i]\n",
        "    x2 = X2[i]\n",
        "    x3 = X3[i]\n",
        "\n",
        "    y = Y[i]\n",
        "\n",
        "    y_hat = predict_output(x1, x2, x3, w1, w2, w3, b)\n",
        "\n",
        "    loss = compute_loss(y_hat, y)\n",
        "    losses.append(loss)\n",
        "\n",
        "    dw1, dw2, dw3, db = compute_gradient(x1, x2, x3, y, y_hat)\n",
        "    w1, w2, w3, b = update_weights(w1, w2, w3, b, dw1, dw2, dw3, db, lr)\n",
        "  avg_loss = np.sum(losses) / len(losses)\n",
        "  wandb.log({\"Loss\": avg_loss})\n",
        "\n",
        "# Mark a run as finished, and finish uploading all data\n",
        "wandb.finish()"
      ],
      "metadata": {
        "colab": {
          "base_uri": "https://localhost:8080/",
          "height": 354
        },
        "id": "V7AWwziFRcdC",
        "outputId": "8ee361af-6140-4d0a-df45-30327a4d1a20"
      },
      "execution_count": null,
      "outputs": [
        {
          "output_type": "stream",
          "name": "stdout",
          "text": [
            "len = 200\n"
          ]
        },
        {
          "output_type": "display_data",
          "data": {
            "text/plain": [
              "<IPython.core.display.HTML object>"
            ],
            "text/html": []
          },
          "metadata": {}
        },
        {
          "output_type": "display_data",
          "data": {
            "text/plain": [
              "<IPython.core.display.HTML object>"
            ],
            "text/html": [
              "<br>    <style><br>        .wandb-row {<br>            display: flex;<br>            flex-direction: row;<br>            flex-wrap: wrap;<br>            justify-content: flex-start;<br>            width: 100%;<br>        }<br>        .wandb-col {<br>            display: flex;<br>            flex-direction: column;<br>            flex-basis: 100%;<br>            flex: 1;<br>            padding: 10px;<br>        }<br>    </style><br><div class=\"wandb-row\"><div class=\"wandb-col\"><h3>Run history:</h3><br/><table class=\"wandb\"><tr><td>Loss</td><td>██▇▇▆▅▄▄▄▄▃▃▃▃▃▂▂▂▂▂▂▂▂▂▂▁▁▁▁▁▁▁▁▁▁▁▁▁▁▁</td></tr></table><br/></div><div class=\"wandb-col\"><h3>Run summary:</h3><br/><table class=\"wandb\"><tr><td>Loss</td><td>0.07236</td></tr></table><br/></div></div>"
            ]
          },
          "metadata": {}
        },
        {
          "output_type": "display_data",
          "data": {
            "text/plain": [
              "<IPython.core.display.HTML object>"
            ],
            "text/html": [
              " View run <strong style=\"color:#cdcd00\">azure-water-11</strong> at: <a href='https://wandb.ai/lethidiemmy961996-aivietnam-edu-vn/adsvertise-linear-regression/runs/a6jvsbas' target=\"_blank\">https://wandb.ai/lethidiemmy961996-aivietnam-edu-vn/adsvertise-linear-regression/runs/a6jvsbas</a><br> View project at: <a href='https://wandb.ai/lethidiemmy961996-aivietnam-edu-vn/adsvertise-linear-regression' target=\"_blank\">https://wandb.ai/lethidiemmy961996-aivietnam-edu-vn/adsvertise-linear-regression</a><br>Synced 5 W&B file(s), 1 media file(s), 2 artifact file(s) and 0 other file(s)"
            ]
          },
          "metadata": {}
        },
        {
          "output_type": "display_data",
          "data": {
            "text/plain": [
              "<IPython.core.display.HTML object>"
            ],
            "text/html": [
              "Find logs at: <code>./wandb/run-20250223_112741-a6jvsbas/logs</code>"
            ]
          },
          "metadata": {}
        }
      ]
    },
    {
      "cell_type": "markdown",
      "source": [
        "Data Table"
      ],
      "metadata": {
        "id": "qend0h6ak0NK"
      }
    },
    {
      "cell_type": "markdown",
      "source": [
        "![image.png](data:image/png;base64,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)"
      ],
      "metadata": {
        "id": "fEqdiCGDk2XS"
      }
    },
    {
      "cell_type": "markdown",
      "source": [
        "Result:\n",
        "- xlabel: computation for each epochs\n",
        "- ylabel: loss value"
      ],
      "metadata": {
        "id": "lZDv9ps3kfzs"
      }
    },
    {
      "cell_type": "markdown",
      "source": [
        "![image.png](data:image/png;base64,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)"
      ],
      "metadata": {
        "id": "n7eX325CklCq"
      }
    },
    {
      "cell_type": "markdown",
      "source": [
        "# Day 18"
      ],
      "metadata": {
        "id": "EBSAg7H4qG7T"
      }
    },
    {
      "cell_type": "markdown",
      "source": [
        "### OOP"
      ],
      "metadata": {
        "id": "FQGEfVfPmDc6"
      }
    },
    {
      "cell_type": "code",
      "execution_count": null,
      "metadata": {
        "id": "SQmMu4bKVnkG",
        "colab": {
          "base_uri": "https://localhost:8080/"
        },
        "outputId": "5b412889-33c3-4cf1-f9cd-2e62992d2cff"
      },
      "outputs": [
        {
          "output_type": "stream",
          "name": "stdout",
          "text": [
            "Buddy\n",
            " Some generic sound\n"
          ]
        }
      ],
      "source": [
        "class Animal:\n",
        "  def __init__(self, name):\n",
        "    self.name = name\n",
        "\n",
        "  def make_sound(self):\n",
        "    return \" Some generic sound\"\n",
        "\n",
        "# create instance\n",
        "dog = Animal(\"Buddy\")\n",
        "print(dog.name)\n",
        "print(dog.make_sound())"
      ]
    },
    {
      "cell_type": "code",
      "source": [
        "# Encapsulation\n",
        "class BankAccount:\n",
        "  def __init__(self, owner, balance) -> None:\n",
        "    self.owner = owner\n",
        "    self.balance = balance\n",
        "\n",
        "  def deposit(self, amount):\n",
        "    self.balance += amount\n",
        "    return f\"Deposited {amount}, New balance: {self.balance}\"\n",
        "\n",
        "account = BankAccount(\"Alice\", 1000)\n",
        "print(account.deposit(500))"
      ],
      "metadata": {
        "id": "i8nIqa1ZREIU",
        "outputId": "80e36b31-7ede-44f7-f94a-4b8fa3c0d55a",
        "colab": {
          "base_uri": "https://localhost:8080/"
        }
      },
      "execution_count": null,
      "outputs": [
        {
          "output_type": "stream",
          "name": "stdout",
          "text": [
            "Deposited 500, New balance: 1500\n"
          ]
        }
      ]
    },
    {
      "cell_type": "code",
      "source": [
        "# Inheritance\n",
        "class Dog(Animal):\n",
        "  def make_sound(self):\n",
        "    return \"Woof! Woof!\"\n",
        "\n",
        "dog = Dog(\"Max\")\n",
        "print(dog.make_sound())"
      ],
      "metadata": {
        "id": "Imbf6M65RPjM",
        "outputId": "799cea81-ce53-4dea-b5bf-a9e97bcd6223",
        "colab": {
          "base_uri": "https://localhost:8080/"
        }
      },
      "execution_count": null,
      "outputs": [
        {
          "output_type": "stream",
          "name": "stdout",
          "text": [
            "Woof! Woof!\n"
          ]
        }
      ]
    },
    {
      "cell_type": "code",
      "source": [
        "# Polymorphism\n",
        "class Cat(Animal):\n",
        "  def make_sound(self):\n",
        "    return \"Moew! Moew!\"\n",
        "\n",
        "animals = [Dog(\"Buddy\"), Cat(\"Whiskers\")]\n",
        "for animal in animals:\n",
        "  print(f\"{animal.name} says {animal.make_sound()}\")"
      ],
      "metadata": {
        "id": "1sxSBr6QRRXk",
        "outputId": "8182a11f-11e8-43e7-dcd7-d71dd57d5845",
        "colab": {
          "base_uri": "https://localhost:8080/"
        }
      },
      "execution_count": null,
      "outputs": [
        {
          "output_type": "stream",
          "name": "stdout",
          "text": [
            "Buddy says Woof! Woof!\n",
            "Whiskers says Moew! Moew!\n"
          ]
        }
      ]
    },
    {
      "cell_type": "code",
      "source": [
        "# Abstraction\n",
        "from abc import ABC, abstractmethod\n",
        "class Vehicle(ABC):\n",
        "  def move(self):\n",
        "    pass\n",
        "\n",
        "class Car(Vehicle):\n",
        "  def move(self):\n",
        "    return \"Car is moving on the road\"\n",
        "\n",
        "class Boat(Vehicle):\n",
        "  def move(self):\n",
        "    return \"Boat is sailing on the water\"\n",
        "\n",
        "car = Car()\n",
        "boat = Boat()\n",
        "\n",
        "print(car.move())\n",
        "print(boat.move())"
      ],
      "metadata": {
        "id": "0VYQDrExUHVl",
        "outputId": "32202e27-8dda-4aed-92f5-3a043a1f6fff",
        "colab": {
          "base_uri": "https://localhost:8080/"
        }
      },
      "execution_count": null,
      "outputs": [
        {
          "output_type": "stream",
          "name": "stdout",
          "text": [
            "Car is moving on the road\n",
            "Boat is sailing on the water\n"
          ]
        }
      ]
    },
    {
      "cell_type": "markdown",
      "source": [
        "### Exercise 1"
      ],
      "metadata": {
        "id": "0oTiNZAPmG_y"
      }
    },
    {
      "cell_type": "code",
      "source": [
        "class Manufacturer:\n",
        "  def __init__(self, identity, location) -> None:\n",
        "    self.identity = identity\n",
        "    self.location = location\n",
        "\n",
        "  def describe(self):\n",
        "    print(f\"Identity : {self.identity} - Location:{self.location}\")"
      ],
      "metadata": {
        "id": "M_fwozERLpUC"
      },
      "execution_count": null,
      "outputs": []
    },
    {
      "cell_type": "code",
      "source": [
        "class Device(Manufacturer):\n",
        "  def __init__(self, identity, location, name, price) -> None:\n",
        "    super().__init__(identity, location)\n",
        "    self.name = name\n",
        "    self.price = price\n",
        "\n",
        "  def describe(self):\n",
        "    super().describe()\n",
        "    print(f\"Name : {self.name} - Price:{self.price}\")"
      ],
      "metadata": {
        "id": "eu_FENqHmNRR"
      },
      "execution_count": null,
      "outputs": []
    },
    {
      "cell_type": "code",
      "source": [
        "device1 = Device(name=\"mouse\", price=2.5, identity=9725, location=\"Viet Nam\")\n",
        "device1.describe()"
      ],
      "metadata": {
        "id": "ukhbi9hAWL-0",
        "outputId": "b2013ae0-3324-4b5d-e27f-b8a269d425ec",
        "colab": {
          "base_uri": "https://localhost:8080/"
        }
      },
      "execution_count": null,
      "outputs": [
        {
          "output_type": "stream",
          "name": "stdout",
          "text": [
            "Identity : 9725 - Location:Viet Nam\n",
            "Name : mouse - Price:2.5\n"
          ]
        }
      ]
    },
    {
      "cell_type": "code",
      "source": [
        "device2 = Device(name=\"monitor\", price=12.5, identity=11, location=\"Germany\")\n",
        "device2.describe()"
      ],
      "metadata": {
        "id": "djo26nAaWsuT",
        "outputId": "8cf0e27d-dbb9-4567-d7b6-0160c587c68c",
        "colab": {
          "base_uri": "https://localhost:8080/"
        }
      },
      "execution_count": null,
      "outputs": [
        {
          "output_type": "stream",
          "name": "stdout",
          "text": [
            "Identity : 11 - Location:Germany\n",
            "Name : monitor - Price:12.5\n"
          ]
        }
      ]
    },
    {
      "cell_type": "markdown",
      "source": [
        "### Exercise 2"
      ],
      "metadata": {
        "id": "BU_Xo5WMmM5a"
      }
    },
    {
      "cell_type": "code",
      "source": [
        "class Person:\n",
        "  def __init__(self, name:str, yob:int) -> None:\n",
        "    self.name = name\n",
        "    self.yob = yob\n",
        "\n",
        "  def describe(self):\n",
        "    print(f\"Name: {self.name}, Year of Birth: {self.yob}\")\n",
        "\n",
        "class Student(Person):\n",
        "  def __init__(self, name:str, yob:int, grade:str) -> None:\n",
        "    super().__init__(name, yob)\n",
        "    self.grade = grade\n",
        "\n",
        "  def describe(self):\n",
        "    super().describe()\n",
        "    print(f\"Grade: {self.grade}\")\n",
        "\n",
        "class Teacher(Person):\n",
        "  def __init__(self, name: str, yob: int, subject:str) -> None:\n",
        "    super().__init__(name, yob)\n",
        "    self.subject = subject\n",
        "\n",
        "  def describe(self):\n",
        "    super().describe()\n",
        "    print(f\"Subject: {self.subject}\")\n",
        "\n",
        "class Doctor(Person):\n",
        "  def __init__(self, name: str, yob: int, specialist:str) -> None:\n",
        "    super().__init__(name, yob)\n",
        "    self.specialist = specialist\n",
        "\n",
        "  def describe(self):\n",
        "    super().describe()\n",
        "    print(f\"Specialist: {self.specialist}\")"
      ],
      "metadata": {
        "id": "T6Gtzitug36M"
      },
      "execution_count": null,
      "outputs": []
    },
    {
      "cell_type": "code",
      "source": [
        "class Ward:\n",
        "  def __init__(self, name:str) -> None:\n",
        "    self.name = name\n",
        "    self.people_lst = []\n",
        "\n",
        "  def add_person(self, person):\n",
        "    self.people_lst.append(person)\n",
        "\n",
        "  def describe(self):\n",
        "    print(f\"Ward name: {self.name}\")\n",
        "    for person in self.people_lst:\n",
        "        person.describe()\n",
        "\n",
        "  def count_doctor(self):\n",
        "    count = 0\n",
        "    for person in self.people_lst:\n",
        "      if isinstance(person, Doctor):\n",
        "        count += 1\n",
        "    return count\n",
        "\n",
        "  def sort_age(self):\n",
        "    pass\n",
        "\n",
        "  def average_teacher_yob(self):\n",
        "    teacher_lst = []\n",
        "    for person in self.people_lst:\n",
        "      if isinstance(person, Teacher):\n",
        "        teacher_lst.append(person)\n",
        "    sum_age = 0\n",
        "    for i in range(len(teacher_lst)):\n",
        "      sum_age += teacher_lst[i].yob\n",
        "    return sum_age / len(teacher_lst)"
      ],
      "metadata": {
        "id": "nKAfMDirmWCr"
      },
      "execution_count": null,
      "outputs": []
    },
    {
      "cell_type": "code",
      "source": [
        "# Using\n",
        "# Examples\n",
        "# 2(a)\n",
        "student1 = Student(name=\"studentA\", yob=2010, grade=\"7\")\n",
        "student1.describe()\n",
        "\n",
        "teacher1 = Teacher(name=\"teacherA\", yob=1969, subject=\"Math\")\n",
        "teacher1.describe()\n",
        "\n",
        "doctor1 = Doctor(name=\"doctorA\", yob=1945, specialist=\"Endocrinologists\")\n",
        "doctor1.describe()"
      ],
      "metadata": {
        "id": "Cci7s42tmgH9",
        "colab": {
          "base_uri": "https://localhost:8080/"
        },
        "outputId": "98e02f45-f5e2-45f6-c4a2-f398fabe076e"
      },
      "execution_count": null,
      "outputs": [
        {
          "output_type": "stream",
          "name": "stdout",
          "text": [
            "Name: studentA, Year of Birth: 2010\n",
            "Grade: 7\n",
            "Name: teacherA, Year of Birth: 1969\n",
            "Subject: Math\n",
            "Name: doctorA, Year of Birth: 1945\n",
            "Specialist: Endocrinologists\n"
          ]
        }
      ]
    },
    {
      "cell_type": "code",
      "source": [
        "# 2(b)\n",
        "print()\n",
        "teacher2 = Teacher(name=\"teacherB\", yob=1995, subject=\"History\")\n",
        "doctor2 = Doctor(name=\"doctorB\", yob=1975, specialist=\"Cardiologists\")\n",
        "ward1 = Ward(name=\"Ward1\")\n",
        "ward1.add_person(student1)\n",
        "ward1.add_person(teacher1)\n",
        "ward1.add_person(teacher2)\n",
        "ward1.add_person(doctor1)\n",
        "ward1.add_person(doctor2)\n",
        "ward1.describe()"
      ],
      "metadata": {
        "colab": {
          "base_uri": "https://localhost:8080/"
        },
        "id": "CPQ0QJqnNxNN",
        "outputId": "c06cb954-279a-4e74-8fc3-38f7d9813408"
      },
      "execution_count": null,
      "outputs": [
        {
          "output_type": "stream",
          "name": "stdout",
          "text": [
            "\n",
            "Ward name: Ward1\n",
            "Name: studentA, Year of Birth: 2010\n",
            "Grade: 7\n",
            "Name: teacherA, Year of Birth: 1969\n",
            "Subject: Math\n",
            "Name: teacherB, Year of Birth: 1995\n",
            "Subject: History\n",
            "Name: doctorA, Year of Birth: 1945\n",
            "Specialist: Endocrinologists\n",
            "Name: doctorB, Year of Birth: 1975\n",
            "Specialist: Cardiologists\n"
          ]
        }
      ]
    },
    {
      "cell_type": "code",
      "source": [
        "#2(c)\n",
        "print(f\"\\nNumber of doctors: {ward1.count_doctor()}\")"
      ],
      "metadata": {
        "colab": {
          "base_uri": "https://localhost:8080/"
        },
        "id": "gxMEHTCsQP8M",
        "outputId": "7d8d2c8f-ffd1-470a-8a37-2afe4a95f267"
      },
      "execution_count": null,
      "outputs": [
        {
          "output_type": "stream",
          "name": "stdout",
          "text": [
            "\n",
            "Number of doctors: 2\n"
          ]
        }
      ]
    },
    {
      "cell_type": "code",
      "source": [
        "#2(d) ??? chua co lem!\n",
        "print (\"\\nAfter sorting Age of Ward1 people\")\n",
        "ward1.sort_age()\n",
        "ward1.describe()"
      ],
      "metadata": {
        "colab": {
          "base_uri": "https://localhost:8080/"
        },
        "id": "UCwdBSvTQUD1",
        "outputId": "1b1fcf17-6ead-47db-a09a-dd6fa38a7609"
      },
      "execution_count": null,
      "outputs": [
        {
          "output_type": "stream",
          "name": "stdout",
          "text": [
            "\n",
            "After sorting Age of Ward1 people\n",
            "Ward name: Ward1\n",
            "Name: studentA, Year of Birth: 2010\n",
            "Grade: 7\n",
            "Name: teacherA, Year of Birth: 1969\n",
            "Subject: Math\n",
            "Name: teacherB, Year of Birth: 1995\n",
            "Subject: History\n",
            "Name: doctorA, Year of Birth: 1945\n",
            "Specialist: Endocrinologists\n",
            "Name: doctorB, Year of Birth: 1975\n",
            "Specialist: Cardiologists\n"
          ]
        }
      ]
    },
    {
      "cell_type": "code",
      "source": [
        "#2(e)\n",
        "print(f\"\\nAverage year of birth(teachers): {ward1.average_teacher_yob()}\")"
      ],
      "metadata": {
        "colab": {
          "base_uri": "https://localhost:8080/"
        },
        "id": "Tvi3N8_rQWSi",
        "outputId": "c02d7ae8-db5a-4436-c704-cbb7e295271e"
      },
      "execution_count": null,
      "outputs": [
        {
          "output_type": "stream",
          "name": "stdout",
          "text": [
            "\n",
            "Average year of birth(teachers): 1982.0\n"
          ]
        }
      ]
    },
    {
      "cell_type": "markdown",
      "source": [
        "### Exercise 3"
      ],
      "metadata": {
        "id": "i2s-DcJHmQ8Q"
      }
    },
    {
      "cell_type": "code",
      "source": [
        "import numpy as np\n",
        "class Stack:\n",
        "  def __init__(self, capacity) -> None:\n",
        "    self.capacity = capacity # length of stack array\n",
        "    self.stack = []\n",
        "\n",
        "  def is_empty(self):\n",
        "    return len(self.stack) == 0\n",
        "\n",
        "  def is_full(self):\n",
        "    return len(self.stack) == self.capacity\n",
        "\n",
        "  def pop(self):\n",
        "    #top is the final element in array\n",
        "    if not self.is_empty():\n",
        "      value = self.stack.pop(len(self.stack) - 1)\n",
        "      return value # Remove Success\n",
        "\n",
        "  def push(self, value):\n",
        "    if not self.is_full():\n",
        "      self.stack.append(value)\n",
        "      return True\n",
        "    else:\n",
        "      return False\n",
        "\n",
        "  def top(self):\n",
        "    if not self.is_empty():\n",
        "      return self.stack[len(self.stack) - 1]\n",
        "    else:\n",
        "      return \"Stack is empty!\""
      ],
      "metadata": {
        "id": "4tfQE5F7mWdW"
      },
      "execution_count": null,
      "outputs": []
    },
    {
      "cell_type": "code",
      "source": [
        "from ast import Starred\n",
        "stack1 = Stack(capacity=5)\n",
        "stack1.push(1)\n",
        "stack1.push(2)\n",
        "\n",
        "print(stack1.is_full())"
      ],
      "metadata": {
        "id": "CfTwIxeiqmRm",
        "colab": {
          "base_uri": "https://localhost:8080/"
        },
        "outputId": "19207c0e-db51-41d1-af6e-f26429e85245"
      },
      "execution_count": null,
      "outputs": [
        {
          "output_type": "stream",
          "name": "stdout",
          "text": [
            "False\n"
          ]
        }
      ]
    },
    {
      "cell_type": "code",
      "source": [
        "print(stack1.top())\n",
        "\n",
        "print(stack1.pop())"
      ],
      "metadata": {
        "colab": {
          "base_uri": "https://localhost:8080/"
        },
        "id": "myxdR8gOWIXB",
        "outputId": "6aff04d8-8dc2-401a-e981-f0b99760580e"
      },
      "execution_count": null,
      "outputs": [
        {
          "output_type": "stream",
          "name": "stdout",
          "text": [
            "2\n",
            "2\n"
          ]
        }
      ]
    },
    {
      "cell_type": "code",
      "source": [
        "print(stack1.top())\n",
        "\n",
        "print(stack1.pop())"
      ],
      "metadata": {
        "colab": {
          "base_uri": "https://localhost:8080/"
        },
        "id": "lNOr9JTiWKdy",
        "outputId": "a80a25ba-2f9c-46a2-fa28-c6c4c747dfc9"
      },
      "execution_count": null,
      "outputs": [
        {
          "output_type": "stream",
          "name": "stdout",
          "text": [
            "1\n",
            "1\n"
          ]
        }
      ]
    },
    {
      "cell_type": "code",
      "source": [
        "print(stack1.is_empty())"
      ],
      "metadata": {
        "colab": {
          "base_uri": "https://localhost:8080/"
        },
        "id": "IYi272f9WMf5",
        "outputId": "1077e307-b952-4ad2-941b-9809a15252cb"
      },
      "execution_count": null,
      "outputs": [
        {
          "output_type": "stream",
          "name": "stdout",
          "text": [
            "True\n"
          ]
        }
      ]
    },
    {
      "cell_type": "markdown",
      "source": [
        "### Exercise 4"
      ],
      "metadata": {
        "id": "2ybD73snmTCM"
      }
    },
    {
      "cell_type": "code",
      "source": [
        "class Queue:\n",
        "  def __init__(self, capacity) -> None:\n",
        "    self.capacity = capacity\n",
        "    self.queue = []\n",
        "\n",
        "  def is_empty(self):\n",
        "    return len(self.queue) == 0\n",
        "\n",
        "  def is_full(self):\n",
        "    return len(self.queue) == self.capacity\n",
        "\n",
        "  def dequeue(self):\n",
        "    #top is the first element in array\n",
        "    if not self.is_empty():\n",
        "      value = self.queue.pop(0)\n",
        "      return value # Remove Success\n",
        "\n",
        "  def enqueue(self, value):\n",
        "    if not self.is_full():\n",
        "      self.queue.append(value)\n",
        "      return True\n",
        "    else:\n",
        "      return False\n",
        "\n",
        "  def front(self):\n",
        "    if not self.is_empty():\n",
        "      return self.queue[0]\n",
        "    else:\n",
        "      return \"Queue is empty!\""
      ],
      "metadata": {
        "id": "nYxxofQ8mXJQ"
      },
      "execution_count": null,
      "outputs": []
    },
    {
      "cell_type": "code",
      "source": [
        "queue1 = Queue(capacity=5)\n",
        "queue1.enqueue(1)\n",
        "queue1.enqueue(2)\n",
        "print(queue1.is_full())"
      ],
      "metadata": {
        "colab": {
          "base_uri": "https://localhost:8080/"
        },
        "id": "KVPg6IgcXAF7",
        "outputId": "223517ee-f9d9-40d3-b214-3f0015892bb7"
      },
      "execution_count": null,
      "outputs": [
        {
          "output_type": "stream",
          "name": "stdout",
          "text": [
            "False\n"
          ]
        }
      ]
    },
    {
      "cell_type": "code",
      "source": [
        "print(queue1.front())\n",
        "print(queue1.dequeue())"
      ],
      "metadata": {
        "colab": {
          "base_uri": "https://localhost:8080/"
        },
        "id": "NKp6f6erXV1D",
        "outputId": "a5f1f173-49b9-4cc0-9468-19868f49340d"
      },
      "execution_count": null,
      "outputs": [
        {
          "output_type": "stream",
          "name": "stdout",
          "text": [
            "1\n",
            "1\n"
          ]
        }
      ]
    },
    {
      "cell_type": "code",
      "source": [
        "print(queue1.front())\n",
        "print(queue1.dequeue())"
      ],
      "metadata": {
        "colab": {
          "base_uri": "https://localhost:8080/"
        },
        "id": "Cqh3YQmhXg5u",
        "outputId": "90e1e60a-6294-4b03-b012-1692d3210bef"
      },
      "execution_count": null,
      "outputs": [
        {
          "output_type": "stream",
          "name": "stdout",
          "text": [
            "2\n",
            "2\n"
          ]
        }
      ]
    },
    {
      "cell_type": "code",
      "source": [
        "print(queue1.is_empty())"
      ],
      "metadata": {
        "colab": {
          "base_uri": "https://localhost:8080/"
        },
        "id": "xAtFq2NjXi8x",
        "outputId": "771e8712-08fd-4ee5-8f4d-ad11308683b0"
      },
      "execution_count": null,
      "outputs": [
        {
          "output_type": "stream",
          "name": "stdout",
          "text": [
            "True\n"
          ]
        }
      ]
    },
    {
      "cell_type": "markdown",
      "source": [
        "### Multiple choice exercises"
      ],
      "metadata": {
        "id": "_mc1qPz4mchJ"
      }
    },
    {
      "cell_type": "code",
      "source": [
        "#Q1:C Inheritance => D\n",
        "#Q2: A =>\n",
        "class Manufacturer :\n",
        "  def __init__( self, identity:int, location:str ) :\n",
        "    self.__identity = identity\n",
        "    self.__location = location\n",
        "\n",
        "  def describe(self) :\n",
        "    print(f\"Identity:{self.__identity} - Location:{self.__location}\")\n",
        "\n",
        "manu1 = Manufacturer ( identity =100 , location ='Vietnam')\n",
        "manu1.describe()\n",
        "#Q3: A =>\n",
        "#Q4: B =>\n"
      ],
      "metadata": {
        "id": "uJp2QjFkmlXM",
        "colab": {
          "base_uri": "https://localhost:8080/"
        },
        "outputId": "52010e86-33fa-492b-f129-57e9d3484fe8"
      },
      "execution_count": null,
      "outputs": [
        {
          "output_type": "stream",
          "name": "stdout",
          "text": [
            "Identity:100 - Location:Vietnam\n"
          ]
        }
      ]
    },
    {
      "cell_type": "code",
      "source": [
        "#Q5 A\n",
        "from abc import ABC, abstractmethod\n",
        "class Person(ABC):\n",
        "  def __init__ (self, name:str, yob:int) :\n",
        "    self._name = name\n",
        "    self._yob = yob\n",
        "\n",
        "  def getYoB ( self ) :\n",
        "    return self._yob\n",
        "\n",
        "  @abstractmethod\n",
        "  def describe(self):\n",
        "    pass\n",
        "\n",
        "class Student(Person):\n",
        "  def __init__(self, name:str, yob:int, grade:str) :\n",
        "    super().__init__(name, yob)\n",
        "    self.name = name\n",
        "    self.yob = yob\n",
        "    self.grade = grade\n",
        "\n",
        "\n",
        "  def describe(self) :\n",
        "    print(f\"Name: {self.name} - Year of Birth: {self.yob} - Grade: {self.grade}\")\n",
        "\n",
        "student1 = Student(name=\"studentZ2023 \", yob=2011, grade=\"6\")\n",
        "student1.describe()\n"
      ],
      "metadata": {
        "colab": {
          "base_uri": "https://localhost:8080/"
        },
        "id": "rVUy1fLCrmWn",
        "outputId": "b58b3b58-311e-4fd2-a6f1-0c413bf21695"
      },
      "execution_count": null,
      "outputs": [
        {
          "output_type": "stream",
          "name": "stdout",
          "text": [
            "Name: studentZ2023  - Year of Birth: 2011 - Grade: 6\n"
          ]
        }
      ]
    },
    {
      "cell_type": "code",
      "source": [
        "#Q6  A\n",
        "from abc import ABC, abstractmethod\n",
        "\n",
        "class Person(ABC) :\n",
        "  def __init__(self, name:str, yob:int) :\n",
        "    self._name = name\n",
        "    self._yob = yob\n",
        "\n",
        "  def getYoB(self) :\n",
        "    return self._yob\n",
        "\n",
        "  @abstractmethod\n",
        "  def describe(self):\n",
        "    pass\n",
        "\n",
        "\n",
        "class Teacher(Person) :\n",
        "  def __init__(self, name:str, yob:int, subject:str) :\n",
        "    self.name = name\n",
        "    self.yob = yob\n",
        "    self.subject = subject\n",
        "\n",
        "  def describe(self):\n",
        "    print(f\"Teacher - Name: {self.name} - Year of Birth: {self.yob} - Subject: {self.subject}\")\n",
        "\n",
        "teacher1 = Teacher(name=\"teacherZ2023\", yob=1991, subject=\"History\")\n",
        "teacher1.describe()"
      ],
      "metadata": {
        "colab": {
          "base_uri": "https://localhost:8080/"
        },
        "id": "BREZx8tFtUSW",
        "outputId": "303991c4-ad70-4cd8-bc0f-6eda53b64ffd"
      },
      "execution_count": null,
      "outputs": [
        {
          "output_type": "stream",
          "name": "stdout",
          "text": [
            "Teacher - Name: teacherZ2023 - Year of Birth: 1991 - Subject: History\n"
          ]
        }
      ]
    },
    {
      "cell_type": "code",
      "source": [
        "#Q7 A\n",
        "from abc import ABC, abstractmethod\n",
        "\n",
        "class Person ( ABC ) :\n",
        "  def __init__ ( self , name :str , yob :int) :\n",
        "    self . _name = name\n",
        "    self . _yob = yob\n",
        "\n",
        "  def getYoB ( self ) :\n",
        "    return self . _yob\n",
        "\n",
        "  @abstractmethod\n",
        "  def describe ( self ) :\n",
        "    pass\n",
        "\n",
        "\n",
        "class Doctor(Person) :\n",
        "  def __init__(self, name:str, yob:int, specialist:str) :\n",
        "    self.name = name\n",
        "    self.yob = yob\n",
        "    self.specialist = specialist\n",
        "\n",
        "  def describe(self):\n",
        "    print(f\"Teacher - Name: {self.name} - Year of Birth: {self.yob} - Specialist: {self.specialist}\")\n",
        "\n",
        "doctor1 = Doctor(name=\"doctorZ2023\", yob=1981, specialist=\"Endocrinologists\")\n",
        "doctor1.describe()"
      ],
      "metadata": {
        "colab": {
          "base_uri": "https://localhost:8080/"
        },
        "id": "tCZF1DuAuvKf",
        "outputId": "6cb128f5-b451-4f5a-e9bd-d603d4128203"
      },
      "execution_count": null,
      "outputs": [
        {
          "output_type": "stream",
          "name": "stdout",
          "text": [
            "Teacher - Name: doctorZ2023 - Year of Birth: 1981 - Specialist: Endocrinologists\n"
          ]
        }
      ]
    },
    {
      "cell_type": "code",
      "source": [
        "#Q8 A\n",
        "# copy person above\n",
        "class Person:\n",
        "  def __init__(self, name:str, yob:int) -> None:\n",
        "    self.name = name\n",
        "    self.yob = yob\n",
        "\n",
        "  def describe(self):\n",
        "    print(f\"Name: {self.name}, Year of Birth: {self.yob}\")\n",
        "\n",
        "class Student(Person):\n",
        "  def __init__(self, name:str, yob:int, grade:str) -> None:\n",
        "    super().__init__(name, yob)\n",
        "    self.grade = grade\n",
        "\n",
        "  def describe(self):\n",
        "    super().describe()\n",
        "    print(f\"Grade: {self.grade}\")\n",
        "\n",
        "class Teacher(Person):\n",
        "  def __init__(self, name: str, yob: int, subject:str) -> None:\n",
        "    super().__init__(name, yob)\n",
        "    self.subject = subject\n",
        "\n",
        "  def describe(self):\n",
        "    super().describe()\n",
        "    print(f\"Subject: {self.subject}\")\n",
        "\n",
        "class Doctor(Person):\n",
        "  def __init__(self, name: str, yob: int, specialist:str) -> None:\n",
        "    super().__init__(name, yob)\n",
        "    self.specialist = specialist\n",
        "\n",
        "  def describe(self):\n",
        "    super().describe()\n",
        "    print(f\"Specialist: {self.specialist}\")\n",
        "#code\n",
        "class Ward:\n",
        "  def __init__(self, name:str) -> None:\n",
        "    self.ward_name = name\n",
        "    self.list_persons = []\n",
        "\n",
        "  def add_person(self, person:Person):\n",
        "    self.list_persons.append(person)\n",
        "\n",
        "  def describe(self):\n",
        "    print(f\"Ward Name: {self.ward_name}\")\n",
        "    for person in self.list_persons:\n",
        "      person.describe()\n",
        "      print(\"\")\n",
        "\n",
        "student1 = Student(name=\"studentK-111\", yob=2012, grade=\"5\")\n",
        "teacher1 = Teacher(name=\"teacherK-222\", yob=1966, subject=\"Math\")\n",
        "doctor1 = Doctor(name=\"doctorK-333\", yob=1965, specialist=\"Endocrinologists\")\n",
        "teacher2 = Teacher(name=\"teacherK-444\", yob=1945, subject=\"History\")\n",
        "doctor2 = Doctor(name=\"doctorK-555\", yob=1966, specialist=\"Cardiologists\")\n",
        "ward1 = Ward(name=\"ward11\")\n",
        "ward1.add_person(student1)\n",
        "ward1.add_person(teacher1)\n",
        "ward1.add_person(doctor1)\n",
        "ward1.add_person(teacher2)\n",
        "ward1.add_person(doctor2)\n",
        "ward1.describe()"
      ],
      "metadata": {
        "colab": {
          "base_uri": "https://localhost:8080/"
        },
        "id": "upA--xFlvu61",
        "outputId": "275d0f6d-efa3-4d39-ae10-2acc5148be67"
      },
      "execution_count": null,
      "outputs": [
        {
          "output_type": "stream",
          "name": "stdout",
          "text": [
            "Ward Name: ward11\n",
            "Name: studentK-111, Year of Birth: 2012\n",
            "Grade: 5\n",
            "\n",
            "Name: teacherK-222, Year of Birth: 1966\n",
            "Subject: Math\n",
            "\n",
            "Name: doctorK-333, Year of Birth: 1965\n",
            "Specialist: Endocrinologists\n",
            "\n",
            "Name: teacherK-444, Year of Birth: 1945\n",
            "Subject: History\n",
            "\n",
            "Name: doctorK-555, Year of Birth: 1966\n",
            "Specialist: Cardiologists\n",
            "\n"
          ]
        }
      ]
    },
    {
      "cell_type": "code",
      "source": [
        "#Q9 A\n",
        "class Stack:\n",
        "  def __init__(self, capacity) -> None:\n",
        "    self.capacity= capacity\n",
        "    self.stack = []\n",
        "\n",
        "  def is_empty(self):\n",
        "    return len(self.stack) == 0\n",
        "\n",
        "stack1 = Stack(capacity=5)\n",
        "print(stack1.is_empty())"
      ],
      "metadata": {
        "colab": {
          "base_uri": "https://localhost:8080/"
        },
        "id": "J62W_OVDvwA2",
        "outputId": "5d72fb8a-6fab-41e3-c67a-4d5a79df43b4"
      },
      "execution_count": null,
      "outputs": [
        {
          "output_type": "stream",
          "name": "stdout",
          "text": [
            "True\n"
          ]
        }
      ]
    },
    {
      "cell_type": "code",
      "source": [
        "#Q10 A\n",
        "class Stack:\n",
        "  def __init__(self, capacity) -> None:\n",
        "    self.capacity= capacity\n",
        "    self.stack = [1, 2, 3, 4, 5]\n",
        "\n",
        "  def is_full(self):\n",
        "    return len(self.stack) == self.capacity\n",
        "\n",
        "stack1 = Stack(capacity=5)\n",
        "print(stack1.is_full())"
      ],
      "metadata": {
        "colab": {
          "base_uri": "https://localhost:8080/"
        },
        "id": "Y3RNLeMyvw5N",
        "outputId": "b0be742e-c536-468e-844e-d10384fb4a70"
      },
      "execution_count": null,
      "outputs": [
        {
          "output_type": "stream",
          "name": "stdout",
          "text": [
            "True\n"
          ]
        }
      ]
    },
    {
      "cell_type": "code",
      "source": [
        "#Q11 B\n",
        "import numpy as np\n",
        "class Stack:\n",
        "  def __init__(self, capacity) -> None:\n",
        "    self.capacity = capacity # length of stack array\n",
        "    self.stack = []\n",
        "\n",
        "  def is_full(self):\n",
        "    return len(self.stack) == self.capacity\n",
        "\n",
        "  def push(self, value):\n",
        "    if not self.is_full():\n",
        "      self.stack.append(value)\n",
        "      return True\n",
        "    else:\n",
        "      return False\n",
        "\n",
        "stack1 = Stack(capacity=5)\n",
        "stack1.push(1)\n",
        "stack1.push(2)\n",
        "print(stack1.is_full())"
      ],
      "metadata": {
        "colab": {
          "base_uri": "https://localhost:8080/"
        },
        "id": "1Lt81IaEvx2u",
        "outputId": "747b75bc-81df-45c9-aaaa-bdb08099d629"
      },
      "execution_count": null,
      "outputs": [
        {
          "output_type": "stream",
          "name": "stdout",
          "text": [
            "False\n"
          ]
        }
      ]
    },
    {
      "cell_type": "code",
      "source": [
        "#Q12 B\n",
        "import numpy as np\n",
        "class Stack:\n",
        "  def __init__(self, capacity) -> None:\n",
        "    self.capacity = capacity # length of stack array\n",
        "    self.stack = []\n",
        "\n",
        "  def is_empty(self):\n",
        "    return len(self.stack) == 0\n",
        "\n",
        "  def is_full(self):\n",
        "    return len(self.stack) == self.capacity\n",
        "\n",
        "  def push(self, value):\n",
        "    if not self.is_full():\n",
        "      self.stack.append(value)\n",
        "      return True\n",
        "    else:\n",
        "      return False\n",
        "\n",
        "  def top(self):\n",
        "    if not self.is_empty():\n",
        "      return self.stack[len(self.stack) - 1]\n",
        "    else:\n",
        "      return \"Stack is empty!\"\n",
        "\n",
        "stack1 = Stack(capacity=5)\n",
        "stack1.push(1)\n",
        "stack1.push(2)\n",
        "print(stack1.top())"
      ],
      "metadata": {
        "colab": {
          "base_uri": "https://localhost:8080/"
        },
        "id": "EaZqCgHdvy8V",
        "outputId": "bc28a8b4-ab0e-4dfd-ee1a-593c43f1e696"
      },
      "execution_count": null,
      "outputs": [
        {
          "output_type": "stream",
          "name": "stdout",
          "text": [
            "2\n"
          ]
        }
      ]
    },
    {
      "cell_type": "code",
      "source": [
        "#Q13 A\n",
        "class Queue:\n",
        "  def __init__(self, capacity) -> None:\n",
        "    self.capacity = capacity\n",
        "    self.queue = []\n",
        "\n",
        "  def is_empty(self):\n",
        "    return len(self.queue) == 0\n",
        "\n",
        "  def is_full(self):\n",
        "    return len(self.queue) == self.capacity\n",
        "queue1 = Queue(capacity=5)\n",
        "print(queue1.is_empty())"
      ],
      "metadata": {
        "id": "vP1o93tbvz4t",
        "outputId": "ea31a8b4-fb3c-4eb0-aed0-60ea4247c26f",
        "colab": {
          "base_uri": "https://localhost:8080/"
        }
      },
      "execution_count": null,
      "outputs": [
        {
          "output_type": "stream",
          "name": "stdout",
          "text": [
            "True\n"
          ]
        }
      ]
    },
    {
      "cell_type": "code",
      "source": [
        "#Q14 B\n",
        "class Queue:\n",
        "  def __init__(self, capacity) -> None:\n",
        "    self.capacity = capacity\n",
        "    self.queue = []\n",
        "\n",
        "  def is_full(self):\n",
        "    return len(self.queue) == self.capacity\n",
        "queue1 = Queue(capacity=5)\n",
        "print(queue1.is_full())"
      ],
      "metadata": {
        "id": "YkV_pry6v0-5",
        "outputId": "2989cdad-c4ca-431d-ce8e-30a3b2cd4245",
        "colab": {
          "base_uri": "https://localhost:8080/"
        }
      },
      "execution_count": null,
      "outputs": [
        {
          "output_type": "stream",
          "name": "stdout",
          "text": [
            "False\n"
          ]
        }
      ]
    },
    {
      "cell_type": "code",
      "source": [
        "#Q15 B\n",
        "class Queue:\n",
        "  def __init__(self, capacity) -> None:\n",
        "    self.capacity = capacity\n",
        "    self.queue = []\n",
        "\n",
        "  def is_full(self):\n",
        "    return len(self.queue) == self.capacity\n",
        "\n",
        "  def enqueue(self, value):\n",
        "    if not self.is_full():\n",
        "      self.queue.append(value)\n",
        "      return True\n",
        "    else:\n",
        "      return False\n",
        "queue1 = Queue(capacity=5)\n",
        "queue1.enqueue(1)\n",
        "queue1.enqueue(2)\n",
        "print(queue1.is_full())"
      ],
      "metadata": {
        "id": "y3zUiGrC5uIY",
        "outputId": "6daea3dd-a26d-44bc-ad1e-8c2dcf037e4e",
        "colab": {
          "base_uri": "https://localhost:8080/"
        }
      },
      "execution_count": null,
      "outputs": [
        {
          "output_type": "stream",
          "name": "stdout",
          "text": [
            "False\n"
          ]
        }
      ]
    },
    {
      "cell_type": "code",
      "source": [
        "#Q16 A\n",
        "class Queue:\n",
        "  def __init__(self, capacity) -> None:\n",
        "    self.capacity = capacity\n",
        "    self.queue = []\n",
        "\n",
        "  def is_empty(self):\n",
        "    return len(self.queue) == 0\n",
        "\n",
        "  def is_full(self):\n",
        "    return len(self.queue) == self.capacity\n",
        "\n",
        "  def dequeue(self):\n",
        "    #top is the first element in array\n",
        "    if not self.is_empty():\n",
        "      value = self.queue.pop(0)\n",
        "      return value # Remove Success\n",
        "\n",
        "  def enqueue(self, value):\n",
        "    if not self.is_full():\n",
        "      self.queue.append(value)\n",
        "      return True\n",
        "    else:\n",
        "      return False\n",
        "\n",
        "  def front(self):\n",
        "    if not self.is_empty():\n",
        "      return self.queue[0]\n",
        "    else:\n",
        "      return \"Queue is empty!\"\n",
        "queue1 = Queue(capacity=5)\n",
        "queue1.enqueue(1)\n",
        "queue1.enqueue(2)\n",
        "print(queue1.front())"
      ],
      "metadata": {
        "id": "uGFv9edP5vHH",
        "outputId": "cdab68e6-fe24-4ad9-9363-0607f0d871cc",
        "colab": {
          "base_uri": "https://localhost:8080/"
        }
      },
      "execution_count": null,
      "outputs": [
        {
          "output_type": "stream",
          "name": "stdout",
          "text": [
            "1\n"
          ]
        }
      ]
    },
    {
      "cell_type": "markdown",
      "source": [
        "# Day 19"
      ],
      "metadata": {
        "id": "v2g0Unf1myCv"
      }
    },
    {
      "cell_type": "markdown",
      "source": [
        "Linear Regression - LR have 2 type:\n",
        "- Simple LR\n",
        "- Multi LR\n",
        "\n",
        "1) Predict output:\n",
        "$$\n",
        "Y_i = w_iX_i +b\n",
        "$$\n",
        "\n",
        "The purpose of model is find the optimize value for b and $w_i$. The method we use is Gradient descent.\n",
        "\n",
        "Which:\n",
        "- $Y_i$: output or prediction value\n",
        "- w_i: weight\n",
        "- b: bias\n",
        "\n",
        "2) Cost or Loss funtion: model evaluation\n",
        "\n",
        "- Mean Squared Error (MSE): sensitive to outliers\n",
        "- Root Mean Squared Error (RMSE): has the same units as the output y. Easy to interpret, sensitive to outliers\n",
        "- Mean Absolute Error (MAE): Less affected by outliers\n",
        "- [R-squared Score](https://www.ncl.ac.uk/webtemplate/ask-assets/external/maths-resources/statistics/regression-and-correlation/coefficient-of-determination-r-squared.html#:~:text=The%20coefficient%20of%20determination%2C%20or,values%20between%200%20and%201%20.) ($R^2$):\n",
        "\n",
        "3) Back propagation: Compute gradient\n",
        "\n",
        "4) Update parameters w and b"
      ],
      "metadata": {
        "id": "LzA_j-WghKfv"
      }
    },
    {
      "cell_type": "code",
      "source": [
        "!gdown 1zoQTToBtrUu9DWDb64CLq1Zu66NYTMKk"
      ],
      "metadata": {
        "id": "SVVSkUNqmzq0",
        "colab": {
          "base_uri": "https://localhost:8080/"
        },
        "outputId": "9f85ba33-180f-4ba5-ead1-28dc5fed1e7a"
      },
      "execution_count": null,
      "outputs": [
        {
          "output_type": "stream",
          "name": "stdout",
          "text": [
            "Downloading...\n",
            "From: https://drive.google.com/uc?id=1zoQTToBtrUu9DWDb64CLq1Zu66NYTMKk\n",
            "To: /content/advertising.csv\n",
            "\r  0% 0.00/4.06k [00:00<?, ?B/s]\r100% 4.06k/4.06k [00:00<00:00, 11.6MB/s]\n"
          ]
        }
      ]
    },
    {
      "cell_type": "markdown",
      "source": [],
      "metadata": {
        "id": "zf-HXwwDwOtl"
      }
    },
    {
      "cell_type": "code",
      "source": [
        "import matplotlib.pyplot as plt\n",
        "\n",
        "class LinearRegression:\n",
        "  def __init__(self, learning_rate, epochs=1000) -> None:\n",
        "    self.learning_rate = learning_rate\n",
        "    self.weight = None\n",
        "    self.bias = None\n",
        "    self.epochs = epochs\n",
        "\n",
        "  def fit(self, X):\n",
        "    m, n = X.shape\n",
        "    self.w = np.zeros(n)\n",
        "    self.bias = 0\n",
        "    self.weight = np.zeros(n)\n",
        "\n",
        "  def predict(self, X):\n",
        "    return X * self.weight + self.bias\n",
        "\n",
        "  def compute_loss_MSE(self, predictions, Y):#evaluate\n",
        "    return ((Y - predictions)** 2) / len(Y)\n",
        "\n",
        "  def compute_gradient(self, predictions, X, Y):\n",
        "    dw_i = 2 * X * (Y - predictions)\n",
        "    db = 2 * (Y - predictions)\n",
        "    return dw_i, db\n",
        "\n",
        "  def update_parameters(self, dw_i, db):\n",
        "    self.weight -= self.learning_rate * dw_i\n",
        "    self.bias -= self.learning_rate * db\n",
        "\n",
        "  def train(self, X, Y):\n",
        "    train_losses = []\n",
        "    for epoch in range(epochs):\n",
        "      predictions = self.predict(X)\n",
        "\n",
        "      train_losses.append(self.compute_loss_MSE(predictions, Y))\n",
        "\n",
        "      dwi, db = self.compute_gradient(predictions, X, Y)\n",
        "      self.update_parameters(dwi, db)\n",
        "  def plot_regression(self, X, Y):\n",
        "    pass\n"
      ],
      "metadata": {
        "id": "Gc48-4I0wPX4",
        "outputId": "b94c593a-ae8d-44f9-f54b-d7112a4c31b8",
        "colab": {
          "base_uri": "https://localhost:8080/",
          "height": 110
        }
      },
      "execution_count": null,
      "outputs": [
        {
          "output_type": "error",
          "ename": "SyntaxError",
          "evalue": "expected ':' (<ipython-input-5-3008134988da>, line 22)",
          "traceback": [
            "\u001b[0;36m  File \u001b[0;32m\"<ipython-input-5-3008134988da>\"\u001b[0;36m, line \u001b[0;32m22\u001b[0m\n\u001b[0;31m    def compute_gradient(self, predictions)\u001b[0m\n\u001b[0m                                           ^\u001b[0m\n\u001b[0;31mSyntaxError\u001b[0m\u001b[0;31m:\u001b[0m expected ':'\n"
          ]
        }
      ]
    },
    {
      "cell_type": "code",
      "source": [
        "import pandas as pd\n",
        "import numpy as np\n",
        "from sklearn import train_plit_data\n",
        "\n",
        "df = pd.read_csv('advertising.csv')\n",
        "df.head()\n",
        "\n",
        "def get_column(table, column_index):\n",
        "  col_data = np.array(table.iloc[:, column_index])\n",
        "  return col_data\n",
        "\n",
        "def normalize_data(col_data):\n",
        "  data_norm = (col_data - np.min(col_data)) / (np.max(col_data) - np.min(col_data))\n",
        "  return data_norm\n",
        "\n",
        "# X_train, Y_train, X_test, Y_test =\n"
      ],
      "metadata": {
        "id": "uyJFFVEC8Lk5"
      },
      "execution_count": null,
      "outputs": []
    },
    {
      "cell_type": "code",
      "source": [
        "lr = 1e-5\n",
        "model = LinearRegression(X, Y_label=Y, learning_rate=lr)"
      ],
      "metadata": {
        "id": "kz3WLQV38C4y"
      },
      "execution_count": null,
      "outputs": []
    },
    {
      "cell_type": "markdown",
      "source": [
        "# Day 20: 62 questions in 90 minutes"
      ],
      "metadata": {
        "id": "h3uX87QLqIM9"
      }
    },
    {
      "cell_type": "code",
      "execution_count": null,
      "metadata": {
        "id": "xZPTB4Gm_8KF"
      },
      "outputs": [],
      "source": []
    },
    {
      "cell_type": "code",
      "source": [],
      "metadata": {
        "id": "-ghms-0_neYH"
      },
      "execution_count": null,
      "outputs": []
    },
    {
      "cell_type": "code",
      "source": [],
      "metadata": {
        "id": "kpcNI7dTndyS"
      },
      "execution_count": null,
      "outputs": []
    },
    {
      "cell_type": "code",
      "source": [],
      "metadata": {
        "id": "dc8erulSndft"
      },
      "execution_count": null,
      "outputs": []
    },
    {
      "cell_type": "code",
      "source": [],
      "metadata": {
        "id": "2V2of_D8nezE"
      },
      "execution_count": null,
      "outputs": []
    }
  ],
  "metadata": {
    "colab": {
      "gpuType": "T4",
      "provenance": [],
      "include_colab_link": true
    },
    "kernelspec": {
      "display_name": "Python 3",
      "name": "python3"
    },
    "language_info": {
      "name": "python"
    }
  },
  "nbformat": 4,
  "nbformat_minor": 0
}