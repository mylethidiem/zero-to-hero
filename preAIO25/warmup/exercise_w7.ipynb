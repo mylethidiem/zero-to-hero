{
  "cells": [
    {
      "cell_type": "markdown",
      "metadata": {
        "id": "view-in-github",
        "colab_type": "text"
      },
      "source": [
        "<a href=\"https://colab.research.google.com/github/mylethidiem/ProgramingTech/blob/main/preAIO25/warmup/exercise_w7.ipynb\" target=\"_parent\"><img src=\"https://colab.research.google.com/assets/colab-badge.svg\" alt=\"Open In Colab\"/></a>"
      ]
    },
    {
      "cell_type": "markdown",
      "metadata": {
        "id": "epqIX4k0VSAA"
      },
      "source": [
        "# **W7**"
      ]
    },
    {
      "cell_type": "markdown",
      "metadata": {
        "id": "8ARGaVTG08pf"
      },
      "source": [
        "## **Linear Regression**"
      ]
    },
    {
      "cell_type": "markdown",
      "metadata": {
        "id": "GQ9vzXXv9_Sz"
      },
      "source": [
        "#### Exercise 1"
      ]
    },
    {
      "cell_type": "code",
      "execution_count": 13,
      "metadata": {
        "colab": {
          "base_uri": "https://localhost:8080/"
        },
        "id": "YbloDbvO9_S1",
        "outputId": "bace435c-b141-40f3-8563-24b1162fac86"
      },
      "outputs": [
        {
          "output_type": "stream",
          "name": "stdout",
          "text": [
            "[0 1 2 3 4 5 6 7 8 9]\n"
          ]
        }
      ],
      "source": [
        "#q1\n",
        "import numpy as np\n",
        "arr = np.arange(0,10,1)\n",
        "print(arr)"
      ]
    },
    {
      "cell_type": "code",
      "source": [
        "arr_a = np.ones((3 ,3)) > 0\n",
        "print(arr_a)"
      ],
      "metadata": {
        "id": "pMNJBP9wPfY4",
        "outputId": "415265df-fae3-4b32-82b4-fb202c869ac8",
        "colab": {
          "base_uri": "https://localhost:8080/"
        }
      },
      "execution_count": 63,
      "outputs": [
        {
          "output_type": "stream",
          "name": "stdout",
          "text": [
            "[[ True  True  True]\n",
            " [ True  True  True]\n",
            " [ True  True  True]]\n"
          ]
        }
      ]
    },
    {
      "cell_type": "code",
      "source": [
        "arr_b = np.ones((3 ,3), dtype = bool)\n",
        "print(arr_a)"
      ],
      "metadata": {
        "id": "eANyAtU5PetJ",
        "outputId": "59f749e2-62a9-4996-ebb8-21d81cf4de20",
        "colab": {
          "base_uri": "https://localhost:8080/"
        }
      },
      "execution_count": 64,
      "outputs": [
        {
          "output_type": "stream",
          "name": "stdout",
          "text": [
            "[[ True  True  True]\n",
            " [ True  True  True]\n",
            " [ True  True  True]]\n"
          ]
        }
      ]
    },
    {
      "cell_type": "code",
      "execution_count": 23,
      "metadata": {
        "id": "Jhx5acrH9Kll",
        "outputId": "1aca2b69-ae38-4776-d7ac-7d055db6f0a2",
        "colab": {
          "base_uri": "https://localhost:8080/"
        }
      },
      "outputs": [
        {
          "output_type": "stream",
          "name": "stdout",
          "text": [
            "[[ True  True  True]\n",
            " [ True  True  True]\n",
            " [ True  True  True]]\n"
          ]
        }
      ],
      "source": [
        "#q2\n",
        "arr2 = np.full((3,3), True, dtype=bool)\n",
        "print(arr2)"
      ]
    },
    {
      "cell_type": "code",
      "execution_count": 15,
      "metadata": {
        "id": "AFtQ-BIn9Kll",
        "outputId": "3427f030-5a9b-4ab3-b295-42577a8162b4",
        "colab": {
          "base_uri": "https://localhost:8080/"
        }
      },
      "outputs": [
        {
          "output_type": "stream",
          "name": "stdout",
          "text": [
            "[1 3 5 7 9]\n"
          ]
        }
      ],
      "source": [
        "#q3\n",
        "arr3 = np.arange(0,10)\n",
        "print(arr3[arr3 % 2 == 1])"
      ]
    },
    {
      "cell_type": "code",
      "execution_count": 16,
      "metadata": {
        "id": "hJ4PCGDv9Klm",
        "outputId": "5fa8523a-f3c6-4fac-dcae-4ada0ca9a7d0",
        "colab": {
          "base_uri": "https://localhost:8080/"
        }
      },
      "outputs": [
        {
          "output_type": "stream",
          "name": "stdout",
          "text": [
            "[ 0 -1  2 -1  4 -1  6 -1  8 -1]\n"
          ]
        }
      ],
      "source": [
        "#q4\n",
        "arr4 = np.arange(0,10)\n",
        "arr4[arr4 % 2 == 1] = -1\n",
        "print(arr4)"
      ]
    },
    {
      "cell_type": "code",
      "execution_count": 25,
      "metadata": {
        "id": "WOezohvn9Klo",
        "outputId": "7d5c13be-9442-4f77-9ff3-8a358deb6bea",
        "colab": {
          "base_uri": "https://localhost:8080/"
        }
      },
      "outputs": [
        {
          "output_type": "stream",
          "name": "stdout",
          "text": [
            "[[0 1 2 3 4]\n",
            " [5 6 7 8 9]]\n"
          ]
        }
      ],
      "source": [
        "#q5\n",
        "arr5 = np.arange(10) # 1D\n",
        "arr_2d = arr5.reshape(2,-1)\n",
        " #2D: array with 2 row,-1 mean number of column will automatically computation\n",
        "print(arr_2d)"
      ]
    },
    {
      "cell_type": "code",
      "execution_count": 24,
      "metadata": {
        "id": "_8Z4Z18Z9Klo",
        "outputId": "26a7d44b-1571-4f54-bbab-3c1e0c385f2e",
        "colab": {
          "base_uri": "https://localhost:8080/"
        }
      },
      "outputs": [
        {
          "output_type": "stream",
          "name": "stdout",
          "text": [
            "[[0 1 2 3 4]\n",
            " [5 6 7 8 9]]\n",
            "(2, 5)\n",
            "[1 1 1 1 1 1 1 1 1 1]\n",
            "[[1 1 1 1 1]\n",
            " [1 1 1 1 1]]\n",
            "(2, 5)\n",
            "Result of concatenation along axis 0:\n",
            " [[0 1 2 3 4]\n",
            " [5 6 7 8 9]\n",
            " [1 1 1 1 1]\n",
            " [1 1 1 1 1]]\n"
          ]
        }
      ],
      "source": [
        "#q6\n",
        "arr5 = np.arange(10).reshape(2,-1)\n",
        "print(arr5)\n",
        "print(arr5.shape)\n",
        "arr6 = np.repeat(1, 10).reshape(2,-1)\n",
        "print(np.repeat(1, 10))\n",
        "print(arr6)\n",
        "print(arr6.shape)\n",
        "c = np.concatenate([arr5, arr6], axis=0)\n",
        "#axis = 0 mean row\n",
        "print(\"Result of concatenation along axis 0:\\n\",c)"
      ]
    },
    {
      "cell_type": "code",
      "execution_count": 27,
      "metadata": {
        "id": "e0flMK8A9Klq",
        "outputId": "0b09e1be-adad-4160-b1cc-ca4ae4246bce",
        "colab": {
          "base_uri": "https://localhost:8080/"
        }
      },
      "outputs": [
        {
          "output_type": "stream",
          "name": "stdout",
          "text": [
            "[[0 1 2 3 4]\n",
            " [5 6 7 8 9]]\n",
            "[[1 1 1 1 1]\n",
            " [1 1 1 1 1]]\n",
            "Result of concatenation along axis 1:\n",
            " [[0 1 2 3 4 1 1 1 1 1]\n",
            " [5 6 7 8 9 1 1 1 1 1]]\n"
          ]
        }
      ],
      "source": [
        "#q7\n",
        "arr7 = np.arange(10).reshape(2,-1)\n",
        "print(arr7)\n",
        "arr8 = np.repeat(1, 10).reshape(2,-1)\n",
        "print(arr8)\n",
        "d = np.concatenate([arr7, arr8], axis=1)\n",
        "#axis = 1 mean column\n",
        "print(\"Result of concatenation along axis 1:\\n\",d)"
      ]
    },
    {
      "cell_type": "code",
      "execution_count": 28,
      "metadata": {
        "id": "o9OIkbCq9Klq",
        "outputId": "af3cc715-1bee-403a-8b16-9e56a40f8b10",
        "colab": {
          "base_uri": "https://localhost:8080/"
        }
      },
      "outputs": [
        {
          "output_type": "stream",
          "name": "stdout",
          "text": [
            "[1 1 1 2 2 2 3 3 3]\n",
            "[1 2 3 1 2 3 1 2 3]\n"
          ]
        }
      ],
      "source": [
        "#q8\n",
        "arr9 = np.array([1,2,3])\n",
        "# repeat each element in array\n",
        "# tile the whole array\n",
        "print(np.repeat(arr9, 3))\n",
        "print(np.tile(arr9, 3))"
      ]
    },
    {
      "cell_type": "code",
      "execution_count": 29,
      "metadata": {
        "id": "mF6VXj849Klr",
        "outputId": "7e33e491-b311-4583-d923-b6a0961fed74",
        "colab": {
          "base_uri": "https://localhost:8080/"
        }
      },
      "outputs": [
        {
          "output_type": "stream",
          "name": "stdout",
          "text": [
            "result of index where values are between 5 and 10: [ 6  9 10]\n"
          ]
        }
      ],
      "source": [
        "#q9\n",
        "a = np.array([2,6,1,9,10,3,27])\n",
        "index = np.where((a >= 5) & (a <= 10))\n",
        "print(\"result of index where values are between 5 and 10:\",a[index])"
      ]
    },
    {
      "cell_type": "code",
      "execution_count": 59,
      "metadata": {
        "id": "wN-SOmGf9Klr",
        "outputId": "356e4e12-403c-425f-a868-4b5fb8fbabeb",
        "colab": {
          "base_uri": "https://localhost:8080/"
        }
      },
      "outputs": [
        {
          "output_type": "stream",
          "name": "stdout",
          "text": [
            "[6. 7. 9. 8. 9. 7. 5.]\n"
          ]
        }
      ],
      "source": [
        "import numpy as np\n",
        "#q10\n",
        "def maxx(x,y):\n",
        "  if x >= y:\n",
        "    return x\n",
        "  else:\n",
        "    return y\n",
        "\n",
        "a = np.array([5,7,9,8,6,4,5])\n",
        "b = np.array([6,3,4,8,9,7,1])\n",
        "\n",
        "#vectorize la ham numpy dung de vector hoa' mot ham py thong thuong\n",
        "#ap dung ham maxx len tung cap phan tu tuong ung trong mang a va b\n",
        "pair_max = np.vectorize(maxx, otypes=[float])\n",
        "print(pair_max(a,b))"
      ]
    },
    {
      "cell_type": "code",
      "source": [
        "import numpy as np\n",
        "#q11\n",
        "a = np.array([5 ,7 ,9 ,8 ,6 ,4 ,5])\n",
        "b = np.array([6 ,3 ,4 ,8 ,9 ,7 ,1])\n",
        "print(\"Result\", np.where(a<b,b,a))"
      ],
      "metadata": {
        "id": "GKmavTICFwkz",
        "outputId": "010c57d4-50f1-45c6-baf7-76b586d022c5",
        "colab": {
          "base_uri": "https://localhost:8080/"
        }
      },
      "execution_count": 31,
      "outputs": [
        {
          "output_type": "stream",
          "name": "stdout",
          "text": [
            "Result [6 7 9 8 9 7 5]\n"
          ]
        }
      ]
    },
    {
      "cell_type": "markdown",
      "source": [
        "#### Exercise 2"
      ],
      "metadata": {
        "id": "85BlYOK5GQby"
      }
    },
    {
      "cell_type": "code",
      "source": [
        "# Download data!\n",
        "!gdown 1iA0WmVfW88HyJvTBSQDI5vesf-pgKabq"
      ],
      "metadata": {
        "id": "gePuzmP2GUEK",
        "outputId": "784b625d-7dc4-4ba8-c85f-64a67514d94f",
        "colab": {
          "base_uri": "https://localhost:8080/"
        }
      },
      "execution_count": 34,
      "outputs": [
        {
          "output_type": "stream",
          "name": "stdout",
          "text": [
            "Downloading...\n",
            "From: https://drive.google.com/uc?id=1iA0WmVfW88HyJvTBSQDI5vesf-pgKabq\n",
            "To: /content/advertising.csv\n",
            "\r  0% 0.00/4.06k [00:00<?, ?B/s]\r100% 4.06k/4.06k [00:00<00:00, 8.13MB/s]\n"
          ]
        }
      ]
    },
    {
      "cell_type": "code",
      "source": [
        "import pandas as pd\n",
        "df = pd.read_csv('advertising.csv')\n",
        "df.head()\n"
      ],
      "metadata": {
        "id": "zpHEIb0gGiuR",
        "outputId": "04f8c44f-4bca-4978-da5f-79ab1f00233e",
        "colab": {
          "base_uri": "https://localhost:8080/",
          "height": 206
        }
      },
      "execution_count": 36,
      "outputs": [
        {
          "output_type": "execute_result",
          "data": {
            "text/plain": [
              "      TV  Radio  Newspaper  Sales\n",
              "0  230.1   37.8       69.2   22.1\n",
              "1   44.5   39.3       45.1   10.4\n",
              "2   17.2   45.9       69.3   12.0\n",
              "3  151.5   41.3       58.5   16.5\n",
              "4  180.8   10.8       58.4   17.9"
            ],
            "text/html": [
              "\n",
              "  <div id=\"df-c0cc7872-2cd1-4b42-b27a-ef180a0f2196\" class=\"colab-df-container\">\n",
              "    <div>\n",
              "<style scoped>\n",
              "    .dataframe tbody tr th:only-of-type {\n",
              "        vertical-align: middle;\n",
              "    }\n",
              "\n",
              "    .dataframe tbody tr th {\n",
              "        vertical-align: top;\n",
              "    }\n",
              "\n",
              "    .dataframe thead th {\n",
              "        text-align: right;\n",
              "    }\n",
              "</style>\n",
              "<table border=\"1\" class=\"dataframe\">\n",
              "  <thead>\n",
              "    <tr style=\"text-align: right;\">\n",
              "      <th></th>\n",
              "      <th>TV</th>\n",
              "      <th>Radio</th>\n",
              "      <th>Newspaper</th>\n",
              "      <th>Sales</th>\n",
              "    </tr>\n",
              "  </thead>\n",
              "  <tbody>\n",
              "    <tr>\n",
              "      <th>0</th>\n",
              "      <td>230.1</td>\n",
              "      <td>37.8</td>\n",
              "      <td>69.2</td>\n",
              "      <td>22.1</td>\n",
              "    </tr>\n",
              "    <tr>\n",
              "      <th>1</th>\n",
              "      <td>44.5</td>\n",
              "      <td>39.3</td>\n",
              "      <td>45.1</td>\n",
              "      <td>10.4</td>\n",
              "    </tr>\n",
              "    <tr>\n",
              "      <th>2</th>\n",
              "      <td>17.2</td>\n",
              "      <td>45.9</td>\n",
              "      <td>69.3</td>\n",
              "      <td>12.0</td>\n",
              "    </tr>\n",
              "    <tr>\n",
              "      <th>3</th>\n",
              "      <td>151.5</td>\n",
              "      <td>41.3</td>\n",
              "      <td>58.5</td>\n",
              "      <td>16.5</td>\n",
              "    </tr>\n",
              "    <tr>\n",
              "      <th>4</th>\n",
              "      <td>180.8</td>\n",
              "      <td>10.8</td>\n",
              "      <td>58.4</td>\n",
              "      <td>17.9</td>\n",
              "    </tr>\n",
              "  </tbody>\n",
              "</table>\n",
              "</div>\n",
              "    <div class=\"colab-df-buttons\">\n",
              "\n",
              "  <div class=\"colab-df-container\">\n",
              "    <button class=\"colab-df-convert\" onclick=\"convertToInteractive('df-c0cc7872-2cd1-4b42-b27a-ef180a0f2196')\"\n",
              "            title=\"Convert this dataframe to an interactive table.\"\n",
              "            style=\"display:none;\">\n",
              "\n",
              "  <svg xmlns=\"http://www.w3.org/2000/svg\" height=\"24px\" viewBox=\"0 -960 960 960\">\n",
              "    <path d=\"M120-120v-720h720v720H120Zm60-500h600v-160H180v160Zm220 220h160v-160H400v160Zm0 220h160v-160H400v160ZM180-400h160v-160H180v160Zm440 0h160v-160H620v160ZM180-180h160v-160H180v160Zm440 0h160v-160H620v160Z\"/>\n",
              "  </svg>\n",
              "    </button>\n",
              "\n",
              "  <style>\n",
              "    .colab-df-container {\n",
              "      display:flex;\n",
              "      gap: 12px;\n",
              "    }\n",
              "\n",
              "    .colab-df-convert {\n",
              "      background-color: #E8F0FE;\n",
              "      border: none;\n",
              "      border-radius: 50%;\n",
              "      cursor: pointer;\n",
              "      display: none;\n",
              "      fill: #1967D2;\n",
              "      height: 32px;\n",
              "      padding: 0 0 0 0;\n",
              "      width: 32px;\n",
              "    }\n",
              "\n",
              "    .colab-df-convert:hover {\n",
              "      background-color: #E2EBFA;\n",
              "      box-shadow: 0px 1px 2px rgba(60, 64, 67, 0.3), 0px 1px 3px 1px rgba(60, 64, 67, 0.15);\n",
              "      fill: #174EA6;\n",
              "    }\n",
              "\n",
              "    .colab-df-buttons div {\n",
              "      margin-bottom: 4px;\n",
              "    }\n",
              "\n",
              "    [theme=dark] .colab-df-convert {\n",
              "      background-color: #3B4455;\n",
              "      fill: #D2E3FC;\n",
              "    }\n",
              "\n",
              "    [theme=dark] .colab-df-convert:hover {\n",
              "      background-color: #434B5C;\n",
              "      box-shadow: 0px 1px 3px 1px rgba(0, 0, 0, 0.15);\n",
              "      filter: drop-shadow(0px 1px 2px rgba(0, 0, 0, 0.3));\n",
              "      fill: #FFFFFF;\n",
              "    }\n",
              "  </style>\n",
              "\n",
              "    <script>\n",
              "      const buttonEl =\n",
              "        document.querySelector('#df-c0cc7872-2cd1-4b42-b27a-ef180a0f2196 button.colab-df-convert');\n",
              "      buttonEl.style.display =\n",
              "        google.colab.kernel.accessAllowed ? 'block' : 'none';\n",
              "\n",
              "      async function convertToInteractive(key) {\n",
              "        const element = document.querySelector('#df-c0cc7872-2cd1-4b42-b27a-ef180a0f2196');\n",
              "        const dataTable =\n",
              "          await google.colab.kernel.invokeFunction('convertToInteractive',\n",
              "                                                    [key], {});\n",
              "        if (!dataTable) return;\n",
              "\n",
              "        const docLinkHtml = 'Like what you see? Visit the ' +\n",
              "          '<a target=\"_blank\" href=https://colab.research.google.com/notebooks/data_table.ipynb>data table notebook</a>'\n",
              "          + ' to learn more about interactive tables.';\n",
              "        element.innerHTML = '';\n",
              "        dataTable['output_type'] = 'display_data';\n",
              "        await google.colab.output.renderOutput(dataTable, element);\n",
              "        const docLink = document.createElement('div');\n",
              "        docLink.innerHTML = docLinkHtml;\n",
              "        element.appendChild(docLink);\n",
              "      }\n",
              "    </script>\n",
              "  </div>\n",
              "\n",
              "\n",
              "<div id=\"df-9cbaab94-4fbf-4974-ab45-7662d8811760\">\n",
              "  <button class=\"colab-df-quickchart\" onclick=\"quickchart('df-9cbaab94-4fbf-4974-ab45-7662d8811760')\"\n",
              "            title=\"Suggest charts\"\n",
              "            style=\"display:none;\">\n",
              "\n",
              "<svg xmlns=\"http://www.w3.org/2000/svg\" height=\"24px\"viewBox=\"0 0 24 24\"\n",
              "     width=\"24px\">\n",
              "    <g>\n",
              "        <path d=\"M19 3H5c-1.1 0-2 .9-2 2v14c0 1.1.9 2 2 2h14c1.1 0 2-.9 2-2V5c0-1.1-.9-2-2-2zM9 17H7v-7h2v7zm4 0h-2V7h2v10zm4 0h-2v-4h2v4z\"/>\n",
              "    </g>\n",
              "</svg>\n",
              "  </button>\n",
              "\n",
              "<style>\n",
              "  .colab-df-quickchart {\n",
              "      --bg-color: #E8F0FE;\n",
              "      --fill-color: #1967D2;\n",
              "      --hover-bg-color: #E2EBFA;\n",
              "      --hover-fill-color: #174EA6;\n",
              "      --disabled-fill-color: #AAA;\n",
              "      --disabled-bg-color: #DDD;\n",
              "  }\n",
              "\n",
              "  [theme=dark] .colab-df-quickchart {\n",
              "      --bg-color: #3B4455;\n",
              "      --fill-color: #D2E3FC;\n",
              "      --hover-bg-color: #434B5C;\n",
              "      --hover-fill-color: #FFFFFF;\n",
              "      --disabled-bg-color: #3B4455;\n",
              "      --disabled-fill-color: #666;\n",
              "  }\n",
              "\n",
              "  .colab-df-quickchart {\n",
              "    background-color: var(--bg-color);\n",
              "    border: none;\n",
              "    border-radius: 50%;\n",
              "    cursor: pointer;\n",
              "    display: none;\n",
              "    fill: var(--fill-color);\n",
              "    height: 32px;\n",
              "    padding: 0;\n",
              "    width: 32px;\n",
              "  }\n",
              "\n",
              "  .colab-df-quickchart:hover {\n",
              "    background-color: var(--hover-bg-color);\n",
              "    box-shadow: 0 1px 2px rgba(60, 64, 67, 0.3), 0 1px 3px 1px rgba(60, 64, 67, 0.15);\n",
              "    fill: var(--button-hover-fill-color);\n",
              "  }\n",
              "\n",
              "  .colab-df-quickchart-complete:disabled,\n",
              "  .colab-df-quickchart-complete:disabled:hover {\n",
              "    background-color: var(--disabled-bg-color);\n",
              "    fill: var(--disabled-fill-color);\n",
              "    box-shadow: none;\n",
              "  }\n",
              "\n",
              "  .colab-df-spinner {\n",
              "    border: 2px solid var(--fill-color);\n",
              "    border-color: transparent;\n",
              "    border-bottom-color: var(--fill-color);\n",
              "    animation:\n",
              "      spin 1s steps(1) infinite;\n",
              "  }\n",
              "\n",
              "  @keyframes spin {\n",
              "    0% {\n",
              "      border-color: transparent;\n",
              "      border-bottom-color: var(--fill-color);\n",
              "      border-left-color: var(--fill-color);\n",
              "    }\n",
              "    20% {\n",
              "      border-color: transparent;\n",
              "      border-left-color: var(--fill-color);\n",
              "      border-top-color: var(--fill-color);\n",
              "    }\n",
              "    30% {\n",
              "      border-color: transparent;\n",
              "      border-left-color: var(--fill-color);\n",
              "      border-top-color: var(--fill-color);\n",
              "      border-right-color: var(--fill-color);\n",
              "    }\n",
              "    40% {\n",
              "      border-color: transparent;\n",
              "      border-right-color: var(--fill-color);\n",
              "      border-top-color: var(--fill-color);\n",
              "    }\n",
              "    60% {\n",
              "      border-color: transparent;\n",
              "      border-right-color: var(--fill-color);\n",
              "    }\n",
              "    80% {\n",
              "      border-color: transparent;\n",
              "      border-right-color: var(--fill-color);\n",
              "      border-bottom-color: var(--fill-color);\n",
              "    }\n",
              "    90% {\n",
              "      border-color: transparent;\n",
              "      border-bottom-color: var(--fill-color);\n",
              "    }\n",
              "  }\n",
              "</style>\n",
              "\n",
              "  <script>\n",
              "    async function quickchart(key) {\n",
              "      const quickchartButtonEl =\n",
              "        document.querySelector('#' + key + ' button');\n",
              "      quickchartButtonEl.disabled = true;  // To prevent multiple clicks.\n",
              "      quickchartButtonEl.classList.add('colab-df-spinner');\n",
              "      try {\n",
              "        const charts = await google.colab.kernel.invokeFunction(\n",
              "            'suggestCharts', [key], {});\n",
              "      } catch (error) {\n",
              "        console.error('Error during call to suggestCharts:', error);\n",
              "      }\n",
              "      quickchartButtonEl.classList.remove('colab-df-spinner');\n",
              "      quickchartButtonEl.classList.add('colab-df-quickchart-complete');\n",
              "    }\n",
              "    (() => {\n",
              "      let quickchartButtonEl =\n",
              "        document.querySelector('#df-9cbaab94-4fbf-4974-ab45-7662d8811760 button');\n",
              "      quickchartButtonEl.style.display =\n",
              "        google.colab.kernel.accessAllowed ? 'block' : 'none';\n",
              "    })();\n",
              "  </script>\n",
              "</div>\n",
              "\n",
              "    </div>\n",
              "  </div>\n"
            ],
            "application/vnd.google.colaboratory.intrinsic+json": {
              "type": "dataframe",
              "variable_name": "df",
              "summary": "{\n  \"name\": \"df\",\n  \"rows\": 200,\n  \"fields\": [\n    {\n      \"column\": \"TV\",\n      \"properties\": {\n        \"dtype\": \"number\",\n        \"std\": 85.8542363149081,\n        \"min\": 0.7,\n        \"max\": 296.4,\n        \"num_unique_values\": 190,\n        \"samples\": [\n          287.6,\n          286.0,\n          78.2\n        ],\n        \"semantic_type\": \"\",\n        \"description\": \"\"\n      }\n    },\n    {\n      \"column\": \"Radio\",\n      \"properties\": {\n        \"dtype\": \"number\",\n        \"std\": 14.846809176168723,\n        \"min\": 0.0,\n        \"max\": 49.6,\n        \"num_unique_values\": 167,\n        \"samples\": [\n          8.2,\n          36.9,\n          44.5\n        ],\n        \"semantic_type\": \"\",\n        \"description\": \"\"\n      }\n    },\n    {\n      \"column\": \"Newspaper\",\n      \"properties\": {\n        \"dtype\": \"number\",\n        \"std\": 21.778620838522833,\n        \"min\": 0.3,\n        \"max\": 114.0,\n        \"num_unique_values\": 172,\n        \"samples\": [\n          22.3,\n          5.7,\n          17.0\n        ],\n        \"semantic_type\": \"\",\n        \"description\": \"\"\n      }\n    },\n    {\n      \"column\": \"Sales\",\n      \"properties\": {\n        \"dtype\": \"number\",\n        \"std\": 5.283892252561874,\n        \"min\": 1.6,\n        \"max\": 27.0,\n        \"num_unique_values\": 121,\n        \"samples\": [\n          19.8,\n          22.6,\n          17.9\n        ],\n        \"semantic_type\": \"\",\n        \"description\": \"\"\n      }\n    }\n  ]\n}"
            }
          },
          "metadata": {},
          "execution_count": 36
        }
      ]
    },
    {
      "cell_type": "code",
      "source": [
        "data = df.to_numpy()"
      ],
      "metadata": {
        "id": "46_EPHXzGx0B"
      },
      "execution_count": 39,
      "outputs": []
    },
    {
      "cell_type": "code",
      "source": [
        "def get_column(data, col_index):\n",
        "  return data[:, col_index]"
      ],
      "metadata": {
        "id": "H_OyqKaoGzuB"
      },
      "execution_count": 40,
      "outputs": []
    },
    {
      "cell_type": "code",
      "source": [
        "#q12\n",
        "sales = get_column(data,3)\n",
        "print(sales)\n",
        "print(f\"Max sale value is {np.max(sales)} at index {np.argmax(sales)}\")"
      ],
      "metadata": {
        "id": "qZ0dCW13G_C5",
        "outputId": "593c7602-67d1-4217-e181-5f5a1ce82cb1",
        "colab": {
          "base_uri": "https://localhost:8080/"
        }
      },
      "execution_count": 47,
      "outputs": [
        {
          "output_type": "stream",
          "name": "stdout",
          "text": [
            "[22.1 10.4 12.  16.5 17.9  7.2 11.8 13.2  4.8 15.6 12.6 17.4  9.2 13.7\n",
            " 19.  22.4 12.5 24.4 11.3 14.6 18.  17.5  5.6 20.5  9.7 17.  15.  20.9\n",
            " 18.9 10.5 21.4 11.9 13.2 17.4 11.9 17.8 25.4 14.7 10.1 21.5 16.6 17.1\n",
            " 20.7 17.9  8.5 16.1 10.6 23.2 19.8  9.7 16.4 10.7 22.6 21.2 20.2 23.7\n",
            "  5.5 13.2 23.8 18.4  8.1 24.2 20.7 14.  16.  11.3 11.  13.4 18.9 22.3\n",
            " 18.3 12.4  8.8 11.  17.   8.7  6.9 14.2  5.3 11.  11.8 17.3 11.3 13.6\n",
            " 21.7 20.2 12.  16.  12.9 16.7 14.   7.3 19.4 22.2 11.5 16.9 16.7 20.5\n",
            " 25.4 17.2 16.7 23.8 19.8 19.7 20.7 15.   7.2 12.   5.3 19.8 18.4 21.8\n",
            " 17.1 20.9 14.6 12.6 12.2  9.4 15.9  6.6 15.5  7.  16.6 15.2 19.7 10.6\n",
            "  6.6 11.9 24.7  9.7  1.6 17.7  5.7 19.6 10.8 11.6  9.5 20.8  9.6 20.7\n",
            " 10.9 19.2 20.1 10.4 12.3 10.3 18.2 25.4 10.9 10.1 16.1 11.6 16.6 16.\n",
            " 20.6  3.2 15.3 10.1  7.3 12.9 16.4 13.3 19.9 18.  11.9 16.9  8.  17.2\n",
            " 17.1 20.   8.4 17.5  7.6 16.7 16.5 27.  20.2 16.7 16.8 17.6 15.5 17.2\n",
            "  8.7 26.2 17.6 22.6 10.3 17.3 20.9  6.7 10.8 11.9  5.9 19.6 17.3  7.6\n",
            " 14.  14.8 25.5 18.4]\n",
            "Max sale value is 27.0 at index 175\n"
          ]
        }
      ]
    },
    {
      "cell_type": "code",
      "source": [
        "#q13\n",
        "tv = get_column(data, 0)\n",
        "print(f\"Average TV advertising is {np.mean(tv)}\")"
      ],
      "metadata": {
        "id": "gHkJersWIMDW",
        "outputId": "6ea92f37-14a9-452f-8311-5e89779c7c65",
        "colab": {
          "base_uri": "https://localhost:8080/"
        }
      },
      "execution_count": 48,
      "outputs": [
        {
          "output_type": "stream",
          "name": "stdout",
          "text": [
            "Average TV advertising is 147.0425\n"
          ]
        }
      ]
    },
    {
      "cell_type": "code",
      "source": [
        "#q14\n",
        "count = 0\n",
        "for i in range(len(sales)):\n",
        "  if sales[i] >= 20:\n",
        "    count+=1\n",
        "print(f\"Number of sales >= 10 is {count}\")"
      ],
      "metadata": {
        "id": "OnHCeorXJlxh",
        "outputId": "b9fdf513-fc01-48db-c8cf-8e4ed0f075cc",
        "colab": {
          "base_uri": "https://localhost:8080/"
        }
      },
      "execution_count": 53,
      "outputs": [
        {
          "output_type": "stream",
          "name": "stdout",
          "text": [
            "Number of sales >= 10 is 40\n"
          ]
        }
      ]
    },
    {
      "cell_type": "code",
      "source": [
        "#q15\n",
        "radio = get_column(data, 1)\n",
        "sum_radio = 0\n",
        "count = 0\n",
        "for i in range(len(sales)):\n",
        "  if sales[i] >= 15:\n",
        "    sum_radio+=radio[i]\n",
        "    count+=1\n",
        "print(f\"Average radio advertising when sales >= 15 is {sum_radio/count}\")"
      ],
      "metadata": {
        "id": "HCLG9C9oIV-b",
        "outputId": "cbda7148-d5e1-4256-d5ef-92627f71d171",
        "colab": {
          "base_uri": "https://localhost:8080/"
        }
      },
      "execution_count": 50,
      "outputs": [
        {
          "output_type": "stream",
          "name": "stdout",
          "text": [
            "Average radio advertising when sales >= 15 is 26.222935779816517\n"
          ]
        }
      ]
    },
    {
      "cell_type": "code",
      "source": [
        "#q16\n",
        "newspaper = get_column(data,2)\n",
        "sum_sales = 0\n",
        "average_newspaper = np.mean(newspaper)\n",
        "for i in range(len(newspaper)):\n",
        "  if newspaper[i] > average_newspaper:\n",
        "    sum_sales += sales[i]\n",
        "\n",
        "print(f\"Sum of sales where value of newspaper larger than value of average of newspaper colum is {sum_sales}\")"
      ],
      "metadata": {
        "id": "DFKEPi7fIbeR",
        "outputId": "56328692-b417-4ddc-897a-c4decd0ffe44",
        "colab": {
          "base_uri": "https://localhost:8080/"
        }
      },
      "execution_count": 55,
      "outputs": [
        {
          "output_type": "stream",
          "name": "stdout",
          "text": [
            "Sum of sales where value of newspaper larger than value of average of newspaper colum is 1405.1000000000004\n"
          ]
        }
      ]
    },
    {
      "cell_type": "code",
      "source": [
        "#q17\n",
        "sales_average = np.mean(sales)\n",
        "print(f\"Average of sales is {sales_average}\")\n",
        "#intialize empty np array scores\n",
        "scores = np.array([])\n",
        "for i in range(len(sales)):\n",
        "  if sales[i] > sales_average:\n",
        "    scores = np.append(scores, 'Good')\n",
        "  elif sales[i] == sales_average:\n",
        "    sscores = np.append(scores, 'Average')\n",
        "  else:\n",
        "    scores = np.append(scores, 'Bad')\n",
        "\n",
        "print(scores)\n",
        "print(f\"Value sales [7:10]: {scores[7:10]}\")"
      ],
      "metadata": {
        "id": "OK-516GwLKsu",
        "outputId": "558f0e87-b795-41ee-8d44-944e1eb509fc",
        "colab": {
          "base_uri": "https://localhost:8080/"
        }
      },
      "execution_count": 58,
      "outputs": [
        {
          "output_type": "stream",
          "name": "stdout",
          "text": [
            "Average of sales is 15.130500000000001\n",
            "['Good' 'Bad' 'Bad' 'Good' 'Good' 'Bad' 'Bad' 'Bad' 'Bad' 'Good' 'Bad'\n",
            " 'Good' 'Bad' 'Bad' 'Good' 'Good' 'Bad' 'Good' 'Bad' 'Bad' 'Good' 'Good'\n",
            " 'Bad' 'Good' 'Bad' 'Good' 'Bad' 'Good' 'Good' 'Bad' 'Good' 'Bad' 'Bad'\n",
            " 'Good' 'Bad' 'Good' 'Good' 'Bad' 'Bad' 'Good' 'Good' 'Good' 'Good' 'Good'\n",
            " 'Bad' 'Good' 'Bad' 'Good' 'Good' 'Bad' 'Good' 'Bad' 'Good' 'Good' 'Good'\n",
            " 'Good' 'Bad' 'Bad' 'Good' 'Good' 'Bad' 'Good' 'Good' 'Bad' 'Good' 'Bad'\n",
            " 'Bad' 'Bad' 'Good' 'Good' 'Good' 'Bad' 'Bad' 'Bad' 'Good' 'Bad' 'Bad'\n",
            " 'Bad' 'Bad' 'Bad' 'Bad' 'Good' 'Bad' 'Bad' 'Good' 'Good' 'Bad' 'Good'\n",
            " 'Bad' 'Good' 'Bad' 'Bad' 'Good' 'Good' 'Bad' 'Good' 'Good' 'Good' 'Good'\n",
            " 'Good' 'Good' 'Good' 'Good' 'Good' 'Good' 'Bad' 'Bad' 'Bad' 'Bad' 'Good'\n",
            " 'Good' 'Good' 'Good' 'Good' 'Bad' 'Bad' 'Bad' 'Bad' 'Good' 'Bad' 'Good'\n",
            " 'Bad' 'Good' 'Good' 'Good' 'Bad' 'Bad' 'Bad' 'Good' 'Bad' 'Bad' 'Good'\n",
            " 'Bad' 'Good' 'Bad' 'Bad' 'Bad' 'Good' 'Bad' 'Good' 'Bad' 'Good' 'Good'\n",
            " 'Bad' 'Bad' 'Bad' 'Good' 'Good' 'Bad' 'Bad' 'Good' 'Bad' 'Good' 'Good'\n",
            " 'Good' 'Bad' 'Good' 'Bad' 'Bad' 'Bad' 'Good' 'Bad' 'Good' 'Good' 'Bad'\n",
            " 'Good' 'Bad' 'Good' 'Good' 'Good' 'Bad' 'Good' 'Bad' 'Good' 'Good' 'Good'\n",
            " 'Good' 'Good' 'Good' 'Good' 'Good' 'Good' 'Bad' 'Good' 'Good' 'Good'\n",
            " 'Bad' 'Good' 'Good' 'Bad' 'Bad' 'Bad' 'Bad' 'Good' 'Good' 'Bad' 'Bad'\n",
            " 'Bad' 'Good' 'Good']\n",
            "Value sales [7:10]: ['Bad' 'Bad' 'Good']\n"
          ]
        }
      ]
    },
    {
      "cell_type": "code",
      "source": [
        "#q18\n",
        "#find the value nearest to the average value of sales column\n",
        "\n",
        "sales_average = np.mean(sales)\n",
        "print(f\"Average of sales is {sales_average}\")\n",
        "#np.argmin: Trả về chỉ số (index) của phần tử nhỏ nhất trong mảng\n",
        "nearest_average_sales = sales[np.argmin(np.abs(sales - sales_average))]\n",
        "print(f\"The value nearest to the average value of sales column is {nearest_average_sales}\")\n",
        "\n",
        "#intialize empty np array scores\n",
        "scores = np.array([])\n",
        "# create scores array\n",
        "for i in range(len(sales)):\n",
        "  if sales[i] > nearest_average_sales:\n",
        "    scores = np.append(scores, 'Good')\n",
        "  elif sales[i] == nearest_average_sales:\n",
        "    sscores = np.append(scores, 'Average')\n",
        "  else:\n",
        "    scores = np.append(scores, 'Bad')\n",
        "\n",
        "print(scores)\n",
        "print(f\"Value sales [7:10]: {scores[7:10]}\")"
      ],
      "metadata": {
        "id": "RPI3D5bkLKn2",
        "outputId": "080500a0-4b16-4de1-bd07-e451d1ada073",
        "colab": {
          "base_uri": "https://localhost:8080/"
        }
      },
      "execution_count": 62,
      "outputs": [
        {
          "output_type": "stream",
          "name": "stdout",
          "text": [
            "Average of sales is 15.130500000000001\n",
            "The value nearest to the average value of sales column is 15.2\n",
            "['Good' 'Bad' 'Bad' 'Good' 'Good' 'Bad' 'Bad' 'Bad' 'Bad' 'Good' 'Bad'\n",
            " 'Good' 'Bad' 'Bad' 'Good' 'Good' 'Bad' 'Good' 'Bad' 'Bad' 'Good' 'Good'\n",
            " 'Bad' 'Good' 'Bad' 'Good' 'Bad' 'Good' 'Good' 'Bad' 'Good' 'Bad' 'Bad'\n",
            " 'Good' 'Bad' 'Good' 'Good' 'Bad' 'Bad' 'Good' 'Good' 'Good' 'Good' 'Good'\n",
            " 'Bad' 'Good' 'Bad' 'Good' 'Good' 'Bad' 'Good' 'Bad' 'Good' 'Good' 'Good'\n",
            " 'Good' 'Bad' 'Bad' 'Good' 'Good' 'Bad' 'Good' 'Good' 'Bad' 'Good' 'Bad'\n",
            " 'Bad' 'Bad' 'Good' 'Good' 'Good' 'Bad' 'Bad' 'Bad' 'Good' 'Bad' 'Bad'\n",
            " 'Bad' 'Bad' 'Bad' 'Bad' 'Good' 'Bad' 'Bad' 'Good' 'Good' 'Bad' 'Good'\n",
            " 'Bad' 'Good' 'Bad' 'Bad' 'Good' 'Good' 'Bad' 'Good' 'Good' 'Good' 'Good'\n",
            " 'Good' 'Good' 'Good' 'Good' 'Good' 'Good' 'Bad' 'Bad' 'Bad' 'Bad' 'Good'\n",
            " 'Good' 'Good' 'Good' 'Good' 'Bad' 'Bad' 'Bad' 'Bad' 'Good' 'Bad' 'Good'\n",
            " 'Bad' 'Good' 'Good' 'Bad' 'Bad' 'Bad' 'Good' 'Bad' 'Bad' 'Good' 'Bad'\n",
            " 'Good' 'Bad' 'Bad' 'Bad' 'Good' 'Bad' 'Good' 'Bad' 'Good' 'Good' 'Bad'\n",
            " 'Bad' 'Bad' 'Good' 'Good' 'Bad' 'Bad' 'Good' 'Bad' 'Good' 'Good' 'Good'\n",
            " 'Bad' 'Good' 'Bad' 'Bad' 'Bad' 'Good' 'Bad' 'Good' 'Good' 'Bad' 'Good'\n",
            " 'Bad' 'Good' 'Good' 'Good' 'Bad' 'Good' 'Bad' 'Good' 'Good' 'Good' 'Good'\n",
            " 'Good' 'Good' 'Good' 'Good' 'Good' 'Bad' 'Good' 'Good' 'Good' 'Bad'\n",
            " 'Good' 'Good' 'Bad' 'Bad' 'Bad' 'Bad' 'Good' 'Good' 'Bad' 'Bad' 'Bad'\n",
            " 'Good' 'Good']\n",
            "Value sales [7:10]: ['Bad' 'Bad' 'Good']\n"
          ]
        }
      ]
    }
  ],
  "metadata": {
    "colab": {
      "provenance": [],
      "include_colab_link": true
    },
    "kernelspec": {
      "display_name": "base",
      "language": "python",
      "name": "python3"
    },
    "language_info": {
      "codemirror_mode": {
        "name": "ipython",
        "version": 3
      },
      "file_extension": ".py",
      "mimetype": "text/x-python",
      "name": "python",
      "nbconvert_exporter": "python",
      "pygments_lexer": "ipython3",
      "version": "3.9.20"
    }
  },
  "nbformat": 4,
  "nbformat_minor": 0
}