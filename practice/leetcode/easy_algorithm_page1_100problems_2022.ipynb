{
 "cells": [
  {
   "cell_type": "code",
   "execution_count": null,
   "id": "5654a230",
   "metadata": {
    "id": "5654a230",
    "outputId": "943ab630-12d0-4c02-c58f-c2fd8bc61085"
   },
   "outputs": [
    {
     "data": {
      "text/plain": [
       "[0, 1, 2, 4, 5, 3]"
      ]
     },
     "execution_count": 4,
     "metadata": {},
     "output_type": "execute_result"
    }
   ],
   "source": [
    "#04/06/2022 1920. Build Array from Permutation\n",
    "from typing import List\n",
    "def buildArray(nums: List[int]) -> List[int]:\n",
    "        ans = []\n",
    "        ans = [nums[nums[i]] for i in range(len(nums))]\n",
    "        return ans\n",
    "\n",
    "nums = [0,2,1,5,3,4]\n",
    "buildArray(nums)"
   ]
  },
  {
   "cell_type": "code",
   "execution_count": null,
   "id": "3d868920",
   "metadata": {
    "id": "3d868920",
    "outputId": "7849295b-8f59-4127-a5bf-da3028edc7c6"
   },
   "outputs": [
    {
     "data": {
      "text/plain": [
       "[1, 3, 2, 1, 1, 3, 2, 1]"
      ]
     },
     "execution_count": 12,
     "metadata": {},
     "output_type": "execute_result"
    }
   ],
   "source": [
    "#04/06/2022 1929. Concatenation of Array\n",
    "from typing import List\n",
    "def getConcatenation(nums: List[int]) -> List[int]:\n",
    "    ans = nums.copy()\n",
    "    n = len(nums)\n",
    "    for i in range(n,n + n):\n",
    "        ans.append(nums[i - n])\n",
    "\n",
    "    return ans\n",
    "nums = [1,3,2,1]\n",
    "getConcatenation(nums)"
   ]
  },
  {
   "cell_type": "code",
   "execution_count": null,
   "id": "c873a296",
   "metadata": {
    "id": "c873a296",
    "outputId": "6c294c79-c63e-4ad4-b3e1-a21744cee103"
   },
   "outputs": [
    {
     "data": {
      "text/plain": [
       "[1, 3, 6, 10]"
      ]
     },
     "execution_count": 16,
     "metadata": {},
     "output_type": "execute_result"
    }
   ],
   "source": [
    "#04/06/2022\n",
    "def runningSum(nums: List[int]) -> List[int]:\n",
    "    ans = []\n",
    "    s = 0\n",
    "    for i in range(len(nums)):\n",
    "        s = s + nums[i]\n",
    "        ans.append(s)\n",
    "\n",
    "    return ans\n",
    "\n",
    "nums = [1,2,3,4]\n",
    "runningSum(nums)"
   ]
  },
  {
   "cell_type": "code",
   "execution_count": null,
   "id": "b1a91fbe",
   "metadata": {
    "id": "b1a91fbe",
    "outputId": "d4dc8e2e-2279-436f-a0ff-4591c96dad15"
   },
   "outputs": [
    {
     "ename": "NameError",
     "evalue": "name 'Optional' is not defined",
     "output_type": "error",
     "traceback": [
      "\u001b[1;31m---------------------------------------------------------------------------\u001b[0m",
      "\u001b[1;31mNameError\u001b[0m                                 Traceback (most recent call last)",
      "Input \u001b[1;32mIn [2]\u001b[0m, in \u001b[0;36m<cell line: 2>\u001b[1;34m()\u001b[0m\n\u001b[0;32m      1\u001b[0m \u001b[38;5;66;03m#05/06/2022 2236. Root Equals Sum of Children\u001b[39;00m\n\u001b[1;32m----> 2\u001b[0m \u001b[38;5;28;01mdef\u001b[39;00m \u001b[38;5;21mcheckTree\u001b[39m(root: \u001b[43mOptional\u001b[49m[TreeNode]) \u001b[38;5;241m-\u001b[39m\u001b[38;5;241m>\u001b[39m \u001b[38;5;28mbool\u001b[39m:\n\u001b[0;32m      3\u001b[0m     \u001b[38;5;28;01mif\u001b[39;00m root\u001b[38;5;241m.\u001b[39mleft\u001b[38;5;241m.\u001b[39mval \u001b[38;5;241m+\u001b[39m root\u001b[38;5;241m.\u001b[39mright\u001b[38;5;241m.\u001b[39mval \u001b[38;5;241m==\u001b[39m root\u001b[38;5;241m.\u001b[39mval:\n\u001b[0;32m      4\u001b[0m         \u001b[38;5;28;01mreturn\u001b[39;00m \u001b[38;5;28;01mTrue\u001b[39;00m\n",
      "\u001b[1;31mNameError\u001b[0m: name 'Optional' is not defined"
     ]
    }
   ],
   "source": [
    "#05/06/2022 2236. Root Equals Sum of Children\n",
    "def checkTree(root: Optional[TreeNode]) -> bool:\n",
    "    if root.left.val + root.right.val == root.val:\n",
    "        return True\n",
    "    else:\n",
    "        return False"
   ]
  },
  {
   "cell_type": "code",
   "execution_count": null,
   "id": "7afae881",
   "metadata": {
    "id": "7afae881",
    "outputId": "e1b1939c-3a22-4174-9e4b-af6e70e11e9f"
   },
   "outputs": [
    {
     "data": {
      "text/plain": [
       "3"
      ]
     },
     "execution_count": 3,
     "metadata": {},
     "output_type": "execute_result"
    }
   ],
   "source": [
    "#06/06/2022 2011. Final Value of Variable After Performing Operations\n",
    "def finalValueAfterOperations(operations: list) -> int:\n",
    "        result = 0\n",
    "        for i in range(len(operations)):\n",
    "            if operations[i] == 'X++' or operations[i] == '++X':\n",
    "                result += 1\n",
    "            elif operations[i] == 'X--' or operations[i] == '--X':\n",
    "                result -= 1\n",
    "        return result\n",
    "\n",
    "#operations = [\"--X\",\"X++\",\"X++\"]\n",
    "operations = [\"++X\",\"++X\",\"X++\"]\n",
    "finalValueAfterOperations(operations)"
   ]
  },
  {
   "cell_type": "code",
   "execution_count": null,
   "id": "5dd3ab84",
   "metadata": {
    "id": "5dd3ab84",
    "outputId": "f302fa50-34e2-4d11-9945-9b9ca5a2c937"
   },
   "outputs": [
    {
     "name": "stdout",
     "output_type": "stream",
     "text": [
      "0\n",
      "2\n",
      "10\n",
      "0\n",
      "7\n",
      "8\n",
      "0\n",
      "1\n",
      "10\n"
     ]
    },
    {
     "data": {
      "text/plain": [
       "17"
      ]
     },
     "execution_count": 3,
     "metadata": {},
     "output_type": "execute_result"
    }
   ],
   "source": [
    "#07/06/2022 1672. Richest Customer Wealth\n",
    "def maximumWealth(accounts: list[list[int]]) -> int:\n",
    "    current_wealth = 0\n",
    "    max_wealth = 0\n",
    "    for i in range(len(accounts)):\n",
    "        current_wealth = 0\n",
    "        for j in range(len(accounts[i])):\n",
    "            current_wealth += accounts[i][j]\n",
    "\n",
    "        if current_wealth > max_wealth:\n",
    "            max_wealth = current_wealth\n",
    "\n",
    "    return max_wealth\n",
    "\n",
    "lst = [[2,8,7],[7,1,3],[1,9,5]]\n",
    "maximumWealth(lst)"
   ]
  },
  {
   "cell_type": "code",
   "execution_count": null,
   "id": "c63ceb89",
   "metadata": {
    "id": "c63ceb89",
    "outputId": "9cb96062-327c-44ad-e986-63443499e925"
   },
   "outputs": [
    {
     "name": "stdout",
     "output_type": "stream",
     "text": [
      "address = 1[.]1[.]1[.]1\n"
     ]
    }
   ],
   "source": [
    "#08/06/1996 1108. Defanging an IP Address\n",
    "address = \"1.1.1.1\"\n",
    "address = address.replace('.','[.]')\n",
    "print(f\"address = {address}\")"
   ]
  },
  {
   "cell_type": "code",
   "execution_count": null,
   "id": "e4bd00e0",
   "metadata": {
    "id": "e4bd00e0",
    "outputId": "84b0cad8-2f6d-43f7-8235-9bef2d044ec0"
   },
   "outputs": [
    {
     "data": {
      "text/plain": [
       "{1, 2, 3, 4}"
      ]
     },
     "execution_count": 4,
     "metadata": {},
     "output_type": "execute_result"
    }
   ],
   "source": [
    "lst = [1,2,3,2]\n",
    "a = set(lst)\n",
    "tp = (1,2,3,4,3)\n",
    "b = set(tp)\n",
    "a\n",
    "b"
   ]
  },
  {
   "cell_type": "code",
   "execution_count": null,
   "id": "9469db3f",
   "metadata": {
    "id": "9469db3f"
   },
   "outputs": [],
   "source": []
  },
  {
   "cell_type": "code",
   "execution_count": null,
   "id": "74e4d21b",
   "metadata": {
    "id": "74e4d21b",
    "outputId": "617dfda5-6be8-4c5f-c422-eb367e2e6082"
   },
   "outputs": [
    {
     "name": "stdout",
     "output_type": "stream",
     "text": [
      "len_sentence = 4\n",
      "len_sentence = 6\n",
      "max = 6\n"
     ]
    },
    {
     "data": {
      "text/plain": [
       "[['alice', 'and', 'bob', 'love', 'leetcode'],\n",
       " ['i', 'think', 'so', 'too'],\n",
       " ['this', 'is', 'great', 'thanks', 'very', 'much']]"
      ]
     },
     "execution_count": 1,
     "metadata": {},
     "output_type": "execute_result"
    }
   ],
   "source": [
    "#09/06/2022 2114. Maximum Number of Words Found in Sentences\n",
    "sentences = [\"alice and bob love leetcode\", \"i think so too\", \"this is great thanks very much\"]\n",
    "# split words\n",
    "sentences[0] = sentences[0].split(' ')\n",
    "max = len(sentences[0])\n",
    "for i in range(1,len(sentences)):\n",
    "  sentences[i] = sentences[i].split(' ')\n",
    "  len_sentence = len(sentences[i])\n",
    "  print(f\"len_sentence = {len_sentence}\")\n",
    "  if max < len_sentence:\n",
    "    max = len_sentence\n",
    "\n",
    "print(f\"max = {max}\")\n",
    "sentences"
   ]
  },
  {
   "cell_type": "code",
   "execution_count": null,
   "id": "40c903f0",
   "metadata": {
    "id": "40c903f0",
    "outputId": "79e1f01e-33dd-4b12-a1d4-41afc2d056eb"
   },
   "outputs": [
    {
     "name": "stdout",
     "output_type": "stream",
     "text": [
      "x = [2, 5, 1]\n",
      "y = [3, 4, 7]\n",
      "r = [2, 3, 5, 4, 1, 7]\n"
     ]
    },
    {
     "data": {
      "text/plain": [
       "[2, 3, 5, 4, 1, 7]"
      ]
     },
     "execution_count": 4,
     "metadata": {},
     "output_type": "execute_result"
    }
   ],
   "source": [
    "#14/06/2022 1470. Shuffle the Array\n",
    "def shuffle(nums: list, n: int) -> list:\n",
    "        x = nums[:n]\n",
    "        y = nums[n:]\n",
    "        print(f\"x = {x}\")\n",
    "        print(f\"y = {y}\")\n",
    "        r = []\n",
    "        i = 0\n",
    "        while i != n:\n",
    "            r.append(x[i])\n",
    "            r.append(y[i])\n",
    "            i += 1\n",
    "\n",
    "        print(f\"r = {r}\")\n",
    "        return r\n",
    "\n",
    "nums = [2,5,1,3,4,7]\n",
    "n = 3\n",
    "shuffle(nums, n)"
   ]
  },
  {
   "cell_type": "code",
   "execution_count": null,
   "id": "ea93f2a1",
   "metadata": {
    "id": "ea93f2a1",
    "outputId": "4e065db5-9876-4396-d219-7bc79d15d353"
   },
   "outputs": [
    {
     "name": "stdout",
     "output_type": "stream",
     "text": [
      "lst {(2, 239), (3, 229), (23, 29), (22, 39), (9, 223)}\n"
     ]
    },
    {
     "data": {
      "text/plain": [
       "52"
      ]
     },
     "execution_count": 1,
     "metadata": {},
     "output_type": "execute_result"
    }
   ],
   "source": [
    "#15/06/2022 2160. Minimum Sum of Four Digit Number After Splitting Digits\n",
    "def minimumSum(num: int) -> int:\n",
    "  min_sum = num\n",
    "  lst = set()\n",
    "  ns = []\n",
    "  #number list\n",
    "  for i in range(4):\n",
    "    ns.append(int(num % 10))\n",
    "    num = int(num / 10)\n",
    "\n",
    "  #inner 1\n",
    "  def inner_list_to_num(l_num):\n",
    "    r = 0\n",
    "    for i in range(len(l_num)):\n",
    "      r = r * 10 + l_num[i]\n",
    "    return r\n",
    "\n",
    "  #inner 2\n",
    "  def inner_find(tuple_n,l_tuple):\n",
    "    r_tuple = (tuple_n[1],tuple_n[0])\n",
    "    for s in l_tuple:\n",
    "      if tuple_n == s or r_tuple == s:\n",
    "        return True\n",
    "    return False\n",
    "\n",
    "  #sum\n",
    "  for i in range(4):\n",
    "    pin = ns[i]\n",
    "    num1 = pin\n",
    "\n",
    "    if (i - 1) >= 0 and ns[i] in ns[:i - 1]:\n",
    "      continue\n",
    "    remain = ns.copy()\n",
    "    remain.remove(ns[i])\n",
    "    remain.sort()\n",
    "\n",
    "    #[(1,3)]\n",
    "    num2 = inner_list_to_num(remain)\n",
    "    if not inner_find((num1,num2),lst):\n",
    "      lst.add((num1,num2))\n",
    "      if min_sum > (num1 + num2):\n",
    "        min_sum = num1 + num2\n",
    "\n",
    "    #[(2,2)]\n",
    "    for j in range(len(remain)):\n",
    "      num1_l = [pin,remain[j]]\n",
    "      num1_l.sort()\n",
    "      num1 = inner_list_to_num(num1_l)\n",
    "\n",
    "      remain2 = remain.copy()\n",
    "      remain2.remove(remain[j])\n",
    "      remain2.sort()\n",
    "      num2 = inner_list_to_num(remain2)\n",
    "      if not inner_find((num1,num2),lst):\n",
    "        lst.add((num1,num2))\n",
    "        if min_sum > (num1 + num2):\n",
    "          min_sum = num1 + num2\n",
    "\n",
    "  print(f\"lst {lst}\")\n",
    "  return min_sum\n",
    "\n",
    "num = 2932\n",
    "minimumSum(num)"
   ]
  },
  {
   "cell_type": "code",
   "execution_count": null,
   "id": "84d25eaf",
   "metadata": {
    "id": "84d25eaf",
    "outputId": "9065af1d-a01d-4563-cbe5-1d604385cf63"
   },
   "outputs": [
    {
     "name": "stdout",
     "output_type": "stream",
     "text": [
      "count 4\n",
      "count 6\n",
      "count 0\n"
     ]
    },
    {
     "data": {
      "text/plain": [
       "0"
      ]
     },
     "execution_count": 1,
     "metadata": {},
     "output_type": "execute_result"
    }
   ],
   "source": [
    "#16/06/2022 1512. Number of Good Pairs\n",
    "def numIdenticalPairs(nums: list) -> int:\n",
    "  count = 0\n",
    "  i = 0\n",
    "  j = len(nums) - 1\n",
    "  while i != len(nums):\n",
    "    if i == j:\n",
    "      j = len(nums) - 1\n",
    "      i += 1\n",
    "    else:\n",
    "      if nums[i] == nums[j]:\n",
    "        count += 1\n",
    "      j -= 1\n",
    "\n",
    "  print(f\"count {count}\")\n",
    "  return count\n",
    "\n",
    "nums = [1,2,3,1,1,3]\n",
    "numIdenticalPairs(nums)\n",
    "nums = [1,1,1,1]\n",
    "numIdenticalPairs(nums)\n",
    "nums = [1,2,3]\n",
    "numIdenticalPairs(nums)"
   ]
  },
  {
   "cell_type": "code",
   "execution_count": null,
   "id": "a1fb86d0",
   "metadata": {
    "id": "a1fb86d0",
    "outputId": "c9c2d864-e110-46d6-8842-2c08b45d04a9"
   },
   "outputs": [
    {
     "name": "stdout",
     "output_type": "stream",
     "text": [
      "count 3\n"
     ]
    },
    {
     "data": {
      "text/plain": [
       "3"
      ]
     },
     "execution_count": 8,
     "metadata": {},
     "output_type": "execute_result"
    }
   ],
   "source": [
    "#19/06/2022 771. Jewels and Stones\n",
    "def numJewelsInStones(jewels: str, stones: str) -> int:\n",
    "    count = 0\n",
    "    for i in range(len(jewels)):\n",
    "        key = jewels[i]\n",
    "        for j in range(len(stones)):\n",
    "            if stones[j] == jewels[i]:\n",
    "                count += 1\n",
    "                stones.replace(stones[j],\"\")\n",
    "    print(f\"count {count}\")\n",
    "    return count\n",
    "\n",
    "jewels = \"aA\"\n",
    "stones = \"aAAbbbb\"\n",
    "numJewelsInStones(jewels, stones)"
   ]
  },
  {
   "cell_type": "code",
   "execution_count": null,
   "id": "591a7141",
   "metadata": {
    "id": "591a7141",
    "outputId": "12ac2d76-0ba0-4179-ce6a-356e65f7f3ab"
   },
   "outputs": [
    {
     "data": {
      "text/plain": [
       "[True, True, True, False, True]"
      ]
     },
     "execution_count": 24,
     "metadata": {},
     "output_type": "execute_result"
    }
   ],
   "source": [
    "#19/06/2022  1431. Kids With the Greatest Number of Candies\n",
    "def kidsWithCandies(candies: list, extraCandies: int) ->list:\n",
    "    max_val = max(candies)\n",
    "    num_kids = len(candies)\n",
    "    candies = [x + y for x, y in zip(candies, [extraCandies] * num_kids)]\n",
    "    r = [candies[i] >= max_val for i in range(num_kids)]\n",
    "    return r\n",
    "\n",
    "\n",
    "candies = [2,3,5,1,3]\n",
    "extraCandies = 3\n",
    "kidsWithCandies(candies,extraCandies)"
   ]
  },
  {
   "cell_type": "code",
   "execution_count": null,
   "id": "2625f927",
   "metadata": {
    "id": "2625f927",
    "outputId": "8f2d45bf-f97c-4bbf-d89f-22f8676b8173"
   },
   "outputs": [
    {
     "name": "stdout",
     "output_type": "stream",
     "text": [
      "add(1) True\n",
      "add(2) True\n",
      "add(3) False\n",
      "add(1) False\n"
     ]
    }
   ],
   "source": [
    "#19/06/2022 1603. Design Parking System\n",
    "class ParkingSystem:\n",
    "\n",
    "    def __init__(self, big: int, medium: int, small: int):\n",
    "        self.big = big\n",
    "        self.medium = medium\n",
    "        self.small = small\n",
    "\n",
    "    def addCar(self, carType: int) -> bool:\n",
    "        if carType == 1 and self.big > 0:\n",
    "            self.big -= 1\n",
    "            return True\n",
    "        elif carType == 2 and self.medium > 0:\n",
    "            self.medium -= 1\n",
    "            return True\n",
    "        elif carType == 3 and self.small > 0:\n",
    "            self.small -= 1\n",
    "            return True\n",
    "\n",
    "        return False\n",
    "\n",
    "\n",
    "\n",
    "packing = ParkingSystem(1,1,0)\n",
    "print(f\"add(1) {packing.addCar(1)}\")\n",
    "print(f\"add(2) {packing.addCar(2)}\")\n",
    "print(f\"add(3) {packing.addCar(3)}\")\n",
    "print(f\"add(1) {packing.addCar(1)}\")\n",
    "# Your ParkingSystem object will be instantiated and called as such:\n",
    "# obj = ParkingSystem(big, medium, small)\n",
    "# param_1 = obj.addCar(carType)"
   ]
  },
  {
   "cell_type": "code",
   "execution_count": null,
   "id": "54108b62",
   "metadata": {
    "id": "54108b62"
   },
   "outputs": [],
   "source": [
    "#21/06/2022 1379. Find a Corresponding Node of a Binary Tree in a Clone of That Tree\n",
    "# should read again\n",
    "# Definition for a binary tree node.\n",
    "# class TreeNode:\n",
    "#     def __init__(self, x):\n",
    "#         self.val = x\n",
    "#         self.left = None\n",
    "#         self.right = None\n",
    "\n",
    "class Solution:\n",
    "    def getTargetCopy(self, original: TreeNode, cloned: TreeNode, target: TreeNode) -> TreeNode:\n",
    "        def inorder(o: TreeNode, c: TreeNode):\n",
    "            if o:\n",
    "                inorder(o.left, c.left)\n",
    "                if o is target:\n",
    "                    self.ans = c\n",
    "                inorder(o.right, c.right)\n",
    "        inorder(original, cloned)\n",
    "        return self.ans"
   ]
  },
  {
   "cell_type": "code",
   "execution_count": null,
   "id": "ac2fb749",
   "metadata": {
    "id": "ac2fb749",
    "outputId": "74166607-99cb-4e0b-fc11-90a214ebc23b"
   },
   "outputs": [
    {
     "data": {
      "text/plain": [
       "15"
      ]
     },
     "execution_count": 6,
     "metadata": {},
     "output_type": "execute_result"
    }
   ],
   "source": [
    "#21/06/2022 1281. Subtract the Product and Sum of Digits of an Integer\n",
    "def subtractProductAndSum(n: int) -> int:\n",
    "    n_str_list = list(str(n))\n",
    "    sum_val = 0\n",
    "    product = 1\n",
    "\n",
    "    for i in range(len(n_str_list)):\n",
    "        current_digit = int(n_str_list[i])\n",
    "        sum_val += current_digit\n",
    "        product *= current_digit\n",
    "\n",
    "    return product - sum_val\n",
    "\n",
    "\n",
    "n = 234\n",
    "subtractProductAndSum(n)"
   ]
  },
  {
   "cell_type": "code",
   "execution_count": null,
   "id": "73163c65",
   "metadata": {
    "id": "73163c65",
    "outputId": "59d64288-cf82-42d5-b246-6f75499eb55f"
   },
   "outputs": [
    {
     "name": "stdout",
     "output_type": "stream",
     "text": [
      "[4, 0, 1, 1, 3]\n"
     ]
    },
    {
     "data": {
      "text/plain": [
       "[4, 0, 1, 1, 3]"
      ]
     },
     "execution_count": 44,
     "metadata": {},
     "output_type": "execute_result"
    }
   ],
   "source": [
    "#21/06/2022 1365. How Many Numbers Are Smaller Than the Current Number\n",
    "def smallerNumbersThanCurrent(nums: list) -> list:\n",
    "    count_list = []\n",
    "    for i in range(len(nums)):\n",
    "        current_num = nums[i]\n",
    "        count = 0\n",
    "        for j in range(len(nums)):\n",
    "            if current_num > nums[j]:\n",
    "                count += 1\n",
    "        count_list.append(count)\n",
    "    print(f\"{count_list}\")\n",
    "    return count_list\n",
    "\n",
    "nums = [8,1,2,2,3]\n",
    "smallerNumbersThanCurrent(nums)\n"
   ]
  },
  {
   "cell_type": "code",
   "execution_count": null,
   "id": "7b300948",
   "metadata": {
    "colab": {
     "base_uri": "https://localhost:8080/"
    },
    "id": "7b300948",
    "outputId": "6e5c8282-dd91-411c-9149-2b3742972137"
   },
   "outputs": [
    {
     "data": {
      "text/plain": [
       "6"
      ]
     },
     "execution_count": 3,
     "metadata": {},
     "output_type": "execute_result"
    }
   ],
   "source": [
    "#/06/2022 1342. Number of Steps to Reduce a Number to Zero\n",
    "def numberOfSteps(num: int) -> int:\n",
    "  count = 0\n",
    "  while num != 0:\n",
    "    num = num / 2 if num % 2 == 0 else num - 1\n",
    "    count += 1\n",
    "  return count\n",
    "\n",
    "num = 14\n",
    "numberOfSteps(num)\n",
    "#output 6"
   ]
  },
  {
   "cell_type": "code",
   "execution_count": null,
   "id": "0d50d336",
   "metadata": {
    "colab": {
     "base_uri": "https://localhost:8080/"
    },
    "id": "0d50d336",
    "outputId": "5259d1e0-c69b-41ec-8931-c4545d44b50f"
   },
   "outputs": [
    {
     "data": {
      "text/plain": [
       "1"
      ]
     },
     "execution_count": 5,
     "metadata": {},
     "output_type": "execute_result"
    }
   ],
   "source": [
    "#/06/2022 1313. Decompress Run-Length Encoded List\n",
    "def decompressRLElist(nums: list) -> list:\n",
    "  if len(nums) % 2 != 0:\n",
    "    raise Exception(\"Number of list's elements must be even.\")\n",
    "  i = 0\n",
    "  r = []\n",
    "  while i < len(nums) - 1:\n",
    "    fred = nums[i]\n",
    "    val = nums[i + 1]\n",
    "    i += 2\n",
    "    for j in range(fred):\n",
    "      r.append(val)\n",
    "  return r\n",
    "\n",
    "#Input:\n",
    "#2 <= nums.length <= 100\n",
    "#nums.length % 2 == 0\n",
    "#1 <= nums[i] <= 100\n",
    "nums = [1,2,3,4]\n",
    "decompressRLElist(nums)\n",
    "\n",
    "#Output: [2,4,4,4]"
   ]
  },
  {
   "cell_type": "code",
   "execution_count": null,
   "id": "4eb1935c",
   "metadata": {
    "colab": {
     "base_uri": "https://localhost:8080/"
    },
    "id": "4eb1935c",
    "outputId": "c899f121-57fe-4187-a6f9-5429f496a296"
   },
   "outputs": [
    {
     "data": {
      "text/plain": [
       "[1, 0, 2, 1]"
      ]
     },
     "execution_count": 12,
     "metadata": {},
     "output_type": "execute_result"
    }
   ],
   "source": [
    "#/06/2022 1720. Decode XORed Array\n",
    "#encoded[i] = arr[i] XOR arr[i + 1]\n",
    "\n",
    "#output: [1,0,2,1]\n",
    "encoded = [1,2,3]\n",
    "first = 1\n",
    "#If arr = [1,0,2,1], then first = 1 and encoded = [1 XOR 0, 0 XOR 2, 2 XOR 1] = [1,2,3]\n",
    "arr = [1]\n",
    "r = 1 ^ 1\n",
    "r\n",
    "r = 0 ^ 2\n",
    "r\n",
    "r = 2 ^ 3\n",
    "r\n",
    "def decode(encoded: list, first: int) -> list:\n",
    "  r = [first]\n",
    "\n",
    "  for i in range(len(encoded)):\n",
    "    e = r[i] ^ encoded[i]\n",
    "    r.append(e)\n",
    "  return r\n",
    "\n",
    "decode(encoded, first)\n",
    "#Input: encoded = [6,2,7,3], first = 4\n",
    "#Output: [4,2,0,7,4]"
   ]
  },
  {
   "cell_type": "code",
   "execution_count": null,
   "id": "39a4f015",
   "metadata": {
    "colab": {
     "base_uri": "https://localhost:8080/",
     "height": 70
    },
    "id": "39a4f015",
    "outputId": "2dd4c3fe-abcc-4165-c396-02126081399e"
   },
   "outputs": [
    {
     "name": "stdout",
     "output_type": "stream",
     "text": [
      "command G()(al)\n",
      "cm_split Goal\n"
     ]
    },
    {
     "data": {
      "application/vnd.google.colaboratory.intrinsic+json": {
       "type": "string"
      },
      "text/plain": [
       "'Goal'"
      ]
     },
     "execution_count": 12,
     "metadata": {},
     "output_type": "execute_result"
    }
   ],
   "source": [
    "#26/06/2022 1678. Goal Parser Interpretation\n",
    "def interpret(command: str) -> str:\n",
    "  print(f\"command {command}\")\n",
    "  cm_split = command.replace('()','o')\n",
    "  cm_split = cm_split.replace(')','')\n",
    "  cm_split = cm_split.replace('(','')\n",
    "  print(f\"cm_split {cm_split}\")\n",
    "  return cm_split\n",
    "\n",
    "#Input:\n",
    "command = \"G()(al)\"\n",
    "interpret(command)\n",
    "#Output: \"Goal\"s\n",
    "#Explanation: The Goal Parser interprets the command as follows:\n",
    "#G -> G\n",
    "#() -> o\n",
    "#(al) -> al\n",
    "#The final concatenated result is \"Goal\"."
   ]
  },
  {
   "cell_type": "code",
   "execution_count": null,
   "id": "69eb2e6b",
   "metadata": {
    "colab": {
     "base_uri": "https://localhost:8080/",
     "height": 35
    },
    "id": "69eb2e6b",
    "outputId": "389ec374-53b9-439d-d3aa-360cd71a9ffd"
   },
   "outputs": [
    {
     "data": {
      "application/vnd.google.colaboratory.intrinsic+json": {
       "type": "string"
      },
      "text/plain": [
       "'leetcode'"
      ]
     },
     "execution_count": 14,
     "metadata": {},
     "output_type": "execute_result"
    }
   ],
   "source": [
    "#19/06/2022 1528. Shuffle String\n",
    "def restoreString(s: str, indices: list) -> str:\n",
    "  len_indices = len(indices)\n",
    "  r = [''] * len_indices\n",
    "  for i in range(len_indices):\n",
    "    #print()\n",
    "    #print(f\"r[indices[i]] i {i} {r[indices[i]]}\")\n",
    "    #print(f\"s[indices[i]] {s[i]}\")\n",
    "    r[indices[i]] = s[i]\n",
    "\n",
    "  return ''.join(r)\n",
    "\n",
    "s = \"codeleet\"\n",
    "indices = [4,5,6,7,0,2,1,3]\n",
    "restoreString(s, indices)"
   ]
  }
 ],
 "metadata": {
  "colab": {
   "include_colab_link": true,
   "name": "easy_algorithm_page1_100problems.ipynb",
   "provenance": []
  },
  "kernelspec": {
   "display_name": "Python 3 (ipykernel)",
   "language": "python",
   "name": "python3"
  },
  "language_info": {
   "codemirror_mode": {
    "name": "ipython",
    "version": 3
   },
   "file_extension": ".py",
   "mimetype": "text/x-python",
   "name": "python",
   "nbconvert_exporter": "python",
   "pygments_lexer": "ipython3",
   "version": "3.9.12"
  }
 },
 "nbformat": 4,
 "nbformat_minor": 5
}
