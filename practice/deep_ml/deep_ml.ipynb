{
  "cells": [
    {
      "cell_type": "markdown",
      "metadata": {
        "id": "view-in-github",
        "colab_type": "text"
      },
      "source": [
        "<a href=\"https://colab.research.google.com/github/mylethidiem/zero-to-hero/blob/main/practice/deep_ml/deep_ml.ipynb\" target=\"_parent\"><img src=\"https://colab.research.google.com/assets/colab-badge.svg\" alt=\"Open In Colab\"/></a>"
      ]
    },
    {
      "cell_type": "markdown",
      "source": [
        "February"
      ],
      "metadata": {
        "id": "WskLJ5xWFJMS"
      }
    },
    {
      "cell_type": "markdown",
      "source": [
        "## 1. Matrix times Vector\n",
        "08/02/2025"
      ],
      "metadata": {
        "id": "xGqpdz7qFDou"
      }
    },
    {
      "cell_type": "code",
      "execution_count": 24,
      "metadata": {
        "id": "JZJH1v68YX4M"
      },
      "outputs": [],
      "source": [
        "def matrix_dot_vector(A,B):\n",
        "  print(\"0\")\n",
        "  try:\n",
        "    len(A[0])\n",
        "  except:\n",
        "    A = [A]\n",
        "\n",
        "  try:\n",
        "    len(B[0])\n",
        "  except:\n",
        "    B = [B]\n",
        "  print(\"len A = \", len(A))\n",
        "  print(\"len B[0] = \", len(B[0]))\n",
        "  if len(B) != len(A[0]):\n",
        "    print(\"Please re-check 2 array: Number colums of A must be equal number row of B!\")\n",
        "    return -1\n",
        "  result = []\n",
        "  for i in range(len(A)): # row A\n",
        "    row_result = []\n",
        "    for m in  range(len(B[0])): # column B\n",
        "      sum = 0\n",
        "      for j in range(len(B)): # row B and column A\n",
        "        sum += A[i][j] * B[j][m]\n",
        "      row_result.append(sum)\n",
        "    result.append(row_result)\n",
        "\n",
        "  return result"
      ]
    },
    {
      "cell_type": "code",
      "execution_count": 25,
      "metadata": {
        "id": "L9QZbsqlXKvu",
        "outputId": "f191af03-3775-4c8e-ca35-9b596e9e57f4",
        "colab": {
          "base_uri": "https://localhost:8080/"
        }
      },
      "outputs": [
        {
          "output_type": "stream",
          "name": "stdout",
          "text": [
            "[[1, 2, 3], [2, 4, 5], [6, 8, 9]]\n",
            "[1, 2, 3]\n",
            "0\n",
            "len A =  3\n",
            "len B[0] =  3\n",
            "Please re-check 2 array: Number colums of A must be equal number row of B!\n",
            "-1\n"
          ]
        }
      ],
      "source": [
        "print([[1,2,3],[2,4,5],[6,8,9]])\n",
        "print([1,2,3])\n",
        "print(matrix_dot_vector([[1,2,3],[2,4,5],[6,8,9]],[1,2,3]))"
      ]
    },
    {
      "cell_type": "code",
      "execution_count": null,
      "metadata": {
        "id": "kqhc2257_m3K"
      },
      "outputs": [],
      "source": []
    },
    {
      "cell_type": "code",
      "execution_count": null,
      "metadata": {
        "id": "SQmMu4bKVnkG"
      },
      "outputs": [],
      "source": []
    },
    {
      "cell_type": "code",
      "execution_count": null,
      "metadata": {
        "id": "xZPTB4Gm_8KF"
      },
      "outputs": [],
      "source": []
    },
    {
      "cell_type": "code",
      "execution_count": null,
      "metadata": {
        "id": "qdI0AaZt_38Q"
      },
      "outputs": [],
      "source": []
    },
    {
      "cell_type": "code",
      "execution_count": null,
      "metadata": {
        "id": "lJUGNVftADWJ"
      },
      "outputs": [],
      "source": []
    },
    {
      "cell_type": "code",
      "execution_count": null,
      "metadata": {
        "id": "3yzD6r0wTR0v"
      },
      "outputs": [],
      "source": []
    },
    {
      "cell_type": "code",
      "execution_count": null,
      "metadata": {
        "id": "DQH1LReLB03s"
      },
      "outputs": [],
      "source": []
    },
    {
      "cell_type": "code",
      "execution_count": null,
      "metadata": {
        "id": "h9prQCqNTXPS"
      },
      "outputs": [],
      "source": []
    },
    {
      "cell_type": "code",
      "execution_count": null,
      "metadata": {
        "id": "fPBj338O_tcY"
      },
      "outputs": [],
      "source": []
    },
    {
      "cell_type": "code",
      "execution_count": null,
      "metadata": {
        "id": "MhE1acacBG8z"
      },
      "outputs": [],
      "source": []
    },
    {
      "cell_type": "code",
      "execution_count": null,
      "metadata": {
        "id": "WuKEiiC_BWDM"
      },
      "outputs": [],
      "source": []
    },
    {
      "cell_type": "code",
      "execution_count": null,
      "metadata": {
        "id": "569TTudlZoz6"
      },
      "outputs": [],
      "source": []
    }
  ],
  "metadata": {
    "accelerator": "GPU",
    "colab": {
      "gpuType": "T4",
      "provenance": [],
      "include_colab_link": true
    },
    "kernelspec": {
      "display_name": "Python 3",
      "name": "python3"
    },
    "language_info": {
      "name": "python"
    }
  },
  "nbformat": 4,
  "nbformat_minor": 0
}