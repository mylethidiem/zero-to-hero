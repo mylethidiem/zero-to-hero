{
  "nbformat": 4,
  "nbformat_minor": 0,
  "metadata": {
    "colab": {
      "provenance": []
    },
    "kernelspec": {
      "name": "python3",
      "display_name": "Python 3"
    },
    "language_info": {
      "name": "python"
    }
  },
  "cells": [
    {
      "cell_type": "code",
      "source": [
        "data = [1, 7, 4]\n",
        "print(data)\n",
        "\n",
        "data.insert(1, 9)\n",
        "print(data)"
      ],
      "metadata": {
        "colab": {
          "base_uri": "https://localhost:8080/"
        },
        "id": "K2ReRoZ8Rusf",
        "outputId": "423a6acb-d76f-40bd-f0dd-a2bd81010851"
      },
      "execution_count": null,
      "outputs": [
        {
          "output_type": "stream",
          "name": "stdout",
          "text": [
            "[1, 7, 4]\n",
            "[1, 9, 7, 4]\n"
          ]
        }
      ]
    },
    {
      "cell_type": "code",
      "source": [],
      "metadata": {
        "id": "ddUN0iRSS1H9"
      },
      "execution_count": null,
      "outputs": []
    },
    {
      "cell_type": "code",
      "source": [
        "def my_insert(data, index, value):\n",
        "    result = data[:index] + [value] + data[index:]\n",
        "    return result\n",
        "\n",
        "# test\n",
        "data = [1, 7, 4]\n",
        "print(data)\n",
        "\n",
        "result = my_insert(data, 1, 9)\n",
        "print(result)"
      ],
      "metadata": {
        "colab": {
          "base_uri": "https://localhost:8080/"
        },
        "id": "Piqb_0xMS0-S",
        "outputId": "aa77390f-f26a-4ef8-b551-44c447bbc95d"
      },
      "execution_count": null,
      "outputs": [
        {
          "output_type": "stream",
          "name": "stdout",
          "text": [
            "[1, 7, 4]\n",
            "[1, 9, 7, 4]\n"
          ]
        }
      ]
    },
    {
      "cell_type": "code",
      "source": [],
      "metadata": {
        "id": "GlmP9mMiS07d"
      },
      "execution_count": null,
      "outputs": []
    },
    {
      "cell_type": "code",
      "source": [],
      "metadata": {
        "id": "Qjl_L5gMS0rC"
      },
      "execution_count": null,
      "outputs": []
    },
    {
      "cell_type": "code",
      "source": [],
      "metadata": {
        "id": "XvjQIw00S0oO"
      },
      "execution_count": null,
      "outputs": []
    },
    {
      "cell_type": "code",
      "source": [],
      "metadata": {
        "id": "qxqn_lPUS0ln"
      },
      "execution_count": null,
      "outputs": []
    },
    {
      "cell_type": "code",
      "source": [],
      "metadata": {
        "id": "5pYtYcXeRuqK"
      },
      "execution_count": null,
      "outputs": []
    },
    {
      "cell_type": "code",
      "source": [
        "data = [1, 7, 4]\n",
        "print(data)\n",
        "\n",
        "data[0] = 1\n",
        "data[1] = 1\n",
        "data[2] = 1\n",
        "print(data)"
      ],
      "metadata": {
        "id": "rThy63a1UYuC",
        "colab": {
          "base_uri": "https://localhost:8080/"
        },
        "outputId": "3f8b8f49-77c8-46d6-d3fd-def1e7da7027"
      },
      "execution_count": null,
      "outputs": [
        {
          "output_type": "stream",
          "name": "stdout",
          "text": [
            "[1, 7, 4]\n",
            "[1, 1, 1]\n"
          ]
        }
      ]
    },
    {
      "cell_type": "code",
      "source": [],
      "metadata": {
        "id": "hj6K_FfBCiVN"
      },
      "execution_count": null,
      "outputs": []
    },
    {
      "cell_type": "code",
      "source": [],
      "metadata": {
        "id": "7dbm_ysVCiS4"
      },
      "execution_count": null,
      "outputs": []
    },
    {
      "cell_type": "code",
      "source": [
        "def set_one_1(data):\n",
        "    length = len(data)\n",
        "    for i in range(length):\n",
        "        data[i] = 1\n",
        "\n",
        "    return data\n",
        "\n",
        "# test the function set_one\n",
        "data = [1, 7, 4]\n",
        "print(data)\n",
        "\n",
        "result = set_one_1(data)\n",
        "print(result)"
      ],
      "metadata": {
        "colab": {
          "base_uri": "https://localhost:8080/"
        },
        "id": "u0Z7Hp5wCiQh",
        "outputId": "371360bb-d477-468b-bf9f-ecee506f301e"
      },
      "execution_count": null,
      "outputs": [
        {
          "output_type": "stream",
          "name": "stdout",
          "text": [
            "[1, 7, 4]\n",
            "[1, 1, 1]\n"
          ]
        }
      ]
    },
    {
      "cell_type": "code",
      "source": [],
      "metadata": {
        "id": "JzPhT6PLCiOL"
      },
      "execution_count": null,
      "outputs": []
    },
    {
      "cell_type": "code",
      "source": [
        "def set_one_2(data):\n",
        "    length = len(data)\n",
        "    for i in range(length):\n",
        "        data[i] = 1\n",
        "    return None\n",
        "\n",
        "# test the function set_one\n",
        "data = [1, 7, 4]\n",
        "print(data)\n",
        "\n",
        "result = set_one_2(data)\n",
        "print(data)\n",
        "print(result)"
      ],
      "metadata": {
        "colab": {
          "base_uri": "https://localhost:8080/"
        },
        "id": "8Lemid-5CiL3",
        "outputId": "ee6b50cd-e88d-497c-bd0a-8bdf222b0ad4"
      },
      "execution_count": null,
      "outputs": [
        {
          "output_type": "stream",
          "name": "stdout",
          "text": [
            "[1, 7, 4]\n",
            "[1, 1, 1]\n",
            "None\n"
          ]
        }
      ]
    },
    {
      "cell_type": "code",
      "source": [],
      "metadata": {
        "id": "GC6hq9I2CiJg"
      },
      "execution_count": null,
      "outputs": []
    },
    {
      "cell_type": "code",
      "source": [],
      "metadata": {
        "id": "W4Aj0ODZCiHL"
      },
      "execution_count": null,
      "outputs": []
    },
    {
      "cell_type": "code",
      "source": [],
      "metadata": {
        "id": "aKVTw11DCiEn"
      },
      "execution_count": null,
      "outputs": []
    },
    {
      "cell_type": "code",
      "source": [],
      "metadata": {
        "id": "RmBuMCVQUYrc"
      },
      "execution_count": null,
      "outputs": []
    },
    {
      "cell_type": "code",
      "source": [],
      "metadata": {
        "id": "6SyrWiNAUYpI"
      },
      "execution_count": null,
      "outputs": []
    }
  ]
}