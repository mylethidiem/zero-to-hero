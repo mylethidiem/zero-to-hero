{
 "cells": [
  {
   "cell_type": "markdown",
   "metadata": {
    "id": "T10kZiciTYHY"
   },
   "source": [
    "# **Getting Max Over Kernal**"
   ]
  },
  {
   "cell_type": "code",
   "execution_count": null,
   "metadata": {
    "id": "feZj_67_Tis-"
   },
   "outputs": [],
   "source": [
    "def max_kernel(num_list, k):\n",
    "    \"\"\"\n",
    "    Trả về danh sách các giá trị lớn nhất trong mỗi cửa sổ con (window) kích thước k\n",
    "    chạy trượt trên danh sách num_list.\n",
    "\n",
    "    Parameters:\n",
    "        num_list (list of numbers): Danh sách các số đầu vào.\n",
    "        k (int): Kích thước của cửa sổ trượt.\n",
    "\n",
    "    Returns:\n",
    "        list: Danh sách các giá trị lớn nhất trong từng cửa sổ con liên tiếp.\n",
    "    \"\"\"\n",
    "    result = []\n",
    "    if k <= 0 or not num_list:\n",
    "        return result\n",
    "\n",
    "    for i in range(len(num_list) - k + 1):\n",
    "        # Lấy cửa sổ con từ i đến i+k\n",
    "        window = num_list[i:i + k]\n",
    "        # Tìm giá trị lớn nhất trong cửa sổ con\n",
    "        max_value = max(window)\n",
    "        # Thêm giá trị lớn nhất vào kết quả\n",
    "        result.append(max_value)\n",
    "    return result\n",
    "\n",
    "\n",
    "# Kiểm tra hàm\n",
    "assert max_kernel([3, 4, 5, 1, -44], 3) == [5, 5, 5]\n",
    "num_list = [3, 4, 5, 1, -44, 5, 10, 12, 33, 1]\n",
    "k = 3\n",
    "print(max_kernel(num_list, k))"
   ]
  },
  {
   "cell_type": "markdown",
   "metadata": {
    "id": "kTCS7DO2T0B9"
   },
   "source": [
    "# **Character Counting**"
   ]
  },
  {
   "cell_type": "code",
   "execution_count": null,
   "metadata": {
    "id": "WZRKId5QT2-d"
   },
   "outputs": [],
   "source": [
    "def count_character(word):\n",
    "\n",
    "    \"\"\"\n",
    "    Đếm số lần xuất hiện của từng ký tự trong chuỗi đầu vào.\n",
    "\n",
    "    Parameters:\n",
    "        word (str): Chuỗi ký tự cần thống kê.\n",
    "\n",
    "    Returns:\n",
    "        dict: Từ điển với mỗi ký tự là một khóa, giá trị là số lần xuất hiện.\n",
    "    \"\"\"\n",
    "    character_statistic = {}\n",
    "\n",
    "    for character in word:\n",
    "        if character in character_statistic:\n",
    "            character_statistic[character] += 1\n",
    "        else:\n",
    "            character_statistic[character] = 1\n",
    "\n",
    "    return character_statistic\n",
    "\n",
    "# Kiểm tra hàm\n",
    "\n",
    "assert count_character(\"Baby\") == {'B': 1, 'b': 1, 'a': 1, 'y': 1}\n",
    "print(count_character('smiles'))"
   ]
  },
  {
   "cell_type": "code",
   "execution_count": null,
   "metadata": {},
   "outputs": [],
   "source": [
    "\n",
    "def count_character(word):\n",
    "\n",
    "    \"\"\"\n",
    "    Đếm số lần xuất hiện của từng ký tự trong chuỗi đầu vào.\n",
    "\n",
    "    Parameters:\n",
    "        word (str): Chuỗi ký tự cần thống kê.\n",
    "\n",
    "    Returns:\n",
    "        dict: Từ điển với mỗi ký tự là một khóa, giá trị là số lần xuất hiện.\n",
    "    \"\"\"\n",
    "    character_statistic = {}\n",
    "\n",
    "    for character in word:\n",
    "        character_statistic[character] = character_statistic.get(character, 0) + 1\n",
    "\n",
    "    return character_statistic\n",
    "\n",
    "# Kiểm tra hàm\n",
    "\n",
    "assert count_character(\"Baby\") == {'B': 1, 'b': 1, 'a': 1, 'y': 1}\n",
    "print(count_character('smiles'))"
   ]
  },
  {
   "cell_type": "code",
   "execution_count": null,
   "metadata": {},
   "outputs": [],
   "source": [
    "#!/usr/bin/env python3\n",
    "# Cách sử dụng Counter từ collections để đếm ký tự. Cách này ngắn gọn và hiệu quả nhất\n",
    "from collections import Counter\n",
    "def count_character(word):\n",
    "\n",
    "    \"\"\"\n",
    "    Đếm số lần xuất hiện của từng ký tự trong chuỗi đầu vào.\n",
    "\n",
    "    Parameters:\n",
    "        word (str): Chuỗi ký tự cần thống kê.\n",
    "\n",
    "    Returns:\n",
    "        dict: Từ điển với mỗi ký tự là một khóa, giá trị là số lần xuất hiện.\n",
    "    \"\"\"\n",
    "    character_statistic = Counter(word)\n",
    "\n",
    "    return character_statistic\n",
    "\n",
    "# Kiểm tra hàm\n",
    "assert count_character(\"Baby\") == {'B': 1, 'b': 1, 'a': 1, 'y': 1}\n",
    "print(count_character('smiles'))"
   ]
  },
  {
   "cell_type": "markdown",
   "metadata": {
    "id": "JjCaGuMsUAoe"
   },
   "source": [
    "# **Word Counting**"
   ]
  },
  {
   "cell_type": "code",
   "execution_count": null,
   "metadata": {
    "colab": {
     "base_uri": "https://localhost:8080/"
    },
    "executionInfo": {
     "elapsed": 4614,
     "status": "ok",
     "timestamp": 1749197811472,
     "user": {
      "displayName": "Thái Nguyễn Quốc",
      "userId": "04072932238722635186"
     },
     "user_tz": -420
    },
    "id": "SqABu-_CUDRc",
    "outputId": "2d544699-6cac-4b16-e183-03a9bc5d4d71"
   },
   "outputs": [
    {
     "name": "stdout",
     "output_type": "stream",
     "text": [
      "Downloading...\n",
      "From: https://drive.google.com/uc?id=1IBScGdW2xlNsc9v5zSAya548kNgiOrko\n",
      "To: /content/P1_data.txt\n",
      "\r  0% 0.00/747 [00:00<?, ?B/s]\r100% 747/747 [00:00<00:00, 2.96MB/s]\n"
     ]
    }
   ],
   "source": [
    "!gdown https://drive.google.com/uc?id=1IBScGdW2xlNsc9v5zSAya548kNgiOrko"
   ]
  },
  {
   "cell_type": "code",
   "execution_count": null,
   "metadata": {
    "id": "qNM9QgkPUSY_"
   },
   "outputs": [],
   "source": [
    "with open('/content/P1_data.txt', 'r') as f:\n",
    "    document = f.read()"
   ]
  },
  {
   "cell_type": "code",
   "execution_count": null,
   "metadata": {
    "colab": {
     "base_uri": "https://localhost:8080/",
     "height": 191
    },
    "executionInfo": {
     "elapsed": 21,
     "status": "ok",
     "timestamp": 1749198162650,
     "user": {
      "displayName": "Thái Nguyễn Quốc",
      "userId": "04072932238722635186"
     },
     "user_tz": -420
    },
    "id": "pYCiYSd1VcQY",
    "outputId": "4e69d0b4-b303-41b9-e8ee-193a21d25d96"
   },
   "outputs": [
    {
     "data": {
      "application/vnd.google.colaboratory.intrinsic+json": {
       "type": "string"
      },
      "text/plain": [
       "'He who conquers himself is the mightiest warrior\\nTry not to become a man of success but rather become a man of value\\nOne man with courage makes a majority\\nOne secret of success in life is for a man to be ready for his opportunity when it comes\\nThe successful man will profit from his mistakes and try again in a different way\\nA successful man is one who can lay a firm foundation with the bricks others have thrown at him\\nSuccess usually comes to those who are too busy looking for it\\nWe cannot solve problems with the kind of thinking we employed when we came up with them\\nJust one small positive thought in the morning can change your whole day\\nYou can get everything in life you want if you will just help enough other people get what they want'"
      ]
     },
     "execution_count": 11,
     "metadata": {},
     "output_type": "execute_result"
    }
   ],
   "source": [
    "document"
   ]
  },
  {
   "cell_type": "code",
   "execution_count": null,
   "metadata": {
    "colab": {
     "base_uri": "https://localhost:8080/"
    },
    "executionInfo": {
     "elapsed": 4,
     "status": "ok",
     "timestamp": 1749198181009,
     "user": {
      "displayName": "Thái Nguyễn Quốc",
      "userId": "04072932238722635186"
     },
     "user_tz": -420
    },
    "id": "HND7U81GUbHe",
    "outputId": "907bcf1f-1afc-4340-9e31-27058373592f"
   },
   "outputs": [
    {
     "name": "stdout",
     "output_type": "stream",
     "text": [
      "['i', 'love', 'ai', 'ai', 'is', 'not', 'easy']\n"
     ]
    }
   ],
   "source": [
    "def preprocess_text(sentence):\n",
    "    \"\"\"\n",
    "    Tiền xử lý một câu bằng cách:\n",
    "    - Chuyển tất cả các ký tự thành chữ thường\n",
    "    - Loại bỏ dấu chấm (.) và dấu phẩy (,)\n",
    "    - Tách câu thành danh sách các từ\n",
    "\n",
    "    Parameters:\n",
    "        sentence (str): Chuỗi câu đầu vào.\n",
    "\n",
    "    Returns:\n",
    "        list: Danh sách các từ sau khi xử lý.\n",
    "    \"\"\"\n",
    "    return sentence.lower().replace('.','').replace(',','').split()\n",
    "\n",
    "# Kiểm tra hàm\n",
    "sentence = 'I love AI. AI is not easy'\n",
    "print(preprocess_text(sentence))"
   ]
  },
  {
   "cell_type": "code",
   "execution_count": null,
   "metadata": {
    "id": "biE9-qO8VRL6"
   },
   "outputs": [],
   "source": [
    "def count_word(file_path):\n",
    "    \"\"\"\n",
    "    Đếm số lần xuất hiện của từng từ trong văn bản đầu vào sau khi tiền xử lý.\n",
    "\n",
    "    Quá trình tiền xử lý gồm:\n",
    "    - Chuyển văn bản thành chữ thường\n",
    "    - Loại bỏ dấu chấm (.) và dấu phẩy (,)\n",
    "    - Tách văn bản thành danh sách từ\n",
    "\n",
    "    Parameters:\n",
    "        file_path (str): Đường dẫn đến file.\n",
    "\n",
    "    Returns:\n",
    "        dict: Từ điển đếm số lần xuất hiện của từng từ.\n",
    "    \"\"\"\n",
    "    try:\n",
    "        # Mở file và đọc nội dung, encoding='utf-8' dùng để đảm bảo đọc đúng các ký tự đặc biệt\n",
    "        with open(file_path, 'r', encoding='utf-8') as f:\n",
    "            document = f.read()\n",
    "        # Tiền xử lý văn bản\n",
    "        words = preprocess_text(document)\n",
    "        # Sử dụng Counter để đếm số lần xuất hiện của từng từ\n",
    "        counter = Counter(words)\n",
    "    except FileNotFoundError:\n",
    "        print(f\"File {file_path} not found.\")\n",
    "        return {}\n",
    "\n",
    "    # Trả về từ điển đếm\n",
    "    return counter\n",
    "\n",
    "file_path = './P1_data.txt'\n",
    "result = count_word(file_path)\n",
    "assert result.get('who', 0) == 3\n",
    "print(result.get('man', 0))"
   ]
  },
  {
   "cell_type": "markdown",
   "metadata": {
    "id": "YUZORM8VWU2T"
   },
   "source": [
    "# Levenshten Distance"
   ]
  },
  {
   "cell_type": "code",
   "execution_count": null,
   "metadata": {
    "id": "dLPmPky1WZzI"
   },
   "outputs": [],
   "source": [
    "def levenshtein_distance(token1, token2):\n",
    "    \"\"\"\n",
    "    Tính khoảng cách Levenshtein (edit distance) giữa hai chuỗi.\n",
    "\n",
    "    Khoảng cách Levenshtein là số lần chỉnh sửa nhỏ nhất (chèn, xóa, thay thế)\n",
    "    để biến chuỗi token1 thành token2.\n",
    "\n",
    "    Parameters:\n",
    "        token1 (str): Chuỗi thứ nhất.\n",
    "        token2 (str): Chuỗi thứ hai.\n",
    "\n",
    "    Returns:\n",
    "        int: Khoảng cách Levenshtein giữa hai chuỗi.\n",
    "    \"\"\"\n",
    "    # Ma trận đã được khởi tạo với các giá trị 0\n",
    "    distances = [[0] * (len(token2) + 1) for _ in range(len(token1) + 1)]\n",
    "\n",
    "    # 1. Lấy độ dài của hai chuỗi\n",
    "    m, n = len(token1), len(token2)\n",
    "\n",
    "    # 2. Khởi tạo hàng và cột đầu tiên của ma trận\n",
    "    # Chi phí để biến chuỗi con của token1 thành chuỗi rỗng là số lần xóa\n",
    "    for i in range(m + 1):\n",
    "        distances[i][0] = i\n",
    "\n",
    "    # Chi phí để biến chuỗi rỗng thành chuỗi con của token2 là số lần chèn\n",
    "    for j in range(n + 1):\n",
    "        distances[0][j] = j\n",
    "\n",
    "    # 3. Điền vào phần còn lại của ma trận\n",
    "    for i in range(1, m + 1):\n",
    "        for j in range(1, n + 1):\n",
    "            # Tính chi phí thay thế: 1 nếu ký tự khác nhau, 0 nếu giống nhau\n",
    "            substitution_cost = 1 if token1[i - 1] != token2[j - 1] else 0\n",
    "\n",
    "            # Chọn chi phí nhỏ nhất từ 3 lựa chọn: xóa, chèn, hoặc thay thế\n",
    "            distances[i][j] = min(\n",
    "                distances[i - 1][j] + 1,                 # Chi phí xóa (từ trên xuống)\n",
    "                distances[i][j - 1] + 1,                 # Chi phí chèn (từ trái qua)\n",
    "                distances[i - 1][j - 1] + substitution_cost  # Chi phí thay thế (đường chéo)\n",
    "            )\n",
    "    # 4. Khoảng cách Levenshtein là giá trị ở ô cuối cùng của ma trận\n",
    "\n",
    "    return distances[len(token1)][len(token2)]"
   ]
  },
  {
   "cell_type": "code",
   "execution_count": null,
   "metadata": {
    "id": "n3I5GYzKWkyv"
   },
   "outputs": [],
   "source": [
    "assert levenshtein_distance(\"hi\", \"hello\") == 4\n",
    "print(levenshtein_distance(\"hola\", \"hello\"))"
   ]
  }
 ],
 "metadata": {
  "colab": {
   "provenance": [],
   "toc_visible": true
  },
  "kernelspec": {
   "display_name": "Python 3",
   "name": "python3"
  },
  "language_info": {
   "codemirror_mode": {
    "name": "ipython",
    "version": 3
   },
   "file_extension": ".py",
   "mimetype": "text/x-python",
   "name": "python",
   "nbconvert_exporter": "python",
   "pygments_lexer": "ipython3",
   "version": "3.9.6"
  }
 },
 "nbformat": 4,
 "nbformat_minor": 0
}
