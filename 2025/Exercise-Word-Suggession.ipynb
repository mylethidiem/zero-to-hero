{
  "cells": [
    {
      "cell_type": "markdown",
      "metadata": {
        "id": "view-in-github",
        "colab_type": "text"
      },
      "source": [
        "<a href=\"https://colab.research.google.com/github/mylethidiem/zero-to-hero/blob/main/2025/Exercise-Word-Suggession.ipynb\" target=\"_parent\"><img src=\"https://colab.research.google.com/assets/colab-badge.svg\" alt=\"Open In Colab\"/></a>"
      ]
    },
    {
      "cell_type": "markdown",
      "metadata": {
        "id": "T10kZiciTYHY"
      },
      "source": [
        "# **Getting Max Over Kernal**"
      ]
    },
    {
      "cell_type": "code",
      "execution_count": 1,
      "metadata": {
        "id": "feZj_67_Tis-",
        "colab": {
          "base_uri": "https://localhost:8080/"
        },
        "outputId": "869aed79-5e52-4ee1-b5e7-1a0f17b2a463"
      },
      "outputs": [
        {
          "output_type": "stream",
          "name": "stdout",
          "text": [
            "[5, 5, 5, 5, 10, 12, 33, 33]\n"
          ]
        }
      ],
      "source": [
        "def max_kernel(num_list, k):\n",
        "    \"\"\"\n",
        "    Trả về danh sách các giá trị lớn nhất trong mỗi cửa sổ con (window) kích thước k\n",
        "    chạy trượt trên danh sách num_list.\n",
        "\n",
        "    Parameters:\n",
        "        num_list (list of numbers): Danh sách các số đầu vào.\n",
        "        k (int): Kích thước của cửa sổ trượt.\n",
        "\n",
        "    Returns:\n",
        "        list: Danh sách các giá trị lớn nhất trong từng cửa sổ con liên tiếp.\n",
        "    \"\"\"\n",
        "    result = []\n",
        "    if k <= 0 or not num_list:\n",
        "        return result\n",
        "\n",
        "    for i in range(len(num_list) - k + 1):\n",
        "        # Lấy cửa sổ con từ i đến i+k\n",
        "        window = num_list[i:i + k]\n",
        "        # Tìm giá trị lớn nhất trong cửa sổ con\n",
        "        max_value = max(window)\n",
        "        # Thêm giá trị lớn nhất vào kết quả\n",
        "        result.append(max_value)\n",
        "    return result\n",
        "\n",
        "\n",
        "# Kiểm tra hàm\n",
        "assert max_kernel([3, 4, 5, 1, -44], 3) == [5, 5, 5]\n",
        "num_list = [3, 4, 5, 1, -44, 5, 10, 12, 33, 1]\n",
        "k = 3\n",
        "print(max_kernel(num_list, k))"
      ]
    },
    {
      "cell_type": "markdown",
      "metadata": {
        "id": "kTCS7DO2T0B9"
      },
      "source": [
        "# **Character Counting**"
      ]
    },
    {
      "cell_type": "code",
      "execution_count": 3,
      "metadata": {
        "id": "WZRKId5QT2-d",
        "colab": {
          "base_uri": "https://localhost:8080/"
        },
        "outputId": "a5f084c4-1bde-4fa2-d0d5-6c0c9264a420"
      },
      "outputs": [
        {
          "output_type": "stream",
          "name": "stdout",
          "text": [
            "{'s': 2, 'm': 1, 'i': 1, 'l': 1, 'e': 1}\n"
          ]
        }
      ],
      "source": [
        "def count_character(word):\n",
        "\n",
        "    \"\"\"\n",
        "    Đếm số lần xuất hiện của từng ký tự trong chuỗi đầu vào.\n",
        "\n",
        "    Parameters:\n",
        "        word (str): Chuỗi ký tự cần thống kê.\n",
        "\n",
        "    Returns:\n",
        "        dict: Từ điển với mỗi ký tự là một khóa, giá trị là số lần xuất hiện.\n",
        "    \"\"\"\n",
        "    character_statistic = {}\n",
        "\n",
        "    for character in word:\n",
        "        if character in character_statistic:\n",
        "            character_statistic[character] += 1\n",
        "        else:\n",
        "            character_statistic[character] = 1\n",
        "\n",
        "    return character_statistic\n",
        "\n",
        "# Kiểm tra hàm\n",
        "\n",
        "assert count_character(\"Baby\") == {'B': 1, 'b': 1, 'a': 1, 'y': 1}\n",
        "print(count_character('smiles'))"
      ]
    },
    {
      "cell_type": "code",
      "execution_count": 2,
      "metadata": {
        "colab": {
          "base_uri": "https://localhost:8080/"
        },
        "id": "cguHji6KmlXG",
        "outputId": "97b00791-e38b-4941-9984-781593bbe487"
      },
      "outputs": [
        {
          "output_type": "stream",
          "name": "stdout",
          "text": [
            "{'s': 2, 'm': 1, 'i': 1, 'l': 1, 'e': 1}\n"
          ]
        }
      ],
      "source": [
        "\n",
        "def count_character(word):\n",
        "\n",
        "    \"\"\"\n",
        "    Đếm số lần xuất hiện của từng ký tự trong chuỗi đầu vào.\n",
        "\n",
        "    Parameters:\n",
        "        word (str): Chuỗi ký tự cần thống kê.\n",
        "\n",
        "    Returns:\n",
        "        dict: Từ điển với mỗi ký tự là một khóa, giá trị là số lần xuất hiện.\n",
        "    \"\"\"\n",
        "    character_statistic = {}\n",
        "\n",
        "    for character in word:\n",
        "        character_statistic[character] = character_statistic.get(character, 0) + 1\n",
        "\n",
        "    return character_statistic\n",
        "\n",
        "# Kiểm tra hàm\n",
        "\n",
        "assert count_character(\"Baby\") == {'B': 1, 'b': 1, 'a': 1, 'y': 1}\n",
        "print(count_character('smiles'))"
      ]
    },
    {
      "cell_type": "code",
      "execution_count": 4,
      "metadata": {
        "colab": {
          "base_uri": "https://localhost:8080/"
        },
        "id": "Wop2Py0rmlXG",
        "outputId": "2bc83230-bc09-4961-bcdb-802ae101e954"
      },
      "outputs": [
        {
          "output_type": "stream",
          "name": "stdout",
          "text": [
            "Counter({'s': 2, 'm': 1, 'i': 1, 'l': 1, 'e': 1})\n"
          ]
        }
      ],
      "source": [
        "#!/usr/bin/env python3\n",
        "# Cách sử dụng Counter từ collections để đếm ký tự. Cách này ngắn gọn và hiệu quả nhất\n",
        "from collections import Counter\n",
        "def count_character(word):\n",
        "\n",
        "    \"\"\"\n",
        "    Đếm số lần xuất hiện của từng ký tự trong chuỗi đầu vào.\n",
        "\n",
        "    Parameters:\n",
        "        word (str): Chuỗi ký tự cần thống kê.\n",
        "\n",
        "    Returns:\n",
        "        dict: Từ điển với mỗi ký tự là một khóa, giá trị là số lần xuất hiện.\n",
        "    \"\"\"\n",
        "    character_statistic = Counter(word)\n",
        "\n",
        "    return character_statistic\n",
        "\n",
        "# Kiểm tra hàm\n",
        "assert count_character(\"Baby\") == {'B': 1, 'b': 1, 'a': 1, 'y': 1}\n",
        "print(count_character('smiles'))"
      ]
    },
    {
      "cell_type": "markdown",
      "metadata": {
        "id": "JjCaGuMsUAoe"
      },
      "source": [
        "# **Word Counting**"
      ]
    },
    {
      "cell_type": "code",
      "execution_count": 5,
      "metadata": {
        "colab": {
          "base_uri": "https://localhost:8080/"
        },
        "id": "SqABu-_CUDRc",
        "outputId": "6fb0937e-7e07-4d07-bede-d96c28c8c4a5"
      },
      "outputs": [
        {
          "output_type": "stream",
          "name": "stdout",
          "text": [
            "Downloading...\n",
            "From: https://drive.google.com/uc?id=1IBScGdW2xlNsc9v5zSAya548kNgiOrko\n",
            "To: /content/P1_data.txt\n",
            "\r  0% 0.00/747 [00:00<?, ?B/s]\r100% 747/747 [00:00<00:00, 2.28MB/s]\n"
          ]
        }
      ],
      "source": [
        "!gdown https://drive.google.com/uc?id=1IBScGdW2xlNsc9v5zSAya548kNgiOrko"
      ]
    },
    {
      "cell_type": "code",
      "execution_count": 6,
      "metadata": {
        "id": "qNM9QgkPUSY_"
      },
      "outputs": [],
      "source": [
        "with open('/content/P1_data.txt', 'r') as f:\n",
        "    document = f.read()"
      ]
    },
    {
      "cell_type": "code",
      "execution_count": 7,
      "metadata": {
        "colab": {
          "base_uri": "https://localhost:8080/",
          "height": 87
        },
        "id": "pYCiYSd1VcQY",
        "outputId": "8bc41a6e-086b-4f93-d80f-f942296073f7"
      },
      "outputs": [
        {
          "output_type": "execute_result",
          "data": {
            "text/plain": [
              "'He who conquers himself is the mightiest warrior\\nTry not to become a man of success but rather become a man of value\\nOne man with courage makes a majority\\nOne secret of success in life is for a man to be ready for his opportunity when it comes\\nThe successful man will profit from his mistakes and try again in a different way\\nA successful man is one who can lay a firm foundation with the bricks others have thrown at him\\nSuccess usually comes to those who are too busy looking for it\\nWe cannot solve problems with the kind of thinking we employed when we came up with them\\nJust one small positive thought in the morning can change your whole day\\nYou can get everything in life you want if you will just help enough other people get what they want'"
            ],
            "application/vnd.google.colaboratory.intrinsic+json": {
              "type": "string"
            }
          },
          "metadata": {},
          "execution_count": 7
        }
      ],
      "source": [
        "document"
      ]
    },
    {
      "cell_type": "code",
      "execution_count": 8,
      "metadata": {
        "colab": {
          "base_uri": "https://localhost:8080/"
        },
        "id": "HND7U81GUbHe",
        "outputId": "e402c19c-18ed-45a9-8ae2-7846fa490d2e"
      },
      "outputs": [
        {
          "output_type": "stream",
          "name": "stdout",
          "text": [
            "['i', 'love', 'ai', 'ai', 'is', 'not', 'easy']\n"
          ]
        }
      ],
      "source": [
        "def preprocess_text(sentence):\n",
        "    \"\"\"\n",
        "    Tiền xử lý một câu bằng cách:\n",
        "    - Chuyển tất cả các ký tự thành chữ thường\n",
        "    - Loại bỏ dấu chấm (.) và dấu phẩy (,)\n",
        "    - Tách câu thành danh sách các từ\n",
        "\n",
        "    Parameters:\n",
        "        sentence (str): Chuỗi câu đầu vào.\n",
        "\n",
        "    Returns:\n",
        "        list: Danh sách các từ sau khi xử lý.\n",
        "    \"\"\"\n",
        "    return sentence.lower().replace('.','').replace(',','').split()\n",
        "\n",
        "# Kiểm tra hàm\n",
        "sentence = 'I love AI. AI is not easy'\n",
        "print(preprocess_text(sentence))"
      ]
    },
    {
      "cell_type": "code",
      "execution_count": 9,
      "metadata": {
        "id": "biE9-qO8VRL6",
        "colab": {
          "base_uri": "https://localhost:8080/"
        },
        "outputId": "f5dbe308-9ca0-42d9-d4d9-4117b1e2746c"
      },
      "outputs": [
        {
          "output_type": "stream",
          "name": "stdout",
          "text": [
            "6\n"
          ]
        }
      ],
      "source": [
        "def count_word(file_path):\n",
        "    \"\"\"\n",
        "    Đếm số lần xuất hiện của từng từ trong văn bản đầu vào sau khi tiền xử lý.\n",
        "\n",
        "    Quá trình tiền xử lý gồm:\n",
        "    - Chuyển văn bản thành chữ thường\n",
        "    - Loại bỏ dấu chấm (.) và dấu phẩy (,)\n",
        "    - Tách văn bản thành danh sách từ\n",
        "\n",
        "    Parameters:\n",
        "        file_path (str): Đường dẫn đến file.\n",
        "\n",
        "    Returns:\n",
        "        dict: Từ điển đếm số lần xuất hiện của từng từ.\n",
        "    \"\"\"\n",
        "    try:\n",
        "        # Mở file và đọc nội dung, encoding='utf-8' dùng để đảm bảo đọc đúng các ký tự đặc biệt\n",
        "        with open(file_path, 'r', encoding='utf-8') as f:\n",
        "            document = f.read()\n",
        "        # Tiền xử lý văn bản\n",
        "        words = preprocess_text(document)\n",
        "        # Sử dụng Counter để đếm số lần xuất hiện của từng từ\n",
        "        counter = Counter(words)\n",
        "    except FileNotFoundError:\n",
        "        print(f\"File {file_path} not found.\")\n",
        "        return {}\n",
        "\n",
        "    # Trả về từ điển đếm\n",
        "    return counter\n",
        "\n",
        "file_path = './P1_data.txt'\n",
        "result = count_word(file_path)\n",
        "assert result.get('who', 0) == 3\n",
        "print(result.get('man', 0))"
      ]
    },
    {
      "cell_type": "markdown",
      "metadata": {
        "id": "YUZORM8VWU2T"
      },
      "source": [
        "# Levenshten Distance"
      ]
    },
    {
      "cell_type": "code",
      "execution_count": 10,
      "metadata": {
        "id": "dLPmPky1WZzI"
      },
      "outputs": [],
      "source": [
        "def levenshtein_distance(token1, token2):\n",
        "    \"\"\"\n",
        "    Tính khoảng cách Levenshtein (edit distance) giữa hai chuỗi.\n",
        "\n",
        "    Khoảng cách Levenshtein là số lần chỉnh sửa nhỏ nhất (chèn, xóa, thay thế)\n",
        "    để biến chuỗi token1 thành token2.\n",
        "\n",
        "    Parameters:\n",
        "        token1 (str): Chuỗi thứ nhất.\n",
        "        token2 (str): Chuỗi thứ hai.\n",
        "\n",
        "    Returns:\n",
        "        int: Khoảng cách Levenshtein giữa hai chuỗi.\n",
        "    \"\"\"\n",
        "    # Ma trận đã được khởi tạo với các giá trị 0\n",
        "    distances = [[0] * (len(token2) + 1) for _ in range(len(token1) + 1)]\n",
        "\n",
        "    # 1. Lấy độ dài của hai chuỗi\n",
        "    m, n = len(token1), len(token2)\n",
        "\n",
        "    # 2. Khởi tạo hàng và cột đầu tiên của ma trận\n",
        "    # Chi phí để biến chuỗi con của token1 thành chuỗi rỗng là số lần xóa\n",
        "    for i in range(m + 1):\n",
        "        distances[i][0] = i\n",
        "\n",
        "    # Chi phí để biến chuỗi rỗng thành chuỗi con của token2 là số lần chèn\n",
        "    for j in range(n + 1):\n",
        "        distances[0][j] = j\n",
        "\n",
        "    # 3. Điền vào phần còn lại của ma trận\n",
        "    for i in range(1, m + 1):\n",
        "        for j in range(1, n + 1):\n",
        "            # Tính chi phí thay thế: 1 nếu ký tự khác nhau, 0 nếu giống nhau\n",
        "            substitution_cost = 1 if token1[i - 1] != token2[j - 1] else 0\n",
        "\n",
        "            # Chọn chi phí nhỏ nhất từ 3 lựa chọn: xóa, chèn, hoặc thay thế\n",
        "            distances[i][j] = min(\n",
        "                distances[i - 1][j] + 1,                 # Chi phí xóa (từ trên xuống)\n",
        "                distances[i][j - 1] + 1,                 # Chi phí chèn (từ trái qua)\n",
        "                distances[i - 1][j - 1] + substitution_cost  # Chi phí thay thế (đường chéo)\n",
        "            )\n",
        "    # 4. Khoảng cách Levenshtein là giá trị ở ô cuối cùng của ma trận\n",
        "\n",
        "    return distances[len(token1)][len(token2)]"
      ]
    },
    {
      "cell_type": "code",
      "execution_count": 11,
      "metadata": {
        "id": "n3I5GYzKWkyv",
        "colab": {
          "base_uri": "https://localhost:8080/"
        },
        "outputId": "7a8dec85-4aa7-41f3-d800-df31a2596492"
      },
      "outputs": [
        {
          "output_type": "stream",
          "name": "stdout",
          "text": [
            "3\n"
          ]
        }
      ],
      "source": [
        "assert levenshtein_distance(\"hi\", \"hello\") == 4\n",
        "print(levenshtein_distance(\"hola\", \"hello\"))"
      ]
    },
    {
      "cell_type": "code",
      "source": [
        "def check_the_number(N):\n",
        "  list_of_numbers = []\n",
        "  results = \"\"\n",
        "  for i in range(1, 5):\n",
        "    # Su dung append them i vao trong list_of_number\n",
        "    list_of_numbers.append(i)\n",
        "  if N in list_of_numbers:\n",
        "    results = \"True\"\n",
        "  if N not in list_of_numbers:\n",
        "   results = \"False\"\n",
        "  return results\n",
        "\n",
        "N = 7\n",
        "assert check_the_number(N) == \"False\"\n",
        "N = 2\n",
        "results = check_the_number(N)\n",
        "print(results)"
      ],
      "metadata": {
        "colab": {
          "base_uri": "https://localhost:8080/"
        },
        "id": "uVPGYA9SnWy_",
        "outputId": "c5418763-bb48-46ee-ce0b-4bd96322d83a"
      },
      "execution_count": 12,
      "outputs": [
        {
          "output_type": "stream",
          "name": "stdout",
          "text": [
            "True\n"
          ]
        }
      ]
    },
    {
      "cell_type": "code",
      "source": [
        "def my_function(data, max_value, min_value):\n",
        "  result = []\n",
        "  for i in data:\n",
        "    # Your code here\n",
        "    # Neu i < min_value thi them min vao result\n",
        "    if i < min_value:\n",
        "      result.append(min_value)\n",
        "    elif i > max_value:\n",
        "      result.append(max_value)\n",
        "    else:\n",
        "      result.append(i)\n",
        "  return result\n",
        "\n",
        " # test\n",
        "my_list = [5, 2, 5, 0, 1]\n",
        "max_value = 1\n",
        "min_value = 0\n",
        "assert my_function(my_list, max_value, min_value) == [1, 1, 1, 0, 1]\n",
        "my_list = [10, 2, 5, 0, 1]\n",
        "max = 2\n",
        "min = 1\n",
        "print(my_list)\n",
        "print(my_function(my_list, max, min))"
      ],
      "metadata": {
        "colab": {
          "base_uri": "https://localhost:8080/"
        },
        "id": "-2Lf134RoRw1",
        "outputId": "e89bd27e-355d-452c-c0ad-1e48a1d398b1"
      },
      "execution_count": 16,
      "outputs": [
        {
          "output_type": "stream",
          "name": "stdout",
          "text": [
            "[10, 2, 5, 0, 1]\n",
            "[2, 2, 2, 1, 1]\n"
          ]
        }
      ]
    },
    {
      "cell_type": "code",
      "source": [
        "def my_function(n):\n",
        " # Your code here\n",
        " # Tìm giá trị nhỏ nhất của một list\n",
        " min_value = n[0]\n",
        " for i in n:\n",
        "  if i < min_value:\n",
        "    min_value = i\n",
        " return min_value\n",
        "\n",
        "my_list = [1, 22, 93, -100]\n",
        "assert my_function(my_list) == -100\n",
        "\n",
        "my_list = [1, 2, 3, -1]\n",
        "print(my_function(my_list))"
      ],
      "metadata": {
        "colab": {
          "base_uri": "https://localhost:8080/"
        },
        "id": "UWA17f5rpi_V",
        "outputId": "c8e1af58-8dd3-4ac3-8da7-bf9a933c20a6"
      },
      "execution_count": 17,
      "outputs": [
        {
          "output_type": "stream",
          "name": "stdout",
          "text": [
            "-1\n"
          ]
        }
      ]
    },
    {
      "cell_type": "code",
      "source": [
        "#Q8\n",
        "def my_function(n):\n",
        " #Your code here\n",
        " # Tìm giá trị lớn nhất của một list\n",
        " max_value = n[0]\n",
        " for i in n:\n",
        "  if i > max_value:\n",
        "    max_value = i\n",
        " return max_value\n",
        "\n",
        "my_list = [1001, 9, 100, 0]\n",
        "assert my_function(my_list) == 1001\n",
        "my_list = [1, 9, 9, 0]\n",
        "print(my_function(my_list))"
      ],
      "metadata": {
        "colab": {
          "base_uri": "https://localhost:8080/"
        },
        "id": "hXSKYgkTqIMN",
        "outputId": "cee05019-e307-4a65-808d-63bcb0169cd6"
      },
      "execution_count": 25,
      "outputs": [
        {
          "output_type": "stream",
          "name": "stdout",
          "text": [
            "9\n"
          ]
        }
      ]
    },
    {
      "cell_type": "code",
      "source": [
        "#Q9\n",
        "def my_function(integers, number = 1):\n",
        "  #Your code : Thuc hien duyet tung phan tu trong integers,\n",
        "  #so sanh tung phan tu voi number, neu bang nhau tra ve True,\n",
        "  #khac nhau tra ve False\n",
        "  #vi du: integers = [1, 2, 3], number = 2,\n",
        "  #ban se tao ra list [False, True, False]\n",
        "  return any(i == number for i in integers) # OR return number in integers\n",
        "\n",
        "my_list = [1, 3, 9, 4]\n",
        "assert my_function(my_list, -1) == False\n",
        "\n",
        "my_list = [1, 2, 3, 4]\n",
        "print(my_function(my_list, 2))"
      ],
      "metadata": {
        "colab": {
          "base_uri": "https://localhost:8080/"
        },
        "id": "z2WHByJDqOKt",
        "outputId": "015967f5-04f2-49db-e902-8e76903651b6"
      },
      "execution_count": 27,
      "outputs": [
        {
          "output_type": "stream",
          "name": "stdout",
          "text": [
            "True\n"
          ]
        }
      ]
    },
    {
      "cell_type": "code",
      "source": [
        "#Q10\n",
        "def my_function(list_nums = [0, 1, 2]):\n",
        " var = 0\n",
        " for i in list_nums:\n",
        "  var += i\n",
        " return var/len(list_nums)#Your code here: Tra ve gia tri trung binh cua list\n",
        " #bang cach chia var cho so luong phan tu trong list_nums\n",
        "\n",
        "assert my_function([4, 6, 8]) == 6\n",
        "print(my_function())"
      ],
      "metadata": {
        "colab": {
          "base_uri": "https://localhost:8080/"
        },
        "id": "BtanQHRSth3q",
        "outputId": "fac3a743-f949-4647-b79a-919b2640e2aa"
      },
      "execution_count": 29,
      "outputs": [
        {
          "output_type": "stream",
          "name": "stdout",
          "text": [
            "1.0\n"
          ]
        }
      ]
    },
    {
      "cell_type": "code",
      "source": [
        "#Q11\n",
        "def my_function(data):\n",
        " var = []\n",
        " for i in data:\n",
        "#Your code here\n",
        " #Neu i chia het cho 3 thi them i vao list var\n",
        "  if i%3 == 0:\n",
        "    var.append(i)\n",
        " return var\n",
        "\n",
        "assert my_function([3, 9, 4, 5]) == [3, 9]\n",
        "print(my_function([1, 2, 3, 5, 6]))"
      ],
      "metadata": {
        "colab": {
          "base_uri": "https://localhost:8080/"
        },
        "id": "Rwb9xFjmtj1m",
        "outputId": "40543310-5a79-4522-c923-9844866c11a8"
      },
      "execution_count": 31,
      "outputs": [
        {
          "output_type": "stream",
          "name": "stdout",
          "text": [
            "[3, 6]\n"
          ]
        }
      ]
    },
    {
      "cell_type": "code",
      "source": [
        "#Q12\n",
        "def my_function(y):\n",
        "2 var = 1\n",
        "3 while(y > 1):\n",
        "4 #Your code here\n",
        "5 return var\n",
        "6\n",
        "7 assert my_function(8) == 40320\n",
        "8 print(my_function(4))\n"
      ],
      "metadata": {
        "id": "PsmxTzZ4tkWm"
      },
      "execution_count": null,
      "outputs": []
    },
    {
      "cell_type": "code",
      "source": [
        "#Q13\n",
        "def my_function(x):\n",
        "  #your code here\n",
        "  r = \"\"\n",
        "  for i in x:\n",
        "   r += i\n",
        "  return r\n",
        "\n",
        "x = \"I can do it\"\n",
        "assert my_function(x) == \"ti od nac I\"\n",
        "x = \"apricot\"\n",
        "print(my_function(x))"
      ],
      "metadata": {
        "colab": {
          "base_uri": "https://localhost:8080/"
        },
        "id": "DtbslUvLtkIe",
        "outputId": "ee8550d6-c45f-40ee-d759-93a9e2f78419"
      },
      "execution_count": 34,
      "outputs": [
        {
          "output_type": "stream",
          "name": "stdout",
          "text": [
            "tocirpa\n"
          ]
        }
      ]
    },
    {
      "cell_type": "code",
      "source": [
        "#Q14\n",
        "def function_helper(x):\n",
        "    #Your code here\n",
        "    #Neu x > 0 tra ve \"T\", nguoc lai tra ve \"N\"\n",
        "    if x >0:\n",
        "        return \"T\"\n",
        "    return \"N\"\n",
        "\n",
        "def my_function(data):\n",
        "    res = [function_helper(x) for x in data]\n",
        "    return res\n",
        "\n",
        "data = [10, 0, -10, -1]\n",
        "assert my_function(data) == [\"T\", \"N\", \"N\", \"N\"]\n",
        "\n",
        "data = [2, 3, 5, -1]\n",
        "print(my_function(data))"
      ],
      "metadata": {
        "colab": {
          "base_uri": "https://localhost:8080/"
        },
        "id": "BUmKXWJUtoA2",
        "outputId": "6f0adfeb-635a-4577-8af0-0dcbaa14f610"
      },
      "execution_count": 36,
      "outputs": [
        {
          "output_type": "stream",
          "name": "stdout",
          "text": [
            "['T', 'T', 'T', 'N']\n"
          ]
        }
      ]
    },
    {
      "cell_type": "code",
      "source": [
        "#Q15\n",
        "def function_helper(x, data):\n",
        "  for i in data:\n",
        "    #Your code here\n",
        "    #Neu x == i thi return 0\n",
        "    if x == i:\n",
        "      return 0\n",
        "  return 16\n",
        "\n",
        "def my_function(data):\n",
        "  res = []\n",
        "  for i in data:\n",
        "    if function_helper(i, res):\n",
        "      res.append(i)\n",
        "  return res\n",
        "\n",
        "lst = [10, 10, 9, 7, 7]\n",
        "assert my_function(lst) == [10, 9, 7]\n",
        "lst = [9, 9, 8, 1, 1]\n",
        "print(my_function(lst))"
      ],
      "metadata": {
        "colab": {
          "base_uri": "https://localhost:8080/"
        },
        "id": "G1bul_mqshbJ",
        "outputId": "428273d2-5850-4993-ffac-d74eb48b5fd8"
      },
      "execution_count": 43,
      "outputs": [
        {
          "output_type": "stream",
          "name": "stdout",
          "text": [
            "[9, 8, 1]\n"
          ]
        }
      ]
    }
  ],
  "metadata": {
    "colab": {
      "provenance": [],
      "toc_visible": true,
      "include_colab_link": true
    },
    "kernelspec": {
      "display_name": "Python 3",
      "name": "python3"
    },
    "language_info": {
      "codemirror_mode": {
        "name": "ipython",
        "version": 3
      },
      "file_extension": ".py",
      "mimetype": "text/x-python",
      "name": "python",
      "nbconvert_exporter": "python",
      "pygments_lexer": "ipython3",
      "version": "3.9.6"
    }
  },
  "nbformat": 4,
  "nbformat_minor": 0
}