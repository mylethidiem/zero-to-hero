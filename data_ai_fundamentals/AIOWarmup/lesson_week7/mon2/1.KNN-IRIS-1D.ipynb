{
 "cells": [
  {
   "cell_type": "markdown",
   "id": "eec44dcb",
   "metadata": {},
   "source": [
    "### Step-by-step implementation"
   ]
  },
  {
   "cell_type": "code",
   "execution_count": null,
   "id": "b6a35825",
   "metadata": {},
   "outputs": [
    {
     "data": {
      "text/html": [
       "<div>\n",
       "<style scoped>\n",
       "    .dataframe tbody tr th:only-of-type {\n",
       "        vertical-align: middle;\n",
       "    }\n",
       "\n",
       "    .dataframe tbody tr th {\n",
       "        vertical-align: top;\n",
       "    }\n",
       "\n",
       "    .dataframe thead th {\n",
       "        text-align: right;\n",
       "    }\n",
       "</style>\n",
       "<table border=\"1\" class=\"dataframe\">\n",
       "  <thead>\n",
       "    <tr style=\"text-align: right;\">\n",
       "      <th></th>\n",
       "      <th>Petal_Length</th>\n",
       "      <th>Label</th>\n",
       "    </tr>\n",
       "  </thead>\n",
       "  <tbody>\n",
       "    <tr>\n",
       "      <th>0</th>\n",
       "      <td>1.4</td>\n",
       "      <td>0.0</td>\n",
       "    </tr>\n",
       "    <tr>\n",
       "      <th>1</th>\n",
       "      <td>1.0</td>\n",
       "      <td>0.0</td>\n",
       "    </tr>\n",
       "    <tr>\n",
       "      <th>2</th>\n",
       "      <td>1.5</td>\n",
       "      <td>0.0</td>\n",
       "    </tr>\n",
       "    <tr>\n",
       "      <th>3</th>\n",
       "      <td>3.1</td>\n",
       "      <td>1.0</td>\n",
       "    </tr>\n",
       "    <tr>\n",
       "      <th>4</th>\n",
       "      <td>3.8</td>\n",
       "      <td>1.0</td>\n",
       "    </tr>\n",
       "    <tr>\n",
       "      <th>5</th>\n",
       "      <td>4.1</td>\n",
       "      <td>1.0</td>\n",
       "    </tr>\n",
       "  </tbody>\n",
       "</table>\n",
       "</div>"
      ],
      "text/plain": [
       "   Petal_Length  Label\n",
       "0           1.4    0.0\n",
       "1           1.0    0.0\n",
       "2           1.5    0.0\n",
       "3           3.1    1.0\n",
       "4           3.8    1.0\n",
       "5           4.1    1.0"
      ]
     },
     "execution_count": 2,
     "metadata": {},
     "output_type": "execute_result"
    }
   ],
   "source": [
    "\n",
    "data"
   ]
  },
  {
   "cell_type": "code",
   "execution_count": null,
   "id": "d2fd775f",
   "metadata": {},
   "outputs": [
    {
     "name": "stdout",
     "output_type": "stream",
     "text": [
      "[1.4 1.  1.5 3.1 3.8 4.1]\n",
      "[0. 0. 0. 1. 1. 1.]\n"
     ]
    }
   ],
   "source": [
    "# 1. data\n",
    "\n",
    "\n",
    "print(X)\n",
    "\n",
    "\n",
    "print(y)"
   ]
  },
  {
   "cell_type": "code",
   "execution_count": 4,
   "id": "f8bb1085",
   "metadata": {},
   "outputs": [
    {
     "name": "stdout",
     "output_type": "stream",
     "text": [
      "2.4\n"
     ]
    }
   ],
   "source": [
    "x_test = 2.4\n",
    "print(x_test)"
   ]
  },
  {
   "cell_type": "code",
   "execution_count": null,
   "id": "502d54c0",
   "metadata": {},
   "outputs": [
    {
     "name": "stdout",
     "output_type": "stream",
     "text": [
      "[1.  1.4 0.9 0.7 1.4 1.7]\n"
     ]
    }
   ],
   "source": [
    "# 2. distances\n",
    "\n",
    "\n",
    "print(distances)"
   ]
  },
  {
   "cell_type": "code",
   "execution_count": null,
   "id": "56b89e22",
   "metadata": {},
   "outputs": [
    {
     "name": "stdout",
     "output_type": "stream",
     "text": [
      "[3 2 0 1 4 5]\n"
     ]
    }
   ],
   "source": [
    "\n",
    "print(distances_sorted)"
   ]
  },
  {
   "cell_type": "code",
   "execution_count": 11,
   "id": "eb837cf1",
   "metadata": {},
   "outputs": [
    {
     "name": "stdout",
     "output_type": "stream",
     "text": [
      "[3 2 0]\n"
     ]
    }
   ],
   "source": [
    "k = 3\n",
    "print(distances_sorted[:k])\n"
   ]
  },
  {
   "cell_type": "code",
   "execution_count": null,
   "id": "ee2327c8",
   "metadata": {},
   "outputs": [
    {
     "name": "stdout",
     "output_type": "stream",
     "text": [
      "[1. 0. 0.]\n"
     ]
    }
   ],
   "source": [
    "\n",
    "print(values)"
   ]
  },
  {
   "cell_type": "code",
   "execution_count": null,
   "id": "2b028e31",
   "metadata": {},
   "outputs": [
    {
     "name": "stdout",
     "output_type": "stream",
     "text": [
      "2\n",
      "1\n"
     ]
    }
   ],
   "source": [
    "\n",
    "\n",
    "print(num_zeros)\n",
    "print(num_ones)"
   ]
  },
  {
   "cell_type": "code",
   "execution_count": null,
   "id": "4d62b83a",
   "metadata": {},
   "outputs": [],
   "source": []
  },
  {
   "cell_type": "code",
   "execution_count": null,
   "id": "601a88e5",
   "metadata": {},
   "outputs": [],
   "source": []
  },
  {
   "cell_type": "code",
   "execution_count": null,
   "id": "2654d818",
   "metadata": {},
   "outputs": [],
   "source": []
  },
  {
   "cell_type": "code",
   "execution_count": null,
   "id": "9ea586e8",
   "metadata": {},
   "outputs": [],
   "source": []
  },
  {
   "cell_type": "code",
   "execution_count": null,
   "id": "02081330",
   "metadata": {},
   "outputs": [],
   "source": []
  },
  {
   "cell_type": "code",
   "execution_count": null,
   "id": "f76c9a9b",
   "metadata": {},
   "outputs": [],
   "source": []
  },
  {
   "cell_type": "code",
   "execution_count": null,
   "id": "2b8a0ae3",
   "metadata": {},
   "outputs": [],
   "source": []
  },
  {
   "cell_type": "code",
   "execution_count": null,
   "id": "507888ae",
   "metadata": {},
   "outputs": [],
   "source": [
    "# get x\n",
    "x_data = data['Petal_Length'].to_numpy()\n",
    "print(x_data)"
   ]
  },
  {
   "cell_type": "code",
   "execution_count": null,
   "id": "e14dfbff",
   "metadata": {},
   "outputs": [],
   "source": [
    "# get y\n",
    "y_data = data['Label'].to_numpy()\n",
    "print(y_data)"
   ]
  },
  {
   "cell_type": "code",
   "execution_count": null,
   "id": "8fb29239",
   "metadata": {},
   "outputs": [],
   "source": [
    "# test input (unknown y)\n",
    "x_test = [2.4]"
   ]
  },
  {
   "cell_type": "code",
   "execution_count": null,
   "id": "fe2512e3",
   "metadata": {},
   "outputs": [],
   "source": []
  },
  {
   "cell_type": "code",
   "execution_count": null,
   "id": "559aa7a4",
   "metadata": {},
   "outputs": [],
   "source": [
    "# 1. compute distances\n",
    "distances = np.sqrt( (x_data - x_test)**2 )\n",
    "print(distances)"
   ]
  },
  {
   "cell_type": "code",
   "execution_count": null,
   "id": "36df1cae",
   "metadata": {},
   "outputs": [],
   "source": [
    "# 2. get the top k\n",
    "top_k = np.argsort(distances)\n",
    "print(top_k)\n",
    "\n",
    "k = 3\n",
    "top_k = top_k[:k]\n",
    "print(top_k)"
   ]
  },
  {
   "cell_type": "code",
   "execution_count": null,
   "id": "383da333",
   "metadata": {},
   "outputs": [],
   "source": [
    "# get corresponding labels\n",
    "values_top_k = y_data[top_k]\n",
    "print(values_top_k)"
   ]
  },
  {
   "cell_type": "code",
   "execution_count": null,
   "id": "f0923832",
   "metadata": {},
   "outputs": [],
   "source": [
    "# get mojority\n",
    "num_zeros = (values_top_k==0).sum()\n",
    "print(num_zeros)\n",
    "\n",
    "num_ones = (values_top_k==1).sum()\n",
    "print(num_ones)"
   ]
  },
  {
   "cell_type": "code",
   "execution_count": null,
   "id": "36ad0d66",
   "metadata": {},
   "outputs": [],
   "source": []
  },
  {
   "cell_type": "code",
   "execution_count": null,
   "id": "836ba8c4",
   "metadata": {},
   "outputs": [],
   "source": [
    "# get mojority (2)\n",
    "\n",
    "np.argsort(np.bincount(values_top_k.astype(int)))"
   ]
  },
  {
   "cell_type": "code",
   "execution_count": null,
   "id": "61a3b29b",
   "metadata": {},
   "outputs": [],
   "source": []
  },
  {
   "cell_type": "code",
   "execution_count": null,
   "id": "c1ea9e17",
   "metadata": {},
   "outputs": [],
   "source": []
  },
  {
   "cell_type": "code",
   "execution_count": null,
   "id": "0ebbe22f",
   "metadata": {},
   "outputs": [],
   "source": []
  },
  {
   "cell_type": "markdown",
   "id": "3d425702",
   "metadata": {},
   "source": [
    "### Way 1"
   ]
  },
  {
   "cell_type": "code",
   "execution_count": null,
   "id": "f2cb1048",
   "metadata": {},
   "outputs": [],
   "source": [
    "import numpy as np\n",
    "import pandas as pd\n",
    "\n",
    "data = pd.read_csv('iris_1D.csv')\n",
    "x_data = data['Petal_Length'].to_numpy()\n",
    "x_data = x_data.reshape(6, 1)\n",
    "\n",
    "y_data = data['Label'].to_numpy()\n",
    "\n",
    "# test input (unknown y)\n",
    "x_test = [[2.4]]"
   ]
  },
  {
   "cell_type": "code",
   "execution_count": null,
   "id": "c82ca5cb",
   "metadata": {},
   "outputs": [],
   "source": [
    "from sklearn import neighbors, datasets\n",
    "from sklearn.neighbors import KNeighborsClassifier\n",
    "\n",
    "classifier = KNeighborsClassifier(n_neighbors=3)\n",
    "classifier.fit(x_data, y_data)"
   ]
  },
  {
   "cell_type": "code",
   "execution_count": null,
   "id": "ad25ecd6",
   "metadata": {},
   "outputs": [],
   "source": [
    "y_pred = classifier.predict(x_test)\n",
    "print(y_pred)"
   ]
  },
  {
   "cell_type": "code",
   "execution_count": null,
   "id": "c36da90b",
   "metadata": {},
   "outputs": [],
   "source": []
  },
  {
   "cell_type": "markdown",
   "id": "51608deb",
   "metadata": {},
   "source": [
    "### Way 2"
   ]
  },
  {
   "cell_type": "code",
   "execution_count": null,
   "id": "3836177c",
   "metadata": {},
   "outputs": [],
   "source": [
    "# get model\n",
    "from sklearn.neighbors import KNeighborsClassifier\n",
    "\n",
    "classifier = KNeighborsClassifier(n_neighbors=6)\n",
    "classifier.fit(x_data, y_data)"
   ]
  },
  {
   "cell_type": "code",
   "execution_count": null,
   "id": "1eb743fd",
   "metadata": {},
   "outputs": [],
   "source": []
  },
  {
   "cell_type": "code",
   "execution_count": null,
   "id": "6f116329",
   "metadata": {},
   "outputs": [],
   "source": [
    "y_pred = classifier.kneighbors(x_test)\n",
    "print(y_pred)"
   ]
  },
  {
   "cell_type": "code",
   "execution_count": null,
   "id": "2719aa7a",
   "metadata": {},
   "outputs": [],
   "source": [
    "classifier.classes_"
   ]
  },
  {
   "cell_type": "code",
   "execution_count": null,
   "id": "cd420b27",
   "metadata": {},
   "outputs": [],
   "source": [
    "y_data"
   ]
  },
  {
   "cell_type": "code",
   "execution_count": null,
   "id": "8295492e",
   "metadata": {},
   "outputs": [],
   "source": []
  }
 ],
 "metadata": {
  "kernelspec": {
   "display_name": "Python 3 (ipykernel)",
   "language": "python",
   "name": "python3"
  },
  "language_info": {
   "codemirror_mode": {
    "name": "ipython",
    "version": 3
   },
   "file_extension": ".py",
   "mimetype": "text/x-python",
   "name": "python",
   "nbconvert_exporter": "python",
   "pygments_lexer": "ipython3",
   "version": "3.12.4"
  }
 },
 "nbformat": 4,
 "nbformat_minor": 5
}
