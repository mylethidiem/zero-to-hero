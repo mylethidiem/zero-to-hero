{
 "cells": [
  {
   "cell_type": "code",
   "execution_count": null,
   "id": "de28ae11",
   "metadata": {},
   "outputs": [],
   "source": [
    "vectorizer = CountVectorizer()\n",
    "corpus = [\"góp gió gặt bão\",\n",
    "          \"có làm mới có ăn\",\n",
    "          \"đất lành chim đậu\",\n",
    "          \"ăn cháo đá bát\",\n",
    "          \"gậy ông đập lưng ông\",\n",
    "          \"qua cầu rút ván\"]\n",
    "X = vectorizer.fit_transform(corpus)"
   ]
  },
  {
   "cell_type": "code",
   "execution_count": null,
   "id": "d61f6973",
   "metadata": {},
   "outputs": [],
   "source": [
    "x_test = vectorizer.transform(['không làm cạp đất mà ăn']).toarray()\n",
    "x_test"
   ]
  },
  {
   "cell_type": "code",
   "execution_count": null,
   "id": "303bf141",
   "metadata": {},
   "outputs": [],
   "source": [
    "y_data = np.array([1, 1, 1, 0, 0, 0])\n",
    "y_data"
   ]
  },
  {
   "cell_type": "code",
   "execution_count": null,
   "id": "5a060bed",
   "metadata": {},
   "outputs": [],
   "source": []
  },
  {
   "cell_type": "markdown",
   "id": "12e8a963",
   "metadata": {},
   "source": [
    "### Step-by-step"
   ]
  },
  {
   "cell_type": "code",
   "execution_count": null,
   "id": "bf759f42",
   "metadata": {},
   "outputs": [],
   "source": []
  },
  {
   "cell_type": "markdown",
   "id": "8a9a342c",
   "metadata": {},
   "source": [
    "## sklearn"
   ]
  },
  {
   "cell_type": "code",
   "execution_count": null,
   "id": "39775b36",
   "metadata": {},
   "outputs": [],
   "source": []
  }
 ],
 "metadata": {
  "kernelspec": {
   "display_name": "Python 3 (ipykernel)",
   "language": "python",
   "name": "python3"
  },
  "language_info": {
   "codemirror_mode": {
    "name": "ipython",
    "version": 3
   },
   "file_extension": ".py",
   "mimetype": "text/x-python",
   "name": "python",
   "nbconvert_exporter": "python",
   "pygments_lexer": "ipython3",
   "version": "3.12.4"
  }
 },
 "nbformat": 4,
 "nbformat_minor": 5
}
