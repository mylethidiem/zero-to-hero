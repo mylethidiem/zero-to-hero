{
 "cells": [
  {
   "cell_type": "markdown",
   "id": "05223c05",
   "metadata": {},
   "source": [
    "### Import libraries and data"
   ]
  },
  {
   "cell_type": "code",
   "execution_count": 27,
   "id": "b396ed44",
   "metadata": {},
   "outputs": [],
   "source": [
    "import numpy as np\n",
    "import random\n",
    "import matplotlib.pyplot as plt"
   ]
  },
  {
   "cell_type": "code",
   "execution_count": 5,
   "id": "3b05e137",
   "metadata": {},
   "outputs": [
    {
     "name": "stdout",
     "output_type": "stream",
     "text": [
      "[[  nan   nan   nan   nan]\n",
      " [230.1  37.8  69.2  22.1]\n",
      " [ 44.5  39.3  45.1  10.4]\n",
      " [ 17.2  45.9  69.3  12. ]\n",
      " [151.5  41.3  58.5  16.5]]\n"
     ]
    }
   ],
   "source": [
    "# tv, radio, newspaper, sales\n",
    "data_not_skip_header = np.genfromtxt('../data/advertising.csv', delimiter=',')\n",
    "print(data_not_skip_header[:5])"
   ]
  },
  {
   "cell_type": "code",
   "execution_count": 7,
   "id": "15b27b2f",
   "metadata": {},
   "outputs": [
    {
     "name": "stdout",
     "output_type": "stream",
     "text": [
      "[[230.1  37.8  69.2  22.1]\n",
      " [ 44.5  39.3  45.1  10.4]\n",
      " [ 17.2  45.9  69.3  12. ]\n",
      " [151.5  41.3  58.5  16.5]\n",
      " [180.8  10.8  58.4  17.9]]\n"
     ]
    }
   ],
   "source": [
    "data = np.genfromtxt('../data/advertising.csv', delimiter=',', skip_header=True)\n",
    "print(data[:5])"
   ]
  },
  {
   "cell_type": "markdown",
   "id": "bae374fd",
   "metadata": {},
   "source": [
    "## Non-reprocessing data"
   ]
  },
  {
   "cell_type": "code",
   "execution_count": 14,
   "id": "6a81f513",
   "metadata": {},
   "outputs": [
    {
     "name": "stdout",
     "output_type": "stream",
     "text": [
      "Just get column data nothing happen for the root data\n",
      "tv = [230.1  44.5  17.2 151.5 180.8]\n",
      "radio = [37.8 39.3 45.9 41.3 10.8]\n",
      "newspaper = [69.2 45.1 69.3 58.5 58.4]\n",
      "sales = [22.1 10.4 12.  16.5 17.9]\n"
     ]
    }
   ],
   "source": [
    "# tv, radio, newspaper\n",
    "tv_data = data[:, 0]\n",
    "radio_data = data[:, 1]\n",
    "newspaper_data = data[:, 2]\n",
    "\n",
    "# sales: label\n",
    "sales_data = data[:, -1]\n",
    "\n",
    "#\n",
    "print(\"Just get column data nothing happen for the root data\")\n",
    "print(f\"tv = {tv_data[:5]}\")\n",
    "print(f\"radio = {radio_data[:5]}\")\n",
    "print(f\"newspaper = {newspaper_data[:5]}\")\n",
    "print(f\"sales = {sales_data[:5]}\")"
   ]
  },
  {
   "cell_type": "code",
   "execution_count": null,
   "id": "18de9d1c",
   "metadata": {},
   "outputs": [],
   "source": [
    "def predict(x1, x2, x3, w1, w2, w3, b):\n",
    "    return w1*x1 + w2*x2 + w3*x3 + b\n",
    "\n",
    "def compute_loss(y_hat, y):\n",
    "    return (y_hat - y) ** 2\n",
    "\n",
    "def compute_gradient_wi(x, y, y_hat):\n",
    "    dwi = 2 * x * (y_hat - y)\n",
    "\n",
    "    return dwi\n",
    "\n",
    "def compute_gradient_b(y, y_hat):\n",
    "    db = y * (y_hat - y)\n",
    "    return db\n",
    "\n",
    "def update_weight_wi(w, dw, lr=0.01):\n",
    "    w = w -lr * dw\n",
    "    return w\n",
    "\n",
    "def update_weight_b(b, db, lr=0.01):\n",
    "    b = b - lr * db\n",
    "    return b"
   ]
  },
  {
   "cell_type": "markdown",
   "id": "36dbd9c1",
   "metadata": {},
   "source": [
    "[Gaussian distribution](https://www.geeksforgeeks.org/python/random-gauss-function-in-python/)\n",
    "\n",
    "Syntax:\n",
    "```py\n",
    "random.gauss(mu, sigma)\n",
    "```\n",
    "\n",
    "Parameters:\n",
    "```\n",
    "mu: mean\n",
    "sigma: standard deviation\n",
    "```"
   ]
  },
  {
   "cell_type": "code",
   "execution_count": 25,
   "id": "591070a8",
   "metadata": {},
   "outputs": [],
   "source": [
    "def initialize_params():\n",
    "    w1 = random.gauss(mu=0.0, sigma=0.01)\n",
    "    w2 = random.gauss(mu=0.0, sigma=0.01)\n",
    "    w3 = random.gauss(mu=0.0, sigma=0.01)\n",
    "    b = 0\n",
    "    return w1, w2, w3, b"
   ]
  },
  {
   "cell_type": "markdown",
   "id": "03b6b998",
   "metadata": {},
   "source": [
    "### Training process"
   ]
  },
  {
   "cell_type": "code",
   "execution_count": null,
   "id": "bf04ade4",
   "metadata": {},
   "outputs": [
    {
     "name": "stdout",
     "output_type": "stream",
     "text": [
      "0.009444190415257235 -0.019380356107580734 -0.0076292716924422745 0\n"
     ]
    },
    {
     "name": "stderr",
     "output_type": "stream",
     "text": [
      "/tmp/ipykernel_7376/3919539327.py:5: RuntimeWarning: overflow encountered in scalar power\n",
      "  return (y_hat - y) ** 2\n",
      "/tmp/ipykernel_7376/3919539327.py:8: RuntimeWarning: overflow encountered in scalar multiply\n",
      "  dwi = 2 * x * (y_hat - y)\n",
      "/tmp/ipykernel_7376/3919539327.py:17: RuntimeWarning: invalid value encountered in scalar subtract\n",
      "  w = w -lr * dw\n"
     ]
    }
   ],
   "source": [
    "# initialize model's parameters\n",
    "w1, w2, w3, b = initialize_params()\n",
    "print(w1, w2, w3, b)\n",
    "\n",
    "lr = 0.01 # 0.00001\n",
    "epochs = 50\n",
    "losses = []\n",
    "N = len(sales_data)\n",
    "\n",
    "for epoch in range(epochs):\n",
    "    for i in range(N):\n",
    "        # Take the sample i-th\n",
    "        x1 = tv_data[i]\n",
    "        x2 = radio_data[i]\n",
    "        x3 = newspaper_data[i]\n",
    "        y  = sales_data[i]\n",
    "\n",
    "        # compute output\n",
    "        y_hat = predict(x1, x2, x3, w1, w2, w3, b)\n",
    "\n",
    "        # compute loss\n",
    "        loss = compute_loss(y, y_hat)\n",
    "\n",
    "        # compute gradient w1, w2, w3, b\n",
    "        dl_dw1 = compute_gradient_wi(x1, y, y_hat)\n",
    "        dl_dw2 = compute_gradient_wi(x2, y, y_hat)\n",
    "        dl_dw3 = compute_gradient_wi(x3, y, y_hat)\n",
    "        dl_db  = compute_gradient_b(y, y_hat)\n",
    "\n",
    "\n",
    "        # update parameters\n",
    "        w1 = update_weight_wi(w1, dl_dw1, lr)\n",
    "        w2 = update_weight_wi(w2, dl_dw2, lr)\n",
    "        w3 = update_weight_wi(w3, dl_dw3, lr)\n",
    "        b  = update_weight_b(b, dl_db, lr)\n",
    "\n",
    "        # logging\n",
    "        losses.append(loss)\n"
   ]
  },
  {
   "cell_type": "code",
   "execution_count": 32,
   "id": "8f2b66b9",
   "metadata": {},
   "outputs": [
    {
     "data": {
      "image/png": "[encoded data removed]",
      "text/plain": [
       "<Figure size 640x480 with 1 Axes>"
      ]
     },
     "metadata": {},
     "output_type": "display_data"
    }
   ],
   "source": [
    "plt.plot(losses)\n",
    "plt.show()"
   ]
  },
  {
   "cell_type": "markdown",
   "id": "10bb53a5",
   "metadata": {},
   "source": [
    "### Inference"
   ]
  },
  {
   "cell_type": "code",
   "execution_count": null,
   "id": "6f837ac2",
   "metadata": {},
   "outputs": [
    {
     "name": "stdout",
     "output_type": "stream",
     "text": [
      "nan nan nan nan\n"
     ]
    }
   ],
   "source": [
    "# get model's parameters\n",
    "print(w1, w2, w3, b)"
   ]
  },
  {
   "cell_type": "code",
   "execution_count": null,
   "id": "591aa28a",
   "metadata": {},
   "outputs": [
    {
     "name": "stdout",
     "output_type": "stream",
     "text": [
      "predicted sales is nan\n"
     ]
    }
   ],
   "source": [
    "def predict(x1, x2, x3, w1, w2, w3, b):\n",
    "    return w1*x1 + w2*x2 + w3*x3 + b\n",
    "\n",
    "# given new data\n",
    "tv = 19.2\n",
    "radio = 35.9\n",
    "newspaper = 51.3\n",
    "\n",
    "sales = predict(tv, radio, newspaper, w1, w2, w3, b)\n",
    "print(f'predicted sales is {sales}')"
   ]
  },
  {
   "cell_type": "code",
   "execution_count": null,
   "id": "88f6f224",
   "metadata": {},
   "outputs": [],
   "source": [
    "# [230.1, 37.8, 69.2, 22.1]\n",
    "\n",
    "tv = 230.1\n",
    "radio = 37.8\n",
    "newspaper = 69.2\n",
    "\n",
    "sales = predict(tv, radio, newspaper, w1, w2, w3, b)\n",
    "print(f'predicted sales is {sales}')"
   ]
  },
  {
   "cell_type": "markdown",
   "id": "ed3d5563",
   "metadata": {},
   "source": [
    "### Conclusion\n",
    "The model is overflow number and cannot find the wi value. We should scale the data"
   ]
  },
  {
   "cell_type": "markdown",
   "id": "3ddbbdb3",
   "metadata": {},
   "source": [
    "## Data scaling"
   ]
  },
  {
   "cell_type": "markdown",
   "id": "5bc25abd",
   "metadata": {},
   "source": [
    "[Normalization](https://developers.google.com/machine-learning/crash-course/numerical-data/normalization)"
   ]
  },
  {
   "attachments": {
    "image.png": {
     "image/png": "[encoded data removed]"
    }
   },
   "cell_type": "markdown",
   "id": "0c69bb48",
   "metadata": {},
   "source": [
    "![image.png](attachment:image.png)"
   ]
  },
  {
   "cell_type": "code",
   "execution_count": 38,
   "id": "7f51c1c9",
   "metadata": {},
   "outputs": [],
   "source": [
    "def linear_scaling_data(data):\n",
    "    min_value = data.min()\n",
    "    max_value = data.max()\n",
    "    data_scaling = (data - min_value) / (max_value - min_value)\n",
    "    return (data_scaling, max_value, min_value)"
   ]
  },
  {
   "cell_type": "code",
   "execution_count": 39,
   "id": "d46fc2ac",
   "metadata": {},
   "outputs": [
    {
     "name": "stdout",
     "output_type": "stream",
     "text": [
      "[[1 7 5 3]\n",
      " [6 2 7 4]\n",
      " [7 2 4 5]]\n",
      "[[0.         1.         0.66666667 0.33333333]\n",
      " [0.83333333 0.16666667 1.         0.5       ]\n",
      " [1.         0.16666667 0.5        0.66666667]]\n",
      "7 1\n"
     ]
    }
   ],
   "source": [
    "# demo\n",
    "data1 = [1, 7, 5, 3]\n",
    "data2 = [6, 2, 7, 4]\n",
    "data3 = [7, 2, 4, 5]\n",
    "data = np.array([data1, data2, data3])\n",
    "\n",
    "print(data)\n",
    "\n",
    "(data, max_value, min_value) = linear_scaling_data(data)\n",
    "print(data)\n",
    "print(max_value, min_value)"
   ]
  },
  {
   "cell_type": "code",
   "execution_count": 43,
   "id": "1053a467",
   "metadata": {},
   "outputs": [
    {
     "name": "stdout",
     "output_type": "stream",
     "text": [
      "[[230.1  37.8  69.2  22.1]\n",
      " [ 44.5  39.3  45.1  10.4]\n",
      " [ 17.2  45.9  69.3  12. ]\n",
      " [151.5  41.3  58.5  16.5]\n",
      " [180.8  10.8  58.4  17.9]]\n",
      "Just get column data nothing happen for the root data\n",
      "tv = [230.1  44.5  17.2 151.5 180.8]\n",
      "radio = [37.8 39.3 45.9 41.3 10.8]\n",
      "newspaper = [69.2 45.1 69.3 58.5 58.4]\n",
      "sales = [22.1 10.4 12.  16.5 17.9]\n"
     ]
    }
   ],
   "source": [
    "data = np.genfromtxt('../data/advertising.csv', delimiter=',', skip_header=True)\n",
    "print(data[:5])\n",
    "\n",
    "# tv, radio, newspaper\n",
    "tv_data = data[:, 0]\n",
    "radio_data = data[:, 1]\n",
    "newspaper_data = data[:, 2]\n",
    "\n",
    "# sales: label\n",
    "sales_data = data[:, -1]\n",
    "\n",
    "#\n",
    "print(\"Just get column data nothing happen for the root data\")\n",
    "print(f\"tv = {tv_data[:5]}\")\n",
    "print(f\"radio = {radio_data[:5]}\")\n",
    "print(f\"newspaper = {newspaper_data[:5]}\")\n",
    "print(f\"sales = {sales_data[:5]}\")"
   ]
  },
  {
   "cell_type": "code",
   "execution_count": 44,
   "id": "cedb503c",
   "metadata": {},
   "outputs": [
    {
     "name": "stdout",
     "output_type": "stream",
     "text": [
      "[0.77631579 0.15013495 0.05802969 0.5111336  0.6099865 ]\n",
      "[0.12753036 0.13259109 0.1548583  0.13933873 0.03643725]\n",
      "[0.23346829 0.15215924 0.23380567 0.19736842 0.19703104]\n",
      "[22.1 10.4 12.  16.5 17.9]\n",
      "296.4 0.0\n"
     ]
    }
   ],
   "source": [
    "# scale data (only for features)\n",
    "# remenber to scale input features in inference, therefore, we need to save max and min values\n",
    "# normalization\n",
    "sales_data = data[:, 3]\n",
    "features = data[:, :3]\n",
    "(features, max_v, min_v) = linear_scaling_data(features)\n",
    "\n",
    "tv_data = features[:, 0]\n",
    "radio_data = features[:, 1]\n",
    "newspaper_data = features[:, 2]\n",
    "\n",
    "print(tv_data[:5])\n",
    "print(radio_data[:5])\n",
    "print(newspaper_data[:5])\n",
    "print(sales_data[:5])\n",
    "print(max_v, min_v)"
   ]
  },
  {
   "cell_type": "markdown",
   "id": "a067601f",
   "metadata": {},
   "source": [
    "### Training process"
   ]
  },
  {
   "cell_type": "code",
   "execution_count": 45,
   "id": "26154dd1",
   "metadata": {},
   "outputs": [
    {
     "name": "stdout",
     "output_type": "stream",
     "text": [
      "0.009096044853118953 0.009779744739998845 -0.000691735624813062 0\n"
     ]
    }
   ],
   "source": [
    "# initialize model's parameters\n",
    "w1, w2, w3, b = initialize_params()\n",
    "print(w1, w2, w3, b)\n",
    "\n",
    "lr = 0.01 # 0.00001\n",
    "epochs = 50\n",
    "losses = []\n",
    "N = len(sales_data)\n",
    "\n",
    "for epoch in range(epochs):\n",
    "    for i in range(N):\n",
    "        # Take the sample i-th\n",
    "        x1 = tv_data[i]\n",
    "        x2 = radio_data[i]\n",
    "        x3 = newspaper_data[i]\n",
    "        y  = sales_data[i]\n",
    "\n",
    "        # compute output\n",
    "        y_hat = predict(x1, x2, x3, w1, w2, w3, b)\n",
    "\n",
    "        # compute loss\n",
    "        loss = compute_loss(y, y_hat)\n",
    "\n",
    "        # compute gradient w1, w2, w3, b\n",
    "        dl_dw1 = compute_gradient_wi(x1, y, y_hat)\n",
    "        dl_dw2 = compute_gradient_wi(x2, y, y_hat)\n",
    "        dl_dw3 = compute_gradient_wi(x3, y, y_hat)\n",
    "        dl_db  = compute_gradient_b(y, y_hat)\n",
    "\n",
    "\n",
    "        # update parameters\n",
    "        w1 = update_weight_wi(w1, dl_dw1, lr)\n",
    "        w2 = update_weight_wi(w2, dl_dw2, lr)\n",
    "        w3 = update_weight_wi(w3, dl_dw3, lr)\n",
    "        b  = update_weight_b(b, dl_db, lr)\n",
    "\n",
    "        # logging\n",
    "        losses.append(loss)\n"
   ]
  },
  {
   "cell_type": "code",
   "execution_count": 46,
   "id": "f4b1ddd8",
   "metadata": {},
   "outputs": [
    {
     "data": {
      "image/png": "[encoded data removed]",
      "text/plain": [
       "<Figure size 640x480 with 1 Axes>"
      ]
     },
     "metadata": {},
     "output_type": "display_data"
    }
   ],
   "source": [
    "plt.plot(losses)\n",
    "plt.show()"
   ]
  },
  {
   "cell_type": "markdown",
   "id": "2cc830ce",
   "metadata": {},
   "source": [
    "### Inference"
   ]
  },
  {
   "cell_type": "code",
   "execution_count": null,
   "id": "f73b841b",
   "metadata": {},
   "outputs": [
    {
     "name": "stdout",
     "output_type": "stream",
     "text": [
      "predicted sales is 19.03463341025487\n"
     ]
    }
   ],
   "source": [
    "# [230.1, 37.8, 69.2, 22.1]\n",
    "\n",
    "tv = 230.1\n",
    "radio = 37.8\n",
    "newspaper = 69.2\n",
    "\n",
    "x_test = np.array([tv, radio, newspaper])\n",
    "x_test = (x_test - min_v) / (max_v - min_v)\n",
    "\n",
    "sales = predict(x_test[0], x_test[1], x_test[2], w1, w2, w3, b)\n",
    "print(f'predicted sales is {sales}')"
   ]
  },
  {
   "cell_type": "markdown",
   "id": "1c124a5c",
   "metadata": {},
   "source": [
    "### Conclusion\n",
    "In this section, we only use linear data scaling technique for scaling data. After scaling data, we can train model and use the wi, b results to inference the result."
   ]
  },
  {
   "cell_type": "markdown",
   "id": "134a1804",
   "metadata": {},
   "source": [
    "## Data Scaling and batch"
   ]
  },
  {
   "cell_type": "code",
   "execution_count": null,
   "id": "4606d41f",
   "metadata": {},
   "outputs": [],
   "source": [
    "import numpy as np\n",
    "import matplotlib.pyplot as plt\n",
    "import random"
   ]
  },
  {
   "cell_type": "code",
   "execution_count": 48,
   "id": "91ddac01",
   "metadata": {},
   "outputs": [],
   "source": [
    "def linear_scaling_data(data):\n",
    "    min_value = data.min()\n",
    "    max_value = data.max()\n",
    "    data_scaling = (data - min_value) / (max_value - min_value)\n",
    "    return (data_scaling, max_value, min_value)"
   ]
  },
  {
   "cell_type": "code",
   "execution_count": 49,
   "id": "a757e845",
   "metadata": {},
   "outputs": [
    {
     "name": "stdout",
     "output_type": "stream",
     "text": [
      "[[230.1  37.8  69.2  22.1]\n",
      " [ 44.5  39.3  45.1  10.4]\n",
      " [ 17.2  45.9  69.3  12. ]\n",
      " [151.5  41.3  58.5  16.5]\n",
      " [180.8  10.8  58.4  17.9]]\n",
      "Just get column data nothing happen for the root data\n",
      "tv = [230.1  44.5  17.2 151.5 180.8]\n",
      "radio = [37.8 39.3 45.9 41.3 10.8]\n",
      "newspaper = [69.2 45.1 69.3 58.5 58.4]\n",
      "sales = [22.1 10.4 12.  16.5 17.9]\n"
     ]
    }
   ],
   "source": [
    "data = np.genfromtxt('../data/advertising.csv', delimiter=',', skip_header=True)\n",
    "print(data[:5])\n",
    "\n",
    "# tv, radio, newspaper\n",
    "tv_data = data[:, 0]\n",
    "radio_data = data[:, 1]\n",
    "newspaper_data = data[:, 2]\n",
    "\n",
    "# sales: label\n",
    "sales_data = data[:, -1]\n",
    "\n",
    "#\n",
    "print(\"Just get column data nothing happen for the root data\")\n",
    "print(f\"tv = {tv_data[:5]}\")\n",
    "print(f\"radio = {radio_data[:5]}\")\n",
    "print(f\"newspaper = {newspaper_data[:5]}\")\n",
    "print(f\"sales = {sales_data[:5]}\")"
   ]
  },
  {
   "cell_type": "code",
   "execution_count": 50,
   "id": "b3ef1628",
   "metadata": {},
   "outputs": [
    {
     "name": "stdout",
     "output_type": "stream",
     "text": [
      "[0.77631579 0.15013495 0.05802969 0.5111336  0.6099865 ]\n",
      "[0.12753036 0.13259109 0.1548583  0.13933873 0.03643725]\n",
      "[0.23346829 0.15215924 0.23380567 0.19736842 0.19703104]\n",
      "[22.1 10.4 12.  16.5 17.9]\n",
      "296.4 0.0\n"
     ]
    }
   ],
   "source": [
    "# scale data (only for features)\n",
    "# remenber to scale input features in inference, therefore, we need to save max and min values\n",
    "# normalization\n",
    "sales_data = data[:, 3]\n",
    "features = data[:, :3]\n",
    "(features, max_v, min_v) = linear_scaling_data(features)\n",
    "\n",
    "tv_data = features[:, 0]\n",
    "radio_data = features[:, 1]\n",
    "newspaper_data = features[:, 2]\n",
    "\n",
    "print(tv_data[:5])\n",
    "print(radio_data[:5])\n",
    "print(newspaper_data[:5])\n",
    "print(sales_data[:5])\n",
    "print(max_v, min_v)"
   ]
  },
  {
   "cell_type": "markdown",
   "id": "06cca92c",
   "metadata": {},
   "source": [
    "### Training process"
   ]
  },
  {
   "cell_type": "code",
   "execution_count": null,
   "id": "1d4397cd",
   "metadata": {},
   "outputs": [
    {
     "name": "stdout",
     "output_type": "stream",
     "text": [
      "0.006283286843443179 0.019091671231223826 -0.003629032255676934 0\n"
     ]
    }
   ],
   "source": [
    "# initialize model's parameters\n",
    "w1, w2, w3, b = initialize_params()\n",
    "print(w1, w2, w3, b)\n",
    "\n",
    "lr = 0.01 # 0.00001\n",
    "epochs = 50\n",
    "losses = []\n",
    "N = len(sales_data)\n",
    "\n",
    "for epoch in range(epochs):\n",
    "    epoch_losses = []\n",
    "    dw1_total = 0.0\n",
    "    dw2_total = 0.0\n",
    "    dw3_total = 0.0\n",
    "    db_total  = 0.0\n",
    "    for i in range(N):\n",
    "        # Take the sample i-th\n",
    "        x1 = tv_data[i]\n",
    "        x2 = radio_data[i]\n",
    "        x3 = newspaper_data[i]\n",
    "        y  = sales_data[i]\n",
    "\n",
    "        # compute output\n",
    "        y_hat = predict(x1, x2, x3, w1, w2, w3, b)\n",
    "\n",
    "        # compute loss\n",
    "        loss = compute_loss(y, y_hat)\n",
    "        # logging\n",
    "        epoch_losses.append(loss)\n",
    "\n",
    "        # compute gradient w1, w2, w3, b\n",
    "        dl_dw1 = compute_gradient_wi(x1, y, y_hat)\n",
    "        dl_dw2 = compute_gradient_wi(x2, y, y_hat)\n",
    "        dl_dw3 = compute_gradient_wi(x3, y, y_hat)\n",
    "        dl_db  = compute_gradient_b(y, y_hat)\n",
    "\n",
    "        # accumulate\n",
    "        dw1_total = dw1_total + dl_dw1\n",
    "        dw2_total = dw2_total + dl_dw2\n",
    "        dw3_total = dw3_total + dl_dw3\n",
    "        db_total = db_total + dl_db\n",
    "\n",
    "\n",
    "    # update parameters\n",
    "    w1 = update_weight_wi(w1, dw1_total / N, lr)\n",
    "    w2 = update_weight_wi(w2, dw2_total / N, lr)\n",
    "    w3 = update_weight_wi(w3, dw3_total / N, lr)\n",
    "    b  = update_weight_b(b, db_total / N, lr)\n",
    "\n",
    "    losses.append(np.sum(epoch_losses)/ len(epoch_losses))\n",
    "\n"
   ]
  },
  {
   "cell_type": "code",
   "execution_count": 59,
   "id": "7d57e612",
   "metadata": {},
   "outputs": [
    {
     "data": {
      "image/png": "[encoded data removed]",
      "text/plain": [
       "<Figure size 640x480 with 1 Axes>"
      ]
     },
     "metadata": {},
     "output_type": "display_data"
    }
   ],
   "source": [
    "plt.plot(losses)\n",
    "plt.show()"
   ]
  },
  {
   "cell_type": "markdown",
   "id": "8f5cc467",
   "metadata": {},
   "source": [
    "### Inference"
   ]
  },
  {
   "cell_type": "code",
   "execution_count": 60,
   "id": "4d1046be",
   "metadata": {},
   "outputs": [
    {
     "name": "stdout",
     "output_type": "stream",
     "text": [
      "predicted sales is 17.29026895268408\n"
     ]
    }
   ],
   "source": [
    "# [230.1, 37.8, 69.2, 22.1]\n",
    "\n",
    "tv = 230.1\n",
    "radio = 37.8\n",
    "newspaper = 69.2\n",
    "\n",
    "x_test = np.array([tv, radio, newspaper])\n",
    "x_test = (x_test - min_v) / (max_v - min_v)\n",
    "\n",
    "sales = predict(x_test[0], x_test[1], x_test[2], w1, w2, w3, b)\n",
    "print(f'predicted sales is {sales}')"
   ]
  },
  {
   "cell_type": "markdown",
   "id": "01397846",
   "metadata": {},
   "source": [
    "### Conclusion"
   ]
  }
 ],
 "metadata": {
  "kernelspec": {
   "display_name": "ds_env",
   "language": "python",
   "name": "python3"
  },
  "language_info": {
   "codemirror_mode": {
    "name": "ipython",
    "version": 3
   },
   "file_extension": ".py",
   "mimetype": "text/x-python",
   "name": "python",
   "nbconvert_exporter": "python",
   "pygments_lexer": "ipython3",
   "version": "3.11.13"
  }
 },
 "nbformat": 4,
 "nbformat_minor": 5
}
