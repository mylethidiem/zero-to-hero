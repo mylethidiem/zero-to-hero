{
 "cells": [
  {
   "cell_type": "markdown",
   "metadata": {
    "id": "t4JiV3MQzObr"
   },
   "source": [
    "## Cut-Thumbnail\n"
   ]
  },
  {
   "cell_type": "markdown",
   "metadata": {
    "id": "mHriKEly4jPN"
   },
   "source": [
    "## YOCO"
   ]
  },
  {
   "cell_type": "markdown",
   "metadata": {
    "id": "I4IV0iklSWx5"
   },
   "source": [
    "## Mixup"
   ]
  },
  {
   "cell_type": "markdown",
   "metadata": {
    "id": "MvMXGBu5SYx7"
   },
   "source": [
    "## CutMix"
   ]
  }
 ],
 "metadata": {
  "colab": {
   "authorship_tag": "ABX9TyMNnhpa9emkzytiqeYMmRnv",
   "provenance": []
  },
  "kernelspec": {
   "display_name": "Python 3",
   "name": "python3"
  },
  "language_info": {
   "name": "python"
  }
 },
 "nbformat": 4,
 "nbformat_minor": 0
}
