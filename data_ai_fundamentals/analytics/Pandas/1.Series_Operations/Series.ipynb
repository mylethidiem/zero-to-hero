{
 "cells": [
  {
   "cell_type": "markdown",
   "id": "0ceeb015",
   "metadata": {},
   "source": [
    "# 1"
   ]
  },
  {
   "cell_type": "code",
   "execution_count": 1,
   "id": "3866fc7b",
   "metadata": {},
   "outputs": [
    {
     "data": {
      "text/html": [
       "<div>\n",
       "<style scoped>\n",
       "    .dataframe tbody tr th:only-of-type {\n",
       "        vertical-align: middle;\n",
       "    }\n",
       "\n",
       "    .dataframe tbody tr th {\n",
       "        vertical-align: top;\n",
       "    }\n",
       "\n",
       "    .dataframe thead th {\n",
       "        text-align: right;\n",
       "    }\n",
       "</style>\n",
       "<table border=\"1\" class=\"dataframe\">\n",
       "  <thead>\n",
       "    <tr style=\"text-align: right;\">\n",
       "      <th></th>\n",
       "      <th>TV</th>\n",
       "      <th>Radio</th>\n",
       "      <th>Newspaper</th>\n",
       "      <th>Sales</th>\n",
       "    </tr>\n",
       "  </thead>\n",
       "  <tbody>\n",
       "    <tr>\n",
       "      <th>count</th>\n",
       "      <td>8.000000</td>\n",
       "      <td>8.000000</td>\n",
       "      <td>8.000000</td>\n",
       "      <td>8.000000</td>\n",
       "    </tr>\n",
       "    <tr>\n",
       "      <th>mean</th>\n",
       "      <td>73.125000</td>\n",
       "      <td>29.500000</td>\n",
       "      <td>42.500000</td>\n",
       "      <td>11.250000</td>\n",
       "    </tr>\n",
       "    <tr>\n",
       "      <th>std</th>\n",
       "      <td>68.059716</td>\n",
       "      <td>17.146428</td>\n",
       "      <td>27.619869</td>\n",
       "      <td>4.334249</td>\n",
       "    </tr>\n",
       "    <tr>\n",
       "      <th>min</th>\n",
       "      <td>8.000000</td>\n",
       "      <td>2.000000</td>\n",
       "      <td>1.000000</td>\n",
       "      <td>4.000000</td>\n",
       "    </tr>\n",
       "    <tr>\n",
       "      <th>25%</th>\n",
       "      <td>14.750000</td>\n",
       "      <td>16.750000</td>\n",
       "      <td>20.000000</td>\n",
       "      <td>9.250000</td>\n",
       "    </tr>\n",
       "    <tr>\n",
       "      <th>50%</th>\n",
       "      <td>50.500000</td>\n",
       "      <td>35.500000</td>\n",
       "      <td>51.500000</td>\n",
       "      <td>11.500000</td>\n",
       "    </tr>\n",
       "    <tr>\n",
       "      <th>75%</th>\n",
       "      <td>127.750000</td>\n",
       "      <td>42.000000</td>\n",
       "      <td>60.750000</td>\n",
       "      <td>13.750000</td>\n",
       "    </tr>\n",
       "    <tr>\n",
       "      <th>max</th>\n",
       "      <td>180.000000</td>\n",
       "      <td>48.000000</td>\n",
       "      <td>75.000000</td>\n",
       "      <td>17.000000</td>\n",
       "    </tr>\n",
       "  </tbody>\n",
       "</table>\n",
       "</div>"
      ],
      "text/plain": [
       "               TV      Radio  Newspaper      Sales\n",
       "count    8.000000   8.000000   8.000000   8.000000\n",
       "mean    73.125000  29.500000  42.500000  11.250000\n",
       "std     68.059716  17.146428  27.619869   4.334249\n",
       "min      8.000000   2.000000   1.000000   4.000000\n",
       "25%     14.750000  16.750000  20.000000   9.250000\n",
       "50%     50.500000  35.500000  51.500000  11.500000\n",
       "75%    127.750000  42.000000  60.750000  13.750000\n",
       "max    180.000000  48.000000  75.000000  17.000000"
      ]
     },
     "execution_count": 1,
     "metadata": {},
     "output_type": "execute_result"
    }
   ],
   "source": [
    "import numpy as np\n",
    "import pandas as pd\n",
    "\n",
    "df = pd.read_csv('advertising_simple.csv')\n",
    "df.describe()"
   ]
  },
  {
   "cell_type": "code",
   "execution_count": 2,
   "id": "1b80ce2f",
   "metadata": {},
   "outputs": [
    {
     "data": {
      "text/plain": [
       "0    39\n",
       "1    45\n",
       "2    41\n",
       "3    10\n",
       "dtype: int64"
      ]
     },
     "execution_count": 2,
     "metadata": {},
     "output_type": "execute_result"
    }
   ],
   "source": [
    "import pandas as pd\n",
    "\n",
    "data = pd.Series([39, 45, 41, 10])\n",
    "data"
   ]
  },
  {
   "cell_type": "code",
   "execution_count": 3,
   "id": "55e4e11b",
   "metadata": {},
   "outputs": [
    {
     "data": {
      "text/plain": [
       "0    39\n",
       "1    45\n",
       "2    41\n",
       "dtype: int64"
      ]
     },
     "execution_count": 3,
     "metadata": {},
     "output_type": "execute_result"
    }
   ],
   "source": [
    "data[:3]"
   ]
  },
  {
   "cell_type": "code",
   "execution_count": 4,
   "id": "9235b61d",
   "metadata": {},
   "outputs": [
    {
     "data": {
      "text/plain": [
       "Series([], dtype: int64)"
      ]
     },
     "execution_count": 4,
     "metadata": {},
     "output_type": "execute_result"
    }
   ],
   "source": [
    "data.loc[:-1]"
   ]
  },
  {
   "cell_type": "code",
   "execution_count": 5,
   "id": "33c0ba74",
   "metadata": {},
   "outputs": [
    {
     "data": {
      "text/html": [
       "<div>\n",
       "<style scoped>\n",
       "    .dataframe tbody tr th:only-of-type {\n",
       "        vertical-align: middle;\n",
       "    }\n",
       "\n",
       "    .dataframe tbody tr th {\n",
       "        vertical-align: top;\n",
       "    }\n",
       "\n",
       "    .dataframe thead th {\n",
       "        text-align: right;\n",
       "    }\n",
       "</style>\n",
       "<table border=\"1\" class=\"dataframe\">\n",
       "  <thead>\n",
       "    <tr style=\"text-align: right;\">\n",
       "      <th></th>\n",
       "      <th>TV</th>\n",
       "      <th>Radio</th>\n",
       "      <th>Newspaper</th>\n",
       "      <th>Sales</th>\n",
       "    </tr>\n",
       "  </thead>\n",
       "  <tbody>\n",
       "    <tr>\n",
       "      <th>0</th>\n",
       "      <td>44</td>\n",
       "      <td>39</td>\n",
       "      <td>45</td>\n",
       "      <td>10</td>\n",
       "    </tr>\n",
       "    <tr>\n",
       "      <th>1</th>\n",
       "      <td>17</td>\n",
       "      <td>45</td>\n",
       "      <td>69</td>\n",
       "      <td>12</td>\n",
       "    </tr>\n",
       "    <tr>\n",
       "      <th>2</th>\n",
       "      <td>151</td>\n",
       "      <td>41</td>\n",
       "      <td>58</td>\n",
       "      <td>16</td>\n",
       "    </tr>\n",
       "    <tr>\n",
       "      <th>3</th>\n",
       "      <td>180</td>\n",
       "      <td>10</td>\n",
       "      <td>58</td>\n",
       "      <td>17</td>\n",
       "    </tr>\n",
       "    <tr>\n",
       "      <th>4</th>\n",
       "      <td>8</td>\n",
       "      <td>48</td>\n",
       "      <td>75</td>\n",
       "      <td>7</td>\n",
       "    </tr>\n",
       "    <tr>\n",
       "      <th>5</th>\n",
       "      <td>57</td>\n",
       "      <td>32</td>\n",
       "      <td>23</td>\n",
       "      <td>11</td>\n",
       "    </tr>\n",
       "    <tr>\n",
       "      <th>6</th>\n",
       "      <td>120</td>\n",
       "      <td>19</td>\n",
       "      <td>11</td>\n",
       "      <td>13</td>\n",
       "    </tr>\n",
       "    <tr>\n",
       "      <th>7</th>\n",
       "      <td>8</td>\n",
       "      <td>2</td>\n",
       "      <td>1</td>\n",
       "      <td>4</td>\n",
       "    </tr>\n",
       "  </tbody>\n",
       "</table>\n",
       "</div>"
      ],
      "text/plain": [
       "    TV  Radio  Newspaper  Sales\n",
       "0   44     39         45     10\n",
       "1   17     45         69     12\n",
       "2  151     41         58     16\n",
       "3  180     10         58     17\n",
       "4    8     48         75      7\n",
       "5   57     32         23     11\n",
       "6  120     19         11     13\n",
       "7    8      2          1      4"
      ]
     },
     "execution_count": 5,
     "metadata": {},
     "output_type": "execute_result"
    }
   ],
   "source": [
    "df"
   ]
  },
  {
   "cell_type": "code",
   "execution_count": 6,
   "id": "ca800bd6",
   "metadata": {},
   "outputs": [
    {
     "data": {
      "text/html": [
       "<div>\n",
       "<style scoped>\n",
       "    .dataframe tbody tr th:only-of-type {\n",
       "        vertical-align: middle;\n",
       "    }\n",
       "\n",
       "    .dataframe tbody tr th {\n",
       "        vertical-align: top;\n",
       "    }\n",
       "\n",
       "    .dataframe thead th {\n",
       "        text-align: right;\n",
       "    }\n",
       "</style>\n",
       "<table border=\"1\" class=\"dataframe\">\n",
       "  <thead>\n",
       "    <tr style=\"text-align: right;\">\n",
       "      <th></th>\n",
       "      <th>TV</th>\n",
       "      <th>Radio</th>\n",
       "      <th>Newspaper</th>\n",
       "      <th>Sales</th>\n",
       "    </tr>\n",
       "  </thead>\n",
       "  <tbody>\n",
       "    <tr>\n",
       "      <th>count</th>\n",
       "      <td>8.000000</td>\n",
       "      <td>8.000000</td>\n",
       "      <td>8.000000</td>\n",
       "      <td>8.000000</td>\n",
       "    </tr>\n",
       "    <tr>\n",
       "      <th>mean</th>\n",
       "      <td>73.125000</td>\n",
       "      <td>29.500000</td>\n",
       "      <td>42.500000</td>\n",
       "      <td>11.250000</td>\n",
       "    </tr>\n",
       "    <tr>\n",
       "      <th>std</th>\n",
       "      <td>68.059716</td>\n",
       "      <td>17.146428</td>\n",
       "      <td>27.619869</td>\n",
       "      <td>4.334249</td>\n",
       "    </tr>\n",
       "    <tr>\n",
       "      <th>min</th>\n",
       "      <td>8.000000</td>\n",
       "      <td>2.000000</td>\n",
       "      <td>1.000000</td>\n",
       "      <td>4.000000</td>\n",
       "    </tr>\n",
       "    <tr>\n",
       "      <th>25%</th>\n",
       "      <td>14.750000</td>\n",
       "      <td>16.750000</td>\n",
       "      <td>20.000000</td>\n",
       "      <td>9.250000</td>\n",
       "    </tr>\n",
       "    <tr>\n",
       "      <th>50%</th>\n",
       "      <td>50.500000</td>\n",
       "      <td>35.500000</td>\n",
       "      <td>51.500000</td>\n",
       "      <td>11.500000</td>\n",
       "    </tr>\n",
       "    <tr>\n",
       "      <th>75%</th>\n",
       "      <td>127.750000</td>\n",
       "      <td>42.000000</td>\n",
       "      <td>60.750000</td>\n",
       "      <td>13.750000</td>\n",
       "    </tr>\n",
       "    <tr>\n",
       "      <th>max</th>\n",
       "      <td>180.000000</td>\n",
       "      <td>48.000000</td>\n",
       "      <td>75.000000</td>\n",
       "      <td>17.000000</td>\n",
       "    </tr>\n",
       "  </tbody>\n",
       "</table>\n",
       "</div>"
      ],
      "text/plain": [
       "               TV      Radio  Newspaper      Sales\n",
       "count    8.000000   8.000000   8.000000   8.000000\n",
       "mean    73.125000  29.500000  42.500000  11.250000\n",
       "std     68.059716  17.146428  27.619869   4.334249\n",
       "min      8.000000   2.000000   1.000000   4.000000\n",
       "25%     14.750000  16.750000  20.000000   9.250000\n",
       "50%     50.500000  35.500000  51.500000  11.500000\n",
       "75%    127.750000  42.000000  60.750000  13.750000\n",
       "max    180.000000  48.000000  75.000000  17.000000"
      ]
     },
     "execution_count": 6,
     "metadata": {},
     "output_type": "execute_result"
    }
   ],
   "source": [
    "df.describe()"
   ]
  },
  {
   "cell_type": "code",
   "execution_count": 7,
   "id": "40edd8ce",
   "metadata": {},
   "outputs": [
    {
     "data": {
      "text/html": [
       "<div>\n",
       "<style scoped>\n",
       "    .dataframe tbody tr th:only-of-type {\n",
       "        vertical-align: middle;\n",
       "    }\n",
       "\n",
       "    .dataframe tbody tr th {\n",
       "        vertical-align: top;\n",
       "    }\n",
       "\n",
       "    .dataframe thead th {\n",
       "        text-align: right;\n",
       "    }\n",
       "</style>\n",
       "<table border=\"1\" class=\"dataframe\">\n",
       "  <thead>\n",
       "    <tr style=\"text-align: right;\">\n",
       "      <th></th>\n",
       "      <th>TV</th>\n",
       "      <th>Radio</th>\n",
       "      <th>Newspaper</th>\n",
       "      <th>Sales</th>\n",
       "    </tr>\n",
       "  </thead>\n",
       "  <tbody>\n",
       "    <tr>\n",
       "      <th>0</th>\n",
       "      <td>44</td>\n",
       "      <td>39</td>\n",
       "      <td>45</td>\n",
       "      <td>10</td>\n",
       "    </tr>\n",
       "    <tr>\n",
       "      <th>1</th>\n",
       "      <td>17</td>\n",
       "      <td>45</td>\n",
       "      <td>69</td>\n",
       "      <td>12</td>\n",
       "    </tr>\n",
       "    <tr>\n",
       "      <th>2</th>\n",
       "      <td>151</td>\n",
       "      <td>41</td>\n",
       "      <td>58</td>\n",
       "      <td>16</td>\n",
       "    </tr>\n",
       "  </tbody>\n",
       "</table>\n",
       "</div>"
      ],
      "text/plain": [
       "    TV  Radio  Newspaper  Sales\n",
       "0   44     39         45     10\n",
       "1   17     45         69     12\n",
       "2  151     41         58     16"
      ]
     },
     "execution_count": 7,
     "metadata": {},
     "output_type": "execute_result"
    }
   ],
   "source": [
    "df.head(3)"
   ]
  },
  {
   "cell_type": "code",
   "execution_count": 8,
   "id": "79b568fb",
   "metadata": {},
   "outputs": [
    {
     "data": {
      "text/html": [
       "<div>\n",
       "<style scoped>\n",
       "    .dataframe tbody tr th:only-of-type {\n",
       "        vertical-align: middle;\n",
       "    }\n",
       "\n",
       "    .dataframe tbody tr th {\n",
       "        vertical-align: top;\n",
       "    }\n",
       "\n",
       "    .dataframe thead th {\n",
       "        text-align: right;\n",
       "    }\n",
       "</style>\n",
       "<table border=\"1\" class=\"dataframe\">\n",
       "  <thead>\n",
       "    <tr style=\"text-align: right;\">\n",
       "      <th></th>\n",
       "      <th>TV</th>\n",
       "      <th>Radio</th>\n",
       "      <th>Newspaper</th>\n",
       "      <th>Sales</th>\n",
       "    </tr>\n",
       "  </thead>\n",
       "  <tbody>\n",
       "    <tr>\n",
       "      <th>5</th>\n",
       "      <td>57</td>\n",
       "      <td>32</td>\n",
       "      <td>23</td>\n",
       "      <td>11</td>\n",
       "    </tr>\n",
       "    <tr>\n",
       "      <th>6</th>\n",
       "      <td>120</td>\n",
       "      <td>19</td>\n",
       "      <td>11</td>\n",
       "      <td>13</td>\n",
       "    </tr>\n",
       "    <tr>\n",
       "      <th>7</th>\n",
       "      <td>8</td>\n",
       "      <td>2</td>\n",
       "      <td>1</td>\n",
       "      <td>4</td>\n",
       "    </tr>\n",
       "  </tbody>\n",
       "</table>\n",
       "</div>"
      ],
      "text/plain": [
       "    TV  Radio  Newspaper  Sales\n",
       "5   57     32         23     11\n",
       "6  120     19         11     13\n",
       "7    8      2          1      4"
      ]
     },
     "execution_count": 8,
     "metadata": {},
     "output_type": "execute_result"
    }
   ],
   "source": [
    "df.tail(3)"
   ]
  },
  {
   "cell_type": "markdown",
   "id": "c483940e",
   "metadata": {},
   "source": [
    "## Get columns"
   ]
  },
  {
   "cell_type": "code",
   "execution_count": 9,
   "id": "9d0eadfb",
   "metadata": {},
   "outputs": [],
   "source": [
    "series = df['Radio']"
   ]
  },
  {
   "cell_type": "code",
   "execution_count": 10,
   "id": "a8b99b8c",
   "metadata": {},
   "outputs": [
    {
     "data": {
      "text/plain": [
       "pandas.core.series.Series"
      ]
     },
     "execution_count": 10,
     "metadata": {},
     "output_type": "execute_result"
    }
   ],
   "source": [
    "type(series)"
   ]
  },
  {
   "cell_type": "code",
   "execution_count": 11,
   "id": "fe1bf4d7",
   "metadata": {},
   "outputs": [
    {
     "data": {
      "text/plain": [
       "0    39\n",
       "1    45\n",
       "2    41\n",
       "3    10\n",
       "4    48\n",
       "5    32\n",
       "6    19\n",
       "7     2\n",
       "Name: Radio, dtype: int64"
      ]
     },
     "execution_count": 11,
     "metadata": {},
     "output_type": "execute_result"
    }
   ],
   "source": [
    "series"
   ]
  },
  {
   "cell_type": "code",
   "execution_count": 12,
   "id": "75c88253",
   "metadata": {},
   "outputs": [
    {
     "data": {
      "text/plain": [
       "array([39, 45, 41, 10, 48, 32, 19,  2])"
      ]
     },
     "execution_count": 12,
     "metadata": {},
     "output_type": "execute_result"
    }
   ],
   "source": [
    "series.to_numpy()"
   ]
  },
  {
   "cell_type": "code",
   "execution_count": 13,
   "id": "3f761e6b",
   "metadata": {},
   "outputs": [
    {
     "data": {
      "text/plain": [
       "RangeIndex(start=0, stop=8, step=1)"
      ]
     },
     "execution_count": 13,
     "metadata": {},
     "output_type": "execute_result"
    }
   ],
   "source": [
    "series.index"
   ]
  },
  {
   "cell_type": "code",
   "execution_count": 14,
   "id": "d9070213",
   "metadata": {},
   "outputs": [
    {
     "data": {
      "text/plain": [
       "'Radio'"
      ]
     },
     "execution_count": 14,
     "metadata": {},
     "output_type": "execute_result"
    }
   ],
   "source": [
    "series.name"
   ]
  },
  {
   "cell_type": "code",
   "execution_count": 15,
   "id": "c5381e8d",
   "metadata": {},
   "outputs": [
    {
     "data": {
      "text/plain": [
       "array([39, 45, 41, 10, 48, 32, 19,  2])"
      ]
     },
     "execution_count": 15,
     "metadata": {},
     "output_type": "execute_result"
    }
   ],
   "source": [
    "series.values"
   ]
  },
  {
   "cell_type": "markdown",
   "id": "eafef638",
   "metadata": {},
   "source": [
    "## Get row"
   ]
  },
  {
   "cell_type": "code",
   "execution_count": 16,
   "id": "7f45eae1",
   "metadata": {},
   "outputs": [
    {
     "data": {
      "text/plain": [
       "0    39\n",
       "1    45\n",
       "2    41\n",
       "3    10\n",
       "4    48\n",
       "5    32\n",
       "6    19\n",
       "7     2\n",
       "Name: Radio, dtype: int64"
      ]
     },
     "execution_count": 16,
     "metadata": {},
     "output_type": "execute_result"
    }
   ],
   "source": [
    "series"
   ]
  },
  {
   "cell_type": "code",
   "execution_count": 20,
   "id": "8745378f",
   "metadata": {},
   "outputs": [
    {
     "data": {
      "text/plain": [
       "48"
      ]
     },
     "execution_count": 20,
     "metadata": {},
     "output_type": "execute_result"
    }
   ],
   "source": [
    "series.loc[4]"
   ]
  },
  {
   "cell_type": "code",
   "execution_count": 19,
   "id": "94542baf",
   "metadata": {},
   "outputs": [
    {
     "data": {
      "text/plain": [
       "48"
      ]
     },
     "execution_count": 19,
     "metadata": {},
     "output_type": "execute_result"
    }
   ],
   "source": [
    "series.iloc[4]"
   ]
  },
  {
   "cell_type": "code",
   "execution_count": 21,
   "id": "cc6c8c5a",
   "metadata": {},
   "outputs": [
    {
     "data": {
      "text/plain": [
       "2    41\n",
       "3    10\n",
       "4    48\n",
       "5    32\n",
       "Name: Radio, dtype: int64"
      ]
     },
     "execution_count": 21,
     "metadata": {},
     "output_type": "execute_result"
    }
   ],
   "source": [
    "series.loc[2:5]"
   ]
  },
  {
   "cell_type": "code",
   "execution_count": 22,
   "id": "9539cba9",
   "metadata": {},
   "outputs": [
    {
     "data": {
      "text/plain": [
       "2    41\n",
       "3    10\n",
       "4    48\n",
       "Name: Radio, dtype: int64"
      ]
     },
     "execution_count": 22,
     "metadata": {},
     "output_type": "execute_result"
    }
   ],
   "source": [
    "series.iloc[2:5]"
   ]
  },
  {
   "cell_type": "code",
   "execution_count": 16,
   "id": "c4cabad4",
   "metadata": {},
   "outputs": [
    {
     "data": {
      "text/plain": [
       "2    41\n",
       "3    10\n",
       "4    48\n",
       "Name: Radio, dtype: int64"
      ]
     },
     "execution_count": 16,
     "metadata": {},
     "output_type": "execute_result"
    }
   ],
   "source": [
    "series[2:5]"
   ]
  },
  {
   "cell_type": "code",
   "execution_count": 23,
   "id": "920ed64e",
   "metadata": {},
   "outputs": [
    {
     "data": {
      "text/plain": [
       "0    39\n",
       "1    45\n",
       "2    41\n",
       "4    48\n",
       "5    32\n",
       "Name: Radio, dtype: int64"
      ]
     },
     "execution_count": 23,
     "metadata": {},
     "output_type": "execute_result"
    }
   ],
   "source": [
    "series[series>30]"
   ]
  },
  {
   "cell_type": "code",
   "execution_count": 25,
   "id": "4b9a7134",
   "metadata": {},
   "outputs": [
    {
     "data": {
      "text/plain": [
       "1    45\n",
       "2    41\n",
       "4    48\n",
       "Name: Radio, dtype: int64"
      ]
     },
     "execution_count": 25,
     "metadata": {},
     "output_type": "execute_result"
    }
   ],
   "source": [
    "series.loc[series>40]"
   ]
  },
  {
   "cell_type": "code",
   "execution_count": 26,
   "id": "dcff4fe2",
   "metadata": {},
   "outputs": [
    {
     "data": {
      "text/plain": [
       "3    10\n",
       "6    19\n",
       "Name: Radio, dtype: int64"
      ]
     },
     "execution_count": 26,
     "metadata": {},
     "output_type": "execute_result"
    }
   ],
   "source": [
    "series[series.between(10, 30)]"
   ]
  },
  {
   "cell_type": "code",
   "execution_count": 27,
   "id": "c38ad3a5",
   "metadata": {},
   "outputs": [
    {
     "data": {
      "text/html": [
       "<div>\n",
       "<style scoped>\n",
       "    .dataframe tbody tr th:only-of-type {\n",
       "        vertical-align: middle;\n",
       "    }\n",
       "\n",
       "    .dataframe tbody tr th {\n",
       "        vertical-align: top;\n",
       "    }\n",
       "\n",
       "    .dataframe thead th {\n",
       "        text-align: right;\n",
       "    }\n",
       "</style>\n",
       "<table border=\"1\" class=\"dataframe\">\n",
       "  <thead>\n",
       "    <tr style=\"text-align: right;\">\n",
       "      <th></th>\n",
       "      <th>Radio</th>\n",
       "    </tr>\n",
       "  </thead>\n",
       "  <tbody>\n",
       "    <tr>\n",
       "      <th>0</th>\n",
       "      <td>39</td>\n",
       "    </tr>\n",
       "    <tr>\n",
       "      <th>1</th>\n",
       "      <td>45</td>\n",
       "    </tr>\n",
       "    <tr>\n",
       "      <th>2</th>\n",
       "      <td>41</td>\n",
       "    </tr>\n",
       "    <tr>\n",
       "      <th>3</th>\n",
       "      <td>10</td>\n",
       "    </tr>\n",
       "    <tr>\n",
       "      <th>4</th>\n",
       "      <td>48</td>\n",
       "    </tr>\n",
       "    <tr>\n",
       "      <th>5</th>\n",
       "      <td>32</td>\n",
       "    </tr>\n",
       "    <tr>\n",
       "      <th>6</th>\n",
       "      <td>19</td>\n",
       "    </tr>\n",
       "    <tr>\n",
       "      <th>7</th>\n",
       "      <td>2</td>\n",
       "    </tr>\n",
       "  </tbody>\n",
       "</table>\n",
       "</div>"
      ],
      "text/plain": [
       "   Radio\n",
       "0     39\n",
       "1     45\n",
       "2     41\n",
       "3     10\n",
       "4     48\n",
       "5     32\n",
       "6     19\n",
       "7      2"
      ]
     },
     "execution_count": 27,
     "metadata": {},
     "output_type": "execute_result"
    }
   ],
   "source": [
    "series.to_frame()"
   ]
  },
  {
   "cell_type": "code",
   "execution_count": null,
   "id": "e62db63d",
   "metadata": {},
   "outputs": [],
   "source": []
  },
  {
   "cell_type": "code",
   "execution_count": 29,
   "id": "c9037f58",
   "metadata": {},
   "outputs": [
    {
     "data": {
      "text/plain": [
       "0    4\n",
       "1    7\n",
       "2    1\n",
       "Name: Programming Language, dtype: int64"
      ]
     },
     "execution_count": 29,
     "metadata": {},
     "output_type": "execute_result"
    }
   ],
   "source": [
    "import pandas as pd\n",
    "import numpy as np\n",
    "\n",
    "data = pd.Series([4, 7, 1],\n",
    "                 name='Programming Language')\n",
    "data"
   ]
  },
  {
   "cell_type": "code",
   "execution_count": 30,
   "id": "81ae12af",
   "metadata": {},
   "outputs": [
    {
     "data": {
      "text/plain": [
       "0.0    4\n",
       "1.0    7\n",
       "2.0    1\n",
       "1.5    8\n",
       "Name: Programming Language, dtype: int64"
      ]
     },
     "execution_count": 30,
     "metadata": {},
     "output_type": "execute_result"
    }
   ],
   "source": [
    "data[1.5] = 8\n",
    "data"
   ]
  },
  {
   "cell_type": "code",
   "execution_count": 31,
   "id": "ee9aeb1a",
   "metadata": {},
   "outputs": [
    {
     "data": {
      "text/plain": [
       "0.0    4\n",
       "1.0    7\n",
       "1.5    8\n",
       "2.0    1\n",
       "Name: Programming Language, dtype: int64"
      ]
     },
     "execution_count": 31,
     "metadata": {},
     "output_type": "execute_result"
    }
   ],
   "source": [
    "data.sort_index(inplace=True)\n",
    "data"
   ]
  },
  {
   "cell_type": "code",
   "execution_count": 32,
   "id": "ed6b6d69",
   "metadata": {},
   "outputs": [],
   "source": [
    "data = data.reset_index(drop=True)"
   ]
  },
  {
   "cell_type": "code",
   "execution_count": 24,
   "id": "a771e3ac",
   "metadata": {},
   "outputs": [
    {
     "data": {
      "text/plain": [
       "0    4\n",
       "1    7\n",
       "2    8\n",
       "3    1\n",
       "Name: Programming Language, dtype: int64"
      ]
     },
     "execution_count": 24,
     "metadata": {},
     "output_type": "execute_result"
    }
   ],
   "source": [
    "data"
   ]
  },
  {
   "cell_type": "code",
   "execution_count": null,
   "id": "421ec580",
   "metadata": {},
   "outputs": [],
   "source": []
  },
  {
   "cell_type": "markdown",
   "id": "4ecd297c",
   "metadata": {},
   "source": [
    "# 2"
   ]
  },
  {
   "cell_type": "markdown",
   "id": "abf0b5e5",
   "metadata": {},
   "source": [
    "## Drop row"
   ]
  },
  {
   "cell_type": "code",
   "execution_count": null,
   "id": "7876eb04",
   "metadata": {},
   "outputs": [
    {
     "data": {
      "text/plain": [
       "C       C++\n",
       "G    Golang\n",
       "J      Java\n",
       "P    Python\n",
       "S     Swift\n",
       "Name: Programming Language, dtype: object"
      ]
     },
     "execution_count": 39,
     "metadata": {},
     "output_type": "execute_result"
    }
   ],
   "source": [
    "import pandas as pd\n",
    "import numpy as np\n",
    "\n",
    "data = pd.Series(['C++', 'Golang', 'Java', 'Python', 'Swift'],\n",
    "                 index=list('CGJPS'),\n",
    "                 name='Programming Language')\n",
    "data"
   ]
  },
  {
   "cell_type": "code",
   "execution_count": 40,
   "id": "00a94673",
   "metadata": {},
   "outputs": [
    {
     "data": {
      "text/plain": [
       "C       C++\n",
       "G    Golang\n",
       "J      Java\n",
       "P    Python\n",
       "S     Swift\n",
       "K    Kotlin\n",
       "Name: Programming Language, dtype: object"
      ]
     },
     "execution_count": 40,
     "metadata": {},
     "output_type": "execute_result"
    }
   ],
   "source": [
    "data['K'] = \"Kotlin\"\n",
    "data"
   ]
  },
  {
   "cell_type": "code",
   "execution_count": 41,
   "id": "70d15b2a",
   "metadata": {},
   "outputs": [
    {
     "data": {
      "text/plain": [
       "C       C++\n",
       "G    Golang\n",
       "J      Java\n",
       "K    Kotlin\n",
       "P    Python\n",
       "S     Swift\n",
       "Name: Programming Language, dtype: object"
      ]
     },
     "execution_count": 41,
     "metadata": {},
     "output_type": "execute_result"
    }
   ],
   "source": [
    "data = data.sort_index(inplace=False)\n",
    "data"
   ]
  },
  {
   "cell_type": "code",
   "execution_count": 42,
   "id": "3e90cc2b",
   "metadata": {},
   "outputs": [
    {
     "data": {
      "text/plain": [
       "C       C++\n",
       "G    Golang\n",
       "J      Java\n",
       "K    Kotlin\n",
       "S     Swift\n",
       "Name: Programming Language, dtype: object"
      ]
     },
     "execution_count": 42,
     "metadata": {},
     "output_type": "execute_result"
    }
   ],
   "source": [
    "data = data.drop('P')\n",
    "data"
   ]
  },
  {
   "cell_type": "code",
   "execution_count": 48,
   "id": "474bc712",
   "metadata": {},
   "outputs": [
    {
     "name": "stdout",
     "output_type": "stream",
     "text": [
      "<class 'pandas.core.series.Series'>\n"
     ]
    },
    {
     "data": {
      "text/plain": [
       "['C', 'J']"
      ]
     },
     "execution_count": 48,
     "metadata": {},
     "output_type": "execute_result"
    }
   ],
   "source": [
    "print(type(data[['C', 'J']]))\n",
    "['C', 'J']"
   ]
  },
  {
   "cell_type": "code",
   "execution_count": null,
   "id": "e603249a",
   "metadata": {},
   "outputs": [
    {
     "data": {
      "text/plain": [
       "C       C++\n",
       "G    Golang\n",
       "J      Java\n",
       "P    Python\n",
       "C     Swift\n",
       "Name: Programming Language, dtype: object"
      ]
     },
     "execution_count": 49,
     "metadata": {},
     "output_type": "execute_result"
    }
   ],
   "source": [
    "data2 = pd.Series(['C++', 'Golang', 'Java', 'Python', 'Swift'],\n",
    "                 index=list('CGJPC'),\n",
    "                 name='Programming Language')\n",
    "data2"
   ]
  },
  {
   "cell_type": "code",
   "execution_count": 50,
   "id": "7727adc8",
   "metadata": {},
   "outputs": [
    {
     "data": {
      "text/plain": [
       "C      C++\n",
       "C    Swift\n",
       "Name: Programming Language, dtype: object"
      ]
     },
     "execution_count": 50,
     "metadata": {},
     "output_type": "execute_result"
    }
   ],
   "source": [
    "data2['C']"
   ]
  },
  {
   "cell_type": "code",
   "execution_count": 51,
   "id": "8161d54a",
   "metadata": {},
   "outputs": [
    {
     "data": {
      "text/plain": [
       "Index(['C', 'G', 'J', 'K', 'S'], dtype='object')"
      ]
     },
     "execution_count": 51,
     "metadata": {},
     "output_type": "execute_result"
    }
   ],
   "source": [
    "data.index"
   ]
  },
  {
   "cell_type": "code",
   "execution_count": 52,
   "id": "6849f41c",
   "metadata": {},
   "outputs": [
    {
     "data": {
      "text/plain": [
       "'Programming Language'"
      ]
     },
     "execution_count": 52,
     "metadata": {},
     "output_type": "execute_result"
    }
   ],
   "source": [
    "data.name"
   ]
  },
  {
   "cell_type": "code",
   "execution_count": null,
   "id": "b1cb237a",
   "metadata": {},
   "outputs": [
    {
     "data": {
      "text/plain": [
       "C       C++\n",
       "G    Golang\n",
       "J      Java\n",
       "K    Kotlin\n",
       "Name: Programming Language, dtype: object"
      ]
     },
     "execution_count": 54,
     "metadata": {},
     "output_type": "execute_result"
    }
   ],
   "source": [
    "#\n",
    "data['C':'P']"
   ]
  },
  {
   "cell_type": "code",
   "execution_count": 55,
   "id": "55f8e82b",
   "metadata": {},
   "outputs": [
    {
     "data": {
      "text/plain": [
       "J      Java\n",
       "K    Kotlin\n",
       "Name: Programming Language, dtype: object"
      ]
     },
     "execution_count": 55,
     "metadata": {},
     "output_type": "execute_result"
    }
   ],
   "source": [
    "result = data[2:4]\n",
    "result"
   ]
  },
  {
   "cell_type": "code",
   "execution_count": 56,
   "id": "b7b5a818",
   "metadata": {},
   "outputs": [
    {
     "ename": "KeyError",
     "evalue": "\"['P'] not found in axis\"",
     "output_type": "error",
     "traceback": [
      "\u001b[31m---------------------------------------------------------------------------\u001b[39m",
      "\u001b[31mKeyError\u001b[39m                                  Traceback (most recent call last)",
      "\u001b[36mCell\u001b[39m\u001b[36m \u001b[39m\u001b[32mIn[56]\u001b[39m\u001b[32m, line 1\u001b[39m\n\u001b[32m----> \u001b[39m\u001b[32m1\u001b[39m data.drop([\u001b[33m'\u001b[39m\u001b[33mC\u001b[39m\u001b[33m'\u001b[39m, \u001b[33m'\u001b[39m\u001b[33mP\u001b[39m\u001b[33m'\u001b[39m])\n",
      "\u001b[36mFile \u001b[39m\u001b[32m~/miniconda3/envs/ds_env/lib/python3.11/site-packages/pandas/core/series.py:5356\u001b[39m, in \u001b[36mSeries.drop\u001b[39m\u001b[34m(self, labels, axis, index, columns, level, inplace, errors)\u001b[39m\n\u001b[32m   5259\u001b[39m \u001b[38;5;28;01mdef\u001b[39;00m\u001b[38;5;250m \u001b[39m\u001b[34mdrop\u001b[39m(\n\u001b[32m   5260\u001b[39m     \u001b[38;5;28mself\u001b[39m,\n\u001b[32m   5261\u001b[39m     labels: IndexLabel | \u001b[38;5;28;01mNone\u001b[39;00m = \u001b[38;5;28;01mNone\u001b[39;00m,\n\u001b[32m   (...)\u001b[39m\u001b[32m   5268\u001b[39m     errors: IgnoreRaise = \u001b[33m\"\u001b[39m\u001b[33mraise\u001b[39m\u001b[33m\"\u001b[39m,\n\u001b[32m   5269\u001b[39m ) -> Series | \u001b[38;5;28;01mNone\u001b[39;00m:\n\u001b[32m   5270\u001b[39m \u001b[38;5;250m    \u001b[39m\u001b[33;03m\"\"\"\u001b[39;00m\n\u001b[32m   5271\u001b[39m \u001b[33;03m    Return Series with specified index labels removed.\u001b[39;00m\n\u001b[32m   5272\u001b[39m \n\u001b[32m   (...)\u001b[39m\u001b[32m   5354\u001b[39m \u001b[33;03m    dtype: float64\u001b[39;00m\n\u001b[32m   5355\u001b[39m \u001b[33;03m    \"\"\"\u001b[39;00m\n\u001b[32m-> \u001b[39m\u001b[32m5356\u001b[39m     \u001b[38;5;28;01mreturn\u001b[39;00m \u001b[38;5;28msuper\u001b[39m().drop(\n\u001b[32m   5357\u001b[39m         labels=labels,\n\u001b[32m   5358\u001b[39m         axis=axis,\n\u001b[32m   5359\u001b[39m         index=index,\n\u001b[32m   5360\u001b[39m         columns=columns,\n\u001b[32m   5361\u001b[39m         level=level,\n\u001b[32m   5362\u001b[39m         inplace=inplace,\n\u001b[32m   5363\u001b[39m         errors=errors,\n\u001b[32m   5364\u001b[39m     )\n",
      "\u001b[36mFile \u001b[39m\u001b[32m~/miniconda3/envs/ds_env/lib/python3.11/site-packages/pandas/core/generic.py:4788\u001b[39m, in \u001b[36mNDFrame.drop\u001b[39m\u001b[34m(self, labels, axis, index, columns, level, inplace, errors)\u001b[39m\n\u001b[32m   4786\u001b[39m \u001b[38;5;28;01mfor\u001b[39;00m axis, labels \u001b[38;5;129;01min\u001b[39;00m axes.items():\n\u001b[32m   4787\u001b[39m     \u001b[38;5;28;01mif\u001b[39;00m labels \u001b[38;5;129;01mis\u001b[39;00m \u001b[38;5;129;01mnot\u001b[39;00m \u001b[38;5;28;01mNone\u001b[39;00m:\n\u001b[32m-> \u001b[39m\u001b[32m4788\u001b[39m         obj = obj._drop_axis(labels, axis, level=level, errors=errors)\n\u001b[32m   4790\u001b[39m \u001b[38;5;28;01mif\u001b[39;00m inplace:\n\u001b[32m   4791\u001b[39m     \u001b[38;5;28mself\u001b[39m._update_inplace(obj)\n",
      "\u001b[36mFile \u001b[39m\u001b[32m~/miniconda3/envs/ds_env/lib/python3.11/site-packages/pandas/core/generic.py:4830\u001b[39m, in \u001b[36mNDFrame._drop_axis\u001b[39m\u001b[34m(self, labels, axis, level, errors, only_slice)\u001b[39m\n\u001b[32m   4828\u001b[39m         new_axis = axis.drop(labels, level=level, errors=errors)\n\u001b[32m   4829\u001b[39m     \u001b[38;5;28;01melse\u001b[39;00m:\n\u001b[32m-> \u001b[39m\u001b[32m4830\u001b[39m         new_axis = axis.drop(labels, errors=errors)\n\u001b[32m   4831\u001b[39m     indexer = axis.get_indexer(new_axis)\n\u001b[32m   4833\u001b[39m \u001b[38;5;66;03m# Case for non-unique axis\u001b[39;00m\n\u001b[32m   4834\u001b[39m \u001b[38;5;28;01melse\u001b[39;00m:\n",
      "\u001b[36mFile \u001b[39m\u001b[32m~/miniconda3/envs/ds_env/lib/python3.11/site-packages/pandas/core/indexes/base.py:7070\u001b[39m, in \u001b[36mIndex.drop\u001b[39m\u001b[34m(self, labels, errors)\u001b[39m\n\u001b[32m   7068\u001b[39m \u001b[38;5;28;01mif\u001b[39;00m mask.any():\n\u001b[32m   7069\u001b[39m     \u001b[38;5;28;01mif\u001b[39;00m errors != \u001b[33m\"\u001b[39m\u001b[33mignore\u001b[39m\u001b[33m\"\u001b[39m:\n\u001b[32m-> \u001b[39m\u001b[32m7070\u001b[39m         \u001b[38;5;28;01mraise\u001b[39;00m \u001b[38;5;167;01mKeyError\u001b[39;00m(\u001b[33mf\u001b[39m\u001b[33m\"\u001b[39m\u001b[38;5;132;01m{\u001b[39;00mlabels[mask].tolist()\u001b[38;5;132;01m}\u001b[39;00m\u001b[33m not found in axis\u001b[39m\u001b[33m\"\u001b[39m)\n\u001b[32m   7071\u001b[39m     indexer = indexer[~mask]\n\u001b[32m   7072\u001b[39m \u001b[38;5;28;01mreturn\u001b[39;00m \u001b[38;5;28mself\u001b[39m.delete(indexer)\n",
      "\u001b[31mKeyError\u001b[39m: \"['P'] not found in axis\""
     ]
    }
   ],
   "source": [
    "data.drop(['C', 'P'])"
   ]
  },
  {
   "cell_type": "code",
   "execution_count": 57,
   "id": "9569bbc5",
   "metadata": {},
   "outputs": [
    {
     "data": {
      "text/plain": [
       "G    Golang\n",
       "J      Java\n",
       "K    Kotlin\n",
       "Name: Programming Language, dtype: object"
      ]
     },
     "execution_count": 57,
     "metadata": {},
     "output_type": "execute_result"
    }
   ],
   "source": [
    "data.drop(['C', 'S'])"
   ]
  },
  {
   "cell_type": "markdown",
   "id": "c13c2c7f",
   "metadata": {},
   "source": [
    "## Insert row"
   ]
  },
  {
   "cell_type": "code",
   "execution_count": 58,
   "id": "e5b08e84",
   "metadata": {},
   "outputs": [
    {
     "data": {
      "text/plain": [
       "C       C++\n",
       "G    Golang\n",
       "J      Java\n",
       "K    Kotlin\n",
       "S     Swift\n",
       "Name: Programming Language, dtype: object"
      ]
     },
     "execution_count": 58,
     "metadata": {},
     "output_type": "execute_result"
    }
   ],
   "source": [
    "data"
   ]
  },
  {
   "cell_type": "code",
   "execution_count": 62,
   "id": "841b713b",
   "metadata": {},
   "outputs": [
    {
     "data": {
      "text/plain": [
       "C       C++\n",
       "G    Golang\n",
       "J      Java\n",
       "K    Kotlin\n",
       "S     Swift\n",
       "P    Python\n",
       "Name: Programming Language, dtype: object"
      ]
     },
     "execution_count": 62,
     "metadata": {},
     "output_type": "execute_result"
    }
   ],
   "source": [
    "data['P'] = 'Python'\n",
    "data['P'] = 'Python'\n",
    "data"
   ]
  },
  {
   "cell_type": "code",
   "execution_count": 64,
   "id": "3657651d",
   "metadata": {},
   "outputs": [
    {
     "name": "stdout",
     "output_type": "stream",
     "text": [
      "None\n"
     ]
    }
   ],
   "source": [
    "data2 = data.sort_index(inplace=True)\n",
    "print(data2)"
   ]
  },
  {
   "cell_type": "code",
   "execution_count": null,
   "id": "ab227158",
   "metadata": {},
   "outputs": [],
   "source": []
  },
  {
   "cell_type": "markdown",
   "id": "61a33b00",
   "metadata": {},
   "source": [
    "## String"
   ]
  },
  {
   "cell_type": "code",
   "execution_count": null,
   "id": "8f62d7a5",
   "metadata": {},
   "outputs": [],
   "source": [
    "data"
   ]
  },
  {
   "cell_type": "code",
   "execution_count": 65,
   "id": "86a5dc97",
   "metadata": {},
   "outputs": [
    {
     "data": {
      "text/plain": [
       "C    0\n",
       "G    0\n",
       "J    1\n",
       "K    0\n",
       "P    0\n",
       "S    0\n",
       "Name: Programming Language, dtype: int64"
      ]
     },
     "execution_count": 65,
     "metadata": {},
     "output_type": "execute_result"
    }
   ],
   "source": [
    "data.str.count('Java')"
   ]
  },
  {
   "cell_type": "code",
   "execution_count": 66,
   "id": "52f8ac98",
   "metadata": {},
   "outputs": [
    {
     "data": {
      "text/plain": [
       "C    0\n",
       "G    1\n",
       "J    2\n",
       "K    0\n",
       "P    0\n",
       "S    0\n",
       "Name: Programming Language, dtype: int64"
      ]
     },
     "execution_count": 66,
     "metadata": {},
     "output_type": "execute_result"
    }
   ],
   "source": [
    "data.str.count('a')"
   ]
  },
  {
   "cell_type": "code",
   "execution_count": 67,
   "id": "9a0396ed",
   "metadata": {},
   "outputs": [
    {
     "data": {
      "text/plain": [
       "C       c++\n",
       "G    golang\n",
       "J      java\n",
       "K    kotlin\n",
       "P    python\n",
       "S     swift\n",
       "Name: Programming Language, dtype: object"
      ]
     },
     "execution_count": 67,
     "metadata": {},
     "output_type": "execute_result"
    }
   ],
   "source": [
    "data.str.lower()"
   ]
  },
  {
   "cell_type": "code",
   "execution_count": 68,
   "id": "e5dbf625",
   "metadata": {},
   "outputs": [
    {
     "data": {
      "text/plain": [
       "C       C++\n",
       "G    GOLANG\n",
       "J      JAVA\n",
       "K    KOTLIN\n",
       "P    PYTHON\n",
       "S     SWIFT\n",
       "Name: Programming Language, dtype: object"
      ]
     },
     "execution_count": 68,
     "metadata": {},
     "output_type": "execute_result"
    }
   ],
   "source": [
    "data.str.upper()"
   ]
  },
  {
   "cell_type": "code",
   "execution_count": 69,
   "id": "9b6ac3a7",
   "metadata": {},
   "outputs": [
    {
     "data": {
      "text/plain": [
       "C       C++\n",
       "G    Golang\n",
       "J        C#\n",
       "K    Kotlin\n",
       "P    Python\n",
       "S     Swift\n",
       "Name: Programming Language, dtype: object"
      ]
     },
     "execution_count": 69,
     "metadata": {},
     "output_type": "execute_result"
    }
   ],
   "source": [
    "data.replace('Java', 'C#')"
   ]
  },
  {
   "cell_type": "code",
   "execution_count": null,
   "id": "e6a9f08b",
   "metadata": {},
   "outputs": [],
   "source": []
  },
  {
   "cell_type": "markdown",
   "id": "388861be",
   "metadata": {},
   "source": [
    "## Missing value"
   ]
  },
  {
   "cell_type": "code",
   "execution_count": 70,
   "id": "63037593",
   "metadata": {},
   "outputs": [
    {
     "data": {
      "text/plain": [
       "0    1.0\n",
       "1    6.0\n",
       "2    3.0\n",
       "3    8.0\n",
       "4    NaN\n",
       "5    7.0\n",
       "6    NaN\n",
       "7    2.0\n",
       "Name: num_dropped, dtype: float64"
      ]
     },
     "execution_count": 70,
     "metadata": {},
     "output_type": "execute_result"
    }
   ],
   "source": [
    "import pandas as pd\n",
    "import numpy as np\n",
    "\n",
    "data = pd.Series([1, 6, 3, 8, np.nan, 7, np.nan, 2], name='num_dropped')\n",
    "data"
   ]
  },
  {
   "cell_type": "code",
   "execution_count": 71,
   "id": "8ce384fb",
   "metadata": {},
   "outputs": [
    {
     "data": {
      "text/plain": [
       "0    1.0\n",
       "1    6.0\n",
       "2    3.0\n",
       "3    8.0\n",
       "5    7.0\n",
       "7    2.0\n",
       "Name: num_dropped, dtype: float64"
      ]
     },
     "execution_count": 71,
     "metadata": {},
     "output_type": "execute_result"
    }
   ],
   "source": [
    "data.dropna()"
   ]
  },
  {
   "cell_type": "code",
   "execution_count": 95,
   "id": "e413de86",
   "metadata": {},
   "outputs": [
    {
     "data": {
      "text/plain": [
       "0    1.0\n",
       "1    6.0\n",
       "2    3.0\n",
       "3    8.0\n",
       "4    1.0\n",
       "5    7.0\n",
       "6    1.0\n",
       "7    2.0\n",
       "Name: num_dropped, dtype: float64"
      ]
     },
     "execution_count": 95,
     "metadata": {},
     "output_type": "execute_result"
    }
   ],
   "source": [
    "data = pd.Series([1, 6, 3, 8, np.nan, 7, np.nan, 2], name='num_dropped')\n",
    "data.fillna(1.0)"
   ]
  },
  {
   "cell_type": "code",
   "execution_count": 96,
   "id": "675beabb",
   "metadata": {},
   "outputs": [
    {
     "data": {
      "text/plain": [
       "0    1.0\n",
       "1    6.0\n",
       "2    3.0\n",
       "3    8.0\n",
       "4    7.5\n",
       "5    7.0\n",
       "6    4.5\n",
       "7    2.0\n",
       "Name: num_dropped, dtype: float64"
      ]
     },
     "execution_count": 96,
     "metadata": {},
     "output_type": "execute_result"
    }
   ],
   "source": [
    "data = pd.Series([1, 6, 3, 8, np.nan, 7, np.nan, 2], name='num_dropped')\n",
    "data.interpolate()#interpolate to exam value"
   ]
  },
  {
   "cell_type": "code",
   "execution_count": 98,
   "id": "8155b1f7",
   "metadata": {},
   "outputs": [
    {
     "data": {
      "text/plain": [
       "0    1.0\n",
       "1    6.0\n",
       "2    3.0\n",
       "3    8.0\n",
       "4    7.5\n",
       "5    7.0\n",
       "6    4.5\n",
       "7    2.0\n",
       "Name: num_dropped, dtype: float64"
      ]
     },
     "execution_count": 98,
     "metadata": {},
     "output_type": "execute_result"
    }
   ],
   "source": [
    "data = pd.Series([1, 6, 3, 8, np.nan, 7, np.nan, 2], name='num_dropped')\n",
    "# data.fillna(0.0)\n",
    "data.interpolate(method='linear')#interpolate to exam value"
   ]
  },
  {
   "cell_type": "code",
   "execution_count": 76,
   "id": "18b359fc",
   "metadata": {},
   "outputs": [
    {
     "data": {
      "text/plain": [
       "0    1.0\n",
       "1    6.0\n",
       "2    3.0\n",
       "3    8.0\n",
       "4    NaN\n",
       "5    7.0\n",
       "6    NaN\n",
       "7    2.0\n",
       "Name: num_dropped, dtype: float64"
      ]
     },
     "execution_count": 76,
     "metadata": {},
     "output_type": "execute_result"
    }
   ],
   "source": [
    "# current data value\n",
    "data"
   ]
  },
  {
   "cell_type": "code",
   "execution_count": 80,
   "id": "8e827435",
   "metadata": {},
   "outputs": [
    {
     "name": "stdout",
     "output_type": "stream",
     "text": [
      "27.0\n",
      "1.0\n",
      "8.0\n",
      "4.5\n",
      "2.8809720581775866\n",
      "3\n"
     ]
    }
   ],
   "source": [
    "print(data.sum())\n",
    "print(data.min())\n",
    "print(data.max())\n",
    "print(data.mean())\n",
    "print(data.std())\n",
    "print(data.idxmax())\n"
   ]
  },
  {
   "cell_type": "code",
   "execution_count": 81,
   "id": "3986afa5",
   "metadata": {},
   "outputs": [
    {
     "data": {
      "text/plain": [
       "C++       12\n",
       "Golang    23\n",
       "Java      31\n",
       "Python    11\n",
       "Swift      9\n",
       "Name: num_registered, dtype: int64"
      ]
     },
     "execution_count": 81,
     "metadata": {},
     "output_type": "execute_result"
    }
   ],
   "source": [
    "import pandas as pd\n",
    "import numpy as np\n",
    "\n",
    "center1 = pd.Series(\n",
    "    [12, 23, 31, 11, 9],\n",
    "    index=list(['C++', 'Golang', 'Java', 'Python', 'Swift']),\n",
    "    name='num_registered'\n",
    ")\n",
    "center1"
   ]
  },
  {
   "cell_type": "code",
   "execution_count": 82,
   "id": "a333a6c4",
   "metadata": {},
   "outputs": [
    {
     "data": {
      "text/plain": [
       "C++       42\n",
       "Golang    18\n",
       "Java      44\n",
       "Python    49\n",
       "Swift     27\n",
       "Name: num_registered, dtype: int64"
      ]
     },
     "execution_count": 82,
     "metadata": {},
     "output_type": "execute_result"
    }
   ],
   "source": [
    "center2 = pd.Series(\n",
    "    [42, 18, 44, 49, 27],\n",
    "    index=list(['C++', 'Golang', 'Java', 'Python', 'Swift']),\n",
    "    name='num_registered'\n",
    ")\n",
    "center2"
   ]
  },
  {
   "cell_type": "code",
   "execution_count": 84,
   "id": "db521f05",
   "metadata": {},
   "outputs": [
    {
     "data": {
      "text/plain": [
       "C++       54\n",
       "Golang    41\n",
       "Java      75\n",
       "Python    60\n",
       "Swift     36\n",
       "Name: num_registered, dtype: int64"
      ]
     },
     "execution_count": 84,
     "metadata": {},
     "output_type": "execute_result"
    }
   ],
   "source": [
    "total = center1 + center2\n",
    "total"
   ]
  },
  {
   "cell_type": "code",
   "execution_count": null,
   "id": "027db45d",
   "metadata": {},
   "outputs": [
    {
     "data": {
      "text/plain": [
       "C++        NaN\n",
       "Golang    65.0\n",
       "Java      75.0\n",
       "Python    60.0\n",
       "Swift     36.0\n",
       "Name: num_registered, dtype: float64"
      ]
     },
     "execution_count": 85,
     "metadata": {},
     "output_type": "execute_result"
    }
   ],
   "source": [
    "center1 = pd.Series([12, 23, 31, 11, 9],\n",
    "                    index=list(['C++', 'Golang', 'Java', 'Python', 'Swift']),\n",
    "                    name='num_registered')\n",
    "center2 = pd.Series([42, 44, 49, 27],\n",
    "                    index=list(['Golang', 'Java', 'Python', 'Swift']),\n",
    "                    name='num_registered')\n",
    "total = center1 + center2\n",
    "total"
   ]
  },
  {
   "cell_type": "markdown",
   "id": "1cd02678",
   "metadata": {},
   "source": [
    "## Update series"
   ]
  },
  {
   "cell_type": "code",
   "execution_count": 86,
   "id": "04940409",
   "metadata": {},
   "outputs": [
    {
     "data": {
      "text/plain": [
       "0       C++\n",
       "1    Golang\n",
       "2      Java\n",
       "3    Python\n",
       "4     Swift\n",
       "Name: language, dtype: object"
      ]
     },
     "execution_count": 86,
     "metadata": {},
     "output_type": "execute_result"
    }
   ],
   "source": [
    "import pandas as pd\n",
    "import numpy as np\n",
    "\n",
    "data = pd.Series(['C++', 'Golang', 'Java', 'Python', 'Swift'], name='language')\n",
    "data"
   ]
  },
  {
   "cell_type": "code",
   "execution_count": 87,
   "id": "f4f7c353",
   "metadata": {},
   "outputs": [
    {
     "data": {
      "text/plain": [
       "0.0       C++\n",
       "1.0    Golang\n",
       "2.0      Java\n",
       "3.0    Python\n",
       "4.0     Swift\n",
       "2.5        C#\n",
       "Name: language, dtype: object"
      ]
     },
     "execution_count": 87,
     "metadata": {},
     "output_type": "execute_result"
    }
   ],
   "source": [
    "data[2.5] = 'C#'\n",
    "data"
   ]
  },
  {
   "cell_type": "code",
   "execution_count": 89,
   "id": "8f7720e8",
   "metadata": {},
   "outputs": [
    {
     "data": {
      "text/plain": [
       "0.0       C++\n",
       "1.0    Golang\n",
       "2.0      Java\n",
       "2.5        C#\n",
       "3.0    Python\n",
       "4.0     Swift\n",
       "Name: language, dtype: object"
      ]
     },
     "execution_count": 89,
     "metadata": {},
     "output_type": "execute_result"
    }
   ],
   "source": [
    "data.sort_index(inplace=True)\n",
    "data"
   ]
  },
  {
   "cell_type": "code",
   "execution_count": 90,
   "id": "b2d3ea5f",
   "metadata": {},
   "outputs": [
    {
     "data": {
      "text/plain": [
       "0       C++\n",
       "1    Golang\n",
       "2      Java\n",
       "3        C#\n",
       "4    Python\n",
       "5     Swift\n",
       "Name: language, dtype: object"
      ]
     },
     "execution_count": 90,
     "metadata": {},
     "output_type": "execute_result"
    }
   ],
   "source": [
    "data.reset_index(drop=True)"
   ]
  },
  {
   "cell_type": "code",
   "execution_count": null,
   "id": "1a3647e6",
   "metadata": {},
   "outputs": [],
   "source": []
  },
  {
   "cell_type": "markdown",
   "id": "6b723882",
   "metadata": {},
   "source": [
    "# 3"
   ]
  },
  {
   "cell_type": "markdown",
   "id": "7e8caa04",
   "metadata": {},
   "source": [
    "## Strings"
   ]
  },
  {
   "cell_type": "code",
   "execution_count": 100,
   "id": "5ae1ab5b",
   "metadata": {},
   "outputs": [
    {
     "data": {
      "text/plain": [
       "0       C++\n",
       "1    Golang\n",
       "2      Java\n",
       "3    Python\n",
       "4     Swift\n",
       "dtype: object"
      ]
     },
     "execution_count": 100,
     "metadata": {},
     "output_type": "execute_result"
    }
   ],
   "source": [
    "import pandas as np\n",
    "import numpy as np\n",
    "\n",
    "data = pd.Series(['C++', 'Golang', 'Java', 'Python', 'Swift'])\n",
    "data"
   ]
  },
  {
   "cell_type": "code",
   "execution_count": 101,
   "id": "93a765b9",
   "metadata": {},
   "outputs": [
    {
     "data": {
      "text/plain": [
       "0    0\n",
       "1    0\n",
       "2    1\n",
       "3    0\n",
       "4    0\n",
       "dtype: int64"
      ]
     },
     "execution_count": 101,
     "metadata": {},
     "output_type": "execute_result"
    }
   ],
   "source": [
    "data.str.count('Java')"
   ]
  },
  {
   "cell_type": "code",
   "execution_count": 102,
   "id": "a759d0c8",
   "metadata": {},
   "outputs": [
    {
     "data": {
      "text/plain": [
       "0       C++\n",
       "1    Golang\n",
       "2        C#\n",
       "3    Python\n",
       "4     Swift\n",
       "dtype: object"
      ]
     },
     "execution_count": 102,
     "metadata": {},
     "output_type": "execute_result"
    }
   ],
   "source": [
    "data.replace('Java', 'C#')"
   ]
  },
  {
   "cell_type": "markdown",
   "id": "6448d89f",
   "metadata": {},
   "source": [
    "## Group by"
   ]
  },
  {
   "cell_type": "code",
   "execution_count": null,
   "id": "e06066f4",
   "metadata": {},
   "outputs": [
    {
     "data": {
      "text/plain": [
       "C++       4\n",
       "Golang    1\n",
       "Java      0\n",
       "Python    2\n",
       "Swift     2\n",
       "C#        1\n",
       "Name: num_dropped, dtype: int64"
      ]
     },
     "execution_count": 103,
     "metadata": {},
     "output_type": "execute_result"
    }
   ],
   "source": [
    "import pandas as pd\n",
    "import numpy as np\n",
    "\n",
    "data = pd.Series([4, 1, 0, 2, 2, 1],\n",
    "                 index=list(['C++', 'Golang', 'Java', 'Python', 'Swift', 'C#']),\n",
    "                 name='num_dropped')\n",
    "data"
   ]
  },
  {
   "cell_type": "code",
   "execution_count": 106,
   "id": "fdfbd12f",
   "metadata": {},
   "outputs": [
    {
     "name": "stdout",
     "output_type": "stream",
     "text": [
      "5\n"
     ]
    }
   ],
   "source": [
    "print(data['C++'].sum())"
   ]
  },
  {
   "cell_type": "code",
   "execution_count": 107,
   "id": "a3fb10e8",
   "metadata": {},
   "outputs": [
    {
     "data": {
      "text/plain": [
       "Golang    1\n",
       "Golang    2\n",
       "Name: num_dropped, dtype: int64"
      ]
     },
     "execution_count": 107,
     "metadata": {},
     "output_type": "execute_result"
    }
   ],
   "source": [
    "data['Golang']"
   ]
  },
  {
   "cell_type": "code",
   "execution_count": 108,
   "id": "3f980df7",
   "metadata": {},
   "outputs": [
    {
     "data": {
      "text/plain": [
       "Java    0\n",
       "Java    2\n",
       "Name: num_dropped, dtype: int64"
      ]
     },
     "execution_count": 108,
     "metadata": {},
     "output_type": "execute_result"
    }
   ],
   "source": [
    "data['Java']"
   ]
  },
  {
   "cell_type": "code",
   "execution_count": 109,
   "id": "c7bbba84",
   "metadata": {},
   "outputs": [
    {
     "name": "stdout",
     "output_type": "stream",
     "text": [
      "5\n",
      "3\n",
      "2\n"
     ]
    }
   ],
   "source": [
    "print(data['C++'].sum())\n",
    "print(data['Golang'].sum())\n",
    "print(data['Java'].sum())"
   ]
  },
  {
   "cell_type": "code",
   "execution_count": 111,
   "id": "a1bff6af",
   "metadata": {},
   "outputs": [
    {
     "data": {
      "text/plain": [
       "C++       4\n",
       "Golang    1\n",
       "Java      0\n",
       "Golang    2\n",
       "Java      2\n",
       "C++       1\n",
       "Name: num_dropped, dtype: int64"
      ]
     },
     "execution_count": 111,
     "metadata": {},
     "output_type": "execute_result"
    }
   ],
   "source": [
    "data"
   ]
  },
  {
   "cell_type": "code",
   "execution_count": 110,
   "id": "f17c57d4",
   "metadata": {},
   "outputs": [
    {
     "data": {
      "text/plain": [
       "C++       5\n",
       "Golang    3\n",
       "Java      2\n",
       "Name: num_dropped, dtype: int64"
      ]
     },
     "execution_count": 110,
     "metadata": {},
     "output_type": "execute_result"
    }
   ],
   "source": [
    "data.groupby(level=0).sum()"
   ]
  },
  {
   "cell_type": "code",
   "execution_count": null,
   "id": "7373e1a7",
   "metadata": {},
   "outputs": [
    {
     "data": {
      "text/plain": [
       "Animal  Type   \n",
       "Falcon  Captive    390.0\n",
       "        Wild       350.0\n",
       "Parrot  Captive     30.0\n",
       "        Wild        20.0\n",
       "Name: Max Speed, dtype: float64"
      ]
     },
     "execution_count": 113,
     "metadata": {},
     "output_type": "execute_result"
    }
   ],
   "source": [
    "arrays = [['Falcon', 'Falcon', 'Parrot', 'Parrot'],\n",
    "          ['Captive', 'Wild', 'Captive', 'Wild']]\n",
    "\n",
    "index = pd.MultiIndex.from_arrays(\n",
    "    arrays=arrays,\n",
    "    names=('Animal', 'Type')\n",
    ")\n",
    "ser = pd.Series([390., 350., 30., 20.],\n",
    "                index=index,\n",
    "                name=\"Max Speed\")\n",
    "ser"
   ]
  },
  {
   "cell_type": "code",
   "execution_count": 114,
   "id": "28a0c29e",
   "metadata": {},
   "outputs": [
    {
     "data": {
      "text/plain": [
       "Type\n",
       "Captive    210.0\n",
       "Wild       185.0\n",
       "Name: Max Speed, dtype: float64"
      ]
     },
     "execution_count": 114,
     "metadata": {},
     "output_type": "execute_result"
    }
   ],
   "source": [
    "ser.groupby(level=\"Type\").mean()"
   ]
  },
  {
   "cell_type": "code",
   "execution_count": 115,
   "id": "8bf3ccee",
   "metadata": {},
   "outputs": [
    {
     "data": {
      "text/plain": [
       "Type\n",
       "Captive    420.0\n",
       "Wild       370.0\n",
       "Name: Max Speed, dtype: float64"
      ]
     },
     "execution_count": 115,
     "metadata": {},
     "output_type": "execute_result"
    }
   ],
   "source": [
    "ser.groupby(level=1).sum()"
   ]
  },
  {
   "cell_type": "code",
   "execution_count": 116,
   "id": "de214bf4",
   "metadata": {},
   "outputs": [
    {
     "data": {
      "text/plain": [
       "MultiIndex([('Falcon', 'Captive'),\n",
       "            ('Falcon',    'Wild'),\n",
       "            ('Parrot', 'Captive'),\n",
       "            ('Parrot',    'Wild')],\n",
       "           names=['Animal', 'Type'])"
      ]
     },
     "execution_count": 116,
     "metadata": {},
     "output_type": "execute_result"
    }
   ],
   "source": [
    "ser.index"
   ]
  }
 ],
 "metadata": {
  "kernelspec": {
   "display_name": "ds_env",
   "language": "python",
   "name": "python3"
  },
  "language_info": {
   "codemirror_mode": {
    "name": "ipython",
    "version": 3
   },
   "file_extension": ".py",
   "mimetype": "text/x-python",
   "name": "python",
   "nbconvert_exporter": "python",
   "pygments_lexer": "ipython3",
   "version": "3.11.13"
  }
 },
 "nbformat": 4,
 "nbformat_minor": 5
}
