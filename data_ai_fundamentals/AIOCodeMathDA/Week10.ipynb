{
  "cells": [
    {
      "cell_type": "markdown",
      "metadata": {
        "id": "view-in-github",
        "colab_type": "text"
      },
      "source": [
        "<a href=\"https://colab.research.google.com/github/mylethidiem/zero-to-hero/blob/main/preAIO25/AIOCodeMathDA/Week10.ipynb\" target=\"_parent\"><img src=\"https://colab.research.google.com/assets/colab-badge.svg\" alt=\"Open In Colab\"/></a>"
      ]
    },
    {
      "cell_type": "markdown",
      "metadata": {
        "id": "6EVgNrpQHSk7"
      },
      "source": [
        "[AIO2025] LẬP TRÌNH - TOÁN - DATA ANALYSIS \\\n",
        "[AIOCodeMathDA][Week10] SQL Nâng Cao \\\n",
        "LÊ THỊ DIỄM MY"
      ]
    },
    {
      "cell_type": "markdown",
      "metadata": {
        "id": "EBSAg7H4qG7T"
      },
      "source": [
        "# Day 48: Subqueries và Temporary Tables"
      ]
    },
    {
      "cell_type": "markdown",
      "metadata": {
        "id": "h3uX87QLqIM9"
      },
      "source": [
        "# Day 49: Stored Procedure"
      ]
    },
    {
      "cell_type": "markdown",
      "metadata": {
        "id": "7DBA2I6oHaUc"
      },
      "source": [
        "# Day 50: Trigger"
      ]
    },
    {
      "cell_type": "markdown",
      "metadata": {
        "id": "04uSCDbApxxZ"
      },
      "source": [
        "# Day 51: VIEW\n"
      ]
    },
    {
      "cell_type": "markdown",
      "metadata": {
        "id": "v65iGApUqELx"
      },
      "source": [
        "# Day 52: Index"
      ]
    }
  ],
  "metadata": {
    "accelerator": "GPU",
    "colab": {
      "gpuType": "T4",
      "provenance": [],
      "include_colab_link": true
    },
    "kernelspec": {
      "display_name": "Python 3",
      "name": "python3"
    },
    "language_info": {
      "name": "python"
    }
  },
  "nbformat": 4,
  "nbformat_minor": 0
}