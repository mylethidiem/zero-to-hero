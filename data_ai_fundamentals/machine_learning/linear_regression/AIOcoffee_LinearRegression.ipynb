{
  "cells": [
    {
      "cell_type": "markdown",
      "metadata": {
        "id": "XSpmFt9_S8qr"
      },
      "source": [
        " # **Linear Regression**"
      ]
    },
    {
      "cell_type": "markdown",
      "metadata": {
        "id": "znxPoNGjvj-D"
      },
      "source": [
        "### **A. CHUẨN BỊ DỮ LIỆU**"
      ]
    },
    {
      "cell_type": "code",
      "execution_count": 2,
      "metadata": {
        "id": "z8JeI30nS8qs",
        "outputId": "53eaa1c8-2176-44af-9e78-7c5e1ca382ee",
        "colab": {
          "base_uri": "https://localhost:8080/"
        }
      },
      "outputs": [
        {
          "output_type": "stream",
          "name": "stdout",
          "text": [
            "Warning: Looks like you're using an outdated `kagglehub` version (installed: 0.3.5), please consider upgrading to the latest version (0.3.6).\n",
            "Downloading from https://www.kaggle.com/api/v1/datasets/download/yasserh/housing-prices-dataset?dataset_version_number=1...\n"
          ]
        },
        {
          "output_type": "stream",
          "name": "stderr",
          "text": [
            "100%|██████████| 4.63k/4.63k [00:00<00:00, 7.91MB/s]"
          ]
        },
        {
          "output_type": "stream",
          "name": "stdout",
          "text": [
            "Extracting files...\n",
            "Path to dataset files: /root/.cache/kagglehub/datasets/yasserh/housing-prices-dataset/versions/1\n"
          ]
        },
        {
          "output_type": "stream",
          "name": "stderr",
          "text": [
            "\n"
          ]
        }
      ],
      "source": [
        "import kagglehub\n",
        "\n",
        "# Download latest version\n",
        "path = kagglehub.dataset_download(\"yasserh/housing-prices-dataset\")\n",
        "\n",
        "print(\"Path to dataset files:\", path)"
      ]
    },
    {
      "cell_type": "code",
      "source": [
        "mv /root/.cache/kagglehub/datasets/yasserh/housing-prices-dataset/versions/1/Housing.csv /content/"
      ],
      "metadata": {
        "id": "aUNHlikRWGoI"
      },
      "execution_count": 3,
      "outputs": []
    },
    {
      "cell_type": "code",
      "source": [
        "import pandas as pd\n",
        "df = pd.read_csv(\"/content/Housing.csv\")\n",
        "df.head()"
      ],
      "metadata": {
        "id": "0RhIXNCjWbgb",
        "outputId": "1ead17ec-7b4b-46ce-fbb7-42b7d692c387",
        "colab": {
          "base_uri": "https://localhost:8080/",
          "height": 226
        }
      },
      "execution_count": 4,
      "outputs": [
        {
          "output_type": "execute_result",
          "data": {
            "text/plain": [
              "      price  area  bedrooms  bathrooms  stories mainroad guestroom basement  \\\n",
              "0  13300000  7420         4          2        3      yes        no       no   \n",
              "1  12250000  8960         4          4        4      yes        no       no   \n",
              "2  12250000  9960         3          2        2      yes        no      yes   \n",
              "3  12215000  7500         4          2        2      yes        no      yes   \n",
              "4  11410000  7420         4          1        2      yes       yes      yes   \n",
              "\n",
              "  hotwaterheating airconditioning  parking prefarea furnishingstatus  \n",
              "0              no             yes        2      yes        furnished  \n",
              "1              no             yes        3       no        furnished  \n",
              "2              no              no        2      yes   semi-furnished  \n",
              "3              no             yes        3      yes        furnished  \n",
              "4              no             yes        2       no        furnished  "
            ],
            "text/html": [
              "\n",
              "  <div id=\"df-f9149ab2-160f-479e-a5b9-2e91c437ce33\" class=\"colab-df-container\">\n",
              "    <div>\n",
              "<style scoped>\n",
              "    .dataframe tbody tr th:only-of-type {\n",
              "        vertical-align: middle;\n",
              "    }\n",
              "\n",
              "    .dataframe tbody tr th {\n",
              "        vertical-align: top;\n",
              "    }\n",
              "\n",
              "    .dataframe thead th {\n",
              "        text-align: right;\n",
              "    }\n",
              "</style>\n",
              "<table border=\"1\" class=\"dataframe\">\n",
              "  <thead>\n",
              "    <tr style=\"text-align: right;\">\n",
              "      <th></th>\n",
              "      <th>price</th>\n",
              "      <th>area</th>\n",
              "      <th>bedrooms</th>\n",
              "      <th>bathrooms</th>\n",
              "      <th>stories</th>\n",
              "      <th>mainroad</th>\n",
              "      <th>guestroom</th>\n",
              "      <th>basement</th>\n",
              "      <th>hotwaterheating</th>\n",
              "      <th>airconditioning</th>\n",
              "      <th>parking</th>\n",
              "      <th>prefarea</th>\n",
              "      <th>furnishingstatus</th>\n",
              "    </tr>\n",
              "  </thead>\n",
              "  <tbody>\n",
              "    <tr>\n",
              "      <th>0</th>\n",
              "      <td>13300000</td>\n",
              "      <td>7420</td>\n",
              "      <td>4</td>\n",
              "      <td>2</td>\n",
              "      <td>3</td>\n",
              "      <td>yes</td>\n",
              "      <td>no</td>\n",
              "      <td>no</td>\n",
              "      <td>no</td>\n",
              "      <td>yes</td>\n",
              "      <td>2</td>\n",
              "      <td>yes</td>\n",
              "      <td>furnished</td>\n",
              "    </tr>\n",
              "    <tr>\n",
              "      <th>1</th>\n",
              "      <td>12250000</td>\n",
              "      <td>8960</td>\n",
              "      <td>4</td>\n",
              "      <td>4</td>\n",
              "      <td>4</td>\n",
              "      <td>yes</td>\n",
              "      <td>no</td>\n",
              "      <td>no</td>\n",
              "      <td>no</td>\n",
              "      <td>yes</td>\n",
              "      <td>3</td>\n",
              "      <td>no</td>\n",
              "      <td>furnished</td>\n",
              "    </tr>\n",
              "    <tr>\n",
              "      <th>2</th>\n",
              "      <td>12250000</td>\n",
              "      <td>9960</td>\n",
              "      <td>3</td>\n",
              "      <td>2</td>\n",
              "      <td>2</td>\n",
              "      <td>yes</td>\n",
              "      <td>no</td>\n",
              "      <td>yes</td>\n",
              "      <td>no</td>\n",
              "      <td>no</td>\n",
              "      <td>2</td>\n",
              "      <td>yes</td>\n",
              "      <td>semi-furnished</td>\n",
              "    </tr>\n",
              "    <tr>\n",
              "      <th>3</th>\n",
              "      <td>12215000</td>\n",
              "      <td>7500</td>\n",
              "      <td>4</td>\n",
              "      <td>2</td>\n",
              "      <td>2</td>\n",
              "      <td>yes</td>\n",
              "      <td>no</td>\n",
              "      <td>yes</td>\n",
              "      <td>no</td>\n",
              "      <td>yes</td>\n",
              "      <td>3</td>\n",
              "      <td>yes</td>\n",
              "      <td>furnished</td>\n",
              "    </tr>\n",
              "    <tr>\n",
              "      <th>4</th>\n",
              "      <td>11410000</td>\n",
              "      <td>7420</td>\n",
              "      <td>4</td>\n",
              "      <td>1</td>\n",
              "      <td>2</td>\n",
              "      <td>yes</td>\n",
              "      <td>yes</td>\n",
              "      <td>yes</td>\n",
              "      <td>no</td>\n",
              "      <td>yes</td>\n",
              "      <td>2</td>\n",
              "      <td>no</td>\n",
              "      <td>furnished</td>\n",
              "    </tr>\n",
              "  </tbody>\n",
              "</table>\n",
              "</div>\n",
              "    <div class=\"colab-df-buttons\">\n",
              "\n",
              "  <div class=\"colab-df-container\">\n",
              "    <button class=\"colab-df-convert\" onclick=\"convertToInteractive('df-f9149ab2-160f-479e-a5b9-2e91c437ce33')\"\n",
              "            title=\"Convert this dataframe to an interactive table.\"\n",
              "            style=\"display:none;\">\n",
              "\n",
              "  <svg xmlns=\"http://www.w3.org/2000/svg\" height=\"24px\" viewBox=\"0 -960 960 960\">\n",
              "    <path d=\"M120-120v-720h720v720H120Zm60-500h600v-160H180v160Zm220 220h160v-160H400v160Zm0 220h160v-160H400v160ZM180-400h160v-160H180v160Zm440 0h160v-160H620v160ZM180-180h160v-160H180v160Zm440 0h160v-160H620v160Z\"/>\n",
              "  </svg>\n",
              "    </button>\n",
              "\n",
              "  <style>\n",
              "    .colab-df-container {\n",
              "      display:flex;\n",
              "      gap: 12px;\n",
              "    }\n",
              "\n",
              "    .colab-df-convert {\n",
              "      background-color: #E8F0FE;\n",
              "      border: none;\n",
              "      border-radius: 50%;\n",
              "      cursor: pointer;\n",
              "      display: none;\n",
              "      fill: #1967D2;\n",
              "      height: 32px;\n",
              "      padding: 0 0 0 0;\n",
              "      width: 32px;\n",
              "    }\n",
              "\n",
              "    .colab-df-convert:hover {\n",
              "      background-color: #E2EBFA;\n",
              "      box-shadow: 0px 1px 2px rgba(60, 64, 67, 0.3), 0px 1px 3px 1px rgba(60, 64, 67, 0.15);\n",
              "      fill: #174EA6;\n",
              "    }\n",
              "\n",
              "    .colab-df-buttons div {\n",
              "      margin-bottom: 4px;\n",
              "    }\n",
              "\n",
              "    [theme=dark] .colab-df-convert {\n",
              "      background-color: #3B4455;\n",
              "      fill: #D2E3FC;\n",
              "    }\n",
              "\n",
              "    [theme=dark] .colab-df-convert:hover {\n",
              "      background-color: #434B5C;\n",
              "      box-shadow: 0px 1px 3px 1px rgba(0, 0, 0, 0.15);\n",
              "      filter: drop-shadow(0px 1px 2px rgba(0, 0, 0, 0.3));\n",
              "      fill: #FFFFFF;\n",
              "    }\n",
              "  </style>\n",
              "\n",
              "    <script>\n",
              "      const buttonEl =\n",
              "        document.querySelector('#df-f9149ab2-160f-479e-a5b9-2e91c437ce33 button.colab-df-convert');\n",
              "      buttonEl.style.display =\n",
              "        google.colab.kernel.accessAllowed ? 'block' : 'none';\n",
              "\n",
              "      async function convertToInteractive(key) {\n",
              "        const element = document.querySelector('#df-f9149ab2-160f-479e-a5b9-2e91c437ce33');\n",
              "        const dataTable =\n",
              "          await google.colab.kernel.invokeFunction('convertToInteractive',\n",
              "                                                    [key], {});\n",
              "        if (!dataTable) return;\n",
              "\n",
              "        const docLinkHtml = 'Like what you see? Visit the ' +\n",
              "          '<a target=\"_blank\" href=https://colab.research.google.com/notebooks/data_table.ipynb>data table notebook</a>'\n",
              "          + ' to learn more about interactive tables.';\n",
              "        element.innerHTML = '';\n",
              "        dataTable['output_type'] = 'display_data';\n",
              "        await google.colab.output.renderOutput(dataTable, element);\n",
              "        const docLink = document.createElement('div');\n",
              "        docLink.innerHTML = docLinkHtml;\n",
              "        element.appendChild(docLink);\n",
              "      }\n",
              "    </script>\n",
              "  </div>\n",
              "\n",
              "\n",
              "<div id=\"df-01e7e239-782b-4707-9c5d-2f2e8566f862\">\n",
              "  <button class=\"colab-df-quickchart\" onclick=\"quickchart('df-01e7e239-782b-4707-9c5d-2f2e8566f862')\"\n",
              "            title=\"Suggest charts\"\n",
              "            style=\"display:none;\">\n",
              "\n",
              "<svg xmlns=\"http://www.w3.org/2000/svg\" height=\"24px\"viewBox=\"0 0 24 24\"\n",
              "     width=\"24px\">\n",
              "    <g>\n",
              "        <path d=\"M19 3H5c-1.1 0-2 .9-2 2v14c0 1.1.9 2 2 2h14c1.1 0 2-.9 2-2V5c0-1.1-.9-2-2-2zM9 17H7v-7h2v7zm4 0h-2V7h2v10zm4 0h-2v-4h2v4z\"/>\n",
              "    </g>\n",
              "</svg>\n",
              "  </button>\n",
              "\n",
              "<style>\n",
              "  .colab-df-quickchart {\n",
              "      --bg-color: #E8F0FE;\n",
              "      --fill-color: #1967D2;\n",
              "      --hover-bg-color: #E2EBFA;\n",
              "      --hover-fill-color: #174EA6;\n",
              "      --disabled-fill-color: #AAA;\n",
              "      --disabled-bg-color: #DDD;\n",
              "  }\n",
              "\n",
              "  [theme=dark] .colab-df-quickchart {\n",
              "      --bg-color: #3B4455;\n",
              "      --fill-color: #D2E3FC;\n",
              "      --hover-bg-color: #434B5C;\n",
              "      --hover-fill-color: #FFFFFF;\n",
              "      --disabled-bg-color: #3B4455;\n",
              "      --disabled-fill-color: #666;\n",
              "  }\n",
              "\n",
              "  .colab-df-quickchart {\n",
              "    background-color: var(--bg-color);\n",
              "    border: none;\n",
              "    border-radius: 50%;\n",
              "    cursor: pointer;\n",
              "    display: none;\n",
              "    fill: var(--fill-color);\n",
              "    height: 32px;\n",
              "    padding: 0;\n",
              "    width: 32px;\n",
              "  }\n",
              "\n",
              "  .colab-df-quickchart:hover {\n",
              "    background-color: var(--hover-bg-color);\n",
              "    box-shadow: 0 1px 2px rgba(60, 64, 67, 0.3), 0 1px 3px 1px rgba(60, 64, 67, 0.15);\n",
              "    fill: var(--button-hover-fill-color);\n",
              "  }\n",
              "\n",
              "  .colab-df-quickchart-complete:disabled,\n",
              "  .colab-df-quickchart-complete:disabled:hover {\n",
              "    background-color: var(--disabled-bg-color);\n",
              "    fill: var(--disabled-fill-color);\n",
              "    box-shadow: none;\n",
              "  }\n",
              "\n",
              "  .colab-df-spinner {\n",
              "    border: 2px solid var(--fill-color);\n",
              "    border-color: transparent;\n",
              "    border-bottom-color: var(--fill-color);\n",
              "    animation:\n",
              "      spin 1s steps(1) infinite;\n",
              "  }\n",
              "\n",
              "  @keyframes spin {\n",
              "    0% {\n",
              "      border-color: transparent;\n",
              "      border-bottom-color: var(--fill-color);\n",
              "      border-left-color: var(--fill-color);\n",
              "    }\n",
              "    20% {\n",
              "      border-color: transparent;\n",
              "      border-left-color: var(--fill-color);\n",
              "      border-top-color: var(--fill-color);\n",
              "    }\n",
              "    30% {\n",
              "      border-color: transparent;\n",
              "      border-left-color: var(--fill-color);\n",
              "      border-top-color: var(--fill-color);\n",
              "      border-right-color: var(--fill-color);\n",
              "    }\n",
              "    40% {\n",
              "      border-color: transparent;\n",
              "      border-right-color: var(--fill-color);\n",
              "      border-top-color: var(--fill-color);\n",
              "    }\n",
              "    60% {\n",
              "      border-color: transparent;\n",
              "      border-right-color: var(--fill-color);\n",
              "    }\n",
              "    80% {\n",
              "      border-color: transparent;\n",
              "      border-right-color: var(--fill-color);\n",
              "      border-bottom-color: var(--fill-color);\n",
              "    }\n",
              "    90% {\n",
              "      border-color: transparent;\n",
              "      border-bottom-color: var(--fill-color);\n",
              "    }\n",
              "  }\n",
              "</style>\n",
              "\n",
              "  <script>\n",
              "    async function quickchart(key) {\n",
              "      const quickchartButtonEl =\n",
              "        document.querySelector('#' + key + ' button');\n",
              "      quickchartButtonEl.disabled = true;  // To prevent multiple clicks.\n",
              "      quickchartButtonEl.classList.add('colab-df-spinner');\n",
              "      try {\n",
              "        const charts = await google.colab.kernel.invokeFunction(\n",
              "            'suggestCharts', [key], {});\n",
              "      } catch (error) {\n",
              "        console.error('Error during call to suggestCharts:', error);\n",
              "      }\n",
              "      quickchartButtonEl.classList.remove('colab-df-spinner');\n",
              "      quickchartButtonEl.classList.add('colab-df-quickchart-complete');\n",
              "    }\n",
              "    (() => {\n",
              "      let quickchartButtonEl =\n",
              "        document.querySelector('#df-01e7e239-782b-4707-9c5d-2f2e8566f862 button');\n",
              "      quickchartButtonEl.style.display =\n",
              "        google.colab.kernel.accessAllowed ? 'block' : 'none';\n",
              "    })();\n",
              "  </script>\n",
              "</div>\n",
              "\n",
              "    </div>\n",
              "  </div>\n"
            ],
            "application/vnd.google.colaboratory.intrinsic+json": {
              "type": "dataframe",
              "variable_name": "df",
              "summary": "{\n  \"name\": \"df\",\n  \"rows\": 545,\n  \"fields\": [\n    {\n      \"column\": \"price\",\n      \"properties\": {\n        \"dtype\": \"number\",\n        \"std\": 1870439,\n        \"min\": 1750000,\n        \"max\": 13300000,\n        \"num_unique_values\": 219,\n        \"samples\": [\n          3773000,\n          5285000,\n          1820000\n        ],\n        \"semantic_type\": \"\",\n        \"description\": \"\"\n      }\n    },\n    {\n      \"column\": \"area\",\n      \"properties\": {\n        \"dtype\": \"number\",\n        \"std\": 2170,\n        \"min\": 1650,\n        \"max\": 16200,\n        \"num_unique_values\": 284,\n        \"samples\": [\n          6000,\n          2684,\n          5360\n        ],\n        \"semantic_type\": \"\",\n        \"description\": \"\"\n      }\n    },\n    {\n      \"column\": \"bedrooms\",\n      \"properties\": {\n        \"dtype\": \"number\",\n        \"std\": 0,\n        \"min\": 1,\n        \"max\": 6,\n        \"num_unique_values\": 6,\n        \"samples\": [\n          4,\n          3,\n          1\n        ],\n        \"semantic_type\": \"\",\n        \"description\": \"\"\n      }\n    },\n    {\n      \"column\": \"bathrooms\",\n      \"properties\": {\n        \"dtype\": \"number\",\n        \"std\": 0,\n        \"min\": 1,\n        \"max\": 4,\n        \"num_unique_values\": 4,\n        \"samples\": [\n          4,\n          3,\n          2\n        ],\n        \"semantic_type\": \"\",\n        \"description\": \"\"\n      }\n    },\n    {\n      \"column\": \"stories\",\n      \"properties\": {\n        \"dtype\": \"number\",\n        \"std\": 0,\n        \"min\": 1,\n        \"max\": 4,\n        \"num_unique_values\": 4,\n        \"samples\": [\n          4,\n          1,\n          3\n        ],\n        \"semantic_type\": \"\",\n        \"description\": \"\"\n      }\n    },\n    {\n      \"column\": \"mainroad\",\n      \"properties\": {\n        \"dtype\": \"category\",\n        \"num_unique_values\": 2,\n        \"samples\": [\n          \"no\",\n          \"yes\"\n        ],\n        \"semantic_type\": \"\",\n        \"description\": \"\"\n      }\n    },\n    {\n      \"column\": \"guestroom\",\n      \"properties\": {\n        \"dtype\": \"category\",\n        \"num_unique_values\": 2,\n        \"samples\": [\n          \"yes\",\n          \"no\"\n        ],\n        \"semantic_type\": \"\",\n        \"description\": \"\"\n      }\n    },\n    {\n      \"column\": \"basement\",\n      \"properties\": {\n        \"dtype\": \"category\",\n        \"num_unique_values\": 2,\n        \"samples\": [\n          \"yes\",\n          \"no\"\n        ],\n        \"semantic_type\": \"\",\n        \"description\": \"\"\n      }\n    },\n    {\n      \"column\": \"hotwaterheating\",\n      \"properties\": {\n        \"dtype\": \"category\",\n        \"num_unique_values\": 2,\n        \"samples\": [\n          \"yes\",\n          \"no\"\n        ],\n        \"semantic_type\": \"\",\n        \"description\": \"\"\n      }\n    },\n    {\n      \"column\": \"airconditioning\",\n      \"properties\": {\n        \"dtype\": \"category\",\n        \"num_unique_values\": 2,\n        \"samples\": [\n          \"no\",\n          \"yes\"\n        ],\n        \"semantic_type\": \"\",\n        \"description\": \"\"\n      }\n    },\n    {\n      \"column\": \"parking\",\n      \"properties\": {\n        \"dtype\": \"number\",\n        \"std\": 0,\n        \"min\": 0,\n        \"max\": 3,\n        \"num_unique_values\": 4,\n        \"samples\": [\n          3,\n          1\n        ],\n        \"semantic_type\": \"\",\n        \"description\": \"\"\n      }\n    },\n    {\n      \"column\": \"prefarea\",\n      \"properties\": {\n        \"dtype\": \"category\",\n        \"num_unique_values\": 2,\n        \"samples\": [\n          \"no\",\n          \"yes\"\n        ],\n        \"semantic_type\": \"\",\n        \"description\": \"\"\n      }\n    },\n    {\n      \"column\": \"furnishingstatus\",\n      \"properties\": {\n        \"dtype\": \"category\",\n        \"num_unique_values\": 3,\n        \"samples\": [\n          \"furnished\",\n          \"semi-furnished\"\n        ],\n        \"semantic_type\": \"\",\n        \"description\": \"\"\n      }\n    }\n  ]\n}"
            }
          },
          "metadata": {},
          "execution_count": 4
        }
      ]
    },
    {
      "cell_type": "markdown",
      "metadata": {
        "id": "aIphK8ge2T0L"
      },
      "source": [
        "### **B. HUẤN LUYỆN MÔ HÌNH**"
      ]
    },
    {
      "cell_type": "markdown",
      "metadata": {
        "id": "fWpA4LmYS8qt"
      },
      "source": [
        "#### I. ĐỌC VÀ XỬ LÍ DỮ LIỆU"
      ]
    },
    {
      "cell_type": "code",
      "execution_count": 5,
      "metadata": {
        "id": "ykNL9LHm6yam"
      },
      "outputs": [],
      "source": [
        "#dataset\n",
        "import numpy as np\n",
        "import matplotlib.pyplot as plt\n",
        "import random\n",
        "\n",
        "def get_column(data, index):\n",
        "  result = [row[index] for row in data]\n",
        "  return result\n",
        "\n",
        "def prepare_data(file_name_dataset):\n",
        "  data = np.genfromtxt(file_name_dataset, delimiter=',', skip_header=1).tolist()\n",
        "\n",
        "  area_data = get_column(data, 1)\n",
        "\n",
        "  bedrooms_data = get_column(data, 2)\n",
        "\n",
        "  bathrooms_data = get_column(data, 3)\n",
        "\n",
        "  stories_data = get_column(data, 4)\n",
        "\n",
        "  price_data = get_column(data, 0)\n",
        "\n",
        "  X = [area_data, bedrooms_data, bathrooms_data, stories_data]\n",
        "\n",
        "  Y = price_data\n",
        "\n",
        "  return X, Y"
      ]
    },
    {
      "cell_type": "markdown",
      "metadata": {
        "id": "UqTko8X2S8qu"
      },
      "source": [
        "#### II. XÂY DỰNG HÀM"
      ]
    },
    {
      "cell_type": "code",
      "execution_count": 6,
      "metadata": {
        "id": "5pVG-MH5zz6i"
      },
      "outputs": [],
      "source": [
        "def initialize_params():\n",
        "  w1 = random.gauss(mu = 0.0, sigma = 0.01)\n",
        "  w2 = random.gauss(mu = 0.0, sigma = 0.01)\n",
        "  w3 = random.gauss(mu = 0.0, sigma = 0.01)\n",
        "  w4 = random.gauss(mu = 0.0, sigma = 0.01)\n",
        "  b = 0\n",
        "  return w1, w2, w3, w4, b\n",
        "\n",
        "def predict(x1, x2, x3, x4, w1, w2, w3, w4, b):\n",
        "  result = w1*x1 + w2*x2 + w3*x3 + w4*x4 + b\n",
        "  return result\n",
        "\n",
        "def compute_loss_mse(y, y_hat):\n",
        "  loss = (y - y_hat)**2\n",
        "  return loss\n",
        "\n",
        "def compute_gradient_wi(xi, y, y_hat):\n",
        "  dl_dwi = 2*xi*(y_hat - y)\n",
        "  return dl_dwi\n",
        "\n",
        "def compute_gradient_b(y, y_hat):\n",
        "  dl_db = 2*(y_hat- y)\n",
        "  return dl_db\n",
        "\n",
        "def update_weight_wi(wi, dl_dwi, lr):\n",
        "  wi_new = wi - lr*dl_dwi\n",
        "  return wi_new\n",
        "\n",
        "def update_weight_b(b, dl_db, lr):\n",
        "  b_new = b - lr*dl_db\n",
        "  return b_new"
      ]
    },
    {
      "cell_type": "markdown",
      "metadata": {
        "id": "O9TJ2QVtS8qu"
      },
      "source": [
        "#### III. KHAI TRIỂN LINEAR REGRESSION"
      ]
    },
    {
      "cell_type": "code",
      "execution_count": 7,
      "metadata": {
        "id": "c5c7W3aM3qgf"
      },
      "outputs": [],
      "source": [
        "#n-samples\n",
        "def implement_linear_regression_nsamples(X_data, Y_data, epoch_max = 50, lr = 1e-5):\n",
        "  # Scale features using Min-Max Scaling\n",
        "  losses = []\n",
        "\n",
        "  w1, w2, w3, w4, b = initialize_params()\n",
        "  N = len(Y_data)\n",
        "  for epoch in range(epoch_max):\n",
        "    loss_total = 0.0\n",
        "    dw1_total = 0.0\n",
        "    dw2_total = 0.0\n",
        "    dw3_total = 0.0\n",
        "    dw4_total = 0.0\n",
        "\n",
        "    db_total = 0.0\n",
        "    for i in range(N):\n",
        "      #get a sample\n",
        "      x1 = X_data[0][i]\n",
        "      x2 = X_data[1][i]\n",
        "      x3 = X_data[2][i]\n",
        "      x4 = X_data[3][i]\n",
        "\n",
        "      y = Y_data[i]\n",
        "\n",
        "      #compute output\n",
        "      y_hat = predict(x1, x2, x3, x4,  w1, w2, w3, w4, b)\n",
        "\n",
        "      #compute loss\n",
        "      loss = compute_loss_mse(y, y_hat)\n",
        "\n",
        "      #accumulate loss\n",
        "      loss_total += loss\n",
        "\n",
        "      #compute gradient w1, w2, w3, w4, b\n",
        "      dl_dw1 = compute_gradient_wi(x1, y, y_hat)\n",
        "      dl_dw2 = compute_gradient_wi(x2, y, y_hat)\n",
        "      dl_dw3 = compute_gradient_wi(x3, y, y_hat)\n",
        "      dl_dw4 = compute_gradient_wi(x4, y, y_hat)\n",
        "\n",
        "      dl_db = compute_gradient_b(y, y_hat)\n",
        "\n",
        "      #accumulate gradient\n",
        "      dw1_total += dl_dw1\n",
        "      dw2_total += dl_dw2\n",
        "      dw3_total += dl_dw3\n",
        "      dw4_total += dl_dw4\n",
        "\n",
        "      db_total += dl_db\n",
        "\n",
        "    #after processing n samples - update parameters\n",
        "    w1 -= lr * (dw1_total / N)\n",
        "    w2 -= lr * (dw2_total / N)\n",
        "    w3 -= lr * (dw3_total / N)\n",
        "    w4 -= lr * (dw4_total / N)\n",
        "\n",
        "    b -= lr * (db_total / N)\n",
        "\n",
        "    # Ghi lại loss trung bình của epoch\n",
        "    losses.append(loss_total / N)\n",
        "  return w1, w2, w3, w4, b, losses"
      ]
    },
    {
      "cell_type": "markdown",
      "metadata": {
        "id": "__wI9ciEXklL"
      },
      "source": [
        "#### IV. HUẤN LUYỆN MÔ HÌNH ( TRƯỚC KHI CHUẨN HÓA DỮ LIỆU )"
      ]
    },
    {
      "cell_type": "code",
      "source": [
        "X,Y=prepare_data(\"/content/Housing.csv\")"
      ],
      "metadata": {
        "id": "EdbX3zD8XRG0"
      },
      "execution_count": 10,
      "outputs": []
    },
    {
      "cell_type": "code",
      "execution_count": 22,
      "metadata": {
        "id": "w125clJXS8qv",
        "outputId": "72eff956-ac36-48ac-ad77-4285971d6394",
        "colab": {
          "base_uri": "https://localhost:8080/",
          "height": 502
        }
      },
      "outputs": [
        {
          "output_type": "stream",
          "name": "stdout",
          "text": [
            "[26213392457221.125, 8.891715435814357e+18, 3.457551124221088e+24, 1.3444722069985744e+30, 5.227993601397787e+35, 2.0329105320274812e+41, 7.904992902292949e+46, 3.0738643831502043e+52, 1.1952752346252763e+58, 4.6478396846003584e+63, 1.8073171022001746e+69, 7.027770597871022e+74, 2.7327556141738996e+80, 1.062634749213544e+86, 4.132065832668601e+91, 1.6067579248790519e+97, 6.247894234285034e+102, 2.4294999114910643e+108, 9.447134664261066e+113, 3.673527747111893e+119, 1.4284549324624757e+125, 5.554561267927225e+130, 2.1598966952335408e+136, 8.39877986586982e+141, 3.265873936980729e+147, 1.2699383413528025e+153, 4.938167920617513e+158, 1.920211526666652e+164, 7.466761694653772e+169, 2.903457740488163e+175, 1.1290124414760117e+181, 4.390176151808968e+186, 1.7071243801985733e+192, 6.638170197948742e+197, 2.581259109650178e+203, 1.0037251821610346e+209, 3.902995392976012e+214, 1.5176836556789668e+220, 5.901528049098655e+225, 2.2948150745365328e+231, 8.923411330942378e+236, 3.4698774060159417e+242, 1.3492652939835311e+248, 5.24663156799751e+253, 2.0401579239496845e+259, 7.933174458147283e+264, 3.084822809283301e+270, 1.1995364295690621e+276, 4.664409383687065e+281, 1.8137602462348036e+287]\n"
          ]
        },
        {
          "output_type": "display_data",
          "data": {
            "text/plain": [
              "<Figure size 640x480 with 1 Axes>"
            ],
            "image/png": "[encoded data removed]"
          },
          "metadata": {}
        }
      ],
      "source": [
        "(w1, w2, w3, w4, b, losses) = implement_linear_regression_nsamples(X, Y)\n",
        "\n",
        "print(losses)\n",
        "plt.plot(losses[:100])\n",
        "plt.xlabel(\"#iteration\")\n",
        "plt.ylabel(\"Loss\")\n",
        "plt.show()"
      ]
    },
    {
      "cell_type": "code",
      "execution_count": null,
      "metadata": {
        "id": "PKynfjQLQUiH"
      },
      "outputs": [],
      "source": []
    },
    {
      "cell_type": "markdown",
      "metadata": {
        "id": "LiGJngoDFXUq"
      },
      "source": [
        "####  V. HUẤN LUYỆN MÔ HÌNH ( SAU KHI CHUẨN HÓA DỮ LIỆU )"
      ]
    },
    {
      "cell_type": "code",
      "execution_count": 16,
      "metadata": {
        "id": "6L4-RrbX9vWI"
      },
      "outputs": [],
      "source": [
        "def min_max_scaling(data1, data2, data3, data4):\n",
        "    # Calculate max and min values for each dataset\n",
        "    max_data_1 = max(data1)\n",
        "    max_data_2 = max(data2)\n",
        "    max_data_3 = max(data3)\n",
        "    max_data_4 = max(data4)\n",
        "    print(max_data_1, max_data_2, max_data_3, max_data_4)\n",
        "    min_data_1 = min(data1)\n",
        "    min_data_2 = min(data2)\n",
        "    min_data_3 = min(data3)\n",
        "    min_data_4 = min(data4)\n",
        "\n",
        "    # Normalize data1\n",
        "    data1_normalized = [(x - min_data_1) / (max_data_1 - min_data_1) for x in data1]\n",
        "\n",
        "    # Normalize data2\n",
        "    data2_normalized = [(x - min_data_2) / (max_data_2 - min_data_2) for x in data2]\n",
        "\n",
        "    # Normalize data3\n",
        "    data3_normalized = [(x - min_data_3) / (max_data_3 - min_data_3) for x in data3]\n",
        "\n",
        "    # Normalize data4\n",
        "    data4_normalized = [(x - min_data_4) / (max_data_4 - min_data_4) for x in data4]\n",
        "\n",
        "\n",
        "    # Return normalized data and the min/max values\n",
        "    return [data1_normalized, data2_normalized, data3_normalized, data4_normalized]\n"
      ]
    },
    {
      "cell_type": "code",
      "source": [
        "def min_max_scaling_Y(Y):\n",
        "    # Calculate max and min values for each dataset\n",
        "    max_price = max(Y)\n",
        "    min_price = min(Y)\n",
        "    Y_normalized = [(y - min_price) / (max_price - min_price) for y in Y]\n",
        "    return Y_normalized"
      ],
      "metadata": {
        "id": "N5Kgd1P0YOt7"
      },
      "execution_count": 18,
      "outputs": []
    },
    {
      "cell_type": "code",
      "source": [
        "#X_normalized & Y_normalized la dataset sau khi duoc chuan hoa\n",
        "X_normalized = min_max_scaling(X[0], X[1], X[2], X[3])\n",
        "Y_normalized = min_max_scaling_Y(Y)"
      ],
      "metadata": {
        "id": "mw8wZtEmX5Eq",
        "outputId": "bc1d6dea-b3a5-4dc5-9cea-74c2224ac4ea",
        "colab": {
          "base_uri": "https://localhost:8080/"
        }
      },
      "execution_count": 19,
      "outputs": [
        {
          "output_type": "stream",
          "name": "stdout",
          "text": [
            "16200.0 6.0 4.0 4.0\n"
          ]
        }
      ]
    },
    {
      "cell_type": "code",
      "source": [
        "(w1, w2, w3, w4, b, losses) = implement_linear_regression_nsamples(X_normalized,Y_normalized, epoch_max = 1000, lr = 1e-1)\n",
        "print(losses)\n",
        "plt.plot(losses)\n",
        "plt.xlabel(\"#epoch\")\n",
        "plt.ylabel(\"MSE loss\")\n",
        "plt.show()"
      ],
      "metadata": {
        "id": "6MkKCiqXX1m7",
        "outputId": "8a40c190-23a4-44ea-8982-5869b8838ad6",
        "colab": {
          "base_uri": "https://localhost:8080/",
          "height": 486
        }
      },
      "execution_count": 20,
      "outputs": [
        {
          "output_type": "stream",
          "name": "stdout",
          "text": [
            "[0.09357085455814049, 0.060533308635234206, 0.042455634396170124, 0.03253701903361543, 0.0270689008652603, 0.024028942714475063, 0.02231431699416174, 0.02132361135782344, 0.020728839270651313, 0.020351115952586377, 0.020092863681237392, 0.019900842900085702, 0.01974599282706741, 0.019612438387055026, 0.01949149559751601, 0.019378402642026456, 0.01927053727883536, 0.019166444757819288, 0.01906530771340529, 0.018966657070461024, 0.018870214376779167, 0.018775805804014535, 0.018683315230571512, 0.018592658636800742, 0.018503770122590416, 0.01841659426335932, 0.018331081923040032, 0.01824718795277861, 0.018164869918507378, 0.018084087390130794, 0.018004801537504736, 0.017926974894238928, 0.017850571213522636, 0.017775555374624004, 0.01770189331749853, 0.017629551993186776, 0.017558499323268455, 0.017488704164686855, 0.017420136277919666, 0.017352766297379234, 0.017286565703419868, 0.017221506795600274, 0.01715756266699688, 0.017094707179445483, 0.01703291493963175, 0.016972161275977202, 0.016912422216280514, 0.016853674466081946, 0.01679589538772272, 0.016739062980075606, 0.016683155858922705, 0.01662815323795977, 0.016574034910405846, 0.016520781231198964, 0.01646837309975867, 0.016416791943296895, 0.016366019700660105, 0.016316038806684818, 0.016266832177050338, 0.016218383193612913, 0.01617067569020529, 0.016123693938887084, 0.0160774226366313, 0.016031846892432963, 0.015986952214826444, 0.015942724499797913, 0.015899150019080866, 0.015856215408821657, 0.0158139076586039, 0.015772214100819443, 0.015731122400375573, 0.015690620544726634, 0.015650696834221028, 0.015611339872751817, 0.015572538558702774, 0.015534282076179101, 0.015496559886514568, 0.015459361720045577, 0.015422677568144222, 0.015386497675501286, 0.015350812532651912, 0.015315612868735371, 0.015280889644482433, 0.015246634045421915, 0.015212837475300193, 0.015179491549706754, 0.015146588089898607, 0.015114119116817976, 0.015082076845296655, 0.015050453678440937, 0.01501924220219173, 0.014988435180053881, 0.0149580255479897, 0.014928006409470857, 0.01489837103068431, 0.014869112835886513, 0.014840225402902224, 0.01481170245876211, 0.014783537875475518, 0.014755725665934135, 0.01472825997994173, 0.014701135100366424, 0.014674345439411771, 0.014647885535002299, 0.014621750047280177, 0.014595933755209619, 0.014570431553285369, 0.01454523844834187, 0.014520349556460308, 0.014495760099969859, 0.014471465404540924, 0.014447460896366419, 0.014423742099429327, 0.014400304632853049, 0.014377144208332375, 0.014354256627642158, 0.014331637780221609, 0.014309283640831583, 0.014287190267282394, 0.014265353798230492, 0.014243770451041048, 0.01422243651971515, 0.014201348372878779, 0.01418050245183259, 0.014159895268659378, 0.014139523404388564, 0.014119383507215045, 0.014099472290771369, 0.014079786532450855, 0.014060323071780713, 0.014041078808843296, 0.014022050702743772, 0.014003235770123185, 0.013984631083715213, 0.013966233770945203, 0.013948041012570534, 0.013930050041360408, 0.013912258140814456, 0.013894662643918376, 0.013877260931936204, 0.013860050433237002, 0.013843028622155992, 0.01382619301788831, 0.013809541183414794, 0.013793070724458312, 0.013776779288470549, 0.013760664563647152, 0.013744724277971434, 0.013728956198284986, 0.013713358129385022, 0.013697927913146779, 0.013682663427671054, 0.013667562586455767, 0.013652623337590411, 0.013637843662973506, 0.013623221577551631, 0.013608755128579656, 0.01359444239490162, 0.013580281486251433, 0.01356627054257281, 0.013552407733358087, 0.013538691257005004, 0.01352511934019117, 0.01351169023726545, 0.013498402229655973, 0.013485253625294319, 0.013472242758054764, 0.013459367987209085, 0.013446627696895875, 0.01343402029560376, 0.013421544215668544, 0.013409197912783801, 0.013396979865524222, 0.013384888574881487, 0.013372922563812442, 0.013361080376798947, 0.013349360579419187, 0.013337761757930226, 0.013326282518861185, 0.013314921488616835, 0.013303677313091485, 0.013292548657292689, 0.013281534204974386, 0.013270632658279428, 0.013259842737391026, 0.013249163180193037, 0.01323859274193863, 0.013228130194927148, 0.013217774328189037, 0.013207523947178626, 0.013197377873474211, 0.01318733494448556, 0.01317739401316862, 0.013167553947746914, 0.013157813631439738, 0.013148171962197005, 0.013138627852440066, 0.013129180228808969, 0.01311982803191558, 0.013110570216102487, 0.013101405749207422, 0.0130923336123334, 0.013083352799623953, 0.013074462318043599, 0.013065661187163341, 0.013056948438951013, 0.013048323117566443, 0.013039784279161061, 0.013031330991682216, 0.013022962334681535, 0.013014677399127924, 0.013006475287224357, 0.012998355112228762, 0.012990315998278792, 0.012982357080220613, 0.012974477503440931, 0.012966676423703015, 0.01295895300698591, 0.01295130642932747, 0.012943735876669997, 0.012936240544709904, 0.012928819638749828, 0.01292147237355422, 0.012914197973207793, 0.012906995670976666, 0.012899864709172598, 0.012892804339019872, 0.012885813820524644, 0.012878892422347302, 0.012872039421676905, 0.012865254104108412, 0.01285853576352212, 0.012851883701965633, 0.01284529722953792, 0.012838775664275671, 0.012832318332041962, 0.012825924566416643, 0.0128195937085893, 0.012813325107253873, 0.01280711811850524, 0.012800972105737952, 0.012794886439546602, 0.012788860497628137, 0.012782893664685815, 0.01277698533233503, 0.012771134899010807, 0.012765341769876861, 0.012759605356736354, 0.012753925077944102, 0.012748300358320502, 0.012742730629066851, 0.012737215327682043, 0.01273175389788085, 0.012726345789513514, 0.012720990458486741, 0.012715687366685952, 0.012710435981898959, 0.012705235777740822, 0.01270008623357992, 0.012694986834465315, 0.012689937071055432, 0.012684936439547408, 0.01267998444160832, 0.012675080584306758, 0.012670224380046126, 0.012665415346498543, 0.01266065300654011, 0.012655936888186985, 0.012651266524532485, 0.012646641453685286, 0.012642061218708448, 0.012637525367559467, 0.012633033453031184, 0.01262858503269352, 0.01262417966883629, 0.012619816928412735, 0.012615496382983869, 0.012611217608663733, 0.012606980186065452, 0.012602783700247993, 0.012598627740663875, 0.012594511901107426, 0.012590435779663966, 0.012586398978659584, 0.012582401104611762, 0.012578441768180609, 0.012574520584120818, 0.012570637171234281, 0.012566791152323358, 0.012562982154144938, 0.012559209807364913, 0.012555473746513406, 0.012551773609940609, 0.012548109039773294, 0.012544479681871754, 0.012540885185787373, 0.012537325204720945, 0.012533799395481325, 0.012530307418444745, 0.01252684893751468, 0.012523423620082125, 0.012520031136986628, 0.012516671162477701, 0.012513343374176507, 0.012510047453038629, 0.012506783083316597, 0.01250354995252362, 0.012500347751397188, 0.012497176173863506, 0.012494034917002194, 0.012490923681011634, 0.012487842169174498, 0.012484790087823928, 0.012481767146310016, 0.01247877305696686, 0.01247580753507974, 0.012472870298852986, 0.012469961069378201, 0.012467079570602752, 0.01246422552929869, 0.012461398675032147, 0.012458598740133017, 0.012455825459665027, 0.012453078571396175, 0.012450357815769567, 0.012447662935874513, 0.012444993677418064, 0.012442349788696858, 0.012439731020569299, 0.012437137126428029, 0.012434567862172874, 0.01243202298618387, 0.012429502259294874, 0.012427005444767266, 0.012424532308264184, 0.012422082617824709, 0.012419656143838819, 0.012417252659022281, 0.012414871938391895, 0.012412513759241262, 0.012410177901116402, 0.012407864145792145, 0.01240557227724843, 0.01240330208164699, 0.012401053347308384, 0.012398825864689171, 0.012396619426359412, 0.012394433826980515, 0.012392268863283052, 0.012390124334045165, 0.012388000040070988, 0.01238589578416945, 0.012383811371133185, 0.0123817466077178, 0.012379701302621322, 0.012377675266463922, 0.012375668311767783, 0.012373680252937173, 0.012371710906238956, 0.012369760089783112, 0.01236782762350345, 0.012365913329138717, 0.01236401703021386, 0.012362138552021323, 0.012360277721602754, 0.012358434367730844, 0.012356608320891407, 0.012354799413265543, 0.012353007478712052, 0.01235123235275023, 0.012349473872542474, 0.012347731876877365, 0.012346006206152959, 0.012344296702360001, 0.01234260320906564, 0.012340925571396977, 0.01233926363602516, 0.012337617251149397, 0.012335986266481127, 0.01233437053322863, 0.0123327699040815, 0.01233118423319541, 0.01232961337617713, 0.01232805719006957, 0.012326515533336985, 0.01232498826585042, 0.012323475248873401, 0.01232197634504738, 0.012320491418377934, 0.012319020334220597, 0.01231756295926701, 0.012316119161531448, 0.012314688810337133, 0.012313271776302781, 0.01231186793132959, 0.012310477148587991, 0.012309099302504655, 0.012307734268749797, 0.012306381924224421, 0.012305042147047756, 0.012303714816544803, 0.012302399813234196, 0.012301097018815916, 0.012299806316159324, 0.012298527589291149, 0.01229726072338391, 0.01229600560474409, 0.01229476212080074, 0.01229353016009394, 0.012292309612263639, 0.01229110036803843, 0.012289902319224484, 0.012288715358694607, 0.012287539380377603, 0.012286374279247253, 0.012285219951311944, 0.012284076293604198, 0.012282943204170171, 0.01228182058205947, 0.012280708327314996, 0.012279606340962907, 0.012278514525002577, 0.012277432782396952, 0.012276361017062589, 0.01227529913386019, 0.012274247038584889, 0.012273204637957082, 0.012272171839612824, 0.012271148552094732, 0.01227013468484283, 0.012269130148185441, 0.0122681348533303, 0.012267148712355585, 0.012266171638201344, 0.012265203544660605, 0.012264244346370901, 0.012263293958805743, 0.012262352298266188, 0.012261419281872575, 0.012260494827556251, 0.012259578854051332, 0.012258671280886814, 0.012257772028378456, 0.012256881017620855, 0.01225599817047976, 0.01225512340958424, 0.012254256658318924, 0.012253397840816704, 0.012252546881950899, 0.012251703707328077, 0.012250868243280538, 0.012250040416859244, 0.01224922015582636, 0.012248407388648283, 0.012247602044488647, 0.012246804053201173, 0.012246013345322868, 0.012245229852067253, 0.012244453505317393, 0.012243684237619392, 0.012242921982175713, 0.012242166672838544, 0.012241418244103405, 0.012240676631102664, 0.012239941769599168, 0.012239213595980005, 0.012238492047250244, 0.012237777061026736, 0.012237068575531994, 0.012236366529588302, 0.012235670862611556, 0.012234981514605432, 0.012234298426155484, 0.012233621538423414, 0.01223295079314129, 0.01223228613260585, 0.012231627499672939, 0.01223097483775184, 0.012230328090799915, 0.012229687203316951, 0.012229052120340008, 0.012228422787437857, 0.012227799150705862, 0.012227181156760624, 0.012226568752734854, 0.012225961886272235, 0.012225360505522375, 0.01222476455913576, 0.012224173996258796, 0.012223588766528829, 0.01222300882006937, 0.012222434107485232, 0.012221864579857683, 0.012221300188739853, 0.012220740886151937, 0.012220186624576714, 0.012219637356954782, 0.012219093036680147, 0.012218553617595704, 0.012218019053988796, 0.01221748930058677, 0.012216964312552737, 0.01221644404548109, 0.012215928455393446, 0.012215417498734194, 0.012214911132366554, 0.012214409313568212, 0.012213912000027373, 0.01221341914983868, 0.012212930721499165, 0.012212446673904306, 0.012211966966344046, 0.012211491558498988, 0.01221102041043647, 0.01221055348260674, 0.01221009073583928, 0.012209632131338907, 0.012209177630682253, 0.012208727195813982, 0.012208280789043123, 0.012207838373039686, 0.012207399910830873, 0.012206965365797724, 0.012206534701671498, 0.012206107882530442, 0.012205684872796078, 0.01220526563723008, 0.012204850140930847, 0.012204438349330155, 0.012204030228189885, 0.012203625743598859, 0.012203224861969536, 0.012202827550034928, 0.012202433774845332, 0.01220204350376528, 0.012201656704470501, 0.012201273344944832, 0.012200893393477104, 0.012200516818658368, 0.012200143589378676, 0.012199773674824357, 0.012199407044474963, 0.01219904366810049, 0.01219868351575853, 0.01219832655779144, 0.012197972764823518, 0.012197622107758276, 0.012197274557775716, 0.012196930086329596, 0.012196588665144848, 0.012196250266214693, 0.012195914861798364, 0.012195582424418186, 0.01219525292685721, 0.012194926342156515, 0.012194602643612907, 0.012194281804776145, 0.01219396379944665, 0.012193648601673103, 0.012193336185749833, 0.01219302652621458, 0.012192719597846112, 0.012192415375661712, 0.0121921138349151, 0.012191814951093956, 0.012191518699917686, 0.012191225057335242, 0.012190933999522644, 0.012190645502881153, 0.012190359544034695, 0.012190076099828003, 0.012189795147324262, 0.012189516663803052, 0.012189240626758267, 0.012188967013896043, 0.012188695803132633, 0.012188426972592434, 0.01218816050060589, 0.012187896365707548, 0.012187634546634133, 0.012187375022322396, 0.012187117771907388, 0.012186862774720418, 0.012186610010287187, 0.012186359458325887, 0.01218611109874529, 0.012185864911643007, 0.012185620877303632, 0.012185378976196861, 0.012185139188975735, 0.012184901496474877, 0.012184665879708786, 0.01218443231986997, 0.012184200798327365, 0.012183971296624461, 0.012183743796477844, 0.012183518279775313, 0.012183294728574337, 0.01218307312510033, 0.012182853451745175, 0.012182635691065475, 0.012182419825781023, 0.012182205838773271, 0.012181993713083589, 0.012181783431912006, 0.012181574978615443, 0.012181368336706305, 0.012181163489850957, 0.012180960421868295, 0.012180759116728187, 0.012180559558550031, 0.012180361731601445, 0.012180165620296654, 0.012179971209195185, 0.012179778483000493, 0.012179587426558494, 0.012179398024856323, 0.012179210263020738, 0.012179024126317075, 0.012178839600147717, 0.012178656670050851, 0.01217847532169914, 0.01217829554089844, 0.012178117313586511, 0.012177940625831813, 0.012177765463832167, 0.012177591813913582, 0.012177419662528907, 0.012177248996256836, 0.012177079801800468, 0.012176912065986333, 0.012176745775762927, 0.012176580918199828, 0.012176417480486477, 0.012176255449930845, 0.012176094813958496, 0.012175935560111407, 0.01217577767604686, 0.01217562114953627, 0.012175465968464203, 0.012175312120827222, 0.012175159594732844, 0.012175008378398466, 0.01217485846015036, 0.01217470982842257, 0.012174562471755922, 0.012174416378797005, 0.012174271538297149, 0.012174127939111452, 0.012173985570197748, 0.012173844420615669, 0.01217370447952568, 0.012173565736188083, 0.012173428179962038, 0.012173291800304766, 0.012173156586770446, 0.01217302252900939, 0.012172889616767085, 0.012172757839883332, 0.01217262718829134, 0.012172497652016796, 0.012172369221177039, 0.01217224188598012, 0.012172115636724046, 0.012171990463795865, 0.012171866357670752, 0.012171743308911338, 0.012171621308166751, 0.012171500346171838, 0.012171380413746312, 0.012171261501794069, 0.012171143601302262, 0.01217102670334052, 0.012170910799060243, 0.012170795879693809, 0.01217068193655378, 0.012170568961032142, 0.012170456944599535, 0.01217034587880464, 0.012170235755273245, 0.012170126565707639, 0.012170018301885919, 0.012169910955661114, 0.012169804518960721, 0.012169698983785712, 0.01216959434221015, 0.012169490586380257, 0.012169387708513819, 0.012169285700899535, 0.01216918455589627, 0.012169084265932622, 0.01216898482350592, 0.01216888622118179, 0.012168788451593521, 0.012168691507441392, 0.012168595381491957, 0.012168500066577558, 0.01216840555559565, 0.012168311841508106, 0.012168218917340866, 0.012168126776182932, 0.01216803541118616, 0.012167944815564477, 0.01216785498259335, 0.012167765905609142, 0.012167677578008674, 0.0121675899932485, 0.012167503144844487, 0.012167417026371148, 0.012167331631461161, 0.012167246953804861, 0.012167162987149567, 0.01216707972529914, 0.012166997162113474, 0.012166915291507907, 0.01216683410745276, 0.01216675360397281, 0.0121666737751467, 0.012166594615106595, 0.012166516118037525, 0.012166438278176987, 0.012166361089814408, 0.012166284547290724, 0.012166208644997782, 0.012166133377378006, 0.012166058738923841, 0.012165984724177252, 0.012165911327729387, 0.012165838544220011, 0.01216576636833707, 0.012165694794816299, 0.012165623818440717, 0.012165553434040207, 0.012165483636491089, 0.012165414420715696, 0.01216534578168189, 0.012165277714402721, 0.012165210213935972, 0.012165143275383681, 0.012165076893891881, 0.012165011064649938, 0.012164945782890601, 0.012164881043888933, 0.012164816842962587, 0.012164753175471003, 0.012164690036815131, 0.012164627422437058, 0.012164565327819659, 0.012164503748486146, 0.012164442679999738, 0.01216438211796324, 0.012164322058018812, 0.01216426249584741, 0.012164203427168636, 0.01216414484774017, 0.01216408675335758, 0.012164029139853913, 0.012163972003099346, 0.012163915339000833, 0.012163859143501779, 0.012163803412581723, 0.012163748142256004, 0.012163693328575363, 0.01216363896762573, 0.012163585055527735, 0.01216353158843663, 0.012163478562541748, 0.012163425974066257, 0.012163373819266889, 0.012163322094433647, 0.012163270795889388, 0.012163219919989643, 0.01216316946312223, 0.012163119421706977, 0.01216306979219557, 0.012163020571070944, 0.012162971754847339, 0.012162923340069763, 0.012162875323313853, 0.012162827701185541, 0.012162780470320779, 0.012162733627385302, 0.012162687169074218, 0.01216264109211198, 0.012162595393251863, 0.01216255006927588, 0.012162505116994444, 0.0121624605332461, 0.012162416314897319, 0.012162372458842174, 0.012162328962002155, 0.012162285821325865, 0.01216224303378881, 0.012162200596393143, 0.012162158506167406, 0.01216211676016628, 0.012162075355470413, 0.012162034289186094, 0.012161993558445104, 0.012161953160404354, 0.012161913092245912, 0.01216187335117639, 0.012161833934427086, 0.012161794839253559, 0.012161756062935491, 0.012161717602776375, 0.012161679456103396, 0.012161641620267201, 0.012161604092641583, 0.012161566870623457, 0.012161529951632426, 0.012161493333110831, 0.012161457012523276, 0.012161420987356605, 0.012161385255119663, 0.012161349813343094, 0.01216131465957906, 0.012161279791401249, 0.012161245206404414, 0.012161210902204393, 0.01216117687643786, 0.012161143126762048, 0.012161109650854717, 0.012161076446413833, 0.012161043511157465, 0.012161010842823523, 0.012160978439169728, 0.012160946297973237, 0.012160914417030665, 0.012160882794157763, 0.01216085142718923, 0.012160820313978736, 0.012160789452398577, 0.012160758840339455, 0.012160728475710543, 0.01216069835643911, 0.012160668480470472, 0.012160638845767737, 0.012160609450311746, 0.012160580292100862, 0.012160551369150755, 0.012160522679494397, 0.012160494221181761, 0.01216046599227973, 0.012160437990871943, 0.012160410215058629, 0.012160382662956508, 0.012160355332698543, 0.012160328222433908, 0.01216030133032777, 0.01216027465456115, 0.012160248193330775, 0.012160221944849057, 0.012160195907343766, 0.012160170079057972, 0.012160144458250005, 0.012160119043193123, 0.01216009383217554, 0.01216006882350022, 0.012160044015484804, 0.0121600194064614, 0.012159994994776454, 0.01215997077879072, 0.01215994675687907, 0.012159922927430317, 0.012159899288847201, 0.012159875839546168, 0.012159852577957278, 0.01215982950252412, 0.012159806611703648, 0.012159783903966104, 0.012159761377794785, 0.012159739031686137, 0.012159716864149421, 0.012159694873706745, 0.012159673058892862, 0.012159651418255094, 0.012159629950353268, 0.012159608653759459, 0.01215958752705811, 0.012159566568845682, 0.012159545777730698, 0.012159525152333584, 0.012159504691286552, 0.012159484393233607, 0.012159464256830217, 0.012159444280743404, 0.01215942446365168, 0.012159404804244676, 0.012159385301223336, 0.01215936595329964, 0.012159346759196613, 0.012159327717648128, 0.012159308827398888, 0.01215929008720426, 0.01215927149583031, 0.012159253052053539, 0.012159234754660905, 0.012159216602449669, 0.012159198594227398, 0.012159180728811756, 0.01215916300503045, 0.012159145421721201, 0.012159127977731636, 0.012159110671919122, 0.012159093503150746, 0.012159076470303253, 0.012159059572262921, 0.01215904280792543, 0.01215902617619592, 0.01215900967598874, 0.012158993306227526, 0.012158977065844984, 0.012158960953782905, 0.012158944968991996, 0.012158929110431886, 0.012158913377071054, 0.012158897767886628, 0.012158882281864488, 0.012158866917999, 0.012158851675293101, 0.012158836552758137, 0.01215882154941386, 0.012158806664288214, 0.012158791896417416, 0.012158777244845816, 0.012158762708625828, 0.01215874828681785, 0.012158733978490219, 0.012158719782719155, 0.012158705698588618, 0.012158691725190365, 0.01215867786162368, 0.012158664106995608, 0.012158650460420537, 0.012158636921020446, 0.012158623487924645, 0.012158610160269756, 0.01215859693719974, 0.01215858381786564, 0.012158570801425721, 0.012158557887045302, 0.012158545073896713, 0.012158532361159234, 0.012158519748019007, 0.012158507233669073, 0.012158494817309188, 0.012158482498145837, 0.012158470275392146, 0.012158458148267853, 0.012158446115999266, 0.01215843417781907, 0.012158422332966542, 0.012158410580687114, 0.012158398920232755, 0.01215838735086157, 0.012158375871837865, 0.012158364482432136, 0.012158353181920963, 0.012158341969586983, 0.012158330844718804, 0.012158319806611006, 0.012158308854564034, 0.01215829798788417, 0.012158287205883508, 0.012158276507879878, 0.01215826589319678, 0.01215825536116338, 0.012158244911114356, 0.012158234542390078, 0.012158224254336257, 0.012158214046304143, 0.012158203917650387, 0.01215819386773692, 0.01215818389593107, 0.012158174001605362, 0.012158164184137553, 0.012158154442910624, 0.01215814477731262, 0.012158135186736653, 0.012158125670580994, 0.012158116228248734, 0.012158106859148097, 0.012158097562692042, 0.01215808833829854, 0.01215807918539034, 0.01215807010339492, 0.01215806109174461, 0.012158052149876345, 0.012158043277231759, 0.012158034473257164, 0.012158025737403343, 0.0121580170691257, 0.012158008467884117, 0.012157999933142979, 0.012157991464371042, 0.012157983061041497, 0.012157974722631896, 0.012157966448624054, 0.012157958238504078]\n"
          ]
        },
        {
          "output_type": "display_data",
          "data": {
            "text/plain": [
              "<Figure size 640x480 with 1 Axes>"
            ],
            "image/png": "[encoded data removed]"
          },
          "metadata": {}
        }
      ]
    }
  ],
  "metadata": {
    "colab": {
      "provenance": []
    },
    "kernelspec": {
      "display_name": "Python 3",
      "name": "python3"
    },
    "language_info": {
      "name": "python"
    }
  },
  "nbformat": 4,
  "nbformat_minor": 0
}