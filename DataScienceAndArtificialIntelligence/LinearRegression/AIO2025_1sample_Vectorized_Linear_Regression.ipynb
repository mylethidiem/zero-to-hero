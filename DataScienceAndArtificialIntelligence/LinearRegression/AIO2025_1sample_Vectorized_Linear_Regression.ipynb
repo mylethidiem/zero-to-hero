{
 "cells": [
  {
   "cell_type": "markdown",
   "id": "7151ea1a",
   "metadata": {},
   "source": [
    "## Hstack Vectorization"
   ]
  },
  {
   "cell_type": "markdown",
   "id": "9f076735-8dff-4f2a-b176-b3b3c0f3e696",
   "metadata": {
    "id": "9f076735-8dff-4f2a-b176-b3b3c0f3e696"
   },
   "source": [
    "### Init libraries:\n",
    "- numpy: using for calculate\n",
    "- matplotlib for graph"
   ]
  },
  {
   "cell_type": "code",
   "execution_count": 6,
   "id": "bxwAETxY-oDp",
   "metadata": {
    "colab": {
     "base_uri": "https://localhost:8080/",
     "height": 313
    },
    "id": "bxwAETxY-oDp",
    "outputId": "f6c8a717-b3af-4fa3-f955-d42dd748fef9"
   },
   "outputs": [],
   "source": [
    "import numpy as np\n",
    "import matplotlib.pyplot as plt"
   ]
  },
  {
   "cell_type": "markdown",
   "id": "93432047",
   "metadata": {},
   "source": [
    "### Training function"
   ]
  },
  {
   "cell_type": "code",
   "execution_count": null,
   "id": "64344e59",
   "metadata": {},
   "outputs": [],
   "source": [
    "# Predict using linear function, it will return the prediction values y_hat\n",
    "def predict(X, theta):\n",
    "    return X.dot(theta)\n",
    "\n",
    "# Compute loss using Mean Squared Error\n",
    "def compute_loss(y, y_hat):\n",
    "    loss = (y - y_hat) **2\n",
    "    return loss\n",
    "# Compute gradient\n",
    "def compute_gradient(X, y, y_hat):\n",
    "    return X.dot(y_hat - y)*2\n",
    "\n",
    "# Update theta\n",
    "def update_gradient(theta, gradient, learning_rate=0.001):\n",
    "    return theta - learning_rate * gradient"
   ]
  },
  {
   "cell_type": "markdown",
   "id": "7218ae6d",
   "metadata": {},
   "source": [
    "### Prepare data"
   ]
  },
  {
   "cell_type": "markdown",
   "id": "62f8d801",
   "metadata": {},
   "source": [
    "| Experience | Education | Salary |\n",
    "|-------------|------------|--------|\n",
    "| 3           | 12         | 60     |\n",
    "| 4           | 13         | 55     |\n",
    "| 5           | 14         | 66     |\n",
    "| 6           | 15         | 93     |\n"
   ]
  },
  {
   "cell_type": "code",
   "execution_count": 27,
   "id": "f4802f8a",
   "metadata": {},
   "outputs": [],
   "source": [
    "# Experience and Education\n",
    "X = np.array([[3, 12], [4, 13], [5, 14], [6, 15]])\n",
    "# Salary\n",
    "y = np.array([60, 55, 66, 93])\n",
    "\n",
    "# Test data (record 2 of dataset)\n",
    "X_test = np.array([[1, 4, 13]])"
   ]
  },
  {
   "cell_type": "code",
   "execution_count": 28,
   "id": "d04af442",
   "metadata": {},
   "outputs": [
    {
     "name": "stdout",
     "output_type": "stream",
     "text": [
      "X_bias shape: (4, 3)\n",
      "X_bias:\n",
      " [[ 1.  3. 12.]\n",
      " [ 1.  4. 13.]\n",
      " [ 1.  5. 14.]\n",
      " [ 1.  6. 15.]]\n",
      "Input shape: (4, 3)\n",
      "Output shape: (4,)\n"
     ]
    }
   ],
   "source": [
    "# Add bias term (intercept) to X\n",
    "X_bias = np.c_[np.ones((X.shape[0], 1)), X]\n",
    "print(\"X_bias shape:\", X_bias.shape)\n",
    "print(\"X_bias:\\n\", X_bias)\n",
    "# Print shapes\n",
    "print(f'Input shape: {X_bias.shape}')\n",
    "print(f'Output shape: {y.shape}')"
   ]
  },
  {
   "cell_type": "markdown",
   "id": "47776c3c",
   "metadata": {},
   "source": [
    "### Initialize parameters"
   ]
  },
  {
   "cell_type": "code",
   "execution_count": 38,
   "id": "1daf8c93",
   "metadata": {},
   "outputs": [],
   "source": [
    "# theta initialization theta = [bias, weight1, weight2]\n",
    "theta = np.array([10, 3, 2])"
   ]
  },
  {
   "cell_type": "markdown",
   "id": "3f873834",
   "metadata": {},
   "source": [
    "### Loss before training"
   ]
  },
  {
   "cell_type": "code",
   "execution_count": 39,
   "id": "a9d9fca9",
   "metadata": {},
   "outputs": [
    {
     "name": "stdout",
     "output_type": "stream",
     "text": [
      "Initial theta: [10  3  2]\n",
      "y values (y): [60 55 66 93]\n",
      "Predicted values (y_hat): [48]\n",
      "Loss record 2 of sameple: [ 144   49  324 2025]\n"
     ]
    }
   ],
   "source": [
    "print(\"Initial theta:\", theta)\n",
    "print(\"y values (y):\", y)\n",
    "y_hat = predict(X_test, theta)\n",
    "print(\"Predicted values (y_hat):\", y_hat)\n",
    "loss = compute_loss(y, y_hat)\n",
    "print(\"Loss record 2 of sameple:\", loss)"
   ]
  },
  {
   "cell_type": "markdown",
   "id": "ae2844a9",
   "metadata": {},
   "source": [
    "### Train"
   ]
  },
  {
   "cell_type": "code",
   "execution_count": 40,
   "id": "c2a0fb15",
   "metadata": {},
   "outputs": [
    {
     "name": "stdout",
     "output_type": "stream",
     "text": [
      "Epoch 1/4, Loss: 234.6004982265337, Theta: [10.09833181  3.47050512  3.35549142]\n",
      "Epoch 2/4, Loss: 130.86470802439834, Theta: [10.10382489  3.56374101  3.49816499]\n",
      "Epoch 3/4, Loss: 138.41841820731062, Theta: [10.09861696  3.61319006  3.50074271]\n",
      "Epoch 4/4, Loss: 139.08577029797195, Theta: [10.09220039  3.65739307  3.48719661]\n",
      "Final theta: [10.09220039  3.65739307  3.48719661]\n",
      "Final loss: 139.08577029797195\n"
     ]
    }
   ],
   "source": [
    "epochs = 4\n",
    "lr = 0.001  # Learning rate\n",
    "N = len(y)\n",
    "losses = []\n",
    "\n",
    "for epoch in range(epochs):\n",
    "    epoch_loss = []\n",
    "    for i in range(N):\n",
    "        # Take the i-th sample\n",
    "        X_i = X_bias[i, :]\n",
    "        y_i = y[i]\n",
    "\n",
    "        # Predict\n",
    "        y_hat = predict(X_i, theta)\n",
    "\n",
    "        # Compute  MSE loss\n",
    "        loss = compute_loss(y_i, y_hat)\n",
    "        epoch_loss.append(loss)\n",
    "\n",
    "        # Compute gradient\n",
    "        gradient = compute_gradient(X_i, y_hat=y_hat, y=y_i)\n",
    "\n",
    "        # Update theta\n",
    "        theta = update_gradient(theta, gradient, lr)\n",
    "    mean_loss = (np.sum(epoch_loss)) / len(epoch_loss)\n",
    "    losses.append(mean_loss)\n",
    "    print(f'Epoch {epoch+1}/{epochs}, Loss: {mean_loss}, Theta: {theta}')\n",
    "print(\"Final theta:\", theta)\n",
    "print(\"Final loss:\", losses[-1])"
   ]
  },
  {
   "cell_type": "markdown",
   "id": "55009ec7",
   "metadata": {},
   "source": [
    "### Loss after training"
   ]
  },
  {
   "cell_type": "code",
   "execution_count": 41,
   "id": "c8b15d5b",
   "metadata": {},
   "outputs": [
    {
     "name": "stdout",
     "output_type": "stream",
     "text": [
      "Initial theta: [10.09220039  3.65739307  3.48719661]\n",
      "y values (y): [60 55 66 93]\n",
      "Predicted values (y_hat): [70.05532857]\n",
      "Loss record 2 of sameple: [101.10963271 226.66291844  16.44568983 526.4579469 ]\n"
     ]
    }
   ],
   "source": [
    "print(\"Initial theta:\", theta)\n",
    "print(\"y values (y):\", y)\n",
    "y_hat = predict(X_test, theta)\n",
    "print(\"Predicted values (y_hat):\", y_hat)\n",
    "loss = compute_loss(y, y_hat)\n",
    "print(\"Loss record 2 of sameple:\", loss)"
   ]
  },
  {
   "cell_type": "markdown",
   "id": "bb456556",
   "metadata": {},
   "source": [
    "### Loss visualization"
   ]
  },
  {
   "cell_type": "code",
   "execution_count": 33,
   "id": "478c92a3",
   "metadata": {},
   "outputs": [
    {
     "data": {
      "image/png": "[encoded data removed]",
      "text/plain": [
       "<Figure size 640x480 with 1 Axes>"
      ]
     },
     "metadata": {},
     "output_type": "display_data"
    }
   ],
   "source": [
    "plt.plot(losses)\n",
    "plt.xlabel('Epochs')\n",
    "plt.ylabel('Mean Squared Error Loss')\n",
    "plt.title('Loss over Epochs')\n",
    "plt.show()"
   ]
  },
  {
   "cell_type": "markdown",
   "id": "46f226d9",
   "metadata": {},
   "source": [
    "Conlusion:\n",
    "The loss suddenly decreased after 1 epoch, but the test loss was still quite large, possibly because the training model was not deep enough and the data was small."
   ]
  },
  {
   "cell_type": "markdown",
   "id": "b04f6acf",
   "metadata": {},
   "source": [
    "## Vectorization"
   ]
  },
  {
   "cell_type": "code",
   "execution_count": 8,
   "id": "0bd7dc39",
   "metadata": {},
   "outputs": [
    {
     "name": "stdout",
     "output_type": "stream",
     "text": [
      "[[6.7 9.1]\n",
      " [4.6 5.9]\n",
      " [3.5 4.6]\n",
      " [5.5 6.7]]\n"
     ]
    }
   ],
   "source": [
    "import numpy as np\n",
    "import matplotlib.pyplot as plt\n",
    "\n",
    "data = np.genfromtxt('../data/simple_data.csv', delimiter=',')\n",
    "print(data)"
   ]
  },
  {
   "cell_type": "code",
   "execution_count": 15,
   "id": "7132d97e",
   "metadata": {},
   "outputs": [],
   "source": [
    "def predict(x, theta):\n",
    "    return x.dot(theta)\n",
    "\n",
    "def predict_way2(x, theta):\n",
    "    return theta.T.dot(x)\n",
    "\n",
    "# Mean Square Error\n",
    "def compute_loss(y, y_hat):\n",
    "    return (y_hat - y) ** 2\n",
    "\n",
    "def compute_gradient(x, y, y_hat):\n",
    "    return 2 * x * (y_hat - y)\n",
    "\n",
    "def update_gradient(theta, dtheta, learning_rate=0.01):\n",
    "    return theta - learning_rate * dtheta"
   ]
  },
  {
   "cell_type": "code",
   "execution_count": 52,
   "id": "e7e75bd6",
   "metadata": {},
   "outputs": [
    {
     "name": "stdout",
     "output_type": "stream",
     "text": [
      "data: (4, 2)\n",
      "Input shape: (4,)\n",
      "Output shape: (4,)\n",
      "Input x: [6.7 4.6 3.5 5.5]\n",
      "Input areas shape: (1, 4)\n",
      "Output prices shape: (4,) \n",
      "\n",
      "---- After transform: ---\n",
      "[[1.  1.  1.  1. ]\n",
      " [6.7 4.6 3.5 5.5]]\n",
      "[9.1 5.9 4.6 6.7]\n"
     ]
    }
   ],
   "source": [
    "N = data.shape[0]\n",
    "# Add bias term (intercept) to X\n",
    "x = data[:, 0]\n",
    "y = data[:, 1]\n",
    "\n",
    "theta = np.array([0.049, -0.34])\n",
    "\n",
    "print(\"data:\", data.shape)\n",
    "print(f'Input shape: {x.shape}')\n",
    "print(f'Output shape: {y.shape}')\n",
    "print(f'Input x: {x}')\n",
    "\n",
    "areas = x.reshape(1, N)\n",
    "Y = y.reshape(N,)\n",
    "\n",
    "\n",
    "print(f'Input areas shape: {areas.shape}')\n",
    "print(f'Output prices shape: {Y.shape} \\n')\n",
    "print(\"---- After transform: ---\")\n",
    "X = np.vstack([np.ones((1, N)), areas])\n",
    "print(X)\n",
    "print(Y)"
   ]
  },
  {
   "cell_type": "code",
   "execution_count": 53,
   "id": "29d0c3bc",
   "metadata": {},
   "outputs": [
    {
     "name": "stdout",
     "output_type": "stream",
     "text": [
      "128.34624100000002\n",
      "0.042117054355360214\n",
      "0.017143255451757537\n",
      "0.046668355048423614\n",
      "0.8102642031279953\n",
      "0.15189122342145844\n",
      "0.015167536202538833\n",
      "0.25760117839621605\n",
      "0.587449014693501\n",
      "0.1565668474161118\n",
      "0.015484171012711736\n",
      "0.2621507903721882\n",
      "0.5825573177153622\n",
      "0.15537809860052929\n",
      "0.015010928840951116\n",
      "0.2629915543927167\n",
      "0.5802139181638774\n",
      "0.15412550290299254\n",
      "0.014537462343023595\n",
      "0.2637825444104964\n",
      "0.5779179814546943\n",
      "0.15288291543245522\n",
      "0.014073640908492906\n",
      "0.26457038452603016\n",
      "0.5756377945629113\n",
      "0.1516511707759244\n",
      "0.013619472137557253\n",
      "0.26535566755100237\n",
      "0.5733728429055963\n",
      "0.15043018252466867\n",
      "0.013174841781006079\n",
      "0.2661384020459839\n",
      "0.5711230074744341\n",
      "0.14921985353754552\n",
      "0.012739635262035375\n",
      "0.2669185892522232\n",
      "0.5688881751869697\n",
      "0.14802008742351738\n",
      "0.012313739180280763\n",
      "0.26769623041374296\n",
      "[0.2335058  1.21100306]\n"
     ]
    }
   ],
   "source": [
    "lr = 0.01\n",
    "losses = []\n",
    "epochs = 10\n",
    "\n",
    "for epoch in range(epochs):\n",
    "    epoch_loss = []\n",
    "\n",
    "    for i in range(N):\n",
    "        # for each column\n",
    "        x = X[:, i]\n",
    "        y = Y[i] # each label\n",
    "\n",
    "        # Forward probagation\n",
    "        y_hat = predict(x, theta)\n",
    "\n",
    "        loss = compute_loss(y, y_hat)\n",
    "        epoch_loss.append(loss)\n",
    "        print(loss)\n",
    "\n",
    "        dtheta = compute_gradient(x, y, y_hat)\n",
    "\n",
    "        theta = update_gradient(theta, dtheta, learning_rate=lr)\n",
    "    losses.append(np.sum(epoch_loss) / len(epoch_loss))\n",
    "\n",
    "print(theta)"
   ]
  },
  {
   "cell_type": "code",
   "execution_count": 54,
   "id": "13735a5f",
   "metadata": {},
   "outputs": [
    {
     "name": "stdout",
     "output_type": "stream",
     "text": [
      "[32.113  0.309  0.255  0.254  0.253  0.252  0.252  0.251  0.25   0.249]\n"
     ]
    }
   ],
   "source": [
    "print(np.round(losses, decimals=3))"
   ]
  },
  {
   "cell_type": "code",
   "execution_count": 55,
   "id": "067f091d",
   "metadata": {},
   "outputs": [
    {
     "data": {
      "image/png": "[encoded data removed]",
      "text/plain": [
       "<Figure size 640x480 with 1 Axes>"
      ]
     },
     "metadata": {},
     "output_type": "display_data"
    }
   ],
   "source": [
    "plt.plot(losses)\n",
    "plt.xlabel('epoch')\n",
    "plt.ylabel('loss')\n",
    "plt.title('Loss through each epoch')\n",
    "plt.show()"
   ]
  },
  {
   "cell_type": "code",
   "execution_count": 68,
   "id": "c078e63f",
   "metadata": {},
   "outputs": [
    {
     "name": "stdout",
     "output_type": "stream",
     "text": [
      "b = 0.2335058012216848\n",
      "w = 1.211003060457185\n",
      "x =  [6.7 4.6 3.5 5.5]\n",
      "x_range =  range(2, 8) , y_predict =  [2.65551192 3.86651498 5.07751804 6.2885211  7.49952416 8.71052722]\n"
     ]
    },
    {
     "data": {
      "text/plain": [
       "[]"
      ]
     },
     "execution_count": 68,
     "metadata": {},
     "output_type": "execute_result"
    },
    {
     "data": {
      "image/png": "[encoded data removed]",
      "text/plain": [
       "<Figure size 640x480 with 1 Axes>"
      ]
     },
     "metadata": {},
     "output_type": "display_data"
    }
   ],
   "source": [
    "# Draw the predict line with data\n",
    "# y = w * x + b\n",
    "b, w = theta[0], theta[1]\n",
    "print(f\"b = {b}\")\n",
    "print(f\"w = {w}\")\n",
    "# input x, y into the predict line\n",
    "x = X[1, :]\n",
    "x_range = range(max(0, int(min(x)) - 1), int(max(x)) + 2)\n",
    "print(\"x = \", x)\n",
    "y_predict = w * x_range + b\n",
    "# y_data = [x*w + b for x in x_data]\n",
    "print(\"x_range = \", x_range, \", y_predict = \", y_predict)\n",
    "plt.plot(x_range, y_predict)\n",
    "plt.xlabel(\"area\")\n",
    "plt.ylabel(\"price\")\n",
    "plt.title(\"Predict price\")\n",
    "\n",
    "# we need to put the data into the LR line plot\n",
    "plt.scatter(areas, Y)\n",
    "plt.xlim(3,7)\n",
    "plt.ylim(4,10)\n",
    "plt.plot()\n"
   ]
  },
  {
   "cell_type": "markdown",
   "id": "173b7cde",
   "metadata": {},
   "source": [
    "## Advertising data"
   ]
  },
  {
   "cell_type": "markdown",
   "id": "2673a65b",
   "metadata": {},
   "source": [
    "### 1 sample way 1"
   ]
  },
  {
   "cell_type": "code",
   "execution_count": 2,
   "id": "c1e73e15",
   "metadata": {},
   "outputs": [
    {
     "name": "stdout",
     "output_type": "stream",
     "text": [
      "[[230.1  37.8  69.2  22.1]\n",
      " [ 44.5  39.3  45.1  10.4]\n",
      " [ 17.2  45.9  69.3  12. ]\n",
      " [151.5  41.3  58.5  16.5]\n",
      " [180.8  10.8  58.4  17.9]]\n",
      "(200, 4)\n",
      "data: (200, 4)\n",
      "Input shape: (200, 3)\n",
      "Output shape: (200, 1)\n"
     ]
    }
   ],
   "source": [
    "import numpy as np\n",
    "import matplotlib.pyplot as plt\n",
    "\n",
    "data = np.genfromtxt('../data/advertising.csv', delimiter=',', skip_header=1)\n",
    "print(data[:5, :]) # print first 5 rows\n",
    "print(data.shape)\n",
    "max_col_index = data.shape[1] - 1\n",
    "\n",
    "X = data[:, :max_col_index]\n",
    "y = data[:, max_col_index:]\n",
    "N = data.shape[0]\n",
    "\n",
    "print(\"data:\", data.shape)\n",
    "print(f'Input shape: {X.shape}')\n",
    "print(f'Output shape: {y.shape}')"
   ]
  },
  {
   "cell_type": "code",
   "execution_count": 5,
   "id": "b3986216",
   "metadata": {},
   "outputs": [
    {
     "name": "stdout",
     "output_type": "stream",
     "text": [
      "[[  1.  230.1  37.8  69.2]\n",
      " [  1.   44.5  39.3  45.1]\n",
      " [  1.   17.2  45.9  69.3]\n",
      " [  1.  151.5  41.3  58.5]\n",
      " [  1.  180.8  10.8  58.4]]\n",
      "[[22.1]\n",
      " [10.4]\n",
      " [12. ]\n",
      " [16.5]\n",
      " [17.9]]\n"
     ]
    }
   ],
   "source": [
    "# Add bias\n",
    "X_bias = np.hstack(\n",
    "    (np.ones((N, 1)), X)\n",
    ")\n",
    "print(X_bias[:5, :])\n",
    "print(y[:5])"
   ]
  },
  {
   "cell_type": "code",
   "execution_count": 60,
   "id": "6200435b",
   "metadata": {},
   "outputs": [
    {
     "name": "stdout",
     "output_type": "stream",
     "text": [
      "Final thetas =  [[-0.32345359]\n",
      " [ 0.07601436]\n",
      " [ 0.1642109 ]\n",
      " [ 0.01982714]]\n"
     ]
    }
   ],
   "source": [
    "number_of_parameters = max_col_index + 1 # features + bias\n",
    "epochs = 50\n",
    "learning_rate = 0.00001\n",
    "thetas = np.random.randn(number_of_parameters, 1) # \"standard normal\" distribution\n",
    "# print(\"thetas = \", thetas)\n",
    "thetas_logs = [thetas]\n",
    "losses = []\n",
    "all_epoch_losses = []\n",
    "\n",
    "for epoch in range(epochs):\n",
    "    epoch_losses = []\n",
    "    for i in range(N):\n",
    "        # xi = X_bias[i, ] # shape (4, )\n",
    "        xi = np.reshape(X_bias[i], (4, 1))\n",
    "        # xi = np.reshape(xi, (4, 1)) # transpose xi\n",
    "        yi = y[i] # shape (1,)\n",
    "        yi = y[i:i+1] # shape (1,1)\n",
    "\n",
    "        y_hat = xi.T.dot(thetas)\n",
    "\n",
    "        # loss = (y_hat - yi) ** 2\n",
    "        loss = (y_hat - yi)*(y_hat - yi)\n",
    "        # print(loss.shape) #(1,1)\n",
    "        epoch_losses.append(loss[0][0]) # append a scalar number so we get the first and only number in 2D array loss\n",
    "        all_epoch_losses.append(loss[0][0])\n",
    "\n",
    "        dthetas = 2 * xi * (y_hat - yi)\n",
    "\n",
    "        thetas = thetas - learning_rate * dthetas\n",
    "    losses.append(np.sum(epoch_losses) / len(epoch_losses))\n",
    "    thetas_logs.append(thetas)\n",
    "\n",
    "print(\"Final thetas = \", thetas)"
   ]
  },
  {
   "cell_type": "code",
   "execution_count": 61,
   "id": "c8b87d08",
   "metadata": {},
   "outputs": [
    {
     "data": {
      "image/png": "[encoded data removed]",
      "text/plain": [
       "<Figure size 640x480 with 1 Axes>"
      ]
     },
     "metadata": {},
     "output_type": "display_data"
    }
   ],
   "source": [
    "x_axis = list(range(500))\n",
    "plt.plot(x_axis, all_epoch_losses[:500], color=\"r\")\n",
    "plt.show()"
   ]
  },
  {
   "cell_type": "markdown",
   "id": "c09a44d7",
   "metadata": {},
   "source": [
    "### 1 sample way 2"
   ]
  },
  {
   "cell_type": "code",
   "execution_count": null,
   "id": "5290c10b",
   "metadata": {},
   "outputs": [],
   "source": [
    "import numpy as np\n",
    "import matplotlib.pyplot as plt\n",
    "\n",
    "data = np.genfromtxt('../data/advertising.csv', delimiter=',', skip_header=1)\n",
    "print(data[:5, :]) # print first 5 rows\n",
    "print(data.shape)\n",
    "max_col_index = data.shape[1] - 1\n",
    "\n",
    "print(\"data:\", data.shape)"
   ]
  },
  {
   "cell_type": "code",
   "execution_count": 71,
   "id": "a4553531",
   "metadata": {},
   "outputs": [
    {
     "name": "stdout",
     "output_type": "stream",
     "text": [
      "Final thetas =  [-0.06827308  0.07493643  0.16143279  0.01857745]\n"
     ]
    }
   ],
   "source": [
    "number_of_parameters = max_col_index + 1 # features + bias\n",
    "epochs = 50\n",
    "learning_rate = 0.00001\n",
    "thetas = np.random.randn(number_of_parameters, ) # \"standard normal\" distribution\n",
    "# print(\"thetas = \", thetas)\n",
    "thetas_logs = [thetas]\n",
    "losses = []\n",
    "all_epoch_losses = []\n",
    "\n",
    "for epoch in range(epochs):\n",
    "    epoch_losses = []\n",
    "    for i in range(N):\n",
    "        samplei = data[i]\n",
    "\n",
    "        # convert to vector\n",
    "        xi = np.array([1, samplei[0], samplei[1], samplei[2]])\n",
    "        yi =samplei[max_col_index]\n",
    "\n",
    "        y_hat = xi.T.dot(thetas)\n",
    "\n",
    "        # loss = (y_hat - yi) ** 2\n",
    "        loss = (y_hat - yi)*(y_hat - yi)\n",
    "        # print(loss.shape) #()\n",
    "        epoch_losses.append(loss) # append a scalar number so we get the first and only number in 2D array loss\n",
    "        all_epoch_losses.append(loss)\n",
    "\n",
    "        # dthetas = 2 * (y_hat - yi) * xi # same for line below\n",
    "        dthetas = 2 * xi * (y_hat - yi)\n",
    "\n",
    "        thetas = thetas - learning_rate * dthetas\n",
    "    losses.append(np.sum(epoch_losses) / len(epoch_losses))\n",
    "    thetas_logs.append(thetas)\n",
    "\n",
    "print(\"Final thetas = \", thetas)"
   ]
  },
  {
   "cell_type": "code",
   "execution_count": 70,
   "id": "104136e5",
   "metadata": {},
   "outputs": [
    {
     "data": {
      "image/png": "[encoded data removed]",
      "text/plain": [
       "<Figure size 640x480 with 1 Axes>"
      ]
     },
     "metadata": {},
     "output_type": "display_data"
    }
   ],
   "source": [
    "x_axis = list(range(500))\n",
    "plt.plot(x_axis, all_epoch_losses[:500], color=\"r\")\n",
    "plt.show()"
   ]
  }
 ],
 "metadata": {
  "colab": {
   "include_colab_link": true,
   "provenance": []
  },
  "kernelspec": {
   "display_name": "ds_env",
   "language": "python",
   "name": "python3"
  },
  "language_info": {
   "codemirror_mode": {
    "name": "ipython",
    "version": 3
   },
   "file_extension": ".py",
   "mimetype": "text/x-python",
   "name": "python",
   "nbconvert_exporter": "python",
   "pygments_lexer": "ipython3",
   "version": "3.11.13"
  }
 },
 "nbformat": 4,
 "nbformat_minor": 5
}
