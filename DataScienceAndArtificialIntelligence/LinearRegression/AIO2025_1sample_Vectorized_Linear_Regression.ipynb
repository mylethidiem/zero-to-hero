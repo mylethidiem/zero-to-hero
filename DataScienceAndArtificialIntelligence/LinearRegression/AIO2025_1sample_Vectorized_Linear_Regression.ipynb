{
 "cells": [
  {
   "cell_type": "markdown",
   "id": "9f076735-8dff-4f2a-b176-b3b3c0f3e696",
   "metadata": {
    "id": "9f076735-8dff-4f2a-b176-b3b3c0f3e696"
   },
   "source": [
    "### Init libraries:\n",
    "- numpy: using for calculate\n",
    "- matplotlib for graph"
   ]
  },
  {
   "cell_type": "code",
   "execution_count": 6,
   "id": "bxwAETxY-oDp",
   "metadata": {
    "colab": {
     "base_uri": "https://localhost:8080/",
     "height": 313
    },
    "id": "bxwAETxY-oDp",
    "outputId": "f6c8a717-b3af-4fa3-f955-d42dd748fef9"
   },
   "outputs": [],
   "source": [
    "import numpy as np\n",
    "import matplotlib.pyplot as plt"
   ]
  },
  {
   "cell_type": "markdown",
   "id": "93432047",
   "metadata": {},
   "source": [
    "### Training function"
   ]
  },
  {
   "cell_type": "code",
   "execution_count": null,
   "id": "64344e59",
   "metadata": {},
   "outputs": [],
   "source": [
    "# Predict using linear function, it will return the prediction values y_hat\n",
    "def predict(X, theta):\n",
    "    return X.dot(theta)\n",
    "\n",
    "# Compute loss using Mean Squared Error\n",
    "def compute_loss(y, y_hat):\n",
    "    loss = (y - y_hat) **2\n",
    "    return loss\n",
    "# Compute gradient\n",
    "def compute_gradient(X, y, y_hat):\n",
    "    return X.dot(y_hat - y)*2\n",
    "\n",
    "# Update theta\n",
    "def update_gradient(theta, gradient, learning_rate=0.001):\n",
    "    return theta - learning_rate * gradient"
   ]
  },
  {
   "cell_type": "markdown",
   "id": "7218ae6d",
   "metadata": {},
   "source": [
    "### Prepare data"
   ]
  },
  {
   "cell_type": "markdown",
   "id": "62f8d801",
   "metadata": {},
   "source": [
    "| Experience | Education | Salary |\n",
    "|-------------|------------|--------|\n",
    "| 3           | 12         | 60     |\n",
    "| 4           | 13         | 55     |\n",
    "| 5           | 14         | 66     |\n",
    "| 6           | 15         | 93     |\n"
   ]
  },
  {
   "cell_type": "code",
   "execution_count": 27,
   "id": "f4802f8a",
   "metadata": {},
   "outputs": [],
   "source": [
    "# Experience and Education\n",
    "X = np.array([[3, 12], [4, 13], [5, 14], [6, 15]])\n",
    "# Salary\n",
    "y = np.array([60, 55, 66, 93])\n",
    "\n",
    "# Test data (record 2 of dataset)\n",
    "X_test = np.array([[1, 4, 13]])"
   ]
  },
  {
   "cell_type": "code",
   "execution_count": 28,
   "id": "d04af442",
   "metadata": {},
   "outputs": [
    {
     "name": "stdout",
     "output_type": "stream",
     "text": [
      "X_bias shape: (4, 3)\n",
      "X_bias:\n",
      " [[ 1.  3. 12.]\n",
      " [ 1.  4. 13.]\n",
      " [ 1.  5. 14.]\n",
      " [ 1.  6. 15.]]\n",
      "Input shape: (4, 3)\n",
      "Output shape: (4,)\n"
     ]
    }
   ],
   "source": [
    "# Add bias term (intercept) to X\n",
    "X_bias = np.c_[np.ones((X.shape[0], 1)), X]\n",
    "print(\"X_bias shape:\", X_bias.shape)\n",
    "print(\"X_bias:\\n\", X_bias)\n",
    "# Print shapes\n",
    "print(f'Input shape: {X_bias.shape}')\n",
    "print(f'Output shape: {y.shape}')"
   ]
  },
  {
   "cell_type": "markdown",
   "id": "47776c3c",
   "metadata": {},
   "source": [
    "### Initialize parameters"
   ]
  },
  {
   "cell_type": "code",
   "execution_count": 38,
   "id": "1daf8c93",
   "metadata": {},
   "outputs": [],
   "source": [
    "# theta initialization theta = [bias, weight1, weight2]\n",
    "theta = np.array([10, 3, 2])"
   ]
  },
  {
   "cell_type": "markdown",
   "id": "3f873834",
   "metadata": {},
   "source": [
    "### Loss before training"
   ]
  },
  {
   "cell_type": "code",
   "execution_count": 39,
   "id": "a9d9fca9",
   "metadata": {},
   "outputs": [
    {
     "name": "stdout",
     "output_type": "stream",
     "text": [
      "Initial theta: [10  3  2]\n",
      "y values (y): [60 55 66 93]\n",
      "Predicted values (y_hat): [48]\n",
      "Loss record 2 of sameple: [ 144   49  324 2025]\n"
     ]
    }
   ],
   "source": [
    "print(\"Initial theta:\", theta)\n",
    "print(\"y values (y):\", y)\n",
    "y_hat = predict(X_test, theta)\n",
    "print(\"Predicted values (y_hat):\", y_hat)\n",
    "loss = compute_loss(y, y_hat)\n",
    "print(\"Loss record 2 of sameple:\", loss)"
   ]
  },
  {
   "cell_type": "markdown",
   "id": "ae2844a9",
   "metadata": {},
   "source": [
    "### Train"
   ]
  },
  {
   "cell_type": "code",
   "execution_count": 40,
   "id": "c2a0fb15",
   "metadata": {},
   "outputs": [
    {
     "name": "stdout",
     "output_type": "stream",
     "text": [
      "Epoch 1/4, Loss: 234.6004982265337, Theta: [10.09833181  3.47050512  3.35549142]\n",
      "Epoch 2/4, Loss: 130.86470802439834, Theta: [10.10382489  3.56374101  3.49816499]\n",
      "Epoch 3/4, Loss: 138.41841820731062, Theta: [10.09861696  3.61319006  3.50074271]\n",
      "Epoch 4/4, Loss: 139.08577029797195, Theta: [10.09220039  3.65739307  3.48719661]\n",
      "Final theta: [10.09220039  3.65739307  3.48719661]\n",
      "Final loss: 139.08577029797195\n"
     ]
    }
   ],
   "source": [
    "epochs = 4\n",
    "lr = 0.001  # Learning rate\n",
    "N = len(y)\n",
    "losses = []\n",
    "\n",
    "for epoch in range(epochs):\n",
    "    epoch_loss = []\n",
    "    for i in range(N):\n",
    "        # Take the i-th sample\n",
    "        X_i = X_bias[i, :]\n",
    "        y_i = y[i]\n",
    "\n",
    "        # Predict\n",
    "        y_hat = predict(X_i, theta)\n",
    "\n",
    "        # Compute  MSE loss\n",
    "        loss = compute_loss(y_i, y_hat)\n",
    "        epoch_loss.append(loss)\n",
    "\n",
    "        # Compute gradient\n",
    "        gradient = compute_gradient(X_i, y_hat=y_hat, y=y_i)\n",
    "\n",
    "        # Update theta\n",
    "        theta = update_gradient(theta, gradient, lr)\n",
    "    mean_loss = (np.sum(epoch_loss)) / len(epoch_loss)\n",
    "    losses.append(mean_loss)\n",
    "    print(f'Epoch {epoch+1}/{epochs}, Loss: {mean_loss}, Theta: {theta}')\n",
    "print(\"Final theta:\", theta)\n",
    "print(\"Final loss:\", losses[-1])"
   ]
  },
  {
   "cell_type": "markdown",
   "id": "55009ec7",
   "metadata": {},
   "source": [
    "### Loss after training"
   ]
  },
  {
   "cell_type": "code",
   "execution_count": 41,
   "id": "c8b15d5b",
   "metadata": {},
   "outputs": [
    {
     "name": "stdout",
     "output_type": "stream",
     "text": [
      "Initial theta: [10.09220039  3.65739307  3.48719661]\n",
      "y values (y): [60 55 66 93]\n",
      "Predicted values (y_hat): [70.05532857]\n",
      "Loss record 2 of sameple: [101.10963271 226.66291844  16.44568983 526.4579469 ]\n"
     ]
    }
   ],
   "source": [
    "print(\"Initial theta:\", theta)\n",
    "print(\"y values (y):\", y)\n",
    "y_hat = predict(X_test, theta)\n",
    "print(\"Predicted values (y_hat):\", y_hat)\n",
    "loss = compute_loss(y, y_hat)\n",
    "print(\"Loss record 2 of sameple:\", loss)"
   ]
  },
  {
   "cell_type": "markdown",
   "id": "bb456556",
   "metadata": {},
   "source": [
    "### Loss visualization"
   ]
  },
  {
   "cell_type": "code",
   "execution_count": 33,
   "id": "478c92a3",
   "metadata": {},
   "outputs": [
    {
     "data": {
      "image/png": "[encoded data removed]",
      "text/plain": [
       "<Figure size 640x480 with 1 Axes>"
      ]
     },
     "metadata": {},
     "output_type": "display_data"
    }
   ],
   "source": [
    "plt.plot(losses)\n",
    "plt.xlabel('Epochs')\n",
    "plt.ylabel('Mean Squared Error Loss')\n",
    "plt.title('Loss over Epochs')\n",
    "plt.show()"
   ]
  },
  {
   "cell_type": "markdown",
   "id": "46f226d9",
   "metadata": {},
   "source": [
    "Conlusion:\n",
    "The loss suddenly decreased after 1 epoch, but the test loss was still quite large, possibly because the training model was not deep enough and the data was small."
   ]
  }
 ],
 "metadata": {
  "colab": {
   "include_colab_link": true,
   "provenance": []
  },
  "kernelspec": {
   "display_name": "ds_env",
   "language": "python",
   "name": "python3"
  },
  "language_info": {
   "codemirror_mode": {
    "name": "ipython",
    "version": 3
   },
   "file_extension": ".py",
   "mimetype": "text/x-python",
   "name": "python",
   "nbconvert_exporter": "python",
   "pygments_lexer": "ipython3",
   "version": "3.11.13"
  }
 },
 "nbformat": 4,
 "nbformat_minor": 5
}
