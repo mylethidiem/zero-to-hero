{
 "cells": [
  {
   "cell_type": "markdown",
   "metadata": {},
   "source": [
    "# Giải thuật linear regression cho bàitoán advertising"
   ]
  },
  {
   "cell_type": "markdown",
   "metadata": {},
   "source": [
    "## Giới thiệu bài toán"
   ]
  },
  {
   "cell_type": "markdown",
   "metadata": {},
   "source": [
    "Tóm tắt:\n",
    "- Bài toán: Dựa trên 3 thông tin đầu vào là TV, Radio, Newspaper để dự đoán Sale\n",
    "- Giới thiệu về tập data:Data có 200 samples (rows), gồm 4 cột thông tin Tv, Radio, Newspaper,và Sales. Đề bài yêu cầu dùng thông tin ở 3 cột đầu tiên (Tv, Radio, Newspaper) để dự đoánđược cột cuối cùng (Sale) dùng linear regression model."
   ]
  },
  {
   "cell_type": "markdown",
   "metadata": {},
   "source": [
    "Phương pháp:\n",
    "Code về giải thuật linear regression cho bàitoán advertising theo cách vectorization dùng:\n",
    "- stochastic gradient descent\n",
    "- m samples (mini-batchgradient descent)\n",
    "- N samples (batch gradient descent)."
   ]
  },
  {
   "cell_type": "code",
   "execution_count": 2,
   "metadata": {
    "id": "fiGCxieEvcTe"
   },
   "outputs": [],
   "source": [
    "import numpy as np\n",
    "# from numpy import genfromtxt\n",
    "import matplotlib.pyplot as plt"
   ]
  },
  {
   "cell_type": "code",
   "execution_count": null,
   "metadata": {
    "colab": {
     "base_uri": "https://localhost:8080/"
    },
    "executionInfo": {
     "elapsed": 2851,
     "status": "ok",
     "timestamp": 1759488714540,
     "user": {
      "displayName": "Quang Hien",
      "userId": "09884577578529200534"
     },
     "user_tz": -420
    },
    "id": "aEy3WsJviqGd",
    "outputId": "7c33c18d-8a53-483f-a0e5-781d23443a6a"
   },
   "outputs": [
    {
     "name": "stdout",
     "output_type": "stream",
     "text": [
      "Downloading...\n",
      "From: https://drive.google.com/uc?id=1x3OX304PO-bonyooK4FKcRhyrTmT4kif\n",
      "To: /home/banhmuy/zero-to-hero/DataScienceAndArtificialIntelligence/LinearRegression/advertising.zip\n",
      "100%|██████████████████████████████████████| 1.90k/1.90k [00:00<00:00, 3.13MB/s]\n",
      "Archive:  advertising.zip\n",
      "  inflating: advertising.csv         \n"
     ]
    }
   ],
   "source": [
    "!pip install -q gdown\n",
    "# !sudo apt-get install -y -q unzip\n",
    "# !gdown 1x3OX304PO-bonyooK4FKcRhyrTmT4kif -O advertising.zip\n",
    "!gdown 1x3OX304PO-bonyooK4FKcRhyrTmT4kif\n",
    "!unzip advertising.zip\n",
    "#"
   ]
  },
  {
   "cell_type": "markdown",
   "metadata": {},
   "source": [
    "## Chuẩn hóa data đầu vào"
   ]
  },
  {
   "cell_type": "code",
   "execution_count": 3,
   "metadata": {},
   "outputs": [
    {
     "name": "stdout",
     "output_type": "stream",
     "text": [
      "[[230.1  37.8  69.2  22.1]\n",
      " [ 44.5  39.3  45.1  10.4]\n",
      " [ 17.2  45.9  69.3  12. ]\n",
      " [151.5  41.3  58.5  16.5]\n",
      " [180.8  10.8  58.4  17.9]]\n",
      "(200, 4)\n"
     ]
    }
   ],
   "source": [
    "data = np.genfromtxt('advertising.csv', delimiter=',', skip_header=1)\n",
    "print(data[:5,:])\n",
    "print(data.shape)"
   ]
  },
  {
   "cell_type": "markdown",
   "metadata": {},
   "source": [
    "[Mean Normalization](https://builtin.com/articles/mean-normalization)\n",
    "\n",
    "$$\n",
    "x^{'}=\\frac{x - \\mu}{max(x) - min(x)}\n",
    "$$"
   ]
  },
  {
   "cell_type": "code",
   "execution_count": 4,
   "metadata": {},
   "outputs": [],
   "source": [
    "# Normalize input data by using mean normalization\n",
    "def mean_normalization(X):\n",
    "    \"\"\"\n",
    "    Input: X\n",
    "    Return:\n",
    "    - X_bias: X after normalize\n",
    "    - min_X: Min value of X\n",
    "    - max_X: Max value of X\n",
    "    - avg_X: Average value of X\n",
    "    \"\"\"\n",
    "    min_X = np.min(X)\n",
    "    max_X = np.max(X)\n",
    "    avg_X = np.mean(X)\n",
    "    X_norm = (X - avg_X) / (max_X - min_X)\n",
    "    X_bias = np.c_[np.ones((X.shape[0], 1)), X_norm]\n",
    "\n",
    "    return X_bias, min_X, max_X, avg_X"
   ]
  },
  {
   "cell_type": "code",
   "execution_count": 5,
   "metadata": {},
   "outputs": [
    {
     "name": "stdout",
     "output_type": "stream",
     "text": [
      "=== DEBUG INFO ===\n",
      "Shape of X: (200, 3)\n",
      "Sample values of X (first 5 elements): [[230.1  37.8  69.2]\n",
      " [ 44.5  39.3  45.1]\n",
      " [ 17.2  45.9  69.3]\n",
      " [151.5  41.3  58.5]\n",
      " [180.8  10.8  58.4]]\n",
      "Shape of y: (200, 1)\n",
      "Sample values of y (first 5 elements): [[22.1]\n",
      " [10.4]\n",
      " [12. ]\n",
      " [16.5]\n",
      " [17.9]]\n",
      "Shape of X_bias: (200, 4)\n",
      "Sample values of X_bias (first 5 elements): [[ 1.          0.55042679 -0.09835864  0.00757928]\n",
      " [ 1.         -0.07575405 -0.09329791 -0.07372976]\n",
      " [ 1.         -0.16785931 -0.0710307   0.00791667]\n",
      " [ 1.          0.2852446  -0.08655027 -0.02852058]\n",
      " [ 1.          0.3840975  -0.18945175 -0.02885796]]\n",
      "\n",
      "Shape of min_X: ()\n",
      "Value of min_X: 0.0\n",
      "Shape of max_X: ()\n",
      "Value of max_X: 296.4\n",
      "Shape of avg_X: ()\n",
      "Value of avg_X: 66.95349999999999\n",
      "==================\n"
     ]
    }
   ],
   "source": [
    "N = data.size\n",
    "max_cols_index = data.shape[1] - 1\n",
    "X = data[:, :max_cols_index]\n",
    "y = data[:, max_cols_index:]\n",
    "\n",
    "X_bias, min_X, max_X, avg_X = mean_normalization(X)\n",
    "\n",
    "# Debug: Check shape and values of the variables\n",
    "print(\"=== DEBUG INFO ===\")\n",
    "print(\"Shape of X:\", X.shape)\n",
    "print(\"Sample values of X (first 5 elements):\", X[:5])\n",
    "print(\"Shape of y:\", y.shape)\n",
    "print(\"Sample values of y (first 5 elements):\", y[:5])\n",
    "\n",
    "print(\"Shape of X_bias:\", X_bias.shape)\n",
    "print(\"Sample values of X_bias (first 5 elements):\", X_bias[:5])\n",
    "\n",
    "print(\"\\nShape of min_X:\", min_X.shape if hasattr(min_X, 'shape') else \"Scalar\")\n",
    "print(\"Value of min_X:\", min_X)\n",
    "print(\"Shape of max_X:\", max_X.shape if hasattr(max_X, 'shape') else \"Scalar\")\n",
    "print(\"Value of max_X:\", max_X)\n",
    "print(\"Shape of avg_X:\", avg_X.shape if hasattr(avg_X, 'shape') else \"Scalar\")\n",
    "print(\"Value of avg_X:\", avg_X)\n",
    "print(\"==================\")\n"
   ]
  },
  {
   "cell_type": "markdown",
   "metadata": {},
   "source": [
    "**So sánh**\n",
    "\n",
    "| Loại GD           | Dữ liệu dùng mỗi lần                    | Tốc độ   | Độ ổn định      |Ưu điểm                    | Nhược điểm                  |\n",
    "| ----------------- | --------------------------------------- | -------- | --------------- |-------------------------- | --------------------------- |\n",
    "| **Batch GD**      | Toàn bộ dataset                         | Chậm     | Ổn định         | Ổn định                    | Chậm                        |\n",
    "| **SGD**           | 1 mẫu                                   | Nhanh    | Dao động mạnh   | Nhanh, phù hợp dataset lớn | Dao động                    |\n",
    "| **Mini-batch GD** | Một nhóm nhỏ (batch_size = 32, 64, ...) | Cân bằng | Ổn định hơn SGD | Cân bằng tốt               | Cần chọn batch size phù hợp |\n",
    "\n"
   ]
  },
  {
   "cell_type": "markdown",
   "metadata": {},
   "source": [
    "## Stochastic Gradient Descent(SGD)"
   ]
  },
  {
   "cell_type": "markdown",
   "metadata": {},
   "source": [
    "Thuật toán này chỉ sử dụng một điểm dữ liệu tại mỗi lần tính toán gradient và cập nhật tham số mô hình."
   ]
  },
  {
   "cell_type": "markdown",
   "metadata": {},
   "source": [
    "### Functions"
   ]
  },
  {
   "cell_type": "code",
   "execution_count": 6,
   "metadata": {},
   "outputs": [],
   "source": [
    "def predict(theta, x):\n",
    "    return x.dot(theta)\n",
    "\n",
    "def compute_loss(y_hat, y):\n",
    "    return (y_hat - y) ** 2\n",
    "\n",
    "def compute_gradient(x, y, y_hat):\n",
    "    return 2 * x * (y_hat - y)\n",
    "\n",
    "def update_gradient(theta, dtheta, learning_rate):\n",
    "    return theta - learning_rate * dtheta"
   ]
  },
  {
   "cell_type": "code",
   "execution_count": 9,
   "metadata": {},
   "outputs": [],
   "source": [
    "def stochastic_gradient_descent(X_bias, y, n_epochs=50, learning_rate=0.01):\n",
    "    \"\"\"\n",
    "    Input:\n",
    "    - X_bias: X add bias\n",
    "    - y: label\n",
    "    - n_epochs: number of epochs\n",
    "    - learning_rate\n",
    "\n",
    "    Output:\n",
    "    - thetas_path:\n",
    "    - losses:\n",
    "    \"\"\"\n",
    "    # Number of samples\n",
    "    N = len(y)\n",
    "    losses = []\n",
    "    losses_for_each_epoch = []\n",
    "\n",
    "    thetas = np.asarray([[1.16270837], [-0.81960489],\n",
    "                         [1.39501033],  [0.29763545]])\n",
    "    thetas_path = [thetas.copy()]\n",
    "\n",
    "    print(f\"[INIT SHAPES] y={y.shape}, X_bias={X_bias.shape}, thetas={thetas.shape}\")\n",
    "    for epoch in range(n_epochs):\n",
    "        print(f\"\\n========== EPOCH {epoch + 1}/{n_epochs} ==========\")\n",
    "        epoch_losses = []\n",
    "        for i in range(N):\n",
    "            # Take a sample\n",
    "            # random index  = i\n",
    "            xi = X_bias[i:i + 1]\n",
    "            yi = y[i:i + 1]\n",
    "\n",
    "            # Predict\n",
    "            y_hat = predict(thetas, xi)\n",
    "\n",
    "            # Compute loss\n",
    "            loss = compute_loss(y_hat, yi)\n",
    "            epoch_losses.append(loss[0][0])\n",
    "            losses.append(loss[0][0])\n",
    "\n",
    "            # Compute gradient\n",
    "            dtheta = compute_gradient(xi, yi, y_hat)\n",
    "\n",
    "            # Update gradient\n",
    "            thetas = update_gradient(thetas, dtheta, learning_rate)\n",
    "            thetas_path.append(thetas)\n",
    "            if i == 1:\n",
    "                print(f\"  xi.shape={xi.shape}, yi.shape={yi.shape}\")\n",
    "                print(f\"  y_hat.shape={y_hat.shape}\")\n",
    "                print(f\"  loss.shape={loss.shape}, loss={loss[0][0]:.6f}\")\n",
    "                print(f\"  gradients.shape={dtheta.shape}\")\n",
    "                print(f\"  theta.shape={thetas.shape}\")\n",
    "\n",
    "\n",
    "        mean_loss = np.sum(epoch_losses) / len(epoch_losses)\n",
    "        losses_for_each_epoch.append(mean_loss)\n",
    "        print(f\"[EPOCH {epoch+1}] mean_loss={mean_loss:.6f}\")\n",
    "    return thetas_path, losses\n",
    "\n"
   ]
  },
  {
   "cell_type": "markdown",
   "metadata": {},
   "source": [
    "### Training process"
   ]
  },
  {
   "cell_type": "code",
   "execution_count": 17,
   "metadata": {},
   "outputs": [
    {
     "name": "stdout",
     "output_type": "stream",
     "text": [
      "[INIT SHAPES] y=(200, 1), X_bias=(200, 4), thetas=(4, 1)\n",
      "\n",
      "========== EPOCH 1/50 ==========\n",
      "  xi.shape=(1, 4), yi.shape=(1, 1)\n",
      "  y_hat.shape=(1, 4)\n",
      "  loss.shape=(1, 4), loss=81.024148\n",
      "  gradients.shape=(1, 4)\n",
      "  theta.shape=(4, 4)\n",
      "[EPOCH 1] mean_loss=34.140045\n",
      "\n",
      "========== EPOCH 2/50 ==========\n",
      "  xi.shape=(1, 4), yi.shape=(1, 1)\n",
      "  y_hat.shape=(1, 4)\n",
      "  loss.shape=(1, 4), loss=2.374662\n",
      "  gradients.shape=(1, 4)\n",
      "  theta.shape=(4, 4)\n",
      "[EPOCH 2] mean_loss=4.467294\n",
      "\n",
      "========== EPOCH 3/50 ==========\n",
      "  xi.shape=(1, 4), yi.shape=(1, 1)\n",
      "  y_hat.shape=(1, 4)\n",
      "  loss.shape=(1, 4), loss=2.977892\n",
      "  gradients.shape=(1, 4)\n",
      "  theta.shape=(4, 4)\n",
      "[EPOCH 3] mean_loss=4.454053\n",
      "\n",
      "========== EPOCH 4/50 ==========\n",
      "  xi.shape=(1, 4), yi.shape=(1, 1)\n",
      "  y_hat.shape=(1, 4)\n",
      "  loss.shape=(1, 4), loss=2.989067\n",
      "  gradients.shape=(1, 4)\n",
      "  theta.shape=(4, 4)\n",
      "[EPOCH 4] mean_loss=4.453976\n",
      "\n",
      "========== EPOCH 5/50 ==========\n",
      "  xi.shape=(1, 4), yi.shape=(1, 1)\n",
      "  y_hat.shape=(1, 4)\n",
      "  loss.shape=(1, 4), loss=2.989262\n",
      "  gradients.shape=(1, 4)\n",
      "  theta.shape=(4, 4)\n",
      "[EPOCH 5] mean_loss=4.453975\n",
      "\n",
      "========== EPOCH 6/50 ==========\n",
      "  xi.shape=(1, 4), yi.shape=(1, 1)\n",
      "  y_hat.shape=(1, 4)\n",
      "  loss.shape=(1, 4), loss=2.989266\n",
      "  gradients.shape=(1, 4)\n",
      "  theta.shape=(4, 4)\n",
      "[EPOCH 6] mean_loss=4.453975\n",
      "\n",
      "========== EPOCH 7/50 ==========\n",
      "  xi.shape=(1, 4), yi.shape=(1, 1)\n",
      "  y_hat.shape=(1, 4)\n",
      "  loss.shape=(1, 4), loss=2.989266\n",
      "  gradients.shape=(1, 4)\n",
      "  theta.shape=(4, 4)\n",
      "[EPOCH 7] mean_loss=4.453975\n",
      "\n",
      "========== EPOCH 8/50 ==========\n",
      "  xi.shape=(1, 4), yi.shape=(1, 1)\n",
      "  y_hat.shape=(1, 4)\n",
      "  loss.shape=(1, 4), loss=2.989266\n",
      "  gradients.shape=(1, 4)\n",
      "  theta.shape=(4, 4)\n",
      "[EPOCH 8] mean_loss=4.453975\n",
      "\n",
      "========== EPOCH 9/50 ==========\n",
      "  xi.shape=(1, 4), yi.shape=(1, 1)\n",
      "  y_hat.shape=(1, 4)\n",
      "  loss.shape=(1, 4), loss=2.989266\n",
      "  gradients.shape=(1, 4)\n",
      "  theta.shape=(4, 4)\n",
      "[EPOCH 9] mean_loss=4.453975\n",
      "\n",
      "========== EPOCH 10/50 ==========\n",
      "  xi.shape=(1, 4), yi.shape=(1, 1)\n",
      "  y_hat.shape=(1, 4)\n",
      "  loss.shape=(1, 4), loss=2.989266\n",
      "  gradients.shape=(1, 4)\n",
      "  theta.shape=(4, 4)\n",
      "[EPOCH 10] mean_loss=4.453975\n",
      "\n",
      "========== EPOCH 11/50 ==========\n",
      "  xi.shape=(1, 4), yi.shape=(1, 1)\n",
      "  y_hat.shape=(1, 4)\n",
      "  loss.shape=(1, 4), loss=2.989266\n",
      "  gradients.shape=(1, 4)\n",
      "  theta.shape=(4, 4)\n",
      "[EPOCH 11] mean_loss=4.453975\n",
      "\n",
      "========== EPOCH 12/50 ==========\n",
      "  xi.shape=(1, 4), yi.shape=(1, 1)\n",
      "  y_hat.shape=(1, 4)\n",
      "  loss.shape=(1, 4), loss=2.989266\n",
      "  gradients.shape=(1, 4)\n",
      "  theta.shape=(4, 4)\n",
      "[EPOCH 12] mean_loss=4.453975\n",
      "\n",
      "========== EPOCH 13/50 ==========\n",
      "  xi.shape=(1, 4), yi.shape=(1, 1)\n",
      "  y_hat.shape=(1, 4)\n",
      "  loss.shape=(1, 4), loss=2.989266\n",
      "  gradients.shape=(1, 4)\n",
      "  theta.shape=(4, 4)\n",
      "[EPOCH 13] mean_loss=4.453975\n",
      "\n",
      "========== EPOCH 14/50 ==========\n",
      "  xi.shape=(1, 4), yi.shape=(1, 1)\n",
      "  y_hat.shape=(1, 4)\n",
      "  loss.shape=(1, 4), loss=2.989266\n",
      "  gradients.shape=(1, 4)\n",
      "  theta.shape=(4, 4)\n",
      "[EPOCH 14] mean_loss=4.453975\n",
      "\n",
      "========== EPOCH 15/50 ==========\n",
      "  xi.shape=(1, 4), yi.shape=(1, 1)\n",
      "  y_hat.shape=(1, 4)\n",
      "  loss.shape=(1, 4), loss=2.989266\n",
      "  gradients.shape=(1, 4)\n",
      "  theta.shape=(4, 4)\n",
      "[EPOCH 15] mean_loss=4.453975\n",
      "\n",
      "========== EPOCH 16/50 ==========\n",
      "  xi.shape=(1, 4), yi.shape=(1, 1)\n",
      "  y_hat.shape=(1, 4)\n",
      "  loss.shape=(1, 4), loss=2.989266\n",
      "  gradients.shape=(1, 4)\n",
      "  theta.shape=(4, 4)\n",
      "[EPOCH 16] mean_loss=4.453975\n",
      "\n",
      "========== EPOCH 17/50 ==========\n",
      "  xi.shape=(1, 4), yi.shape=(1, 1)\n",
      "  y_hat.shape=(1, 4)\n",
      "  loss.shape=(1, 4), loss=2.989266\n",
      "  gradients.shape=(1, 4)\n",
      "  theta.shape=(4, 4)\n",
      "[EPOCH 17] mean_loss=4.453975\n",
      "\n",
      "========== EPOCH 18/50 ==========\n",
      "  xi.shape=(1, 4), yi.shape=(1, 1)\n",
      "  y_hat.shape=(1, 4)\n",
      "  loss.shape=(1, 4), loss=2.989266\n",
      "  gradients.shape=(1, 4)\n",
      "  theta.shape=(4, 4)\n",
      "[EPOCH 18] mean_loss=4.453975\n",
      "\n",
      "========== EPOCH 19/50 ==========\n",
      "  xi.shape=(1, 4), yi.shape=(1, 1)\n",
      "  y_hat.shape=(1, 4)\n",
      "  loss.shape=(1, 4), loss=2.989266\n",
      "  gradients.shape=(1, 4)\n",
      "  theta.shape=(4, 4)\n",
      "[EPOCH 19] mean_loss=4.453975\n",
      "\n",
      "========== EPOCH 20/50 ==========\n",
      "  xi.shape=(1, 4), yi.shape=(1, 1)\n",
      "  y_hat.shape=(1, 4)\n",
      "  loss.shape=(1, 4), loss=2.989266\n",
      "  gradients.shape=(1, 4)\n",
      "  theta.shape=(4, 4)\n",
      "[EPOCH 20] mean_loss=4.453975\n",
      "\n",
      "========== EPOCH 21/50 ==========\n",
      "  xi.shape=(1, 4), yi.shape=(1, 1)\n",
      "  y_hat.shape=(1, 4)\n",
      "  loss.shape=(1, 4), loss=2.989266\n",
      "  gradients.shape=(1, 4)\n",
      "  theta.shape=(4, 4)\n",
      "[EPOCH 21] mean_loss=4.453975\n",
      "\n",
      "========== EPOCH 22/50 ==========\n",
      "  xi.shape=(1, 4), yi.shape=(1, 1)\n",
      "  y_hat.shape=(1, 4)\n",
      "  loss.shape=(1, 4), loss=2.989266\n",
      "  gradients.shape=(1, 4)\n",
      "  theta.shape=(4, 4)\n",
      "[EPOCH 22] mean_loss=4.453975\n",
      "\n",
      "========== EPOCH 23/50 ==========\n",
      "  xi.shape=(1, 4), yi.shape=(1, 1)\n",
      "  y_hat.shape=(1, 4)\n",
      "  loss.shape=(1, 4), loss=2.989266\n",
      "  gradients.shape=(1, 4)\n",
      "  theta.shape=(4, 4)\n",
      "[EPOCH 23] mean_loss=4.453975\n",
      "\n",
      "========== EPOCH 24/50 ==========\n",
      "  xi.shape=(1, 4), yi.shape=(1, 1)\n",
      "  y_hat.shape=(1, 4)\n",
      "  loss.shape=(1, 4), loss=2.989266\n",
      "  gradients.shape=(1, 4)\n",
      "  theta.shape=(4, 4)\n",
      "[EPOCH 24] mean_loss=4.453975\n",
      "\n",
      "========== EPOCH 25/50 ==========\n",
      "  xi.shape=(1, 4), yi.shape=(1, 1)\n",
      "  y_hat.shape=(1, 4)\n",
      "  loss.shape=(1, 4), loss=2.989266\n",
      "  gradients.shape=(1, 4)\n",
      "  theta.shape=(4, 4)\n",
      "[EPOCH 25] mean_loss=4.453975\n",
      "\n",
      "========== EPOCH 26/50 ==========\n",
      "  xi.shape=(1, 4), yi.shape=(1, 1)\n",
      "  y_hat.shape=(1, 4)\n",
      "  loss.shape=(1, 4), loss=2.989266\n",
      "  gradients.shape=(1, 4)\n",
      "  theta.shape=(4, 4)\n",
      "[EPOCH 26] mean_loss=4.453975\n",
      "\n",
      "========== EPOCH 27/50 ==========\n",
      "  xi.shape=(1, 4), yi.shape=(1, 1)\n",
      "  y_hat.shape=(1, 4)\n",
      "  loss.shape=(1, 4), loss=2.989266\n",
      "  gradients.shape=(1, 4)\n",
      "  theta.shape=(4, 4)\n",
      "[EPOCH 27] mean_loss=4.453975\n",
      "\n",
      "========== EPOCH 28/50 ==========\n",
      "  xi.shape=(1, 4), yi.shape=(1, 1)\n",
      "  y_hat.shape=(1, 4)\n",
      "  loss.shape=(1, 4), loss=2.989266\n",
      "  gradients.shape=(1, 4)\n",
      "  theta.shape=(4, 4)\n",
      "[EPOCH 28] mean_loss=4.453975\n",
      "\n",
      "========== EPOCH 29/50 ==========\n",
      "  xi.shape=(1, 4), yi.shape=(1, 1)\n",
      "  y_hat.shape=(1, 4)\n",
      "  loss.shape=(1, 4), loss=2.989266\n",
      "  gradients.shape=(1, 4)\n",
      "  theta.shape=(4, 4)\n",
      "[EPOCH 29] mean_loss=4.453975\n",
      "\n",
      "========== EPOCH 30/50 ==========\n",
      "  xi.shape=(1, 4), yi.shape=(1, 1)\n",
      "  y_hat.shape=(1, 4)\n",
      "  loss.shape=(1, 4), loss=2.989266\n",
      "  gradients.shape=(1, 4)\n",
      "  theta.shape=(4, 4)\n",
      "[EPOCH 30] mean_loss=4.453975\n",
      "\n",
      "========== EPOCH 31/50 ==========\n",
      "  xi.shape=(1, 4), yi.shape=(1, 1)\n",
      "  y_hat.shape=(1, 4)\n",
      "  loss.shape=(1, 4), loss=2.989266\n",
      "  gradients.shape=(1, 4)\n",
      "  theta.shape=(4, 4)\n",
      "[EPOCH 31] mean_loss=4.453975\n",
      "\n",
      "========== EPOCH 32/50 ==========\n",
      "  xi.shape=(1, 4), yi.shape=(1, 1)\n",
      "  y_hat.shape=(1, 4)\n",
      "  loss.shape=(1, 4), loss=2.989266\n",
      "  gradients.shape=(1, 4)\n",
      "  theta.shape=(4, 4)\n",
      "[EPOCH 32] mean_loss=4.453975\n",
      "\n",
      "========== EPOCH 33/50 ==========\n",
      "  xi.shape=(1, 4), yi.shape=(1, 1)\n",
      "  y_hat.shape=(1, 4)\n",
      "  loss.shape=(1, 4), loss=2.989266\n",
      "  gradients.shape=(1, 4)\n",
      "  theta.shape=(4, 4)\n",
      "[EPOCH 33] mean_loss=4.453975\n",
      "\n",
      "========== EPOCH 34/50 ==========\n",
      "  xi.shape=(1, 4), yi.shape=(1, 1)\n",
      "  y_hat.shape=(1, 4)\n",
      "  loss.shape=(1, 4), loss=2.989266\n",
      "  gradients.shape=(1, 4)\n",
      "  theta.shape=(4, 4)\n",
      "[EPOCH 34] mean_loss=4.453975\n",
      "\n",
      "========== EPOCH 35/50 ==========\n",
      "  xi.shape=(1, 4), yi.shape=(1, 1)\n",
      "  y_hat.shape=(1, 4)\n",
      "  loss.shape=(1, 4), loss=2.989266\n",
      "  gradients.shape=(1, 4)\n",
      "  theta.shape=(4, 4)\n",
      "[EPOCH 35] mean_loss=4.453975\n",
      "\n",
      "========== EPOCH 36/50 ==========\n",
      "  xi.shape=(1, 4), yi.shape=(1, 1)\n",
      "  y_hat.shape=(1, 4)\n",
      "  loss.shape=(1, 4), loss=2.989266\n",
      "  gradients.shape=(1, 4)\n",
      "  theta.shape=(4, 4)\n",
      "[EPOCH 36] mean_loss=4.453975\n",
      "\n",
      "========== EPOCH 37/50 ==========\n",
      "  xi.shape=(1, 4), yi.shape=(1, 1)\n",
      "  y_hat.shape=(1, 4)\n",
      "  loss.shape=(1, 4), loss=2.989266\n",
      "  gradients.shape=(1, 4)\n",
      "  theta.shape=(4, 4)\n",
      "[EPOCH 37] mean_loss=4.453975\n",
      "\n",
      "========== EPOCH 38/50 ==========\n",
      "  xi.shape=(1, 4), yi.shape=(1, 1)\n",
      "  y_hat.shape=(1, 4)\n",
      "  loss.shape=(1, 4), loss=2.989266\n",
      "  gradients.shape=(1, 4)\n",
      "  theta.shape=(4, 4)\n",
      "[EPOCH 38] mean_loss=4.453975\n",
      "\n",
      "========== EPOCH 39/50 ==========\n",
      "  xi.shape=(1, 4), yi.shape=(1, 1)\n",
      "  y_hat.shape=(1, 4)\n",
      "  loss.shape=(1, 4), loss=2.989266\n",
      "  gradients.shape=(1, 4)\n",
      "  theta.shape=(4, 4)\n",
      "[EPOCH 39] mean_loss=4.453975\n",
      "\n",
      "========== EPOCH 40/50 ==========\n",
      "  xi.shape=(1, 4), yi.shape=(1, 1)\n",
      "  y_hat.shape=(1, 4)\n",
      "  loss.shape=(1, 4), loss=2.989266\n",
      "  gradients.shape=(1, 4)\n",
      "  theta.shape=(4, 4)\n",
      "[EPOCH 40] mean_loss=4.453975\n",
      "\n",
      "========== EPOCH 41/50 ==========\n",
      "  xi.shape=(1, 4), yi.shape=(1, 1)\n",
      "  y_hat.shape=(1, 4)\n",
      "  loss.shape=(1, 4), loss=2.989266\n",
      "  gradients.shape=(1, 4)\n",
      "  theta.shape=(4, 4)\n",
      "[EPOCH 41] mean_loss=4.453975\n",
      "\n",
      "========== EPOCH 42/50 ==========\n",
      "  xi.shape=(1, 4), yi.shape=(1, 1)\n",
      "  y_hat.shape=(1, 4)\n",
      "  loss.shape=(1, 4), loss=2.989266\n",
      "  gradients.shape=(1, 4)\n",
      "  theta.shape=(4, 4)\n",
      "[EPOCH 42] mean_loss=4.453975\n",
      "\n",
      "========== EPOCH 43/50 ==========\n",
      "  xi.shape=(1, 4), yi.shape=(1, 1)\n",
      "  y_hat.shape=(1, 4)\n",
      "  loss.shape=(1, 4), loss=2.989266\n",
      "  gradients.shape=(1, 4)\n",
      "  theta.shape=(4, 4)\n",
      "[EPOCH 43] mean_loss=4.453975\n",
      "\n",
      "========== EPOCH 44/50 ==========\n",
      "  xi.shape=(1, 4), yi.shape=(1, 1)\n",
      "  y_hat.shape=(1, 4)\n",
      "  loss.shape=(1, 4), loss=2.989266\n",
      "  gradients.shape=(1, 4)\n",
      "  theta.shape=(4, 4)\n",
      "[EPOCH 44] mean_loss=4.453975\n",
      "\n",
      "========== EPOCH 45/50 ==========\n",
      "  xi.shape=(1, 4), yi.shape=(1, 1)\n",
      "  y_hat.shape=(1, 4)\n",
      "  loss.shape=(1, 4), loss=2.989266\n",
      "  gradients.shape=(1, 4)\n",
      "  theta.shape=(4, 4)\n",
      "[EPOCH 45] mean_loss=4.453975\n",
      "\n",
      "========== EPOCH 46/50 ==========\n",
      "  xi.shape=(1, 4), yi.shape=(1, 1)\n",
      "  y_hat.shape=(1, 4)\n",
      "  loss.shape=(1, 4), loss=2.989266\n",
      "  gradients.shape=(1, 4)\n",
      "  theta.shape=(4, 4)\n",
      "[EPOCH 46] mean_loss=4.453975\n",
      "\n",
      "========== EPOCH 47/50 ==========\n",
      "  xi.shape=(1, 4), yi.shape=(1, 1)\n",
      "  y_hat.shape=(1, 4)\n",
      "  loss.shape=(1, 4), loss=2.989266\n",
      "  gradients.shape=(1, 4)\n",
      "  theta.shape=(4, 4)\n",
      "[EPOCH 47] mean_loss=4.453975\n",
      "\n",
      "========== EPOCH 48/50 ==========\n",
      "  xi.shape=(1, 4), yi.shape=(1, 1)\n",
      "  y_hat.shape=(1, 4)\n",
      "  loss.shape=(1, 4), loss=2.989266\n",
      "  gradients.shape=(1, 4)\n",
      "  theta.shape=(4, 4)\n",
      "[EPOCH 48] mean_loss=4.453975\n",
      "\n",
      "========== EPOCH 49/50 ==========\n",
      "  xi.shape=(1, 4), yi.shape=(1, 1)\n",
      "  y_hat.shape=(1, 4)\n",
      "  loss.shape=(1, 4), loss=2.989266\n",
      "  gradients.shape=(1, 4)\n",
      "  theta.shape=(4, 4)\n",
      "[EPOCH 49] mean_loss=4.453975\n",
      "\n",
      "========== EPOCH 50/50 ==========\n",
      "  xi.shape=(1, 4), yi.shape=(1, 1)\n",
      "  y_hat.shape=(1, 4)\n",
      "  loss.shape=(1, 4), loss=2.989266\n",
      "  gradients.shape=(1, 4)\n",
      "  theta.shape=(4, 4)\n",
      "[EPOCH 50] mean_loss=4.453975\n"
     ]
    }
   ],
   "source": [
    "sgd_thetas_path, sgd_losses = stochastic_gradient_descent(X_bias, y, n_epochs=50, learning_rate=0.01)"
   ]
  },
  {
   "cell_type": "markdown",
   "metadata": {},
   "source": [
    "### Visualization"
   ]
  },
  {
   "cell_type": "code",
   "execution_count": 19,
   "metadata": {},
   "outputs": [
    {
     "data": {
      "image/png": "[encoded data removed]",
      "text/plain": [
       "<Figure size 640x480 with 1 Axes>"
      ]
     },
     "metadata": {},
     "output_type": "display_data"
    }
   ],
   "source": [
    "import matplotlib.pyplot as plt\n",
    "\n",
    "plt.plot(sgd_losses)\n",
    "plt.xlabel(\"epoch\")\n",
    "plt.ylabel(\"loss\")\n",
    "plt.show()"
   ]
  },
  {
   "cell_type": "code",
   "execution_count": 20,
   "metadata": {},
   "outputs": [
    {
     "data": {
      "image/png": "[encoded data removed]",
      "text/plain": [
       "<Figure size 640x480 with 1 Axes>"
      ]
     },
     "metadata": {},
     "output_type": "display_data"
    }
   ],
   "source": [
    "plt.plot(sgd_losses[:500], color=\"r\")\n",
    "plt.xlabel(\"Iteration\")\n",
    "plt.ylabel(\"Loss\")\n",
    "plt.title(\"SGD Loss per Step (first 500 updates)\")\n",
    "plt.show()"
   ]
  },
  {
   "cell_type": "code",
   "execution_count": 21,
   "metadata": {},
   "outputs": [
    {
     "data": {
      "image/png": "[encoded data removed]",
      "text/plain": [
       "<Figure size 640x480 with 1 Axes>"
      ]
     },
     "metadata": {},
     "output_type": "display_data"
    }
   ],
   "source": [
    "plt.plot(sgd_losses[:150])\n",
    "plt.xlabel(\"epoch\")\n",
    "plt.ylabel(\"loss\")\n",
    "plt.title(\"Losses through epochs using SGD training in Adsvertising data\")\n",
    "plt.show()"
   ]
  },
  {
   "cell_type": "markdown",
   "metadata": {},
   "source": [
    "## Mini-bach Gradient Descent"
   ]
  },
  {
   "cell_type": "markdown",
   "metadata": {},
   "source": [
    "### Functions"
   ]
  },
  {
   "cell_type": "code",
   "execution_count": null,
   "metadata": {},
   "outputs": [],
   "source": [
    "def predict(theta, x):\n",
    "    return x.dot(theta)\n",
    "\n",
    "def compute_loss(y_hat, y):\n",
    "    return (y_hat - y) ** 2\n",
    "\n",
    "def compute_gradient(x, y, y_hat):\n",
    "    return 2 * x * (y_hat - y)\n",
    "\n",
    "def update_gradient(theta, dtheta, learning_rate):\n",
    "    return theta - learning_rate * dtheta"
   ]
  },
  {
   "cell_type": "code",
   "execution_count": null,
   "metadata": {},
   "outputs": [],
   "source": [
    "def mini_batch_gradient_descent(X_b, y, n_epochs=50, minibatch_size=20, learning_rate=0.01):\n",
    "    \"\"\"\n",
    "    Input:\n",
    "    - X_bias: X add bias\n",
    "    - y: label\n",
    "    - n_epochs: number of epochs\n",
    "    - learning_rate\n",
    "\n",
    "    Output:\n",
    "    - thetas_path:\n",
    "    - losses:\n",
    "    \"\"\"\n",
    "    # Number of samples\n",
    "    N = len(y)\n",
    "    losses = []\n",
    "    losses_for_each_epoch = []\n",
    "\n",
    "    thetas = np.asarray([[1.16270837], [-0.81960489],\n",
    "                         [1.39501033],  [0.29763545]])\n",
    "    thetas_path = [thetas.copy()]\n",
    "\n",
    "    print(f\"[INIT SHAPES] y={y.shape}, X_bias={X_bias.shape}, thetas={thetas.shape}\")\n",
    "    for epoch in range(n_epochs):\n",
    "        print(f\"\\n========== EPOCH {epoch + 1}/{n_epochs} ==========\")\n",
    "        epoch_losses = []\n",
    "        for i in range(N):\n",
    "            # Take a sample\n",
    "            # random index  = i\n",
    "            xi = X_bias[i:i + 1]\n",
    "            yi = y[i:i + 1]\n",
    "\n",
    "            # Predict\n",
    "            y_hat = predict(thetas, xi)\n",
    "\n",
    "            # Compute loss\n",
    "            loss = compute_loss(y_hat, yi)\n",
    "            epoch_losses.append(loss[0][0])\n",
    "            losses.append(loss[0][0])\n",
    "\n",
    "            # Compute gradient\n",
    "            dtheta = compute_gradient(xi, yi, y_hat)\n",
    "\n",
    "            # Update gradient\n",
    "            thetas = update_gradient(thetas, dtheta, learning_rate)\n",
    "            thetas_path.append(thetas)\n",
    "            if i == 1:\n",
    "                print(f\"  xi.shape={xi.shape}, yi.shape={yi.shape}\")\n",
    "                print(f\"  y_hat.shape={y_hat.shape}\")\n",
    "                print(f\"  loss.shape={loss.shape}, loss={loss[0][0]:.6f}\")\n",
    "                print(f\"  gradients.shape={dtheta.shape}\")\n",
    "                print(f\"  theta.shape={thetas.shape}\")\n",
    "\n",
    "\n",
    "        mean_loss = np.sum(epoch_losses) / len(epoch_losses)\n",
    "        losses_for_each_epoch.append(mean_loss)\n",
    "        print(f\"[EPOCH {epoch+1}] mean_loss={mean_loss:.6f}\")\n",
    "    return thetas_path, losses\n",
    "\n"
   ]
  },
  {
   "cell_type": "markdown",
   "metadata": {},
   "source": [
    "### Training processes"
   ]
  },
  {
   "cell_type": "code",
   "execution_count": null,
   "metadata": {},
   "outputs": [],
   "source": []
  },
  {
   "cell_type": "markdown",
   "metadata": {},
   "source": [
    "### Visualization"
   ]
  },
  {
   "cell_type": "code",
   "execution_count": null,
   "metadata": {},
   "outputs": [],
   "source": [
    "import matplotlib.pyplot as plt\n",
    "\n",
    "plt.plot(sgd_losses)\n",
    "plt.xlabel(\"epoch\")\n",
    "plt.ylabel(\"loss\")\n",
    "plt.show()"
   ]
  },
  {
   "cell_type": "code",
   "execution_count": null,
   "metadata": {},
   "outputs": [],
   "source": []
  },
  {
   "cell_type": "markdown",
   "metadata": {},
   "source": [
    "## Batch Gradient Descent"
   ]
  },
  {
   "cell_type": "markdown",
   "metadata": {},
   "source": [
    "### Functions"
   ]
  },
  {
   "cell_type": "code",
   "execution_count": null,
   "metadata": {},
   "outputs": [],
   "source": []
  },
  {
   "cell_type": "markdown",
   "metadata": {},
   "source": [
    "### Training processes"
   ]
  },
  {
   "cell_type": "code",
   "execution_count": null,
   "metadata": {},
   "outputs": [],
   "source": []
  },
  {
   "cell_type": "markdown",
   "metadata": {},
   "source": [
    "### Visualization"
   ]
  },
  {
   "cell_type": "code",
   "execution_count": null,
   "metadata": {},
   "outputs": [],
   "source": []
  },
  {
   "cell_type": "markdown",
   "metadata": {},
   "source": [
    "## Kết luận:"
   ]
  },
  {
   "cell_type": "code",
   "execution_count": null,
   "metadata": {},
   "outputs": [],
   "source": []
  }
 ],
 "metadata": {
  "colab": {
   "provenance": [
    {
     "file_id": "18BCCwiS1vEkfL2O8WI1yZZg3W2VrmLyR",
     "timestamp": 1759351821480
    }
   ]
  },
  "kernelspec": {
   "display_name": "ds_env",
   "language": "python",
   "name": "python3"
  },
  "language_info": {
   "codemirror_mode": {
    "name": "ipython",
    "version": 3
   },
   "file_extension": ".py",
   "mimetype": "text/x-python",
   "name": "python",
   "nbconvert_exporter": "python",
   "pygments_lexer": "ipython3",
   "version": "3.11.13"
  }
 },
 "nbformat": 4,
 "nbformat_minor": 0
}
