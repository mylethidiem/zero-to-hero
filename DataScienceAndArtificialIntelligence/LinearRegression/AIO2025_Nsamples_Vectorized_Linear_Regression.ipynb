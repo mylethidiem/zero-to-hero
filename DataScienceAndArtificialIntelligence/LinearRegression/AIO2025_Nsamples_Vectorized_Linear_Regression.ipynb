{
 "cells": [
  {
   "cell_type": "markdown",
   "id": "50a16a62",
   "metadata": {},
   "source": [
    "## "
   ]
  },
  {
   "cell_type": "markdown",
   "id": "9f076735-8dff-4f2a-b176-b3b3c0f3e696",
   "metadata": {
    "id": "9f076735-8dff-4f2a-b176-b3b3c0f3e696"
   },
   "source": [
    "### Init libraries"
   ]
  },
  {
   "cell_type": "code",
   "execution_count": 27,
   "id": "Ym9TION0A0mq",
   "metadata": {
    "id": "Ym9TION0A0mq"
   },
   "outputs": [],
   "source": [
    "import numpy as np\n",
    "import matplotlib.pyplot as plt"
   ]
  },
  {
   "cell_type": "markdown",
   "id": "93432047",
   "metadata": {},
   "source": [
    "### Training function"
   ]
  },
  {
   "cell_type": "code",
   "execution_count": 28,
   "id": "64344e59",
   "metadata": {},
   "outputs": [],
   "source": [
    "def predict(X, theta):\n",
    "    return X.dot(theta)\n",
    "\n",
    "# Compute Mean Squared Error Loss\n",
    "def compute_loss(Y, Y_hat):\n",
    "    N = len(Y)\n",
    "    return np.sum((Y - Y_hat) ** 2) / N\n",
    "\n",
    "def compute_gradient(X, Y, Y_hat):\n",
    "    N = len(Y)\n",
    "    return X.T.dot((Y_hat - Y) * 2) / N\n",
    "\n",
    "def update_gradient(theta, gradient, learning_rate=0.001):\n",
    "    return theta - learning_rate * gradient"
   ]
  },
  {
   "cell_type": "markdown",
   "id": "1c154736-c220-49a5-9f12-5e21e3ea14e2",
   "metadata": {
    "id": "1c154736-c220-49a5-9f12-5e21e3ea14e2"
   },
   "source": [
    "### Initialize parameters"
   ]
  },
  {
   "cell_type": "code",
   "execution_count": 29,
   "id": "f4802f8a",
   "metadata": {},
   "outputs": [],
   "source": [
    "# theta = [b weight1 weight2] # coef\n",
    "theta = theta = np.array([10, 3, 2])"
   ]
  },
  {
   "cell_type": "markdown",
   "id": "324577a5",
   "metadata": {},
   "source": [
    "### Prepare data"
   ]
  },
  {
   "cell_type": "markdown",
   "id": "4b0f7e69",
   "metadata": {},
   "source": [
    "| Experience | Education | Salary |\n",
    "|-------------|------------|--------|\n",
    "| 3           | 12         | 60     |\n",
    "| 4           | 13         | 55     |\n",
    "| 5           | 14         | 66     |\n",
    "| 6           | 15         | 93     |"
   ]
  },
  {
   "cell_type": "code",
   "execution_count": 30,
   "id": "1daf8c93",
   "metadata": {},
   "outputs": [
    {
     "name": "stdout",
     "output_type": "stream",
     "text": [
      "X shape: (4, 2)\n",
      "y shape: (4,)\n"
     ]
    }
   ],
   "source": [
    "# Experience and Education\n",
    "X = np.array([[3, 12], [4, 13], [5, 14], [6, 15]])\n",
    "# Salary\n",
    "y = np.array([60, 55, 66, 93])\n",
    "\n",
    "# Test data (record 2 of dataset)\n",
    "X_test = np.array([[1, 4, 13]])\n",
    "\n",
    "print(\"X shape:\", X.shape)\n",
    "print(\"y shape:\", y.shape)"
   ]
  },
  {
   "cell_type": "code",
   "execution_count": 32,
   "id": "43a44b67",
   "metadata": {},
   "outputs": [
    {
     "name": "stdout",
     "output_type": "stream",
     "text": [
      "X_bias shape: (4, 3)\n",
      "X_bias:\n",
      " [[ 1.  3. 12.]\n",
      " [ 1.  4. 13.]\n",
      " [ 1.  5. 14.]\n",
      " [ 1.  6. 15.]]\n",
      "Input shape: (4, 3)\n",
      "Output shape: (4,)\n"
     ]
    }
   ],
   "source": [
    "# Add bias term (intercept) to X\n",
    "X_bias = np.c_[np.ones((X.shape[0], 1)), X]\n",
    "print(\"X_bias shape:\", X_bias.shape)\n",
    "print(\"X_bias:\\n\", X_bias)\n",
    "# Print shapes\n",
    "print(f'Input shape: {X_bias.shape}')\n",
    "print(f'Output shape: {y.shape}')"
   ]
  },
  {
   "cell_type": "markdown",
   "id": "3f873834",
   "metadata": {},
   "source": [
    "### Loss before training"
   ]
  },
  {
   "cell_type": "code",
   "execution_count": 33,
   "id": "a9d9fca9",
   "metadata": {},
   "outputs": [
    {
     "name": "stdout",
     "output_type": "stream",
     "text": [
      "Initial theta: [10  3  2]\n",
      "y values (y): [60 55 66 93]\n",
      "Predicted values (y_hat): [48]\n",
      "Loss record 2 of sample: 635.5\n"
     ]
    }
   ],
   "source": [
    "X_test = np.array([[1, 4, 13]])\n",
    "print(\"Initial theta:\", theta)\n",
    "print(\"y values (y):\", y)\n",
    "y_hat = predict(X_test, theta)\n",
    "print(\"Predicted values (y_hat):\", y_hat)\n",
    "loss = compute_loss(y, y_hat)\n",
    "print(\"Loss record 2 of sample:\", loss)"
   ]
  },
  {
   "cell_type": "markdown",
   "id": "ae2844a9",
   "metadata": {},
   "source": [
    "### Train"
   ]
  },
  {
   "cell_type": "code",
   "execution_count": 71,
   "id": "c2a0fb15",
   "metadata": {},
   "outputs": [
    {
     "name": "stdout",
     "output_type": "stream",
     "text": [
      "Epoch 1/4, Loss: 129.43427922136902, Theta: [10.06866816  3.34961385  2.96762733]\n",
      "Epoch 2/4, Loss: 102.26797535859747, Theta: [10.07525837  3.39097666  3.06830194]\n",
      "Epoch 3/4, Loss: 92.81168056126987, Theta: [10.07874491  3.41801789  3.12672205]\n",
      "Epoch 4/4, Loss: 89.49962678460061, Theta: [10.08040376  3.43662089  3.16025472]\n"
     ]
    }
   ],
   "source": [
    "epochs = 4\n",
    "N = len(y)\n",
    "learning_rate = 0.001\n",
    "losses = []\n",
    "\n",
    "for epoch in range(epochs):\n",
    "    # Take 1 sample or N samples: 1 <= mini-batch <= N\n",
    "    # Take whole dataset in this case\n",
    "\n",
    "    # Forward pass\n",
    "    # Predict y_hat\n",
    "    y_hat = predict(X_bias, theta)\n",
    "\n",
    "    # Compute loss Mean Squared Error\n",
    "    loss = compute_loss(y, y_hat)\n",
    "    losses.append(loss)\n",
    "\n",
    "    # Backward pass\n",
    "    gradient = compute_gradient(X_bias, y, y_hat)\n",
    "    theta = update_gradient(theta, gradient, learning_rate)\n",
    "    print(f'Epoch {epoch+1}/{epochs}, Loss: {loss}, Theta: {theta}')"
   ]
  },
  {
   "cell_type": "markdown",
   "id": "55009ec7",
   "metadata": {},
   "source": [
    "### Loss after training"
   ]
  },
  {
   "cell_type": "code",
   "execution_count": 72,
   "id": "c8b15d5b",
   "metadata": {},
   "outputs": [
    {
     "name": "stdout",
     "output_type": "stream",
     "text": [
      "Initial theta: [10.08040376  3.43662089  3.16025472]\n",
      "y values (y): [60 55 66 93]\n",
      "Predicted values (y_hat): [58.31332312 64.91019873 71.50707434 78.10394995]\n",
      "Final Loss: 88.31927315873594\n"
     ]
    }
   ],
   "source": [
    "print(\"Initial theta:\", theta)\n",
    "print(\"y values (y):\", y)\n",
    "y_hat = predict(X_bias, theta)\n",
    "print(\"Predicted values (y_hat):\", y_hat)\n",
    "loss = compute_loss(y, y_hat)\n",
    "print(\"Final Loss:\", loss)"
   ]
  },
  {
   "cell_type": "markdown",
   "id": "bb456556",
   "metadata": {},
   "source": [
    "### Loss visualization"
   ]
  },
  {
   "cell_type": "code",
   "execution_count": 73,
   "id": "f33c9c34",
   "metadata": {},
   "outputs": [
    {
     "data": {
      "image/png": "[encoded data removed]",
      "text/plain": [
       "<Figure size 640x480 with 1 Axes>"
      ]
     },
     "metadata": {},
     "output_type": "display_data"
    }
   ],
   "source": [
    "plt.plot(losses)\n",
    "plt.xlabel(\"Epochs\")\n",
    "plt.ylabel(\"Loss\")\n",
    "plt.title(\"Loss over Epochs\")\n",
    "plt.show()"
   ]
  },
  {
   "cell_type": "markdown",
   "id": "04743900",
   "metadata": {},
   "source": [
    "Conclusion:\n",
    "- When using training data for each epoch, the results seem to be stable and the loss reduce more. However because the number of samples and training epochs is still epochs is still quite small, we cannot conclude more."
   ]
  },
  {
   "cell_type": "markdown",
   "id": "5961466f",
   "metadata": {},
   "source": [
    "## Other approach"
   ]
  },
  {
   "cell_type": "code",
   "execution_count": 1,
   "id": "8b4859bc",
   "metadata": {},
   "outputs": [],
   "source": [
    "import numpy as np\n",
    "import matplotlib.pyplot as plt"
   ]
  },
  {
   "cell_type": "markdown",
   "id": "9e318bff",
   "metadata": {},
   "source": [
    "- No need to define the training function\n",
    "- Please also checking files in `../Metrics/`"
   ]
  },
  {
   "cell_type": "markdown",
   "id": "371e332b",
   "metadata": {},
   "source": [
    "### Way 1"
   ]
  },
  {
   "cell_type": "code",
   "execution_count": 14,
   "id": "43179ec6",
   "metadata": {},
   "outputs": [
    {
     "name": "stdout",
     "output_type": "stream",
     "text": [
      "[[6.7 9.1]\n",
      " [4.6 5.9]\n",
      " [3.5 4.6]\n",
      " [5.5 6.7]]\n"
     ]
    }
   ],
   "source": [
    "data = np.genfromtxt('../data/simple_data.csv', delimiter=',')\n",
    "print(data)"
   ]
  },
  {
   "cell_type": "code",
   "execution_count": 15,
   "id": "1f091325",
   "metadata": {},
   "outputs": [
    {
     "name": "stdout",
     "output_type": "stream",
     "text": [
      "areas:\n",
      "  [[6.7]\n",
      " [4.6]\n",
      " [3.5]\n",
      " [5.5]]\n",
      "prices:\n",
      "  [[9.1]\n",
      " [5.9]\n",
      " [4.6]\n",
      " [6.7]]\n",
      "data size:  4\n"
     ]
    },
    {
     "data": {
      "image/png": "[encoded data removed]",
      "text/plain": [
       "<Figure size 640x480 with 1 Axes>"
      ]
     },
     "metadata": {},
     "output_type": "display_data"
    }
   ],
   "source": [
    "areas = data[:,0:1]\n",
    "prices = data[:,1:]\n",
    "N = len(areas)\n",
    "print(\"areas:\\n \", areas)\n",
    "print(\"prices:\\n \", prices)\n",
    "print(\"data size: \", N)\n",
    "\n",
    "# areas2  = data[:, 0]\n",
    "# prices2 = data[:, 1]\n",
    "# N2 = areas.size\n",
    "# print(\"areas2: \", areas2)\n",
    "# print(\"prices2: \", prices2)\n",
    "# print(\"data size2: \", N2)\n",
    "\n",
    "# plot the data\n",
    "plt.scatter(areas, prices)\n",
    "plt.xlabel('Area (x 100$m^2$)')\n",
    "plt.ylabel('Price (Tael)')\n",
    "plt.xlim(3,7)\n",
    "plt.ylim(3, 10)\n",
    "plt.show()"
   ]
  },
  {
   "cell_type": "code",
   "execution_count": 16,
   "id": "7095f0dd",
   "metadata": {},
   "outputs": [
    {
     "name": "stdout",
     "output_type": "stream",
     "text": [
      "[[6.7 1. ]\n",
      " [4.6 1. ]\n",
      " [3.5 1. ]\n",
      " [5.5 1. ]]\n",
      "[[-0.34 ]\n",
      " [ 0.049]]\n",
      "[[9.1]\n",
      " [5.9]\n",
      " [4.6]\n",
      " [6.7]]\n"
     ]
    }
   ],
   "source": [
    "# vector [x, 1]\n",
    "data = np.hstack([areas, np.ones((N,1))])\n",
    "\n",
    " # [w, b]\n",
    "theta = np.array([[-0.34],\n",
    "                  [0.049]])\n",
    "print(data)\n",
    "print(theta)\n",
    "print(prices)"
   ]
  },
  {
   "cell_type": "code",
   "execution_count": 17,
   "id": "2a65e22e",
   "metadata": {},
   "outputs": [
    {
     "name": "stdout",
     "output_type": "stream",
     "text": [
      "Final theta:  [[1.23758712]\n",
      " [0.32972023]]\n"
     ]
    }
   ],
   "source": [
    "# params\n",
    "lr = 0.01\n",
    "epoch_max = 20\n",
    "\n",
    "# logging\n",
    "losses = []\n",
    "\n",
    "for epoch in range(epoch_max):\n",
    "    # get all the samples\n",
    "    x = data\n",
    "    y = prices\n",
    "\n",
    "    # predict y_hat\n",
    "    y_hat = x.dot(theta)\n",
    "\n",
    "    # compute loss\n",
    "    loss = np.multiply((y_hat-y), (y_hat-y)) # different with approad in MSE-LinearRegression\n",
    "    losses.append(np.mean(loss))\n",
    "\n",
    "    # compute gradient,  different with approad in MSE-LinearRegression\n",
    "    k = 2*(y_hat-y)\n",
    "    gradients = k.T.dot(x) / N\n",
    "\n",
    "    # update weights\n",
    "    theta = theta - lr*gradients.T # different with approad in MSE-LinearRegression\n",
    "print(\"Final theta: \", theta)"
   ]
  },
  {
   "cell_type": "code",
   "execution_count": 18,
   "id": "e5f7fc53",
   "metadata": {},
   "outputs": [
    {
     "data": {
      "image/png": "[encoded data removed]",
      "text/plain": [
       "<Figure size 640x480 with 1 Axes>"
      ]
     },
     "metadata": {},
     "output_type": "display_data"
    }
   ],
   "source": [
    "plt.plot(losses)\n",
    "plt.xlabel('iteration')\n",
    "plt.ylabel('losses')\n",
    "plt.show()"
   ]
  },
  {
   "cell_type": "code",
   "execution_count": 20,
   "id": "743923b6",
   "metadata": {},
   "outputs": [
    {
     "name": "stderr",
     "output_type": "stream",
     "text": [
      "/tmp/ipykernel_34748/3728970528.py:1: DeprecationWarning: Conversion of an array with ndim > 0 to a scalar is deprecated, and will error in future. Ensure you extract a single element from your array before performing this operation. (Deprecated NumPy 1.25.)\n",
      "  x_data = range(max(0, int(min(areas) - 1)), int(max(areas)) + 2)\n"
     ]
    },
    {
     "data": {
      "image/png": "[encoded data removed]",
      "text/plain": [
       "<Figure size 640x480 with 1 Axes>"
      ]
     },
     "metadata": {},
     "output_type": "display_data"
    }
   ],
   "source": [
    "x_data = range(max(0, int(min(areas) - 1)), int(max(areas)) + 2)\n",
    "y_data = [x*theta[0] + theta[1] for x in x_data]\n",
    "plt.plot(x_data, y_data)\n",
    "#--------------------------------------\n",
    "plt.scatter(areas, prices)\n",
    "\n",
    "plt.xlabel('Diện tích nhà (x 100$m^2$)')\n",
    "plt.ylabel('Giá nhà (chục lượng vàng)')\n",
    "\n",
    "plt.xlim(3,7)\n",
    "plt.ylim(4,10)\n",
    "plt.show()"
   ]
  },
  {
   "cell_type": "markdown",
   "id": "f759a6ee",
   "metadata": {},
   "source": [
    "### Way 2"
   ]
  },
  {
   "cell_type": "code",
   "execution_count": 21,
   "id": "c0158382",
   "metadata": {},
   "outputs": [
    {
     "name": "stdout",
     "output_type": "stream",
     "text": [
      "[[6.7 9.1]\n",
      " [4.6 5.9]\n",
      " [3.5 4.6]\n",
      " [5.5 6.7]]\n"
     ]
    }
   ],
   "source": [
    "data = np.genfromtxt('../data/simple_data.csv', delimiter=',')\n",
    "print(data)"
   ]
  },
  {
   "cell_type": "code",
   "execution_count": null,
   "id": "45a19bab",
   "metadata": {},
   "outputs": [
    {
     "name": "stdout",
     "output_type": "stream",
     "text": [
      "areas:\n",
      "  [[6.7]\n",
      " [4.6]\n",
      " [3.5]\n",
      " [5.5]]\n",
      "prices:\n",
      "  [[9.1]\n",
      " [5.9]\n",
      " [4.6]\n",
      " [6.7]]\n",
      "data size:  4\n"
     ]
    },
    {
     "data": {
      "image/png": "[encoded data removed]",
      "text/plain": [
       "<Figure size 640x480 with 1 Axes>"
      ]
     },
     "metadata": {},
     "output_type": "display_data"
    }
   ],
   "source": [
    "areas = data[:,0:1]\n",
    "prices = data[:,1:]\n",
    "N = len(areas)\n",
    "print(\"areas:\\n \", areas)\n",
    "print(\"prices:\\n \", prices)\n",
    "print(\"data size: \", N)\n",
    "\n",
    "# plot the data\n",
    "plt.scatter(areas, prices)\n",
    "plt.xlabel('Area (x 100$m^2$)')\n",
    "plt.ylabel('Price (Tael)')\n",
    "plt.xlim(3,7)\n",
    "plt.ylim(3, 10)\n",
    "plt.show()"
   ]
  },
  {
   "cell_type": "code",
   "execution_count": 23,
   "id": "0c46e4c3",
   "metadata": {},
   "outputs": [
    {
     "name": "stdout",
     "output_type": "stream",
     "text": [
      "[[6.7 1. ]\n",
      " [4.6 1. ]\n",
      " [3.5 1. ]\n",
      " [5.5 1. ]]\n",
      "[[-0.34 ]\n",
      " [ 0.049]]\n",
      "[[9.1]\n",
      " [5.9]\n",
      " [4.6]\n",
      " [6.7]]\n"
     ]
    }
   ],
   "source": [
    "# vector [x, 1]\n",
    "data = np.hstack([areas, np.ones((N,1))])\n",
    "\n",
    " # [w, b]\n",
    "theta = np.array([[-0.34],\n",
    "                  [0.049]])\n",
    "print(data)\n",
    "print(theta)\n",
    "print(prices)"
   ]
  },
  {
   "cell_type": "code",
   "execution_count": 24,
   "id": "0556190e",
   "metadata": {},
   "outputs": [
    {
     "name": "stdout",
     "output_type": "stream",
     "text": [
      "[[1.23758712]\n",
      " [0.32972023]]\n"
     ]
    }
   ],
   "source": [
    "# params\n",
    "lr = 0.01\n",
    "epoch_max = 20\n",
    "\n",
    "# logging\n",
    "losses = []\n",
    "\n",
    "for epoch in range(epoch_max):\n",
    "    # get all the samples\n",
    "    x = data\n",
    "    y = prices\n",
    "\n",
    "    # predict y_hat\n",
    "    y_hat = x.dot(theta)\n",
    "\n",
    "    # compute loss\n",
    "    loss = (y_hat-y) * (y_hat-y) # Different with Way 1 is `Way 2 not using numpy function multiply`\n",
    "    losses.append(np.mean(loss))\n",
    "\n",
    "    # compute gradient\n",
    "    k = 2 * (y_hat-y)\n",
    "    gradients = x.T.dot(k) / N\n",
    "\n",
    "    # update weights\n",
    "    theta = theta - lr*gradients\n",
    "\n",
    "print(theta)"
   ]
  },
  {
   "cell_type": "code",
   "execution_count": 25,
   "id": "d9d32687",
   "metadata": {},
   "outputs": [
    {
     "data": {
      "image/png": "[encoded data removed]",
      "text/plain": [
       "<Figure size 640x480 with 1 Axes>"
      ]
     },
     "metadata": {},
     "output_type": "display_data"
    }
   ],
   "source": [
    "plt.plot(losses)\n",
    "plt.xlabel('iteration')\n",
    "plt.ylabel('losses')\n",
    "plt.show()"
   ]
  }
 ],
 "metadata": {
  "colab": {
   "include_colab_link": true,
   "provenance": []
  },
  "kernelspec": {
   "display_name": "ds_env",
   "language": "python",
   "name": "python3"
  },
  "language_info": {
   "codemirror_mode": {
    "name": "ipython",
    "version": 3
   },
   "file_extension": ".py",
   "mimetype": "text/x-python",
   "name": "python",
   "nbconvert_exporter": "python",
   "pygments_lexer": "ipython3",
   "version": "3.11.13"
  }
 },
 "nbformat": 4,
 "nbformat_minor": 5
}
