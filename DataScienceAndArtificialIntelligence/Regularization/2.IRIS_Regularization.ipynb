{
 "cells": [
  {
   "cell_type": "code",
   "execution_count": 13,
   "id": "438ce821",
   "metadata": {},
   "outputs": [
    {
     "name": "stdout",
     "output_type": "stream",
     "text": [
      "[5.1 4.9 4.7 4.6 5. ]\n",
      "[[1.4 0.2]\n",
      " [1.4 0.2]\n",
      " [1.3 0.2]\n",
      " [1.5 0.2]\n",
      " [1.4 0.2]]\n"
     ]
    }
   ],
   "source": [
    "# dataset\n",
    "import numpy as np\n",
    "import matplotlib.pyplot as plt\n",
    "import random\n",
    "from sklearn.model_selection import train_test_split\n",
    "\n",
    "data = np.genfromtxt('iris_regression.csv', delimiter=',', skip_header=1)\n",
    "\n",
    "# get sepal (target)\n",
    "sepal = data[:, 2]\n",
    "print(sepal[:5])\n",
    "\n",
    "# get features\n",
    "features = data [:, :2]\n",
    "print(features[:5])\n",
    "\n",
    "\n",
    "# Split into train and test sets (80% train, 20% test)\n",
    "X_train, X_test, y_train, y_test = train_test_split(features, sepal, test_size=0.2, random_state=42)\n",
    "N_train = len(X_train)"
   ]
  },
  {
   "cell_type": "code",
   "execution_count": null,
   "id": "88d42196",
   "metadata": {},
   "outputs": [],
   "source": []
  },
  {
   "cell_type": "code",
   "execution_count": 33,
   "id": "cc65ed05",
   "metadata": {},
   "outputs": [],
   "source": [
    "# L2 regularization parameter\n",
    "lambda_l2 = 0.03 \n",
    "\n",
    "# compute output and loss\n",
    "def predict(x1, x2, w1, w2, b):\n",
    "    return w1*x1 + w2*x2 + b\n",
    "\n",
    "def compute_loss(y_hat, y, w1, w2, lambda_l2):\n",
    "    return (y_hat - y)**2 + lambda_l2 * (w1**2 + w2**2)\n",
    "\n",
    "# compute gradient\n",
    "def compute_gradient_wi(xi, y, y_hat, wi, lambda_l2):\n",
    "    dl_dwi = 2*xi*(y_hat-y) + 2*lambda_l2*wi\n",
    "    return dl_dwi \n",
    "\n",
    "def compute_gradient_b(y, y_hat):\n",
    "    dl_db = 2*(y_hat-y)\n",
    "    return dl_db\n",
    "\n",
    "# update weights\n",
    "def update_weight_wi(wi, dl_dwi, lr):\n",
    "    wi = wi - lr*dl_dwi\n",
    "    return wi\n",
    "    \n",
    "def update_weight_b(b, dl_db, lr):    \n",
    "    b  = b - lr*dl_db    \n",
    "    return b"
   ]
  },
  {
   "cell_type": "code",
   "execution_count": null,
   "id": "28f3addc",
   "metadata": {},
   "outputs": [],
   "source": []
  },
  {
   "cell_type": "code",
   "execution_count": 34,
   "id": "918b429f",
   "metadata": {},
   "outputs": [
    {
     "name": "stdout",
     "output_type": "stream",
     "text": [
      "5.0 -3.0 0.0\n"
     ]
    }
   ],
   "source": [
    "# initialize model's parameters\n",
    "w1, w2, b = 5.0, -3.0, 0.0\n",
    "print(w1, w2, b)"
   ]
  },
  {
   "cell_type": "code",
   "execution_count": null,
   "id": "8fc8f3b3",
   "metadata": {},
   "outputs": [],
   "source": []
  },
  {
   "cell_type": "code",
   "execution_count": 35,
   "id": "94ea37a5",
   "metadata": {},
   "outputs": [
    {
     "name": "stdout",
     "output_type": "stream",
     "text": [
      "2.264920305436631 -0.4925703257969943 1.5227187239097226\n"
     ]
    }
   ],
   "source": [
    "epoch_max = 100000\n",
    "lr = 0.01\n",
    "losses = []\n",
    "\n",
    "for epoch in range(epoch_max):    \n",
    "    # some variables\n",
    "    loss_total = 0.0\n",
    "    \n",
    "    dw1_total = 0.0\n",
    "    dw2_total = 0.0\n",
    "    db_total  = 0.0\n",
    "    \n",
    "    for i in range(N_train):\n",
    "        # get a sample\n",
    "        x1 = X_train[i, 0]\n",
    "        x2 = X_train[i, 1]\n",
    "        y  = y_train[i]\n",
    "        \n",
    "        # compute output \n",
    "        y_hat = predict(x1, x2, w1, w2, b)\n",
    "        \n",
    "        # compute loss\n",
    "        loss = compute_loss(y, y_hat, w1, w2, lambda_l2)\n",
    "        loss_total = loss_total + loss\n",
    "\n",
    "        # compute gradient w1, w2, w3, b\n",
    "        dl_dw1 = compute_gradient_wi(x1, y, y_hat, w1, lambda_l2)\n",
    "        dl_dw2 = compute_gradient_wi(x2, y, y_hat, w2, lambda_l2)\n",
    "        dl_db  = compute_gradient_b(y, y_hat)\n",
    "        \n",
    "        # accumulate\n",
    "        dw1_total = dw1_total + dl_dw1\n",
    "        dw2_total = dw2_total + dl_dw2\n",
    "        db_total = db_total + dl_db\n",
    "\n",
    "\n",
    "    # (after processing N samples) - update parameters\n",
    "    w1 = update_weight_wi(w1, dl_dw1/N_train, lr)\n",
    "    w2 = update_weight_wi(w2, dl_dw2/N_train, lr)\n",
    "    b  = update_weight_b(b, dl_db/N_train, lr)\n",
    "\n",
    "    # logging\n",
    "    losses.append(loss_total/N_train) \n",
    "\n",
    "# after training\n",
    "print(w1, w2, b)"
   ]
  },
  {
   "cell_type": "code",
   "execution_count": null,
   "id": "091d717c",
   "metadata": {},
   "outputs": [],
   "source": []
  },
  {
   "cell_type": "code",
   "execution_count": 36,
   "id": "e263c5d5",
   "metadata": {},
   "outputs": [
    {
     "data": {
      "image/png": "[encoded data removed]",
      "text/plain": [
       "<Figure size 640x480 with 1 Axes>"
      ]
     },
     "metadata": {},
     "output_type": "display_data"
    }
   ],
   "source": [
    "plt.plot(losses)\n",
    "plt.show()"
   ]
  },
  {
   "cell_type": "code",
   "execution_count": null,
   "id": "ab9be854",
   "metadata": {},
   "outputs": [],
   "source": []
  },
  {
   "cell_type": "code",
   "execution_count": 37,
   "id": "61cf6593",
   "metadata": {},
   "outputs": [
    {
     "name": "stdout",
     "output_type": "stream",
     "text": [
      "Train MSE: 0.32900680836860535\n",
      "Test MSE: 0.10725133966503453\n"
     ]
    }
   ],
   "source": [
    "# Compute predictions and MSE for train data\n",
    "y_train_pred = []\n",
    "for i in range(N_train):\n",
    "    x1 = X_train[i, 0]\n",
    "    x2 = X_train[i, 1]\n",
    "    y_hat = predict(x1, x2, w1, w2, b)\n",
    "    y_train_pred.append(y_hat)\n",
    "\n",
    "mse_train = np.mean((y_train - np.array(y_train_pred))**2)\n",
    "print(\"Train MSE:\", mse_train)\n",
    "\n",
    "\n",
    "# Compute predictions and MSE for test data\n",
    "y_test_pred = []\n",
    "N_test = len(X_test)\n",
    "for i in range(N_test):\n",
    "    x1 = X_test[:, 0]\n",
    "    x2 = X_test[:, 1]\n",
    "    y_hat = predict(x1, x2, w1, w2, b)\n",
    "    y_test_pred.append(y_hat)\n",
    "\n",
    "mse_test = np.mean((y_test - np.array(y_test_pred))**2)\n",
    "print(\"Test MSE:\", mse_test)"
   ]
  },
  {
   "cell_type": "code",
   "execution_count": null,
   "id": "c61b936b",
   "metadata": {},
   "outputs": [],
   "source": []
  },
  {
   "cell_type": "code",
   "execution_count": null,
   "id": "cafb1c3c",
   "metadata": {},
   "outputs": [],
   "source": []
  },
  {
   "cell_type": "code",
   "execution_count": null,
   "id": "e25efd2d",
   "metadata": {},
   "outputs": [],
   "source": []
  },
  {
   "cell_type": "code",
   "execution_count": null,
   "id": "b9403b33",
   "metadata": {},
   "outputs": [],
   "source": []
  },
  {
   "cell_type": "code",
   "execution_count": null,
   "id": "f5c62e74",
   "metadata": {},
   "outputs": [],
   "source": []
  }
 ],
 "metadata": {
  "kernelspec": {
   "display_name": "torchenv",
   "language": "python",
   "name": "python3"
  },
  "language_info": {
   "codemirror_mode": {
    "name": "ipython",
    "version": 3
   },
   "file_extension": ".py",
   "mimetype": "text/x-python",
   "name": "python",
   "nbconvert_exporter": "python",
   "pygments_lexer": "ipython3",
   "version": "3.12.4"
  }
 },
 "nbformat": 4,
 "nbformat_minor": 5
}
