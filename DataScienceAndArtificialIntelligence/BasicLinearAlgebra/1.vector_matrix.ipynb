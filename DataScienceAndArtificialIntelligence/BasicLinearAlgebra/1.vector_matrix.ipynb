{
 "cells": [
  {
   "cell_type": "markdown",
   "metadata": {},
   "source": [
    "### Phép toán trên mảng(Array Math)"
   ]
  },
  {
   "cell_type": "code",
   "execution_count": 3,
   "metadata": {},
   "outputs": [
    {
     "name": "stdout",
     "output_type": "stream",
     "text": [
      "data x : [1 2 3 4]\n",
      "data y : [5 6 7 8]\n",
      "sum method 1:  [ 6  8 10 12]\n",
      "sum method 2:  [ 6  8 10 12]\n",
      "substract method 1:  [-4 -4 -4 -4]\n",
      "substract method 2:  [-4 -4 -4 -4]\n",
      "multiply method 1:  [ 5 12 21 32]\n",
      "multiply method 2:  [ 5 12 21 32]\n",
      "divide method 1 :  [0.2        0.33333333 0.42857143 0.5       ]\n",
      "divide method 2 :  [0 0 0 0]\n",
      "divide method 3 :  [0.2        0.33333333 0.42857143 0.5       ]\n"
     ]
    }
   ],
   "source": [
    "import numpy as np\n",
    "\n",
    "x = np.array([1,2,3,4])\n",
    "y = np.array([5,6,7,8])\n",
    "\n",
    "print('data x :', x)\n",
    "print('data y :', y)\n",
    "\n",
    "# Tổng của 2 mảng\n",
    "print('sum method 1: ', x + y)\n",
    "print('sum method 2: ', np.add(x, y))\n",
    "\n",
    "print('substract method 1: ', x - y)\n",
    "print('substract method 2: ', np.subtract(x, y))\n",
    "\n",
    "print('multiply method 1: ', x*y)\n",
    "print('multiply method 2: ', np.multiply(x, y))\n",
    "\n",
    "print('divide method 1 : ', x / y)\n",
    "print('divide method 2 : ', x // y)\n",
    "print('divide method 3 : ', np.divide(x, y))"
   ]
  },
  {
   "cell_type": "code",
   "execution_count": 5,
   "metadata": {},
   "outputs": [
    {
     "name": "stdout",
     "output_type": "stream",
     "text": [
      "data:  [1 2 3 4]\n",
      "sqrt :  [1.         1.41421356 1.73205081 2.        ]\n"
     ]
    }
   ],
   "source": [
    "data = np.array([1,2,3,4])\n",
    "\n",
    "print('data: ', data)\n",
    "\n",
    "# Căn bậc 2 từng phần tử trong data\n",
    "print('sqrt : ', np.sqrt(data))"
   ]
  },
  {
   "cell_type": "code",
   "execution_count": 10,
   "metadata": {},
   "outputs": [
    {
     "name": "stdout",
     "output_type": "stream",
     "text": [
      "method 1: 8\n",
      "method 1.1: 8\n",
      "method 2: 8\n"
     ]
    }
   ],
   "source": [
    "v = np.array([1, 2])\n",
    "w = np.array([2, 3])\n",
    "\n",
    "# Tính inner product giữa v và w\n",
    "print('method 1:', v.T.dot(w))\n",
    "print('method 1.1:', v.dot(w))\n",
    "print('method 2:', np.dot(v, w))"
   ]
  },
  {
   "cell_type": "code",
   "execution_count": 9,
   "metadata": {},
   "outputs": [
    {
     "name": "stdout",
     "output_type": "stream",
     "text": [
      "matrix X:\n",
      "  [[1 2]\n",
      " [4 3]]\n",
      "vector v:\n",
      "  [1 2]\n",
      "method 1: X.dot(v): [ 5 10]\n",
      "method 1: v.dot(X): [9 8]\n",
      "method 2: X.dot(v): [ 5 10]\n",
      "method 2: v.dot(X): [9 8]\n"
     ]
    }
   ],
   "source": [
    "X = np.array([[1,2],[4,3]])\n",
    "v = np.array([1,2])\n",
    "\n",
    "print('matrix X:\\n ', X)\n",
    "print('vector v:\\n ', v)\n",
    "\n",
    "# phép nhân giữa ma trận và vector\n",
    "print('method 1: X.dot(v):', X.dot(v))\n",
    "print('method 1: v.dot(X):', v.dot(X))\n",
    "print('method 2: X.dot(v):', np.dot(X, v))\n",
    "print('method 2: v.dot(X):', np.dot(v, X))"
   ]
  },
  {
   "cell_type": "code",
   "execution_count": 11,
   "metadata": {},
   "outputs": [
    {
     "name": "stdout",
     "output_type": "stream",
     "text": [
      " matrix X \n",
      " [[1 2]\n",
      " [4 3]]\n",
      "\n",
      " matrix Y \n",
      " [[2 3]\n",
      " [2 1]]\n",
      "\n",
      " method 1 \n",
      " [[ 6  5]\n",
      " [14 15]]\n",
      "\n",
      " method 2 \n",
      " [[ 6  5]\n",
      " [14 15]]\n"
     ]
    }
   ],
   "source": [
    "X = np.array([[1,2],[4,3]])\n",
    "Y = np.array([[2,3],[2,1]])\n",
    "\n",
    "print(' matrix X \\n', X)\n",
    "print('\\n matrix Y \\n', Y)\n",
    "\n",
    "# Phép nhân giữa hai ma trận\n",
    "print('\\n method 1 \\n', X.dot(Y))\n",
    "print('\\n method 2 \\n', np.dot(X, Y))"
   ]
  },
  {
   "cell_type": "markdown",
   "metadata": {},
   "source": [
    "### sum"
   ]
  },
  {
   "cell_type": "code",
   "execution_count": null,
   "metadata": {},
   "outputs": [
    {
     "name": "stdout",
     "output_type": "stream",
     "text": [
      "10\n",
      "[4 6]\n",
      "[3 7]\n"
     ]
    }
   ],
   "source": [
    "X = np.array([[1,2],\n",
    "              [3,4]])\n",
    "\n",
    "# Tổng các phần tử của mảng\n",
    "print(np.sum(X))\n",
    "\n",
    " # Tính tổng theo từng cột\n",
    "print(np.sum(X, axis=0))\n",
    "\n",
    "# Tính tổng theo từng dòng\n",
    "print(np.sum(X, axis=1))\n"
   ]
  },
  {
   "cell_type": "code",
   "execution_count": null,
   "metadata": {},
   "outputs": [
    {
     "name": "stdout",
     "output_type": "stream",
     "text": [
      "[[1 2]\n",
      " [3 4]]\n",
      "[[1 3]\n",
      " [2 4]]\n"
     ]
    }
   ],
   "source": [
    "X = np.array([[1,2],\n",
    "              [3,4]])\n",
    "print(X)\n",
    "\n",
    "#chuyển vị\n",
    "print(X.T)"
   ]
  },
  {
   "cell_type": "markdown",
   "metadata": {},
   "source": [
    "### argmin and argmax"
   ]
  },
  {
   "cell_type": "code",
   "execution_count": 14,
   "metadata": {},
   "outputs": [
    {
     "name": "stdout",
     "output_type": "stream",
     "text": [
      "2\n",
      "1\n"
     ]
    }
   ],
   "source": [
    "import numpy as np\n",
    "x = np.array([4, 7, 1, 5])\n",
    "result_argmin = np.argmin(x)\n",
    "x = np.array([4, 7, 1, 5])\n",
    "result_argmax= np.argmax(x)\n",
    "print(result_argmin)\n",
    "print(result_argmax)"
   ]
  },
  {
   "cell_type": "markdown",
   "metadata": {},
   "source": [
    "### min and max"
   ]
  },
  {
   "cell_type": "code",
   "execution_count": null,
   "metadata": {},
   "outputs": [
    {
     "name": "stdout",
     "output_type": "stream",
     "text": [
      "30\n"
     ]
    }
   ],
   "source": []
  },
  {
   "cell_type": "markdown",
   "metadata": {},
   "source": [
    "### sum and average"
   ]
  },
  {
   "cell_type": "code",
   "execution_count": 17,
   "metadata": {},
   "outputs": [
    {
     "name": "stdout",
     "output_type": "stream",
     "text": [
      "5.0\n"
     ]
    }
   ],
   "source": [
    "import numpy as np\n",
    "\n",
    "x = np.array([6, 5, 7, 1, 9, 2])\n",
    "result = np.mean(x)\n",
    "print(result)"
   ]
  },
  {
   "cell_type": "code",
   "execution_count": 16,
   "metadata": {},
   "outputs": [
    {
     "name": "stdout",
     "output_type": "stream",
     "text": [
      "30\n"
     ]
    }
   ],
   "source": [
    "x = np.array([6, 5, 7, 1, 9, 2])\n",
    "result = np.sum(x)\n",
    "print(result)"
   ]
  }
 ],
 "metadata": {
  "kernelspec": {
   "display_name": "ds_env",
   "language": "python",
   "name": "python3"
  },
  "language_info": {
   "codemirror_mode": {
    "name": "ipython",
    "version": 3
   },
   "file_extension": ".py",
   "mimetype": "text/x-python",
   "name": "python",
   "nbconvert_exporter": "python",
   "pygments_lexer": "ipython3",
   "version": "3.11.13"
  }
 },
 "nbformat": 4,
 "nbformat_minor": 2
}
