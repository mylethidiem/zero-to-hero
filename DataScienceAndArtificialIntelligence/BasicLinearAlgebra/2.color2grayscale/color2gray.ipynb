{
 "cells": [
  {
   "cell_type": "code",
   "execution_count": 2,
   "metadata": {},
   "outputs": [
    {
     "data": {
      "text/plain": [
       "True"
      ]
     },
     "execution_count": 2,
     "metadata": {},
     "output_type": "execute_result"
    }
   ],
   "source": [
    "import cv2\n",
    "import numpy as np\n",
    "\n",
    "img = cv2.imread('nature.png', flags=cv2.IMREAD_COLOR)#1\n",
    "transform = np.array([0.072, 0.715, 0.213])\n",
    "\n",
    "output = img.dot(transform)\n",
    "cv2.imwrite('nature_grayscale_1.jpg', output)"
   ]
  },
  {
   "cell_type": "code",
   "execution_count": 3,
   "metadata": {},
   "outputs": [
    {
     "data": {
      "text/plain": [
       "True"
      ]
     },
     "execution_count": 3,
     "metadata": {},
     "output_type": "execute_result"
    }
   ],
   "source": [
    "import cv2\n",
    "import numpy as np\n",
    "\n",
    "img = cv2.imread('nature.png', flags=cv2.IMREAD_COLOR)#1\n",
    "# what this array? [0.072, 0.715, 0.213]\n",
    "transform = np.array([0.072, 0.715, 0.213])\n",
    "# @ symbol is the infix operator for matrix multiplication\n",
    "output = img@transform\n",
    "cv2.imwrite('nature_grayscale_2.jpg', output)"
   ]
  },
  {
   "cell_type": "code",
   "execution_count": null,
   "metadata": {},
   "outputs": [
    {
     "data": {
      "text/plain": [
       "True"
      ]
     },
     "execution_count": 4,
     "metadata": {},
     "output_type": "execute_result"
    }
   ],
   "source": [
    "import cv2\n",
    "import numpy as np\n",
    "\n",
    "img = cv2.imread('nature.png', flags=cv2.IMREAD_COLOR)#1\n",
    "#luminosity coefficients used to convert a color image to grayscale\n",
    "# 0.072 for the Blue channel\n",
    "# 0.715 for the Green channel\n",
    "# 0.213 for the Red channel\n",
    "# Grayscale = (Blue * 0.072) + (Green * 0.715) + (Red * 0.213)\n",
    "transform = np.array([0.072, 0.715, 0.213])\n",
    "\n",
    "output = np.einsum('ijk,k->ij',\n",
    "                    img,\n",
    "                    transform)\n",
    "# 'ijk,k->ij':a mini-language that tells einsum exactly what to do\n",
    "# input: ijk, k\n",
    "# ijk: first input img, (i,j,k) represets for (height,width, color channel)\n",
    "# k: transform, 1D array\n",
    "# ij: output array, 2D array, with axes corresponding to i(Height) and j(Width) from the input\n",
    "# multiply the elements along the k axis and then sum them up, effectively collapsing that dimension.\n",
    "# this einsum operation is performing a dot product for each pixel between its color vector and the transform vector.\n",
    "# output[i, j] = img[i, j, 0]*transform[0] + img[i, j, 1]*transform[1] + img[i, j, 2]*transform[2]\n",
    "# output_pixel = (Blue_value * 0.072) + (Green_value * 0.715) + (Red_value * 0.213)\n",
    "cv2.imwrite('nature_grayscale_3.jpg', output)"
   ]
  }
 ],
 "metadata": {
  "kernelspec": {
   "display_name": "ds_env",
   "language": "python",
   "name": "python3"
  },
  "language_info": {
   "codemirror_mode": {
    "name": "ipython",
    "version": 3
   },
   "file_extension": ".py",
   "mimetype": "text/x-python",
   "name": "python",
   "nbconvert_exporter": "python",
   "pygments_lexer": "ipython3",
   "version": "3.11.13"
  }
 },
 "nbformat": 4,
 "nbformat_minor": 2
}
