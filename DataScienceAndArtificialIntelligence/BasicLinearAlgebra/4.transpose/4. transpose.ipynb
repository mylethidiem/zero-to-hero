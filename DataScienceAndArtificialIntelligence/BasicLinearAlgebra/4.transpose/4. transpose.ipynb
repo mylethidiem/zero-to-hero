{
 "cells": [
  {
   "cell_type": "code",
   "execution_count": 2,
   "metadata": {},
   "outputs": [],
   "source": [
    "import cv2\n",
    "import numpy as np"
   ]
  },
  {
   "cell_type": "code",
   "execution_count": null,
   "metadata": {},
   "outputs": [
    {
     "name": "stdout",
     "output_type": "stream",
     "text": [
      "(162, 311)\n",
      "(311, 162)\n"
     ]
    },
    {
     "data": {
      "text/plain": [
       "True"
      ]
     },
     "execution_count": 3,
     "metadata": {},
     "output_type": "execute_result"
    }
   ],
   "source": [
    "# Read the image\n",
    "image = cv2.imread('image_grayscale.png', cv2.IMREAD_GRAYSCALE)\n",
    "print(image.shape)\n",
    "\n",
    "image = image.T\n",
    "print(image.shape)\n",
    "\n",
    "cv2.imwrite('output1.png', image)"
   ]
  },
  {
   "cell_type": "code",
   "execution_count": 4,
   "metadata": {},
   "outputs": [
    {
     "name": "stdout",
     "output_type": "stream",
     "text": [
      "(162, 311, 3)\n",
      "(3, 311, 162)\n"
     ]
    }
   ],
   "source": [
    "image = cv2.imread('image_color.png', cv2.IMREAD_COLOR)\n",
    "print(image.shape)\n",
    "\n",
    "image = image.T\n",
    "print(image.shape)"
   ]
  },
  {
   "cell_type": "code",
   "execution_count": null,
   "metadata": {},
   "outputs": [
    {
     "data": {
      "text/plain": [
       "True"
      ]
     },
     "execution_count": 6,
     "metadata": {},
     "output_type": "execute_result"
    }
   ],
   "source": [
    "# Read the image\n",
    "image = cv2.imread('image_color.png', cv2.IMREAD_COLOR)\n",
    "image = np.transpose(image, axes=(1, 0, 2))\n",
    "# (1, 0, 2)\n",
    "# The axes=(1, 0, 2) tuple provides a new order for these dimensions:\n",
    "# The new axis 0 will be the original axis 1 (the Width).\n",
    "# The new axis 1 will be the original axis 0 (the Height).\n",
    "# The new axis 2 will remain the original axis 2 (the Channels).\n",
    "\n",
    "cv2.imwrite('output2.png', image)"
   ]
  },
  {
   "cell_type": "code",
   "execution_count": null,
   "metadata": {},
   "outputs": [],
   "source": []
  }
 ],
 "metadata": {
  "kernelspec": {
   "display_name": "ds_env",
   "language": "python",
   "name": "python3"
  },
  "language_info": {
   "codemirror_mode": {
    "name": "ipython",
    "version": 3
   },
   "file_extension": ".py",
   "mimetype": "text/x-python",
   "name": "python",
   "nbconvert_exporter": "python",
   "pygments_lexer": "ipython3",
   "version": "3.11.13"
  }
 },
 "nbformat": 4,
 "nbformat_minor": 2
}
