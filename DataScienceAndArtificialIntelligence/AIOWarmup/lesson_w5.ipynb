{
  "cells": [
    {
      "cell_type": "markdown",
      "metadata": {
        "id": "epqIX4k0VSAA"
      },
      "source": [
        "# **Lesson W5**"
      ]
    },
    {
      "cell_type": "markdown",
      "metadata": {
        "id": "8ARGaVTG08pf"
      },
      "source": [
        "## **Basic concept**"
      ]
    },
    {
      "cell_type": "markdown",
      "metadata": {
        "id": "Wqhj1JBF2HKd"
      },
      "source": [
        "content"
      ]
    }
  ],
  "metadata": {
    "colab": {
      "include_colab_link": true,
      "provenance": []
    },
    "kernelspec": {
      "display_name": "Python 3",
      "name": "python3"
    },
    "language_info": {
      "name": "python"
    }
  },
  "nbformat": 4,
  "nbformat_minor": 0
}
