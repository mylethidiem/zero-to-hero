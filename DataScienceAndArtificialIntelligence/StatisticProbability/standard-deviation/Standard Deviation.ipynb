{
 "cells": [
  {
   "cell_type": "code",
   "execution_count": 1,
   "metadata": {},
   "outputs": [
    {
     "name": "stdout",
     "output_type": "stream",
     "text": [
      "2.0\n",
      "1.4142135623730951\n"
     ]
    }
   ],
   "source": [
    "import numpy as np\n",
    "\n",
    "x = np.array([5, 3, 6, 7, 4])\n",
    "\n",
    "var = (x - x.mean())**2\n",
    "var = np.mean(var)\n",
    "print(var)\n",
    "\n",
    "sdv = np.sqrt(var)\n",
    "print(sdv)"
   ]
  },
  {
   "cell_type": "code",
   "execution_count": null,
   "metadata": {},
   "outputs": [],
   "source": []
  },
  {
   "cell_type": "code",
   "execution_count": 2,
   "metadata": {},
   "outputs": [
    {
     "name": "stdout",
     "output_type": "stream",
     "text": [
      "5.0\n",
      "2.0\n"
     ]
    }
   ],
   "source": [
    "import numpy as np\n",
    "\n",
    "x = np.array([5, 3, 6, 7, 4])\n",
    "\n",
    "print(x.mean())\n",
    "print(x.var())"
   ]
  },
  {
   "cell_type": "code",
   "execution_count": null,
   "metadata": {},
   "outputs": [],
   "source": []
  },
  {
   "cell_type": "code",
   "execution_count": null,
   "metadata": {},
   "outputs": [],
   "source": [
    "import numpy as np\n",
    "import cv2\n",
    "import math\n",
    "from scipy.ndimage.filters import generic_filter\n",
    "\n",
    "img_gray  = cv2.imread('img.jpg', 0)\n",
    "cv2.imwrite('img_gray.jpg', img_gray)\n",
    "\n",
    "x = img_gray.astype('float')\n",
    "texture = generic_filter(x, np.std, size=7)\n",
    "\n",
    "cv2.imwrite('texture.jpg', texture)"
   ]
  },
  {
   "cell_type": "code",
   "execution_count": null,
   "metadata": {},
   "outputs": [],
   "source": [
    "print(type(texture))"
   ]
  },
  {
   "cell_type": "code",
   "execution_count": null,
   "metadata": {},
   "outputs": [],
   "source": [
    "np.min(texture)"
   ]
  },
  {
   "cell_type": "code",
   "execution_count": null,
   "metadata": {},
   "outputs": [],
   "source": [
    "np.max(texture)"
   ]
  },
  {
   "cell_type": "code",
   "execution_count": null,
   "metadata": {},
   "outputs": [],
   "source": [
    "cv2.imwrite('texture_20.jpg', texture*2.0)"
   ]
  },
  {
   "cell_type": "code",
   "execution_count": null,
   "metadata": {},
   "outputs": [],
   "source": []
  },
  {
   "cell_type": "code",
   "execution_count": null,
   "metadata": {},
   "outputs": [],
   "source": [
    "import numpy as np\n",
    "import cv2\n",
    "import math\n",
    "from scipy.ndimage.filters import generic_filter\n",
    "\n",
    "img  = cv2.imread('img.jpg')\n",
    "gray = cv2.cvtColor(img, cv2.COLOR_BGR2GRAY)\n",
    "cv2.imwrite('edge_s1.jpg', gray)\n",
    "\n",
    "x = gray.astype('float')\n",
    "x_filt = generic_filter(x, np.std, size=7)\n",
    "cv2.imwrite('edge_s2.jpg', x_filt)\n",
    "\n",
    "x_filt[x_filt < 20] = 0\n",
    "cv2.imwrite('edge_s3.jpg', x_filt)\n",
    "\n",
    "maxv = np.max(x_filt)\n",
    "print(maxv)\n",
    "\n",
    "x_filt = x_filt*2.5\n",
    "cv2.imwrite('edge_s4.jpg', x_filt)"
   ]
  },
  {
   "cell_type": "code",
   "execution_count": null,
   "metadata": {},
   "outputs": [],
   "source": [
    "# plot a line\n",
    "\n",
    "import matplotlib.pyplot as plt\n",
    "\n",
    "plt.plot(gray[100])\n",
    "plt.ylabel('some numbers')\n",
    "plt.show()"
   ]
  },
  {
   "cell_type": "code",
   "execution_count": null,
   "metadata": {},
   "outputs": [],
   "source": [
    "# plot a line\n",
    "\n",
    "import matplotlib.pyplot as plt\n",
    "\n",
    "plt.plot(x_filt[100])\n",
    "plt.ylabel('some numbers')\n",
    "plt.show()"
   ]
  },
  {
   "cell_type": "code",
   "execution_count": null,
   "metadata": {},
   "outputs": [],
   "source": []
  },
  {
   "cell_type": "code",
   "execution_count": null,
   "metadata": {},
   "outputs": [],
   "source": []
  },
  {
   "cell_type": "code",
   "execution_count": null,
   "metadata": {},
   "outputs": [],
   "source": [
    "import numpy as np\n",
    "import cv2\n",
    "import math\n",
    "import matplotlib.pyplot as plt\n",
    "\n",
    "img  = cv2.imread('img.jpg')\n",
    "gray = cv2.cvtColor(img, cv2.COLOR_BGR2GRAY)\n",
    "\n",
    "plt.plot(gray[100])\n",
    "plt.ylabel('some numbers')\n",
    "plt.show()"
   ]
  },
  {
   "cell_type": "code",
   "execution_count": null,
   "metadata": {},
   "outputs": [],
   "source": [
    "import numpy as np\n",
    "import cv2\n",
    "import matplotlib.pyplot as plt\n",
    "from mpl_toolkits.mplot3d import Axes3D\n",
    "from matplotlib import cm\n",
    "\n",
    "img  = cv2.imread('region_textureless.jpg', 0)\n",
    "\n",
    "# create the x and y coordinate arrays (here we just use pixel indices)\n",
    "xx, yy = np.mgrid[0:img.shape[0], 0:img.shape[1]]\n",
    "\n",
    "# create the figure\n",
    "fig = plt.figure()\n",
    "ax = fig.gca(projection='3d')\n",
    "ax.plot_surface(xx, yy, img ,rstride=1, cstride=1, cmap=cm.coolwarm, linewidth=0)\n",
    "ax.set_zlim([0, 255])\n",
    "\n",
    "# show it\n",
    "plt.show()"
   ]
  },
  {
   "cell_type": "code",
   "execution_count": null,
   "metadata": {},
   "outputs": [],
   "source": [
    "import numpy as np\n",
    "import cv2\n",
    "import matplotlib.pyplot as plt\n",
    "from mpl_toolkits.mplot3d import Axes3D\n",
    "from matplotlib import cm\n",
    "\n",
    "img  = cv2.imread('region_texture.jpg', 0)\n",
    "\n",
    "# create the x and y coordinate arrays (here we just use pixel indices)\n",
    "xx, yy = np.mgrid[0:img.shape[0], 0:img.shape[1]]\n",
    "\n",
    "# create the figure\n",
    "fig = plt.figure()\n",
    "ax = fig.gca(projection='3d')\n",
    "ax.plot_surface(xx, yy, img ,rstride=1, cstride=1, cmap=cm.coolwarm, linewidth=0)\n",
    "ax.set_zlim([0, 255])\n",
    "# show it\n",
    "plt.show()"
   ]
  },
  {
   "cell_type": "code",
   "execution_count": null,
   "metadata": {},
   "outputs": [],
   "source": []
  }
 ],
 "metadata": {
  "kernelspec": {
   "display_name": "Python 3 (ipykernel)",
   "language": "python",
   "name": "python3"
  },
  "language_info": {
   "codemirror_mode": {
    "name": "ipython",
    "version": 3
   },
   "file_extension": ".py",
   "mimetype": "text/x-python",
   "name": "python",
   "nbconvert_exporter": "python",
   "pygments_lexer": "ipython3",
   "version": "3.11.4"
  }
 },
 "nbformat": 4,
 "nbformat_minor": 2
}
